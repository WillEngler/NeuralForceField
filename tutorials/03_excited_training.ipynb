{
 "cells": [
  {
   "cell_type": "markdown",
   "metadata": {},
   "source": [
    "# Neural Force Field for Excited States"
   ]
  },
  {
   "cell_type": "markdown",
   "metadata": {},
   "source": [
    "This Jupyter Notebook contains an example of how to train a neural force field on two electronic states."
   ]
  },
  {
   "cell_type": "markdown",
   "metadata": {},
   "source": [
    "We first import all dependencies for this tutorial."
   ]
  },
  {
   "cell_type": "code",
   "execution_count": 1,
   "metadata": {},
   "outputs": [],
   "source": [
    "import sys\n",
    "sys.path.append(\"../..\")\n",
    "sys.path.append(\"..\")\n",
    "\n",
    "import os\n",
    "import shutil\n",
    "import numpy as np\n",
    "import matplotlib.pyplot as plt\n",
    "\n",
    "import torch\n",
    "from torch.optim import Adam\n",
    "from torch.utils.data import DataLoader\n",
    "\n",
    "\n",
    "from nff.data import Dataset, split_train_validation_test\n",
    "import pickle\n",
    "from nff.data.loader import collate_dicts\n",
    "\n",
    "from nff.train import Trainer, get_trainer, get_model, loss, hooks, metrics, evaluate\n"
   ]
  },
  {
   "cell_type": "markdown",
   "metadata": {},
   "source": [
    "We now set some parameters, including the output director and the GPU. We also can set the `DIABATIC` to true or false. If true, the neural network will produce three elements of the Hamiltonian and diagonalize it to give the adiabatic energies. If false, the neural network will simply produce the two adiabatic energies.\n",
    "\n",
    "We also can choose whether to sort the outputted energies or not by setting `SORTED`. The ground state should always be lower in energy than the excited state, so we might want to enforce that by having torch always sort the outputs."
   ]
  },
  {
   "cell_type": "code",
   "execution_count": 2,
   "metadata": {},
   "outputs": [],
   "source": [
    "DIABATIC = False\n",
    "SORTED = False\n",
    "\n",
    "DEVICE = 0\n",
    "OUTDIR = './sandbox'\n",
    "\n",
    "if os.path.exists(OUTDIR):\n",
    "    newpath = os.path.join(os.path.dirname(OUTDIR), 'backup')\n",
    "    if os.path.exists(newpath):\n",
    "        shutil.rmtree(newpath)\n",
    "        \n",
    "    shutil.move(OUTDIR, newpath)\n",
    "    "
   ]
  },
  {
   "cell_type": "markdown",
   "metadata": {},
   "source": [
    "## Loading the relevant data"
   ]
  },
  {
   "cell_type": "markdown",
   "metadata": {},
   "source": [
    "We can load the dataset in the regular way, from the example file `switch_demonstration.pth.tar`. This dataset contains a sample surface-hopping trajectory of the photoswitch fluoro-azobenzene. After loading the dataset we split it into training, validation and test sets."
   ]
  },
  {
   "cell_type": "code",
   "execution_count": 3,
   "metadata": {},
   "outputs": [],
   "source": [
    "dataset = Dataset.from_file(\"data/switch_demonstration.pth.tar\")\n",
    "train, val, test = split_train_validation_test(dataset, val_size=0.2, test_size=0.2)"
   ]
  },
  {
   "cell_type": "code",
   "execution_count": 4,
   "metadata": {},
   "outputs": [],
   "source": [
    "train_loader = DataLoader(train, batch_size=50, collate_fn=collate_dicts)\n",
    "val_loader = DataLoader(val, batch_size=50, collate_fn=collate_dicts)\n",
    "test_loader = DataLoader(test, batch_size=50, collate_fn=collate_dicts)\n"
   ]
  },
  {
   "cell_type": "markdown",
   "metadata": {},
   "source": [
    "## Creating a model"
   ]
  },
  {
   "cell_type": "markdown",
   "metadata": {},
   "source": [
    "In NeuralFF we must specify the readout dictionary. This contains information about how the convolutions get turned into outputted properties. We can also specify a function called `post_readout`. This can act on the output of `readoutdict` to generate new properties.\n",
    "\n",
    "In particular, if we set `DIABATIC` to true, then our `readoutdict` outputs diabatic energies 0 and 1, as well as a diabatic coupling lambda. Then our `post_readout` function converts these diabatic quantities to adiabatic energies. Note that we use a small non-zero value `EPS` when computing the square root function below. This is because the derivative of the square root function is undefined when its argument is zero. The `EPS` parameter keeps the argument away from zero. \n",
    "\n",
    "If we set `DIABATIC` to false, then `readoutdict` simply returns the adiabatic energies right away. If we set `SORTED` to true, then `post_readout` will sort the adiabatic energies. This ensures that the excited state always has higher energy than the ground state."
   ]
  },
  {
   "cell_type": "code",
   "execution_count": 5,
   "metadata": {},
   "outputs": [],
   "source": [
    "n_atom_basis = 256\n",
    "EPS = 1e-15\n",
    "\n",
    "\n",
    "if DIABATIC:\n",
    "    readoutdict = {\n",
    "                        \"d0\": [{'name': 'linear', 'param' : { 'in_features': n_atom_basis, \n",
    "                                                                  'out_features': int(n_atom_basis / 2)}},\n",
    "                                   {'name': 'shifted_softplus', 'param': {}},\n",
    "                                   {'name': 'linear', 'param' : { 'in_features': int(n_atom_basis / 2), \n",
    "                                                                  'out_features': 1}}],\n",
    "                        \"d1\": [{'name': 'linear', 'param' : { 'in_features': n_atom_basis, \n",
    "                                                                  'out_features': int(n_atom_basis / 2)}},\n",
    "                                   {'name': 'shifted_softplus', 'param': {}},\n",
    "                                   {'name': 'linear', 'param' : { 'in_features': int(n_atom_basis / 2), \n",
    "                                                                  'out_features': 1}}],\n",
    "        \n",
    "                        \"lambda\": [{'name': 'linear', 'param' : { 'in_features': n_atom_basis, \n",
    "                                                                  'out_features': int(n_atom_basis / 2)}},\n",
    "                                   {'name': 'shifted_softplus', 'param': {}},\n",
    "                                   {'name': 'linear', 'param' : { 'in_features': int(n_atom_basis / 2), \n",
    "                                                                  'out_features': 1}}]\n",
    "                    }\n",
    "    \n",
    "    def post_readout(predict_dict, readoutdict):\n",
    "        d0 = predict_dict[\"d0\"]\n",
    "        d1 = predict_dict[\"d1\"]\n",
    "        lam = predict_dict[\"lambda\"]\n",
    "        \n",
    "        e0 = 1.0/2.0*(d0 + d1 - torch.sqrt((d0-d1)**2 + 4*lam**2 + EPS) )\n",
    "        e1 = 1.0/2.0*(d0 + d1 + torch.sqrt((d0-d1)**2 + 4*lam**2 + EPS) )\n",
    "        dic = {\"energy_0\": e0, \"energy_1\": e1, \"energy_d_0\": d0, \"energy_d_1\": d1, \"lambda\": lam}\n",
    "        return dic\n",
    "    \n",
    "else:\n",
    "    \n",
    "    readoutdict = {\n",
    "                        \"energy_0\": [{'name': 'linear', 'param' : { 'in_features': n_atom_basis, \n",
    "                                                                  'out_features': int(n_atom_basis / 2)}},\n",
    "                                   {'name': 'shifted_softplus', 'param': {}},\n",
    "                                   {'name': 'linear', 'param' : { 'in_features': int(n_atom_basis / 2), \n",
    "                                                                  'out_features': 1}}],\n",
    "                        \"energy_1\": [{'name': 'linear', 'param' : { 'in_features': n_atom_basis, \n",
    "                                                                  'out_features': int(n_atom_basis / 2)}},\n",
    "                                   {'name': 'shifted_softplus', 'param': {}},\n",
    "                                   {'name': 'linear', 'param' : { 'in_features': int(n_atom_basis / 2), \n",
    "                                                                  'out_features': 1}}]\n",
    "                    }\n",
    "    \n",
    "\n",
    "    if SORTED:\n",
    "        def post_readout(predict_dict, readoutdict):\n",
    "            sorted_keys = sorted(list(readoutdict.keys()))\n",
    "            sorted_ens = torch.sort(torch.stack([predict_dict[key] for key in sorted_keys]))[0] \n",
    "            sorted_dic = {key: val for key, val in zip(sorted_keys, sorted_ens)}\n",
    "            return sorted_dic\n",
    "    else:\n",
    "        post_readout = None\n",
    "\n",
    "        \n",
    "\n",
    "params = {\n",
    "    'n_atom_basis': n_atom_basis,\n",
    "    'n_filters': 256,\n",
    "    'n_gaussians': 32,\n",
    "    'n_convolutions': 10,\n",
    "    'cutoff': 5.0,\n",
    "    'trainable_gauss': False, \n",
    "    'readoutdict': readoutdict,\n",
    "    'post_readout': post_readout\n",
    "}\n",
    "\n",
    "\n",
    "\n",
    "model = get_model(params)"
   ]
  },
  {
   "cell_type": "markdown",
   "metadata": {},
   "source": [
    "## Creating a trainer"
   ]
  },
  {
   "cell_type": "markdown",
   "metadata": {},
   "source": [
    "We create a trainer and select an optimizer in the usual way:"
   ]
  },
  {
   "cell_type": "code",
   "execution_count": 6,
   "metadata": {},
   "outputs": [],
   "source": [
    "rho_0 = 0.1\n",
    "rho_1 = 0.1\n",
    "\n",
    "loss_coef = {'energy_0': rho_0, 'energy_0_grad': 1, 'energy_1': rho_1, 'energy_1_grad': 1}\n",
    "loss_fn = loss.build_mse_loss(loss_coef=loss_coef)\n",
    "\n",
    "trainable_params = filter(lambda p: p.requires_grad, model.parameters())\n",
    "optimizer = Adam(trainable_params, lr=3e-4)"
   ]
  },
  {
   "cell_type": "markdown",
   "metadata": {},
   "source": [
    "### Metrics and hooks"
   ]
  },
  {
   "cell_type": "markdown",
   "metadata": {},
   "source": [
    "Metrics and hooks are set up in the same way as for one state:"
   ]
  },
  {
   "cell_type": "code",
   "execution_count": 7,
   "metadata": {},
   "outputs": [],
   "source": [
    "train_metrics = [\n",
    "    metrics.MeanAbsoluteError('energy_0'),\n",
    "    metrics.MeanAbsoluteError('energy_0_grad'),\n",
    "    metrics.MeanAbsoluteError('energy_1'),\n",
    "    metrics.MeanAbsoluteError('energy_1_grad'),\n",
    "\n",
    "]"
   ]
  },
  {
   "cell_type": "code",
   "execution_count": 8,
   "metadata": {},
   "outputs": [],
   "source": [
    "train_hooks = [\n",
    "    hooks.MaxEpochHook(1000),\n",
    "    hooks.CSVHook(\n",
    "        OUTDIR,\n",
    "        metrics=train_metrics,\n",
    "    ),\n",
    "    hooks.PrintingHook(\n",
    "        OUTDIR,\n",
    "        metrics=train_metrics,\n",
    "        separator = ' | '\n",
    "    ),\n",
    "    hooks.ReduceLROnPlateauHook(\n",
    "        optimizer=optimizer,\n",
    "        patience=30,\n",
    "        factor=0.5,\n",
    "        min_lr=1e-7,\n",
    "        window_length=1,\n",
    "        stop_after_min=True\n",
    "    )\n",
    "]"
   ]
  },
  {
   "cell_type": "markdown",
   "metadata": {},
   "source": [
    "### Trainer wrapper"
   ]
  },
  {
   "cell_type": "markdown",
   "metadata": {},
   "source": [
    "The training wrapper is the same as usual:"
   ]
  },
  {
   "cell_type": "code",
   "execution_count": 9,
   "metadata": {},
   "outputs": [],
   "source": [
    "T = Trainer(\n",
    "        model_path=OUTDIR,\n",
    "        model=model,\n",
    "        loss_fn=loss_fn,\n",
    "        optimizer=optimizer,\n",
    "        train_loader=train_loader,\n",
    "        validation_loader=val_loader,\n",
    "        checkpoint_interval=1,\n",
    "        hooks=train_hooks\n",
    "    )"
   ]
  },
  {
   "cell_type": "markdown",
   "metadata": {},
   "source": [
    "Now we can finally train the model using the method `train` from the `Trainer`:"
   ]
  },
  {
   "cell_type": "code",
   "execution_count": 10,
   "metadata": {},
   "outputs": [
    {
     "name": "stdout",
     "output_type": "stream",
     "text": [
      "               Time | Epoch | Learning rate | Train loss | Validation loss | MAE_energy_0 | MAE_energy_0_grad | MAE_energy_1 | MAE_energy_1_grad | GPU Memory (MB)\n",
      "2019-11-22 16:13:15 |     1 |     3.000e-04 |     0.0000 |      10776.3057 |     158.4686 |           34.1325 |     142.7089 |           33.8973 |            3350\n",
      "2019-11-22 16:13:16 |     2 |     3.000e-04 |     0.0000 |      10577.7285 |     155.9306 |           33.8110 |     141.2999 |           33.5999 |            3376\n",
      "2019-11-22 16:13:17 |     3 |     3.000e-04 |     0.0000 |      10124.1387 |     151.8660 |           33.4418 |     138.6620 |           33.3093 |            3376\n"
     ]
    }
   ],
   "source": [
    "T.train(device=DEVICE, n_epochs=3)"
   ]
  },
  {
   "cell_type": "markdown",
   "metadata": {},
   "source": [
    "## Evaluating the model on the test set"
   ]
  },
  {
   "cell_type": "markdown",
   "metadata": {},
   "source": [
    "Now we have a brand new model trained and validated. We can use the best model from this training to evaluate its performance on the test set. `results` contains the predictions of properties for the whole test dataset. `targets` contains the ground truth for such data. `test_loss` is the loss, calculated with the same function used during the training part"
   ]
  },
  {
   "cell_type": "code",
   "execution_count": 11,
   "metadata": {},
   "outputs": [],
   "source": [
    "results, targets, val_loss = evaluate(model, test_loader, loss_fn, device=DEVICE)"
   ]
  },
  {
   "cell_type": "markdown",
   "metadata": {},
   "source": [
    "Finally, we can plot our results to observe how well is our model performing:"
   ]
  },
  {
   "cell_type": "code",
   "execution_count": 13,
   "metadata": {},
   "outputs": [
    {
     "data": {
      "image/png": "[encoded data removed]",
      "text/plain": [
       "<Figure size 864x432 with 2 Axes>"
      ]
     },
     "metadata": {
      "needs_background": "light"
     },
     "output_type": "display_data"
    },
    {
     "data": {
      "image/png": "[encoded data removed]",
      "text/plain": [
       "<Figure size 864x432 with 2 Axes>"
      ]
     },
     "metadata": {
      "needs_background": "light"
     },
     "output_type": "display_data"
    }
   ],
   "source": [
    "import pdb\n",
    "\n",
    "units = {\n",
    "    'energy_0_grad': r'kcal/mol/$\\AA$',\n",
    "    'energy_0': 'kcal/mol',\n",
    "    'energy_1_grad': r'kcal/mol/$\\AA$',\n",
    "    'energy_1': 'kcal/mol'\n",
    "}\n",
    "\n",
    "dic_keys = list(loss_coef.keys())\n",
    "\n",
    "for i in range(int(len(dic_keys)/2) ):\n",
    "    \n",
    "    fig, ax_fig = plt.subplots(1, 2, figsize=(12, 6))\n",
    "\n",
    "    for ax, key in zip(ax_fig, dic_keys[2*i:2*i+2] ):\n",
    "\n",
    "        pred = torch.stack(results[key]).reshape(-1).cpu().detach().numpy()\n",
    "        targ = torch.stack(targets[key]).reshape(-1).cpu().detach().numpy()\n",
    "\n",
    "        ax.scatter(pred, targ, color='#ff7f0e', alpha=0.3)\n",
    "\n",
    "        lim_min = min(np.min(pred), np.min(targ)) * 1.1\n",
    "        lim_max = max(np.max(pred), np.max(targ)) * 1.1\n",
    "\n",
    "        ax.set_xlim(lim_min, lim_max)\n",
    "        ax.set_ylim(lim_min, lim_max)\n",
    "        ax.set_aspect('equal')\n",
    "\n",
    "        ax.plot((lim_min, lim_max),\n",
    "                (lim_min, lim_max),\n",
    "                color='#000000',\n",
    "                zorder=-1,\n",
    "                linewidth=0.5)\n",
    "\n",
    "        ax.set_title(key.upper(), fontsize=14)\n",
    "        ax.set_xlabel('predicted %s (%s)' % (key, units[key]), fontsize=12)\n",
    "        ax.set_ylabel('target %s (%s)' % (key, units[key]), fontsize=12)\n",
    "\n",
    "    plt.show()"
   ]
  },
  {
   "cell_type": "markdown",
   "metadata": {},
   "source": [
    "The model isn't doing that well yet because we've only used 100 geometries. It would do better with more!"
   ]
  }
 ],
 "metadata": {
  "kernelspec": {
   "display_name": "Python 3",
   "language": "python",
   "name": "python3"
  },
  "language_info": {
   "codemirror_mode": {
    "name": "ipython",
    "version": 3
   },
   "file_extension": ".py",
   "mimetype": "text/x-python",
   "name": "python",
   "nbconvert_exporter": "python",
   "pygments_lexer": "ipython3",
   "version": "3.7.3"
  }
 },
 "nbformat": 4,
 "nbformat_minor": 2
}
