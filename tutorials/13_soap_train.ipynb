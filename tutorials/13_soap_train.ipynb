{
 "cells": [
  {
   "cell_type": "markdown",
   "metadata": {},
   "source": [
    "# Introduction to Neural Force Field"
   ]
  },
  {
   "cell_type": "markdown",
   "metadata": {},
   "source": [
    "This Jupyter Notebook contains an introduction to the `nff` package. Here, we will load the modules and functions from `nff` to import a dataset, create dataloaders, create a model, train it and check the test stats. We will do most of it manually to illustrate the usage of the API. However, scripts such as the one provided in the `scripts/` folder already automate most of this process."
   ]
  },
  {
   "cell_type": "markdown",
   "metadata": {},
   "source": [
    "After the `nff` package has been installed, we start by importing all dependencies for this tutorial."
   ]
  },
  {
   "cell_type": "code",
   "execution_count": 1,
   "metadata": {},
   "outputs": [],
   "source": [
    "%load_ext autoreload\n",
    "%autoreload 2"
   ]
  },
  {
   "cell_type": "code",
   "execution_count": null,
   "metadata": {},
   "outputs": [],
   "source": []
  },
  {
   "cell_type": "code",
   "execution_count": 2,
   "metadata": {},
   "outputs": [],
   "source": [
    "import sys\n",
    "sys.path.insert(0, \"..\")\n",
    "\n",
    "import os\n",
    "import shutil\n",
    "import numpy as np\n",
    "import matplotlib.pyplot as plt\n",
    "from sklearn.metrics import roc_curve, roc_auc_score, auc, precision_recall_curve\n",
    "\n",
    "\n",
    "import torch\n",
    "from torch.optim import Adam\n",
    "from torch.utils.data import DataLoader\n",
    "\n",
    "from nff.data import (Dataset, split_train_validation_test, \n",
    "                      collate_dicts, to_tensor, ImbalancedDatasetSampler)\n",
    "from nff.train import Trainer, get_trainer, get_model, load_model, loss, hooks, metrics, evaluate\n",
    "\n",
    "from nff.hypopt.data import trim_confs"
   ]
  },
  {
   "cell_type": "markdown",
   "metadata": {},
   "source": [
    "It might also be useful setting the GPU you want to use:"
   ]
  },
  {
   "cell_type": "code",
   "execution_count": null,
   "metadata": {},
   "outputs": [],
   "source": []
  },
  {
   "cell_type": "code",
   "execution_count": 3,
   "metadata": {},
   "outputs": [
    {
     "name": "stdout",
     "output_type": "stream",
     "text": [
      "Loading dataset...\n",
      "Splitting...\n",
      "Saving...\n"
     ]
    }
   ],
   "source": [
    "import random\n",
    "\n",
    "import os\n",
    "base_pth = \"/home/saxelrod/engaging_nfs/data_from_fock/data/covid_data/\"\n",
    "\n",
    "# main_pth = os.path.join(base_pth, \"covid_mmff94_1_voxels.pth.tar\")\n",
    "\n",
    "# main_pth = os.path.join(base_pth, \"covid_mmff94_1_voxels_channels.pth.tar\")\n",
    "\n",
    "# main_pth = os.path.join(base_pth, \"all_crest_voxels.pth.tar\")\n",
    "\n",
    "\n",
    "\n",
    "main_pth = os.path.join(base_pth, \"all_crest_mol_soap.pth.tar\")\n",
    "# main_pth = os.path.join(base_pth, \"all_crest_mol_soap_no_channels.pth.tar\")\n",
    "\n",
    "\n",
    "\n",
    "\n",
    "\n",
    "# suffixes = [\"all_crest_voxels_train.pth.tar\", \"all_crest_voxels_val.pth.tar\", \n",
    "#        \"all_crest_voxels_test.pth.tar\"]\n",
    "\n",
    "\n",
    "# suffixes = [\"covid_mmff94_1_voxels_train.pth.tar\", \"covid_mmff94_1_voxels_val.pth.tar\", \n",
    "#        \"covid_mmff94_1_voxels_test.pth.tar\"]\n",
    "\n",
    "# suffixes = [\"covid_mmff94_1_voxels_train_channels.pth.tar\", \n",
    "#             \"covid_mmff94_1_voxels_val_channels.pth.tar\", \n",
    "#             \"covid_mmff94_1_voxels_test_channels.pth.tar\"]\n",
    "\n",
    "suffixes = [\"all_crest_soap_train.pth.tar\", \n",
    "            \"all_crest_soap_val.pth.tar\", \n",
    "            \"all_crest_soap_test.pth.tar\"]\n",
    "\n",
    "# suffixes = [\"all_crest_soap_train_no_channels.pth.tar\", \n",
    "#             \"all_crest_soap_val_no_channels.pth.tar\", \n",
    "#             \"all_crest_soap_test_no_channels.pth.tar\"]\n",
    "\n",
    "pths = [os.path.join(base_pth, suffix) for suffix in suffixes]\n",
    "\n",
    "\n",
    "\n",
    "# if all([os.path.isfile(file) for file in pths]):\n",
    "#     print(\"Loading from file...\")\n",
    "#     train, val, test = [Dataset.from_file(pth) for pth in pths]\n",
    "#     print(\"Loaded from file.\")\n",
    "# else:\n",
    "\n",
    "print(\"Loading dataset...\")\n",
    "dataset = Dataset.from_file(main_pth)\n",
    "dataset.props['fingerprint'] = torch.Tensor(dataset.props['mol_soap'].numpy())\n",
    "\n",
    "\n",
    "\n",
    "dataset.add_morgan(1000)\n",
    "\n",
    "\n",
    "\n",
    "# # dataset.add_morgan(1000)\n",
    "\n",
    "\n",
    "# # dataset.props[\"voxel\"] = dataset.props[\"fingerprint\"] \n",
    "# # dataset.props.pop(\"fingerprint\")\n",
    "\n",
    "# # bind_idx = dataset.props['bind'].nonzero()\n",
    "# # rand_idx = [i for i in list(range(len(dataset))) if i not in bind_idx]\n",
    "# # rand_idx = random.sample(rand_idx, 5000)\n",
    "# # all_idx = rand_idx + bind_idx.reshape(-1).tolist()\n",
    "# # new_props = {}\n",
    "# # for key, val in dataset.props.items():\n",
    "# #     if type(val) is list:\n",
    "# #         new_props[key] = [val[i] for i in all_idx]\n",
    "# #     else:\n",
    "# #         new_props[key] = val[all_idx]\n",
    "\n",
    "# # new_dataset = Dataset(props=new_props, units=dataset.units)\n",
    "\n",
    "# # train, val, test = split_train_validation_test(new_dataset, binary=True, targ_name='bind')\n",
    "\n",
    "print(\"Splitting...\")\n",
    "train, val, test = split_train_validation_test(dataset, binary=True, targ_name='bind')\n",
    "print(\"Saving...\")\n",
    "for pth, dset in zip(pths, [train, val, test]):\n",
    "    dset.save(pth)\n",
    "\n",
    "# del dataset\n"
   ]
  },
  {
   "cell_type": "code",
   "execution_count": 4,
   "metadata": {},
   "outputs": [],
   "source": [
    "# import json\n",
    "\n",
    "# bind_idx = dataset.props['bind'].nonzero()\n",
    "# bind_smiles = [dataset.props['smiles'][i] for i in bind_idx]\n",
    "# with open(\"bind_smiles.json\", \"w\") as f:\n",
    "#         json.dump(bind_smiles, f)"
   ]
  },
  {
   "cell_type": "code",
   "execution_count": null,
   "metadata": {},
   "outputs": [],
   "source": [
    "\n"
   ]
  },
  {
   "cell_type": "code",
   "execution_count": 87,
   "metadata": {},
   "outputs": [],
   "source": [
    "DEVICE = 0\n",
    "BATCH_SIZE = 50\n",
    "MINI_BATCHES = int(50 / BATCH_SIZE)\n",
    "\n",
    "OUTDIR = './sandbox'\n",
    "\n",
    "if os.path.exists(OUTDIR):\n",
    "    newpath = os.path.join(os.path.dirname(OUTDIR), 'backup')\n",
    "    if os.path.exists(newpath):\n",
    "        shutil.rmtree(newpath)\n",
    "        \n",
    "    shutil.move(OUTDIR, newpath)"
   ]
  },
  {
   "cell_type": "markdown",
   "metadata": {},
   "source": [
    "Create loaders:"
   ]
  },
  {
   "cell_type": "code",
   "execution_count": null,
   "metadata": {},
   "outputs": [],
   "source": []
  },
  {
   "cell_type": "code",
   "execution_count": 88,
   "metadata": {},
   "outputs": [],
   "source": [
    "loaders = []\n",
    "\n",
    "train.props['fingerprint'] = torch.Tensor(torch.stack(train.props['mol_soap']).numpy())\n",
    "test.props['fingerprint'] = torch.Tensor(torch.stack(test.props['mol_soap']).numpy())\n",
    "val.props['fingerprint'] = torch.Tensor(torch.stack(val.props['mol_soap']).numpy())\n",
    "\n",
    "\n",
    "for split in [train, val, test]:\n",
    "    props = split.props\n",
    "    kwargs = {}\n",
    "    if split in [train]:\n",
    "        sampler = ImbalancedDatasetSampler(\n",
    "            target_name=\"bind\",\n",
    "            props=props)\n",
    "        kwargs.update({\"sampler\": sampler})\n",
    "    loader = DataLoader(split, batch_size=BATCH_SIZE, \n",
    "                        collate_fn=collate_dicts,\n",
    "                       **kwargs)\n",
    "    loaders.append(loader)\n",
    "    \n",
    "train_loader, val_loader, test_loader = loaders"
   ]
  },
  {
   "cell_type": "code",
   "execution_count": 89,
   "metadata": {},
   "outputs": [
    {
     "name": "stdout",
     "output_type": "stream",
     "text": [
      "1752\n",
      "1761\n",
      "0.4987190435525192\n"
     ]
    }
   ],
   "source": [
    "import pdb\n",
    "\n",
    "num_bind = 0\n",
    "num_non_bind = 0\n",
    "\n",
    "for batch in train_loader:\n",
    "    bind = batch['bind'].sum()\n",
    "    non_bind = len(batch['bind']) - bind\n",
    "\n",
    "    num_bind += bind.item()\n",
    "    num_non_bind += non_bind.item()\n",
    "\n",
    "print(num_bind)\n",
    "print(num_non_bind)\n",
    "print(num_bind / (num_bind + num_non_bind))\n"
   ]
  },
  {
   "cell_type": "markdown",
   "metadata": {},
   "source": [
    "`nff` is based on SchNet. It parameterizes interatomic interactions in molecules and materials through a series of convolution layers with continuous filters. Here, we are going to create a simple model using the hyperparameters given on `params`:"
   ]
  },
  {
   "cell_type": "code",
   "execution_count": null,
   "metadata": {},
   "outputs": [],
   "source": []
  },
  {
   "cell_type": "code",
   "execution_count": 90,
   "metadata": {},
   "outputs": [],
   "source": [
    "#  next(iter(train_loader))[\"atom_features\"].shape"
   ]
  },
  {
   "cell_type": "code",
   "execution_count": 91,
   "metadata": {},
   "outputs": [],
   "source": [
    "# next(iter(train_loader))[\"atom_features\"].shape[-1]"
   ]
  },
  {
   "cell_type": "code",
   "execution_count": null,
   "metadata": {},
   "outputs": [],
   "source": []
  },
  {
   "cell_type": "code",
   "execution_count": 92,
   "metadata": {},
   "outputs": [],
   "source": [
    "\n",
    "morgan_len = 1000\n",
    "# n_mol_basis  = morgan_len\n",
    "# n_mol_basis  = train.props['fingerprint'][0].shape[0] + morgan_len\n",
    "n_mol_basis  = train.props['mol_soap'][0].shape[0] \n",
    "\n",
    "\n",
    "\n",
    "\n",
    "n_atom_basis = 1\n",
    "n_bond_features = 1\n",
    "\n",
    "n_bond_hidden = 300\n",
    "\n",
    "n_filters = 30\n",
    "\n",
    "n_gaussians = 10\n",
    "n_edge_hidden = n_bond_hidden + n_filters\n",
    "\n",
    "\n",
    "mol_fp_drop = 0.0\n",
    "schnet_dropout = 0.5\n",
    "cp_dropout = 0.0\n",
    "readout_drop = 0.5\n",
    "n_convolutions = 2\n",
    "\n",
    "\n",
    "input_layers = [{'name': 'linear', 'param': {'in_features': n_bond_features + n_atom_basis,\n",
    "                                         'out_features': n_bond_hidden}},\n",
    "            {'name': 'ReLU', 'param': {}}]\n",
    "\n",
    "output_layers = [{'name': 'linear', 'param': {'in_features': n_atom_basis + n_edge_hidden,\n",
    "                                         'out_features': n_mol_basis}},\n",
    "                {'name': 'ReLU', 'param': {}}]\n",
    "\n",
    "readoutdict = {'bind': [\n",
    "            {'name': 'linear', 'param' : { 'in_features': n_mol_basis, 'out_features': int(n_mol_basis / 2)}},\n",
    "            {'name': 'ReLU', 'param': {}},\n",
    "            {'name': 'Dropout', 'param': {'p': readout_drop}},\n",
    "            {'name': 'linear', 'param' : { 'in_features': int(n_mol_basis / 2), 'out_features': 1}},\n",
    "            {'name': 'sigmoid', 'param': {}},\n",
    "        ]\n",
    "    }\n",
    "\n",
    "\n",
    "mol_fp_layers = []\n",
    "\n",
    "\n",
    "\n",
    "params = {\n",
    "    'n_atom_basis': n_atom_basis,\n",
    "    'n_bond_hidden': n_bond_hidden,\n",
    "    'input_layers': input_layers,\n",
    "    'output_layers': output_layers,\n",
    "    'n_filters': n_filters,\n",
    "    'n_gaussians': n_gaussians,\n",
    "    'cp_dropout': cp_dropout,\n",
    "    'schnet_dropout': schnet_dropout,\n",
    "    'gauss_embed': True,\n",
    "    'n_convolutions': n_convolutions,\n",
    "    'cutoff': 5.0,\n",
    "    'trainable_gauss': True,\n",
    "    'dropout_rate': schnet_dropout,\n",
    "    'readoutdict': readoutdict,\n",
    "    'boltzmann_dict': {'type': 'multiply'},\n",
    "    'mol_fp_layers': mol_fp_layers,\n",
    "    'same_filters': True,\n",
    "    'activation': 'ReLU',\n",
    "    'batch_embeddings': True,\n",
    "#     \"extra_features\": [{\"name\": \"morgan\", \"length\": 1000}]\n",
    "\n",
    "\n",
    "    \n",
    "}\n",
    "\n",
    "\n",
    "\n",
    "model = get_model(params, model_type=\"SchNetFeatures\")"
   ]
  },
  {
   "cell_type": "code",
   "execution_count": 93,
   "metadata": {},
   "outputs": [],
   "source": [
    "delattr(model, \"convolutions\")\n",
    "delattr(model, \"mol_fp_nn\")\n",
    "delattr(model, \"W_i\")\n",
    "delattr(model, \"W_o\")"
   ]
  },
  {
   "cell_type": "markdown",
   "metadata": {},
   "source": [
    "## Creating a trainer"
   ]
  },
  {
   "cell_type": "code",
   "execution_count": 94,
   "metadata": {},
   "outputs": [
    {
     "data": {
      "text/plain": [
       "SchNetFeatures(\n",
       "  (readout): NodeMultiTaskReadOut(\n",
       "    (readout): ModuleDict(\n",
       "      (bind): Sequential(\n",
       "        (linear0): Linear(in_features=5460, out_features=2730, bias=True)\n",
       "        (ReLU1): ReLU()\n",
       "        (Dropout2): Dropout(p=0.5, inplace=False)\n",
       "        (linear3): Linear(in_features=2730, out_features=1, bias=True)\n",
       "        (sigmoid4): Sigmoid()\n",
       "      )\n",
       "    )\n",
       "  )\n",
       ")"
      ]
     },
     "execution_count": 94,
     "metadata": {},
     "output_type": "execute_result"
    }
   ],
   "source": [
    "model"
   ]
  },
  {
   "cell_type": "markdown",
   "metadata": {},
   "source": [
    "To train our model with the data provided, we have to create a loss function. The easiest way to do that is through the `build_mse_loss` builder. Its argument `rho` is a parameter that will multiply the mean square error (MSE) of the force components before summing it with the MSE of the energy."
   ]
  },
  {
   "cell_type": "code",
   "execution_count": 95,
   "metadata": {},
   "outputs": [],
   "source": [
    "loss_fn = loss.build_cross_entropy_loss(loss_coef={'bind': 1})"
   ]
  },
  {
   "cell_type": "markdown",
   "metadata": {},
   "source": [
    "We should also select an optimizer for our recently created model:"
   ]
  },
  {
   "cell_type": "code",
   "execution_count": 96,
   "metadata": {},
   "outputs": [],
   "source": [
    "trainable_params = filter(lambda p: p.requires_grad, model.parameters())\n",
    "optimizer = Adam(trainable_params, lr=1e-4)"
   ]
  },
  {
   "cell_type": "markdown",
   "metadata": {},
   "source": [
    "### Metrics and hooks"
   ]
  },
  {
   "cell_type": "markdown",
   "metadata": {},
   "source": [
    "If we want to monitor the progress of our training, say by looking at the mean absolute error (MAE) of energies and forces, we can simply create metrics to observe them:"
   ]
  },
  {
   "cell_type": "code",
   "execution_count": null,
   "metadata": {},
   "outputs": [],
   "source": [
    "\n"
   ]
  },
  {
   "cell_type": "code",
   "execution_count": 97,
   "metadata": {},
   "outputs": [],
   "source": [
    "train_metrics = [\n",
    "    metrics.RocAuc('bind'),\n",
    "    metrics.PrAuc('bind')\n",
    "]"
   ]
  },
  {
   "cell_type": "markdown",
   "metadata": {},
   "source": [
    "Furthermore, if we want to customize how our training procedure is done, we can use hooks which can interrupt or change the train automatically.\n",
    "\n",
    "In our case, we are adding hooks to:\n",
    "* Stop the training procedure after 100 epochs;\n",
    "* Log the training on a machine-readable CSV file under the directory `./sandbox`;\n",
    "* Print the progress on the screen with custom formatting; and\n",
    "* Setup a scheduler for the learning rate."
   ]
  },
  {
   "cell_type": "code",
   "execution_count": 98,
   "metadata": {},
   "outputs": [],
   "source": [
    "train_hooks = [\n",
    "    hooks.MaxEpochHook(1000),\n",
    "    hooks.CSVHook(\n",
    "        OUTDIR,\n",
    "        metrics=train_metrics,\n",
    "    ),\n",
    "    hooks.PrintingHook(\n",
    "        OUTDIR,\n",
    "        metrics=train_metrics,\n",
    "        separator = ' | ',\n",
    "        time_strf='%M:%S'\n",
    "    ),\n",
    "    hooks.ReduceLROnPlateauHook(\n",
    "        optimizer=optimizer,\n",
    "        patience=10,\n",
    "        factor=0.5,\n",
    "        min_lr=1e-7,\n",
    "        window_length=1,\n",
    "        stop_after_min=True\n",
    "    )\n",
    "]"
   ]
  },
  {
   "cell_type": "markdown",
   "metadata": {},
   "source": [
    "### Trainer wrapper"
   ]
  },
  {
   "cell_type": "markdown",
   "metadata": {},
   "source": [
    "A `Trainer` in the `nff` package is a wrapper to train a model. It automatically creates checkpoints, as well as trains and validates a given model. It also allow further training by loading checkpoints from existing paths, making the training procedure more flexible. Its functionalities can be extended by the hooks we created above. To create a trainer, we have to execute the following command:"
   ]
  },
  {
   "cell_type": "code",
   "execution_count": 99,
   "metadata": {},
   "outputs": [],
   "source": [
    "T = Trainer(\n",
    "    model_path=OUTDIR,\n",
    "    model=model,\n",
    "    loss_fn=loss_fn,\n",
    "    optimizer=optimizer,\n",
    "    train_loader=train_loader,\n",
    "    validation_loader=val_loader,\n",
    "    checkpoint_intbatcerval=1,\n",
    "    hooks=train_hooks,\n",
    "    mini_batches=MINI_BATCHES\n",
    ")"
   ]
  },
  {
   "cell_type": "markdown",
   "metadata": {},
   "source": [
    "Now we can finally train the model using the method `train` from the `Trainer`:"
   ]
  },
  {
   "cell_type": "code",
   "execution_count": 100,
   "metadata": {
    "scrolled": true
   },
   "outputs": [
    {
     "name": "stdout",
     "output_type": "stream",
     "text": [
      " Time | Epoch | Learning rate | Train loss | Validation loss | RocAuc_bind | PrAuc_bind | GPU Memory (MB)\n",
      "12:46 |     1 |     1.000e-04 |     0.4903 |          0.5217 |      0.8558 |     0.2460 |            1077\n",
      "12:48 |     2 |     1.000e-04 |     0.3469 |          0.4397 |      0.8531 |     0.2851 |            1077\n",
      "12:49 |     3 |     1.000e-04 |     0.3198 |          0.4409 |      0.8516 |     0.2767 |            1077\n",
      "12:51 |     4 |     1.000e-04 |     0.2490 |          0.4439 |      0.8443 |     0.2891 |            1077\n",
      "12:52 |     5 |     1.000e-04 |     0.2494 |          0.4132 |      0.8581 |     0.3131 |            1078\n",
      "12:54 |     6 |     1.000e-04 |     0.2449 |          0.3954 |      0.8513 |     0.3060 |            1078\n",
      "12:55 |     7 |     1.000e-04 |     0.2432 |          0.3596 |      0.8538 |     0.3481 |            1078\n",
      "12:57 |     8 |     1.000e-04 |     0.1776 |          0.3752 |      0.8428 |     0.3338 |            1078\n",
      "12:58 |     9 |     1.000e-04 |     0.1941 |          0.4327 |      0.8323 |     0.3134 |            1078\n",
      "13:00 |    10 |     1.000e-04 |     0.1943 |          0.3453 |      0.8439 |     0.3585 |            1078\n",
      "13:01 |    11 |     1.000e-04 |     0.1817 |          0.3500 |      0.8309 |     0.3535 |            1078\n",
      "13:02 |    12 |     1.000e-04 |     0.1739 |          0.3575 |      0.8259 |     0.3172 |            1078\n",
      "13:04 |    13 |     1.000e-04 |     0.1404 |          0.3526 |      0.8260 |     0.3552 |            1078\n",
      "13:05 |    14 |     1.000e-04 |     0.1775 |          0.3791 |      0.8329 |     0.3556 |            1078\n",
      "13:06 |    15 |     1.000e-04 |     0.1652 |          0.3619 |      0.8214 |     0.3384 |            1078\n",
      "13:08 |    16 |     1.000e-04 |     0.1149 |          0.3779 |      0.8363 |     0.3461 |            1078\n",
      "13:09 |    17 |     1.000e-04 |     0.1293 |          0.3561 |      0.8442 |     0.3677 |            1079\n",
      "13:11 |    18 |     1.000e-04 |     0.1272 |          0.3974 |      0.8160 |     0.3383 |            1079\n",
      "13:12 |    19 |     1.000e-04 |     0.1393 |          0.3792 |      0.8342 |     0.3653 |            1079\n",
      "13:13 |    20 |     1.000e-04 |     0.1199 |          0.3876 |      0.8351 |     0.3647 |            1079\n",
      "13:15 |    21 |     1.000e-04 |     0.1028 |          0.3723 |      0.8221 |     0.3519 |            1079\n",
      "13:16 |    22 |     5.000e-05 |     0.0961 |          0.3724 |      0.8210 |     0.3659 |            1079\n",
      "13:18 |    23 |     5.000e-05 |     0.0730 |          0.3776 |      0.8231 |     0.3640 |            1079\n",
      "13:19 |    24 |     5.000e-05 |     0.0718 |          0.3730 |      0.8318 |     0.3791 |            1079\n",
      "13:20 |    25 |     5.000e-05 |     0.1109 |          0.3884 |      0.8216 |     0.3651 |            1079\n",
      "13:22 |    26 |     5.000e-05 |     0.0698 |          0.3812 |      0.8252 |     0.3725 |            1079\n",
      "13:23 |    27 |     5.000e-05 |     0.1055 |          0.4024 |      0.8225 |     0.3729 |            1079\n",
      "13:24 |    28 |     5.000e-05 |     0.1110 |          0.4046 |      0.8236 |     0.3757 |            1079\n",
      "13:26 |    29 |     5.000e-05 |     0.0887 |          0.3926 |      0.8290 |     0.3764 |            1079\n",
      "13:27 |    30 |     5.000e-05 |     0.0969 |          0.4020 |      0.8232 |     0.3841 |            1079\n",
      "13:29 |    31 |     5.000e-05 |     0.1014 |          0.4179 |      0.8168 |     0.3662 |            1079\n",
      "13:30 |    32 |     5.000e-05 |     0.0792 |          0.4072 |      0.8162 |     0.3714 |            1079\n",
      "13:31 |    33 |     2.500e-05 |     0.0685 |          0.4001 |      0.8246 |     0.3770 |            1079\n",
      "13:33 |    34 |     2.500e-05 |     0.0993 |          0.4117 |      0.8195 |     0.3787 |            1079\n",
      "13:34 |    35 |     2.500e-05 |     0.0807 |          0.4182 |      0.8161 |     0.3688 |            1079\n",
      "13:35 |    36 |     2.500e-05 |     0.1048 |          0.4021 |      0.8257 |     0.3759 |            1079\n",
      "13:37 |    37 |     2.500e-05 |     0.0776 |          0.4007 |      0.8276 |     0.3788 |            1080\n",
      "13:38 |    38 |     2.500e-05 |     0.0972 |          0.4097 |      0.8223 |     0.3849 |            1080\n"
     ]
    },
    {
     "ename": "KeyboardInterrupt",
     "evalue": "",
     "output_type": "error",
     "traceback": [
      "\u001b[0;31m---------------------------------------------------------------------------\u001b[0m",
      "\u001b[0;31mKeyboardInterrupt\u001b[0m                         Traceback (most recent call last)",
      "\u001b[0;32m<ipython-input-100-ea37f573d24c>\u001b[0m in \u001b[0;36m<module>\u001b[0;34m\u001b[0m\n\u001b[1;32m      2\u001b[0m \u001b[0;34m\u001b[0m\u001b[0m\n\u001b[1;32m      3\u001b[0m \u001b[0;32mtry\u001b[0m\u001b[0;34m:\u001b[0m\u001b[0;34m\u001b[0m\u001b[0;34m\u001b[0m\u001b[0m\n\u001b[0;32m----> 4\u001b[0;31m     \u001b[0mT\u001b[0m\u001b[0;34m.\u001b[0m\u001b[0mtrain\u001b[0m\u001b[0;34m(\u001b[0m\u001b[0mdevice\u001b[0m\u001b[0;34m=\u001b[0m\u001b[0mDEVICE\u001b[0m\u001b[0;34m,\u001b[0m \u001b[0mn_epochs\u001b[0m\u001b[0;34m=\u001b[0m\u001b[0;36m1000\u001b[0m\u001b[0;34m)\u001b[0m\u001b[0;34m\u001b[0m\u001b[0;34m\u001b[0m\u001b[0m\n\u001b[0m\u001b[1;32m      5\u001b[0m \u001b[0;32mexcept\u001b[0m \u001b[0mException\u001b[0m \u001b[0;32mas\u001b[0m \u001b[0me\u001b[0m\u001b[0;34m:\u001b[0m\u001b[0;34m\u001b[0m\u001b[0;34m\u001b[0m\u001b[0m\n\u001b[1;32m      6\u001b[0m     \u001b[0mprint\u001b[0m\u001b[0;34m(\u001b[0m\u001b[0me\u001b[0m\u001b[0;34m)\u001b[0m\u001b[0;34m\u001b[0m\u001b[0;34m\u001b[0m\u001b[0m\n",
      "\u001b[0;32m~/Repo/projects/covid_nff/NeuralForceField/nff/train/trainer.py\u001b[0m in \u001b[0;36mtrain\u001b[0;34m(self, device, n_epochs)\u001b[0m\n\u001b[1;32m    227\u001b[0m                 \u001b[0;31m# validation\u001b[0m\u001b[0;34m\u001b[0m\u001b[0;34m\u001b[0m\u001b[0;34m\u001b[0m\u001b[0m\n\u001b[1;32m    228\u001b[0m                 \u001b[0;32mif\u001b[0m \u001b[0mself\u001b[0m\u001b[0;34m.\u001b[0m\u001b[0mepoch\u001b[0m \u001b[0;34m%\u001b[0m \u001b[0mself\u001b[0m\u001b[0;34m.\u001b[0m\u001b[0mvalidation_interval\u001b[0m \u001b[0;34m==\u001b[0m \u001b[0;36m0\u001b[0m \u001b[0;32mor\u001b[0m \u001b[0mself\u001b[0m\u001b[0;34m.\u001b[0m\u001b[0m_stop\u001b[0m\u001b[0;34m:\u001b[0m\u001b[0;34m\u001b[0m\u001b[0;34m\u001b[0m\u001b[0m\n\u001b[0;32m--> 229\u001b[0;31m                     \u001b[0mself\u001b[0m\u001b[0;34m.\u001b[0m\u001b[0mvalidate\u001b[0m\u001b[0;34m(\u001b[0m\u001b[0mdevice\u001b[0m\u001b[0;34m)\u001b[0m\u001b[0;34m\u001b[0m\u001b[0;34m\u001b[0m\u001b[0m\n\u001b[0m\u001b[1;32m    230\u001b[0m \u001b[0;34m\u001b[0m\u001b[0m\n\u001b[1;32m    231\u001b[0m                 \u001b[0;32mfor\u001b[0m \u001b[0mh\u001b[0m \u001b[0;32min\u001b[0m \u001b[0mself\u001b[0m\u001b[0;34m.\u001b[0m\u001b[0mhooks\u001b[0m\u001b[0;34m:\u001b[0m\u001b[0;34m\u001b[0m\u001b[0;34m\u001b[0m\u001b[0m\n",
      "\u001b[0;32m~/Repo/projects/covid_nff/NeuralForceField/nff/train/trainer.py\u001b[0m in \u001b[0;36mvalidate\u001b[0;34m(self, device)\u001b[0m\n\u001b[1;32m    259\u001b[0m         \u001b[0mn_val\u001b[0m \u001b[0;34m=\u001b[0m \u001b[0;36m0\u001b[0m\u001b[0;34m\u001b[0m\u001b[0;34m\u001b[0m\u001b[0m\n\u001b[1;32m    260\u001b[0m \u001b[0;34m\u001b[0m\u001b[0m\n\u001b[0;32m--> 261\u001b[0;31m         \u001b[0;32mfor\u001b[0m \u001b[0mval_batch\u001b[0m \u001b[0;32min\u001b[0m \u001b[0mself\u001b[0m\u001b[0;34m.\u001b[0m\u001b[0mvalidation_loader\u001b[0m\u001b[0;34m:\u001b[0m\u001b[0;34m\u001b[0m\u001b[0;34m\u001b[0m\u001b[0m\n\u001b[0m\u001b[1;32m    262\u001b[0m \u001b[0;34m\u001b[0m\u001b[0m\n\u001b[1;32m    263\u001b[0m             \u001b[0mval_batch\u001b[0m \u001b[0;34m=\u001b[0m \u001b[0mbatch_to\u001b[0m\u001b[0;34m(\u001b[0m\u001b[0mval_batch\u001b[0m\u001b[0;34m,\u001b[0m \u001b[0mdevice\u001b[0m\u001b[0;34m)\u001b[0m\u001b[0;34m\u001b[0m\u001b[0;34m\u001b[0m\u001b[0m\n",
      "\u001b[0;32m~/miniconda3/envs/covid_mit/lib/python3.6/site-packages/torch/utils/data/dataloader.py\u001b[0m in \u001b[0;36m__next__\u001b[0;34m(self)\u001b[0m\n\u001b[1;32m    343\u001b[0m \u001b[0;34m\u001b[0m\u001b[0m\n\u001b[1;32m    344\u001b[0m     \u001b[0;32mdef\u001b[0m \u001b[0m__next__\u001b[0m\u001b[0;34m(\u001b[0m\u001b[0mself\u001b[0m\u001b[0;34m)\u001b[0m\u001b[0;34m:\u001b[0m\u001b[0;34m\u001b[0m\u001b[0;34m\u001b[0m\u001b[0m\n\u001b[0;32m--> 345\u001b[0;31m         \u001b[0mdata\u001b[0m \u001b[0;34m=\u001b[0m \u001b[0mself\u001b[0m\u001b[0;34m.\u001b[0m\u001b[0m_next_data\u001b[0m\u001b[0;34m(\u001b[0m\u001b[0;34m)\u001b[0m\u001b[0;34m\u001b[0m\u001b[0;34m\u001b[0m\u001b[0m\n\u001b[0m\u001b[1;32m    346\u001b[0m         \u001b[0mself\u001b[0m\u001b[0;34m.\u001b[0m\u001b[0m_num_yielded\u001b[0m \u001b[0;34m+=\u001b[0m \u001b[0;36m1\u001b[0m\u001b[0;34m\u001b[0m\u001b[0;34m\u001b[0m\u001b[0m\n\u001b[1;32m    347\u001b[0m         \u001b[0;32mif\u001b[0m \u001b[0mself\u001b[0m\u001b[0;34m.\u001b[0m\u001b[0m_dataset_kind\u001b[0m \u001b[0;34m==\u001b[0m \u001b[0m_DatasetKind\u001b[0m\u001b[0;34m.\u001b[0m\u001b[0mIterable\u001b[0m \u001b[0;32mand\u001b[0m\u001b[0;31m \u001b[0m\u001b[0;31m\\\u001b[0m\u001b[0;34m\u001b[0m\u001b[0;34m\u001b[0m\u001b[0m\n",
      "\u001b[0;32m~/miniconda3/envs/covid_mit/lib/python3.6/site-packages/torch/utils/data/dataloader.py\u001b[0m in \u001b[0;36m_next_data\u001b[0;34m(self)\u001b[0m\n\u001b[1;32m    383\u001b[0m     \u001b[0;32mdef\u001b[0m \u001b[0m_next_data\u001b[0m\u001b[0;34m(\u001b[0m\u001b[0mself\u001b[0m\u001b[0;34m)\u001b[0m\u001b[0;34m:\u001b[0m\u001b[0;34m\u001b[0m\u001b[0;34m\u001b[0m\u001b[0m\n\u001b[1;32m    384\u001b[0m         \u001b[0mindex\u001b[0m \u001b[0;34m=\u001b[0m \u001b[0mself\u001b[0m\u001b[0;34m.\u001b[0m\u001b[0m_next_index\u001b[0m\u001b[0;34m(\u001b[0m\u001b[0;34m)\u001b[0m  \u001b[0;31m# may raise StopIteration\u001b[0m\u001b[0;34m\u001b[0m\u001b[0;34m\u001b[0m\u001b[0m\n\u001b[0;32m--> 385\u001b[0;31m         \u001b[0mdata\u001b[0m \u001b[0;34m=\u001b[0m \u001b[0mself\u001b[0m\u001b[0;34m.\u001b[0m\u001b[0m_dataset_fetcher\u001b[0m\u001b[0;34m.\u001b[0m\u001b[0mfetch\u001b[0m\u001b[0;34m(\u001b[0m\u001b[0mindex\u001b[0m\u001b[0;34m)\u001b[0m  \u001b[0;31m# may raise StopIteration\u001b[0m\u001b[0;34m\u001b[0m\u001b[0;34m\u001b[0m\u001b[0m\n\u001b[0m\u001b[1;32m    386\u001b[0m         \u001b[0;32mif\u001b[0m \u001b[0mself\u001b[0m\u001b[0;34m.\u001b[0m\u001b[0m_pin_memory\u001b[0m\u001b[0;34m:\u001b[0m\u001b[0;34m\u001b[0m\u001b[0;34m\u001b[0m\u001b[0m\n\u001b[1;32m    387\u001b[0m             \u001b[0mdata\u001b[0m \u001b[0;34m=\u001b[0m \u001b[0m_utils\u001b[0m\u001b[0;34m.\u001b[0m\u001b[0mpin_memory\u001b[0m\u001b[0;34m.\u001b[0m\u001b[0mpin_memory\u001b[0m\u001b[0;34m(\u001b[0m\u001b[0mdata\u001b[0m\u001b[0;34m)\u001b[0m\u001b[0;34m\u001b[0m\u001b[0;34m\u001b[0m\u001b[0m\n",
      "\u001b[0;32m~/miniconda3/envs/covid_mit/lib/python3.6/site-packages/torch/utils/data/_utils/fetch.py\u001b[0m in \u001b[0;36mfetch\u001b[0;34m(self, possibly_batched_index)\u001b[0m\n\u001b[1;32m     45\u001b[0m         \u001b[0;32melse\u001b[0m\u001b[0;34m:\u001b[0m\u001b[0;34m\u001b[0m\u001b[0;34m\u001b[0m\u001b[0m\n\u001b[1;32m     46\u001b[0m             \u001b[0mdata\u001b[0m \u001b[0;34m=\u001b[0m \u001b[0mself\u001b[0m\u001b[0;34m.\u001b[0m\u001b[0mdataset\u001b[0m\u001b[0;34m[\u001b[0m\u001b[0mpossibly_batched_index\u001b[0m\u001b[0;34m]\u001b[0m\u001b[0;34m\u001b[0m\u001b[0;34m\u001b[0m\u001b[0m\n\u001b[0;32m---> 47\u001b[0;31m         \u001b[0;32mreturn\u001b[0m \u001b[0mself\u001b[0m\u001b[0;34m.\u001b[0m\u001b[0mcollate_fn\u001b[0m\u001b[0;34m(\u001b[0m\u001b[0mdata\u001b[0m\u001b[0;34m)\u001b[0m\u001b[0;34m\u001b[0m\u001b[0;34m\u001b[0m\u001b[0m\n\u001b[0m",
      "\u001b[0;32m~/Repo/projects/covid_nff/NeuralForceField/nff/data/loader.py\u001b[0m in \u001b[0;36mcollate_dicts\u001b[0;34m(dicts)\u001b[0m\n\u001b[1;32m     32\u001b[0m         \u001b[0;32mfor\u001b[0m \u001b[0mkey\u001b[0m \u001b[0;32min\u001b[0m \u001b[0mREINDEX_KEYS\u001b[0m\u001b[0;34m:\u001b[0m\u001b[0;34m\u001b[0m\u001b[0;34m\u001b[0m\u001b[0m\n\u001b[1;32m     33\u001b[0m             \u001b[0;32mif\u001b[0m \u001b[0mkey\u001b[0m \u001b[0;32min\u001b[0m \u001b[0md\u001b[0m\u001b[0;34m:\u001b[0m\u001b[0;34m\u001b[0m\u001b[0;34m\u001b[0m\u001b[0m\n\u001b[0;32m---> 34\u001b[0;31m                 \u001b[0md\u001b[0m\u001b[0;34m[\u001b[0m\u001b[0mkey\u001b[0m\u001b[0;34m]\u001b[0m \u001b[0;34m=\u001b[0m \u001b[0md\u001b[0m\u001b[0;34m[\u001b[0m\u001b[0mkey\u001b[0m\u001b[0;34m]\u001b[0m \u001b[0;34m+\u001b[0m \u001b[0mint\u001b[0m\u001b[0;34m(\u001b[0m\u001b[0mn\u001b[0m\u001b[0;34m)\u001b[0m\u001b[0;34m\u001b[0m\u001b[0;34m\u001b[0m\u001b[0m\n\u001b[0m\u001b[1;32m     35\u001b[0m \u001b[0;34m\u001b[0m\u001b[0m\n\u001b[1;32m     36\u001b[0m     \u001b[0;31m# batching the data\u001b[0m\u001b[0;34m\u001b[0m\u001b[0;34m\u001b[0m\u001b[0;34m\u001b[0m\u001b[0m\n",
      "\u001b[0;31mKeyboardInterrupt\u001b[0m: "
     ]
    }
   ],
   "source": [
    "import pdb\n",
    "\n",
    "try:\n",
    "    T.train(device=DEVICE, n_epochs=1000)\n",
    "except Exception as e:\n",
    "    print(e)\n",
    "    pdb.post_mortem()"
   ]
  },
  {
   "cell_type": "markdown",
   "metadata": {},
   "source": [
    "## Evaluating the model on the test set"
   ]
  },
  {
   "cell_type": "markdown",
   "metadata": {},
   "source": [
    "Now we have a brand new model trained and validated. We can use the best model from this training to evaluate its performance on the test set. `results` contains the predictions of properties for the whole test dataset. `targets` contains the ground truth for such data. `test_loss` is the loss, calculated with the same function used during the training part"
   ]
  },
  {
   "cell_type": "code",
   "execution_count": null,
   "metadata": {},
   "outputs": [],
   "source": []
  },
  {
   "cell_type": "code",
   "execution_count": 101,
   "metadata": {},
   "outputs": [],
   "source": [
    "sampler = ImbalancedDatasetSampler(\n",
    "    target_name=\"bind\",\n",
    "    props=props)\n",
    "\n",
    "balanced_test_loader = DataLoader(test, batch_size=BATCH_SIZE, \n",
    "            collate_fn=collate_dicts,\n",
    "           sampler=sampler)\n",
    "\n",
    "# results, targets, val_loss = evaluate(model, balanced_test_loader, loss_fn, device=DEVICE)\n",
    "results, targets, val_loss = evaluate(T.get_best_model(), balanced_test_loader, loss_fn, device=DEVICE)\n",
    "\n"
   ]
  },
  {
   "cell_type": "code",
   "execution_count": 102,
   "metadata": {},
   "outputs": [],
   "source": [
    "y_score = torch.cat(results['bind']).reshape(-1).numpy()\n",
    "y_true = torch.cat(targets['bind']).reshape(-1).numpy()\n",
    "\n",
    "roc_score = roc_auc_score(y_true=y_true, y_score=y_score)\n",
    "fpr, tpr, thresholds = roc_curve(y_true=y_true, y_score=y_score)\n",
    "\n",
    "precision, recall, thresholds = precision_recall_curve(y_true, y_score)\n",
    "prc_score = auc(recall, precision)\n",
    "\n"
   ]
  },
  {
   "cell_type": "code",
   "execution_count": 103,
   "metadata": {},
   "outputs": [
    {
     "data": {
      "image/png": "[encoded data removed]",
      "text/plain": [
       "<Figure size 432x288 with 1 Axes>"
      ]
     },
     "metadata": {
      "needs_background": "light"
     },
     "output_type": "display_data"
    },
    {
     "data": {
      "image/png": "[encoded data removed]",
      "text/plain": [
       "<Figure size 432x288 with 1 Axes>"
      ]
     },
     "metadata": {
      "needs_background": "light"
     },
     "output_type": "display_data"
    }
   ],
   "source": [
    "plt.rcParams.update({'font.size': 15})\n",
    "\n",
    "\n",
    "text = \"ROC score = %.2f\" % roc_score\n",
    "\n",
    "fig, ax = plt.subplots()\n",
    "plt.plot(fpr, tpr)\n",
    "plt.xlabel('False positive rate')\n",
    "plt.ylabel('True positive rate')\n",
    "plt.text(0.3, 0.5, text, fontsize=20, transform=ax.transAxes)\n",
    "\n",
    "plt.show()\n",
    "\n",
    "\n",
    "\n",
    "\n",
    "text = \"PRC score = %.2f\" % prc_score\n",
    "\n",
    "fig, ax = plt.subplots()\n",
    "plt.plot(precision, recall)\n",
    "plt.xlabel('Precision')\n",
    "plt.ylabel('Recall')\n",
    "plt.text(0.3, 0.5, text, fontsize=20, transform=ax.transAxes)\n",
    "\n",
    "\n",
    "plt.show()"
   ]
  },
  {
   "cell_type": "code",
   "execution_count": null,
   "metadata": {},
   "outputs": [],
   "source": []
  },
  {
   "cell_type": "code",
   "execution_count": null,
   "metadata": {},
   "outputs": [],
   "source": []
  },
  {
   "cell_type": "code",
   "execution_count": null,
   "metadata": {},
   "outputs": [],
   "source": []
  }
 ],
 "metadata": {
  "kernelspec": {
   "display_name": "Python [conda env:covid_mit]",
   "language": "python",
   "name": "covid_mit"
  },
  "language_info": {
   "codemirror_mode": {
    "name": "ipython",
    "version": 3
   },
   "file_extension": ".py",
   "mimetype": "text/x-python",
   "name": "python",
   "nbconvert_exporter": "python",
   "pygments_lexer": "ipython3",
   "version": "3.6.10"
  }
 },
 "nbformat": 4,
 "nbformat_minor": 2
}
