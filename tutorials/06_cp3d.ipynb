{
 "cells": [
  {
   "cell_type": "markdown",
   "metadata": {},
   "source": [
    "# Property predictions using 3D conformer geometries\n",
    "\n",
    "This tutorial takes you through 3D-based property predictions. The `README` in `cp3d/scripts` gives an in-depth description of how to run the necessary scripts, while this tutorial is more focused on exploring what goes on behind the scripts."
   ]
  },
  {
   "cell_type": "markdown",
   "metadata": {},
   "source": [
    "#### Some preliminaries\n",
    "Automatically reload any changes made to files:"
   ]
  },
  {
   "cell_type": "code",
   "execution_count": 1,
   "metadata": {},
   "outputs": [],
   "source": [
    "%load_ext autoreload\n",
    "%autoreload 2"
   ]
  },
  {
   "cell_type": "markdown",
   "metadata": {},
   "source": [
    "Make sure that `nff` is in your path:"
   ]
  },
  {
   "cell_type": "code",
   "execution_count": 2,
   "metadata": {},
   "outputs": [],
   "source": [
    "import sys\n",
    "\n",
    "sys.path.insert(0, \"..\")\n",
    "sys.path.insert(0, \"../..\")"
   ]
  },
  {
   "cell_type": "markdown",
   "metadata": {},
   "source": [
    "# Making a dataset"
   ]
  },
  {
   "cell_type": "markdown",
   "metadata": {},
   "source": [
    "To make a dataset we'll need two things. First, we need a folder consisting of pickle files, one for each species. Second we'll need a `JSON` file that summarizes the information about each of the species. \n",
    "\n",
    "This tutorial will use the `GEOM` dataset as an example. To follow along, download the file `rdkit_folder.tar.gz` from [this page](https://www.dropbox.com/sh/1aptf9fi8kyrzg6/AABQ4F7dpl4tQ_pGCf2izd7Ca?dl=0). Untar the file by running\n",
    "```\n",
    "tar -xzvf rdkit_folder.tar.gz\n",
    "```\n",
    "in the command line. This should generate a folder called rdkit_folder. We'll start by getting familiar with the contents of this folder.\n",
    "\n"
   ]
  },
  {
   "cell_type": "markdown",
   "metadata": {},
   "source": [
    "## Getting acquainted with the pickle folder"
   ]
  },
  {
   "cell_type": "markdown",
   "metadata": {},
   "source": [
    "We'll define `pickle_folder` as the full path to this RDKit folder, and `summary_path` as the full path to the summary file:\n",
    "\n"
   ]
  },
  {
   "cell_type": "code",
   "execution_count": 3,
   "metadata": {},
   "outputs": [],
   "source": [
    "import os\n",
    "\n",
    "# change to wherever you have downloaded the zip file\n",
    "directory = \"/home/saxelrod/rgb_nfs/GEOM_DATA_ROUND_2\"\n",
    "\n",
    "rd_folder = os.path.join(directory, \"rdkit_folder\")\n",
    "summary_path = os.path.join(rd_folder, \"summary_drugs.json\")"
   ]
  },
  {
   "cell_type": "markdown",
   "metadata": {},
   "source": [
    "You can find more information about the structure of the GEOM dataset and loading the files [here](https://github.com/learningmatter-mit/geom). For now we'll take a quick look at the summary file and a sample pickle file.\n",
    "\n",
    "First we'll load the summary dictionary:"
   ]
  },
  {
   "cell_type": "code",
   "execution_count": 4,
   "metadata": {},
   "outputs": [],
   "source": [
    "import json\n",
    "with open(summary_path, \"r\") as f:\n",
    "    summary = json.load(f)"
   ]
  },
  {
   "cell_type": "markdown",
   "metadata": {},
   "source": [
    "Now let's look at a sample SMILES string:"
   ]
  },
  {
   "cell_type": "code",
   "execution_count": 5,
   "metadata": {},
   "outputs": [
    {
     "name": "stdout",
     "output_type": "stream",
     "text": [
      "CC(=O)N1CCN(C(=O)CCl)CC1\n"
     ]
    },
    {
     "data": {
      "text/plain": [
       "{'charge': 0,\n",
       " 'datasets': ['mpro_xchem'],\n",
       " 'ensembleenergy': 0.224,\n",
       " 'ensembleentropy': 5.131,\n",
       " 'ensemblefreeenergy': -1.53,\n",
       " 'lowestenergy': -42.33811,\n",
       " 'pickle_path': 'drugs/CC(=O)N1CCN(C(=O)CCl)CC1.pickle',\n",
       " 'poplowestpct': 66.181,\n",
       " 'sars_cov_two_cl_protease_active': 1,\n",
       " 'temperature': 298.15,\n",
       " 'totalconfs': 67,\n",
       " 'uniqueconfs': 16}"
      ]
     },
     "execution_count": 5,
     "metadata": {},
     "output_type": "execute_result"
    }
   ],
   "source": [
    "smiles = list(summary.keys())[10078]\n",
    "print(smiles)\n",
    "dic = summary[smiles]\n",
    "dic"
   ]
  },
  {
   "cell_type": "markdown",
   "metadata": {},
   "source": [
    "Say we want to create a dataset for a set of species with the known property `sars_cov_two_cl_protease_active`. Then the most important two things in this dictionary are the value of `sars_cov_two_cl_protease_active`, and the key `pickle_path`, which tells us where to find the associated pickle file with 3D conformer information.\n",
    "\n",
    "Let's load the associated pickle file and take a look at it:"
   ]
  },
  {
   "cell_type": "code",
   "execution_count": 6,
   "metadata": {},
   "outputs": [],
   "source": [
    "import pickle\n",
    "\n",
    "pickle_path = os.path.join(rd_folder, dic['pickle_path'])\n",
    "with open(pickle_path, \"rb\") as f:\n",
    "    conf_dic = pickle.load(f)"
   ]
  },
  {
   "cell_type": "markdown",
   "metadata": {},
   "source": [
    "The key `conformer` gives a list of dictionaries, one for each conformer. The most important part of that dictionary is `rd_mol`, and RDKit `mol` object. This `mol` object contains 3D information as well as bond information. It will allow us to create our dataset for training."
   ]
  },
  {
   "cell_type": "code",
   "execution_count": 7,
   "metadata": {
    "scrolled": true
   },
   "outputs": [
    {
     "data": {
      "text/plain": [
       "{'geom_id': 133329555,\n",
       " 'set': 4,\n",
       " 'degeneracy': 6,\n",
       " 'totalenergy': -42.33411442,\n",
       " 'relativeenergy': 2.505,\n",
       " 'boltzmannweight': 0.00968,\n",
       " 'conformerweights': [0.00161, 0.00161, 0.00161, 0.00161, 0.00161, 0.00161],\n",
       " 'rd_mol': <rdkit.Chem.rdchem.Mol at 0x7fb1a077ccf0>}"
      ]
     },
     "metadata": {},
     "output_type": "display_data"
    },
    {
     "name": "stdout",
     "output_type": "stream",
     "text": [
      "Statistical weight: 9.68e-03\n"
     ]
    },
    {
     "data": {
      "image/png": "[encoded data removed]",
      "text/plain": [
       "<rdkit.Chem.rdchem.Mol at 0x7fb1a077ccf0>"
      ]
     },
     "metadata": {},
     "output_type": "display_data"
    },
    {
     "name": "stdout",
     "output_type": "stream",
     "text": [
      "Statistical weight: 7.07e-03\n"
     ]
    },
    {
     "data": {
      "image/png": "[encoded data removed]",
      "text/plain": [
       "<rdkit.Chem.rdchem.Mol at 0x7fb1a077ceb0>"
      ]
     },
     "metadata": {},
     "output_type": "display_data"
    },
    {
     "name": "stdout",
     "output_type": "stream",
     "text": [
      "Statistical weight: 2.42e-03\n"
     ]
    },
    {
     "data": {
      "image/png": "[encoded data removed]",
      "text/plain": [
       "<rdkit.Chem.rdchem.Mol at 0x7fb138f55db0>"
      ]
     },
     "metadata": {},
     "output_type": "display_data"
    },
    {
     "name": "stdout",
     "output_type": "stream",
     "text": [
      "Statistical weight: 7.20e-04\n"
     ]
    },
    {
     "data": {
      "image/png": "[encoded data removed]",
      "text/plain": [
       "<rdkit.Chem.rdchem.Mol at 0x7fb138cc45f0>"
      ]
     },
     "metadata": {},
     "output_type": "display_data"
    },
    {
     "name": "stdout",
     "output_type": "stream",
     "text": [
      "Statistical weight: 2.40e-04\n"
     ]
    },
    {
     "data": {
      "image/png": "[encoded data removed]",
      "text/plain": [
       "<rdkit.Chem.rdchem.Mol at 0x7fb13d98d1b0>"
      ]
     },
     "metadata": {},
     "output_type": "display_data"
    },
    {
     "name": "stdout",
     "output_type": "stream",
     "text": [
      "Statistical weight: 1.70e-04\n"
     ]
    },
    {
     "data": {
      "image/png": "[encoded data removed]",
      "text/plain": [
       "<rdkit.Chem.rdchem.Mol at 0x7fb138b8f1b0>"
      ]
     },
     "metadata": {},
     "output_type": "display_data"
    },
    {
     "name": "stdout",
     "output_type": "stream",
     "text": [
      "Statistical weight: 1.60e-04\n"
     ]
    },
    {
     "data": {
      "image/png": "[encoded data removed]",
      "text/plain": [
       "<rdkit.Chem.rdchem.Mol at 0x7fb138baa330>"
      ]
     },
     "metadata": {},
     "output_type": "display_data"
    },
    {
     "name": "stdout",
     "output_type": "stream",
     "text": [
      "Statistical weight: 4.00e-05\n"
     ]
    },
    {
     "data": {
      "image/png": "[encoded data removed]",
      "text/plain": [
       "<rdkit.Chem.rdchem.Mol at 0x7fb1387521f0>"
      ]
     },
     "metadata": {},
     "output_type": "display_data"
    },
    {
     "name": "stdout",
     "output_type": "stream",
     "text": [
      "Statistical weight: 2.00e-05\n"
     ]
    },
    {
     "data": {
      "image/png": "[encoded data removed]",
      "text/plain": [
       "<rdkit.Chem.rdchem.Mol at 0x7fb13875c2f0>"
      ]
     },
     "metadata": {},
     "output_type": "display_data"
    },
    {
     "name": "stdout",
     "output_type": "stream",
     "text": [
      "Statistical weight: 8.00e-05\n"
     ]
    },
    {
     "data": {
      "image/png": "[encoded data removed]",
      "text/plain": [
       "<rdkit.Chem.rdchem.Mol at 0x7fb13875c4b0>"
      ]
     },
     "metadata": {},
     "output_type": "display_data"
    },
    {
     "name": "stdout",
     "output_type": "stream",
     "text": [
      "Statistical weight: 2.00e-05\n"
     ]
    },
    {
     "data": {
      "image/png": "[encoded data removed]",
      "text/plain": [
       "<rdkit.Chem.rdchem.Mol at 0x7fb13875c630>"
      ]
     },
     "metadata": {},
     "output_type": "display_data"
    },
    {
     "name": "stdout",
     "output_type": "stream",
     "text": [
      "Statistical weight: 5.00e-05\n"
     ]
    },
    {
     "data": {
      "image/png": "[encoded data removed]",
      "text/plain": [
       "<rdkit.Chem.rdchem.Mol at 0x7fb13875c7b0>"
      ]
     },
     "metadata": {},
     "output_type": "display_data"
    },
    {
     "name": "stdout",
     "output_type": "stream",
     "text": [
      "Statistical weight: 5.00e-05\n"
     ]
    },
    {
     "data": {
      "image/png": "[encoded data removed]",
      "text/plain": [
       "<rdkit.Chem.rdchem.Mol at 0x7fb13875c930>"
      ]
     },
     "metadata": {},
     "output_type": "display_data"
    },
    {
     "name": "stdout",
     "output_type": "stream",
     "text": [
      "Statistical weight: 6.62e-01\n"
     ]
    },
    {
     "data": {
      "image/png": "[encoded data removed]",
      "text/plain": [
       "<rdkit.Chem.rdchem.Mol at 0x7fb13875cab0>"
      ]
     },
     "metadata": {},
     "output_type": "display_data"
    },
    {
     "name": "stdout",
     "output_type": "stream",
     "text": [
      "Statistical weight: 3.07e-01\n"
     ]
    },
    {
     "data": {
      "image/png": "[encoded data removed]",
      "text/plain": [
       "<rdkit.Chem.rdchem.Mol at 0x7fb13875cc30>"
      ]
     },
     "metadata": {},
     "output_type": "display_data"
    },
    {
     "name": "stdout",
     "output_type": "stream",
     "text": [
      "Statistical weight: 1.08e-02\n"
     ]
    },
    {
     "data": {
      "image/png": "[encoded data removed]",
      "text/plain": [
       "<rdkit.Chem.rdchem.Mol at 0x7fb13875cdb0>"
      ]
     },
     "metadata": {},
     "output_type": "display_data"
    }
   ],
   "source": [
    "display(conf_dic[\"conformers\"][0])\n",
    "for conf in conf_dic[\"conformers\"]:\n",
    "    weight = conf[\"boltzmannweight\"]\n",
    "    print(\"Statistical weight: %.2e\" % weight)\n",
    "    display(conf[\"rd_mol\"])"
   ]
  },
  {
   "cell_type": "markdown",
   "metadata": {},
   "source": [
    "## Generating training splits"
   ]
  },
  {
   "cell_type": "markdown",
   "metadata": {},
   "source": [
    "Now that we have a pickle folder with pickle files and a summary, let's navigate to `scripts/cp3d/make_dset/splits` to generate training splits. \n",
    "\n",
    "First we'll want to modify the config file, `split_config.json`. A detailed description of the keys can be found in the `README` file. The most important things for us are `summary_path`, which we've located, `csv_folder`, the folder in which we want to save our splits, and `props`, the properties we'll want to predict (`sars_cov_two_cl_protease_active` for us).\n",
    "\n",
    "Now let's run the script itself:\n",
    "```\n",
    "cd ../scripts/cp3d/make_dset/splits\n",
    "bash splits.sh\n",
    "```\n",
    "\n",
    "Your output should look something like this:\n",
    "\n",
    "```\n",
    "100%|███████████████████████████████████████████████████████████████████| 816/816 [00:00<00:00, 8496.42it/s]\n",
    "100%|███████████████████████████████████████████████████████████████████| 816/816 [00:00<00:00, 917082.55it/s]\n",
    "100%|███████████████████████████████████████████████████████████████████| 816/816 [00:00<00:00, 15146.78it/s]\n",
    "Splits saved in /home/saxelrod/chemprop_cov_2/scaffold_split\n",
    "Train files: train_smiles.csv and train_full.csv (489 species, 49 positives)\n",
    "Validation files: val_smiles.csv and val_full.csv (163 species, 13 positives) \n",
    "Test files: test_smiles.csv and test_full.csv (164 species, 16 positives)\n",
    "Combined file: all.csv (816 species, 78 positives)\n",
    "```\n",
    "\n",
    "We see that the script has generated CSV files with dataset splits for us, finding a total of 816 species with the property we want, including 78 hits. In this example we've used a scaffold split, so that the different sets do not have molecules that share a scaffold. We can see that the files are saved in `/home/saxelrod/chemprop_cov_2/scaffold_split`:"
   ]
  },
  {
   "cell_type": "code",
   "execution_count": 8,
   "metadata": {},
   "outputs": [
    {
     "data": {
      "text/plain": [
       "['train_full.csv',\n",
       " 'all.csv',\n",
       " 'val_full.csv',\n",
       " 'test_full.csv',\n",
       " 'test_smiles.csv',\n",
       " 'train_smiles.csv',\n",
       " 'val_smiles.csv']"
      ]
     },
     "execution_count": 8,
     "metadata": {},
     "output_type": "execute_result"
    }
   ],
   "source": [
    "# change to your folder\n",
    "csv_folder = \"/home/saxelrod/chemprop_cov_2/scaffold_split\"\n",
    "os.listdir(csv_folder)"
   ]
  },
  {
   "cell_type": "markdown",
   "metadata": {},
   "source": [
    "## Creating the dataset from the pickle files and the splits"
   ]
  },
  {
   "cell_type": "markdown",
   "metadata": {},
   "source": [
    "Now that we've created splits, we can use the splits together with the pickle files to generate a dataset. To do so, we run\n",
    "\n",
    "```\n",
    "cd ../scripts/cp3d/make_dset/get_dset\n",
    "bash dset_from_pickles.sh\n",
    "\n",
    "```\n",
    "\n",
    "on the command line. The details for this job are in `make_dset/dset_config.json`, and are described in detail in the `README`. Here we choose to save the dataset in two chunks. Running the script should give something like this:\n",
    "\n",
    "```\n",
    "DeprecationWarning: 'source deactivate' is deprecated. Use 'conda deactivate'.\n",
    "python dset_from_pickles.py --thread 0 --config_file dset_config.json\n",
    "Loading splits...\n",
    "Loading data from pickle files...\n",
    "100%|█████████████████████████████████████████████████████████████████| 408/408 [00:04<00:00, 99.05it/s]\n",
    "Converting data...\n",
    "Combining to make NFF dataset...\n",
    "Making dataset with 408 species\n",
    "100%|█████████████████████████████████████████████████████████████████| 408/408 [00:05<00:00, 74.18it/s]\n",
    "Featurizing dataset with 1 parallel process.\n",
    "Featurizing bonds...\n",
    "100%|█████████████████████████████████████████████████████████████████| 408/408 [00:23<00:00, 17.29it/s]\n",
    "Featurizing atoms...\n",
    "100%|█████████████████████████████████████████████████████████████████| 408/408 [00:34<00:00, 11.67it/s]\n",
    "Complete!\n",
    "Creating test/train/val splits...\n",
    "Saving...\n",
    "Complete!\n",
    "python dset_from_pickles.py --thread 1 --config_file dset_config.json\n",
    "Loading splits...\n",
    "Loading data from pickle files...\n",
    "100%|█████████████████████████████████████████████████████████████████| 408/408 [00:04<00:00, 100.79it/s]\n",
    "Converting data...\n",
    "Combining to make NFF dataset...\n",
    "Making dataset with 408 species\n",
    "100%|█████████████████████████████████████████████████████████████████| 408/408 [00:05<00:00, 76.42it/s]\n",
    "Featurizing dataset with 1 parallel process.\n",
    "Featurizing bonds...\n",
    "100%|█████████████████████████████████████████████████████████████████| 408/408 [00:23<00:00, 17.65it/s]\n",
    "Featurizing atoms...\n",
    "100%|█████████████████████████████████████████████████████████████████| 408/408 [00:32<00:00, 12.65it/s]\n",
    "Complete!\n",
    "Creating test/train/val splits...\n",
    "Saving...\n",
    "Complete!\n",
    "```\n"
   ]
  },
  {
   "cell_type": "markdown",
   "metadata": {},
   "source": [
    "This is pretty quick for our small dataset with only 816 species. But for a big dataset (e.g. for SARS-CoV, which has 289,000 species), it can take much longer. We recommend running the script in `tmux` so that it can go on in the background, or submitting it as a job on a cluster.\n",
    "\n",
    "The datasets are saved in the folder `dataset_folder` specified in the `dset_config.json` file. Let's see what these folders look like:"
   ]
  },
  {
   "cell_type": "markdown",
   "metadata": {},
   "source": [
    "![alt text](dset_folder.png \"Title\")"
   ]
  },
  {
   "cell_type": "markdown",
   "metadata": {},
   "source": [
    "We see that two folders have been created, one for each dataset split. Each folder contains its own training, validation, and test splits. This division of datasets is useful if the dataset is too large to be loaded into memory on its own (this is the case with the SARS-CoV dataset). \n",
    "\n",
    "If you save the dataset into `N` separate folders, then when you train over `M` different GPUs, it will load data from the first `M` folders. That means that if you separate it into 4 folders and train over 4 GPUs, you will be training on the whole dataset. But if you divide it into 8 folders and train on 4 GPUs, you will only be training on half the dataset. Finally, if you don't divide the dataset, and store it in `<model_path>` (rather than `<model_path/0>`, you can train on as many GPUs as you want."
   ]
  },
  {
   "cell_type": "markdown",
   "metadata": {},
   "source": [
    "## Getting acquainted with the dataset"
   ]
  },
  {
   "cell_type": "markdown",
   "metadata": {},
   "source": [
    "Now that we have our datasets, let's see what they actually look like and what they can do. First let's load one: "
   ]
  },
  {
   "cell_type": "code",
   "execution_count": 9,
   "metadata": {},
   "outputs": [],
   "source": [
    "from nff.data import Dataset\n",
    "\n",
    "# change to your folder\n",
    "dset_folder = \"/home/saxelrod/rgb_nfs/models/cov_1_combined\"\n",
    "\n",
    "train_0_path = os.path.join(dset_folder, \"0/train.pth.tar\")\n",
    "train_0 = Dataset.from_file(train_0_path)"
   ]
  },
  {
   "cell_type": "markdown",
   "metadata": {},
   "source": [
    "The defining attribute of a dataset is `props`, its dictionary of properties:"
   ]
  },
  {
   "cell_type": "code",
   "execution_count": 10,
   "metadata": {},
   "outputs": [
    {
     "data": {
      "text/plain": [
       "dict_keys(['set', 'lowestenergy', 'nxyz', 'charge', 'geom_id', 'ensembleentropy', 'temperature', 'mol_size', 'degeneracy', 'ensemblefreeenergy', 'ensembleenergy', 'totalenergy', 'weights', 'sars_cov_one_cl_protease_active', 'smiles', 'num_atoms', 'pseudomonas_active', 'sars_cov_two_active', 'sars_cov_one_pl_protease_active', 'ecoli_inhibitor', 'energy', 'uniqueconfs', 'sars_cov_two_cl_protease_active', 'poplowestpct', 'nbr_list', 'rd_mols', 'bond_features', 'num_bonds', 'atom_features', 'bonded_nbr_list'])"
      ]
     },
     "execution_count": 10,
     "metadata": {},
     "output_type": "execute_result"
    }
   ],
   "source": [
    "props = train_0.props\n",
    "props.keys()"
   ]
  },
  {
   "cell_type": "markdown",
   "metadata": {},
   "source": [
    "These keys can be more or less divided into four categories:\n",
    "1. Properties you want to predict\n",
    "2. Extra properties that you don't care about\n",
    "3. Species attributes that are used to predict properties\n",
    "4. Auxiliary properties used to help in training"
   ]
  },
  {
   "cell_type": "markdown",
   "metadata": {},
   "source": [
    "Many of the keys fall into category 2 (`totalenergy`, `uniqueconfs`, etc.). As for category 1, here we're interested in `sars_cov_two_cl_protease_active`. Most molecules are inactive, but some are active:\n"
   ]
  },
  {
   "cell_type": "code",
   "execution_count": 11,
   "metadata": {},
   "outputs": [
    {
     "data": {
      "text/plain": [
       "tensor([0, 0, 0, 0, 0, 0, 0, 0, 0, 0, 0, 0, 0, 0, 0, 0, 0, 0, 0, 0, 0, 0, 0, 1,\n",
       "        1, 0, 0, 0, 0, 0, 0, 0, 1, 0, 0, 0, 0, 0, 0, 0, 1, 0, 0, 0, 0, 0, 0, 0,\n",
       "        0, 0, 0, 1, 0, 0, 0, 0, 0, 0, 0, 1, 0, 0, 0, 0, 0, 0, 0, 0, 0, 0, 0, 0,\n",
       "        0, 0, 0, 0, 0, 1, 0, 0, 0, 0, 0, 0, 0, 0, 0, 0, 0, 0, 0, 0, 0, 0, 0, 0,\n",
       "        0, 0, 0, 1, 1, 0, 0, 0, 0, 0, 0, 0, 0, 0, 0, 0, 0, 0, 1, 0, 0, 0, 0, 0,\n",
       "        0, 0, 0, 0, 0, 1, 0, 1, 0, 0, 0, 0, 0, 0, 0, 0, 0, 0, 0, 0, 0, 0, 0, 0,\n",
       "        1, 1, 0, 0, 0, 0, 0, 0, 0, 0, 0, 0, 0, 0, 0, 0, 0, 0, 0, 0, 0, 0, 0, 0,\n",
       "        0, 0, 0, 0, 0, 0, 0, 0, 0, 0, 0, 0, 0, 0, 0, 0, 0, 0, 0, 0, 0, 1, 0, 0,\n",
       "        0, 0, 0, 0, 0, 0, 0, 0, 0, 0, 0, 0, 0, 0, 0, 0, 0, 0, 0, 0, 0, 0, 0, 0,\n",
       "        0, 0, 0, 0, 0, 0, 0, 0, 0, 0, 0, 0, 0, 0, 0, 0, 0, 0, 0, 0, 0, 0, 0, 0,\n",
       "        1, 1, 0, 0, 0, 0, 0, 0, 0, 0, 0, 0, 0, 0, 0, 0, 0, 0, 0, 0, 0, 0, 0, 0,\n",
       "        0, 0, 0, 0, 0, 0, 0, 1])"
      ]
     },
     "execution_count": 11,
     "metadata": {},
     "output_type": "execute_result"
    }
   ],
   "source": [
    "props['sars_cov_two_cl_protease_active']"
   ]
  },
  {
   "cell_type": "markdown",
   "metadata": {},
   "source": [
    "Category 3 includes `atom_features` (graph-based atomic features), `bond_features` (graph-based bond features), and `nxyz` (geometry of the conformers):"
   ]
  },
  {
   "cell_type": "code",
   "execution_count": 12,
   "metadata": {},
   "outputs": [
    {
     "data": {
      "text/plain": [
       "tensor([[0.0000, 0.0000, 0.0000,  ..., 0.0000, 0.0000, 0.1201],\n",
       "        [1.0000, 0.0000, 0.0000,  ..., 0.0000, 0.0000, 0.0101],\n",
       "        [1.0000, 0.0000, 0.0000,  ..., 0.0000, 0.0000, 0.0101],\n",
       "        ...,\n",
       "        [1.0000, 0.0000, 0.0000,  ..., 0.0000, 0.0000, 0.0101],\n",
       "        [1.0000, 0.0000, 0.0000,  ..., 0.0000, 0.0000, 0.0101],\n",
       "        [1.0000, 0.0000, 0.0000,  ..., 0.0000, 0.0000, 0.0101]])"
      ]
     },
     "metadata": {},
     "output_type": "display_data"
    },
    {
     "data": {
      "text/plain": [
       "tensor([[ 6.0000e+00,  1.0495e+00,  7.6908e-01,  7.0728e-02],\n",
       "        [ 1.0000e+00,  1.3701e+00,  1.1573e+00,  1.0379e+00],\n",
       "        [ 1.0000e+00,  1.7066e+00,  1.1806e+00, -6.9271e-01],\n",
       "        [ 6.0000e+00, -4.2569e-01,  1.1427e+00, -1.9671e-01],\n",
       "        [ 7.0000e+00, -1.2258e+00,  4.1912e-04,  2.1413e-01],\n",
       "        [ 1.0000e+00, -1.3129e+00,  3.9571e-04,  1.2275e+00],\n",
       "        [ 6.0000e+00, -4.2650e-01, -1.1424e+00, -1.9683e-01],\n",
       "        [ 1.0000e+00, -7.4083e-01, -2.0463e+00,  3.2343e-01],\n",
       "        [ 6.0000e+00,  1.0489e+00, -7.6983e-01,  7.0882e-02],\n",
       "        [ 1.0000e+00,  1.3689e+00, -1.1581e+00,  1.0383e+00],\n",
       "        [ 1.0000e+00,  1.7059e+00, -1.1821e+00, -6.9233e-01],\n",
       "        [ 1.0000e+00, -5.8688e-01, -1.2844e+00, -1.2697e+00],\n",
       "        [ 1.0000e+00, -7.3929e-01,  2.0467e+00,  3.2378e-01],\n",
       "        [ 1.0000e+00, -5.8613e-01,  1.2850e+00, -1.2696e+00],\n",
       "        [ 6.0000e+00,  1.0396e+00,  7.7037e-01,  6.2637e-02],\n",
       "        [ 1.0000e+00,  1.3653e+00,  1.1501e+00,  1.0292e+00],\n",
       "        [ 1.0000e+00,  1.6940e+00,  1.1816e+00, -7.0411e-01],\n",
       "        [ 6.0000e+00, -4.2403e-01,  1.1525e+00, -1.8981e-01],\n",
       "        [ 7.0000e+00, -1.1545e+00, -1.2878e-04,  3.0205e-01],\n",
       "        [ 1.0000e+00, -2.1254e+00, -2.3257e-04,  8.4085e-03],\n",
       "        [ 6.0000e+00, -4.2378e-01, -1.1526e+00, -1.8983e-01],\n",
       "        [ 1.0000e+00, -7.2704e-01, -2.0480e+00,  3.5505e-01],\n",
       "        [ 6.0000e+00,  1.0398e+00, -7.7015e-01,  6.2663e-02],\n",
       "        [ 1.0000e+00,  1.3655e+00, -1.1498e+00,  1.0293e+00],\n",
       "        [ 1.0000e+00,  1.6943e+00, -1.1812e+00, -7.0404e-01],\n",
       "        [ 1.0000e+00, -5.8554e-01, -1.3283e+00, -1.2678e+00],\n",
       "        [ 1.0000e+00, -7.2748e-01,  2.0479e+00,  3.5510e-01],\n",
       "        [ 1.0000e+00, -5.8587e-01,  1.3282e+00, -1.2678e+00]])"
      ]
     },
     "metadata": {},
     "output_type": "display_data"
    },
    {
     "data": {
      "text/plain": [
       "tensor(2)"
      ]
     },
     "metadata": {},
     "output_type": "display_data"
    }
   ],
   "source": [
    "display(props['atom_features'][3])\n",
    "display(props['nxyz'][3])\n",
    "display(props[\"uniqueconfs\"][3])"
   ]
  },
  {
   "cell_type": "markdown",
   "metadata": {},
   "source": [
    "The atom features and xyz coordinates are a set of `N` vectors, where `N` is the total number of atoms when of *all conformers*:"
   ]
  },
  {
   "cell_type": "code",
   "execution_count": 13,
   "metadata": {},
   "outputs": [
    {
     "name": "stdout",
     "output_type": "stream",
     "text": [
      "torch.Size([250, 133])\n",
      "torch.Size([250, 4])\n",
      "250\n"
     ]
    }
   ],
   "source": [
    "print(props['atom_features'][4].shape)\n",
    "print(props['nxyz'][4].shape)\n",
    "\n",
    "# mol_size is the number of atoms in one conformer\n",
    "print((props[\"uniqueconfs\"][4] * props[\"mol_size\"][4]).item())\n"
   ]
  },
  {
   "cell_type": "markdown",
   "metadata": {},
   "source": [
    "By having `mol_size` (the number of atoms in one conformer) as a property, we can easily split these into per-conformer properties:"
   ]
  },
  {
   "cell_type": "code",
   "execution_count": 14,
   "metadata": {},
   "outputs": [
    {
     "data": {
      "text/plain": [
       "10"
      ]
     },
     "execution_count": 14,
     "metadata": {},
     "output_type": "execute_result"
    }
   ],
   "source": [
    "import torch\n",
    "\n",
    "nxyz = props['nxyz'][4]\n",
    "mol_size = props[\"mol_size\"][4].item()\n",
    "num_confs = nxyz.shape[0] // mol_size\n",
    "\n",
    "nxyz_by_conformer = torch.split(props['nxyz'][4], [mol_size] * num_confs)\n",
    "len(nxyz_by_conformer)"
   ]
  },
  {
   "cell_type": "markdown",
   "metadata": {},
   "source": [
    "Category 4 includes keys like `nbr_list` and `bonded_nbr_list`. Each of these is a set of pairs that tell you which atoms are within 5 Angstroms of each other, or bonded to each other, respectively:"
   ]
  },
  {
   "cell_type": "code",
   "execution_count": 15,
   "metadata": {},
   "outputs": [
    {
     "data": {
      "text/plain": [
       "tensor([[ 0,  1],\n",
       "        [ 0,  2],\n",
       "        [ 0,  3],\n",
       "        [ 0,  4],\n",
       "        [ 0,  5],\n",
       "        [ 0,  9],\n",
       "        [ 0, 10],\n",
       "        [ 0, 11],\n",
       "        [ 0, 12],\n",
       "        [ 0, 17]])"
      ]
     },
     "execution_count": 15,
     "metadata": {},
     "output_type": "execute_result"
    }
   ],
   "source": [
    "props['nbr_list'][4][:10]"
   ]
  },
  {
   "cell_type": "code",
   "execution_count": 16,
   "metadata": {},
   "outputs": [
    {
     "data": {
      "text/plain": [
       "tensor([[ 0,  1],\n",
       "        [ 0, 22],\n",
       "        [ 0, 23],\n",
       "        [ 0, 24],\n",
       "        [ 1,  2],\n",
       "        [ 1,  3],\n",
       "        [ 3,  4],\n",
       "        [ 3, 18],\n",
       "        [ 4,  5],\n",
       "        [ 4,  9]])"
      ]
     },
     "execution_count": 16,
     "metadata": {},
     "output_type": "execute_result"
    }
   ],
   "source": [
    "props['bonded_nbr_list'][4][:10]"
   ]
  },
  {
   "cell_type": "markdown",
   "metadata": {},
   "source": [
    "## Adding extra features"
   ]
  },
  {
   "cell_type": "markdown",
   "metadata": {},
   "source": [
    "We can also add extra features to the dataset, like Morgan fingerprints. Here we add Morgan fingerprints of size 100:"
   ]
  },
  {
   "cell_type": "code",
   "execution_count": 17,
   "metadata": {},
   "outputs": [
    {
     "name": "stdout",
     "output_type": "stream",
     "text": [
      "tensor([1., 0., 0., 0., 0., 0., 0., 0., 1., 0., 0., 1., 1., 0., 0., 1., 0., 0.,\n",
      "        0., 0., 0., 0., 0., 0., 0., 1., 0., 0., 0., 0., 1., 0., 0., 0., 0., 0.,\n",
      "        0., 1., 0., 1., 0., 0., 1., 0., 0., 0., 0., 0., 0., 0., 0., 0., 0., 0.,\n",
      "        1., 0., 0., 1., 0., 0., 0., 0., 0., 0., 0., 0., 0., 0., 1., 1., 1., 0.,\n",
      "        0., 1., 0., 0., 0., 0., 0., 0., 0., 1., 0., 0., 1., 0., 0., 0., 0., 1.,\n",
      "        0., 1., 0., 0., 0., 1., 0., 1., 1., 0.])\n"
     ]
    }
   ],
   "source": [
    "train_0.add_morgan(100)\n",
    "\n",
    "print(train_0.props[\"morgan\"][4])"
   ]
  },
  {
   "cell_type": "markdown",
   "metadata": {},
   "source": [
    "We can add 3D features, like WHIM or 3D autocorrelations:"
   ]
  },
  {
   "cell_type": "code",
   "execution_count": 18,
   "metadata": {},
   "outputs": [],
   "source": [
    "# add whim descriptors\n",
    "train_0.featurize_rdkit('whim')\n",
    "\n",
    "# add autocorrelation_3d descriptors\n",
    "train_0.featurize_rdkit('autocorrelation_3d')\n"
   ]
  },
  {
   "cell_type": "code",
   "execution_count": 19,
   "metadata": {},
   "outputs": [
    {
     "data": {
      "image/png": "[encoded data removed]",
      "text/plain": [
       "<Figure size 288x288 with 2 Axes>"
      ]
     },
     "metadata": {
      "needs_background": "light"
     },
     "output_type": "display_data"
    },
    {
     "data": {
      "image/png": "[encoded data removed]",
      "text/plain": [
       "<Figure size 288x288 with 2 Axes>"
      ]
     },
     "metadata": {
      "needs_background": "light"
     },
     "output_type": "display_data"
    }
   ],
   "source": [
    "import numpy as np\n",
    "from matplotlib import pyplot as plt\n",
    "\n",
    "\n",
    "# look at the RMSDS betwene conformers of species 2\n",
    "\n",
    "whims = train_0.props['whim'][4]\n",
    "autcorr = train_0.props['autocorrelation_3d'][4]\n",
    "\n",
    "num_fps = whims.shape[0]\n",
    "\n",
    "whim_rmsds = ((whims.expand(num_fps, num_fps, -1) \n",
    "              - whims.expand(num_fps, num_fps, -1).transpose(0, 1)) ** 2).mean(-1)\n",
    "\n",
    "corr_rmsds = ((autcorr.expand(num_fps, num_fps, -1) \n",
    "              - autcorr.expand(num_fps, num_fps, -1).transpose(0, 1)) ** 2).mean(-1)\n",
    "\n",
    "plt.matshow(whim_rmsds)\n",
    "plt.colorbar()\n",
    "plt.xlabel(\"\\nConformer index\")\n",
    "plt.ylabel(\"Conformer index\")\n",
    "plt.title(\"Conformer WHIM RMSDs\\n\")\n",
    "plt.show()\n",
    "\n",
    "plt.matshow(corr_rmsds)\n",
    "plt.colorbar()\n",
    "plt.xlabel(\"\\nConformer index\")\n",
    "plt.ylabel(\"Conformer index\")\n",
    "plt.title(\"Conformer Autocorrelation RMSDs\\n\")\n",
    "plt.show()\n",
    "\n",
    "\n",
    "\n"
   ]
  },
  {
   "cell_type": "markdown",
   "metadata": {},
   "source": [
    "We can add E3FP fingerprints, which contain both 3D and graph information (note: using `num_procs > 1` seems to have issues on some computers. Creating the fingerprints with one processor takes a few minutes for this dataset, so you can comment out these cells to avoid slowing down the tutorial.)"
   ]
  },
  {
   "cell_type": "code",
   "execution_count": 20,
   "metadata": {
    "scrolled": true
   },
   "outputs": [
    {
     "name": "stdout",
     "output_type": "stream",
     "text": [
      "Adding E3P fingerprints with 1 parallel process.\n"
     ]
    },
    {
     "name": "stderr",
     "output_type": "stream",
     "text": [
      "100%|██████████| 272/272 [05:36<00:00,  1.24s/it]\n"
     ]
    }
   ],
   "source": [
    "train_0.add_e3fp(256, num_procs=1)"
   ]
  },
  {
   "cell_type": "markdown",
   "metadata": {},
   "source": [
    "We can plot RMSDs for E3FP as well:"
   ]
  },
  {
   "cell_type": "code",
   "execution_count": 21,
   "metadata": {},
   "outputs": [
    {
     "data": {
      "image/png": "[encoded data removed]",
      "text/plain": [
       "<Figure size 288x288 with 2 Axes>"
      ]
     },
     "metadata": {
      "needs_background": "light"
     },
     "output_type": "display_data"
    }
   ],
   "source": [
    "e3fp = train_0.props['e3fp'][4]\n",
    "e3fp_rmsds = ((e3fp.expand(num_fps, num_fps, -1) \n",
    "              - e3fp.expand(num_fps, num_fps, -1).transpose(0, 1)) ** 2).mean(-1)\n",
    "\n",
    "\n",
    "plt.matshow(e3fp_rmsds)\n",
    "plt.colorbar()\n",
    "plt.xlabel(\"\\nConformer index\")\n",
    "plt.ylabel(\"Conformer index\")\n",
    "plt.title(\"Conformer E3FP RMSDs\\n\")\n",
    "plt.show()\n",
    "\n"
   ]
  },
  {
   "cell_type": "markdown",
   "metadata": {},
   "source": [
    "# Training a model"
   ]
  },
  {
   "cell_type": "markdown",
   "metadata": {},
   "source": [
    "The script for training a model is `cp3d/train/train_parallel.sh`. Details about the config file, parallelizing over GPUs, submitting to a cluster, and so on can be found in the README file. When it comes to running the script it is most helpful to use the README file. Here we'll look at some of what goes on underneath the hood of the scripts, so that you have a better understanding of the process.\n"
   ]
  },
  {
   "cell_type": "markdown",
   "metadata": {},
   "source": [
    "## Making a model and seeing how it works\n",
    "Let's first look at creating the model. For this we'll use some of the parameters in the config file:\n"
   ]
  },
  {
   "cell_type": "code",
   "execution_count": 22,
   "metadata": {},
   "outputs": [],
   "source": [
    "morgan_len = 100\n",
    "whim_len = 114\n",
    "\n",
    "modelparams =  {\n",
    "    \n",
    "        \"model_type\": \"SchNetFeatures\",\n",
    "\n",
    "        \"mol_basis\": 300,\n",
    "        \"cp_dropout\": 0.02,\n",
    "        \"schnet_dropout\": 0.2,\n",
    "        \"activation\": \"ReLU\",\n",
    "        \"n_atom_basis\": 133,\n",
    "        \"n_bond_features\": 26,\n",
    "        \"n_bond_hidden\": 300,\n",
    "        \"n_convolutions\": 2,\n",
    "        \"n_filters\": 64,\n",
    "        \"n_gaussians\": 10,\n",
    "        \"cutoff\": 5.0,\n",
    "\n",
    "        \"input_layers\": [\n",
    "            {\n",
    "                \"name\": \"linear\",\n",
    "                \"param\": {\n",
    "                    \"in_features\": 159,\n",
    "                    \"out_features\": 300\n",
    "                }\n",
    "            },\n",
    "            {\n",
    "                \"name\": \"ReLU\",\n",
    "                \"param\": {}\n",
    "            }\n",
    "        ],\n",
    "\n",
    "        \"output_layers\": [\n",
    "            {\n",
    "                \"name\": \"linear\",\n",
    "                \"param\": {\n",
    "                    \"in_features\": 497,\n",
    "                    \"out_features\": 300\n",
    "                }\n",
    "            },\n",
    "            {\n",
    "                \"name\": \"ReLU\",\n",
    "                \"param\": {}\n",
    "            }\n",
    "        ],\n",
    "\n",
    "        \"mol_fp_layers\": [],\n",
    "\n",
    "        \"boltzmann_dict\": {\n",
    "            \"boltz_basis\": 10,\n",
    "            \"dropout_rate\": 0.1,\n",
    "            \"final_act\": \"ReLU\",\n",
    "            \"head_pool\": \"concatenate\",\n",
    "            \n",
    "            # add the length of the whim fingerprint\n",
    "            # here, as it will be concatenated with the\n",
    "            # learned 3D fingerprint\n",
    "            \n",
    "            \"mol_basis\": (300 + whim_len),\n",
    "            \"num_heads\": 3,\n",
    "            \"type\": \"linear_attention\"\n",
    "        },\n",
    "\n",
    "\n",
    "        \"readoutdict\": {\n",
    "            \"sars_cov_two_cl_protease_active\": [\n",
    "                {\n",
    "                    \"name\": \"linear\",\n",
    "                    \"param\": {\n",
    "                        \n",
    "                        # add the length of the whim fingerprint\n",
    "                        # since it gets concatenated with the learned fingerprint,\n",
    "                        # and multiply the total by 3 for 3 heads. Then add\n",
    "                        # the Morgan fingerprint length at the end (only one\n",
    "                        # for the whole species, so not multiplied by 3)\n",
    "                        \n",
    "                        \"in_features\": (300 + whim_len ) * 3 + morgan_len,\n",
    "                        \"out_features\": 450\n",
    "                    }\n",
    "                },\n",
    "                {\n",
    "                    \"name\": \"Dropout\",\n",
    "                    \"param\": {\n",
    "                        \"p\": 0.02\n",
    "                    }\n",
    "                },\n",
    "                {\n",
    "                    \"name\": \"ReLU\",\n",
    "                    \"param\": {}\n",
    "                },\n",
    "                {\n",
    "                    \"name\": \"linear\",\n",
    "                    \"param\": {\n",
    "                        \"in_features\": 450,\n",
    "                        \"out_features\": 1\n",
    "                    }\n",
    "                },\n",
    "                {\n",
    "                    \"name\": \"Dropout\",\n",
    "                    \"param\": {\n",
    "                        \"p\": 0.02\n",
    "                    }\n",
    "                }\n",
    "            ]\n",
    "        },\n",
    "    \n",
    "        \"classifier\": True,\n",
    "        \"gauss_embed\": True,\n",
    "        \"same_filters\": True,\n",
    "        \"trainable_gauss\": False,\n",
    "        \"base_keys\": [\"sars_cov_two_cl_protease_active\"],\n",
    "        \"grad_keys\": [],\n",
    "    \n",
    "        \"extra_features\": [\"whim\", \"morgan\"],\n",
    "        \"ext_feat_types\": [\"conformer\", \"species\"],\n",
    "    \n",
    "        \"use_mpnn\": True\n",
    "    \n",
    "}\n"
   ]
  },
  {
   "cell_type": "markdown",
   "metadata": {},
   "source": [
    "For this demonstration we've changed the `extra_features` and `extra_feat_types` parameters from the config file. Before they were set to `None`, but here we add Whim and Morgan fingerprints to show how you can add non-learned fingerprints in training. We set `extra_features` to `[\"whim\", \"morgan\"]`, and  `ext_feat_types` to `[\"conformer\", \"species\"]`, meaning that the whim fingerprint applies to conformers separately, and Morgan to the entire species.\n",
    "\n",
    "We've also changed some input dimensions in the layers. The pooling dictionary `boltzmann_dict` now pools molecular fingerprints of size `(300 + whim_len)`, as the learned fingerprint gets concatenated with the whim fingerprint. And the readout dictionary also acquires the length of the Morgan fingerprint. Three attention heads leads to an input dimension of size `(300 + whim_len ) * 3 + morgan_len`.\n",
    "\n",
    "Now we create a model with these parameters:"
   ]
  },
  {
   "cell_type": "code",
   "execution_count": 23,
   "metadata": {},
   "outputs": [],
   "source": [
    "from nff.train import get_model\n",
    "import torch\n",
    "\n",
    "torch.manual_seed(0)\n",
    "model = get_model(params=modelparams,\n",
    "                  model_type=modelparams[\"model_type\"])"
   ]
  },
  {
   "cell_type": "markdown",
   "metadata": {},
   "source": [
    "Here's what the model looks like:"
   ]
  },
  {
   "cell_type": "code",
   "execution_count": 24,
   "metadata": {
    "scrolled": true
   },
   "outputs": [
    {
     "data": {
      "text/plain": [
       "SchNetFeatures(\n",
       "  (convolutions): ModuleList(\n",
       "    (0): CpSchNetConv(\n",
       "      (dense): Dense(\n",
       "        in_features=300, out_features=300, bias=False\n",
       "        (dropout): Dropout(p=0.02, inplace=False)\n",
       "      )\n",
       "      (activation): ReLU()\n",
       "      (moduledict): ModuleDict(\n",
       "        (edge_filter): Sequential(\n",
       "          (0): GaussianSmearing()\n",
       "          (1): Dense(\n",
       "            in_features=10, out_features=64, bias=True\n",
       "            (dropout): Dropout(p=0.2, inplace=False)\n",
       "          )\n",
       "          (2): ReLU()\n",
       "        )\n",
       "      )\n",
       "    )\n",
       "    (1): CpSchNetConv(\n",
       "      (dense): Dense(\n",
       "        in_features=300, out_features=300, bias=False\n",
       "        (dropout): Dropout(p=0.02, inplace=False)\n",
       "      )\n",
       "      (activation): ReLU()\n",
       "      (moduledict): ModuleDict(\n",
       "        (edge_filter): Sequential(\n",
       "          (0): GaussianSmearing()\n",
       "          (1): Dense(\n",
       "            in_features=10, out_features=64, bias=True\n",
       "            (dropout): Dropout(p=0.2, inplace=False)\n",
       "          )\n",
       "          (2): ReLU()\n",
       "        )\n",
       "      )\n",
       "    )\n",
       "  )\n",
       "  (mol_fp_nn): Sequential()\n",
       "  (boltz_nns): ModuleList(\n",
       "    (0): LinearConfAttention(\n",
       "      (boltz_lin): Linear(in_features=1, out_features=10, bias=True)\n",
       "      (boltz_act): Softmax(dim=1)\n",
       "      (fp_linear): Linear(in_features=424, out_features=414, bias=False)\n",
       "      (W): Linear(in_features=414, out_features=414, bias=True)\n",
       "      (final_act): ReLU()\n",
       "      (activation): LeakyReLU(negative_slope=0.01)\n",
       "    )\n",
       "    (1): LinearConfAttention(\n",
       "      (boltz_lin): Linear(in_features=1, out_features=10, bias=True)\n",
       "      (boltz_act): Softmax(dim=1)\n",
       "      (fp_linear): Linear(in_features=424, out_features=414, bias=False)\n",
       "      (W): Linear(in_features=414, out_features=414, bias=True)\n",
       "      (final_act): ReLU()\n",
       "      (activation): LeakyReLU(negative_slope=0.01)\n",
       "    )\n",
       "    (2): LinearConfAttention(\n",
       "      (boltz_lin): Linear(in_features=1, out_features=10, bias=True)\n",
       "      (boltz_act): Softmax(dim=1)\n",
       "      (fp_linear): Linear(in_features=424, out_features=414, bias=False)\n",
       "      (W): Linear(in_features=414, out_features=414, bias=True)\n",
       "      (final_act): ReLU()\n",
       "      (activation): LeakyReLU(negative_slope=0.01)\n",
       "    )\n",
       "  )\n",
       "  (readout): NodeMultiTaskReadOut(\n",
       "    (readout): ModuleDict(\n",
       "      (sars_cov_two_cl_protease_active): Sequential(\n",
       "        (linear0): Linear(in_features=1342, out_features=450, bias=True)\n",
       "        (Dropout1): Dropout(p=0.02, inplace=False)\n",
       "        (ReLU2): ReLU()\n",
       "        (linear3): Linear(in_features=450, out_features=1, bias=True)\n",
       "        (Dropout4): Dropout(p=0.02, inplace=False)\n",
       "      )\n",
       "    )\n",
       "  )\n",
       "  (W_i): ChemPropInit(\n",
       "    (input): Sequential(\n",
       "      (linear0): Linear(in_features=159, out_features=300, bias=False)\n",
       "      (ReLU1): ReLU()\n",
       "    )\n",
       "  )\n",
       "  (W_o): ChemPropMsgToNode(\n",
       "    (output): Sequential(\n",
       "      (linear0): Linear(in_features=497, out_features=300, bias=False)\n",
       "      (ReLU1): ReLU()\n",
       "    )\n",
       "  )\n",
       ")"
      ]
     },
     "execution_count": 24,
     "metadata": {},
     "output_type": "execute_result"
    }
   ],
   "source": [
    "model"
   ]
  },
  {
   "cell_type": "markdown",
   "metadata": {},
   "source": [
    "The input module `W_i` first converts the concatenation of atomic features with edge features into hidden edge vectors:"
   ]
  },
  {
   "cell_type": "code",
   "execution_count": 25,
   "metadata": {},
   "outputs": [
    {
     "data": {
      "text/plain": [
       "ChemPropInit(\n",
       "  (input): Sequential(\n",
       "    (linear0): Linear(in_features=159, out_features=300, bias=False)\n",
       "    (ReLU1): ReLU()\n",
       "  )\n",
       ")"
      ]
     },
     "execution_count": 25,
     "metadata": {},
     "output_type": "execute_result"
    }
   ],
   "source": [
    "model.W_i # dimension (133 + 26 x 300)"
   ]
  },
  {
   "cell_type": "markdown",
   "metadata": {},
   "source": [
    "The model then consists of two convolutions to generate atomic fingerprints. Each convolution involves a dense (linear) layer with dropout acting on the atomic features, a Gaussian smearing layre for the distances, and a dense layer to conver them to dimension 64. These edge features are then concatenated and updated. You can look at the source code for `CpSchNetConv` (in `nff/modules.py`) for more details."
   ]
  },
  {
   "cell_type": "code",
   "execution_count": 26,
   "metadata": {
    "scrolled": true
   },
   "outputs": [
    {
     "name": "stdout",
     "output_type": "stream",
     "text": [
      "2\n"
     ]
    },
    {
     "data": {
      "text/plain": [
       "CpSchNetConv(\n",
       "  (dense): Dense(\n",
       "    in_features=300, out_features=300, bias=False\n",
       "    (dropout): Dropout(p=0.02, inplace=False)\n",
       "  )\n",
       "  (activation): ReLU()\n",
       "  (moduledict): ModuleDict(\n",
       "    (edge_filter): Sequential(\n",
       "      (0): GaussianSmearing()\n",
       "      (1): Dense(\n",
       "        in_features=10, out_features=64, bias=True\n",
       "        (dropout): Dropout(p=0.2, inplace=False)\n",
       "      )\n",
       "      (2): ReLU()\n",
       "    )\n",
       "  )\n",
       ")"
      ]
     },
     "execution_count": 26,
     "metadata": {},
     "output_type": "execute_result"
    }
   ],
   "source": [
    "print(len(model.convolutions))\n",
    "model.convolutions[0]"
   ]
  },
  {
   "cell_type": "markdown",
   "metadata": {},
   "source": [
    "The edge vectors are turned back into atomic feature vectors before summation through `W_o`:"
   ]
  },
  {
   "cell_type": "code",
   "execution_count": 27,
   "metadata": {},
   "outputs": [
    {
     "data": {
      "text/plain": [
       "ChemPropMsgToNode(\n",
       "  (output): Sequential(\n",
       "    (linear0): Linear(in_features=497, out_features=300, bias=False)\n",
       "    (ReLU1): ReLU()\n",
       "  )\n",
       ")"
      ]
     },
     "execution_count": 27,
     "metadata": {},
     "output_type": "execute_result"
    }
   ],
   "source": [
    "model.W_o # dimension (133 + 64 + 300 x 300)"
   ]
  },
  {
   "cell_type": "markdown",
   "metadata": {},
   "source": [
    "Next an empty set of layers `mol_fp_nn` acts on the sum of the atomic fingerprints (this is necessary if the atomic fingerprints have a different dimension than the desired dimension for the molecular fingeprint). \n",
    "\n",
    "`boltz_nns` is a set of three linear attention modules to pool the fingerprints together:"
   ]
  },
  {
   "cell_type": "code",
   "execution_count": 28,
   "metadata": {},
   "outputs": [
    {
     "name": "stdout",
     "output_type": "stream",
     "text": [
      "3\n",
      "Linear(in_features=1, out_features=10, bias=True)\n",
      "Softmax(dim=1)\n",
      "Linear(in_features=424, out_features=414, bias=False)\n",
      "Linear(in_features=414, out_features=414, bias=True)\n",
      "torch.Size([1, 414])\n"
     ]
    }
   ],
   "source": [
    "print(len(model.boltz_nns))\n",
    "\n",
    "# layer to convert boltzmann weight to vector\n",
    "print(model.boltz_nns[0].boltz_lin)\n",
    "\n",
    "# activation function that follows\n",
    "print(model.boltz_nns[0].boltz_act)\n",
    "\n",
    "# linear layer to convert cat([fingerprint, boltz_vec])\n",
    "# back to original dimension\n",
    "print(model.boltz_nns[0].fp_linear)\n",
    "\n",
    "# linear layer applied to this fingerprint\n",
    "print(model.boltz_nns[0].W)\n",
    "\n",
    "# numbers that multiply W.fp before getting summed and turned into\n",
    "# weights through a softmax\n",
    "\n",
    "print(model.boltz_nns[0].att_weight.shape)"
   ]
  },
  {
   "cell_type": "markdown",
   "metadata": {},
   "source": [
    "The readout module converts the concatenation of the three sets of pooled fingerprints into a prediction. **Caution**: do not add a sigmoid layer for a classifier. This will automatically be added in `eval` mode and automatically **not added** when in `train` mode. This allows us to use the more stable logits cross entropy loss in train mode."
   ]
  },
  {
   "cell_type": "code",
   "execution_count": 29,
   "metadata": {},
   "outputs": [
    {
     "data": {
      "text/plain": [
       "NodeMultiTaskReadOut(\n",
       "  (readout): ModuleDict(\n",
       "    (sars_cov_two_cl_protease_active): Sequential(\n",
       "      (linear0): Linear(in_features=1342, out_features=450, bias=True)\n",
       "      (Dropout1): Dropout(p=0.02, inplace=False)\n",
       "      (ReLU2): ReLU()\n",
       "      (linear3): Linear(in_features=450, out_features=1, bias=True)\n",
       "      (Dropout4): Dropout(p=0.02, inplace=False)\n",
       "    )\n",
       "  )\n",
       ")"
      ]
     },
     "execution_count": 29,
     "metadata": {},
     "output_type": "execute_result"
    }
   ],
   "source": [
    "model.readout"
   ]
  },
  {
   "cell_type": "markdown",
   "metadata": {},
   "source": [
    "We can make a data loader to sample a batch from the dataset and apply our model to it. We can use a custom balanced sampler to make sure we get approximately equal amounts of positive and negative binders:"
   ]
  },
  {
   "cell_type": "code",
   "execution_count": 30,
   "metadata": {},
   "outputs": [],
   "source": [
    "from nff.data import collate_dicts\n",
    "from torch.utils.data import DataLoader\n",
    "from torch import sigmoid\n",
    "from nff.data.loader import ImbalancedDatasetSampler\n",
    "from nff.data import concatenate_dict\n",
    "from nff.utils.cuda import batch_detach\n",
    "\n",
    "torch.manual_seed(0)\n",
    "\n",
    "sampler = ImbalancedDatasetSampler(target_name=\"sars_cov_two_cl_protease_active\",\n",
    "                                   props=train_0.props)\n",
    "\n",
    "loader = DataLoader(dataset=train_0,\n",
    "                    batch_size=1,\n",
    "                    collate_fn=collate_dicts,\n",
    "                    shuffle=False,\n",
    "                    sampler=sampler)\n",
    "\n",
    "all_results = []\n",
    "all_batches = []\n",
    "key = 'sars_cov_two_cl_protease_active'\n",
    "\n",
    "for i, batch in enumerate(loader):\n",
    "\n",
    "    # get batch\n",
    "    batch = next(iter(loader))\n",
    "\n",
    "    # apply model\n",
    "    results = model(batch, sub_batch_size=7)\n",
    "\n",
    "    # add sigmoid\n",
    "    results[key] = sigmoid(results[key])\n",
    "\n",
    "    # detach computational graph\n",
    "    all_results.append(batch_detach(results))\n",
    "\n",
    "    all_batches.append(batch_detach(batch))\n",
    "\n",
    "    if i >= 19:\n",
    "        break\n",
    "\n",
    "# convert from list of dictionaries to dictionary of lists\n",
    "\n",
    "all_batches = concatenate_dict(*all_batches)\n",
    "all_results =  concatenate_dict(*all_results)"
   ]
  },
  {
   "cell_type": "markdown",
   "metadata": {},
   "source": [
    "Around half of the molecules seen are indeed active:"
   ]
  },
  {
   "cell_type": "code",
   "execution_count": 31,
   "metadata": {},
   "outputs": [
    {
     "data": {
      "text/plain": [
       "tensor([1, 0, 1, 1, 1, 1, 0, 0, 1, 0, 1, 0, 0, 0, 0, 0, 1, 0, 0, 1])"
      ]
     },
     "metadata": {},
     "output_type": "display_data"
    },
    {
     "data": {
      "text/plain": [
       "tensor(9)"
      ]
     },
     "metadata": {},
     "output_type": "display_data"
    }
   ],
   "source": [
    "display(torch.stack(all_batches[key]))\n",
    "display(sum(all_batches[key]))"
   ]
  },
  {
   "cell_type": "markdown",
   "metadata": {},
   "source": [
    "The predictions include both property predictions and the learned conformer weights:"
   ]
  },
  {
   "cell_type": "code",
   "execution_count": 32,
   "metadata": {},
   "outputs": [
    {
     "name": "stdout",
     "output_type": "stream",
     "text": [
      "Conformer weights for second species:\n",
      " tensor([[1.7309e-02, 6.3166e-02, 4.0794e-02, 4.8543e-02, 1.0958e-02, 2.8440e-02,\n",
      "         1.6490e-01, 8.4961e-03, 5.8522e-03, 1.6087e-02, 1.3136e-02, 7.2537e-02,\n",
      "         9.2664e-03, 2.9627e-02, 9.4754e-03, 5.9993e-03, 3.4088e-02, 3.4177e-02,\n",
      "         1.7266e-04, 2.3155e-04, 2.4411e-02, 5.1737e-04, 2.8109e-02, 3.4536e-03,\n",
      "         3.9478e-03, 1.6298e-04, 1.0048e-04, 1.0661e-04, 5.2539e-04, 8.1813e-04,\n",
      "         1.0743e-03, 9.5754e-03, 2.8931e-03, 4.8986e-03, 1.0624e-02, 4.7364e-03,\n",
      "         1.5263e-03, 2.3825e-04, 2.8295e-04, 1.3395e-04, 1.5007e-04, 2.2964e-03,\n",
      "         2.7798e-03, 2.5365e-03, 1.1222e-03, 4.9048e-04, 6.9952e-04, 2.0216e-03,\n",
      "         5.8443e-05, 3.1417e-03, 5.4394e-04, 3.8438e-03, 1.4764e-04, 1.2271e-04,\n",
      "         1.7486e-03, 2.1298e-03, 9.4000e-04, 2.0515e-04, 1.6620e-03, 8.1025e-03,\n",
      "         3.7459e-04, 1.6951e-03, 1.4646e-03, 4.2820e-04, 1.7073e-03, 1.6287e-03,\n",
      "         1.0426e-03, 1.9496e-03, 5.6791e-03, 4.6890e-04, 6.2870e-03, 5.9723e-04,\n",
      "         2.1097e-03, 5.0557e-03, 2.1818e-03, 1.9790e-03, 3.5764e-03, 1.2007e-03,\n",
      "         2.6304e-03, 8.8906e-04, 2.3217e-03, 2.9906e-02, 1.0214e-03, 6.0778e-04,\n",
      "         2.7338e-03, 5.3867e-04, 1.4240e-03, 1.0733e-03, 1.8978e-03, 7.8586e-03,\n",
      "         5.1303e-04, 1.6549e-03, 1.3717e-02, 5.3597e-03, 4.6108e-03, 1.1031e-03,\n",
      "         2.0425e-03, 1.1214e-03, 7.8118e-04, 7.4029e-03, 2.3653e-02, 1.7423e-02,\n",
      "         9.2172e-03, 3.2704e-02, 6.8686e-03, 3.2563e-02, 1.7768e-04, 6.2059e-04],\n",
      "        [5.4328e-05, 1.7384e-04, 2.7606e-05, 6.2506e-05, 3.5783e-05, 3.0129e-05,\n",
      "         1.5145e-05, 1.7828e-05, 6.1432e-05, 2.6072e-05, 1.8890e-05, 4.1212e-05,\n",
      "         8.3850e-06, 1.5054e-05, 1.0696e-04, 4.1137e-06, 5.4095e-05, 5.5727e-05,\n",
      "         1.5029e-03, 1.7541e-03, 1.6999e-05, 2.7766e-03, 4.0290e-05, 5.9440e-03,\n",
      "         3.2346e-02, 2.1285e-02, 9.9238e-04, 1.6177e-03, 3.1194e-03, 7.3000e-03,\n",
      "         2.9234e-03, 1.2468e-05, 2.5299e-05, 2.2040e-05, 6.0798e-05, 3.2184e-05,\n",
      "         2.1277e-03, 1.0164e-02, 7.5800e-04, 1.5939e-03, 1.3335e-03, 4.8191e-02,\n",
      "         9.0098e-06, 1.0468e-04, 4.6116e-03, 8.9460e-03, 3.1723e-03, 6.0220e-03,\n",
      "         9.8219e-04, 3.5155e-03, 3.8396e-02, 3.1551e-02, 9.8420e-04, 3.0634e-03,\n",
      "         3.4680e-03, 1.1082e-01, 2.0509e-02, 1.0096e-03, 3.3747e-03, 6.5715e-06,\n",
      "         2.4066e-03, 3.5978e-03, 1.3287e-03, 1.5535e-02, 1.8502e-02, 1.7882e-02,\n",
      "         3.1342e-02, 6.8868e-02, 6.6024e-05, 2.5603e-02, 4.0162e-02, 6.4207e-03,\n",
      "         1.1066e-01, 2.3070e-02, 2.1584e-02, 3.3226e-02, 5.7523e-02, 1.2436e-02,\n",
      "         7.6933e-03, 1.7554e-03, 1.4329e-02, 4.0427e-06, 1.2392e-03, 7.4753e-03,\n",
      "         3.1756e-02, 2.5333e-03, 7.8400e-03, 1.0015e-02, 2.0804e-02, 1.7232e-05,\n",
      "         2.1174e-03, 1.1393e-03, 1.4037e-05, 6.6298e-03, 1.0946e-03, 1.1618e-03,\n",
      "         1.6179e-03, 6.5792e-04, 1.3372e-03, 2.1559e-04, 6.4782e-04, 4.5178e-06,\n",
      "         5.3155e-06, 9.5631e-06, 1.1939e-05, 9.4920e-05, 2.3308e-04, 3.8925e-05],\n",
      "        [1.5849e-02, 1.1049e-03, 3.4156e-02, 1.0307e-02, 5.1685e-03, 2.0362e-03,\n",
      "         1.4305e-02, 1.0409e-02, 4.8942e-04, 4.3152e-03, 1.2850e-02, 5.3558e-03,\n",
      "         2.0268e-02, 5.7703e-03, 4.4017e-04, 9.7497e-02, 8.9302e-04, 1.3693e-03,\n",
      "         5.1689e-03, 1.2575e-02, 2.6838e-03, 6.3129e-02, 6.4409e-03, 1.2353e-03,\n",
      "         5.8020e-05, 1.5703e-04, 6.0384e-03, 4.7412e-03, 2.0492e-02, 9.6862e-05,\n",
      "         1.2141e-03, 1.3260e-02, 4.9137e-03, 1.0933e-02, 2.1185e-02, 8.1673e-03,\n",
      "         3.7197e-04, 1.9124e-04, 2.8694e-02, 5.9693e-03, 1.9397e-03, 3.2374e-05,\n",
      "         6.3258e-03, 4.3358e-03, 3.8505e-05, 1.8908e-04, 7.3707e-05, 1.4878e-04,\n",
      "         2.0193e-03, 2.3201e-04, 1.7655e-04, 6.1741e-05, 1.0065e-02, 2.5170e-02,\n",
      "         4.8766e-04, 1.5746e-05, 8.6410e-05, 2.0808e-02, 7.2956e-04, 3.7959e-02,\n",
      "         9.1951e-05, 9.7460e-05, 1.9020e-04, 1.1669e-04, 1.2087e-05, 7.0804e-06,\n",
      "         1.3343e-04, 2.3327e-05, 1.9470e-03, 3.5822e-05, 1.8449e-04, 8.6127e-04,\n",
      "         1.5025e-05, 1.2375e-05, 8.1495e-06, 1.1362e-05, 1.0412e-05, 9.4649e-06,\n",
      "         3.9855e-04, 5.2558e-04, 1.4433e-04, 1.6105e-02, 3.0796e-04, 6.0015e-04,\n",
      "         1.0685e-04, 2.2058e-04, 5.8266e-04, 1.8338e-03, 2.1882e-05, 1.3840e-02,\n",
      "         7.8781e-04, 1.5844e-04, 4.7238e-03, 3.5110e-04, 7.1021e-04, 3.1580e-04,\n",
      "         7.9308e-04, 7.5311e-04, 2.7746e-04, 8.1972e-04, 1.5109e-04, 1.0198e-01,\n",
      "         5.6086e-02, 1.1801e-01, 6.3007e-02, 1.2364e-02, 1.0594e-02, 1.8477e-02]])\n",
      "All predicted sars_cov_two_cl_protease_active values:\n",
      " tensor([0.9222, 0.8240, 0.9444, 0.9384, 0.8195, 0.7997, 0.8545, 0.8946, 0.8387,\n",
      "        0.8551, 0.8756, 0.8093, 0.8905, 0.7674, 0.5000, 0.8396, 0.9456, 0.8021,\n",
      "        0.8549, 0.8899])\n"
     ]
    }
   ],
   "source": [
    "learned_weights = all_results['learned_weights']\n",
    "pred = torch.cat(all_results[key]).reshape(-1)\n",
    "\n",
    "# 7 weights for 7 conformers, x 3 for the 3 attention heads\n",
    "\n",
    "print(f\"Conformer weights for second species:\\n {learned_weights[2].reshape(3, -1)}\")\n",
    "\n",
    "# all predictions\n",
    "print(f\"All predicted {key} values:\\n {pred}\")"
   ]
  },
  {
   "cell_type": "markdown",
   "metadata": {},
   "source": [
    "## Training a model\n",
    "\n",
    "Now that we're familiar with how the model works, we can train it.  To prepare the trainer class, we'll first need a train loader. We'll load both of the train splits and combine them into one dataset so we can train on overything. If we were training on multiple GPUs then we wouldn't need to do this, but to keep things simple we'll combine them all into one here:"
   ]
  },
  {
   "cell_type": "code",
   "execution_count": 33,
   "metadata": {},
   "outputs": [],
   "source": [
    "train_0_path = os.path.join(dset_folder, \"0/train.pth.tar\")\n",
    "train_0 = Dataset.from_file(train_0_path)\n",
    "\n",
    "train_1_path = os.path.join(dset_folder, \"1/train.pth.tar\")\n",
    "train_1 = Dataset.from_file(train_1_path)\n",
    "\n",
    "val_0_path = os.path.join(dset_folder, \"0/val.pth.tar\")\n",
    "val_0 = Dataset.from_file(val_0_path)\n",
    "\n",
    "val_1_path = os.path.join(dset_folder, \"1/val.pth.tar\")\n",
    "val_1 = Dataset.from_file(val_1_path)\n",
    "\n",
    "# add custom features\n",
    "\n",
    "for dset in [train_0, train_1, val_0, val_1]:\n",
    "    dset.featurize_rdkit('whim')\n",
    "    dset.add_morgan(100)\n",
    "\n",
    "\n",
    "# datasets can be added!\n",
    "\n",
    "train = train_0 + train_1\n",
    "val = val_0 + val_1"
   ]
  },
  {
   "cell_type": "code",
   "execution_count": null,
   "metadata": {},
   "outputs": [],
   "source": []
  },
  {
   "cell_type": "markdown",
   "metadata": {},
   "source": [
    "Now we make data loaders, a loss function, and an optimizer:"
   ]
  },
  {
   "cell_type": "code",
   "execution_count": 34,
   "metadata": {},
   "outputs": [],
   "source": [
    "from nff.train import Trainer, loss, hooks, metrics\n",
    "from torch.optim import Adam\n",
    "\n",
    "# make loaders\n",
    "sampler = ImbalancedDatasetSampler(target_name=\"sars_cov_two_cl_protease_active\",\n",
    "                                   props=train.props)\n",
    "train_loader = DataLoader(dataset=train,\n",
    "                          batch_size=1,\n",
    "                          collate_fn=collate_dicts,\n",
    "                          shuffle=False,\n",
    "                          sampler=sampler)\n",
    "\n",
    "\n",
    "# Make the validation loader.\n",
    "# Unlike the train loader, we don't use an equal sampler here\n",
    "# because we want to know the performance on a realistic sample\n",
    "# of the data\n",
    "\n",
    "\n",
    "val_loader = DataLoader(dataset=val,\n",
    "                       batch_size=1,\n",
    "                       collate_fn=collate_dicts,\n",
    "                       shuffle=False,)\n",
    "\n",
    "# build the loss function\n",
    "loss_fn = loss.build_logits_cross_entropy_loss({key: 1})\n",
    "\n",
    "# make an Adam optimizer\n",
    "trainable_params = filter(lambda p: p.requires_grad, model.parameters())\n",
    "optimizer = Adam(trainable_params, lr=1e-4)"
   ]
  },
  {
   "cell_type": "markdown",
   "metadata": {},
   "source": [
    "Next we add some custom hooks to the training process. One reduces the learning rate after the validation score plateau, one limits the total training to 100 epochs, and one creates as CSV log file of the training process:"
   ]
  },
  {
   "cell_type": "code",
   "execution_count": 35,
   "metadata": {},
   "outputs": [],
   "source": [
    "import shutil\n",
    "\n",
    "# model path where the csv file gets created\n",
    "\n",
    "log_path = \"./test\"\n",
    "\n",
    "# remove it if it exists\n",
    "if os.path.isdir(log_path):\n",
    "    if os.path.isdir(\"backup\"):\n",
    "        os.remove(\"backup\")\n",
    "    shutil.move(log_path, \"backup\")\n",
    "    \n",
    "max_epochs = 100\n",
    "\n",
    "# monitor ROC and PRC-AUC\n",
    "\n",
    "train_metrics = [metrics.RocAuc(key), metrics.PrAuc(key)]\n",
    "\n",
    "# add custom hooks\n",
    "\n",
    "train_hooks = [\n",
    "    \n",
    "    # 1. Limit to 100 epochs\n",
    "    hooks.MaxEpochHook(max_epochs),\n",
    "    \n",
    "    # 2. Reduce learning rate on plateau\n",
    "    hooks.ReduceLROnPlateauHook(\n",
    "        optimizer=optimizer,\n",
    "        patience=10,\n",
    "        factor=0.5,\n",
    "        min_lr=1e-7,\n",
    "        window_length=1,\n",
    "        stop_after_min=True\n",
    "    ),\n",
    "    \n",
    "    # 3. Print results of various metrics\n",
    "    hooks.PrintingHook(\n",
    "        log_path,\n",
    "        metrics=train_metrics,\n",
    "        separator=' | ',\n",
    "        world_size=1,\n",
    "        global_rank=0\n",
    "    )\n",
    "]\n",
    "\n",
    "\n"
   ]
  },
  {
   "cell_type": "markdown",
   "metadata": {},
   "source": [
    "We put all of this together to make the `Trainer` instance:"
   ]
  },
  {
   "cell_type": "code",
   "execution_count": 36,
   "metadata": {},
   "outputs": [],
   "source": [
    "\n",
    "# Create a `Trainer` instance\n",
    "        \n",
    "T = Trainer(\n",
    "    model_path=\"./test\",\n",
    "    model=model,\n",
    "    loss_fn=loss_fn,\n",
    "    optimizer=optimizer,\n",
    "    train_loader=train_loader,\n",
    "    validation_loader=val_loader,\n",
    "    world_size=1,\n",
    "    global_rank=0,\n",
    "    hooks=train_hooks,\n",
    "    model_kwargs={\"sub_batch_size\": 7},\n",
    "    mini_batches=32,\n",
    "    \n",
    ")\n",
    "\n"
   ]
  },
  {
   "cell_type": "code",
   "execution_count": 37,
   "metadata": {
    "scrolled": true
   },
   "outputs": [
    {
     "name": "stdout",
     "output_type": "stream",
     "text": [
      "               Time | Epoch | Learning rate | Train loss | Validation loss | RocAuc_sars_cov_two_cl_protease_active | PrAuc_sars_cov_two_cl_protease_active | GPU Memory (MB)\n"
     ]
    },
    {
     "name": "stderr",
     "output_type": "stream",
     "text": [
      "100%|█████████▉| 488/489 [00:31<00:00, 15.31it/s]\n"
     ]
    },
    {
     "name": "stdout",
     "output_type": "stream",
     "text": [
      "2020-10-05 10:34:27 |     1 |     1.000e-04 |     0.9953 |          0.9658 |                                 0.7802 |                                0.5180 |            5959\n"
     ]
    },
    {
     "name": "stderr",
     "output_type": "stream",
     "text": [
      "100%|█████████▉| 488/489 [00:33<00:00, 14.77it/s]\n"
     ]
    },
    {
     "name": "stdout",
     "output_type": "stream",
     "text": [
      "2020-10-05 10:35:06 |     2 |     1.000e-04 |     0.6811 |          0.9130 |                                 0.7840 |                                0.4846 |            5959\n"
     ]
    },
    {
     "name": "stderr",
     "output_type": "stream",
     "text": [
      "100%|█████████▉| 488/489 [00:29<00:00, 16.43it/s]\n"
     ]
    },
    {
     "name": "stdout",
     "output_type": "stream",
     "text": [
      "2020-10-05 10:35:42 |     3 |     1.000e-04 |     0.5614 |          0.7653 |                                 0.7657 |                                0.3819 |            5959\n"
     ]
    }
   ],
   "source": [
    "# change to \"cpu\" if you have no gpu\n",
    "device = 0\n",
    "\n",
    "T.train(n_epochs=3, device=device)"
   ]
  },
  {
   "cell_type": "markdown",
   "metadata": {},
   "source": [
    "The model learns! \n",
    "\n",
    "The log information, best model and checkpoints can be found in the model folder. Here's an example of what a model folder looks like when the training is divided over 16 GPUs:"
   ]
  },
  {
   "cell_type": "markdown",
   "metadata": {},
   "source": [
    "![alt text](model_folder.png \"Title\")"
   ]
  },
  {
   "cell_type": "markdown",
   "metadata": {},
   "source": [
    "`best_model` is the best model according to the validation loss, `checkpoints` stores models of past epochs, and `log_human_read.csv` records the validation scores and metrics after each epoch. Our folder looks the same, except without the 16 folders for the different test splits:"
   ]
  },
  {
   "cell_type": "code",
   "execution_count": 38,
   "metadata": {},
   "outputs": [
    {
     "data": {
      "text/plain": [
       "['best_model', '0', 'checkpoints', 'log_human_read.csv']"
      ]
     },
     "execution_count": 38,
     "metadata": {},
     "output_type": "execute_result"
    }
   ],
   "source": [
    "os.listdir(\"test\")"
   ]
  },
  {
   "cell_type": "markdown",
   "metadata": {},
   "source": [
    "Because of the checkpointing we can restart the model at any time and it will pick up where it left off:"
   ]
  },
  {
   "cell_type": "code",
   "execution_count": 39,
   "metadata": {},
   "outputs": [
    {
     "name": "stdout",
     "output_type": "stream",
     "text": [
      "               Time | Epoch | Learning rate | Train loss | Validation loss | RocAuc_sars_cov_two_cl_protease_active | PrAuc_sars_cov_two_cl_protease_active | GPU Memory (MB)\n"
     ]
    },
    {
     "name": "stderr",
     "output_type": "stream",
     "text": [
      "100%|█████████▉| 488/489 [00:29<00:00, 16.72it/s]\n"
     ]
    },
    {
     "name": "stdout",
     "output_type": "stream",
     "text": [
      "2020-10-05 10:36:18 |     4 |     1.000e-04 |     0.5180 |          0.8644 |                                 0.7921 |                                0.5487 |            5959\n"
     ]
    },
    {
     "name": "stderr",
     "output_type": "stream",
     "text": [
      "100%|█████████▉| 488/489 [00:30<00:00, 16.17it/s]\n"
     ]
    },
    {
     "name": "stdout",
     "output_type": "stream",
     "text": [
      "2020-10-05 10:36:54 |     5 |     1.000e-04 |     0.5362 |          0.9352 |                                 0.7836 |                                0.5300 |            5962\n"
     ]
    }
   ],
   "source": [
    "T.train(n_epochs=2, device=device)"
   ]
  },
  {
   "cell_type": "markdown",
   "metadata": {},
   "source": [
    "# Exporting results and using transfer learning"
   ]
  },
  {
   "cell_type": "markdown",
   "metadata": {},
   "source": [
    "The model can be used to generate predictions, conformer fingerprints, pooled fingerprints, and learned conformer weights. To get and save these predictions, we run `transfer/get_fps/make_fps.sh`. Running\n",
    "\n",
    "```\n",
    "cd ../scripts/cp3d/transfer/get_fps\n",
    "bash make_fps.sh\n",
    "```\n",
    "\n",
    "should give you something like this:\n",
    "\n",
    "```\n",
    "Evaluating model using the \"loss\" metric\n",
    "python make_fps.py --metric \"loss\" --config_file fp_config.json\n",
    "100%|████████████████████████████████████████████████████████████████| 3/3 [00:00<00:00,  6.90it/s]\n",
    "100%|████████████████████████████████████████████████████████████████| 489/489 [00:18<00:00, 26.65it/s]\n",
    "100%|████████████████████████████████████████████████████████████████| 162/162 [00:06<00:00, 25.92it/s]\n",
    "100%|████████████████████████████████████████████████████████████████| 164/164 [00:06<00:00, 25.22it/s]\n",
    "100%|████████████████████████████████████████████████████████████████| 3/3 [00:49<00:00, 16.38s/it]\n",
    "Complete!\n",
    "\n",
    "Evaluating model using the \"prc-auc\" metric\n",
    "python make_fps.py --metric \"prc-auc\" --config_file fp_config.json\n",
    "100%|████████████████████████████████████████████████████████████████| 3/3 [00:00<00:00,  6.66it/s]\n",
    "100%|████████████████████████████████████████████████████████████████| 489/489 [00:18<00:00, 26.33it/s]\n",
    "100%|████████████████████████████████████████████████████████████████| 162/162 [00:06<00:00, 25.73it/s]\n",
    "100%|████████████████████████████████████████████████████████████████| 164/164 [00:06<00:00, 25.05it/s]\n",
    "100%|████████████████████████████████████████████████████████████████| 3/3 [01:03<00:00, 21.12s/it]\n",
    "Complete!\n",
    "\n",
    "Evaluating model using the \"auc\" metric\n",
    "python make_fps.py --metric \"auc\" --config_file fp_config.json\n",
    "100%|████████████████████████████████████████████████████████████████| 3/3 [00:00<00:00,  6.45it/s]\n",
    "100%|████████████████████████████████████████████████████████████████| 489/489 [00:18<00:00, 26.56it/s]\n",
    "100%|████████████████████████████████████████████████████████████████| 162/162 [00:06<00:00, 26.00it/s]\n",
    "100%|████████████████████████████████████████████████████████████████| 164/164 [00:06<00:00, 25.39it/s]\n",
    "100%|████████████████████████████████████████████████████████████████| 3/3 [00:48<00:00, 16.25s/it]\n",
    "Complete!\n",
    "\n",
    "```\n",
    "\n",
    "\n",
    "\n",
    "The script generates predictions using the best model, but with different definitions of best: the lowest validation loss, the highest validation auc, etc. Let's look, for example, at predictions from a model with the highest validation prc-auc (note, this is a separate pre-trained model from the one above, so you will see different results):"
   ]
  },
  {
   "cell_type": "code",
   "execution_count": 40,
   "metadata": {},
   "outputs": [],
   "source": [
    "folder = \"/home/saxelrod/supercloud2/models/cov_2_protease/fps_from_att_k1_yes_prob\"\n",
    "path = os.path.join(folder, \"pred_prc-auc_test.pickle\")\n",
    "\n",
    "with open(path, \"rb\") as f:\n",
    "    dic = pickle.load(f)"
   ]
  },
  {
   "cell_type": "markdown",
   "metadata": {},
   "source": [
    "Let's look at a sample species:"
   ]
  },
  {
   "cell_type": "code",
   "execution_count": 41,
   "metadata": {},
   "outputs": [
    {
     "data": {
      "text/plain": [
       "dict_keys(['fp', 'conf_fps', 'learned_weights', 'energy', 'boltz_weights', 'true', 'pred'])"
      ]
     },
     "execution_count": 41,
     "metadata": {},
     "output_type": "execute_result"
    }
   ],
   "source": [
    "smiles = list(dic.keys())[10]\n",
    "dic[smiles].keys()"
   ]
  },
  {
   "cell_type": "markdown",
   "metadata": {},
   "source": [
    "We get the conformer fingerprints (`conf_fps`), the pooled fingerprints (`fp`), the learned weights, the Boltzmann weights, the energy, and the predicted vs. true values. We can use these results, for example, to calculate the PRC-AUC, or any other metric.\n",
    "\n",
    "If we want to use these features as extra features in ChemProp, we first run\n",
    "\n",
    "\n",
    "```\n",
    "cd ../scripts/cp3d/transfer/export_to_cp\n",
    "bash save_feats.sh\n",
    "```\n",
    "\n",
    "whoch should give you something like this:\n",
    "\n",
    "```\n",
    "Saved 9 files with features \n",
    "Used model in /home/saxelrod/supercloud2/models/cov_2_protease/fps_from_att_k1_yes_prob \n",
    "\n",
    "Save folder: \n",
    "/home/saxelrod/chemprop_cov_2/features/fps_from_att_k1_yes_prob\n",
    "\n",
    "Save names: \n",
    "train_loss.npz\n",
    "val_loss.npz\n",
    "test_loss.npz\n",
    "train_auc.npz\n",
    "val_auc.npz\n",
    "test_auc.npz\n",
    "train_prc-auc.npz\n",
    "val_prc-auc.npz\n",
    "test_prc-auc.npz\n",
    "```\n",
    "\n",
    "\n",
    "And now that the features are in ChemProp-usable form, we can run `run_cp/run_all_tls.sh`, which will train ChemProp models using the different sets of features above (`loss`, `auc`, and `prc-auc`), and finally store the ChemProp model predictions using `run_cp/predict.sh`. "
   ]
  },
  {
   "cell_type": "code",
   "execution_count": null,
   "metadata": {},
   "outputs": [],
   "source": []
  }
 ],
 "metadata": {
  "kernelspec": {
   "display_name": "Python [conda env:nff]",
   "language": "python",
   "name": "geom"
  },
  "language_info": {
   "codemirror_mode": {
    "name": "ipython",
    "version": 3
   },
   "file_extension": ".py",
   "mimetype": "text/x-python",
   "name": "python",
   "nbconvert_exporter": "python",
   "pygments_lexer": "ipython3",
   "version": "3.7.5"
  }
 },
 "nbformat": 4,
 "nbformat_minor": 2
}
