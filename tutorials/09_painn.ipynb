{
 "cells": [
  {
   "cell_type": "code",
   "execution_count": 1,
   "metadata": {},
   "outputs": [],
   "source": [
    "%load_ext autoreload\n",
    "%autoreload 2\n",
    "\n",
    "import sys\n",
    "\n",
    "sys.path.insert(0, \"..\")\n",
    "sys.path.insert(0, \"../..\")"
   ]
  },
  {
   "cell_type": "markdown",
   "metadata": {},
   "source": [
    "# PaiNN \n",
    "This tutorial gives an example of implementing the [equivariant PaiNN architecture](https://arxiv.org/pdf/2102.03150.pdf)"
   ]
  },
  {
   "cell_type": "markdown",
   "metadata": {},
   "source": [
    "First we import dependencies for the tutorial:"
   ]
  },
  {
   "cell_type": "code",
   "execution_count": 2,
   "metadata": {
    "scrolled": true
   },
   "outputs": [
    {
     "name": "stdout",
     "output_type": "stream",
     "text": [
      "/home/dux/NeuralForceField/models\n"
     ]
    }
   ],
   "source": [
    "import sys\n",
    "from pathlib import Path\n",
    "\n",
    "import os\n",
    "import shutil\n",
    "import numpy as np\n",
    "import matplotlib.pyplot as plt\n",
    "import copy\n",
    "\n",
    "import torch\n",
    "from torch.optim import Adam\n",
    "from torch.utils.data import DataLoader\n",
    "from torch.utils.data.sampler import RandomSampler\n",
    "\n",
    "\n",
    "from nff.data import Dataset, split_train_validation_test, collate_dicts, to_tensor\n",
    "from nff.train import Trainer, get_trainer, get_model, load_model, loss, hooks, metrics, evaluate"
   ]
  },
  {
   "cell_type": "markdown",
   "metadata": {},
   "source": [
    "First we make a directory for our work and load the ethanol dataset:"
   ]
  },
  {
   "cell_type": "code",
   "execution_count": 3,
   "metadata": {},
   "outputs": [],
   "source": [
    "DEVICE = 0\n",
    "OUTDIR = \"./sandbox_painn\"\n",
    "# batch size used in the original paper\n",
    "BATCH_SIZE = 10\n",
    "\n",
    "if os.path.exists(OUTDIR):\n",
    "    newpath = os.path.join(os.path.dirname(OUTDIR), \"backup\")\n",
    "    if os.path.exists(newpath):\n",
    "        shutil.rmtree(newpath)\n",
    "\n",
    "    shutil.move(OUTDIR, newpath)\n",
    "\n",
    "dataset = Dataset.from_file(\"data/dataset.pth.tar\")\n",
    "train, val, test = split_train_validation_test(dataset, val_size=0.2, test_size=0.2, seed=0)"
   ]
  },
  {
   "cell_type": "markdown",
   "metadata": {},
   "source": [
    "Now we make the model. Note that we can use the mean and standard deviation of the energy in the training set to scale the outputs of the model:"
   ]
  },
  {
   "cell_type": "code",
   "execution_count": 4,
   "metadata": {},
   "outputs": [],
   "source": [
    "modelparams = {\n",
    "    \"feat_dim\": 128,\n",
    "    \"activation\": \"swish\",\n",
    "    \"n_rbf\": 20,\n",
    "    \"cutoff\": 5.0,\n",
    "    \"num_conv\": 3,\n",
    "    \"output_keys\": [\"energy\"],\n",
    "    \"grad_keys\": [\"energy_grad\"],\n",
    "    # whether to sum outputs from all blocks in the model\n",
    "    # or just the final output block. False in the original\n",
    "    # implementation\n",
    "    \"skip_connection\": {\"energy\": False},\n",
    "    # Whether the k parameters in the Bessel basis functions\n",
    "    # are learnable. False originally\n",
    "    \"learnable_k\": False,\n",
    "    # dropout rate in the convolution layers, originally 0\n",
    "    \"conv_dropout\": 0.0,\n",
    "    # dropout rate in the readout layers, originally 0\n",
    "    \"readout_dropout\": 0.0,\n",
    "    # dictionary of means to add to each output key\n",
    "    # (this is optional - if you don't supply it then\n",
    "    # nothing will be added)\n",
    "    \"means\": {\"energy\": train.props[\"energy\"].mean().item()},\n",
    "    # dictionary of standard devations with which to\n",
    "    # multiply each output key\n",
    "    # (this is optional - if you don't supply it then\n",
    "    # nothing will be multiplied)\n",
    "    \"stddevs\": {\"energy\": train.props[\"energy\"].std().item()},\n",
    "}\n",
    "model = get_model(modelparams, model_type=\"Painn\")\n",
    "\n",
    "# untrained model to test for equivariant/invariant outputs\n",
    "original_model = copy.deepcopy(model)"
   ]
  },
  {
   "cell_type": "markdown",
   "metadata": {},
   "source": [
    "Next we make the training splits, loaders, and trainer\n",
    "- Remember to use a random sampler for the train loader, because that makes a big difference in the results (at least for small datasets)"
   ]
  },
  {
   "cell_type": "code",
   "execution_count": 5,
   "metadata": {},
   "outputs": [],
   "source": [
    "train_loader = DataLoader(train, batch_size=BATCH_SIZE, collate_fn=collate_dicts, sampler=RandomSampler(train))\n",
    "\n",
    "val_loader = DataLoader(val, batch_size=BATCH_SIZE, collate_fn=collate_dicts)\n",
    "test_loader = DataLoader(test, batch_size=BATCH_SIZE, collate_fn=collate_dicts)\n",
    "\n",
    "# loss trade-off used in the original paper\n",
    "loss_fn = loss.build_mse_loss(loss_coef={\"energy_grad\": 0.95, \"energy\": 0.05})\n",
    "\n",
    "trainable_params = filter(lambda p: p.requires_grad, model.parameters())\n",
    "\n",
    "# learning rate used in the original paper\n",
    "optimizer = Adam(trainable_params, lr=1e-3)\n",
    "\n",
    "\n",
    "train_metrics = [metrics.MeanAbsoluteError(\"energy\"), metrics.MeanAbsoluteError(\"energy_grad\")]\n",
    "\n",
    "\n",
    "train_hooks = [\n",
    "    hooks.MaxEpochHook(100),\n",
    "    hooks.CSVHook(\n",
    "        OUTDIR,\n",
    "        metrics=train_metrics,\n",
    "    ),\n",
    "    hooks.PrintingHook(OUTDIR, metrics=train_metrics, separator=\" | \", time_strf=\"%M:%S\"),\n",
    "    hooks.ReduceLROnPlateauHook(\n",
    "        optimizer=optimizer,\n",
    "        # patience in the original paper\n",
    "        patience=50,\n",
    "        factor=0.5,\n",
    "        min_lr=1e-7,\n",
    "        window_length=1,\n",
    "        stop_after_min=True,\n",
    "    ),\n",
    "]\n",
    "\n",
    "T = Trainer(\n",
    "    model_path=OUTDIR,\n",
    "    model=model,\n",
    "    loss_fn=loss_fn,\n",
    "    optimizer=optimizer,\n",
    "    train_loader=train_loader,\n",
    "    validation_loader=val_loader,\n",
    "    checkpoint_interval=1,\n",
    "    hooks=train_hooks,\n",
    "    mini_batches=1,\n",
    ")"
   ]
  },
  {
   "cell_type": "markdown",
   "metadata": {},
   "source": [
    "Now we train and see the results!"
   ]
  },
  {
   "cell_type": "code",
   "execution_count": 6,
   "metadata": {
    "scrolled": true
   },
   "outputs": [
    {
     "name": "stdout",
     "output_type": "stream",
     "text": [
      " Time | Epoch | Learning rate | Train loss | Validation loss | MAE_energy | MAE_energy_grad | GPU Memory (MB)\n"
     ]
    },
    {
     "name": "stderr",
     "output_type": "stream",
     "text": [
      " 98%|█████████▊| 59/60 [00:04<00:00, 14.48it/s]\n"
     ]
    },
    {
     "name": "stdout",
     "output_type": "stream",
     "text": [
      "51:59 |     1 |     1.000e-03 |   116.3350 |         36.6775 |     1.3173 |          4.4538 |              69\n"
     ]
    },
    {
     "name": "stderr",
     "output_type": "stream",
     "text": [
      " 98%|█████████▊| 59/60 [00:03<00:00, 17.10it/s]\n"
     ]
    },
    {
     "name": "stdout",
     "output_type": "stream",
     "text": [
      "52:03 |     2 |     1.000e-03 |    27.1413 |         17.9639 |     1.5296 |          3.0368 |              69\n"
     ]
    },
    {
     "name": "stderr",
     "output_type": "stream",
     "text": [
      " 98%|█████████▊| 59/60 [00:03<00:00, 17.31it/s]\n"
     ]
    },
    {
     "name": "stdout",
     "output_type": "stream",
     "text": [
      "52:07 |     3 |     1.000e-03 |    15.9219 |         11.5762 |     0.7886 |          2.5603 |              69\n"
     ]
    },
    {
     "name": "stderr",
     "output_type": "stream",
     "text": [
      " 98%|█████████▊| 59/60 [00:03<00:00, 16.77it/s]\n"
     ]
    },
    {
     "name": "stdout",
     "output_type": "stream",
     "text": [
      "52:11 |     4 |     1.000e-03 |    13.4304 |         12.7131 |     3.2286 |          2.5221 |              69\n"
     ]
    },
    {
     "name": "stderr",
     "output_type": "stream",
     "text": [
      " 98%|█████████▊| 59/60 [00:03<00:00, 16.87it/s]\n"
     ]
    },
    {
     "name": "stdout",
     "output_type": "stream",
     "text": [
      "52:15 |     5 |     1.000e-03 |    11.0423 |          8.8909 |     1.8030 |          2.2040 |              69\n"
     ]
    },
    {
     "name": "stderr",
     "output_type": "stream",
     "text": [
      " 98%|█████████▊| 59/60 [00:03<00:00, 17.76it/s]\n"
     ]
    },
    {
     "name": "stdout",
     "output_type": "stream",
     "text": [
      "52:19 |     6 |     1.000e-03 |     9.3212 |         10.0637 |     0.8711 |          2.5401 |              69\n"
     ]
    },
    {
     "name": "stderr",
     "output_type": "stream",
     "text": [
      " 98%|█████████▊| 59/60 [00:03<00:00, 16.74it/s]\n"
     ]
    },
    {
     "name": "stdout",
     "output_type": "stream",
     "text": [
      "52:24 |     7 |     1.000e-03 |     7.0754 |          6.0645 |     1.9393 |          1.8438 |              69\n"
     ]
    },
    {
     "name": "stderr",
     "output_type": "stream",
     "text": [
      " 98%|█████████▊| 59/60 [00:03<00:00, 16.87it/s]\n"
     ]
    },
    {
     "name": "stdout",
     "output_type": "stream",
     "text": [
      "52:28 |     8 |     1.000e-03 |     6.3096 |          6.6301 |     0.9825 |          1.8916 |              69\n"
     ]
    },
    {
     "name": "stderr",
     "output_type": "stream",
     "text": [
      " 98%|█████████▊| 59/60 [00:03<00:00, 16.90it/s]\n"
     ]
    },
    {
     "name": "stdout",
     "output_type": "stream",
     "text": [
      "52:32 |     9 |     1.000e-03 |     5.2896 |          6.0763 |     0.8867 |          1.7372 |              69\n"
     ]
    },
    {
     "name": "stderr",
     "output_type": "stream",
     "text": [
      " 98%|█████████▊| 59/60 [00:03<00:00, 16.94it/s]\n"
     ]
    },
    {
     "name": "stdout",
     "output_type": "stream",
     "text": [
      "52:36 |    10 |     1.000e-03 |     4.5835 |          5.4311 |     0.6541 |          1.7061 |              69\n"
     ]
    },
    {
     "name": "stderr",
     "output_type": "stream",
     "text": [
      " 98%|█████████▊| 59/60 [00:03<00:00, 17.46it/s]\n"
     ]
    },
    {
     "name": "stdout",
     "output_type": "stream",
     "text": [
      "52:40 |    11 |     1.000e-03 |     4.4681 |          5.1631 |     0.7594 |          1.7718 |              69\n"
     ]
    },
    {
     "name": "stderr",
     "output_type": "stream",
     "text": [
      " 98%|█████████▊| 59/60 [00:03<00:00, 17.10it/s]\n"
     ]
    },
    {
     "name": "stdout",
     "output_type": "stream",
     "text": [
      "52:44 |    12 |     1.000e-03 |     4.0843 |          4.7294 |     0.7364 |          1.5772 |              69\n"
     ]
    },
    {
     "name": "stderr",
     "output_type": "stream",
     "text": [
      " 98%|█████████▊| 59/60 [00:03<00:00, 16.66it/s]\n"
     ]
    },
    {
     "name": "stdout",
     "output_type": "stream",
     "text": [
      "52:48 |    13 |     1.000e-03 |     4.0154 |          5.5233 |     0.7720 |          1.8114 |              69\n"
     ]
    },
    {
     "name": "stderr",
     "output_type": "stream",
     "text": [
      " 98%|█████████▊| 59/60 [00:03<00:00, 16.74it/s]\n"
     ]
    },
    {
     "name": "stdout",
     "output_type": "stream",
     "text": [
      "52:53 |    14 |     1.000e-03 |     4.0666 |          5.8682 |     1.0083 |          1.8306 |              69\n"
     ]
    },
    {
     "name": "stderr",
     "output_type": "stream",
     "text": [
      " 98%|█████████▊| 59/60 [00:03<00:00, 17.28it/s]\n"
     ]
    },
    {
     "name": "stdout",
     "output_type": "stream",
     "text": [
      "52:57 |    15 |     1.000e-03 |     3.9569 |          3.4175 |     0.7420 |          1.3734 |              69\n"
     ]
    },
    {
     "name": "stderr",
     "output_type": "stream",
     "text": [
      " 98%|█████████▊| 59/60 [00:03<00:00, 16.70it/s]\n"
     ]
    },
    {
     "name": "stdout",
     "output_type": "stream",
     "text": [
      "53:01 |    16 |     1.000e-03 |     3.4542 |          3.5060 |     1.6850 |          1.3508 |              69\n"
     ]
    },
    {
     "name": "stderr",
     "output_type": "stream",
     "text": [
      " 98%|█████████▊| 59/60 [00:03<00:00, 17.13it/s]\n"
     ]
    },
    {
     "name": "stdout",
     "output_type": "stream",
     "text": [
      "53:05 |    17 |     1.000e-03 |     2.8869 |          3.6226 |     1.3980 |          1.3955 |              69\n"
     ]
    },
    {
     "name": "stderr",
     "output_type": "stream",
     "text": [
      " 98%|█████████▊| 59/60 [00:03<00:00, 16.97it/s]\n"
     ]
    },
    {
     "name": "stdout",
     "output_type": "stream",
     "text": [
      "53:09 |    18 |     1.000e-03 |     2.8225 |          5.8393 |     0.8547 |          1.6663 |              69\n"
     ]
    },
    {
     "name": "stderr",
     "output_type": "stream",
     "text": [
      " 98%|█████████▊| 59/60 [00:03<00:00, 16.21it/s]\n"
     ]
    },
    {
     "name": "stdout",
     "output_type": "stream",
     "text": [
      "53:13 |    19 |     1.000e-03 |     3.0362 |          3.1945 |     0.8191 |          1.3062 |              69\n"
     ]
    },
    {
     "name": "stderr",
     "output_type": "stream",
     "text": [
      " 98%|█████████▊| 59/60 [00:03<00:00, 17.34it/s]\n"
     ]
    },
    {
     "name": "stdout",
     "output_type": "stream",
     "text": [
      "53:17 |    20 |     1.000e-03 |     2.5798 |          4.1676 |     0.5641 |          1.5643 |              69\n"
     ]
    },
    {
     "name": "stderr",
     "output_type": "stream",
     "text": [
      " 98%|█████████▊| 59/60 [00:03<00:00, 17.39it/s]\n"
     ]
    },
    {
     "name": "stdout",
     "output_type": "stream",
     "text": [
      "53:21 |    21 |     1.000e-03 |     2.4531 |          3.1713 |     0.8919 |          1.3153 |              69\n"
     ]
    },
    {
     "name": "stderr",
     "output_type": "stream",
     "text": [
      " 98%|█████████▊| 59/60 [00:03<00:00, 17.26it/s]\n"
     ]
    },
    {
     "name": "stdout",
     "output_type": "stream",
     "text": [
      "53:25 |    22 |     1.000e-03 |     2.0985 |          2.8392 |     0.5911 |          1.2582 |              69\n"
     ]
    },
    {
     "name": "stderr",
     "output_type": "stream",
     "text": [
      " 98%|█████████▊| 59/60 [00:03<00:00, 16.85it/s]\n"
     ]
    },
    {
     "name": "stdout",
     "output_type": "stream",
     "text": [
      "53:29 |    23 |     1.000e-03 |     1.9885 |          2.8793 |     0.5033 |          1.2666 |              69\n"
     ]
    },
    {
     "name": "stderr",
     "output_type": "stream",
     "text": [
      " 98%|█████████▊| 59/60 [00:03<00:00, 17.66it/s]\n"
     ]
    },
    {
     "name": "stdout",
     "output_type": "stream",
     "text": [
      "53:33 |    24 |     1.000e-03 |     2.1186 |          3.1267 |     0.4576 |          1.3641 |              69\n"
     ]
    },
    {
     "name": "stderr",
     "output_type": "stream",
     "text": [
      " 98%|█████████▊| 59/60 [00:03<00:00, 17.15it/s]\n"
     ]
    },
    {
     "name": "stdout",
     "output_type": "stream",
     "text": [
      "53:37 |    25 |     1.000e-03 |     2.2938 |          3.6022 |     0.5499 |          1.4153 |              69\n"
     ]
    },
    {
     "name": "stderr",
     "output_type": "stream",
     "text": [
      " 98%|█████████▊| 59/60 [00:03<00:00, 17.33it/s]\n"
     ]
    },
    {
     "name": "stdout",
     "output_type": "stream",
     "text": [
      "53:41 |    26 |     1.000e-03 |     2.4785 |          2.9511 |     0.5262 |          1.2373 |              69\n"
     ]
    },
    {
     "name": "stderr",
     "output_type": "stream",
     "text": [
      " 98%|█████████▊| 59/60 [00:03<00:00, 16.92it/s]\n"
     ]
    },
    {
     "name": "stdout",
     "output_type": "stream",
     "text": [
      "53:45 |    27 |     1.000e-03 |     1.8496 |          2.4093 |     0.6872 |          1.1169 |              69\n"
     ]
    },
    {
     "name": "stderr",
     "output_type": "stream",
     "text": [
      " 98%|█████████▊| 59/60 [00:03<00:00, 17.42it/s]\n"
     ]
    },
    {
     "name": "stdout",
     "output_type": "stream",
     "text": [
      "53:49 |    28 |     1.000e-03 |     1.6522 |          2.7896 |     1.0980 |          1.1965 |              69\n"
     ]
    },
    {
     "name": "stderr",
     "output_type": "stream",
     "text": [
      " 98%|█████████▊| 59/60 [00:03<00:00, 17.27it/s]\n"
     ]
    },
    {
     "name": "stdout",
     "output_type": "stream",
     "text": [
      "53:53 |    29 |     1.000e-03 |     1.6671 |          2.2270 |     0.4129 |          1.0717 |              69\n"
     ]
    },
    {
     "name": "stderr",
     "output_type": "stream",
     "text": [
      " 98%|█████████▊| 59/60 [00:03<00:00, 16.77it/s]\n"
     ]
    },
    {
     "name": "stdout",
     "output_type": "stream",
     "text": [
      "53:58 |    30 |     1.000e-03 |     1.4465 |          3.1011 |     0.6438 |          1.3192 |              69\n"
     ]
    },
    {
     "name": "stderr",
     "output_type": "stream",
     "text": [
      " 98%|█████████▊| 59/60 [00:03<00:00, 18.16it/s]\n"
     ]
    },
    {
     "name": "stdout",
     "output_type": "stream",
     "text": [
      "54:02 |    31 |     1.000e-03 |     2.2260 |          2.5273 |     0.4546 |          1.1610 |              69\n"
     ]
    },
    {
     "name": "stderr",
     "output_type": "stream",
     "text": [
      " 98%|█████████▊| 59/60 [00:03<00:00, 17.54it/s]\n"
     ]
    },
    {
     "name": "stdout",
     "output_type": "stream",
     "text": [
      "54:05 |    32 |     1.000e-03 |     2.1945 |          2.4182 |     0.5727 |          1.1372 |              69\n"
     ]
    },
    {
     "name": "stderr",
     "output_type": "stream",
     "text": [
      " 98%|█████████▊| 59/60 [00:03<00:00, 17.44it/s]\n"
     ]
    },
    {
     "name": "stdout",
     "output_type": "stream",
     "text": [
      "54:09 |    33 |     1.000e-03 |     1.6215 |          2.9872 |     0.3100 |          1.2392 |              69\n"
     ]
    },
    {
     "name": "stderr",
     "output_type": "stream",
     "text": [
      " 98%|█████████▊| 59/60 [00:03<00:00, 17.34it/s]\n"
     ]
    },
    {
     "name": "stdout",
     "output_type": "stream",
     "text": [
      "54:13 |    34 |     1.000e-03 |     1.7448 |          2.8544 |     0.5741 |          1.2959 |              69\n"
     ]
    },
    {
     "name": "stderr",
     "output_type": "stream",
     "text": [
      " 98%|█████████▊| 59/60 [00:03<00:00, 17.36it/s]\n"
     ]
    },
    {
     "name": "stdout",
     "output_type": "stream",
     "text": [
      "54:17 |    35 |     1.000e-03 |     1.9712 |          2.9368 |     0.3556 |          1.2251 |              69\n"
     ]
    },
    {
     "name": "stderr",
     "output_type": "stream",
     "text": [
      " 98%|█████████▊| 59/60 [00:03<00:00, 17.18it/s]\n"
     ]
    },
    {
     "name": "stdout",
     "output_type": "stream",
     "text": [
      "54:22 |    36 |     1.000e-03 |     3.4332 |          3.7772 |     0.8362 |          1.4959 |              69\n"
     ]
    },
    {
     "name": "stderr",
     "output_type": "stream",
     "text": [
      " 98%|█████████▊| 59/60 [00:03<00:00, 17.30it/s]\n"
     ]
    },
    {
     "name": "stdout",
     "output_type": "stream",
     "text": [
      "54:26 |    37 |     1.000e-03 |     2.9026 |          3.0434 |     0.9883 |          1.2778 |              69\n"
     ]
    },
    {
     "name": "stderr",
     "output_type": "stream",
     "text": [
      " 98%|█████████▊| 59/60 [00:03<00:00, 16.69it/s]\n"
     ]
    },
    {
     "name": "stdout",
     "output_type": "stream",
     "text": [
      "54:30 |    38 |     1.000e-03 |     2.1792 |          2.8587 |     0.7466 |          1.2199 |              69\n"
     ]
    },
    {
     "name": "stderr",
     "output_type": "stream",
     "text": [
      " 98%|█████████▊| 59/60 [00:03<00:00, 16.51it/s]\n"
     ]
    },
    {
     "name": "stdout",
     "output_type": "stream",
     "text": [
      "54:34 |    39 |     1.000e-03 |     2.2902 |          2.9257 |     0.4914 |          1.2832 |              69\n"
     ]
    },
    {
     "name": "stderr",
     "output_type": "stream",
     "text": [
      " 98%|█████████▊| 59/60 [00:03<00:00, 16.73it/s]\n"
     ]
    },
    {
     "name": "stdout",
     "output_type": "stream",
     "text": [
      "54:38 |    40 |     1.000e-03 |     1.7160 |          1.9854 |     0.7872 |          1.0135 |              69\n"
     ]
    },
    {
     "name": "stderr",
     "output_type": "stream",
     "text": [
      " 98%|█████████▊| 59/60 [00:03<00:00, 17.39it/s]\n"
     ]
    },
    {
     "name": "stdout",
     "output_type": "stream",
     "text": [
      "54:42 |    41 |     1.000e-03 |     1.3346 |          1.7113 |     0.5499 |          0.9447 |              69\n"
     ]
    },
    {
     "name": "stderr",
     "output_type": "stream",
     "text": [
      " 98%|█████████▊| 59/60 [00:03<00:00, 17.17it/s]\n"
     ]
    },
    {
     "name": "stdout",
     "output_type": "stream",
     "text": [
      "54:46 |    42 |     1.000e-03 |     1.3330 |          1.8805 |     1.1506 |          0.9865 |              69\n"
     ]
    },
    {
     "name": "stderr",
     "output_type": "stream",
     "text": [
      " 98%|█████████▊| 59/60 [00:03<00:00, 17.29it/s]\n"
     ]
    },
    {
     "name": "stdout",
     "output_type": "stream",
     "text": [
      "54:50 |    43 |     1.000e-03 |     1.4665 |          2.3534 |     0.3005 |          1.1327 |              69\n"
     ]
    },
    {
     "name": "stderr",
     "output_type": "stream",
     "text": [
      " 98%|█████████▊| 59/60 [00:03<00:00, 16.83it/s]\n"
     ]
    },
    {
     "name": "stdout",
     "output_type": "stream",
     "text": [
      "54:54 |    44 |     1.000e-03 |     2.4731 |          3.2228 |     0.4526 |          1.3260 |              69\n"
     ]
    },
    {
     "name": "stderr",
     "output_type": "stream",
     "text": [
      " 98%|█████████▊| 59/60 [00:03<00:00, 17.24it/s]\n"
     ]
    },
    {
     "name": "stdout",
     "output_type": "stream",
     "text": [
      "54:58 |    45 |     1.000e-03 |     1.6810 |          1.7661 |     0.5741 |          0.9700 |              69\n"
     ]
    },
    {
     "name": "stderr",
     "output_type": "stream",
     "text": [
      " 98%|█████████▊| 59/60 [00:03<00:00, 17.24it/s]\n"
     ]
    },
    {
     "name": "stdout",
     "output_type": "stream",
     "text": [
      "55:02 |    46 |     1.000e-03 |     1.3544 |          2.0556 |     0.5249 |          1.0052 |              69\n"
     ]
    },
    {
     "name": "stderr",
     "output_type": "stream",
     "text": [
      " 98%|█████████▊| 59/60 [00:03<00:00, 16.87it/s]\n"
     ]
    },
    {
     "name": "stdout",
     "output_type": "stream",
     "text": [
      "55:06 |    47 |     1.000e-03 |     1.2206 |          2.0816 |     0.3142 |          1.0455 |              73\n"
     ]
    },
    {
     "name": "stderr",
     "output_type": "stream",
     "text": [
      " 98%|█████████▊| 59/60 [00:03<00:00, 16.47it/s]\n"
     ]
    },
    {
     "name": "stdout",
     "output_type": "stream",
     "text": [
      "55:11 |    48 |     1.000e-03 |     1.1470 |          1.7795 |     0.2492 |          0.9842 |              73\n"
     ]
    },
    {
     "name": "stderr",
     "output_type": "stream",
     "text": [
      " 98%|█████████▊| 59/60 [00:03<00:00, 18.16it/s]\n"
     ]
    },
    {
     "name": "stdout",
     "output_type": "stream",
     "text": [
      "55:15 |    49 |     1.000e-03 |     1.1898 |          1.6984 |     0.2287 |          0.9375 |              73\n"
     ]
    },
    {
     "name": "stderr",
     "output_type": "stream",
     "text": [
      " 98%|█████████▊| 59/60 [00:03<00:00, 16.77it/s]\n"
     ]
    },
    {
     "name": "stdout",
     "output_type": "stream",
     "text": [
      "55:19 |    50 |     1.000e-03 |     1.2321 |          2.0322 |     0.5338 |          0.9931 |              73\n"
     ]
    }
   ],
   "source": [
    "T.train(device=DEVICE, n_epochs=50)"
   ]
  },
  {
   "cell_type": "markdown",
   "metadata": {},
   "source": [
    "Check that the energies are invariant to rotations and that the gradients are equivariant:"
   ]
  },
  {
   "cell_type": "code",
   "execution_count": 10,
   "metadata": {
    "scrolled": true
   },
   "outputs": [
    {
     "name": "stdout",
     "output_type": "stream",
     "text": [
      "tensor([[ 1.0000e+00, -1.1176e-08,  0.0000e+00],\n",
      "        [-1.1176e-08,  1.0000e+00,  2.9802e-08],\n",
      "        [ 0.0000e+00,  2.9802e-08,  1.0000e+00]])\n"
     ]
    }
   ],
   "source": [
    "from numpy import cos, sin\n",
    "\n",
    "\n",
    "def make_rot(alpha, beta, gamma):\n",
    "    \"\"\"\n",
    "    Make a general rotation matrix from angles alpha, beta and gamma\n",
    "    \"\"\"\n",
    "    r = torch.Tensor(\n",
    "        [\n",
    "            [\n",
    "                cos(alpha) * cos(beta),\n",
    "                cos(alpha) * sin(beta) * sin(gamma) - sin(alpha) * cos(gamma),\n",
    "                cos(alpha) * sin(beta) * cos(gamma) + sin(alpha) * sin(gamma),\n",
    "            ],\n",
    "            [\n",
    "                sin(alpha) * cos(beta),\n",
    "                sin(alpha) * sin(beta) * sin(gamma) + cos(alpha) * cos(gamma),\n",
    "                sin(alpha) * sin(beta) * cos(gamma) - cos(alpha) * sin(gamma),\n",
    "            ],\n",
    "            [-sin(beta), cos(beta) * sin(gamma), cos(beta) * cos(gamma)],\n",
    "        ]\n",
    "    )\n",
    "\n",
    "    return r\n",
    "\n",
    "\n",
    "# test that an arbitrary rotation matrix is unitary\n",
    "r = make_rot(0.2, 0.1, 0.4)\n",
    "print(torch.matmul(r, r.transpose(0, 1)))"
   ]
  },
  {
   "cell_type": "code",
   "execution_count": 11,
   "metadata": {},
   "outputs": [
    {
     "name": "stdout",
     "output_type": "stream",
     "text": [
      "15.14309406 \n",
      "tensor([[ -5.3574,  -3.3610,   1.7940],\n",
      "        [  5.2453,   2.0934,  -1.4208],\n",
      "        [  0.0360, -11.3235,  -7.0407],\n",
      "        [  1.3895,  -1.5851,  -6.5782],\n",
      "        [ -3.8791,   1.8471,   6.1181],\n",
      "        [ -1.8918,   4.8177,   3.9140],\n",
      "        [  6.4010,  -4.7729,   1.3139],\n",
      "        [  0.8660,   0.2727,  -3.8979],\n",
      "        [ -2.8095,  12.0116,   5.7977]], grad_fn=<StackBackward0>)\n",
      "15.14309120 \n",
      "tensor([[ -5.3574,  -3.3610,   1.7940],\n",
      "        [  5.2453,   2.0934,  -1.4208],\n",
      "        [  0.0360, -11.3235,  -7.0407],\n",
      "        [  1.3895,  -1.5851,  -6.5782],\n",
      "        [ -3.8791,   1.8471,   6.1181],\n",
      "        [ -1.8918,   4.8177,   3.9139],\n",
      "        [  6.4010,  -4.7729,   1.3139],\n",
      "        [  0.8660,   0.2727,  -3.8979],\n",
      "        [ -2.8095,  12.0116,   5.7977]], grad_fn=<StackBackward0>)\n"
     ]
    }
   ],
   "source": [
    "# get results for a geometry and its rotated version\n",
    "\n",
    "nxyz = train.props[\"nxyz\"][0]\n",
    "rots = [torch.diag(torch.ones(3)), make_rot(1.4, -0.5, 1.3)]\n",
    "original_model.to(DEVICE)\n",
    "\n",
    "for rot in rots:\n",
    "    xyz = torch.stack([torch.matmul(rot, i[1:]) for i in nxyz])\n",
    "    z = nxyz[:, 0].reshape(-1, 1)\n",
    "    this_nxyz = torch.cat([z, xyz], dim=-1).to(DEVICE)\n",
    "    batch = {\n",
    "        \"nxyz\": this_nxyz,\n",
    "        \"num_atoms\": torch.LongTensor([len(nxyz)]),\n",
    "        \"nbr_list\": train.props[\"nbr_list\"][0].to(DEVICE),\n",
    "    }\n",
    "    results = original_model(batch)\n",
    "    energy = results[\"energy\"].cpu()\n",
    "\n",
    "    # energies should be invariant\n",
    "    print(\"%.8f \" % energy.item())\n",
    "\n",
    "    energy_grad = results[\"energy_grad\"].cpu()\n",
    "\n",
    "    # applying R^T to the gradients should give the same value for\n",
    "    # all geometries\n",
    "    rot_grad = torch.stack([torch.matmul(rot.transpose(0, 1), i) for i in energy_grad])\n",
    "    print(rot_grad)"
   ]
  },
  {
   "cell_type": "code",
   "execution_count": 12,
   "metadata": {
    "scrolled": false
   },
   "outputs": [
    {
     "name": "stderr",
     "output_type": "stream",
     "text": [
      "100%|██████████| 20/20 [00:00<00:00, 32.98it/s]\n"
     ]
    },
    {
     "data": {
      "image/png": "[encoded data removed]",
      "text/plain": [
       "<Figure size 1200x600 with 2 Axes>"
      ]
     },
     "metadata": {},
     "output_type": "display_data"
    }
   ],
   "source": [
    "results, targets, val_loss = evaluate(T.get_best_model(), test_loader, loss_fn, device=DEVICE)\n",
    "\n",
    "units = {\"energy_grad\": r\"kcal/mol/$\\AA$\", \"energy\": \"kcal/mol\"}\n",
    "\n",
    "fig, ax_fig = plt.subplots(1, 2, figsize=(12, 6))\n",
    "\n",
    "for ax, key in zip(ax_fig, units.keys()):\n",
    "    pred_fn = torch.cat\n",
    "    targ_fn = torch.cat\n",
    "    if all([len(i.shape) == 0 for i in results[key]]):\n",
    "        pred_fn = torch.stack\n",
    "    if all([len(i.shape) == 0 for i in targets[key]]):\n",
    "        targ_fn = torch.stack\n",
    "\n",
    "    pred = pred_fn(results[key], dim=0).view(-1).detach().cpu().numpy()\n",
    "    targ = targ_fn(targets[key], dim=0).view(-1).detach().cpu().numpy()\n",
    "\n",
    "    mae = abs(pred - targ).mean()\n",
    "\n",
    "    ax.hexbin(pred, targ, mincnt=1)\n",
    "\n",
    "    lim_min = min(np.min(pred), np.min(targ)) * 1.1\n",
    "    lim_max = max(np.max(pred), np.max(targ)) * 1.1\n",
    "\n",
    "    ax.set_xlim(lim_min, lim_max)\n",
    "    ax.set_ylim(lim_min, lim_max)\n",
    "    ax.set_aspect(\"equal\")\n",
    "\n",
    "    ax.plot((lim_min, lim_max), (lim_min, lim_max), color=\"#000000\", zorder=-1, linewidth=0.5)\n",
    "\n",
    "    ax.set_title(key.upper(), fontsize=14)\n",
    "    ax.set_xlabel(\"predicted %s (%s)\" % (key, units[key]), fontsize=12)\n",
    "    ax.set_ylabel(\"target %s (%s)\" % (key, units[key]), fontsize=12)\n",
    "    ax.text(0.1, 0.9, \"MAE: %.2f %s\" % (mae, units[key]), transform=ax.transAxes, fontsize=14)\n",
    "\n",
    "plt.show()"
   ]
  },
  {
   "cell_type": "markdown",
   "metadata": {},
   "source": [
    "Note that PaiNN is about 30x more efficient than DimeNet (efficiency = 1 / (inference time * memory footprint)), with even better accuracy. The improved accuracy is reported in the PaiNN paper, and we have confirmed this accuracy by training our DimeNet and PaiNN implementations on aspirin in the MD17 dataset."
   ]
  },
  {
   "cell_type": "code",
   "execution_count": null,
   "metadata": {},
   "outputs": [],
   "source": []
  }
 ],
 "metadata": {
  "kernelspec": {
   "display_name": "vssr-mc",
   "language": "python",
   "name": "python3"
  },
  "language_info": {
   "codemirror_mode": {
    "name": "ipython",
    "version": 3
   },
   "file_extension": ".py",
   "mimetype": "text/x-python",
   "name": "python",
   "nbconvert_exporter": "python",
   "pygments_lexer": "ipython3",
   "version": "3.11.9"
  }
 },
 "nbformat": 4,
 "nbformat_minor": 2
}
