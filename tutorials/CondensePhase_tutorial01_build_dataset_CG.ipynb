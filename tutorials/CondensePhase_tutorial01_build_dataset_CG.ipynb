{
 "cells": [
  {
   "cell_type": "markdown",
   "metadata": {},
   "source": [
    "# Tutorial to build condense phase dataset for CG simulations "
   ]
  },
  {
   "cell_type": "code",
   "execution_count": 38,
   "metadata": {},
   "outputs": [],
   "source": [
    "import sys\n",
    "import numpy as np\n",
    "from importlib import reload\n",
    "import torch\n",
    "from torch.utils.data import DataLoader\n",
    "\n",
    "# make sure NeuralForceField is in your path, if not add it to your python paths\n",
    "# sys.path.insert(0, '/home/wwj/Repo/playgrounds/NeuralForceField/')\n",
    "\n",
    "import pickle \n",
    "from nff.io.ase import NeuralFF, AtomsBatch, BulkPhaseMaterials\n",
    "from ase import Atoms"
   ]
  },
  {
   "cell_type": "markdown",
   "metadata": {},
   "source": [
    "This data has 64 ethane molecules with periodic box, each molecule has 8 atoms \n",
    "The coarse-grained representation reduce 8 atoms to 2 psudo atoms "
   ]
  },
  {
   "cell_type": "code",
   "execution_count": 39,
   "metadata": {},
   "outputs": [],
   "source": [
    "N = 64\n",
    "N_atom = 8\n",
    "N_cg = 2"
   ]
  },
  {
   "cell_type": "markdown",
   "metadata": {},
   "source": [
    "This data has 64 ethane molecules with periodic box, each molecule has 8 atoms \n",
    "the coarse-grained representation reduce 8 atoms to 2 psudo atoms "
   ]
  },
  {
   "cell_type": "code",
   "execution_count": 40,
   "metadata": {},
   "outputs": [],
   "source": [
    "\n",
    "xyz = pickle.load( open( \"data/C2_64_small_xyz.pickle\", \"rb\" )).reshape(-1, N, N_atom, 3)\n",
    "force = pickle.load(open('data/C2_64_small_force.pickle', \"rb\")).reshape(-1, N, N_atom, 3)"
   ]
  },
  {
   "cell_type": "code",
   "execution_count": 41,
   "metadata": {},
   "outputs": [],
   "source": [
    "# definte single ethane molecules \n",
    "ethane = Atoms( numbers=[6, 6, 1, 1, 1, 1, 1, 1])\n",
    "\n",
    "# define mapping operators \n",
    "CG_map = np.array([[0.0, 1.0, 0.00, 0.000, 0.000, 1.0, 1.0, 1.0],\n",
    "                    [1.0, 0.0, 1.0, 1.0, 1.0, 0.000, 0.00, 0.00]])\n",
    "\n",
    "CG_com = CG_map * ethane.get_masses() / (CG_map  *  ethane.get_masses()).sum(1)[:, None]\n",
    "\n",
    "# Generate cg coordinates and forces \n",
    "cg_xyz = np.matmul(CG_com, xyz)\n",
    "cg_force = np.matmul(CG_map, force)"
   ]
  },
  {
   "cell_type": "markdown",
   "metadata": {},
   "source": [
    "Here we use a new object called BulkPhaseMaterials to simulate periodic amorphous materials. It has a different way of defining interactions among atoms and there are two adajacency matrices. It is designed to be compatible with HybridGraphConv. See part 2 of this tutorial about training. \n",
    "\n",
    "it might take a while to build the dataset: "
   ]
  },
  {
   "cell_type": "code",
   "execution_count": 42,
   "metadata": {},
   "outputs": [
    {
     "name": "stdout",
     "output_type": "stream",
     "text": [
      "processing frame number 0\n",
      "processing frame number 50\n",
      "processing frame number 100\n",
      "processing frame number 150\n",
      "processing frame number 200\n",
      "processing frame number 250\n"
     ]
    }
   ],
   "source": [
    "Atoms_batch_list = []\n",
    "\n",
    "N_frames = 300\n",
    "\n",
    "# define cells \n",
    "cell = [[15.9808, 0, 0],\n",
    "       [0, 16.887199, 0],\n",
    "        [0, 0,  19.932]]\n",
    "\n",
    "for i, frame in enumerate(cg_xyz[:300]):\n",
    "    \n",
    "    if i % 50 == 0:\n",
    "        print(\"processing frame number {}\".format(i))\n",
    "    \n",
    "    props = dict()\n",
    "    props[\"num_subgraphs\"] = torch.LongTensor( [N_cg] * N )\n",
    "    props[\"num_atoms\"] = torch.LongTensor([N * N_cg])\n",
    "    props[\"energy_grad\"] = -torch.Tensor( cg_force[i] )\n",
    "    \n",
    "    box = BulkPhaseMaterials(numbers=[1, 1] * N, \n",
    "                           positions=frame.reshape(N * N_cg, 3),\n",
    "                           cell=cell,\n",
    "                           pbc=True,\n",
    "                           nbr_torch=True,\n",
    "                           device=\"cuda:0\",\n",
    "                           props=props\n",
    "                            )\n",
    "\n",
    "    box.update_atoms_nbr_list(4.0)\n",
    "    box.update_system_nbr_list(5.0)\n",
    "    \n",
    "    Atoms_batch_list.append(box)"
   ]
  },
  {
   "cell_type": "code",
   "execution_count": 49,
   "metadata": {},
   "outputs": [],
   "source": [
    "# Note there are two cutoffs here, corresponding to the intramolecular and intermolecular cutoff \n",
    "\n",
    "props = {\n",
    "    'nxyz': [atomsbatch.get_nxyz() for atomsbatch in Atoms_batch_list], # atomic number and xyz \n",
    "    'energy_grad': [-force for force in cg_force[:N_frames]], # negative forces \n",
    "    'num_subgraphs': [atomsbatch.props['num_subgraphs'] for atomsbatch in Atoms_batch_list], # number of subgraphs \n",
    "    'num_atoms': [atomsbatch.props['num_atoms'] for atomsbatch in Atoms_batch_list], # total number of atoms \n",
    "    'atoms_nbr_list': [atomsbatch.atoms_nbr_list  for atomsbatch in Atoms_batch_list], # intramolecular_nbr_list \n",
    "    'nbr_list': [atomsbatch.nbr_list for atomsbatch in Atoms_batch_list], # intermolecular_nbr_list \n",
    "    'offsets': [atomsbatch.offsets.to_dense() for atomsbatch in Atoms_batch_list], # Pytorch glitch\" torch.sparse tensor has no storage, so we need to send it back to dense tensor \n",
    "    'cell': [atomsbatch.get_cell() for atomsbatch in Atoms_batch_list] # cell dimensions \n",
    "}"
   ]
  },
  {
   "cell_type": "code",
   "execution_count": 50,
   "metadata": {},
   "outputs": [],
   "source": [
    "pickle.dump(props, open( \"./data/ethane_data.pkl\", \"wb\" ) )"
   ]
  },
  {
   "cell_type": "code",
   "execution_count": 48,
   "metadata": {},
   "outputs": [
    {
     "data": {
      "text/plain": [
       "300"
      ]
     },
     "execution_count": 48,
     "metadata": {},
     "output_type": "execute_result"
    }
   ],
   "source": [
    "len(props['energy_grad'])"
   ]
  },
  {
   "cell_type": "code",
   "execution_count": 38,
   "metadata": {},
   "outputs": [],
   "source": [
    "# reload dataset\n",
    "#props = pickle.load( open( \"./ethane_data.pkl\", \"rb\" ) )"
   ]
  },
  {
   "cell_type": "code",
   "execution_count": null,
   "metadata": {},
   "outputs": [],
   "source": [
    "# You can go to another tutorial for Bulk-CG training and sampling "
   ]
  }
 ],
 "metadata": {
  "kernelspec": {
   "display_name": "Python [conda env:nff] *",
   "language": "python",
   "name": "conda-env-nff-py"
  },
  "language_info": {
   "codemirror_mode": {
    "name": "ipython",
    "version": 3
   },
   "file_extension": ".py",
   "mimetype": "text/x-python",
   "name": "python",
   "nbconvert_exporter": "python",
   "pygments_lexer": "ipython3",
   "version": "3.7.3"
  }
 },
 "nbformat": 4,
 "nbformat_minor": 2
}
