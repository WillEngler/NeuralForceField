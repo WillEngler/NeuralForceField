{
 "cells": [
  {
   "cell_type": "code",
   "execution_count": 1,
   "metadata": {},
   "outputs": [],
   "source": [
    "%load_ext autoreload\n",
    "%autoreload 2"
   ]
  },
  {
   "cell_type": "markdown",
   "metadata": {},
   "source": [
    "# Non-adiabatic dynamics \n",
    "This tutorial shows how to run non-adiabatic dynamics with a trained model using the [Zhu-Nakamura surface hopping method](https://pubs.rsc.org/en/content/articlelanding/2014/cp/c4cp03498h).\n",
    "\n",
    "First let's import dependencies:\n"
   ]
  },
  {
   "cell_type": "code",
   "execution_count": 2,
   "metadata": {},
   "outputs": [
    {
     "data": {
      "application/vnd.jupyter.widget-view+json": {
       "model_id": "36152c77f7f94457b2a200db97f0ea3a",
       "version_major": 2,
       "version_minor": 0
      },
      "text/plain": []
     },
     "metadata": {},
     "output_type": "display_data"
    }
   ],
   "source": [
    "import sys\n",
    "import os\n",
    "\n",
    "# so that NFF is in your path\n",
    "sys.path.insert(0, \"..\")\n",
    "\n",
    "import json\n",
    "import numpy as np\n",
    "from nff.md.zhu_nakamura.dynamics import CombinedZhuNakamura\n",
    "from ase.io.trajectory import Trajectory\n",
    "import nglview as nv\n",
    "from nff.md.utils import csv_read\n",
    "from ase import Atoms\n",
    "from nff.md.zhu_nakamura.run_zn import coords_to_xyz, make_dataset, make_trj\n",
    "\n",
    "\n"
   ]
  },
  {
   "cell_type": "code",
   "execution_count": null,
   "metadata": {},
   "outputs": [],
   "source": []
  },
  {
   "cell_type": "markdown",
   "metadata": {},
   "source": [
    "Now we'll find a trained model. The trained azobenzene models can be found in `NeuralForceField/models/azo_derivatives`. The sub-folders are for diabatic and adiabatic models, trained either with the full set of geometries, or with 40 species held out. There are also three models trained with different splits and different initialization from random seeds:"
   ]
  },
  {
   "cell_type": "code",
   "execution_count": 3,
   "metadata": {},
   "outputs": [
    {
     "name": "stdout",
     "output_type": "stream",
     "text": [
      "['all_diabatic', 'holdout_diabatic', 'holdout_adiabatic']\n",
      "['seed_0', 'seed_2', 'seed_1']\n"
     ]
    }
   ],
   "source": [
    "print(os.listdir('../models/azo_derivatives'))\n",
    "print(os.listdir('../models/azo_derivatives/all_diabatic'))"
   ]
  },
  {
   "cell_type": "markdown",
   "metadata": {},
   "source": [
    "We'll use the diabatic model trained on all species, with seed 0: `../models/azo_derivatives/all_diabatic/seed_0`."
   ]
  },
  {
   "cell_type": "markdown",
   "metadata": {},
   "source": [
    "## Zhu-Nakamura\n",
    "\n",
    "The script for ZN surface hopping is `NeuralForceField/nff/md/zhu_nakamura/run_zn.py`. If you run the script and supply the path of a JSON parameter file, it will do the rest for you. Here we'll go through some parameters to give, and show a little of what goes on behind the scenes.\n",
    "\n",
    "We'll have to define `ground_params`, `zhu_params`, `combined_params`, and `all_params`. The first is for parameters in the ground state MD simulation, the second for ZN surface hopping, and the third is for batching. The fourth is for some remaining parameters, which we'll explain below.\n",
    "\n",
    "Let's define `ground_params`:"
   ]
  },
  {
   "cell_type": "code",
   "execution_count": 4,
   "metadata": {},
   "outputs": [],
   "source": [
    "ground_params = {'ttime': 50, # tau = ttime * dt is the relaxation time\n",
    "                 'logfile': 'ground.log', # log file for ground state MD\n",
    "                 'max_time': 200, # total time in fs\n",
    "                 'savefile': 'ground.trj', # output file with saved geometries\n",
    "                 'timestep': 0.5, # dt in fs\n",
    "                 'equil_time': 100, # ignore this amount of time (fs) when sampling\n",
    "                                    # geoms for NAMD \n",
    "                 'thermostat': 'nosehoover', # use the Nose Hoover thermostat\n",
    "                 'loginterval': 10, # log the energy and save geoms every 10 steps\n",
    "                 'temperature': 300, # temperature in Kelvin\n",
    "                 'cutoff': 5.0, # neighbor list cutoff in Angstrom \n",
    "                 'cutoff_skin': 2.0, # extra distance added to cutoff when updating\n",
    "                                     # neighbor list, to account for atoms coming into\n",
    "                                     # the 5 A sphere between updates \n",
    "                }"
   ]
  },
  {
   "cell_type": "markdown",
   "metadata": {},
   "source": [
    "Now let's do `zhu_params` and `batched_params`:"
   ]
  },
  {
   "cell_type": "code",
   "execution_count": 5,
   "metadata": {},
   "outputs": [],
   "source": [
    "zhu_params = {'log_file': 'trj.log', # log file for NAMD\n",
    "              'max_time': 200, # total time in fs\n",
    "              'out_file': 'trj.csv', # the i^th trajectory gets a csv called `trj_{i}.csv` with all its info\n",
    "              'timestep': 0.5, # dt in fs\n",
    "              'num_states': 2, # number of adiabatic states\n",
    "              'max_gap_hop': 0.021673306772908366, # don't hop if the gap is over 0.0217 au (0.59 eV)\n",
    "              'save_period': 5, # save every 5 steps\n",
    "              'initial_surf': 1, # start on the first excited state\n",
    "              'initial_time': 0.0 # start at t=0\n",
    "             }\n",
    "\n",
    "batched_params = {'cutoff': 5.0, # neighbor list cutoff in Angstrom \n",
    "                  'cutoff_skin': 2.0, # extra distance added to cutoff when updating\n",
    "                                      # neighbor list, to account for atoms coming into\n",
    "                                      # the 5 A sphere between updates \n",
    "                  'device': 1, # Use GPU 1 (set to 'cpu' if you don't have a GPU)\n",
    "                  'num_trj': 10, # Number of trajectories\n",
    "                  'batch_size': 5, # Number of trajectories to batch together in one so that calculations\n",
    "                                   # can be done in parallel\n",
    "                  'nbr_update_period': 10, # update the neighbor list every 10 steps\n",
    "                  \n",
    "                 }"
   ]
  },
  {
   "cell_type": "markdown",
   "metadata": {},
   "source": [
    "Lastly we'll define `all_params`, which has the starting coordinates and the model path:"
   ]
  },
  {
   "cell_type": "code",
   "execution_count": 6,
   "metadata": {},
   "outputs": [],
   "source": [
    "with open('data/azo_coords.json', 'r') as f:\n",
    "    coords = json.load(f)\n",
    "\n",
    "all_params = {\"coords\": coords, # starting geometry of the molecule\n",
    "              'model_path': '../models/azo_derivatives/all_diabatic/seed_0', # path to saved model\n",
    "              \"zhu_params\": zhu_params,\n",
    "              \"ground_params\": ground_params,\n",
    "              \"batched_params\": batched_params\n",
    "             }\n"
   ]
  },
  {
   "cell_type": "markdown",
   "metadata": {},
   "source": [
    "When we run the script from the command line, it parses these three dictionaries from a file and makes an instance of `CombinedZhuNakamura`, like this:\n",
    "\n"
   ]
  },
  {
   "cell_type": "code",
   "execution_count": 7,
   "metadata": {},
   "outputs": [
    {
     "name": "stdout",
     "output_type": "stream",
     "text": [
      "loading models\n",
      "running ground state + Zhu-Nakamura dynamics\n"
     ]
    },
    {
     "name": "stderr",
     "output_type": "stream",
     "text": [
      "/home/saxelrod/miniconda3/envs/nff/lib/python3.7/site-packages/ase/md/md.py:48: FutureWarning: Specify the temperature in K using the 'temperature_K' argument\n",
      "  warnings.warn(FutureWarning(w))\n"
     ]
    }
   ],
   "source": [
    "\n",
    "coords = all_params[\"coords\"]\n",
    "nxyz = [coords_to_xyz(coords)]\n",
    "\n",
    "\n",
    "print('loading models')\n",
    "\n",
    "dataset = make_dataset(nxyz=nxyz, \n",
    "                       all_params=all_params)\n",
    "\n",
    "print('running ground state + Zhu-Nakamura dynamics')\n",
    "\n",
    "zn = make_trj(all_params=all_params,\n",
    "              dataset=dataset)\n",
    "\n"
   ]
  },
  {
   "cell_type": "markdown",
   "metadata": {},
   "source": [
    "First we made the xyz of the structure from the dictionary of coordinates. Then we turned it into an NFF dataset and used that to make an instance of `CombinedZhuNakamura`.\n",
    "\n",
    "For an example of how you would use this script in practice, check out `data/zn_info.json`. If you run\n",
    "```bash\n",
    "conda activate nff\n",
    "python ../nff/md/zhu_nakamura/run_zn.py data/zn_info.json\n",
    "```\n",
    "then you should be able to peform neural ZN in one line. Note that in `zn_info.json`, the `all_params` part of the dictionary is its body, i.e. everything that doesn't have the key `ground_params`, `zhu_params`, or `batched_params`.\n"
   ]
  },
  {
   "cell_type": "markdown",
   "metadata": {},
   "source": [
    "Now we can run it!"
   ]
  },
  {
   "cell_type": "code",
   "execution_count": 8,
   "metadata": {},
   "outputs": [
    {
     "name": "stderr",
     "output_type": "stream",
     "text": [
      "../nff/nn/modules/diabat.py:140: UserWarning: torch.symeig is deprecated in favor of torch.linalg.eigh and will be removed in a future PyTorch release.\n",
      "The default behavior has changed from using the upper triangular portion of the matrix by default to using the lower triangular portion.\n",
      "L, _ = torch.symeig(A, upper=upper)\n",
      "should be replaced with\n",
      "L = torch.linalg.eigvalsh(A, UPLO='U' if upper else 'L')\n",
      "and\n",
      "L, V = torch.symeig(A, eigenvectors=True)\n",
      "should be replaced with\n",
      "L, V = torch.linalg.eigh(A, UPLO='U' if upper else 'L') (Triggered internally at  /opt/conda/conda-bld/pytorch_1623448224956/work/aten/src/ATen/native/BatchLinearAlgebra.cpp:2500.)\n",
      "  ad_energies, u = torch.symeig(d_mat, True)\n"
     ]
    },
    {
     "name": "stdout",
     "output_type": "stream",
     "text": [
      "Completed step 0\n",
      "Completed step 10\n",
      "Completed step 20\n",
      "Completed step 30\n",
      "Completed step 40\n",
      "Completed step 50\n",
      "Completed step 60\n",
      "Completed step 70\n",
      "Completed step 80\n",
      "Completed step 90\n",
      "Completed step 100\n",
      "Completed step 110\n",
      "Completed step 120\n",
      "Completed step 130\n",
      "Completed step 140\n",
      "Completed step 150\n",
      "Completed step 160\n",
      "Completed step 170\n",
      "Completed step 180\n",
      "Completed step 190\n",
      "Completed step 200\n",
      "Completed step 210\n",
      "Completed step 220\n",
      "Completed step 230\n",
      "Completed step 240\n",
      "Completed step 250\n",
      "Completed step 260\n",
      "Completed step 270\n",
      "Completed step 280\n",
      "Completed step 290\n",
      "Completed step 300\n",
      "Completed step 310\n",
      "Completed step 320\n",
      "Completed step 330\n",
      "Completed step 340\n",
      "Completed step 350\n",
      "Completed step 360\n",
      "Completed step 370\n",
      "Completed step 380\n",
      "Completed step 390\n",
      "Completed step 400\n",
      "Neural ZN terminated normally.\n"
     ]
    }
   ],
   "source": [
    "zn.run()\n"
   ]
  },
  {
   "cell_type": "markdown",
   "metadata": {},
   "source": [
    "We can view the ground-state log file:"
   ]
  },
  {
   "cell_type": "code",
   "execution_count": 9,
   "metadata": {
    "scrolled": true
   },
   "outputs": [
    {
     "name": "stdout",
     "output_type": "stream",
     "text": [
      "Time[ps]      Etot[eV]     Epot[eV]     Ekin[eV]    T[K]\n",
      "0.0000           2.1950      -0.8128       3.0077   684.4\n",
      "0.0050           2.1642       1.0735       1.0907   248.2\n",
      "0.0100           2.1265       0.4109       1.7156   390.4\n",
      "0.0150           2.0768       0.9340       1.1428   260.0\n",
      "0.0200           2.0272       0.4267       1.6005   364.2\n",
      "0.0250           1.9668       0.7417       1.2251   278.8\n",
      "0.0300           1.9003       0.3549       1.5454   351.6\n",
      "0.0350           1.8343       0.8340       1.0004   227.6\n",
      "0.0400           1.7740       0.3706       1.4035   319.3\n",
      "0.0450           1.6986       0.4146       1.2840   292.2\n",
      "0.0500           1.6278       0.4870       1.1408   259.6\n",
      "0.0550           1.5603       0.3793       1.1810   268.7\n",
      "0.0600           1.4958       0.4702       1.0256   233.4\n",
      "0.0650           1.4402       0.3627       1.0775   245.2\n",
      "0.0700           1.3939       0.6191       0.7748   176.3\n",
      "0.0750           1.3623       0.2954       1.0669   242.8\n",
      "0.0800           1.3271       0.2696       1.0575   240.6\n",
      "0.0850           1.3014       0.2740       1.0275   233.8\n",
      "0.0900           1.2826       0.4188       0.8638   196.5\n",
      "0.0950           1.2732       0.1863       1.0869   247.3\n",
      "0.1000           1.2698       0.2777       0.9921   225.7\n",
      "0.1050           1.2708       0.0951       1.1758   267.5\n",
      "0.1100           1.2780       0.3148       0.9632   219.2\n",
      "0.1150           1.2882       0.3772       0.9110   207.3\n",
      "0.1200           1.3122       0.2087       1.1035   251.1\n",
      "0.1250           1.3414       0.1723       1.1690   266.0\n",
      "0.1300           1.3762       0.2646       1.1116   252.9\n",
      "0.1350           1.4101       0.3638       1.0463   238.1\n",
      "0.1400           1.4524       0.3207       1.1317   257.5\n",
      "0.1450           1.4991       0.3343       1.1648   265.0\n",
      "0.1500           1.5516       0.4011       1.1506   261.8\n",
      "0.1550           1.6047       0.5120       1.0927   248.6\n",
      "0.1600           1.6607       0.4902       1.1705   266.3\n",
      "0.1650           1.7293       0.3645       1.3648   310.5\n",
      "0.1700           1.7946       0.6010       1.1936   271.6\n",
      "0.1750           1.8574       0.4864       1.3709   311.9\n",
      "0.1800           1.9237       0.4827       1.4410   327.9\n",
      "0.1850           1.9788       0.7670       1.2119   275.7\n",
      "0.1900           2.0289       0.6747       1.3541   308.1\n",
      "0.1950           2.0817       0.7744       1.3074   297.5\n",
      "0.2000           2.1290       0.6667       1.4623   332.7\n",
      "\n"
     ]
    }
   ],
   "source": [
    "with open('ground.log', 'r') as f:\n",
    "    ground_log = f.read()\n",
    "print(ground_log)"
   ]
  },
  {
   "cell_type": "markdown",
   "metadata": {},
   "source": [
    "We see that all energies fluctuate, as kinetic energy is being added into the system fo the thermostat. The temperature also varies, and over enough time it will average out to 300 K. \n",
    "\n",
    "To get the actual geometries, energies, and forces, we can load the trajectory file. And we can visualize it with `nglview`:\n",
    "\n"
   ]
  },
  {
   "cell_type": "code",
   "execution_count": 10,
   "metadata": {},
   "outputs": [
    {
     "data": {
      "application/vnd.jupyter.widget-view+json": {
       "model_id": "6967dd88d6e248f1ae5c91c2a55552f1",
       "version_major": 2,
       "version_minor": 0
      },
      "text/plain": [
       "NGLWidget(max_frame=40)"
      ]
     },
     "metadata": {},
     "output_type": "display_data"
    }
   ],
   "source": [
    "trj = Trajectory('ground.trj')\n",
    "nv.show_asetraj(trj)"
   ]
  },
  {
   "cell_type": "markdown",
   "metadata": {},
   "source": [
    "Unlike neural Tully, neural ZN saves the trajectories separately from each other. This may be changed in the future, since saving in one file is much easier. In any case we can examine individual trajectories:"
   ]
  },
  {
   "cell_type": "code",
   "execution_count": 11,
   "metadata": {
    "scrolled": true
   },
   "outputs": [
    {
     "name": "stdout",
     "output_type": "stream",
     "text": [
      "ZHU-NAKAMURA DYNAMICS:  Completed step 1. Currently in state 1.\n",
      "ZHU-NAKAMURA DYNAMICS:  Relative energies are 0.0, 2.9237707687275827 eV\n",
      "ZHU-NAKAMURA DYNAMICS:  Completed step 11. Currently in state 1.\n",
      "ZHU-NAKAMURA DYNAMICS:  Relative energies are 0.0, 2.6335102532362833 eV\n",
      "ZHU-NAKAMURA DYNAMICS:  Completed step 21. Currently in state 1.\n",
      "ZHU-NAKAMURA DYNAMICS:  Relative energies are 0.0, 2.0879162426682454 eV\n",
      "ZHU-NAKAMURA DYNAMICS:  Completed step 31. Currently in state 1.\n",
      "ZHU-NAKAMURA DYNAMICS:  Relative energies are 0.0, 1.4902326004829958 eV\n",
      "ZHU-NAKAMURA DYNAMICS:  Completed step 40. Currently in state 1.\n",
      "ZHU-NAKAMURA DYNAMICS:  Relative energies are 0.0, 0.8456784093746563 eV\n",
      "ZHU-NAKAMURA DYNAMICS:  Completed step 50. Currently in state 1.\n",
      "ZHU-NAKAMURA DYNAMICS:  Relative energies are 0.0, 0.3471257561769035 eV\n",
      "ZHU-NAKAMURA DYNAMICS:  Completed step 61. Currently in state 1.\n",
      "ZHU-NAKAMURA DYNAMICS:  Relative energies are 0.0, 0.6041592334855956 eV\n",
      "ZHU-NAKAMURA DYNAMICS:  Completed step 71. Currently in state 1.\n",
      "ZHU-NAKAMURA DYNAMICS:  Relative energies are 0.0, 0.7316544284935055 eV\n",
      "ZHU-NAKAMURA DYNAMICS:  Completed step 81. Currently in state 1.\n",
      "ZHU-NAKAMURA DYNAMICS:  Relative energies are 0.0, 0.4627409177815329 eV\n",
      "ZHU-NAKAMURA DYNAMICS:  Completed step 91. Currently in state 1.\n",
      "ZHU-NAKAMURA DYNAMICS:  Relative energies are 0.0, 0.2918111023388957 eV\n",
      "ZHU-NAKAMURA DYNAMICS:  Completed step 101. Currently in state 1.\n",
      "ZHU-NAKAMURA DYNAMICS:  Relative energies are 0.0, 0.5563409705111054 eV\n",
      "ZHU-NAKAMURA DYNAMICS:  Completed step 111. Currently in state 1.\n",
      "ZHU-NAKAMURA DYNAMICS:  Relative energies are 0.0, 0.6164361112966854 eV\n",
      "ZHU-NAKAMURA DYNAMICS:  Completed step 121. Currently in state 1.\n",
      "ZHU-NAKAMURA DYNAMICS:  Relative energies are 0.0, 0.5987973694805823 eV\n",
      "ZHU-NAKAMURA DYNAMICS:  Attempting hop from state 1 to state 0. Probability is 0.\n",
      "ZHU-NAKAMURA DYNAMICS:  Did not hop from state 1 to state 0.\n",
      "ZHU-NAKAMURA DYNAMICS:  Completed step 130. Currently in state 1.\n",
      "ZHU-NAKAMURA DYNAMICS:  Relative energies are 0.0, 0.6338689900762379 eV\n",
      "ZHU-NAKAMURA DYNAMICS:  Completed step 140. Currently in state 1.\n",
      "ZHU-NAKAMURA DYNAMICS:  Relative energies are 0.0, 0.6482466629711687 eV\n",
      "ZHU-NAKAMURA DYNAMICS:  Completed step 150. Currently in state 1.\n",
      "ZHU-NAKAMURA DYNAMICS:  Relative energies are 0.0, 0.7425954288168078 eV\n",
      "ZHU-NAKAMURA DYNAMICS:  Completed step 160. Currently in state 1.\n",
      "ZHU-NAKAMURA DYNAMICS:  Relative energies are 0.0, 0.825469107906968 eV\n",
      "ZHU-NAKAMURA DYNAMICS:  Completed step 170. Currently in state 1.\n",
      "ZHU-NAKAMURA DYNAMICS:  Relative energies are 0.0, 0.7296840960087324 eV\n",
      "ZHU-NAKAMURA DYNAMICS:  Completed step 180. Currently in state 1.\n",
      "ZHU-NAKAMURA DYNAMICS:  Relative energies are 0.0, 0.457729268966411 eV\n",
      "ZHU-NAKAMURA DYNAMICS:  Completed step 190. Currently in state 1.\n",
      "ZHU-NAKAMURA DYNAMICS:  Relative energies are 0.0, 0.32756727953802245 eV\n",
      "ZHU-NAKAMURA DYNAMICS:  Completed step 200. Currently in state 1.\n",
      "ZHU-NAKAMURA DYNAMICS:  Relative energies are 0.0, 0.29304611520636564 eV\n",
      "ZHU-NAKAMURA DYNAMICS:  Completed step 210. Currently in state 1.\n",
      "ZHU-NAKAMURA DYNAMICS:  Relative energies are 0.0, 0.14589720090170014 eV\n",
      "ZHU-NAKAMURA DYNAMICS:  Completed step 219. Currently in state 0.\n",
      "ZHU-NAKAMURA DYNAMICS:  Relative energies are 0.0, 0.1195467322231633 eV\n",
      "ZHU-NAKAMURA DYNAMICS:  Completed step 229. Currently in state 0.\n",
      "ZHU-NAKAMURA DYNAMICS:  Relative energies are 0.0, 0.3647519312534262 eV\n",
      "ZHU-NAKAMURA DYNAMICS:  Completed step 240. Currently in state 0.\n",
      "ZHU-NAKAMURA DYNAMICS:  Relative energies are 0.0, 0.40741220903741515 eV\n",
      "ZHU-NAKAMURA DYNAMICS:  Completed step 250. Currently in state 0.\n",
      "ZHU-NAKAMURA DYNAMICS:  Relative energies are 0.0, 0.5340040869620493 eV\n",
      "ZHU-NAKAMURA DYNAMICS:  Completed step 260. Currently in state 0.\n",
      "ZHU-NAKAMURA DYNAMICS:  Relative energies are 0.0, 1.055408033272481 eV\n",
      "ZHU-NAKAMURA DYNAMICS:  Completed step 270. Currently in state 0.\n",
      "ZHU-NAKAMURA DYNAMICS:  Relative energies are 0.0, 1.8969881973773235 eV\n",
      "ZHU-NAKAMURA DYNAMICS:  Completed step 280. Currently in state 0.\n",
      "ZHU-NAKAMURA DYNAMICS:  Relative energies are 0.0, 2.455474607968148 eV\n",
      "ZHU-NAKAMURA DYNAMICS:  Completed step 290. Currently in state 0.\n",
      "ZHU-NAKAMURA DYNAMICS:  Relative energies are 0.0, 2.7275504725548503 eV\n",
      "ZHU-NAKAMURA DYNAMICS:  Completed step 300. Currently in state 0.\n",
      "ZHU-NAKAMURA DYNAMICS:  Relative energies are 0.0, 2.937802773608127 eV\n",
      "ZHU-NAKAMURA DYNAMICS:  Completed step 310. Currently in state 0.\n",
      "ZHU-NAKAMURA DYNAMICS:  Relative energies are 0.0, 2.908579316768888 eV\n",
      "ZHU-NAKAMURA DYNAMICS:  Completed step 320. Currently in state 0.\n",
      "ZHU-NAKAMURA DYNAMICS:  Relative energies are 0.0, 2.640197412211543 eV\n",
      "ZHU-NAKAMURA DYNAMICS:  Completed step 330. Currently in state 0.\n",
      "ZHU-NAKAMURA DYNAMICS:  Relative energies are 0.0, 2.4816168986844214 eV\n",
      "ZHU-NAKAMURA DYNAMICS:  Completed step 340. Currently in state 0.\n",
      "ZHU-NAKAMURA DYNAMICS:  Relative energies are 0.0, 2.527637291139699 eV\n",
      "ZHU-NAKAMURA DYNAMICS:  Completed step 350. Currently in state 0.\n",
      "ZHU-NAKAMURA DYNAMICS:  Relative energies are 0.0, 2.850457980856649 eV\n",
      "ZHU-NAKAMURA DYNAMICS:  Completed step 360. Currently in state 0.\n",
      "ZHU-NAKAMURA DYNAMICS:  Relative energies are 0.0, 3.067899283709228 eV\n",
      "ZHU-NAKAMURA DYNAMICS:  Completed step 370. Currently in state 0.\n",
      "ZHU-NAKAMURA DYNAMICS:  Relative energies are 0.0, 3.1171518085142753 eV\n",
      "ZHU-NAKAMURA DYNAMICS:  Completed step 380. Currently in state 0.\n",
      "ZHU-NAKAMURA DYNAMICS:  Relative energies are 0.0, 2.8177854500580373 eV\n",
      "ZHU-NAKAMURA DYNAMICS:  Completed step 390. Currently in state 0.\n",
      "ZHU-NAKAMURA DYNAMICS:  Relative energies are 0.0, 2.7086613401504747 eV\n",
      "ZHU-NAKAMURA DYNAMICS:  Attempting hop from state 0 to state 1. Probability is 0.\n",
      "ZHU-NAKAMURA DYNAMICS:  Did not hop from state 0 to state 1.\n",
      "ZHU-NAKAMURA DYNAMICS:  Completed step 400. Currently in state 0.\n",
      "ZHU-NAKAMURA DYNAMICS:  Relative energies are 0.0, 2.8593190204275203 eV\n",
      "\n"
     ]
    }
   ],
   "source": [
    "with open('trj_4.log', 'r') as f:\n",
    "    zn_log = f.read()\n",
    "print(zn_log)"
   ]
  },
  {
   "cell_type": "markdown",
   "metadata": {},
   "source": [
    "To get the geometries, forces, etc., we can load the trajectory's CSV file:\n",
    "\n"
   ]
  },
  {
   "cell_type": "code",
   "execution_count": 12,
   "metadata": {},
   "outputs": [],
   "source": [
    "trj_dics = csv_read('trj_4.csv')"
   ]
  },
  {
   "cell_type": "markdown",
   "metadata": {},
   "source": [
    "We can turn the xyz's into an ase trajectory and visualize it:\n"
   ]
  },
  {
   "cell_type": "code",
   "execution_count": 13,
   "metadata": {},
   "outputs": [
    {
     "data": {
      "application/vnd.jupyter.widget-view+json": {
       "model_id": "5755cf045f15492295e675bd76b623d1",
       "version_major": 2,
       "version_minor": 0
      },
      "text/plain": [
       "NGLWidget(max_frame=40)"
      ]
     },
     "metadata": {},
     "output_type": "display_data"
    }
   ],
   "source": [
    "nxyz_list = [np.array(i['nxyz']) for i in trj_dics]\n",
    "trj = [Atoms(numbers=nxyz[:, 0], positions=nxyz[:, 1:])\n",
    "      for nxyz in nxyz_list]\n",
    "nv.show_asetraj(trj)"
   ]
  },
  {
   "cell_type": "markdown",
   "metadata": {},
   "source": [
    "We can also see some properties. As in neural Tully, everything is given in atomic units, except for coordinates which are given in Angstroms."
   ]
  },
  {
   "cell_type": "code",
   "execution_count": 19,
   "metadata": {},
   "outputs": [
    {
     "name": "stdout",
     "output_type": "stream",
     "text": [
      "(2,)\n",
      "(2, 34, 3)\n",
      "[]\n",
      "True\n",
      "(34, 4)\n",
      "(34, 3)\n",
      "1\n",
      "0.5\n",
      "(34, 3)\n"
     ]
    }
   ],
   "source": [
    "trj_dics[0].keys()\n",
    "\n",
    "dic = trj_dics[0]\n",
    "print(np.array(dic['energy']).shape) # adiabatic energies\n",
    "print(np.array(dic['force']).shape) # forces on each state\n",
    "print(dic['hopping_probability']) # list of dictionaries of ZN a, b, and p parameters between all pairs of\n",
    "                                  # states if an avoided crossing is encountered\n",
    "print(dic['in_trj']) # whether this frame is in the trajectory. An avoided crossing is identified as a geom\n",
    "                     # for which the previous and subsequent geoms had higher gaps. In ZN a hop only occurs\n",
    "                     # at avoided crossings. If a hop does occur, then the frame right after the avoided crossing\n",
    "                     # is no longer part of the trajectory, because you move one frame back to the avoided \n",
    "                     # crossing, and switch energy surfaces. Therefore, those geoms would have `in_trj=False`,\n",
    "                     # and every other one has `in_trj=True`\n",
    "print(np.array(dic['nxyz']).shape) # xyz at this time step\n",
    "print(np.array(dic['position']).shape) # same as nxyz but without atomic numbers\n",
    "print(np.array(dic['surf'])) # current surface \n",
    "print(dic['time']) # current time (fs)\n",
    "print(np.array(dic['velocity']).shape) # current velocity "
   ]
  },
  {
   "cell_type": "code",
   "execution_count": null,
   "metadata": {},
   "outputs": [],
   "source": []
  }
 ],
 "metadata": {
  "kernelspec": {
   "display_name": "Python [conda env:nff]",
   "language": "python",
   "name": "nff"
  },
  "language_info": {
   "codemirror_mode": {
    "name": "ipython",
    "version": 3
   },
   "file_extension": ".py",
   "mimetype": "text/x-python",
   "name": "python",
   "nbconvert_exporter": "python",
   "pygments_lexer": "ipython3",
   "version": "3.7.10"
  }
 },
 "nbformat": 4,
 "nbformat_minor": 2
}
