{
 "cells": [
  {
   "cell_type": "code",
   "execution_count": 1,
   "metadata": {},
   "outputs": [],
   "source": [
    "%load_ext autoreload\n",
    "%autoreload 2"
   ]
  },
  {
   "cell_type": "markdown",
   "metadata": {},
   "source": [
    "# Non-adiabatic dynamics \n",
    "This tutorial shows how to run non-adiabatic dynamics with a trained model using the [Zhu-Nakamura surface hopping method](https://pubs.rsc.org/en/content/articlelanding/2014/cp/c4cp03498h).\n",
    "\n",
    "First let's import dependencies:\n"
   ]
  },
  {
   "cell_type": "code",
   "execution_count": 23,
   "metadata": {},
   "outputs": [],
   "source": [
    "import sys\n",
    "import os\n",
    "\n",
    "# so that NFF is in your path\n",
    "sys.path.insert(0, \"..\")\n",
    "\n",
    "import json\n",
    "import numpy as np\n",
    "from nff.md.zhu_nakamura.dynamics import CombinedZhuNakamura\n",
    "from ase.io.trajectory import Trajectory\n",
    "import nglview as nv\n",
    "from nff.md.utils import csv_read\n",
    "from ase import Atoms\n",
    "\n"
   ]
  },
  {
   "cell_type": "code",
   "execution_count": null,
   "metadata": {},
   "outputs": [],
   "source": []
  },
  {
   "cell_type": "markdown",
   "metadata": {},
   "source": [
    "Now we'll find a trained model. The trained azobenzene models can be found in `NeuralForceField/models/azo_derivatives`. The sub-folders are for diabatic and adiabatic models, trained either with the full set of geometries, or with 40 species held out. There are also three models trained with different splits and different initialization from random seeds:"
   ]
  },
  {
   "cell_type": "code",
   "execution_count": 3,
   "metadata": {},
   "outputs": [
    {
     "name": "stdout",
     "output_type": "stream",
     "text": [
      "['all_diabatic', 'holdout_diabatic', 'holdout_adiabatic']\n",
      "['seed_0', 'seed_2', 'seed_1']\n"
     ]
    }
   ],
   "source": [
    "print(os.listdir('../models/azo_derivatives'))\n",
    "print(os.listdir('../models/azo_derivatives/all_diabatic'))"
   ]
  },
  {
   "cell_type": "markdown",
   "metadata": {},
   "source": [
    "We'll use the diabatic model trained on all species, with seed 0: `../models/azo_derivatives/all_diabatic/seed_0`."
   ]
  },
  {
   "cell_type": "markdown",
   "metadata": {},
   "source": [
    "## ZN\n",
    "\n",
    "The script for Tully's surface hopping is `NeuralForceField/nff/md/zhu_nakamura/run_zn`. If you run the script and supply the path of a JSON parameter file, it will do the rest for you. Here we'll go through some parameters to give, and show a little of what goes on behind the scenes.\n",
    "\n",
    "We'll have to define `ground_params`, `zhu_params`, `combined_params`, and `all_params`. The first is for parameters in the ground state MD simulation, the second for ZN surface hopping, and the third is for batching. The fourth is for some remaining parameters, which we'll explain below.\n",
    "\n",
    "Let's define `ground_params`:"
   ]
  },
  {
   "cell_type": "code",
   "execution_count": 4,
   "metadata": {},
   "outputs": [],
   "source": [
    "ground_params = {'ttime': 50,\n",
    "                 'logfile': 'ground.log',\n",
    "                 'max_time': 200,\n",
    "                 'savefile': 'ground.trj',\n",
    "                 'timestep': 0.5,\n",
    "                 'equil_time': 100,\n",
    "                 'thermostat': 'nosehoover',\n",
    "                 'loginterval': 10,\n",
    "                 'temperature': 300}"
   ]
  },
  {
   "cell_type": "markdown",
   "metadata": {},
   "source": [
    "Now let's do `zhu_params` and `batched_params`:"
   ]
  },
  {
   "cell_type": "code",
   "execution_count": 5,
   "metadata": {},
   "outputs": [],
   "source": [
    "zhu_params = {'log_file': 'trj.log',\n",
    " 'max_time': 200,\n",
    " 'out_file': 'trj.csv',\n",
    " 'timestep': 0.5,\n",
    " 'num_states': 2,\n",
    " 'max_gap_hop': 0.021673306772908366,\n",
    " 'save_period': 5,\n",
    " 'initial_surf': 1,\n",
    " 'initial_time': 0.0}\n",
    "\n",
    "batched_params = {'cutoff': 5.0,\n",
    " 'device': 1,\n",
    " 'num_trj': 10,\n",
    " 'batch_size': 5,\n",
    " 'nbr_update_period': 10}"
   ]
  },
  {
   "cell_type": "markdown",
   "metadata": {},
   "source": [
    "Lastly we'll define `all_params`, which has the starting coordinates and the model path:"
   ]
  },
  {
   "cell_type": "code",
   "execution_count": 6,
   "metadata": {},
   "outputs": [],
   "source": [
    "with open('data/azo_coords.json', 'r') as f:\n",
    "    coords = json.load(f)\n",
    "\n",
    "all_params = {\"coords\": coords, # starting geometry of the molecule\n",
    "              'model_path': '../models/azo_derivatives/all_diabatic/seed_0',\n",
    "              \"cutoff\": 5.0,\n",
    "              \"zhu_params\": zhu_params,\n",
    "              \"ground_params\": ground_params,\n",
    "              \"batched_params\": batched_params\n",
    "             }"
   ]
  },
  {
   "cell_type": "markdown",
   "metadata": {},
   "source": [
    "When we run the script from the command line, it parses these three dictionaries from a file and makes an instance of `CombinedZhuNakamura`, like this:"
   ]
  },
  {
   "cell_type": "code",
   "execution_count": 7,
   "metadata": {},
   "outputs": [
    {
     "name": "stdout",
     "output_type": "stream",
     "text": [
      "loading models\n",
      "running ground state + Zhu-Nakamura dynamics\n"
     ]
    },
    {
     "name": "stderr",
     "output_type": "stream",
     "text": [
      "/home/saxelrod/miniconda3/envs/nff/lib/python3.7/site-packages/ase/md/md.py:48: FutureWarning: Specify the temperature in K using the 'temperature_K' argument\n",
      "  warnings.warn(FutureWarning(w))\n"
     ]
    }
   ],
   "source": [
    "from nff.md.zhu_nakamura.run_zn import coords_to_xyz, make_dataset, make_trj\n",
    "\n",
    "coords = all_params[\"coords\"]\n",
    "nxyz = [coords_to_xyz(coords)]\n",
    "\n",
    "\n",
    "print('loading models')\n",
    "\n",
    "dataset = make_dataset(nxyz=nxyz, all_params=all_params)\n",
    "\n",
    "print('running ground state + Zhu-Nakamura dynamics')\n",
    "\n",
    "zn = make_trj(all_params=all_params,\n",
    "              dataset=dataset)\n",
    "\n"
   ]
  },
  {
   "cell_type": "markdown",
   "metadata": {},
   "source": [
    "Now we can run it!"
   ]
  },
  {
   "cell_type": "code",
   "execution_count": 8,
   "metadata": {},
   "outputs": [
    {
     "name": "stderr",
     "output_type": "stream",
     "text": [
      "../nff/nn/modules/diabat.py:140: UserWarning: torch.symeig is deprecated in favor of torch.linalg.eigh and will be removed in a future PyTorch release.\n",
      "The default behavior has changed from using the upper triangular portion of the matrix by default to using the lower triangular portion.\n",
      "L, _ = torch.symeig(A, upper=upper)\n",
      "should be replaced with\n",
      "L = torch.linalg.eigvalsh(A, UPLO='U' if upper else 'L')\n",
      "and\n",
      "L, V = torch.symeig(A, eigenvectors=True)\n",
      "should be replaced with\n",
      "L, V = torch.linalg.eigh(A, UPLO='U' if upper else 'L') (Triggered internally at  /opt/conda/conda-bld/pytorch_1623448224956/work/aten/src/ATen/native/BatchLinearAlgebra.cpp:2500.)\n",
      "  ad_energies, u = torch.symeig(d_mat, True)\n"
     ]
    },
    {
     "name": "stdout",
     "output_type": "stream",
     "text": [
      "Completed step 0\n",
      "Completed step 10\n",
      "Completed step 20\n",
      "Completed step 30\n",
      "Completed step 40\n",
      "Completed step 50\n",
      "Completed step 60\n",
      "Completed step 70\n",
      "Completed step 80\n",
      "Completed step 90\n",
      "Completed step 100\n",
      "Completed step 110\n",
      "Completed step 120\n",
      "Completed step 130\n",
      "Completed step 140\n",
      "Completed step 150\n",
      "Completed step 160\n",
      "Completed step 170\n",
      "Completed step 180\n",
      "Completed step 190\n",
      "Completed step 200\n",
      "Completed step 210\n",
      "Completed step 220\n",
      "Completed step 230\n",
      "Completed step 240\n",
      "Completed step 250\n",
      "Completed step 260\n",
      "Completed step 270\n",
      "Completed step 280\n",
      "Completed step 290\n",
      "Completed step 300\n",
      "Completed step 310\n",
      "Completed step 320\n",
      "Completed step 330\n",
      "Completed step 340\n",
      "Completed step 350\n",
      "Completed step 360\n",
      "Completed step 370\n",
      "Completed step 380\n",
      "Completed step 390\n",
      "Completed step 400\n",
      "Neural ZN terminated normally.\n"
     ]
    }
   ],
   "source": [
    "zn.run()\n"
   ]
  },
  {
   "cell_type": "markdown",
   "metadata": {},
   "source": [
    "We can view the ground-state log file:"
   ]
  },
  {
   "cell_type": "code",
   "execution_count": 9,
   "metadata": {
    "scrolled": true
   },
   "outputs": [
    {
     "name": "stdout",
     "output_type": "stream",
     "text": [
      "Time[ps]      Etot[eV]     Epot[eV]     Ekin[eV]    T[K]\n",
      "0.0000           2.0793      -0.8128       2.8921   658.1\n",
      "0.0050           2.0460       0.6323       1.4137   321.7\n",
      "0.0100           2.0074       0.6587       1.3487   306.9\n",
      "0.0150           1.9685       0.6079       1.3606   309.6\n",
      "0.0200           1.9191       0.3891       1.5299   348.1\n",
      "0.0250           1.8746       0.7113       1.1633   264.7\n",
      "0.0300           1.8280       0.4594       1.3687   311.4\n",
      "0.0350           1.7805       0.5009       1.2796   291.2\n",
      "0.0400           1.7348       0.6183       1.1165   254.0\n",
      "0.0450           1.7018       0.5671       1.1348   258.2\n",
      "0.0500           1.6612       0.1513       1.5099   343.6\n",
      "0.0550           1.6148       0.3042       1.3106   298.2\n",
      "0.0600           1.5646       0.1755       1.3891   316.1\n",
      "0.0650           1.5132       0.2880       1.2253   278.8\n",
      "0.0700           1.4709       0.4620       1.0089   229.6\n",
      "0.0750           1.4407       0.3959       1.0448   237.7\n",
      "0.0800           1.4139       0.2806       1.1333   257.9\n",
      "0.0850           1.3905       0.2451       1.1454   260.6\n",
      "0.0900           1.3760       0.5162       0.8598   195.6\n",
      "0.0950           1.3709       0.2236       1.1472   261.0\n",
      "0.1000           1.3723       0.2853       1.0870   247.3\n",
      "0.1050           1.3777       0.1784       1.1993   272.9\n",
      "0.1100           1.3880       0.2234       1.1645   265.0\n",
      "0.1150           1.3996       0.2408       1.1587   263.7\n",
      "0.1200           1.4162       0.2695       1.1466   260.9\n",
      "0.1250           1.4357       0.2199       1.2158   276.6\n",
      "0.1300           1.4583       0.3473       1.1110   252.8\n",
      "0.1350           1.4823       0.2462       1.2362   281.3\n",
      "0.1400           1.5125       0.3096       1.2029   273.7\n",
      "0.1450           1.5413       0.2547       1.2867   292.8\n",
      "0.1500           1.5698       0.6182       0.9516   216.5\n",
      "0.1550           1.5964       0.7076       0.8889   202.3\n",
      "0.1600           1.6423       0.3103       1.3320   303.1\n",
      "0.1650           1.6981       0.4477       1.2505   284.5\n",
      "0.1700           1.7410       0.8323       0.9087   206.8\n",
      "0.1750           1.7925       0.4902       1.3023   296.3\n",
      "0.1800           1.8594       0.5341       1.3252   301.5\n",
      "0.1850           1.9195       0.4482       1.4713   334.8\n",
      "0.1900           1.9763       0.6075       1.3689   311.5\n",
      "0.1950           2.0212       0.4968       1.5245   346.9\n",
      "0.2000           2.0568       0.4179       1.6389   372.9\n",
      "\n"
     ]
    }
   ],
   "source": [
    "with open('ground.log', 'r') as f:\n",
    "    ground_log = f.read()\n",
    "print(ground_log)"
   ]
  },
  {
   "cell_type": "markdown",
   "metadata": {},
   "source": [
    "We see that all energies fluctuate, as kinetic energy is being added into the system fo the thermostat. The temperature also varies, and over enough time it will average out to 300 K. \n",
    "\n",
    "To get the actual geometries, energies, and forces, we can load the trajectory file. And we can visualize it with `nglview`:\n",
    "\n"
   ]
  },
  {
   "cell_type": "code",
   "execution_count": 10,
   "metadata": {},
   "outputs": [
    {
     "data": {
      "application/vnd.jupyter.widget-view+json": {
       "model_id": "7776bded70024fa09b040b8e288e06fd",
       "version_major": 2,
       "version_minor": 0
      },
      "text/plain": [
       "NGLWidget(max_frame=40)"
      ]
     },
     "metadata": {},
     "output_type": "display_data"
    }
   ],
   "source": [
    "trj = Trajectory('ground.trj')\n",
    "nv.show_asetraj(trj)"
   ]
  },
  {
   "cell_type": "markdown",
   "metadata": {},
   "source": [
    "Unlike neural Tully, neural ZN saves the trajectories separately from each other. This may be changed in the future, since saving in one file is much easier.\n",
    "\n",
    "In any case we can examine individual trajectories:"
   ]
  },
  {
   "cell_type": "code",
   "execution_count": 13,
   "metadata": {
    "scrolled": true
   },
   "outputs": [
    {
     "name": "stdout",
     "output_type": "stream",
     "text": [
      "ZHU-NAKAMURA DYNAMICS:  Completed step 1. Currently in state 1.\n",
      "ZHU-NAKAMURA DYNAMICS:  Relative energies are 0.0, 3.2621356678776063 eV\n",
      "ZHU-NAKAMURA DYNAMICS:  Completed step 11. Currently in state 1.\n",
      "ZHU-NAKAMURA DYNAMICS:  Relative energies are 0.0, 2.848301627555715 eV\n",
      "ZHU-NAKAMURA DYNAMICS:  Completed step 21. Currently in state 1.\n",
      "ZHU-NAKAMURA DYNAMICS:  Relative energies are 0.0, 2.1683965365997238 eV\n",
      "ZHU-NAKAMURA DYNAMICS:  Completed step 31. Currently in state 1.\n",
      "ZHU-NAKAMURA DYNAMICS:  Relative energies are 0.0, 1.53168961295214 eV\n",
      "ZHU-NAKAMURA DYNAMICS:  Completed step 40. Currently in state 1.\n",
      "ZHU-NAKAMURA DYNAMICS:  Relative energies are 0.0, 0.6689230833772156 eV\n",
      "ZHU-NAKAMURA DYNAMICS:  Completed step 50. Currently in state 1.\n",
      "ZHU-NAKAMURA DYNAMICS:  Relative energies are 0.0, 0.5954116252746224 eV\n",
      "ZHU-NAKAMURA DYNAMICS:  Completed step 61. Currently in state 1.\n",
      "ZHU-NAKAMURA DYNAMICS:  Relative energies are 0.0, 0.7876349541774498 eV\n",
      "ZHU-NAKAMURA DYNAMICS:  Completed step 71. Currently in state 1.\n",
      "ZHU-NAKAMURA DYNAMICS:  Relative energies are 0.0, 0.667451617383426 eV\n",
      "ZHU-NAKAMURA DYNAMICS:  Completed step 81. Currently in state 1.\n",
      "ZHU-NAKAMURA DYNAMICS:  Relative energies are 0.0, 0.6708667942162984 eV\n",
      "ZHU-NAKAMURA DYNAMICS:  Completed step 91. Currently in state 1.\n",
      "ZHU-NAKAMURA DYNAMICS:  Relative energies are 0.0, 1.0727686532994447 eV\n",
      "ZHU-NAKAMURA DYNAMICS:  Completed step 101. Currently in state 1.\n",
      "ZHU-NAKAMURA DYNAMICS:  Relative energies are 0.0, 1.2634469346412012 eV\n",
      "ZHU-NAKAMURA DYNAMICS:  Completed step 111. Currently in state 1.\n",
      "ZHU-NAKAMURA DYNAMICS:  Relative energies are 0.0, 1.305278138316542 eV\n",
      "ZHU-NAKAMURA DYNAMICS:  Completed step 121. Currently in state 1.\n",
      "ZHU-NAKAMURA DYNAMICS:  Relative energies are 0.0, 1.230908669533898 eV\n",
      "ZHU-NAKAMURA DYNAMICS:  Completed step 130. Currently in state 1.\n",
      "ZHU-NAKAMURA DYNAMICS:  Relative energies are 0.0, 1.1837071689098781 eV\n",
      "ZHU-NAKAMURA DYNAMICS:  Completed step 140. Currently in state 1.\n",
      "ZHU-NAKAMURA DYNAMICS:  Relative energies are 0.0, 1.1767825646972792 eV\n",
      "ZHU-NAKAMURA DYNAMICS:  Completed step 150. Currently in state 1.\n",
      "ZHU-NAKAMURA DYNAMICS:  Relative energies are 0.0, 1.1198777222468124 eV\n",
      "ZHU-NAKAMURA DYNAMICS:  Completed step 160. Currently in state 1.\n",
      "ZHU-NAKAMURA DYNAMICS:  Relative energies are 0.0, 1.0408656699483094 eV\n",
      "ZHU-NAKAMURA DYNAMICS:  Completed step 170. Currently in state 1.\n",
      "ZHU-NAKAMURA DYNAMICS:  Relative energies are 0.0, 1.0068346084602968 eV\n",
      "ZHU-NAKAMURA DYNAMICS:  Completed step 180. Currently in state 1.\n",
      "ZHU-NAKAMURA DYNAMICS:  Relative energies are 0.0, 0.9369028522679802 eV\n",
      "ZHU-NAKAMURA DYNAMICS:  Completed step 190. Currently in state 1.\n",
      "ZHU-NAKAMURA DYNAMICS:  Relative energies are 0.0, 0.7731006930932716 eV\n",
      "ZHU-NAKAMURA DYNAMICS:  Completed step 200. Currently in state 1.\n",
      "ZHU-NAKAMURA DYNAMICS:  Relative energies are 0.0, 0.4205089012543048 eV\n",
      "ZHU-NAKAMURA DYNAMICS:  Completed step 210. Currently in state 1.\n",
      "ZHU-NAKAMURA DYNAMICS:  Relative energies are 0.0, 0.1342346051635315 eV\n",
      "ZHU-NAKAMURA DYNAMICS:  Completed step 220. Currently in state 1.\n",
      "ZHU-NAKAMURA DYNAMICS:  Relative energies are 0.0, 0.10745190678415566 eV\n",
      "ZHU-NAKAMURA DYNAMICS:  Completed step 229. Currently in state 0.\n",
      "ZHU-NAKAMURA DYNAMICS:  Relative energies are 0.0, 0.142026314407194 eV\n",
      "ZHU-NAKAMURA DYNAMICS:  Completed step 240. Currently in state 0.\n",
      "ZHU-NAKAMURA DYNAMICS:  Relative energies are 0.0, 0.7713516013658521 eV\n",
      "ZHU-NAKAMURA DYNAMICS:  Completed step 250. Currently in state 0.\n",
      "ZHU-NAKAMURA DYNAMICS:  Relative energies are 0.0, 1.269203493480148 eV\n",
      "ZHU-NAKAMURA DYNAMICS:  Completed step 260. Currently in state 0.\n",
      "ZHU-NAKAMURA DYNAMICS:  Relative energies are 0.0, 1.7089704270862547 eV\n",
      "ZHU-NAKAMURA DYNAMICS:  Completed step 270. Currently in state 0.\n",
      "ZHU-NAKAMURA DYNAMICS:  Relative energies are 0.0, 2.575058544354543 eV\n",
      "ZHU-NAKAMURA DYNAMICS:  Completed step 280. Currently in state 0.\n",
      "ZHU-NAKAMURA DYNAMICS:  Relative energies are 0.0, 3.1612772689222637 eV\n",
      "ZHU-NAKAMURA DYNAMICS:  Completed step 290. Currently in state 0.\n",
      "ZHU-NAKAMURA DYNAMICS:  Relative energies are 0.0, 2.87951178671155 eV\n",
      "ZHU-NAKAMURA DYNAMICS:  Completed step 300. Currently in state 0.\n",
      "ZHU-NAKAMURA DYNAMICS:  Relative energies are 0.0, 2.457961664942256 eV\n",
      "ZHU-NAKAMURA DYNAMICS:  Attempting hop from state 0 to state 1. Probability is 0.\n",
      "ZHU-NAKAMURA DYNAMICS:  Did not hop from state 0 to state 1.\n",
      "ZHU-NAKAMURA DYNAMICS:  Completed step 310. Currently in state 0.\n",
      "ZHU-NAKAMURA DYNAMICS:  Relative energies are 0.0, 2.785858159986923 eV\n",
      "ZHU-NAKAMURA DYNAMICS:  Completed step 320. Currently in state 0.\n",
      "ZHU-NAKAMURA DYNAMICS:  Relative energies are 0.0, 2.958733339787009 eV\n",
      "ZHU-NAKAMURA DYNAMICS:  Completed step 330. Currently in state 0.\n",
      "ZHU-NAKAMURA DYNAMICS:  Relative energies are 0.0, 2.6650848478399563 eV\n",
      "ZHU-NAKAMURA DYNAMICS:  Completed step 340. Currently in state 0.\n",
      "ZHU-NAKAMURA DYNAMICS:  Relative energies are 0.0, 2.441932292551655 eV\n",
      "ZHU-NAKAMURA DYNAMICS:  Completed step 350. Currently in state 0.\n",
      "ZHU-NAKAMURA DYNAMICS:  Relative energies are 0.0, 2.41115287493013 eV\n",
      "ZHU-NAKAMURA DYNAMICS:  Completed step 360. Currently in state 0.\n",
      "ZHU-NAKAMURA DYNAMICS:  Relative energies are 0.0, 2.1710059539329065 eV\n",
      "ZHU-NAKAMURA DYNAMICS:  Completed step 370. Currently in state 0.\n",
      "ZHU-NAKAMURA DYNAMICS:  Relative energies are 0.0, 2.052200163289491 eV\n",
      "ZHU-NAKAMURA DYNAMICS:  Completed step 380. Currently in state 0.\n",
      "ZHU-NAKAMURA DYNAMICS:  Relative energies are 0.0, 2.1613981854680073 eV\n",
      "ZHU-NAKAMURA DYNAMICS:  Completed step 390. Currently in state 0.\n",
      "ZHU-NAKAMURA DYNAMICS:  Relative energies are 0.0, 2.625441083610828 eV\n",
      "ZHU-NAKAMURA DYNAMICS:  Completed step 400. Currently in state 0.\n",
      "ZHU-NAKAMURA DYNAMICS:  Relative energies are 0.0, 3.1136451921157704 eV\n",
      "\n"
     ]
    }
   ],
   "source": [
    "with open('trj_0.log', 'r') as f:\n",
    "    zn_log = f.read()\n",
    "print(zn_log)"
   ]
  },
  {
   "cell_type": "markdown",
   "metadata": {},
   "source": [
    "To get the geometries, forces, etc., we can load the trajectory's CSV file:\n",
    "\n"
   ]
  },
  {
   "cell_type": "code",
   "execution_count": 35,
   "metadata": {},
   "outputs": [],
   "source": [
    "trj_dics = csv_read('trj_4.csv')\n",
    "nxyz_list = [np.array(i['nxyz']) for i in trj_dics]\n",
    "trj = [Atoms(numbers=nxyz[:, 0], positions=nxyz[:, 1:])\n",
    "      for nxyz in nxyz_list]"
   ]
  },
  {
   "cell_type": "markdown",
   "metadata": {},
   "source": [
    "The output contains `state_dicts`, a set of dictionaries with information about each trajectory for each time step, and `trjs`, a set of ASE trajectories. We can visualize one of the trajectories:"
   ]
  },
  {
   "cell_type": "code",
   "execution_count": 36,
   "metadata": {},
   "outputs": [
    {
     "data": {
      "application/vnd.jupyter.widget-view+json": {
       "model_id": "1823231640a347749d5672aac5917b62",
       "version_major": 2,
       "version_minor": 0
      },
      "text/plain": [
       "NGLWidget(max_frame=40)"
      ]
     },
     "metadata": {},
     "output_type": "display_data"
    }
   ],
   "source": [
    "nv.show_asetraj(trj)"
   ]
  },
  {
   "cell_type": "code",
   "execution_count": null,
   "metadata": {},
   "outputs": [],
   "source": []
  }
 ],
 "metadata": {
  "kernelspec": {
   "display_name": "Python [conda env:nff]",
   "language": "python",
   "name": "nff"
  },
  "language_info": {
   "codemirror_mode": {
    "name": "ipython",
    "version": 3
   },
   "file_extension": ".py",
   "mimetype": "text/x-python",
   "name": "python",
   "nbconvert_exporter": "python",
   "pygments_lexer": "ipython3",
   "version": "3.7.10"
  }
 },
 "nbformat": 4,
 "nbformat_minor": 2
}
