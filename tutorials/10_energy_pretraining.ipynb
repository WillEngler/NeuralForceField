{
 "cells": [
  {
   "cell_type": "markdown",
   "metadata": {},
   "source": [
    "# Introduction to Neural Force Field"
   ]
  },
  {
   "cell_type": "markdown",
   "metadata": {},
   "source": [
    "This Jupyter Notebook contains an introduction to the `nff` package. Here, we will load the modules and functions from `nff` to import a dataset, create dataloaders, create a model, train it and check the test stats. We will do most of it manually to illustrate the usage of the API. However, scripts such as the one provided in the `scripts/` folder already automate most of this process."
   ]
  },
  {
   "cell_type": "markdown",
   "metadata": {},
   "source": [
    "After the `nff` package has been installed, we start by importing all dependencies for this tutorial."
   ]
  },
  {
   "cell_type": "code",
   "execution_count": 1,
   "metadata": {},
   "outputs": [],
   "source": [
    "%load_ext autoreload\n",
    "%autoreload 2"
   ]
  },
  {
   "cell_type": "code",
   "execution_count": null,
   "metadata": {},
   "outputs": [],
   "source": []
  },
  {
   "cell_type": "code",
   "execution_count": 2,
   "metadata": {},
   "outputs": [],
   "source": [
    "# import sys\n",
    "\n",
    "# sys.path.insert(0, \"/home/saxelrod/Repo/projects/covid_nff/NeuralForceField\")\n",
    "# import torch\n",
    "# import pdb\n",
    "# import numpy as np\n",
    "\n",
    "# from nff.utils.scatter import scatter_add\n",
    "# from nff.nn.utils import chemprop_msg_update, chemprop_msg_to_node\n",
    "\n",
    "# h = torch.tensor([[0.5488, 0.7152, 0.6028],\n",
    "#                 [0.5449, 0.4237, 0.6459],\n",
    "#                 [0.4376, 0.8918, 0.9637],\n",
    "#                 [0.3834, 0.7917, 0.5289],\n",
    "#                 [0.5680, 0.9256, 0.0710],\n",
    "#                 [0.0871, 0.0202, 0.8326]])\n",
    "# nbrs = torch.tensor([[1, 2],\n",
    "#                 [2, 1],\n",
    "#                 [2, 3],\n",
    "#                 [3, 2],\n",
    "#                 [2, 4],\n",
    "#                 [4, 2]])\n",
    "# h_12, h_31, h_23, h_32, h_24, h_42 = h\n",
    "\n",
    "# # m_{vw} = \\sum_{k in N(v) \\ w} h_{kv}\n",
    "# # m = [m_{12}, m_{21}, m_{23}, m_{32}, m_{24}, m_{42}]\n",
    "# # = [0, h_{32} + h_{42}, h_{12} + h_{42}, 0, h_{12} + h_{32},\n",
    "# #    0]\n",
    "\n",
    "# m = chemprop_msg_update(h, nbrs)\n",
    "# print(m)\n",
    "\n",
    "# # >> tensor([[0.0000, 0.0000, 0.0000],\n",
    "# #         [0.4706, 0.8119, 1.3615],\n",
    "# #         [0.6359, 0.7354, 1.4354],\n",
    "# #         [0.0000, 0.0000, 0.0000],\n",
    "# #         [0.9323, 1.5069, 1.1317],\n",
    "# #         [0.0000, 0.0000, 0.0000]])\n",
    "\n",
    "# expec_m = torch.stack([0 * h_32, h_32+ h_42, h_12 + h_42, h_12 + h_32, 0 *h_12])\n",
    "# print(expec_m)\n",
    "\n",
    "# # >> tensor([[0.0000, 0.0000, 0.0000],\n",
    "# #         [0.4706, 0.8119, 1.3615],\n",
    "# #         [0.6359, 0.7354, 1.4354],\n",
    "# #         [0.0000, 0.0000, 0.0000],\n",
    "# #         [0.9323, 1.5069, 1.1317],\n",
    "# #         [0.0000, 0.0000, 0.0000]])"
   ]
  },
  {
   "cell_type": "code",
   "execution_count": 3,
   "metadata": {},
   "outputs": [],
   "source": [
    "# h = torch.tensor([[0.5488, 0.7152, 0.6028],\n",
    "#                 [0.5449, 0.4237, 0.6459],\n",
    "#                 [0.4376, 0.8918, 0.9637],\n",
    "#                 [0.3834, 0.7917, 0.5289],\n",
    "#                 [0.5680, 0.9256, 0.0710],\n",
    "#                 [0.0871, 0.0202, 0.8326]])\n",
    "# nbrs = torch.tensor([[1, 2],\n",
    "#                 [2, 1],\n",
    "#                 [2, 3],\n",
    "#                 [3, 2],\n",
    "#                 [2, 4],\n",
    "#                 [4, 2]])\n",
    "# h_12, h_21, h_23, h_32, h_24, h_42 = h\n",
    "# num_nodes = 5\n",
    "\n",
    "# # m_v = \\sum_{w \\in N(v)} h_{vw}\n",
    "# # = [m_0, m_1, m_2, m_3, m_4]\n",
    "# # = [0, h_12, h_21 + h_23 + h_24, h_32 , h_42]\n",
    "\n",
    "# m = chemprop_msg_to_node(h, nbrs, 5)\n",
    "# print(m)\n",
    "\n",
    "# expec_m = torch.stack([torch.zeros_like(h_12),\n",
    "#             h_12, h_21 + h_23 + h_24, h_32, h_42])\n",
    "\n",
    "# print(expec_m)"
   ]
  },
  {
   "cell_type": "code",
   "execution_count": 4,
   "metadata": {},
   "outputs": [],
   "source": [
    "# import os \n",
    "# import django\n",
    "\n",
    "\n",
    "# os.environ[\"DJANGO_SETTINGS_MODULE\"]=\"djangochem.settings.orgel\"\n",
    "\n",
    "# django.setup()\n",
    "\n",
    "# from pgmols.models import Species\n",
    "\n",
    "\n",
    "# from nff.data import Dataset\n",
    "\n",
    "# main_pth = (\"/home/saxelrod/engaging_nfs/data_from_fock/data/\"\n",
    "#        \"covid_data/covid_mmff94_1_50k_features.pth.tar\")\n",
    "\n",
    "# # main_pth = (\"/home/saxelrod/engaging_nfs/data_from_fock/data/\"\n",
    "# #        \"covid_data/all_crest_features.pth.tar\")\n",
    "\n",
    "# newest_dataset = Dataset.from_file(main_pth)\n",
    "\n",
    "# # old_pth = (\"/home/saxelrod/engaging_nfs/data_from_fock/data/\"\n",
    "# #        \"covid_data/all_crest_features.pth.tar\")\n",
    "# # old_dataset = Dataset.from_file(old_pth)"
   ]
  },
  {
   "cell_type": "code",
   "execution_count": 5,
   "metadata": {},
   "outputs": [],
   "source": [
    "# def check_dataset(dataset):\n",
    "#     bind_idx = []\n",
    "#     for i, smiles in enumerate(dataset.props['smiles']):\n",
    "#         print(i)\n",
    "#         spec = Species.objects.get(smiles=smiles, group__name='covid')\n",
    "#         bind = spec.mol.details[\"sars_cov_one_cl_protease_active\"]\n",
    "\n",
    "#         bind_idx.append(i)\n",
    "#     old_bind_idx = [i for i, bind in enumerate(dataset.props['bind'])]\n",
    "#     print(bind_idx == old_bind_idx)\n",
    "# check_dataset(newest_dataset)"
   ]
  },
  {
   "cell_type": "code",
   "execution_count": 6,
   "metadata": {},
   "outputs": [],
   "source": [
    "# newest_dataset.props['bind'].sum()"
   ]
  },
  {
   "cell_type": "code",
   "execution_count": 7,
   "metadata": {},
   "outputs": [],
   "source": [
    "# old_bind_idx = torch.LongTensor([i for i, bind in enumerate(old_dataset.props['bind']) if bind ])\n",
    "\n",
    "# add_props = {}\n",
    "# for key, val in old_dataset.props.items():\n",
    "#     if type(val) is list:\n",
    "#         add_props[key] = [val[i] for i in old_bind_idx]\n",
    "#     else:\n",
    "#         add_props[key] = val[old_bind_idx]\n",
    "\n",
    "       "
   ]
  },
  {
   "cell_type": "code",
   "execution_count": 8,
   "metadata": {},
   "outputs": [],
   "source": [
    "# for key, val in newest_dataset.props.items():\n",
    "#     if type(val) is list:\n",
    "#         newest_dataset.props[key] = val + add_props[key]\n",
    "#     else:\n",
    "#         newest_dataset.props[key] = torch.cat((val, add_props[key]), dim=0)"
   ]
  },
  {
   "cell_type": "code",
   "execution_count": 9,
   "metadata": {},
   "outputs": [],
   "source": [
    "# newest_dataset.save(main_pth)"
   ]
  },
  {
   "cell_type": "code",
   "execution_count": 10,
   "metadata": {},
   "outputs": [],
   "source": [
    "# import torch\n",
    "\n",
    "# dataset.props['bind'] = []\n",
    "\n",
    "# for i, smiles in enumerate(dataset.props['smiles']):\n",
    "#     spec = Species.objects.get(smiles=smiles, group__name='covid')\n",
    "#     bind = spec.mol.details[\"sars_cov_one_cl_protease_active\"]\n",
    "    \n",
    "#     dataset.props['bind'].append(bind)\n",
    "\n",
    "    \n",
    "# dataset.props['bind'] = torch.LongTensor(dataset.props['bind'])\n",
    "\n"
   ]
  },
  {
   "cell_type": "code",
   "execution_count": null,
   "metadata": {},
   "outputs": [],
   "source": []
  },
  {
   "cell_type": "code",
   "execution_count": 11,
   "metadata": {},
   "outputs": [],
   "source": [
    "# old_bind_idx = [i for i, bind in enumerate(old_dataset.props['bind']) if bind ]\n",
    "# new_bind_idx = [i for i, bind in enumerate(dataset.props['bind']) if bind ]"
   ]
  },
  {
   "cell_type": "code",
   "execution_count": 12,
   "metadata": {},
   "outputs": [],
   "source": [
    "# print(len(old_bind_idx))\n",
    "# print(len(new_bind_idx))\n",
    "\n",
    "# print(len([i for i in new_bind_idx if i in old_bind_idx]))"
   ]
  },
  {
   "cell_type": "code",
   "execution_count": 13,
   "metadata": {},
   "outputs": [],
   "source": [
    "# dataset.save(main_pth)"
   ]
  },
  {
   "cell_type": "code",
   "execution_count": 14,
   "metadata": {},
   "outputs": [],
   "source": [
    "import sys\n",
    "sys.path.insert(0, \"..\")\n",
    "\n",
    "import os\n",
    "import shutil\n",
    "import numpy as np\n",
    "import matplotlib.pyplot as plt\n",
    "from sklearn.metrics import roc_curve, roc_auc_score, auc, precision_recall_curve\n",
    "\n",
    "\n",
    "import torch\n",
    "from torch.optim import Adam\n",
    "from torch.utils.data import DataLoader\n",
    "\n",
    "from nff.data import (Dataset, split_train_validation_test, \n",
    "                      collate_dicts, to_tensor, ImbalancedDatasetSampler)\n",
    "from nff.train import Trainer, get_trainer, get_model, load_model, loss, hooks, metrics, evaluate\n",
    "\n",
    "from nff.hypopt.data import trim_confs"
   ]
  },
  {
   "cell_type": "markdown",
   "metadata": {},
   "source": [
    "It might also be useful setting the GPU you want to use:"
   ]
  },
  {
   "cell_type": "code",
   "execution_count": 15,
   "metadata": {},
   "outputs": [],
   "source": [
    "DEVICE = 0\n",
    "BATCH_SIZE = 15\n",
    "MINI_BATCHES = int(50 / BATCH_SIZE)\n",
    "\n",
    "OUTDIR = './sandbox'\n",
    "\n",
    "if os.path.exists(OUTDIR):\n",
    "    newpath = os.path.join(os.path.dirname(OUTDIR), 'backup')\n",
    "    if os.path.exists(newpath):\n",
    "        shutil.rmtree(newpath)\n",
    "        \n",
    "    shutil.move(OUTDIR, newpath)"
   ]
  },
  {
   "cell_type": "markdown",
   "metadata": {},
   "source": [
    "## Loading the relevant data"
   ]
  },
  {
   "cell_type": "markdown",
   "metadata": {},
   "source": [
    "As we usually work with the database, we can pack their information in a class `Dataset`, which is a subclass of `torch.utils.data.Dataset`. It basically wraps information on the atomic numbers, energies, forces and SMILES strings for each one of the geometries. In this example, we already have a pre-compiled `Dataset` to be used. We start by loading this file and creating three slices of the original dataset"
   ]
  },
  {
   "cell_type": "code",
   "execution_count": 16,
   "metadata": {},
   "outputs": [
    {
     "name": "stdout",
     "output_type": "stream",
     "text": [
      "Loading from file...\n",
      "Loaded from file.\n"
     ]
    }
   ],
   "source": [
    "import os\n",
    "base_pth = \"/home/saxelrod/engaging_nfs/data_from_fock/data/covid_data/\"\n",
    "\n",
    "main_pth = os.path.join(base_pth, \"crest_10_energies_features.pth.tar\")\n",
    "\n",
    "\n",
    "\n",
    "suffixes = [\"crest_10_energies_train.pth.tar\", \"crest_10_energies_val.pth.tar\", \n",
    "       \"crest_10_energies_test.pth.tar\"]\n",
    "\n",
    "\n",
    "pths = [os.path.join(base_pth, suffix) for suffix in suffixes]\n",
    "\n",
    "\n",
    "if all([os.path.isfile(file) for file in pths]):\n",
    "    print(\"Loading from file...\")\n",
    "    train, val, test = [Dataset.from_file(pth) for pth in pths]\n",
    "    print(\"Loaded from file.\")\n",
    "else:\n",
    "\n",
    "    dataset = Dataset.from_file(main_pth)\n",
    "    # already cleaned\n",
    "    train, val, test = split_train_validation_test(dataset)\n",
    "    for pth, dset in zip(pths, [train, val, test]):\n",
    "        dset.save(pth)\n",
    "\n",
    "    del dataset"
   ]
  },
  {
   "cell_type": "code",
   "execution_count": null,
   "metadata": {},
   "outputs": [],
   "source": []
  },
  {
   "cell_type": "code",
   "execution_count": null,
   "metadata": {},
   "outputs": [],
   "source": []
  },
  {
   "cell_type": "code",
   "execution_count": null,
   "metadata": {},
   "outputs": [],
   "source": []
  },
  {
   "cell_type": "markdown",
   "metadata": {},
   "source": [
    "Create loaders:"
   ]
  },
  {
   "cell_type": "code",
   "execution_count": 17,
   "metadata": {},
   "outputs": [],
   "source": [
    "loaders = []\n",
    "\n",
    "for split in [train, val, test]:\n",
    "    props = split.props\n",
    "    loader = DataLoader(split, batch_size=BATCH_SIZE, \n",
    "                        collate_fn=collate_dicts)\n",
    "    loaders.append(loader)\n",
    "    \n",
    "train_loader, val_loader, test_loader = loaders"
   ]
  },
  {
   "cell_type": "markdown",
   "metadata": {},
   "source": [
    "`nff` is based on SchNet. It parameterizes interatomic interactions in molecules and materials through a series of convolution layers with continuous filters. Here, we are going to create a simple model using the hyperparameters given on `params`:"
   ]
  },
  {
   "cell_type": "code",
   "execution_count": null,
   "metadata": {},
   "outputs": [],
   "source": []
  },
  {
   "cell_type": "code",
   "execution_count": 18,
   "metadata": {},
   "outputs": [],
   "source": [
    "n_atom_basis = next(iter(train_loader))[\"atom_features\"].shape[-1]\n",
    "n_bond_features = next(iter(train_loader))[\"bond_features\"].shape[-1]\n",
    "\n",
    "n_bond_hidden = 300\n",
    "\n",
    "n_filters = 30\n",
    "\n",
    "n_gaussians = 10\n",
    "n_edge_hidden = n_bond_hidden + n_filters\n",
    "n_mol_basis = 300\n",
    "\n",
    "\n",
    "mol_fp_drop = 0.0\n",
    "schnet_dropout = 0.2\n",
    "cp_dropout = 0.0\n",
    "readout_drop = 0.2\n",
    "\n",
    "\n",
    "n_convolutions = 2\n",
    "\n",
    "\n",
    "input_layers = [{'name': 'linear', 'param': {'in_features': n_bond_features + n_atom_basis,\n",
    "                                         'out_features': n_bond_hidden}},\n",
    "            {'name': 'shifted_softplus', 'param': {}}]\n",
    "\n",
    "output_layers = [{'name': 'linear', 'param': {'in_features': n_atom_basis + n_edge_hidden,\n",
    "                                         'out_features': n_mol_basis}},\n",
    "                {'name': 'shifted_softplus', 'param': {}}]\n",
    "\n",
    "readoutdict = {'energy': [\n",
    "            {'name': 'linear', 'param' : { 'in_features': n_mol_basis, 'out_features': int(n_mol_basis / 2)}},\n",
    "            {'name': 'shifted_softplus', 'param': {}},\n",
    "            {'name': 'Dropout', 'param': {'p': readout_drop}},\n",
    "            {'name': 'linear', 'param' : { 'in_features': int(n_mol_basis / 2), 'out_features': 1}},\n",
    "        ]\n",
    "    }\n",
    "\n",
    "\n",
    "mol_fp_layers = []\n",
    "\n",
    "\n",
    "\n",
    "params = {\n",
    "    'n_atom_basis': n_atom_basis,\n",
    "    'n_bond_hidden': n_bond_hidden,\n",
    "    'input_layers': input_layers,\n",
    "    'output_layers': output_layers,\n",
    "    'n_filters': n_filters,\n",
    "    'n_gaussians': n_gaussians,\n",
    "    'cp_dropout': cp_dropout,\n",
    "    'schnet_dropout': schnet_dropout,\n",
    "    'gauss_embed': True,\n",
    "    'n_convolutions': n_convolutions,\n",
    "    'cutoff': 5.0,\n",
    "    'trainable_gauss': True,\n",
    "    'dropout_rate': schnet_dropout,\n",
    "    'readoutdict': readoutdict,\n",
    "    'boltzmann_dict': {'type': 'multiply'},\n",
    "    'mol_fp_layers': mol_fp_layers,\n",
    "    'same_filters': True,\n",
    "    'activation': 'shifted_softplus'\n",
    "#     'activation': 'ReLU'\n",
    "\n",
    "\n",
    "}\n",
    "\n",
    "import pdb\n",
    "try:\n",
    "    model = get_model(params, model_type=\"SchNetFeatures\")\n",
    "except Exception as e:\n",
    "    print(e)\n",
    "    pdb.post_mortem()"
   ]
  },
  {
   "cell_type": "code",
   "execution_count": null,
   "metadata": {},
   "outputs": [],
   "source": []
  },
  {
   "cell_type": "markdown",
   "metadata": {},
   "source": [
    "## Creating a trainer"
   ]
  },
  {
   "cell_type": "code",
   "execution_count": 19,
   "metadata": {},
   "outputs": [
    {
     "data": {
      "text/plain": [
       "SchNetFeatures(\n",
       "  (convolutions): ModuleList(\n",
       "    (0): CpSchNetConv(\n",
       "      (dense): Dense(\n",
       "        in_features=300, out_features=300, bias=False\n",
       "        (dropout): Dropout(p=0.0, inplace=False)\n",
       "      )\n",
       "      (activation): shifted_softplus()\n",
       "      (moduledict): ModuleDict(\n",
       "        (edge_filter): Sequential(\n",
       "          (0): GaussianSmearing()\n",
       "          (1): Dense(\n",
       "            in_features=10, out_features=30, bias=True\n",
       "            (dropout): Dropout(p=0.2, inplace=False)\n",
       "          )\n",
       "          (2): shifted_softplus()\n",
       "        )\n",
       "      )\n",
       "    )\n",
       "    (1): CpSchNetConv(\n",
       "      (dense): Dense(\n",
       "        in_features=300, out_features=300, bias=False\n",
       "        (dropout): Dropout(p=0.0, inplace=False)\n",
       "      )\n",
       "      (activation): shifted_softplus()\n",
       "      (moduledict): ModuleDict(\n",
       "        (edge_filter): Sequential(\n",
       "          (0): GaussianSmearing()\n",
       "          (1): Dense(\n",
       "            in_features=10, out_features=30, bias=True\n",
       "            (dropout): Dropout(p=0.2, inplace=False)\n",
       "          )\n",
       "          (2): shifted_softplus()\n",
       "        )\n",
       "      )\n",
       "    )\n",
       "  )\n",
       "  (mol_fp_nn): Sequential()\n",
       "  (readout): NodeMultiTaskReadOut(\n",
       "    (readout): ModuleDict(\n",
       "      (energy): Sequential(\n",
       "        (linear0): Linear(in_features=300, out_features=150, bias=True)\n",
       "        (shifted_softplus1): shifted_softplus()\n",
       "        (Dropout2): Dropout(p=0.2, inplace=False)\n",
       "        (linear3): Linear(in_features=150, out_features=1, bias=True)\n",
       "      )\n",
       "    )\n",
       "  )\n",
       "  (W_i): ChemPropInit(\n",
       "    (input): Sequential(\n",
       "      (linear0): Linear(in_features=159, out_features=300, bias=False)\n",
       "      (shifted_softplus1): shifted_softplus()\n",
       "    )\n",
       "  )\n",
       "  (W_o): ChemPropMsgToNode(\n",
       "    (output): Sequential(\n",
       "      (linear0): Linear(in_features=463, out_features=300, bias=False)\n",
       "      (shifted_softplus1): shifted_softplus()\n",
       "    )\n",
       "  )\n",
       ")"
      ]
     },
     "execution_count": 19,
     "metadata": {},
     "output_type": "execute_result"
    }
   ],
   "source": [
    "model"
   ]
  },
  {
   "cell_type": "markdown",
   "metadata": {},
   "source": [
    "To train our model with the data provided, we have to create a loss function. The easiest way to do that is through the `build_mse_loss` builder. Its argument `rho` is a parameter that will multiply the mean square error (MSE) of the force components before summing it with the MSE of the energy."
   ]
  },
  {
   "cell_type": "code",
   "execution_count": 20,
   "metadata": {},
   "outputs": [],
   "source": [
    "loss_fn = loss.build_mse_loss(loss_coef={'energy': 1})"
   ]
  },
  {
   "cell_type": "markdown",
   "metadata": {},
   "source": [
    "We should also select an optimizer for our recently created model:"
   ]
  },
  {
   "cell_type": "code",
   "execution_count": 21,
   "metadata": {},
   "outputs": [],
   "source": [
    "trainable_params = filter(lambda p: p.requires_grad, model.parameters())\n",
    "optimizer = Adam(trainable_params, lr=1e-4)"
   ]
  },
  {
   "cell_type": "markdown",
   "metadata": {},
   "source": [
    "### Metrics and hooks"
   ]
  },
  {
   "cell_type": "markdown",
   "metadata": {},
   "source": [
    "If we want to monitor the progress of our training, say by looking at the mean absolute error (MAE) of energies and forces, we can simply create metrics to observe them:"
   ]
  },
  {
   "cell_type": "code",
   "execution_count": null,
   "metadata": {},
   "outputs": [],
   "source": []
  },
  {
   "cell_type": "code",
   "execution_count": 22,
   "metadata": {},
   "outputs": [],
   "source": [
    "train_metrics = [\n",
    "    metrics.MeanAbsoluteError('energy'),\n",
    "]"
   ]
  },
  {
   "cell_type": "markdown",
   "metadata": {},
   "source": [
    "Furthermore, if we want to customize how our training procedure is done, we can use hooks which can interrupt or change the train automatically.\n",
    "\n",
    "In our case, we are adding hooks to:\n",
    "* Stop the training procedure after 100 epochs;\n",
    "* Log the training on a machine-readable CSV file under the directory `./sandbox`;\n",
    "* Print the progress on the screen with custom formatting; and\n",
    "* Setup a scheduler for the learning rate."
   ]
  },
  {
   "cell_type": "code",
   "execution_count": 23,
   "metadata": {},
   "outputs": [],
   "source": [
    "train_hooks = [\n",
    "    hooks.MaxEpochHook(1000),\n",
    "    hooks.CSVHook(\n",
    "        OUTDIR,\n",
    "        metrics=train_metrics,\n",
    "    ),\n",
    "    hooks.PrintingHook(\n",
    "        OUTDIR,\n",
    "        metrics=train_metrics,\n",
    "        separator = ' | ',\n",
    "        time_strf='%M:%S'\n",
    "    ),\n",
    "    hooks.ReduceLROnPlateauHook(\n",
    "        optimizer=optimizer,\n",
    "        patience=10,\n",
    "        factor=0.5,\n",
    "        min_lr=1e-7,\n",
    "        window_length=1,\n",
    "        stop_after_min=True\n",
    "    )\n",
    "]"
   ]
  },
  {
   "cell_type": "markdown",
   "metadata": {},
   "source": [
    "### Trainer wrapper"
   ]
  },
  {
   "cell_type": "markdown",
   "metadata": {},
   "source": [
    "A `Trainer` in the `nff` package is a wrapper to train a model. It automatically creates checkpoints, as well as trains and validates a given model. It also allow further training by loading checkpoints from existing paths, making the training procedure more flexible. Its functionalities can be extended by the hooks we created above. To create a trainer, we have to execute the following command:"
   ]
  },
  {
   "cell_type": "code",
   "execution_count": 24,
   "metadata": {},
   "outputs": [],
   "source": [
    "T = Trainer(\n",
    "    model_path=OUTDIR,\n",
    "    model=model,\n",
    "    loss_fn=loss_fn,\n",
    "    optimizer=optimizer,\n",
    "    train_loader=train_loader,\n",
    "    validation_loader=val_loader,\n",
    "    checkpoint_intbatcerval=1,\n",
    "    hooks=train_hooks,\n",
    "    mini_batches=MINI_BATCHES\n",
    ")"
   ]
  },
  {
   "cell_type": "markdown",
   "metadata": {},
   "source": [
    "Now we can finally train the model using the method `train` from the `Trainer`:"
   ]
  },
  {
   "cell_type": "code",
   "execution_count": 25,
   "metadata": {
    "scrolled": true
   },
   "outputs": [
    {
     "name": "stdout",
     "output_type": "stream",
     "text": [
      " Time | Epoch | Learning rate | Train loss | Validation loss | MAE_energy | GPU Memory (MB)\n",
      "28:12 |     1 |     1.000e-04 | 23088.4109 |       4897.9023 |    53.9212 |            4061\n",
      "30:53 |     2 |     1.000e-04 |  3690.1940 |       2552.2852 |    39.0499 |            4671\n",
      "33:16 |     3 |     1.000e-04 |  2192.9131 |       1656.6727 |    31.5973 |            4671\n",
      "35:39 |     4 |     1.000e-04 |  1733.8842 |       1069.7027 |    24.8177 |            4671\n",
      "38:14 |     5 |     1.000e-04 |  1550.4362 |        987.6889 |    24.2713 |            4671\n",
      "40:59 |     6 |     1.000e-04 |  1377.1630 |       1054.7157 |    25.6341 |            4671\n",
      "43:30 |     7 |     1.000e-04 |  1220.2908 |       1026.2218 |    25.3897 |            4671\n",
      "45:58 |     8 |     1.000e-04 |  1170.7210 |        842.8678 |    22.9210 |            4671\n",
      "48:34 |     9 |     1.000e-04 |  1071.5019 |        856.5335 |    23.4386 |            4671\n",
      "51:10 |    10 |     1.000e-04 |  1011.0554 |        646.6199 |    19.8188 |            4671\n",
      "53:32 |    11 |     1.000e-04 |   920.7162 |        586.3755 |    19.1221 |            4671\n",
      "55:56 |    12 |     1.000e-04 |   895.6394 |        497.9612 |    17.1218 |            4671\n",
      "58:21 |    13 |     1.000e-04 |   855.6950 |        606.4690 |    19.8520 |            4671\n",
      "00:48 |    14 |     1.000e-04 |   810.1632 |        392.5528 |    15.5291 |            4671\n",
      "03:22 |    15 |     1.000e-04 |   762.6433 |        344.8843 |    14.5599 |            4671\n",
      "05:47 |    16 |     1.000e-04 |   742.5156 |        415.2462 |    16.2573 |            4671\n",
      "08:10 |    17 |     1.000e-04 |   705.2733 |        269.0145 |    12.1413 |            4671\n",
      "10:33 |    18 |     1.000e-04 |   688.1233 |        276.7655 |    12.9543 |            4671\n",
      "13:02 |    19 |     1.000e-04 |   658.4231 |        306.3868 |    13.6166 |            4671\n",
      "15:33 |    20 |     1.000e-04 |   641.9699 |        218.9675 |    11.0906 |            4671\n",
      "18:00 |    21 |     1.000e-04 |   620.8072 |        196.9817 |    10.5129 |            4671\n",
      "20:22 |    22 |     1.000e-04 |   605.5630 |        271.1657 |    12.5596 |            4671\n",
      "22:55 |    23 |     1.000e-04 |   583.9763 |        178.3680 |     9.7891 |            4671\n",
      "25:25 |    24 |     1.000e-04 |   580.3830 |        280.7349 |    13.6380 |            4671\n",
      "27:53 |    25 |     1.000e-04 |   571.1968 |        192.8696 |    10.5988 |            4671\n",
      "30:19 |    26 |     1.000e-04 |   557.9831 |        183.4368 |    10.0455 |            4671\n",
      "33:04 |    27 |     1.000e-04 |   545.1900 |        286.1227 |    13.9485 |            4671\n",
      "35:34 |    28 |     1.000e-04 |   534.7838 |        127.6318 |     8.2530 |            4671\n",
      "38:11 |    29 |     1.000e-04 |   518.9356 |        113.5111 |     7.7893 |            4671\n",
      "40:36 |    30 |     1.000e-04 |   515.9672 |        360.4764 |    15.2902 |            4671\n",
      "43:06 |    31 |     1.000e-04 |   508.6439 |        144.6647 |     9.0764 |            4671\n",
      "45:34 |    32 |     1.000e-04 |   501.7524 |        111.1364 |     7.7109 |            4671\n",
      "47:57 |    33 |     1.000e-04 |   487.3221 |        108.9017 |     7.5390 |            4671\n",
      "50:20 |    34 |     1.000e-04 |   492.6659 |        136.8949 |     8.6750 |            4671\n",
      "53:04 |    35 |     1.000e-04 |   475.8139 |        107.9658 |     7.6347 |            4671\n",
      "55:29 |    36 |     1.000e-04 |   478.9955 |        227.0364 |    11.9912 |            4671\n",
      "58:10 |    37 |     1.000e-04 |   478.4503 |        129.0641 |     8.6945 |            4671\n",
      "00:43 |    38 |     1.000e-04 |   459.8814 |         89.8041 |     6.8399 |            4671\n",
      "03:15 |    39 |     1.000e-04 |   471.9283 |        100.0170 |     7.4483 |            4671\n",
      "05:51 |    40 |     1.000e-04 |   449.1208 |        201.1302 |    10.8120 |            4671\n",
      "08:30 |    41 |     1.000e-04 |   457.2191 |        152.7507 |     9.6374 |            4671\n",
      "11:04 |    42 |     1.000e-04 |   440.8855 |        132.8415 |     8.6634 |            4671\n",
      "13:38 |    43 |     1.000e-04 |   447.1290 |         83.7949 |     6.5922 |            4671\n",
      "16:11 |    44 |     1.000e-04 |   441.3985 |        119.4302 |     8.3743 |            4671\n",
      "18:34 |    45 |     1.000e-04 |   437.7305 |         95.4329 |     7.2562 |            4671\n",
      "21:07 |    46 |     1.000e-04 |   426.6367 |        119.4343 |     8.4181 |            4671\n",
      "23:39 |    47 |     1.000e-04 |   423.2380 |        103.7833 |     7.4931 |            4671\n",
      "26:12 |    48 |     1.000e-04 |   426.6728 |        118.2148 |     8.2669 |            4671\n",
      "28:34 |    49 |     1.000e-04 |   408.2673 |        133.4517 |     8.9844 |            4671\n",
      "31:18 |    50 |     1.000e-04 |   427.3314 |        101.4272 |     7.6330 |            4671\n",
      "33:41 |    51 |     1.000e-04 |   417.0307 |         82.6803 |     6.6628 |            4671\n",
      "36:22 |    52 |     1.000e-04 |   422.0916 |        125.2454 |     8.6602 |            4671\n",
      "38:56 |    53 |     1.000e-04 |   417.8990 |        169.5361 |    10.0578 |            4671\n",
      "41:24 |    54 |     1.000e-04 |   409.9303 |        159.2674 |    10.0037 |            4671\n",
      "43:50 |    55 |     1.000e-04 |   395.7773 |        129.2341 |     8.7988 |            4671\n",
      "46:14 |    56 |     1.000e-04 |   412.3169 |        119.2830 |     8.5062 |            4671\n",
      "48:37 |    57 |     1.000e-04 |   405.1917 |        101.5788 |     7.8387 |            4671\n",
      "51:12 |    58 |     1.000e-04 |   393.1877 |        214.0554 |    11.8827 |            4671\n",
      "53:48 |    59 |     1.000e-04 |   411.5494 |         81.8077 |     6.5493 |            4671\n",
      "56:29 |    60 |     1.000e-04 |   403.4307 |         61.3132 |     5.5918 |            4671\n",
      "58:51 |    61 |     1.000e-04 |   404.9522 |         82.1801 |     6.4295 |            4671\n",
      "01:25 |    62 |     1.000e-04 |   386.9562 |        109.8789 |     7.7223 |            4671\n",
      "04:08 |    63 |     1.000e-04 |   399.2038 |        308.0176 |    14.7864 |            4671\n",
      "06:35 |    64 |     1.000e-04 |   400.4948 |         60.1984 |     5.5021 |            4671\n",
      "09:02 |    65 |     1.000e-04 |   393.6094 |        106.1703 |     7.9525 |            4671\n",
      "11:29 |    66 |     1.000e-04 |   400.8104 |        128.3855 |     9.2994 |            4671\n",
      "13:57 |    67 |     1.000e-04 |   391.6287 |         53.2422 |     5.1772 |            4671\n",
      "16:29 |    68 |     1.000e-04 |   396.7428 |         98.5764 |     7.5275 |            4671\n",
      "19:07 |    69 |     1.000e-04 |   393.8935 |        171.9595 |    10.2819 |            4671\n",
      "21:33 |    70 |     1.000e-04 |   392.0473 |         62.7902 |     5.7509 |            4671\n",
      "23:59 |    71 |     1.000e-04 |   388.7326 |        128.9996 |     9.2554 |            4671\n",
      "26:22 |    72 |     1.000e-04 |   398.7119 |         70.5601 |     6.1462 |            4671\n",
      "28:54 |    73 |     1.000e-04 |   390.9921 |        247.5390 |    13.4617 |            4671\n",
      "31:28 |    74 |     1.000e-04 |   383.1774 |         73.1309 |     6.4498 |            4671\n",
      "33:55 |    75 |     1.000e-04 |   387.7540 |         66.2565 |     6.0331 |            4671\n",
      "36:23 |    76 |     1.000e-04 |   377.9967 |         48.8821 |     4.9450 |            4671\n",
      "38:53 |    77 |     1.000e-04 |   383.7072 |         78.0091 |     6.6647 |            4671\n",
      "41:23 |    78 |     1.000e-04 |   378.5843 |         52.0568 |     5.1480 |            4671\n",
      "43:50 |    79 |     1.000e-04 |   385.2827 |        107.5399 |     7.9649 |            4671\n",
      "46:31 |    80 |     1.000e-04 |   378.7593 |        110.6563 |     8.0651 |            4671\n",
      "48:59 |    81 |     1.000e-04 |   372.8518 |         61.2826 |     5.7553 |            4671\n",
      "51:32 |    82 |     1.000e-04 |   378.1478 |        100.0791 |     7.7436 |            4671\n",
      "53:59 |    83 |     1.000e-04 |   380.1639 |         50.9299 |     5.1574 |            4671\n",
      "56:25 |    84 |     1.000e-04 |   374.3872 |         73.6296 |     6.4370 |            4671\n",
      "59:04 |    85 |     1.000e-04 |   375.6597 |         66.0361 |     6.0427 |            4671\n",
      "01:41 |    86 |     1.000e-04 |   366.0706 |         51.2349 |     5.0803 |            4671\n",
      "04:07 |    87 |     1.000e-04 |   377.1248 |         53.0063 |     5.3001 |            4671\n",
      "06:30 |    88 |     5.000e-05 |   351.4625 |         95.1683 |     7.2687 |            4671\n",
      "08:55 |    89 |     5.000e-05 |   360.8282 |         52.4117 |     5.2696 |            4671\n"
     ]
    },
    {
     "name": "stdout",
     "output_type": "stream",
     "text": [
      "11:29 |    90 |     5.000e-05 |   349.3555 |         66.6352 |     6.4539 |            4671\n",
      "13:59 |    91 |     5.000e-05 |   353.7935 |         42.2809 |     4.5690 |            4671\n",
      "16:42 |    92 |     5.000e-05 |   346.0748 |         48.4871 |     5.0845 |            4671\n",
      "19:23 |    93 |     5.000e-05 |   352.3165 |         67.3405 |     6.3791 |            4671\n",
      "21:59 |    94 |     5.000e-05 |   352.3649 |         42.7900 |     4.6581 |            4671\n",
      "24:25 |    95 |     5.000e-05 |   350.4290 |         41.3079 |     4.5489 |            4671\n",
      "27:02 |    96 |     5.000e-05 |   357.5725 |         47.7802 |     4.9076 |            4671\n",
      "29:24 |    97 |     5.000e-05 |   351.8593 |         54.3926 |     5.3949 |            4671\n",
      "31:52 |    98 |     5.000e-05 |   349.1221 |         41.3437 |     4.3936 |            4671\n",
      "34:29 |    99 |     5.000e-05 |   356.3612 |         58.3966 |     5.5855 |            4671\n",
      "37:03 |   100 |     5.000e-05 |   354.2354 |         57.8494 |     5.6257 |            4671\n",
      "39:35 |   101 |     5.000e-05 |   355.8285 |         38.1264 |     4.3401 |            4671\n",
      "42:11 |   102 |     5.000e-05 |   348.2205 |         56.8798 |     5.6957 |            4671\n",
      "44:38 |   103 |     5.000e-05 |   357.1808 |         46.0330 |     4.9312 |            4671\n",
      "47:22 |   104 |     5.000e-05 |   352.3344 |         43.4767 |     4.7249 |            4671\n",
      "49:57 |   105 |     5.000e-05 |   350.9052 |         37.6043 |     4.2861 |            4671\n",
      "52:41 |   106 |     5.000e-05 |   351.7248 |         55.7592 |     5.5011 |            4671\n",
      "55:06 |   107 |     5.000e-05 |   349.7254 |         46.7981 |     5.1539 |            4671\n",
      "57:42 |   108 |     5.000e-05 |   347.7044 |         39.3004 |     4.4119 |            4671\n",
      "00:50 |   109 |     5.000e-05 |   349.0302 |         60.1758 |     5.7582 |            4671\n",
      "03:28 |   110 |     5.000e-05 |   351.3392 |         42.8505 |     4.6864 |            4671\n",
      "06:12 |   111 |     5.000e-05 |   351.4813 |         51.8368 |     5.2687 |            4671\n",
      "08:51 |   112 |     5.000e-05 |   351.7591 |         55.4661 |     5.5043 |            4671\n",
      "11:24 |   113 |     5.000e-05 |   343.2746 |         38.2022 |     4.4192 |            4671\n",
      "14:18 |   114 |     5.000e-05 |   355.0344 |         44.1934 |     4.7246 |            4671\n",
      "16:57 |   115 |     5.000e-05 |   348.1384 |         40.5615 |     4.5181 |            4671\n",
      "19:29 |   116 |     5.000e-05 |   348.9295 |         52.0476 |     5.1772 |            4671\n",
      "22:01 |   117 |     2.500e-05 |   343.9249 |         37.8802 |     4.3221 |            4671\n",
      "24:32 |   118 |     2.500e-05 |   339.6052 |         55.5028 |     5.7384 |            4671\n",
      "26:59 |   119 |     2.500e-05 |   337.5828 |         32.3240 |     3.9019 |            4671\n",
      "29:28 |   120 |     2.500e-05 |   340.2209 |         47.1555 |     5.0316 |            4671\n",
      "31:58 |   121 |     2.500e-05 |   338.7744 |         34.8471 |     4.2327 |            4671\n",
      "34:28 |   122 |     2.500e-05 |   337.9520 |         34.6322 |     4.0919 |            4671\n",
      "36:56 |   123 |     2.500e-05 |   335.8088 |         35.0965 |     4.1686 |            4671\n",
      "39:34 |   124 |     2.500e-05 |   339.4948 |         49.5494 |     5.0090 |            4671\n",
      "42:10 |   125 |     2.500e-05 |   343.2202 |         43.3249 |     4.8084 |            4671\n",
      "44:35 |   126 |     2.500e-05 |   340.4261 |         40.4787 |     4.5686 |            4671\n",
      "47:01 |   127 |     2.500e-05 |   339.3450 |         37.5116 |     4.3195 |            4671\n",
      "49:35 |   128 |     2.500e-05 |   336.7359 |         42.4346 |     4.7427 |            4671\n",
      "52:09 |   129 |     2.500e-05 |   346.9781 |         42.6639 |     4.6405 |            4671\n",
      "54:40 |   130 |     2.500e-05 |   339.5818 |         30.5293 |     3.7389 |            4671\n",
      "57:08 |   131 |     2.500e-05 |   332.3958 |         39.0374 |     4.4829 |            4671\n",
      "59:35 |   132 |     2.500e-05 |   333.5113 |         34.8952 |     4.0375 |            4671\n",
      "02:08 |   133 |     2.500e-05 |   335.5388 |         43.1428 |     4.8918 |            4671\n",
      "04:35 |   134 |     2.500e-05 |   338.5537 |         38.8214 |     4.4707 |            4671\n",
      "07:12 |   135 |     2.500e-05 |   340.9321 |         32.4882 |     3.9194 |            4671\n",
      "09:35 |   136 |     2.500e-05 |   334.1992 |         36.8528 |     4.4250 |            4671\n",
      "12:01 |   137 |     2.500e-05 |   333.4836 |         32.4868 |     3.9739 |            4671\n",
      "14:27 |   138 |     2.500e-05 |   332.7910 |         36.7578 |     4.2714 |            4671\n",
      "16:57 |   139 |     2.500e-05 |   334.4087 |         29.2048 |     3.6446 |            4671\n",
      "19:27 |   140 |     2.500e-05 |   333.4964 |         31.5086 |     3.8449 |            4671\n",
      "21:55 |   141 |     2.500e-05 |   339.7870 |         30.9378 |     3.8020 |            4671\n",
      "24:31 |   142 |     2.500e-05 |   334.2581 |         29.8895 |     3.7450 |            4671\n",
      "27:05 |   143 |     2.500e-05 |   335.0936 |         40.7699 |     4.6193 |            4671\n",
      "29:28 |   144 |     2.500e-05 |   339.3112 |         34.9783 |     4.1554 |            4671\n",
      "31:56 |   145 |     2.500e-05 |   334.7830 |         30.8196 |     3.7193 |            4671\n",
      "34:27 |   146 |     2.500e-05 |   346.1743 |         40.5009 |     4.6475 |            4671\n",
      "37:02 |   147 |     2.500e-05 |   338.4385 |         48.6896 |     5.1347 |            4671\n",
      "39:43 |   148 |     2.500e-05 |   333.1313 |         34.7208 |     4.1011 |            4671\n",
      "42:13 |   149 |     2.500e-05 |   334.5596 |         38.8559 |     4.4964 |            4671\n",
      "44:41 |   150 |     2.500e-05 |   334.2170 |         31.6196 |     3.9061 |            4671\n",
      "47:11 |   151 |     1.250e-05 |   329.2648 |         34.7712 |     4.1871 |            4671\n",
      "49:43 |   152 |     1.250e-05 |   330.9529 |         32.7819 |     3.9900 |            4671\n",
      "52:22 |   153 |     1.250e-05 |   332.2603 |         35.1433 |     4.1777 |            4671\n",
      "55:03 |   154 |     1.250e-05 |   334.0828 |         33.8604 |     4.1439 |            4671\n",
      "57:38 |   155 |     1.250e-05 |   333.0527 |         28.8073 |     3.6583 |            4671\n",
      "00:08 |   156 |     1.250e-05 |   334.1952 |         29.8807 |     3.7602 |            4671\n",
      "02:38 |   157 |     1.250e-05 |   335.0470 |         30.8168 |     3.9207 |            4671\n",
      "05:01 |   158 |     1.250e-05 |   333.7197 |         28.9304 |     3.6396 |            4671\n",
      "07:29 |   159 |     1.250e-05 |   332.6282 |         30.5138 |     3.8167 |            4671\n",
      "10:10 |   160 |     1.250e-05 |   331.1879 |         27.6921 |     3.5416 |            4671\n",
      "12:43 |   161 |     1.250e-05 |   319.8882 |         34.0609 |     4.1653 |            4671\n",
      "15:20 |   162 |     1.250e-05 |   326.8437 |         28.5744 |     3.6329 |            4671\n",
      "18:04 |   163 |     1.250e-05 |   328.8551 |         35.8429 |     4.2615 |            4671\n",
      "20:46 |   164 |     1.250e-05 |   329.4087 |         27.7918 |     3.5951 |            4671\n",
      "23:14 |   165 |     1.250e-05 |   328.6322 |         32.9299 |     3.9463 |            4671\n",
      "25:36 |   166 |     1.250e-05 |   325.2482 |         29.2926 |     3.6468 |            4671\n",
      "28:15 |   167 |     1.250e-05 |   328.0152 |         31.5978 |     3.9447 |            4671\n",
      "30:43 |   168 |     1.250e-05 |   327.2429 |         28.8896 |     3.7160 |            4671\n",
      "33:09 |   169 |     1.250e-05 |   327.0677 |         44.7931 |     5.1074 |            4671\n",
      "35:33 |   170 |     1.250e-05 |   326.4985 |         41.9289 |     4.9698 |            4671\n",
      "37:57 |   171 |     1.250e-05 |   330.1365 |         27.9119 |     3.6182 |            4671\n",
      "40:24 |   172 |     6.250e-06 |   327.9992 |         28.0651 |     3.6174 |            4671\n",
      "42:51 |   173 |     6.250e-06 |   326.5115 |         27.4292 |     3.5869 |            4671\n",
      "45:15 |   174 |     6.250e-06 |   324.6487 |         30.3491 |     3.8509 |            4671\n",
      "47:38 |   175 |     6.250e-06 |   326.3201 |         31.1689 |     3.8937 |            4671\n",
      "50:12 |   176 |     6.250e-06 |   326.4383 |         29.1209 |     3.7224 |            4671\n",
      "52:38 |   177 |     6.250e-06 |   327.7539 |         27.5819 |     3.5761 |            4671\n",
      "55:11 |   178 |     6.250e-06 |   330.6359 |         28.0212 |     3.6173 |            4671\n",
      "57:44 |   179 |     6.250e-06 |   333.6155 |         30.6823 |     3.9266 |            4671\n"
     ]
    },
    {
     "name": "stdout",
     "output_type": "stream",
     "text": [
      "00:21 |   180 |     6.250e-06 |   331.9856 |         28.4051 |     3.6529 |            4671\n",
      "02:53 |   181 |     6.250e-06 |   316.0818 |         27.5248 |     3.5524 |            4671\n",
      "05:15 |   182 |     6.250e-06 |   325.2261 |         29.7635 |     3.8440 |            4671\n",
      "07:44 |   183 |     6.250e-06 |   328.9020 |         26.8767 |     3.4899 |            4671\n",
      "10:21 |   184 |     6.250e-06 |   333.0920 |         27.1729 |     3.5136 |            4671\n",
      "12:45 |   185 |     6.250e-06 |   329.6399 |         26.2051 |     3.4268 |            4671\n",
      "15:10 |   186 |     6.250e-06 |   325.9619 |         27.7614 |     3.5418 |            4671\n",
      "17:43 |   187 |     6.250e-06 |   322.4644 |         27.9635 |     3.6043 |            4671\n",
      "20:18 |   188 |     6.250e-06 |   329.3630 |         26.5368 |     3.4765 |            4671\n",
      "22:51 |   189 |     6.250e-06 |   324.3759 |         27.3655 |     3.5151 |            4671\n",
      "25:24 |   190 |     6.250e-06 |   321.3797 |         26.6869 |     3.5090 |            4671\n",
      "27:53 |   191 |     6.250e-06 |   322.0516 |         32.0817 |     3.9411 |            4671\n",
      "30:27 |   192 |     6.250e-06 |   327.7866 |         30.2974 |     3.8257 |            4671\n",
      "33:02 |   193 |     6.250e-06 |   324.7692 |         36.4278 |     4.4950 |            4671\n",
      "35:28 |   194 |     6.250e-06 |   331.3326 |         27.3620 |     3.5540 |            4671\n",
      "37:54 |   195 |     6.250e-06 |   329.3870 |         28.3089 |     3.6651 |            4671\n",
      "40:21 |   196 |     6.250e-06 |   329.9783 |         28.6852 |     3.7450 |            4671\n",
      "42:58 |   197 |     3.125e-06 |   325.1825 |         27.2855 |     3.4953 |            4671\n",
      "45:21 |   198 |     3.125e-06 |   322.4837 |         26.8622 |     3.4975 |            4671\n",
      "47:53 |   199 |     3.125e-06 |   329.1742 |         27.2326 |     3.5585 |            4671\n",
      "50:34 |   200 |     3.125e-06 |   328.3285 |         26.1813 |     3.4247 |            4671\n",
      "52:58 |   201 |     3.125e-06 |   324.8855 |         27.0928 |     3.4803 |            4671\n",
      "55:32 |   202 |     3.125e-06 |   330.1058 |         27.1285 |     3.5522 |            4671\n",
      "58:15 |   203 |     3.125e-06 |   325.9193 |         26.4338 |     3.4375 |            4671\n",
      "00:39 |   204 |     3.125e-06 |   322.9617 |         27.2636 |     3.5816 |            4671\n",
      "03:02 |   205 |     3.125e-06 |   329.5371 |         26.7502 |     3.4904 |            4671\n",
      "05:24 |   206 |     3.125e-06 |   323.4222 |         26.9228 |     3.5085 |            4671\n",
      "07:47 |   207 |     3.125e-06 |   327.8326 |         26.8920 |     3.5230 |            4671\n",
      "10:09 |   208 |     3.125e-06 |   326.7390 |         26.2657 |     3.4634 |            4671\n",
      "12:33 |   209 |     3.125e-06 |   324.1162 |         27.1716 |     3.5310 |            4671\n",
      "14:55 |   210 |     3.125e-06 |   330.0920 |         26.9152 |     3.5704 |            4671\n",
      "17:18 |   211 |     3.125e-06 |   333.0837 |         26.0453 |     3.4067 |            4671\n",
      "19:40 |   212 |     3.125e-06 |   324.0992 |         26.1885 |     3.4494 |            4671\n",
      "22:06 |   213 |     3.125e-06 |   328.8556 |         27.0494 |     3.5402 |            4671\n",
      "24:29 |   214 |     3.125e-06 |   336.2901 |         26.1444 |     3.4545 |            4671\n",
      "26:50 |   215 |     3.125e-06 |   327.5865 |         26.9564 |     3.5129 |            4671\n",
      "29:12 |   216 |     3.125e-06 |   328.3983 |         27.8732 |     3.5779 |            4671\n",
      "31:35 |   217 |     3.125e-06 |   326.9286 |         27.2333 |     3.5169 |            4671\n",
      "33:57 |   218 |     3.125e-06 |   325.2443 |         26.1403 |     3.4455 |            4671\n",
      "36:20 |   219 |     3.125e-06 |   324.4632 |         25.9620 |     3.4399 |            4671\n",
      "38:43 |   220 |     3.125e-06 |   330.5533 |         26.9660 |     3.4845 |            4671\n",
      "41:07 |   221 |     3.125e-06 |   324.4724 |         26.4287 |     3.4794 |            4671\n",
      "43:30 |   222 |     3.125e-06 |   328.7301 |         28.7900 |     3.6112 |            4671\n",
      "45:53 |   223 |     3.125e-06 |   330.2287 |         27.1849 |     3.5606 |            4671\n",
      "48:15 |   224 |     3.125e-06 |   322.1524 |         28.5004 |     3.6401 |            4671\n",
      "50:37 |   225 |     3.125e-06 |   318.7156 |         27.0913 |     3.5158 |            4671\n",
      "53:00 |   226 |     3.125e-06 |   327.6500 |         29.1927 |     3.7608 |            4671\n",
      "55:23 |   227 |     3.125e-06 |   329.3205 |         26.3557 |     3.4303 |            4671\n",
      "57:46 |   228 |     3.125e-06 |   325.3606 |         26.8902 |     3.5154 |            4671\n",
      "00:08 |   229 |     3.125e-06 |   324.7973 |         26.9445 |     3.5572 |            4671\n",
      "02:32 |   230 |     3.125e-06 |   326.9579 |         26.8167 |     3.4877 |            4671\n",
      "04:55 |   231 |     1.563e-06 |   324.5101 |         26.0078 |     3.4271 |            4671\n",
      "07:17 |   232 |     1.563e-06 |   320.4611 |         25.8331 |     3.4195 |            4671\n",
      "09:39 |   233 |     1.563e-06 |   327.5905 |         25.8372 |     3.4126 |            4671\n",
      "12:02 |   234 |     1.563e-06 |   320.9180 |         25.7022 |     3.3870 |            4671\n",
      "14:25 |   235 |     1.563e-06 |   324.4294 |         26.7957 |     3.5294 |            4671\n",
      "16:47 |   236 |     1.563e-06 |   329.6273 |         25.9333 |     3.4407 |            4671\n",
      "19:09 |   237 |     1.563e-06 |   324.4862 |         26.7461 |     3.5192 |            4671\n",
      "21:33 |   238 |     1.563e-06 |   325.3645 |         26.2257 |     3.4514 |            4671\n",
      "23:56 |   239 |     1.563e-06 |   321.4323 |         25.8806 |     3.4175 |            4671\n",
      "26:19 |   240 |     1.563e-06 |   322.8145 |         27.1192 |     3.5486 |            4671\n",
      "28:40 |   241 |     1.563e-06 |   324.8818 |         25.5761 |     3.3929 |            4671\n",
      "31:03 |   242 |     1.563e-06 |   322.7523 |         26.0631 |     3.4341 |            4671\n",
      "33:25 |   243 |     1.563e-06 |   324.4083 |         27.8234 |     3.5802 |            4671\n",
      "35:47 |   244 |     1.563e-06 |   327.9301 |         25.8530 |     3.4350 |            4671\n",
      "38:09 |   245 |     1.563e-06 |   326.3140 |         25.9145 |     3.4143 |            4671\n",
      "40:32 |   246 |     1.563e-06 |   326.1284 |         27.6121 |     3.5591 |            4671\n",
      "42:57 |   247 |     1.563e-06 |   323.3136 |         27.2972 |     3.5564 |            4671\n",
      "45:19 |   248 |     1.563e-06 |   324.4628 |         26.7353 |     3.5280 |            4671\n",
      "47:41 |   249 |     1.563e-06 |   320.0947 |         25.7633 |     3.3903 |            4671\n",
      "50:04 |   250 |     1.563e-06 |   323.6612 |         25.8709 |     3.4140 |            4671\n",
      "52:26 |   251 |     1.563e-06 |   326.1843 |         25.1836 |     3.3411 |            4671\n",
      "54:49 |   252 |     1.563e-06 |   324.5026 |         26.4054 |     3.4399 |            4671\n",
      "57:11 |   253 |     1.563e-06 |   322.6396 |         29.4314 |     3.7205 |            4671\n",
      "59:34 |   254 |     1.563e-06 |   329.8625 |         26.8583 |     3.4963 |            4671\n",
      "01:59 |   255 |     1.563e-06 |   321.2507 |         26.4202 |     3.4517 |            4671\n",
      "04:22 |   256 |     1.563e-06 |   327.3181 |         25.6992 |     3.4027 |            4671\n",
      "06:44 |   257 |     1.563e-06 |   326.0403 |         25.8797 |     3.3928 |            4671\n",
      "09:06 |   258 |     1.563e-06 |   327.2306 |         26.1187 |     3.4298 |            4671\n",
      "11:28 |   259 |     1.563e-06 |   326.7582 |         26.0585 |     3.4249 |            4671\n",
      "13:50 |   260 |     1.563e-06 |   324.6642 |         26.7103 |     3.4853 |            4671\n",
      "16:12 |   261 |     1.563e-06 |   321.2461 |         26.9836 |     3.5467 |            4671\n",
      "18:34 |   262 |     1.563e-06 |   327.4302 |         27.3930 |     3.5561 |            4671\n",
      "20:57 |   263 |     7.813e-07 |   325.8032 |         25.6874 |     3.4015 |            4671\n",
      "23:21 |   264 |     7.813e-07 |   324.8506 |         25.7227 |     3.4005 |            4671\n",
      "25:43 |   265 |     7.813e-07 |   333.9199 |         25.6064 |     3.3916 |            4671\n",
      "28:06 |   266 |     7.813e-07 |   325.0862 |         25.6035 |     3.4088 |            4671\n",
      "30:28 |   267 |     7.813e-07 |   329.6686 |         26.4363 |     3.4665 |            4671\n",
      "32:50 |   268 |     7.813e-07 |   328.5249 |         25.3962 |     3.3717 |            4671\n",
      "35:12 |   269 |     7.813e-07 |   328.6636 |         25.5239 |     3.3967 |            4671\n"
     ]
    },
    {
     "name": "stdout",
     "output_type": "stream",
     "text": [
      "37:34 |   270 |     7.813e-07 |   317.0620 |         25.9542 |     3.4467 |            4671\n",
      "39:56 |   271 |     7.813e-07 |   324.3657 |         25.2127 |     3.3497 |            4671\n",
      "42:21 |   272 |     7.813e-07 |   323.4800 |         25.4195 |     3.3566 |            4671\n",
      "44:44 |   273 |     7.813e-07 |   326.6131 |         25.3619 |     3.3695 |            4671\n",
      "47:06 |   274 |     3.906e-07 |   319.9316 |         25.5798 |     3.4041 |            4671\n",
      "49:29 |   275 |     3.906e-07 |   326.3238 |         25.5432 |     3.3801 |            4671\n",
      "51:52 |   276 |     3.906e-07 |   322.5545 |         25.5816 |     3.3916 |            4671\n",
      "54:14 |   277 |     3.906e-07 |   328.8523 |         25.5855 |     3.3896 |            4671\n",
      "56:36 |   278 |     3.906e-07 |   325.2541 |         25.5323 |     3.3721 |            4671\n",
      "58:58 |   279 |     3.906e-07 |   324.0221 |         25.4075 |     3.3776 |            4671\n",
      "01:21 |   280 |     3.906e-07 |   329.9021 |         25.8101 |     3.4246 |            4671\n",
      "03:44 |   281 |     3.906e-07 |   322.6690 |         25.6972 |     3.4191 |            4671\n",
      "06:07 |   282 |     3.906e-07 |   327.5766 |         25.8761 |     3.4180 |            4671\n",
      "08:29 |   283 |     3.906e-07 |   322.8715 |         26.0602 |     3.4428 |            4671\n",
      "10:52 |   284 |     3.906e-07 |   328.7116 |         25.3838 |     3.3661 |            4671\n",
      "13:14 |   285 |     1.953e-07 |   327.5236 |         25.5174 |     3.3840 |            4671\n",
      "15:36 |   286 |     1.953e-07 |   330.3240 |         25.6265 |     3.3893 |            4671\n",
      "17:58 |   287 |     1.953e-07 |   320.9150 |         25.7247 |     3.4028 |            4671\n",
      "20:21 |   288 |     1.953e-07 |   325.9886 |         25.7399 |     3.4047 |            4671\n",
      "22:45 |   289 |     1.953e-07 |   326.1453 |         26.2278 |     3.4483 |            4671\n",
      "25:08 |   290 |     1.953e-07 |   321.4864 |         25.7319 |     3.4150 |            4671\n",
      "27:30 |   291 |     1.953e-07 |   318.4805 |         25.4477 |     3.3762 |            4671\n",
      "29:52 |   292 |     1.953e-07 |   328.6697 |         25.5118 |     3.3815 |            4671\n",
      "32:15 |   293 |     1.953e-07 |   323.9141 |         25.5746 |     3.3895 |            4671\n",
      "34:37 |   294 |     1.953e-07 |   328.6425 |         25.5832 |     3.3900 |            4671\n",
      "37:00 |   295 |     1.953e-07 |   329.9221 |         25.3943 |     3.3732 |            4671\n"
     ]
    }
   ],
   "source": [
    "import pdb\n",
    "\n",
    "try:\n",
    "    T.train(device=DEVICE, n_epochs=1000)\n",
    "except Exception as e:\n",
    "    print(e)\n",
    "    pdb.post_mortem()"
   ]
  },
  {
   "cell_type": "markdown",
   "metadata": {},
   "source": [
    "## Evaluating the model on the test set"
   ]
  },
  {
   "cell_type": "markdown",
   "metadata": {},
   "source": [
    "Now we have a brand new model trained and validated. We can use the best model from this training to evaluate its performance on the test set. `results` contains the predictions of properties for the whole test dataset. `targets` contains the ground truth for such data. `test_loss` is the loss, calculated with the same function used during the training part"
   ]
  },
  {
   "cell_type": "code",
   "execution_count": 31,
   "metadata": {},
   "outputs": [
    {
     "data": {
      "text/plain": [
       "'./pretrain'"
      ]
     },
     "execution_count": 31,
     "metadata": {},
     "output_type": "execute_result"
    }
   ],
   "source": [
    "newpath = os.path.join(os.path.dirname(OUTDIR), 'backup')\n",
    "if os.path.exists(newpath):\n",
    "    shutil.rmtree(newpath)\n",
    "\n",
    "shutil.move(OUTDIR, os.path.join(os.path.dirname(OUTDIR), \"pretrain\"))"
   ]
  },
  {
   "cell_type": "code",
   "execution_count": 26,
   "metadata": {},
   "outputs": [],
   "source": [
    "results, targets, val_loss = evaluate(model, test_loader, loss_fn, device=DEVICE)\n"
   ]
  },
  {
   "cell_type": "code",
   "execution_count": 27,
   "metadata": {},
   "outputs": [
    {
     "name": "stdout",
     "output_type": "stream",
     "text": [
      "MAE is 3.37 kcal/mol\n"
     ]
    }
   ],
   "source": [
    "res_energy = torch.cat(results['energy']).reshape(-1).detach().cpu().numpy()\n",
    "targ_energy = torch.cat(targets['energy']).reshape(-1).detach().cpu().numpy()\n",
    "mae = np.mean(abs(res_energy-targ_energy))\n",
    "\n",
    "print(\"MAE is %.2f kcal/mol\" % mae)"
   ]
  },
  {
   "cell_type": "code",
   "execution_count": 29,
   "metadata": {},
   "outputs": [
    {
     "data": {
      "image/png": "[encoded data removed]",
      "text/plain": [
       "<Figure size 432x288 with 1 Axes>"
      ]
     },
     "metadata": {
      "needs_background": "light"
     },
     "output_type": "display_data"
    }
   ],
   "source": [
    "plt.plot(targ_energy, targ_energy, '--')\n",
    "plt.hexbin(targ_energy, \n",
    "           res_energy, \n",
    "           gridsize=50,\n",
    "           cmap='viridis',\n",
    "           mincnt=1)\n",
    "plt.show()"
   ]
  },
  {
   "cell_type": "code",
   "execution_count": null,
   "metadata": {},
   "outputs": [],
   "source": []
  }
 ],
 "metadata": {
  "kernelspec": {
   "display_name": "Python [conda env:covid_mit]",
   "language": "python",
   "name": "covid_mit"
  },
  "language_info": {
   "codemirror_mode": {
    "name": "ipython",
    "version": 3
   },
   "file_extension": ".py",
   "mimetype": "text/x-python",
   "name": "python",
   "nbconvert_exporter": "python",
   "pygments_lexer": "ipython3",
   "version": "3.6.10"
  }
 },
 "nbformat": 4,
 "nbformat_minor": 2
}
