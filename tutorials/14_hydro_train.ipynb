{
 "cells": [
  {
   "cell_type": "markdown",
   "metadata": {},
   "source": [
    "# Introduction to Neural Force Field"
   ]
  },
  {
   "cell_type": "markdown",
   "metadata": {},
   "source": [
    "This Jupyter Notebook contains an introduction to the `nff` package. Here, we will load the modules and functions from `nff` to import a dataset, create dataloaders, create a model, train it and check the test stats. We will do most of it manually to illustrate the usage of the API. However, scripts such as the one provided in the `scripts/` folder already automate most of this process."
   ]
  },
  {
   "cell_type": "markdown",
   "metadata": {},
   "source": [
    "After the `nff` package has been installed, we start by importing all dependencies for this tutorial."
   ]
  },
  {
   "cell_type": "code",
   "execution_count": 1,
   "metadata": {},
   "outputs": [],
   "source": [
    "%load_ext autoreload\n",
    "%autoreload 2"
   ]
  },
  {
   "cell_type": "code",
   "execution_count": null,
   "metadata": {},
   "outputs": [],
   "source": []
  },
  {
   "cell_type": "code",
   "execution_count": 2,
   "metadata": {},
   "outputs": [],
   "source": [
    "import sys\n",
    "sys.path.insert(0, \"..\")\n",
    "\n",
    "import os\n",
    "import shutil\n",
    "import numpy as np\n",
    "import matplotlib.pyplot as plt\n",
    "from sklearn.metrics import roc_curve, roc_auc_score, auc, precision_recall_curve\n",
    "\n",
    "\n",
    "import torch\n",
    "from torch.optim import Adam\n",
    "from torch.utils.data import DataLoader\n",
    "\n",
    "from nff.data import (Dataset, split_train_validation_test, \n",
    "                      collate_dicts, to_tensor, ImbalancedDatasetSampler)\n",
    "from nff.train import Trainer, get_trainer, get_model, load_model, loss, hooks, metrics, evaluate\n",
    "\n",
    "from nff.hypopt.data import trim_confs"
   ]
  },
  {
   "cell_type": "markdown",
   "metadata": {},
   "source": [
    "It might also be useful setting the GPU you want to use:"
   ]
  },
  {
   "cell_type": "code",
   "execution_count": null,
   "metadata": {},
   "outputs": [],
   "source": []
  },
  {
   "cell_type": "code",
   "execution_count": null,
   "metadata": {},
   "outputs": [],
   "source": []
  },
  {
   "cell_type": "code",
   "execution_count": null,
   "metadata": {},
   "outputs": [],
   "source": []
  },
  {
   "cell_type": "code",
   "execution_count": 3,
   "metadata": {},
   "outputs": [
    {
     "name": "stdout",
     "output_type": "stream",
     "text": [
      "Loading datasets...\n"
     ]
    }
   ],
   "source": [
    "import random\n",
    "\n",
    "import os\n",
    "base_pth = \"/home/saxelrod/engaging_nfs/data_from_fock/data/covid_data/\"\n",
    "# dset_path = os.path.join(base_pth, \"crest_no_broad_1_conf.pth.tar\")\n",
    "# dset_path = os.path.join(base_pth, \"crest_no_broad_1_conf_regression_features.pth.tar\")\n",
    "\n",
    "dset_path = os.path.join(base_pth, \"crest_no_broad_10_conf_regression_features.pth.tar\")\n",
    "\n",
    "\n",
    "\n",
    "print(\"Loading datasets...\")\n",
    "\n",
    "dataset =  Dataset.from_file(dset_path)\n",
    "\n",
    "\n",
    "# train_path = os.path.join(base_pth, \"crest_no_broad_1_conf_train.pth.tar\")\n",
    "# val_path = os.path.join(base_pth, \"crest_no_broad_1_conf_val.pth.tar\")\n",
    "# test_path = os.path.join(base_pth, \"crest_no_broad_1_conf_test.pth.tar\")\n",
    "\n",
    "# train_path = os.path.join(base_pth, \"crest_no_broad_1_conf_regression_train.pth.tar\")\n",
    "# val_path = os.path.join(base_pth, \"crest_no_broad_1_conf_regression_val.pth.tar\")\n",
    "# test_path = os.path.join(base_pth, \"crest_no_broad_1_conf_regression_test.pth.tar\")\n",
    "\n",
    "\n",
    "train_path = os.path.join(base_pth, \"crest_no_broad_10_conf_regression_features_train.pth.tar\")\n",
    "val_path = os.path.join(base_pth, \"crest_no_broad_10_conf_regression_features_val.pth.tar\")\n",
    "test_path = os.path.join(base_pth, \"crest_no_broad_10_conf_regression_features_test.pth.tar\")\n",
    "\n",
    "# train, val, test = split_train_validation_test(dataset, binary=True,\n",
    "#                                               targ_name='bind')\n",
    "\n",
    "# train.save(train_path)\n",
    "# val.save(val_path)\n",
    "# test.save(test_path)\n",
    "\n",
    "train = Dataset.from_file(train_path)\n",
    "val = Dataset.from_file(val_path)\n",
    "test = Dataset.from_file(test_path)"
   ]
  },
  {
   "cell_type": "code",
   "execution_count": 4,
   "metadata": {
    "scrolled": true
   },
   "outputs": [],
   "source": [
    "# print(\"Featurizing...\")\n",
    "# import pdb\n",
    "\n",
    "# all_nxyz = []\n",
    "# for d_set in [train, val, test]:\n",
    "#     all_nxyz += d_set.props[\"nxyz\"]\n",
    "    \n",
    "# atom_types = list(set(torch.cat(all_nxyz)[:, 0].tolist()))\n",
    "# # atom_types = [None]\n",
    "\n",
    "# for d_set in [train, val, test]:\n",
    "#     try:\n",
    "#         d_set.featurize_hydrogenic(n_max=5, a0=3, atom_types=atom_types, device=2, batch_size=1000)\n",
    "#     except Exception as e:\n",
    "#         print(e)\n",
    "#         pdb.post_mortem()\n",
    "            \n",
    "# print(\"Complete\")"
   ]
  },
  {
   "cell_type": "markdown",
   "metadata": {},
   "source": [
    "Create loaders:"
   ]
  },
  {
   "cell_type": "code",
   "execution_count": null,
   "metadata": {},
   "outputs": [],
   "source": []
  },
  {
   "cell_type": "code",
   "execution_count": null,
   "metadata": {},
   "outputs": [],
   "source": []
  },
  {
   "cell_type": "code",
   "execution_count": null,
   "metadata": {},
   "outputs": [],
   "source": []
  },
  {
   "cell_type": "code",
   "execution_count": 5,
   "metadata": {},
   "outputs": [],
   "source": [
    "morgan_len = 1000\n",
    "for d_set in [train, val, test]:\n",
    "#     hydro =  torch.tensor(d_set.props['hydro_feats'].cpu().numpy(), dtype=torch.float32)\n",
    "    \n",
    "#     d_set.props[\"hydro_feats\"] = hydro\n",
    "    d_set.add_morgan(morgan_len)\n",
    "    morgan = torch.stack(d_set.props['morgan'])\n",
    "    d_set.props[\"morgan\"] = morgan\n",
    "    \n",
    "#     d_set.featurize_rdkit('whim')\n",
    "#     whim = d_set.props['whim']\n",
    "    \n",
    "# #     fingerprint = torch.cat([hydro, morgan], dim=-1)\n",
    "#     fingerprint = torch.cat([hydro, whim], dim=-1)\n",
    "\n",
    "\n",
    "# #     fingerprint = hydro\n",
    "# #     fingerprint = morgan\n",
    "#     d_set.props['fingerprint'] = fingerprint\n",
    "# #     d_set.props['fingerprint'] = morgan\n",
    "\n",
    "\n",
    "    "
   ]
  },
  {
   "cell_type": "code",
   "execution_count": 6,
   "metadata": {},
   "outputs": [],
   "source": [
    "import torch\n",
    "torch.cuda.empty_cache()"
   ]
  },
  {
   "cell_type": "code",
   "execution_count": 5,
   "metadata": {},
   "outputs": [],
   "source": [
    "DEVICE = 2\n",
    "BATCH_SIZE = 1\n",
    "# MINI_BATCHES = int(50 / BATCH_SIZE)\n",
    "MINI_BATCHES = 1\n",
    "\n",
    "OUTDIR = './sandbox'\n",
    "\n",
    "\n",
    "\n",
    "\n",
    "loaders = []\n",
    "\n",
    "\n",
    "for split in [train, val, test]:\n",
    "    props = split.props\n",
    "    kwargs = {}\n",
    "    if split in [train]:\n",
    "        sampler = ImbalancedDatasetSampler(\n",
    "            target_name=\"bind\",\n",
    "            props=props)\n",
    "        kwargs.update({\"sampler\": sampler})\n",
    "    loader = DataLoader(split, batch_size=BATCH_SIZE, \n",
    "                        collate_fn=collate_dicts,\n",
    "                       **kwargs)\n",
    "    loaders.append(loader)\n",
    "    \n",
    "train_loader, val_loader, test_loader = loaders"
   ]
  },
  {
   "cell_type": "code",
   "execution_count": 6,
   "metadata": {},
   "outputs": [
    {
     "name": "stdout",
     "output_type": "stream",
     "text": [
      "133\n",
      "26\n"
     ]
    }
   ],
   "source": [
    "n_atom_basis = next(iter(train_loader))[\"atom_features\"].shape[-1]\n",
    "n_bond_features = next(iter(train_loader))[\"bond_features\"].shape[-1]\n",
    "\n",
    "print(n_atom_basis)\n",
    "print(n_bond_features)"
   ]
  },
  {
   "cell_type": "code",
   "execution_count": 8,
   "metadata": {},
   "outputs": [
    {
     "name": "stdout",
     "output_type": "stream",
     "text": [
      "2018\n",
      "1990\n",
      "0.5034930139720559\n"
     ]
    }
   ],
   "source": [
    "\n",
    "num_bind = 0\n",
    "num_non_bind = 0\n",
    "\n",
    "for batch in train_loader:\n",
    "    bind = batch['bind'].sum()\n",
    "    non_bind = len(batch['bind']) - bind\n",
    "\n",
    "    num_bind += bind.item()\n",
    "    num_non_bind += non_bind.item()\n",
    "\n",
    "print(num_bind)\n",
    "print(num_non_bind)\n",
    "print(num_bind / (num_bind + num_non_bind))\n"
   ]
  },
  {
   "cell_type": "code",
   "execution_count": 9,
   "metadata": {},
   "outputs": [],
   "source": [
    "for d_set in [train, test, val]:\n",
    "    if d_set.props['activity'].max() > 1:\n",
    "        d_set.props['activity'] = d_set.props['activity'].float() / 100"
   ]
  },
  {
   "cell_type": "code",
   "execution_count": null,
   "metadata": {},
   "outputs": [],
   "source": []
  },
  {
   "cell_type": "code",
   "execution_count": null,
   "metadata": {},
   "outputs": [],
   "source": []
  },
  {
   "cell_type": "code",
   "execution_count": 10,
   "metadata": {},
   "outputs": [],
   "source": [
    "n_atom_basis = next(iter(train_loader))[\"atom_features\"].shape[-1]\n",
    "n_bond_features = next(iter(train_loader))[\"bond_features\"].shape[-1]\n",
    "\n",
    "n_bond_hidden = 50\n",
    "n_filters = 50\n",
    "# n_bond_hidden = 1\n",
    "# n_filters = 1\n",
    "\n",
    "n_gaussians = 10\n",
    "n_edge_hidden = n_bond_hidden + n_filters\n",
    "n_mol_basis = 100\n",
    "# n_mol_basis = d_set.props['fingerprint'][0].shape[0]\n",
    "# whim_len = train.props['whim'][0].shape[0]\n",
    "# n_extra_feats = morgan_len + whim_len\n",
    "n_extra_feats = morgan_len\n",
    "\n",
    "\n",
    "\n",
    "# n_extra_feats = morgan_len + train.props['hydro_feats'][0].shape[0]\n",
    "# n_extra_feats = 0\n",
    "# n_extra_feats = morgan_len\n",
    "\n",
    "\n",
    "# schnet_dropout = 0.2\n",
    "# cp_dropout = 0.2\n",
    "# readout_drop = 0.7\n",
    "schnet_dropout = 0.0\n",
    "cp_dropout = 0.0\n",
    "readout_drop = 0.2\n",
    "\n",
    "\n",
    "n_convolutions = 2\n",
    "\n",
    "\n",
    "input_layers = [{'name': 'linear', 'param': {'in_features': n_bond_features + n_atom_basis,\n",
    "                                         'out_features': n_bond_hidden}},\n",
    "            {'name': 'ReLU', 'param': {}}]\n",
    "\n",
    "output_layers = [{'name': 'linear', 'param': {'in_features': n_atom_basis + n_edge_hidden ,\n",
    "                                         'out_features': n_mol_basis}},\n",
    "                {'name': 'ReLU', 'param': {}}]\n",
    "\n",
    "readoutdict = {'activity': [\n",
    "            {'name': 'Dropout', 'param': {'p': readout_drop}},\n",
    "            {'name': 'linear', 'param' : { 'in_features': n_mol_basis + n_extra_feats, 'out_features': int(n_mol_basis / 2),\n",
    "                                         \"bias\": False}},\n",
    "            {'name': 'ReLU', 'param': {}},\n",
    "            {'name': 'Dropout', 'param': {'p': readout_drop}},\n",
    "            {'name': 'linear', 'param' : { 'in_features': int(n_mol_basis / 2), 'out_features': 1,\n",
    "                                         \"bias\": False}},\n",
    "            {'name': 'sigmoid', 'param': {}},\n",
    "        ]\n",
    "    }\n",
    "\n",
    "\n",
    "mol_fp_layers = []\n",
    "\n",
    "\n",
    "\n",
    "params = {\n",
    "    'n_atom_basis': n_atom_basis,\n",
    "    'n_bond_hidden': n_bond_hidden,\n",
    "    'input_layers': input_layers,\n",
    "    'output_layers': output_layers,\n",
    "    'n_filters': n_filters,\n",
    "    'n_gaussians': n_gaussians,\n",
    "    'cp_dropout': cp_dropout,\n",
    "    'schnet_dropout': schnet_dropout,\n",
    "    'gauss_embed': True,\n",
    "    'n_convolutions': n_convolutions,\n",
    "    'cutoff': 5.0,\n",
    "    'trainable_gauss': True,\n",
    "    'dropout_rate': schnet_dropout,\n",
    "    'readoutdict': readoutdict,\n",
    "    'boltzmann_dict': {'type': 'multiply'},\n",
    "    'mol_fp_layers': mol_fp_layers,\n",
    "    'same_filters': True,\n",
    "#     'activation': 'ReLU',\n",
    "    'activation': 'shifted_softplus',\n",
    "\n",
    "\n",
    "    'batch_embeddings': False,\n",
    "\n",
    "#     'batch_embeddings': True,\n",
    "    \"extra_features\": [{\"name\": \"morgan\", \"length\": morgan_len}]\n",
    "    \n",
    "#     \"extra_features\": [{\"name\": \"morgan\", \"length\": morgan_len},\n",
    "#                        {\"name\": \"hydro_feats\", \"length\": \n",
    "#                             train.props['hydro_feats'][0].shape[0]}]\n",
    "\n",
    "\n",
    "#         \"extra_features\": [{\"name\": \"morgan\", \"length\": morgan_len},\n",
    "#                        {\"name\": \"whim\", \"length\": whim_len}]\n",
    "    \n",
    "}\n",
    "\n",
    "\n",
    "\n",
    "model = get_model(params, model_type=\"SchNetFeatures\")"
   ]
  },
  {
   "cell_type": "code",
   "execution_count": 11,
   "metadata": {},
   "outputs": [],
   "source": [
    "# delattr(model, \"convolutions\")\n",
    "# delattr(model, \"mol_fp_nn\")\n",
    "# delattr(model, \"W_i\")\n",
    "# delattr(model, \"W_o\")"
   ]
  },
  {
   "cell_type": "markdown",
   "metadata": {},
   "source": [
    "## Creating a trainer"
   ]
  },
  {
   "cell_type": "code",
   "execution_count": null,
   "metadata": {},
   "outputs": [],
   "source": []
  },
  {
   "cell_type": "code",
   "execution_count": 12,
   "metadata": {},
   "outputs": [
    {
     "data": {
      "text/plain": [
       "SchNetFeatures(\n",
       "  (convolutions): ModuleList(\n",
       "    (0): CpSchNetConv(\n",
       "      (dense): Dense(\n",
       "        in_features=50, out_features=50, bias=False\n",
       "        (dropout): Dropout(p=0.0, inplace=False)\n",
       "      )\n",
       "      (activation): shifted_softplus()\n",
       "      (moduledict): ModuleDict(\n",
       "        (edge_filter): Sequential(\n",
       "          (0): GaussianSmearing()\n",
       "          (1): Dense(\n",
       "            in_features=10, out_features=50, bias=True\n",
       "            (dropout): Dropout(p=0.0, inplace=False)\n",
       "          )\n",
       "          (2): shifted_softplus()\n",
       "        )\n",
       "      )\n",
       "    )\n",
       "    (1): CpSchNetConv(\n",
       "      (dense): Dense(\n",
       "        in_features=50, out_features=50, bias=False\n",
       "        (dropout): Dropout(p=0.0, inplace=False)\n",
       "      )\n",
       "      (activation): shifted_softplus()\n",
       "      (moduledict): ModuleDict(\n",
       "        (edge_filter): Sequential(\n",
       "          (0): GaussianSmearing()\n",
       "          (1): Dense(\n",
       "            in_features=10, out_features=50, bias=True\n",
       "            (dropout): Dropout(p=0.0, inplace=False)\n",
       "          )\n",
       "          (2): shifted_softplus()\n",
       "        )\n",
       "      )\n",
       "    )\n",
       "  )\n",
       "  (mol_fp_nn): Sequential()\n",
       "  (readout): NodeMultiTaskReadOut(\n",
       "    (readout): ModuleDict(\n",
       "      (activity): Sequential(\n",
       "        (Dropout0): Dropout(p=0.2, inplace=False)\n",
       "        (linear1): Linear(in_features=1100, out_features=50, bias=False)\n",
       "        (ReLU2): ReLU()\n",
       "        (Dropout3): Dropout(p=0.2, inplace=False)\n",
       "        (linear4): Linear(in_features=50, out_features=1, bias=False)\n",
       "        (sigmoid5): Sigmoid()\n",
       "      )\n",
       "    )\n",
       "  )\n",
       "  (W_i): ChemPropInit(\n",
       "    (input): Sequential(\n",
       "      (linear0): Linear(in_features=159, out_features=50, bias=False)\n",
       "      (ReLU1): ReLU()\n",
       "    )\n",
       "  )\n",
       "  (W_o): ChemPropMsgToNode(\n",
       "    (output): Sequential(\n",
       "      (linear0): Linear(in_features=233, out_features=100, bias=False)\n",
       "      (ReLU1): ReLU()\n",
       "    )\n",
       "  )\n",
       ")"
      ]
     },
     "execution_count": 12,
     "metadata": {},
     "output_type": "execute_result"
    }
   ],
   "source": [
    "model"
   ]
  },
  {
   "cell_type": "markdown",
   "metadata": {},
   "source": [
    "To train our model with the data provided, we have to create a loss function. The easiest way to do that is through the `build_mse_loss` builder. Its argument `rho` is a parameter that will multiply the mean square error (MSE) of the force components before summing it with the MSE of the energy."
   ]
  },
  {
   "cell_type": "code",
   "execution_count": 13,
   "metadata": {},
   "outputs": [],
   "source": [
    "loss_fn = loss.build_cross_entropy_loss(loss_coef={'activity': 1})\n",
    "# loss_fn = loss.build_mse_loss(loss_coef={'activity': 1 })"
   ]
  },
  {
   "cell_type": "markdown",
   "metadata": {},
   "source": [
    "We should also select an optimizer for our recently created model:"
   ]
  },
  {
   "cell_type": "code",
   "execution_count": 14,
   "metadata": {},
   "outputs": [],
   "source": [
    "trainable_params = filter(lambda p: p.requires_grad, model.parameters())\n",
    "optimizer = Adam(trainable_params, lr=1e-4)"
   ]
  },
  {
   "cell_type": "markdown",
   "metadata": {},
   "source": [
    "### Metrics and hooks"
   ]
  },
  {
   "cell_type": "markdown",
   "metadata": {},
   "source": [
    "If we want to monitor the progress of our training, say by looking at the mean absolute error (MAE) of energies and forces, we can simply create metrics to observe them:"
   ]
  },
  {
   "cell_type": "code",
   "execution_count": null,
   "metadata": {},
   "outputs": [],
   "source": [
    "\n"
   ]
  },
  {
   "cell_type": "code",
   "execution_count": 15,
   "metadata": {},
   "outputs": [],
   "source": [
    "# train_metrics = [\n",
    "#     metrics.RocAuc('bind'),\n",
    "#     metrics.PrAuc('bind')\n",
    "# ]\n",
    "\n",
    "# train_metrics = [\n",
    "#     metrics.MeanAbsoluteError('activity'),\n",
    "# ]\n",
    "\n",
    "train_metrics = [\n",
    "#     metrics.RocAuc('bind'),\n",
    "#     metrics.PrAuc('bind'),\n",
    "    metrics.MeanAbsoluteError('activity'),\n",
    "]"
   ]
  },
  {
   "cell_type": "markdown",
   "metadata": {},
   "source": [
    "Furthermore, if we want to customize how our training procedure is done, we can use hooks which can interrupt or change the train automatically.\n",
    "\n",
    "In our case, we are adding hooks to:\n",
    "* Stop the training procedure after 100 epochs;\n",
    "* Log the training on a machine-readable CSV file under the directory `./sandbox`;\n",
    "* Print the progress on the screen with custom formatting; and\n",
    "* Setup a scheduler for the learning rate."
   ]
  },
  {
   "cell_type": "code",
   "execution_count": 16,
   "metadata": {},
   "outputs": [],
   "source": [
    "train_hooks = [\n",
    "    hooks.MaxEpochHook(1000),\n",
    "    hooks.CSVHook(\n",
    "        OUTDIR,\n",
    "        metrics=train_metrics,\n",
    "    ),\n",
    "    hooks.PrintingHook(\n",
    "        OUTDIR,\n",
    "        metrics=train_metrics,\n",
    "        separator = ' | ',\n",
    "        time_strf='%M:%S'\n",
    "    ),\n",
    "    hooks.ReduceLROnPlateauHook(\n",
    "        optimizer=optimizer,\n",
    "        patience=10,\n",
    "        factor=0.5,\n",
    "        min_lr=1e-7,\n",
    "        window_length=1,\n",
    "        stop_after_min=True\n",
    "    )\n",
    "]"
   ]
  },
  {
   "cell_type": "markdown",
   "metadata": {},
   "source": [
    "### Trainer wrapper"
   ]
  },
  {
   "cell_type": "markdown",
   "metadata": {},
   "source": [
    "A `Trainer` in the `nff` package is a wrapper to train a model. It automatically creates checkpoints, as well as trains and validates a given model. It also allow further training by loading checkpoints from existing paths, making the training procedure more flexible. Its functionalities can be extended by the hooks we created above. To create a trainer, we have to execute the following command:"
   ]
  },
  {
   "cell_type": "code",
   "execution_count": 17,
   "metadata": {},
   "outputs": [],
   "source": [
    "\n",
    "\n",
    "if os.path.exists(OUTDIR):\n",
    "    newpath = os.path.join(os.path.dirname(OUTDIR), 'backup')\n",
    "    if os.path.exists(newpath):\n",
    "        shutil.rmtree(newpath)\n",
    "        \n",
    "    shutil.move(OUTDIR, newpath)"
   ]
  },
  {
   "cell_type": "code",
   "execution_count": 18,
   "metadata": {},
   "outputs": [],
   "source": [
    "T = Trainer(\n",
    "    model_path=OUTDIR,\n",
    "    model=model,\n",
    "    loss_fn=loss_fn,\n",
    "    optimizer=optimizer,\n",
    "    train_loader=train_loader,\n",
    "    validation_loader=val_loader,\n",
    "    checkpoint_intbatcerval=1,\n",
    "    hooks=train_hooks,\n",
    "    mini_batches=MINI_BATCHES\n",
    ")"
   ]
  },
  {
   "cell_type": "markdown",
   "metadata": {},
   "source": [
    "Now we can finally train the model using the method `train` from the `Trainer`:"
   ]
  },
  {
   "cell_type": "code",
   "execution_count": null,
   "metadata": {},
   "outputs": [],
   "source": []
  },
  {
   "cell_type": "code",
   "execution_count": 19,
   "metadata": {
    "scrolled": true
   },
   "outputs": [
    {
     "name": "stdout",
     "output_type": "stream",
     "text": [
      " Time | Epoch | Learning rate | Train loss | Validation loss | MAE_activity | GPU Memory (MB)\n",
      "34:13 |     1 |     1.000e-04 |     0.3613 |          0.1317 |       0.0575 |               0\n",
      "35:52 |     2 |     1.000e-04 |     0.3177 |          0.1271 |       0.0472 |               0\n",
      "37:29 |     3 |     1.000e-04 |     0.3167 |          0.1244 |       0.0452 |               0\n",
      "39:17 |     4 |     1.000e-04 |     0.3194 |          0.1247 |       0.0389 |               0\n",
      "41:03 |     5 |     1.000e-04 |     0.3101 |          0.1254 |       0.0444 |               0\n",
      "42:50 |     6 |     1.000e-04 |     0.2987 |          0.1284 |       0.0493 |               0\n",
      "44:39 |     7 |     1.000e-04 |     0.2954 |          0.1267 |       0.0437 |               0\n"
     ]
    },
    {
     "ename": "KeyboardInterrupt",
     "evalue": "",
     "output_type": "error",
     "traceback": [
      "\u001b[0;31m---------------------------------------------------------------------------\u001b[0m",
      "\u001b[0;31mKeyboardInterrupt\u001b[0m                         Traceback (most recent call last)",
      "\u001b[0;32m<ipython-input-19-ea37f573d24c>\u001b[0m in \u001b[0;36m<module>\u001b[0;34m\u001b[0m\n\u001b[1;32m      2\u001b[0m \u001b[0;34m\u001b[0m\u001b[0m\n\u001b[1;32m      3\u001b[0m \u001b[0;32mtry\u001b[0m\u001b[0;34m:\u001b[0m\u001b[0;34m\u001b[0m\u001b[0;34m\u001b[0m\u001b[0m\n\u001b[0;32m----> 4\u001b[0;31m     \u001b[0mT\u001b[0m\u001b[0;34m.\u001b[0m\u001b[0mtrain\u001b[0m\u001b[0;34m(\u001b[0m\u001b[0mdevice\u001b[0m\u001b[0;34m=\u001b[0m\u001b[0mDEVICE\u001b[0m\u001b[0;34m,\u001b[0m \u001b[0mn_epochs\u001b[0m\u001b[0;34m=\u001b[0m\u001b[0;36m1000\u001b[0m\u001b[0;34m)\u001b[0m\u001b[0;34m\u001b[0m\u001b[0;34m\u001b[0m\u001b[0m\n\u001b[0m\u001b[1;32m      5\u001b[0m \u001b[0;32mexcept\u001b[0m \u001b[0mException\u001b[0m \u001b[0;32mas\u001b[0m \u001b[0me\u001b[0m\u001b[0;34m:\u001b[0m\u001b[0;34m\u001b[0m\u001b[0;34m\u001b[0m\u001b[0m\n\u001b[1;32m      6\u001b[0m     \u001b[0mprint\u001b[0m\u001b[0;34m(\u001b[0m\u001b[0me\u001b[0m\u001b[0;34m)\u001b[0m\u001b[0;34m\u001b[0m\u001b[0;34m\u001b[0m\u001b[0m\n",
      "\u001b[0;32m~/Repo/projects/covid_nff/NeuralForceField/nff/train/trainer.py\u001b[0m in \u001b[0;36mtrain\u001b[0;34m(self, device, n_epochs)\u001b[0m\n\u001b[1;32m    200\u001b[0m                         \u001b[0mh\u001b[0m\u001b[0;34m.\u001b[0m\u001b[0mon_batch_begin\u001b[0m\u001b[0;34m(\u001b[0m\u001b[0mself\u001b[0m\u001b[0;34m,\u001b[0m \u001b[0mbatch\u001b[0m\u001b[0;34m)\u001b[0m\u001b[0;34m\u001b[0m\u001b[0;34m\u001b[0m\u001b[0m\n\u001b[1;32m    201\u001b[0m \u001b[0;34m\u001b[0m\u001b[0m\n\u001b[0;32m--> 202\u001b[0;31m                     \u001b[0mresults\u001b[0m \u001b[0;34m=\u001b[0m \u001b[0mself\u001b[0m\u001b[0;34m.\u001b[0m\u001b[0mcall_model\u001b[0m\u001b[0;34m(\u001b[0m\u001b[0mbatch\u001b[0m\u001b[0;34m)\u001b[0m\u001b[0;34m\u001b[0m\u001b[0;34m\u001b[0m\u001b[0m\n\u001b[0m\u001b[1;32m    203\u001b[0m                     \u001b[0mloss\u001b[0m \u001b[0;34m+=\u001b[0m \u001b[0mself\u001b[0m\u001b[0;34m.\u001b[0m\u001b[0mloss_fn\u001b[0m\u001b[0;34m(\u001b[0m\u001b[0mbatch\u001b[0m\u001b[0;34m,\u001b[0m \u001b[0mresults\u001b[0m\u001b[0;34m)\u001b[0m\u001b[0;34m\u001b[0m\u001b[0;34m\u001b[0m\u001b[0m\n\u001b[1;32m    204\u001b[0m                     \u001b[0mself\u001b[0m\u001b[0;34m.\u001b[0m\u001b[0mstep\u001b[0m \u001b[0;34m+=\u001b[0m \u001b[0;36m1\u001b[0m\u001b[0;34m\u001b[0m\u001b[0;34m\u001b[0m\u001b[0m\n",
      "\u001b[0;32m~/Repo/projects/covid_nff/NeuralForceField/nff/train/trainer.py\u001b[0m in \u001b[0;36mcall_model\u001b[0;34m(self, batch)\u001b[0m\n\u001b[1;32m     89\u001b[0m \u001b[0;34m\u001b[0m\u001b[0m\n\u001b[1;32m     90\u001b[0m     \u001b[0;32mdef\u001b[0m \u001b[0mcall_model\u001b[0m\u001b[0;34m(\u001b[0m\u001b[0mself\u001b[0m\u001b[0;34m,\u001b[0m \u001b[0mbatch\u001b[0m\u001b[0;34m)\u001b[0m\u001b[0;34m:\u001b[0m\u001b[0;34m\u001b[0m\u001b[0;34m\u001b[0m\u001b[0m\n\u001b[0;32m---> 91\u001b[0;31m         \u001b[0;32mreturn\u001b[0m \u001b[0mself\u001b[0m\u001b[0;34m.\u001b[0m\u001b[0m_model\u001b[0m\u001b[0;34m(\u001b[0m\u001b[0mbatch\u001b[0m\u001b[0;34m)\u001b[0m\u001b[0;34m\u001b[0m\u001b[0;34m\u001b[0m\u001b[0m\n\u001b[0m\u001b[1;32m     92\u001b[0m \u001b[0;34m\u001b[0m\u001b[0m\n\u001b[1;32m     93\u001b[0m     \u001b[0;32mdef\u001b[0m \u001b[0m_check_is_parallel\u001b[0m\u001b[0;34m(\u001b[0m\u001b[0mself\u001b[0m\u001b[0;34m)\u001b[0m\u001b[0;34m:\u001b[0m\u001b[0;34m\u001b[0m\u001b[0;34m\u001b[0m\u001b[0m\n",
      "\u001b[0;32m~/miniconda3/envs/covid_mit/lib/python3.6/site-packages/torch/nn/modules/module.py\u001b[0m in \u001b[0;36m__call__\u001b[0;34m(self, *input, **kwargs)\u001b[0m\n\u001b[1;32m    530\u001b[0m             \u001b[0mresult\u001b[0m \u001b[0;34m=\u001b[0m \u001b[0mself\u001b[0m\u001b[0;34m.\u001b[0m\u001b[0m_slow_forward\u001b[0m\u001b[0;34m(\u001b[0m\u001b[0;34m*\u001b[0m\u001b[0minput\u001b[0m\u001b[0;34m,\u001b[0m \u001b[0;34m**\u001b[0m\u001b[0mkwargs\u001b[0m\u001b[0;34m)\u001b[0m\u001b[0;34m\u001b[0m\u001b[0;34m\u001b[0m\u001b[0m\n\u001b[1;32m    531\u001b[0m         \u001b[0;32melse\u001b[0m\u001b[0;34m:\u001b[0m\u001b[0;34m\u001b[0m\u001b[0;34m\u001b[0m\u001b[0m\n\u001b[0;32m--> 532\u001b[0;31m             \u001b[0mresult\u001b[0m \u001b[0;34m=\u001b[0m \u001b[0mself\u001b[0m\u001b[0;34m.\u001b[0m\u001b[0mforward\u001b[0m\u001b[0;34m(\u001b[0m\u001b[0;34m*\u001b[0m\u001b[0minput\u001b[0m\u001b[0;34m,\u001b[0m \u001b[0;34m**\u001b[0m\u001b[0mkwargs\u001b[0m\u001b[0;34m)\u001b[0m\u001b[0;34m\u001b[0m\u001b[0;34m\u001b[0m\u001b[0m\n\u001b[0m\u001b[1;32m    533\u001b[0m         \u001b[0;32mfor\u001b[0m \u001b[0mhook\u001b[0m \u001b[0;32min\u001b[0m \u001b[0mself\u001b[0m\u001b[0;34m.\u001b[0m\u001b[0m_forward_hooks\u001b[0m\u001b[0;34m.\u001b[0m\u001b[0mvalues\u001b[0m\u001b[0;34m(\u001b[0m\u001b[0;34m)\u001b[0m\u001b[0;34m:\u001b[0m\u001b[0;34m\u001b[0m\u001b[0;34m\u001b[0m\u001b[0m\n\u001b[1;32m    534\u001b[0m             \u001b[0mhook_result\u001b[0m \u001b[0;34m=\u001b[0m \u001b[0mhook\u001b[0m\u001b[0;34m(\u001b[0m\u001b[0mself\u001b[0m\u001b[0;34m,\u001b[0m \u001b[0minput\u001b[0m\u001b[0;34m,\u001b[0m \u001b[0mresult\u001b[0m\u001b[0;34m)\u001b[0m\u001b[0;34m\u001b[0m\u001b[0;34m\u001b[0m\u001b[0m\n",
      "\u001b[0;32m~/Repo/projects/covid_nff/NeuralForceField/nff/nn/models/conformers.py\u001b[0m in \u001b[0;36mforward\u001b[0;34m(self, batch, xyz, **kwargs)\u001b[0m\n\u001b[1;32m    303\u001b[0m \u001b[0;34m\u001b[0m\u001b[0m\n\u001b[1;32m    304\u001b[0m         \u001b[0;32mif\u001b[0m \u001b[0;32mnot\u001b[0m \u001b[0mself\u001b[0m\u001b[0;34m.\u001b[0m\u001b[0mbatch_embeddings\u001b[0m\u001b[0;34m:\u001b[0m\u001b[0;34m\u001b[0m\u001b[0;34m\u001b[0m\u001b[0m\n\u001b[0;32m--> 305\u001b[0;31m             \u001b[0;32mreturn\u001b[0m \u001b[0mself\u001b[0m\u001b[0;34m.\u001b[0m\u001b[0membedding_forward\u001b[0m\u001b[0;34m(\u001b[0m\u001b[0mbatch\u001b[0m\u001b[0;34m,\u001b[0m \u001b[0mxyz\u001b[0m\u001b[0;34m,\u001b[0m \u001b[0;34m**\u001b[0m\u001b[0mkwargs\u001b[0m\u001b[0;34m)\u001b[0m\u001b[0;34m\u001b[0m\u001b[0;34m\u001b[0m\u001b[0m\n\u001b[0m\u001b[1;32m    306\u001b[0m \u001b[0;34m\u001b[0m\u001b[0m\n\u001b[1;32m    307\u001b[0m         \u001b[0mnum_specs\u001b[0m \u001b[0;34m=\u001b[0m \u001b[0mlen\u001b[0m\u001b[0;34m(\u001b[0m\u001b[0mbatch\u001b[0m\u001b[0;34m[\u001b[0m\u001b[0;34m\"num_atoms\"\u001b[0m\u001b[0;34m]\u001b[0m\u001b[0;34m)\u001b[0m\u001b[0;34m\u001b[0m\u001b[0;34m\u001b[0m\u001b[0m\n",
      "\u001b[0;32m~/Repo/projects/covid_nff/NeuralForceField/nff/nn/models/conformers.py\u001b[0m in \u001b[0;36membedding_forward\u001b[0;34m(self, batch, xyz, **kwargs)\u001b[0m\n\u001b[1;32m    267\u001b[0m         r, xyz = self.convolve(batch=batch,\n\u001b[1;32m    268\u001b[0m                                \u001b[0mxyz\u001b[0m\u001b[0;34m=\u001b[0m\u001b[0mxyz\u001b[0m\u001b[0;34m,\u001b[0m\u001b[0;34m\u001b[0m\u001b[0;34m\u001b[0m\u001b[0m\n\u001b[0;32m--> 269\u001b[0;31m                                **kwargs)\n\u001b[0m\u001b[1;32m    270\u001b[0m         outputs = self.post_process(batch=batch,\n\u001b[1;32m    271\u001b[0m                                     \u001b[0mr\u001b[0m\u001b[0;34m=\u001b[0m\u001b[0mr\u001b[0m\u001b[0;34m,\u001b[0m\u001b[0;34m\u001b[0m\u001b[0;34m\u001b[0m\u001b[0m\n",
      "\u001b[0;32m~/Repo/projects/covid_nff/NeuralForceField/nff/nn/models/schnet_features.py\u001b[0m in \u001b[0;36mconvolve\u001b[0;34m(self, batch, xyz, xyz_grad)\u001b[0m\n\u001b[1;32m     93\u001b[0m         h_0, bond_nbrs, bond_idx = self.make_h(batch=batch,\n\u001b[1;32m     94\u001b[0m                                                \u001b[0mnbr_list\u001b[0m\u001b[0;34m=\u001b[0m\u001b[0ma\u001b[0m\u001b[0;34m,\u001b[0m\u001b[0;34m\u001b[0m\u001b[0;34m\u001b[0m\u001b[0m\n\u001b[0;32m---> 95\u001b[0;31m                                                r=r)\n\u001b[0m\u001b[1;32m     96\u001b[0m \u001b[0;34m\u001b[0m\u001b[0m\n\u001b[1;32m     97\u001b[0m         \u001b[0mh_new\u001b[0m \u001b[0;34m=\u001b[0m \u001b[0mh_0\u001b[0m\u001b[0;34m.\u001b[0m\u001b[0mclone\u001b[0m\u001b[0;34m(\u001b[0m\u001b[0;34m)\u001b[0m\u001b[0;34m\u001b[0m\u001b[0;34m\u001b[0m\u001b[0m\n",
      "\u001b[0;32m~/Repo/projects/covid_nff/NeuralForceField/nff/nn/models/schnet_features.py\u001b[0m in \u001b[0;36mmake_h\u001b[0;34m(self, batch, nbr_list, r)\u001b[0m\n\u001b[1;32m     44\u001b[0m         \u001b[0;31m# get the directed bond list and bond features\u001b[0m\u001b[0;34m\u001b[0m\u001b[0;34m\u001b[0m\u001b[0;34m\u001b[0m\u001b[0m\n\u001b[1;32m     45\u001b[0m \u001b[0;34m\u001b[0m\u001b[0m\n\u001b[0;32m---> 46\u001b[0;31m         \u001b[0mbond_nbrs\u001b[0m\u001b[0;34m,\u001b[0m \u001b[0mwas_directed\u001b[0m \u001b[0;34m=\u001b[0m \u001b[0mmake_directed\u001b[0m\u001b[0;34m(\u001b[0m\u001b[0mbatch\u001b[0m\u001b[0;34m[\u001b[0m\u001b[0;34m\"bonded_nbr_list\"\u001b[0m\u001b[0;34m]\u001b[0m\u001b[0;34m)\u001b[0m\u001b[0;34m\u001b[0m\u001b[0;34m\u001b[0m\u001b[0m\n\u001b[0m\u001b[1;32m     47\u001b[0m         \u001b[0mbond_feats\u001b[0m \u001b[0;34m=\u001b[0m \u001b[0mbatch\u001b[0m\u001b[0;34m[\u001b[0m\u001b[0;34m\"bond_features\"\u001b[0m\u001b[0;34m]\u001b[0m\u001b[0;34m\u001b[0m\u001b[0;34m\u001b[0m\u001b[0m\n\u001b[1;32m     48\u001b[0m         \u001b[0mdevice\u001b[0m \u001b[0;34m=\u001b[0m \u001b[0mbond_nbrs\u001b[0m\u001b[0;34m.\u001b[0m\u001b[0mdevice\u001b[0m\u001b[0;34m\u001b[0m\u001b[0;34m\u001b[0m\u001b[0m\n",
      "\u001b[0;32m~/Repo/projects/covid_nff/NeuralForceField/nff/utils/tools.py\u001b[0m in \u001b[0;36mmake_directed\u001b[0;34m(nbr_list)\u001b[0m\n\u001b[1;32m    149\u001b[0m         \u001b[0;32mreturn\u001b[0m \u001b[0mnbr_list\u001b[0m\u001b[0;34m,\u001b[0m \u001b[0mdirected\u001b[0m\u001b[0;34m\u001b[0m\u001b[0;34m\u001b[0m\u001b[0m\n\u001b[1;32m    150\u001b[0m \u001b[0;34m\u001b[0m\u001b[0m\n\u001b[0;32m--> 151\u001b[0;31m     \u001b[0mnew_nbrs\u001b[0m \u001b[0;34m=\u001b[0m \u001b[0mtorch\u001b[0m\u001b[0;34m.\u001b[0m\u001b[0mcat\u001b[0m\u001b[0;34m(\u001b[0m\u001b[0;34m[\u001b[0m\u001b[0mnbr_list\u001b[0m\u001b[0;34m,\u001b[0m \u001b[0mnbr_list\u001b[0m\u001b[0;34m.\u001b[0m\u001b[0mflip\u001b[0m\u001b[0;34m(\u001b[0m\u001b[0;36m1\u001b[0m\u001b[0;34m)\u001b[0m\u001b[0;34m]\u001b[0m\u001b[0;34m,\u001b[0m \u001b[0mdim\u001b[0m\u001b[0;34m=\u001b[0m\u001b[0;36m0\u001b[0m\u001b[0;34m)\u001b[0m\u001b[0;34m\u001b[0m\u001b[0;34m\u001b[0m\u001b[0m\n\u001b[0m\u001b[1;32m    152\u001b[0m     \u001b[0;32mreturn\u001b[0m \u001b[0mnew_nbrs\u001b[0m\u001b[0;34m,\u001b[0m \u001b[0mdirected\u001b[0m\u001b[0;34m\u001b[0m\u001b[0;34m\u001b[0m\u001b[0m\n\u001b[1;32m    153\u001b[0m \u001b[0;34m\u001b[0m\u001b[0m\n",
      "\u001b[0;31mKeyboardInterrupt\u001b[0m: "
     ]
    }
   ],
   "source": [
    "import pdb\n",
    "\n",
    "try:\n",
    "    T.train(device=DEVICE, n_epochs=1000)\n",
    "except Exception as e:\n",
    "    print(e)\n",
    "    pdb.post_mortem()"
   ]
  },
  {
   "cell_type": "markdown",
   "metadata": {},
   "source": [
    "## Evaluating the model on the test set"
   ]
  },
  {
   "cell_type": "code",
   "execution_count": null,
   "metadata": {},
   "outputs": [],
   "source": []
  },
  {
   "cell_type": "code",
   "execution_count": null,
   "metadata": {},
   "outputs": [],
   "source": []
  },
  {
   "cell_type": "markdown",
   "metadata": {},
   "source": [
    "Now we have a brand new model trained and validated. We can use the best model from this training to evaluate its performance on the test set. `results` contains the predictions of properties for the whole test dataset. `targets` contains the ground truth for such data. `test_loss` is the loss, calculated with the same function used during the training part"
   ]
  },
  {
   "cell_type": "code",
   "execution_count": null,
   "metadata": {},
   "outputs": [],
   "source": []
  },
  {
   "cell_type": "code",
   "execution_count": 20,
   "metadata": {},
   "outputs": [],
   "source": [
    "sampler = ImbalancedDatasetSampler(\n",
    "    target_name=\"bind\",\n",
    "    props=props)\n",
    "\n",
    "balanced_test_loader = DataLoader(test, batch_size=BATCH_SIZE, \n",
    "            collate_fn=collate_dicts,\n",
    "           sampler=sampler)\n",
    "\n",
    "# results, targets, val_loss = evaluate(model, balanced_test_loader, loss_fn, device=DEVICE)\n",
    "results, targets, val_loss = evaluate(T.get_best_model(), test_loader, loss_fn, device=DEVICE)\n",
    "\n",
    "# results, targets, val_loss = evaluate(T.get_best_model(), train_loader, loss_fn, device=DEVICE)\n",
    "\n"
   ]
  },
  {
   "cell_type": "code",
   "execution_count": 21,
   "metadata": {},
   "outputs": [],
   "source": [
    "res_act = torch.cat(results['activity']).reshape(-1)"
   ]
  },
  {
   "cell_type": "code",
   "execution_count": 22,
   "metadata": {},
   "outputs": [],
   "source": [
    "targ_act = torch.cat(targets['activity']).reshape(-1)"
   ]
  },
  {
   "cell_type": "code",
   "execution_count": 23,
   "metadata": {},
   "outputs": [
    {
     "data": {
      "image/png": "[encoded data removed]",
      "text/plain": [
       "<Figure size 432x288 with 1 Axes>"
      ]
     },
     "metadata": {
      "needs_background": "light"
     },
     "output_type": "display_data"
    }
   ],
   "source": [
    "plt.plot(targ_act, res_act, '*')\n",
    "plt.plot(targ_act, targ_act)\n",
    "plt.xlabel('Target')\n",
    "plt.ylabel('Predicted')\n",
    "plt.show()"
   ]
  },
  {
   "cell_type": "code",
   "execution_count": 24,
   "metadata": {},
   "outputs": [],
   "source": [
    "pred_bind = res_act\n",
    "actual_bind =  torch.cat(targets['bind']).reshape(-1)\n",
    "\n",
    "precision, recall, thresholds = precision_recall_curve(\n",
    "    y_true=actual_bind, probas_pred=pred_bind)\n",
    "prc_auc = auc(recall, precision)\n",
    "roc_auc = roc_auc_score(y_true=actual_bind, y_score=pred_bind)"
   ]
  },
  {
   "cell_type": "code",
   "execution_count": 25,
   "metadata": {},
   "outputs": [
    {
     "data": {
      "text/plain": [
       "0.4351067082573232"
      ]
     },
     "execution_count": 25,
     "metadata": {},
     "output_type": "execute_result"
    }
   ],
   "source": [
    "prc_auc"
   ]
  },
  {
   "cell_type": "code",
   "execution_count": 26,
   "metadata": {},
   "outputs": [
    {
     "data": {
      "text/plain": [
       "0.8149866544332304"
      ]
     },
     "execution_count": 26,
     "metadata": {},
     "output_type": "execute_result"
    }
   ],
   "source": [
    "roc_auc"
   ]
  },
  {
   "cell_type": "code",
   "execution_count": null,
   "metadata": {},
   "outputs": [],
   "source": []
  }
 ],
 "metadata": {
  "kernelspec": {
   "display_name": "Python [conda env:covid_mit]",
   "language": "python",
   "name": "covid_mit"
  },
  "language_info": {
   "codemirror_mode": {
    "name": "ipython",
    "version": 3
   },
   "file_extension": ".py",
   "mimetype": "text/x-python",
   "name": "python",
   "nbconvert_exporter": "python",
   "pygments_lexer": "ipython3",
   "version": "3.6.10"
  }
 },
 "nbformat": 4,
 "nbformat_minor": 2
}
