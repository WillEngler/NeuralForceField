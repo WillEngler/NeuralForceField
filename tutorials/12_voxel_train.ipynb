{
 "cells": [
  {
   "cell_type": "markdown",
   "metadata": {},
   "source": [
    "# Introduction to Neural Force Field"
   ]
  },
  {
   "cell_type": "markdown",
   "metadata": {},
   "source": [
    "This Jupyter Notebook contains an introduction to the `nff` package. Here, we will load the modules and functions from `nff` to import a dataset, create dataloaders, create a model, train it and check the test stats. We will do most of it manually to illustrate the usage of the API. However, scripts such as the one provided in the `scripts/` folder already automate most of this process."
   ]
  },
  {
   "cell_type": "markdown",
   "metadata": {},
   "source": [
    "After the `nff` package has been installed, we start by importing all dependencies for this tutorial."
   ]
  },
  {
   "cell_type": "code",
   "execution_count": 1,
   "metadata": {},
   "outputs": [],
   "source": [
    "%load_ext autoreload\n",
    "%autoreload 2"
   ]
  },
  {
   "cell_type": "code",
   "execution_count": null,
   "metadata": {},
   "outputs": [],
   "source": []
  },
  {
   "cell_type": "code",
   "execution_count": 2,
   "metadata": {},
   "outputs": [],
   "source": [
    "import sys\n",
    "sys.path.insert(0, \"..\")\n",
    "\n",
    "import os\n",
    "import shutil\n",
    "import numpy as np\n",
    "import matplotlib.pyplot as plt\n",
    "from sklearn.metrics import roc_curve, roc_auc_score, auc, precision_recall_curve\n",
    "\n",
    "\n",
    "import torch\n",
    "from torch.optim import Adam\n",
    "from torch.utils.data import DataLoader\n",
    "\n",
    "from nff.data import (Dataset, split_train_validation_test, \n",
    "                      collate_dicts, to_tensor, ImbalancedDatasetSampler)\n",
    "from nff.train import Trainer, get_trainer, get_model, load_model, loss, hooks, metrics, evaluate\n",
    "\n",
    "from nff.hypopt.data import trim_confs"
   ]
  },
  {
   "cell_type": "markdown",
   "metadata": {},
   "source": [
    "It might also be useful setting the GPU you want to use:"
   ]
  },
  {
   "cell_type": "code",
   "execution_count": null,
   "metadata": {},
   "outputs": [],
   "source": []
  },
  {
   "cell_type": "code",
   "execution_count": null,
   "metadata": {},
   "outputs": [],
   "source": []
  },
  {
   "cell_type": "code",
   "execution_count": 22,
   "metadata": {},
   "outputs": [
    {
     "name": "stdout",
     "output_type": "stream",
     "text": [
      "Loading dataset...\n",
      "Splitting...\n",
      "Saving...\n"
     ]
    }
   ],
   "source": [
    "import random\n",
    "\n",
    "import os\n",
    "base_pth = \"/home/saxelrod/engaging_nfs/data_from_fock/data/covid_data/\"\n",
    "\n",
    "# main_pth = os.path.join(base_pth, \"covid_mmff94_1_voxels.pth.tar\")\n",
    "\n",
    "# main_pth = os.path.join(base_pth, \"covid_mmff94_1_voxels_channels.pth.tar\")\n",
    "\n",
    "main_pth = os.path.join(base_pth, \"all_crest_voxels.pth.tar\")\n",
    "\n",
    "\n",
    "\n",
    "# suffixes = [\"all_crest_voxels_train.pth.tar\", \"all_crest_voxels_val.pth.tar\", \n",
    "#        \"all_crest_voxels_test.pth.tar\"]\n",
    "\n",
    "\n",
    "# suffixes = [\"covid_mmff94_1_voxels_train.pth.tar\", \"covid_mmff94_1_voxels_val.pth.tar\", \n",
    "#        \"covid_mmff94_1_voxels_test.pth.tar\"]\n",
    "\n",
    "suffixes = [\"covid_mmff94_1_voxels_train_channels.pth.tar\", \n",
    "            \"covid_mmff94_1_voxels_val_channels.pth.tar\", \n",
    "            \"covid_mmff94_1_voxels_test_channels.pth.tar\"]\n",
    "\n",
    "pths = [os.path.join(base_pth, suffix) for suffix in suffixes]\n",
    "\n",
    "\n",
    "\n",
    "# if all([os.path.isfile(file) for file in pths]):\n",
    "#     print(\"Loading from file...\")\n",
    "#     train, val, test = [Dataset.from_file(pth) for pth in pths]\n",
    "#     print(\"Loaded from file.\")\n",
    "# else:\n",
    "\n",
    "print(\"Loading dataset...\")\n",
    "dataset = Dataset.from_file(main_pth)\n",
    "# dataset.add_morgan(1000)\n",
    "\n",
    "\n",
    "# dataset.props[\"voxel\"] = dataset.props[\"fingerprint\"] \n",
    "# dataset.props.pop(\"fingerprint\")\n",
    "\n",
    "# bind_idx = dataset.props['bind'].nonzero()\n",
    "# rand_idx = [i for i in list(range(len(dataset))) if i not in bind_idx]\n",
    "# rand_idx = random.sample(rand_idx, 5000)\n",
    "# all_idx = rand_idx + bind_idx.reshape(-1).tolist()\n",
    "# new_props = {}\n",
    "# for key, val in dataset.props.items():\n",
    "#     if type(val) is list:\n",
    "#         new_props[key] = [val[i] for i in all_idx]\n",
    "#     else:\n",
    "#         new_props[key] = val[all_idx]\n",
    "\n",
    "# new_dataset = Dataset(props=new_props, units=dataset.units)\n",
    "\n",
    "# train, val, test = split_train_validation_test(new_dataset, binary=True, targ_name='bind')\n",
    "\n",
    "print(\"Splitting...\")\n",
    "train, val, test = split_train_validation_test(dataset, binary=True, targ_name='bind')\n",
    "print(\"Saving...\")\n",
    "for pth, dset in zip(pths, [train, val, test]):\n",
    "    dset.save(pth)\n",
    "\n",
    "# del dataset\n"
   ]
  },
  {
   "cell_type": "code",
   "execution_count": 23,
   "metadata": {},
   "outputs": [],
   "source": [
    "import json\n",
    "\n",
    "bind_idx = dataset.props['bind'].nonzero()\n",
    "bind_smiles = [dataset.props['smiles'][i] for i in bind_idx]\n",
    "with open(\"bind_smiles.json\", \"w\") as f:\n",
    "        json.dump(bind_smiles, f)"
   ]
  },
  {
   "cell_type": "code",
   "execution_count": null,
   "metadata": {},
   "outputs": [],
   "source": [
    "\n"
   ]
  },
  {
   "cell_type": "code",
   "execution_count": 4,
   "metadata": {},
   "outputs": [],
   "source": [
    "DEVICE = 0\n",
    "BATCH_SIZE = 50\n",
    "MINI_BATCHES = int(50 / BATCH_SIZE)\n",
    "\n",
    "OUTDIR = './sandbox'\n",
    "\n",
    "if os.path.exists(OUTDIR):\n",
    "    newpath = os.path.join(os.path.dirname(OUTDIR), 'backup')\n",
    "    if os.path.exists(newpath):\n",
    "        shutil.rmtree(newpath)\n",
    "        \n",
    "    shutil.move(OUTDIR, newpath)"
   ]
  },
  {
   "cell_type": "markdown",
   "metadata": {},
   "source": [
    "Create loaders:"
   ]
  },
  {
   "cell_type": "code",
   "execution_count": null,
   "metadata": {},
   "outputs": [],
   "source": []
  },
  {
   "cell_type": "code",
   "execution_count": 5,
   "metadata": {},
   "outputs": [],
   "source": [
    "loaders = []\n",
    "\n",
    "for split in [train, val, test]:\n",
    "    props = split.props\n",
    "    kwargs = {}\n",
    "    if split in [train]:\n",
    "        sampler = ImbalancedDatasetSampler(\n",
    "            target_name=\"bind\",\n",
    "            props=props)\n",
    "        kwargs.update({\"sampler\": sampler})\n",
    "    loader = DataLoader(split, batch_size=BATCH_SIZE, \n",
    "                        collate_fn=collate_dicts,\n",
    "                       **kwargs)\n",
    "    loaders.append(loader)\n",
    "    \n",
    "train_loader, val_loader, test_loader = loaders"
   ]
  },
  {
   "cell_type": "code",
   "execution_count": 6,
   "metadata": {},
   "outputs": [
    {
     "name": "stdout",
     "output_type": "stream",
     "text": [
      "1776\n",
      "1737\n",
      "0.5055508112724167\n"
     ]
    }
   ],
   "source": [
    "import pdb\n",
    "\n",
    "num_bind = 0\n",
    "num_non_bind = 0\n",
    "\n",
    "for batch in train_loader:\n",
    "    bind = batch['bind'].sum()\n",
    "    non_bind = len(batch['bind']) - bind\n",
    "\n",
    "    num_bind += bind.item()\n",
    "    num_non_bind += non_bind.item()\n",
    "\n",
    "print(num_bind)\n",
    "print(num_non_bind)\n",
    "print(num_bind / (num_bind + num_non_bind))\n"
   ]
  },
  {
   "cell_type": "markdown",
   "metadata": {},
   "source": [
    "`nff` is based on SchNet. It parameterizes interatomic interactions in molecules and materials through a series of convolution layers with continuous filters. Here, we are going to create a simple model using the hyperparameters given on `params`:"
   ]
  },
  {
   "cell_type": "code",
   "execution_count": 7,
   "metadata": {},
   "outputs": [],
   "source": [
    "for dset in [train, val, test]:\n",
    "    dset.props['fingerprint'] = dset.props['voxel']"
   ]
  },
  {
   "cell_type": "code",
   "execution_count": 8,
   "metadata": {},
   "outputs": [
    {
     "data": {
      "text/plain": [
       "torch.Size([20845, 134])"
      ]
     },
     "execution_count": 8,
     "metadata": {},
     "output_type": "execute_result"
    }
   ],
   "source": [
    " next(iter(train_loader))[\"atom_features\"].shape"
   ]
  },
  {
   "cell_type": "code",
   "execution_count": 9,
   "metadata": {},
   "outputs": [
    {
     "data": {
      "text/plain": [
       "134"
      ]
     },
     "execution_count": 9,
     "metadata": {},
     "output_type": "execute_result"
    }
   ],
   "source": [
    "next(iter(train_loader))[\"atom_features\"].shape[-1]"
   ]
  },
  {
   "cell_type": "code",
   "execution_count": 10,
   "metadata": {},
   "outputs": [],
   "source": [
    "\n",
    "# morgan_len = 1000\n",
    "# n_mol_basis  = train.props['fingerprint'][0].shape[0] + morgan_len\n",
    "n_mol_basis  = train.props['fingerprint'][0].shape[0] \n",
    "\n",
    "\n",
    "\n",
    "n_atom_basis = 1\n",
    "n_bond_features = 1\n",
    "\n",
    "n_bond_hidden = 300\n",
    "\n",
    "n_filters = 30\n",
    "\n",
    "n_gaussians = 10\n",
    "n_edge_hidden = n_bond_hidden + n_filters\n",
    "\n",
    "\n",
    "mol_fp_drop = 0.0\n",
    "schnet_dropout = 0.5\n",
    "cp_dropout = 0.0\n",
    "readout_drop = 0.2\n",
    "n_convolutions = 2\n",
    "\n",
    "\n",
    "input_layers = [{'name': 'linear', 'param': {'in_features': n_bond_features + n_atom_basis,\n",
    "                                         'out_features': n_bond_hidden}},\n",
    "            {'name': 'ReLU', 'param': {}}]\n",
    "\n",
    "output_layers = [{'name': 'linear', 'param': {'in_features': n_atom_basis + n_edge_hidden,\n",
    "                                         'out_features': n_mol_basis}},\n",
    "                {'name': 'ReLU', 'param': {}}]\n",
    "\n",
    "readoutdict = {'bind': [\n",
    "            {'name': 'linear', 'param' : { 'in_features': n_mol_basis, 'out_features': int(n_mol_basis / 2)}},\n",
    "            {'name': 'ReLU', 'param': {}},\n",
    "            {'name': 'Dropout', 'param': {'p': readout_drop}},\n",
    "            {'name': 'linear', 'param' : { 'in_features': int(n_mol_basis / 2), 'out_features': 1}},\n",
    "            {'name': 'sigmoid', 'param': {}},\n",
    "        ]\n",
    "    }\n",
    "\n",
    "\n",
    "mol_fp_layers = []\n",
    "\n",
    "\n",
    "\n",
    "params = {\n",
    "    'n_atom_basis': n_atom_basis,\n",
    "    'n_bond_hidden': n_bond_hidden,\n",
    "    'input_layers': input_layers,\n",
    "    'output_layers': output_layers,\n",
    "    'n_filters': n_filters,\n",
    "    'n_gaussians': n_gaussians,\n",
    "    'cp_dropout': cp_dropout,\n",
    "    'schnet_dropout': schnet_dropout,\n",
    "    'gauss_embed': True,\n",
    "    'n_convolutions': n_convolutions,\n",
    "    'cutoff': 5.0,\n",
    "    'trainable_gauss': True,\n",
    "    'dropout_rate': schnet_dropout,\n",
    "    'readoutdict': readoutdict,\n",
    "    'boltzmann_dict': {'type': 'multiply'},\n",
    "    'mol_fp_layers': mol_fp_layers,\n",
    "    'same_filters': True,\n",
    "    'activation': 'ReLU',\n",
    "    'batch_embeddings': True,\n",
    "#     \"extra_features\": [{\"name\": \"morgan\", \"length\": 1000}]\n",
    "#     \"extra_features\": [{\"name\": \"morgan\", \"length\": 1000}]\n",
    "\n",
    "\n",
    "    \n",
    "}\n",
    "\n",
    "\n",
    "\n",
    "model = get_model(params, model_type=\"SchNetFeatures\")"
   ]
  },
  {
   "cell_type": "code",
   "execution_count": 11,
   "metadata": {},
   "outputs": [],
   "source": [
    "# delattr(model, \"convolutions\")\n",
    "# delattr(model, \"mol_fp_nn\")\n",
    "# delattr(model, \"W_i\")\n",
    "# delattr(model, \"W_o\")"
   ]
  },
  {
   "cell_type": "markdown",
   "metadata": {},
   "source": [
    "## Creating a trainer"
   ]
  },
  {
   "cell_type": "code",
   "execution_count": 12,
   "metadata": {},
   "outputs": [
    {
     "data": {
      "text/plain": [
       "SchNetFeatures(\n",
       "  (convolutions): ModuleList(\n",
       "    (0): CpSchNetConv(\n",
       "      (dense): Dense(\n",
       "        in_features=300, out_features=300, bias=False\n",
       "        (dropout): Dropout(p=0.0, inplace=False)\n",
       "      )\n",
       "      (activation): ReLU()\n",
       "      (moduledict): ModuleDict(\n",
       "        (edge_filter): Sequential(\n",
       "          (0): GaussianSmearing()\n",
       "          (1): Dense(\n",
       "            in_features=10, out_features=30, bias=True\n",
       "            (dropout): Dropout(p=0.5, inplace=False)\n",
       "          )\n",
       "          (2): ReLU()\n",
       "        )\n",
       "      )\n",
       "    )\n",
       "    (1): CpSchNetConv(\n",
       "      (dense): Dense(\n",
       "        in_features=300, out_features=300, bias=False\n",
       "        (dropout): Dropout(p=0.0, inplace=False)\n",
       "      )\n",
       "      (activation): ReLU()\n",
       "      (moduledict): ModuleDict(\n",
       "        (edge_filter): Sequential(\n",
       "          (0): GaussianSmearing()\n",
       "          (1): Dense(\n",
       "            in_features=10, out_features=30, bias=True\n",
       "            (dropout): Dropout(p=0.5, inplace=False)\n",
       "          )\n",
       "          (2): ReLU()\n",
       "        )\n",
       "      )\n",
       "    )\n",
       "  )\n",
       "  (mol_fp_nn): Sequential()\n",
       "  (readout): NodeMultiTaskReadOut(\n",
       "    (readout): ModuleDict(\n",
       "      (bind): Sequential(\n",
       "        (linear0): Linear(in_features=3375, out_features=1687, bias=True)\n",
       "        (ReLU1): ReLU()\n",
       "        (Dropout2): Dropout(p=0.2, inplace=False)\n",
       "        (linear3): Linear(in_features=1687, out_features=1, bias=True)\n",
       "        (sigmoid4): Sigmoid()\n",
       "      )\n",
       "    )\n",
       "  )\n",
       "  (W_i): ChemPropInit(\n",
       "    (input): Sequential(\n",
       "      (linear0): Linear(in_features=2, out_features=300, bias=False)\n",
       "      (ReLU1): ReLU()\n",
       "    )\n",
       "  )\n",
       "  (W_o): ChemPropMsgToNode(\n",
       "    (output): Sequential(\n",
       "      (linear0): Linear(in_features=331, out_features=3375, bias=False)\n",
       "      (ReLU1): ReLU()\n",
       "    )\n",
       "  )\n",
       ")"
      ]
     },
     "execution_count": 12,
     "metadata": {},
     "output_type": "execute_result"
    }
   ],
   "source": [
    "model"
   ]
  },
  {
   "cell_type": "markdown",
   "metadata": {},
   "source": [
    "To train our model with the data provided, we have to create a loss function. The easiest way to do that is through the `build_mse_loss` builder. Its argument `rho` is a parameter that will multiply the mean square error (MSE) of the force components before summing it with the MSE of the energy."
   ]
  },
  {
   "cell_type": "code",
   "execution_count": 13,
   "metadata": {},
   "outputs": [],
   "source": [
    "loss_fn = loss.build_cross_entropy_loss(loss_coef={'bind': 1})"
   ]
  },
  {
   "cell_type": "markdown",
   "metadata": {},
   "source": [
    "We should also select an optimizer for our recently created model:"
   ]
  },
  {
   "cell_type": "code",
   "execution_count": 14,
   "metadata": {},
   "outputs": [],
   "source": [
    "trainable_params = filter(lambda p: p.requires_grad, model.parameters())\n",
    "optimizer = Adam(trainable_params, lr=1e-4)"
   ]
  },
  {
   "cell_type": "markdown",
   "metadata": {},
   "source": [
    "### Metrics and hooks"
   ]
  },
  {
   "cell_type": "markdown",
   "metadata": {},
   "source": [
    "If we want to monitor the progress of our training, say by looking at the mean absolute error (MAE) of energies and forces, we can simply create metrics to observe them:"
   ]
  },
  {
   "cell_type": "code",
   "execution_count": null,
   "metadata": {},
   "outputs": [],
   "source": []
  },
  {
   "cell_type": "code",
   "execution_count": 15,
   "metadata": {},
   "outputs": [],
   "source": [
    "train_metrics = [\n",
    "    metrics.RocAuc('bind'),\n",
    "    metrics.PrAuc('bind')\n",
    "]"
   ]
  },
  {
   "cell_type": "markdown",
   "metadata": {},
   "source": [
    "Furthermore, if we want to customize how our training procedure is done, we can use hooks which can interrupt or change the train automatically.\n",
    "\n",
    "In our case, we are adding hooks to:\n",
    "* Stop the training procedure after 100 epochs;\n",
    "* Log the training on a machine-readable CSV file under the directory `./sandbox`;\n",
    "* Print the progress on the screen with custom formatting; and\n",
    "* Setup a scheduler for the learning rate."
   ]
  },
  {
   "cell_type": "code",
   "execution_count": 16,
   "metadata": {},
   "outputs": [],
   "source": [
    "train_hooks = [\n",
    "    hooks.MaxEpochHook(1000),\n",
    "    hooks.CSVHook(\n",
    "        OUTDIR,\n",
    "        metrics=train_metrics,\n",
    "    ),\n",
    "    hooks.PrintingHook(\n",
    "        OUTDIR,\n",
    "        metrics=train_metrics,\n",
    "        separator = ' | ',\n",
    "        time_strf='%M:%S'\n",
    "    ),\n",
    "    hooks.ReduceLROnPlateauHook(\n",
    "        optimizer=optimizer,\n",
    "        patience=10,\n",
    "        factor=0.5,\n",
    "        min_lr=1e-7,\n",
    "        window_length=1,\n",
    "        stop_after_min=True\n",
    "    )\n",
    "]"
   ]
  },
  {
   "cell_type": "markdown",
   "metadata": {},
   "source": [
    "### Trainer wrapper"
   ]
  },
  {
   "cell_type": "markdown",
   "metadata": {},
   "source": [
    "A `Trainer` in the `nff` package is a wrapper to train a model. It automatically creates checkpoints, as well as trains and validates a given model. It also allow further training by loading checkpoints from existing paths, making the training procedure more flexible. Its functionalities can be extended by the hooks we created above. To create a trainer, we have to execute the following command:"
   ]
  },
  {
   "cell_type": "code",
   "execution_count": 17,
   "metadata": {},
   "outputs": [],
   "source": [
    "T = Trainer(\n",
    "    model_path=OUTDIR,\n",
    "    model=model,\n",
    "    loss_fn=loss_fn,\n",
    "    optimizer=optimizer,\n",
    "    train_loader=train_loader,\n",
    "    validation_loader=val_loader,\n",
    "    checkpoint_intbatcerval=1,\n",
    "    hooks=train_hooks,\n",
    "    mini_batches=MINI_BATCHES\n",
    ")"
   ]
  },
  {
   "cell_type": "markdown",
   "metadata": {},
   "source": [
    "Now we can finally train the model using the method `train` from the `Trainer`:"
   ]
  },
  {
   "cell_type": "code",
   "execution_count": null,
   "metadata": {},
   "outputs": [],
   "source": []
  },
  {
   "cell_type": "code",
   "execution_count": 18,
   "metadata": {
    "scrolled": true
   },
   "outputs": [
    {
     "name": "stdout",
     "output_type": "stream",
     "text": [
      " Time | Epoch | Learning rate | Train loss | Validation loss | RocAuc_bind | PrAuc_bind | GPU Memory (MB)\n",
      "48:28 |     1 |     1.000e-04 |     0.7092 |          0.5684 |      0.4392 |     0.0572 |             171\n",
      "48:29 |     2 |     1.000e-04 |     0.6941 |          0.7196 |      0.5486 |     0.0836 |             171\n",
      "48:30 |     3 |     1.000e-04 |     0.6772 |          0.7101 |      0.5301 |     0.0767 |             172\n",
      "48:31 |     4 |     1.000e-04 |     0.6740 |          0.7050 |      0.5131 |     0.0740 |             172\n",
      "48:32 |     5 |     1.000e-04 |     0.6751 |          0.6627 |      0.4836 |     0.0725 |             172\n",
      "48:33 |     6 |     1.000e-04 |     0.6679 |          0.7854 |      0.5570 |     0.0799 |             172\n",
      "48:34 |     7 |     1.000e-04 |     0.6679 |          0.8075 |      0.5518 |     0.0826 |             172\n",
      "48:36 |     8 |     1.000e-04 |     0.6608 |          0.7514 |      0.5432 |     0.0772 |             172\n",
      "48:37 |     9 |     1.000e-04 |     0.6595 |          0.6547 |      0.5287 |     0.0807 |             172\n",
      "48:38 |    10 |     1.000e-04 |     0.6580 |          0.5622 |      0.4726 |     0.0742 |             172\n",
      "48:39 |    11 |     1.000e-04 |     0.6555 |          0.5990 |      0.5077 |     0.0793 |             172\n",
      "48:40 |    12 |     1.000e-04 |     0.6487 |          0.6345 |      0.5254 |     0.0845 |             172\n",
      "48:41 |    13 |     1.000e-04 |     0.6392 |          0.8783 |      0.5397 |     0.0817 |             172\n",
      "48:43 |    14 |     1.000e-04 |     0.6429 |          0.6345 |      0.5211 |     0.0818 |             172\n",
      "48:44 |    15 |     1.000e-04 |     0.6406 |          0.6101 |      0.5002 |     0.0797 |             172\n",
      "48:45 |    16 |     1.000e-04 |     0.6356 |          0.7247 |      0.5493 |     0.0885 |             172\n",
      "48:46 |    17 |     1.000e-04 |     0.6311 |          0.7714 |      0.5901 |     0.0942 |             172\n",
      "48:47 |    18 |     1.000e-04 |     0.6480 |          0.6105 |      0.5230 |     0.0835 |             172\n",
      "48:48 |    19 |     1.000e-04 |     0.6218 |          0.5470 |      0.5223 |     0.0845 |             172\n",
      "48:49 |    20 |     1.000e-04 |     0.6117 |          0.6201 |      0.5376 |     0.0888 |             172\n",
      "48:51 |    21 |     1.000e-04 |     0.6111 |          0.6912 |      0.5583 |     0.0944 |             172\n",
      "48:52 |    22 |     1.000e-04 |     0.6116 |          0.6933 |      0.5729 |     0.0924 |             172\n",
      "48:53 |    23 |     1.000e-04 |     0.6023 |          0.5789 |      0.5182 |     0.0827 |             172\n",
      "48:54 |    24 |     1.000e-04 |     0.6049 |          0.5719 |      0.5328 |     0.0892 |             172\n",
      "48:55 |    25 |     1.000e-04 |     0.6040 |          0.7482 |      0.5512 |     0.0844 |             172\n",
      "48:56 |    26 |     1.000e-04 |     0.5964 |          0.6508 |      0.5517 |     0.0894 |             172\n",
      "48:57 |    27 |     1.000e-04 |     0.6084 |          0.5914 |      0.5352 |     0.0872 |             172\n",
      "48:58 |    28 |     1.000e-04 |     0.5848 |          0.7822 |      0.5709 |     0.0928 |             172\n",
      "49:00 |    29 |     1.000e-04 |     0.5732 |          0.5948 |      0.5403 |     0.0890 |             172\n",
      "49:01 |    30 |     1.000e-04 |     0.5938 |          0.5406 |      0.5285 |     0.0878 |             172\n",
      "49:02 |    31 |     1.000e-04 |     0.5792 |          0.5211 |      0.5205 |     0.0850 |             172\n",
      "49:03 |    32 |     1.000e-04 |     0.5737 |          0.6575 |      0.5407 |     0.0872 |             172\n",
      "49:04 |    33 |     1.000e-04 |     0.5739 |          0.7586 |      0.5827 |     0.0945 |             172\n",
      "49:05 |    34 |     1.000e-04 |     0.5718 |          0.4987 |      0.5218 |     0.0873 |             172\n",
      "49:07 |    35 |     1.000e-04 |     0.5677 |          0.5511 |      0.5260 |     0.0861 |             172\n",
      "49:08 |    36 |     1.000e-04 |     0.5555 |          0.6069 |      0.5403 |     0.0907 |             172\n",
      "49:09 |    37 |     1.000e-04 |     0.5537 |          0.6000 |      0.5690 |     0.1028 |             172\n",
      "49:10 |    38 |     1.000e-04 |     0.5443 |          0.6076 |      0.5543 |     0.0920 |             172\n",
      "49:11 |    39 |     1.000e-04 |     0.5592 |          0.6153 |      0.5519 |     0.0927 |             172\n",
      "49:12 |    40 |     1.000e-04 |     0.5531 |          0.6577 |      0.5808 |     0.0968 |             172\n",
      "49:13 |    41 |     1.000e-04 |     0.5288 |          0.6006 |      0.5582 |     0.0945 |             172\n",
      "49:15 |    42 |     1.000e-04 |     0.5431 |          0.5645 |      0.5374 |     0.0898 |             172\n",
      "49:16 |    43 |     1.000e-04 |     0.5323 |          0.5139 |      0.5351 |     0.0874 |             172\n",
      "49:17 |    44 |     1.000e-04 |     0.5427 |          0.7242 |      0.5612 |     0.0926 |             172\n",
      "49:18 |    45 |     1.000e-04 |     0.5350 |          0.6396 |      0.5449 |     0.0906 |             172\n",
      "49:19 |    46 |     5.000e-05 |     0.5243 |          0.5729 |      0.5571 |     0.0980 |             172\n",
      "49:20 |    47 |     5.000e-05 |     0.5127 |          0.6982 |      0.5667 |     0.1020 |             172\n",
      "49:21 |    48 |     5.000e-05 |     0.5197 |          0.6490 |      0.5617 |     0.0969 |             172\n",
      "49:23 |    49 |     5.000e-05 |     0.5191 |          0.6127 |      0.5612 |     0.0995 |             172\n",
      "49:24 |    50 |     5.000e-05 |     0.5212 |          0.6255 |      0.5713 |     0.1057 |             172\n",
      "49:25 |    51 |     5.000e-05 |     0.5035 |          0.5881 |      0.5539 |     0.0984 |             172\n",
      "49:26 |    52 |     5.000e-05 |     0.5131 |          0.6015 |      0.5658 |     0.1038 |             172\n",
      "49:27 |    53 |     5.000e-05 |     0.5050 |          0.6302 |      0.5636 |     0.1011 |             172\n",
      "49:28 |    54 |     5.000e-05 |     0.5004 |          0.6368 |      0.5643 |     0.1051 |             172\n",
      "49:29 |    55 |     5.000e-05 |     0.5111 |          0.6705 |      0.5805 |     0.1083 |             172\n",
      "49:31 |    56 |     5.000e-05 |     0.5052 |          0.5959 |      0.5621 |     0.1057 |             172\n",
      "49:32 |    57 |     2.500e-05 |     0.4886 |          0.5761 |      0.5616 |     0.1039 |             172\n",
      "49:33 |    58 |     2.500e-05 |     0.4902 |          0.5900 |      0.5704 |     0.1073 |             172\n",
      "49:34 |    59 |     2.500e-05 |     0.5047 |          0.5500 |      0.5588 |     0.1056 |             172\n",
      "49:35 |    60 |     2.500e-05 |     0.4877 |          0.5502 |      0.5641 |     0.1038 |             172\n",
      "49:36 |    61 |     2.500e-05 |     0.4889 |          0.6081 |      0.5649 |     0.1039 |             172\n",
      "49:37 |    62 |     2.500e-05 |     0.4885 |          0.6002 |      0.5666 |     0.1037 |             172\n",
      "49:38 |    63 |     2.500e-05 |     0.4791 |          0.6167 |      0.5681 |     0.1030 |             172\n",
      "49:40 |    64 |     2.500e-05 |     0.4879 |          0.6319 |      0.5717 |     0.1046 |             172\n",
      "49:41 |    65 |     2.500e-05 |     0.4784 |          0.5740 |      0.5593 |     0.1028 |             172\n",
      "49:42 |    66 |     2.500e-05 |     0.4824 |          0.6250 |      0.5715 |     0.1051 |             172\n",
      "49:43 |    67 |     2.500e-05 |     0.4820 |          0.6261 |      0.5642 |     0.1018 |             172\n",
      "49:44 |    68 |     1.250e-05 |     0.4849 |          0.6076 |      0.5647 |     0.1022 |             172\n",
      "49:45 |    69 |     1.250e-05 |     0.4793 |          0.6384 |      0.5628 |     0.1007 |             172\n",
      "49:46 |    70 |     1.250e-05 |     0.4763 |          0.6182 |      0.5597 |     0.1006 |             172\n",
      "49:48 |    71 |     1.250e-05 |     0.4786 |          0.6303 |      0.5616 |     0.1004 |             172\n",
      "49:49 |    72 |     1.250e-05 |     0.4829 |          0.6192 |      0.5617 |     0.1018 |             172\n",
      "49:50 |    73 |     1.250e-05 |     0.4834 |          0.5753 |      0.5553 |     0.0991 |             172\n",
      "49:51 |    74 |     1.250e-05 |     0.4740 |          0.5895 |      0.5623 |     0.1019 |             172\n",
      "49:52 |    75 |     1.250e-05 |     0.4720 |          0.6108 |      0.5645 |     0.1026 |             172\n",
      "49:53 |    76 |     1.250e-05 |     0.4838 |          0.5585 |      0.5552 |     0.1001 |             172\n",
      "49:54 |    77 |     1.250e-05 |     0.4743 |          0.6049 |      0.5612 |     0.1016 |             172\n"
     ]
    },
    {
     "name": "stdout",
     "output_type": "stream",
     "text": [
      "49:56 |    78 |     1.250e-05 |     0.4838 |          0.6150 |      0.5667 |     0.1061 |             172\n",
      "49:57 |    79 |     6.250e-06 |     0.4813 |          0.5767 |      0.5590 |     0.1025 |             172\n",
      "49:58 |    80 |     6.250e-06 |     0.4754 |          0.6056 |      0.5608 |     0.1020 |             172\n",
      "49:59 |    81 |     6.250e-06 |     0.4824 |          0.5631 |      0.5532 |     0.1003 |             172\n",
      "50:00 |    82 |     6.250e-06 |     0.4739 |          0.6175 |      0.5590 |     0.1000 |             172\n",
      "50:01 |    83 |     6.250e-06 |     0.4672 |          0.6025 |      0.5592 |     0.1014 |             172\n",
      "50:02 |    84 |     6.250e-06 |     0.4613 |          0.5992 |      0.5593 |     0.1025 |             172\n",
      "50:04 |    85 |     6.250e-06 |     0.4729 |          0.5687 |      0.5517 |     0.0990 |             172\n",
      "50:05 |    86 |     6.250e-06 |     0.4760 |          0.5853 |      0.5545 |     0.1007 |             172\n",
      "50:06 |    87 |     6.250e-06 |     0.4824 |          0.5648 |      0.5516 |     0.0998 |             172\n",
      "50:07 |    88 |     6.250e-06 |     0.4663 |          0.6104 |      0.5585 |     0.1004 |             172\n",
      "50:08 |    89 |     6.250e-06 |     0.4672 |          0.5986 |      0.5560 |     0.1001 |             172\n",
      "50:09 |    90 |     3.125e-06 |     0.4662 |          0.5921 |      0.5573 |     0.1011 |             172\n",
      "50:10 |    91 |     3.125e-06 |     0.4680 |          0.5921 |      0.5559 |     0.0996 |             172\n",
      "50:12 |    92 |     3.125e-06 |     0.4705 |          0.5830 |      0.5543 |     0.1000 |             172\n",
      "50:13 |    93 |     3.125e-06 |     0.4708 |          0.6079 |      0.5593 |     0.1015 |             172\n",
      "50:14 |    94 |     3.125e-06 |     0.4664 |          0.6036 |      0.5561 |     0.0999 |             172\n",
      "50:15 |    95 |     3.125e-06 |     0.4633 |          0.6069 |      0.5565 |     0.1000 |             172\n",
      "50:16 |    96 |     3.125e-06 |     0.4683 |          0.6077 |      0.5557 |     0.0993 |             172\n",
      "50:17 |    97 |     3.125e-06 |     0.4731 |          0.5921 |      0.5547 |     0.0993 |             172\n",
      "50:18 |    98 |     3.125e-06 |     0.4685 |          0.6015 |      0.5552 |     0.0997 |             172\n",
      "50:19 |    99 |     3.125e-06 |     0.4675 |          0.5987 |      0.5555 |     0.1000 |             172\n",
      "50:21 |   100 |     3.125e-06 |     0.4692 |          0.6240 |      0.5616 |     0.1019 |             172\n",
      "50:22 |   101 |     1.563e-06 |     0.4726 |          0.5978 |      0.5575 |     0.1009 |             172\n",
      "50:23 |   102 |     1.563e-06 |     0.4633 |          0.5952 |      0.5578 |     0.1012 |             172\n",
      "50:24 |   103 |     1.563e-06 |     0.4696 |          0.5980 |      0.5579 |     0.1008 |             172\n",
      "50:25 |   104 |     1.563e-06 |     0.4645 |          0.6117 |      0.5595 |     0.1014 |             172\n",
      "50:26 |   105 |     1.563e-06 |     0.4736 |          0.6059 |      0.5573 |     0.1005 |             172\n",
      "50:28 |   106 |     1.563e-06 |     0.4816 |          0.5759 |      0.5535 |     0.1001 |             172\n",
      "50:29 |   107 |     1.563e-06 |     0.4795 |          0.5834 |      0.5556 |     0.1012 |             172\n",
      "50:30 |   108 |     1.563e-06 |     0.4688 |          0.6073 |      0.5584 |     0.1010 |             172\n",
      "50:31 |   109 |     1.563e-06 |     0.4638 |          0.6059 |      0.5589 |     0.1012 |             172\n",
      "50:32 |   110 |     1.563e-06 |     0.4632 |          0.5885 |      0.5556 |     0.1003 |             172\n",
      "50:33 |   111 |     1.563e-06 |     0.4676 |          0.6043 |      0.5573 |     0.1008 |             172\n",
      "50:34 |   112 |     7.813e-07 |     0.4745 |          0.6034 |      0.5572 |     0.1012 |             172\n",
      "50:35 |   113 |     7.813e-07 |     0.4636 |          0.6074 |      0.5582 |     0.1014 |             172\n",
      "50:37 |   114 |     7.813e-07 |     0.4699 |          0.6048 |      0.5577 |     0.1014 |             172\n",
      "50:38 |   115 |     7.813e-07 |     0.4714 |          0.5872 |      0.5555 |     0.1009 |             172\n",
      "50:39 |   116 |     7.813e-07 |     0.4666 |          0.5919 |      0.5560 |     0.1009 |             172\n",
      "50:40 |   117 |     7.813e-07 |     0.4676 |          0.5909 |      0.5569 |     0.1011 |             172\n",
      "50:41 |   118 |     7.813e-07 |     0.4695 |          0.5935 |      0.5573 |     0.1014 |             172\n",
      "50:42 |   119 |     7.813e-07 |     0.4741 |          0.5948 |      0.5571 |     0.1012 |             172\n",
      "50:43 |   120 |     7.813e-07 |     0.4562 |          0.5853 |      0.5566 |     0.1014 |             172\n",
      "50:45 |   121 |     7.813e-07 |     0.4688 |          0.5857 |      0.5560 |     0.1015 |             172\n",
      "50:46 |   122 |     7.813e-07 |     0.4580 |          0.5903 |      0.5563 |     0.1010 |             172\n",
      "50:47 |   123 |     3.906e-07 |     0.4617 |          0.5870 |      0.5562 |     0.1011 |             172\n",
      "50:48 |   124 |     3.906e-07 |     0.4729 |          0.5893 |      0.5569 |     0.1013 |             172\n",
      "50:49 |   125 |     3.906e-07 |     0.4552 |          0.5904 |      0.5570 |     0.1014 |             172\n",
      "50:50 |   126 |     3.906e-07 |     0.4656 |          0.5896 |      0.5571 |     0.1015 |             172\n",
      "50:51 |   127 |     3.906e-07 |     0.4609 |          0.5879 |      0.5570 |     0.1018 |             172\n",
      "50:53 |   128 |     3.906e-07 |     0.4721 |          0.5914 |      0.5571 |     0.1012 |             172\n",
      "50:54 |   129 |     3.906e-07 |     0.4639 |          0.5922 |      0.5574 |     0.1014 |             172\n",
      "50:55 |   130 |     3.906e-07 |     0.4647 |          0.5908 |      0.5569 |     0.1014 |             172\n",
      "50:56 |   131 |     3.906e-07 |     0.4731 |          0.5925 |      0.5567 |     0.1014 |             172\n",
      "50:57 |   132 |     3.906e-07 |     0.4569 |          0.5973 |      0.5573 |     0.1014 |             172\n",
      "50:58 |   133 |     3.906e-07 |     0.4683 |          0.5962 |      0.5573 |     0.1016 |             172\n",
      "50:59 |   134 |     1.953e-07 |     0.4690 |          0.5909 |      0.5566 |     0.1012 |             172\n",
      "51:00 |   135 |     1.953e-07 |     0.4657 |          0.5958 |      0.5573 |     0.1015 |             172\n",
      "51:02 |   136 |     1.953e-07 |     0.4589 |          0.5969 |      0.5574 |     0.1016 |             172\n",
      "51:03 |   137 |     1.953e-07 |     0.4694 |          0.5927 |      0.5568 |     0.1013 |             172\n",
      "51:04 |   138 |     1.953e-07 |     0.4634 |          0.5938 |      0.5569 |     0.1013 |             172\n",
      "51:05 |   139 |     1.953e-07 |     0.4628 |          0.5938 |      0.5571 |     0.1013 |             172\n",
      "51:06 |   140 |     1.953e-07 |     0.4644 |          0.5959 |      0.5573 |     0.1014 |             172\n",
      "51:07 |   141 |     1.953e-07 |     0.4661 |          0.5933 |      0.5569 |     0.1014 |             172\n",
      "51:08 |   142 |     1.953e-07 |     0.4597 |          0.5933 |      0.5569 |     0.1014 |             172\n",
      "51:09 |   143 |     1.953e-07 |     0.4656 |          0.5931 |      0.5571 |     0.1014 |             172\n",
      "51:11 |   144 |     1.953e-07 |     0.4641 |          0.5906 |      0.5567 |     0.1012 |             172\n"
     ]
    }
   ],
   "source": [
    "import pdb\n",
    "\n",
    "try:\n",
    "    T.train(device=DEVICE, n_epochs=1000)\n",
    "except Exception as e:\n",
    "    print(e)\n",
    "    pdb.post_mortem()"
   ]
  },
  {
   "cell_type": "markdown",
   "metadata": {},
   "source": [
    "## Evaluating the model on the test set"
   ]
  },
  {
   "cell_type": "markdown",
   "metadata": {},
   "source": [
    "Now we have a brand new model trained and validated. We can use the best model from this training to evaluate its performance on the test set. `results` contains the predictions of properties for the whole test dataset. `targets` contains the ground truth for such data. `test_loss` is the loss, calculated with the same function used during the training part"
   ]
  },
  {
   "cell_type": "code",
   "execution_count": null,
   "metadata": {},
   "outputs": [],
   "source": []
  },
  {
   "cell_type": "code",
   "execution_count": 19,
   "metadata": {},
   "outputs": [],
   "source": [
    "sampler = ImbalancedDatasetSampler(\n",
    "    target_name=\"bind\",\n",
    "    props=props)\n",
    "\n",
    "balanced_test_loader = DataLoader(test, batch_size=BATCH_SIZE, \n",
    "            collate_fn=collate_dicts,\n",
    "           sampler=sampler)\n",
    "\n",
    "results, targets, val_loss = evaluate(model, balanced_test_loader, loss_fn, device=DEVICE)\n"
   ]
  },
  {
   "cell_type": "code",
   "execution_count": 20,
   "metadata": {},
   "outputs": [],
   "source": [
    "y_score = torch.cat(results['bind']).reshape(-1).numpy()\n",
    "y_true = torch.cat(targets['bind']).reshape(-1).numpy()\n",
    "\n",
    "roc_score = roc_auc_score(y_true=y_true, y_score=y_score)\n",
    "fpr, tpr, thresholds = roc_curve(y_true=y_true, y_score=y_score)\n",
    "\n",
    "precision, recall, thresholds = precision_recall_curve(y_true, y_score)\n",
    "prc_score = auc(recall, precision)\n",
    "\n"
   ]
  },
  {
   "cell_type": "code",
   "execution_count": 21,
   "metadata": {},
   "outputs": [
    {
     "data": {
      "image/png": "[encoded data removed]",
      "text/plain": [
       "<Figure size 432x288 with 1 Axes>"
      ]
     },
     "metadata": {
      "needs_background": "light"
     },
     "output_type": "display_data"
    },
    {
     "data": {
      "image/png": "[encoded data removed]",
      "text/plain": [
       "<Figure size 432x288 with 1 Axes>"
      ]
     },
     "metadata": {
      "needs_background": "light"
     },
     "output_type": "display_data"
    }
   ],
   "source": [
    "plt.rcParams.update({'font.size': 15})\n",
    "\n",
    "\n",
    "text = \"ROC score = %.2f\" % roc_score\n",
    "\n",
    "fig, ax = plt.subplots()\n",
    "plt.plot(fpr, tpr)\n",
    "plt.xlabel('False positive rate')\n",
    "plt.ylabel('True positive rate')\n",
    "plt.text(0.3, 0.5, text, fontsize=20, transform=ax.transAxes)\n",
    "\n",
    "plt.show()\n",
    "\n",
    "\n",
    "\n",
    "\n",
    "text = \"PRC score = %.2f\" % prc_score\n",
    "\n",
    "fig, ax = plt.subplots()\n",
    "plt.plot(precision, recall)\n",
    "plt.xlabel('Precision')\n",
    "plt.ylabel('Recall')\n",
    "plt.text(0.3, 0.5, text, fontsize=20, transform=ax.transAxes)\n",
    "\n",
    "\n",
    "plt.show()"
   ]
  },
  {
   "cell_type": "code",
   "execution_count": null,
   "metadata": {},
   "outputs": [],
   "source": []
  }
 ],
 "metadata": {
  "kernelspec": {
   "display_name": "Python [conda env:covid_mit]",
   "language": "python",
   "name": "covid_mit"
  },
  "language_info": {
   "codemirror_mode": {
    "name": "ipython",
    "version": 3
   },
   "file_extension": ".py",
   "mimetype": "text/x-python",
   "name": "python",
   "nbconvert_exporter": "python",
   "pygments_lexer": "ipython3",
   "version": "3.6.10"
  }
 },
 "nbformat": 4,
 "nbformat_minor": 2
}
