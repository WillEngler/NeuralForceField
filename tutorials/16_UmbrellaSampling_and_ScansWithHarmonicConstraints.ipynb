{
 "cells": [
  {
   "cell_type": "markdown",
   "id": "65f762f7",
   "metadata": {},
   "source": [
    "# Usage of BiasBase class\n",
    "### a) Relaxed scans along any CV\n",
    "### b) Umbrella sampling \n",
    "\n",
    "To analyse the umbrella sampling results, please install [adaptive-sampling](https://github.com/ochsenfeld-lab/adaptive_sampling) package:\n",
    "```bash\n",
    "pip install git+https://github.com/ochsenfeld-lab/adaptive_sampling@bff1ef1\n",
    "```\n",
    "\n",
    "Note: this notebook relies on an old and unstable version of the adaptive-sampling package."
   ]
  },
  {
   "cell_type": "markdown",
   "id": "62d0a9de",
   "metadata": {},
   "source": [
    "### Imports"
   ]
  },
  {
   "cell_type": "code",
   "execution_count": null,
   "id": "b7206dc9",
   "metadata": {},
   "outputs": [],
   "source": [
    "import os\n",
    "\n",
    "import matplotlib.pyplot as plt\n",
    "import nglview as nv\n",
    "import numpy as np\n",
    "from adaptive_sampling.processing_tools import mbar\n",
    "from ase import units\n",
    "from ase.io import read\n",
    "from ase.optimize import BFGS\n",
    "from tqdm import tqdm\n",
    "\n",
    "from nff.io.ase import AtomsBatch\n",
    "from nff.io.bias_calculators import BiasBase\n",
    "from nff.md.colvars import ColVar\n",
    "from nff.md.nvt import Langevin\n",
    "from nff.md.utils import BiasedNeuralMDLogger\n",
    "\n",
    "plt.style.use(\"default\")"
   ]
  },
  {
   "cell_type": "markdown",
   "id": "a91ff258",
   "metadata": {},
   "source": [
    "### Load the starting structure"
   ]
  },
  {
   "cell_type": "code",
   "execution_count": 2,
   "id": "2d5d844f",
   "metadata": {},
   "outputs": [],
   "source": [
    "start_geom = read(\"models/ammonia/Ammonia.xyz\")"
   ]
  },
  {
   "cell_type": "code",
   "execution_count": 3,
   "id": "73b92d84",
   "metadata": {},
   "outputs": [
    {
     "name": "stdout",
     "output_type": "stream",
     "text": [
      "Start value: 42.17880578196517 degrees = 0.7361590354545137 radians\n"
     ]
    }
   ],
   "source": [
    "# central dictionary for the ColVar class\n",
    "# in this tutorial we will use the improper dihedral of ammonia\n",
    "info_dict = {\n",
    "    \"name\": \"dihedral\",\n",
    "    \"index_list\": [0, 1, 2, 3],\n",
    "}\n",
    "\n",
    "atoms = AtomsBatch.from_atoms(start_geom)\n",
    "\n",
    "# use the distance of the scan for center of umbrella window\n",
    "CV = ColVar(info_dict)\n",
    "cv, cv_grad = CV(atoms)\n",
    "\n",
    "print(f\"Start value: {cv*180/np.pi} degrees = {cv} radians\")"
   ]
  },
  {
   "cell_type": "markdown",
   "id": "446a594c",
   "metadata": {},
   "source": [
    "### The scan"
   ]
  },
  {
   "cell_type": "code",
   "execution_count": 4,
   "id": "666ab474",
   "metadata": {},
   "outputs": [],
   "source": [
    "# the cv in radians -1 to 1 is a decent choice\n",
    "min_val = -1.0\n",
    "max_val = 1.0\n",
    "dval = 0.05  # step between minimizations\n",
    "targets = np.arange(min_val, max_val + dval, dval)"
   ]
  },
  {
   "cell_type": "code",
   "execution_count": 5,
   "id": "e730814c",
   "metadata": {},
   "outputs": [
    {
     "name": "stderr",
     "output_type": "stream",
     "text": [
      "  0%|          | 0/41 [00:00<?, ?it/s]"
     ]
    },
    {
     "name": "stdout",
     "output_type": "stream",
     "text": [
      "      Step     Time          Energy         fmax\n",
      "BFGS:    0 13:51:04      150.717314      273.9187\n",
      "BFGS:    1 13:51:04       87.837524      176.1401\n",
      "BFGS:    2 13:51:04       44.639209      151.9846\n",
      "BFGS:    3 13:51:04       12.248152       83.2718\n",
      "BFGS:    4 13:51:04        0.569411       10.1930\n",
      "BFGS:    5 13:51:04        0.258650        4.3837\n",
      "BFGS:    6 13:51:04        0.196830        0.9218\n",
      "BFGS:    7 13:51:04        0.188902        0.5390\n",
      "BFGS:    8 13:51:04        0.187678        0.4763\n",
      "BFGS:    9 13:51:04        0.184096        0.4392\n",
      "BFGS:   10 13:51:04        0.182494        0.3853\n",
      "BFGS:   11 13:51:04        0.179842        0.1597\n",
      "BFGS:   12 13:51:04        0.179246        0.0618\n",
      "BFGS:   13 13:51:04        0.179134        0.0171\n",
      "BFGS:   14 13:51:04        0.179132        0.0039\n"
     ]
    },
    {
     "name": "stderr",
     "output_type": "stream",
     "text": [
      "  2%|▏         | 1/41 [00:00<00:16,  2.47it/s]"
     ]
    },
    {
     "name": "stdout",
     "output_type": "stream",
     "text": [
      "      Step     Time          Energy         fmax\n",
      "BFGS:    0 13:51:04        0.236639        7.9456\n",
      "BFGS:    1 13:51:04        3.132437       40.8906\n",
      "BFGS:    2 13:51:04        0.133999        1.8371\n",
      "BFGS:    3 13:51:04        0.120064        1.0631\n",
      "BFGS:    4 13:51:04        0.117955        0.1043\n",
      "BFGS:    5 13:51:04        0.117876        0.0409\n",
      "BFGS:    6 13:51:04        0.117795        0.0296\n",
      "BFGS:    7 13:51:04        0.117769        0.0291\n",
      "BFGS:    8 13:51:04        0.117760        0.0090\n",
      "BFGS:    9 13:51:04        0.117759        0.0022\n",
      "      Step     Time          Energy         fmax\n",
      "BFGS:    0 13:51:04        0.187839        7.8743\n",
      "BFGS:    1 13:51:04        2.906062       39.5176\n",
      "BFGS:    2 13:51:04        0.083307        1.6682\n",
      "BFGS:    3 13:51:04        0.071290        0.9027\n",
      "BFGS:    4 13:51:04        0.069771        0.0995\n",
      "BFGS:    5 13:51:04        0.069686        0.0375\n",
      "BFGS:    6 13:51:04        0.069574        0.0450\n",
      "BFGS:    7 13:51:04        0.069551        0.0311\n",
      "BFGS:    8 13:51:04        0.069544        0.0060\n",
      "BFGS:    9 13:51:04        0.069543        0.0015\n"
     ]
    },
    {
     "name": "stderr",
     "output_type": "stream",
     "text": [
      "  7%|▋         | 3/41 [00:00<00:05,  6.55it/s]"
     ]
    },
    {
     "name": "stdout",
     "output_type": "stream",
     "text": [
      "      Step     Time          Energy         fmax\n",
      "BFGS:    0 13:51:04        0.153181        7.8333\n",
      "BFGS:    1 13:51:04        2.734926       38.4386\n",
      "BFGS:    2 13:51:04        0.046922        1.5410\n",
      "BFGS:    3 13:51:04        0.036460        0.7844\n",
      "BFGS:    4 13:51:04        0.035300        0.0980\n",
      "BFGS:    5 13:51:04        0.035192        0.0396\n",
      "BFGS:    6 13:51:04        0.035032        0.0601\n",
      "BFGS:    7 13:51:04        0.035010        0.0322\n",
      "BFGS:    8 13:51:04        0.035003        0.0047\n",
      "      Step     Time          Energy         fmax\n",
      "BFGS:    0 13:51:04        0.132324        7.8161\n",
      "BFGS:    1 13:51:04        2.611784       37.6169\n",
      "BFGS:    2 13:51:04        0.024465        1.4538\n",
      "BFGS:    3 13:51:04        0.015255        0.6980\n",
      "BFGS:    4 13:51:04        0.014300        0.0987\n",
      "BFGS:    5 13:51:04        0.014154        0.0468\n",
      "BFGS:    6 13:51:04        0.013935        0.0764\n",
      "BFGS:    7 13:51:04        0.013909        0.0357\n",
      "BFGS:    8 13:51:04        0.013902        0.0042\n"
     ]
    },
    {
     "name": "stderr",
     "output_type": "stream",
     "text": [
      " 12%|█▏        | 5/41 [00:00<00:03,  9.58it/s]"
     ]
    },
    {
     "name": "stdout",
     "output_type": "stream",
     "text": [
      "      Step     Time          Energy         fmax\n",
      "BFGS:    0 13:51:04        0.124318        7.8306\n",
      "BFGS:    1 13:51:04        2.536053       37.0538\n",
      "BFGS:    2 13:51:04        0.014936        1.4011\n",
      "BFGS:    3 13:51:04        0.006679        0.6426\n",
      "BFGS:    4 13:51:04        0.005810        0.1030\n",
      "BFGS:    5 13:51:04        0.005607        0.0543\n",
      "BFGS:    6 13:51:04        0.005322        0.0961\n",
      "BFGS:    7 13:51:04        0.005284        0.0431\n",
      "BFGS:    8 13:51:04        0.005276        0.0048\n",
      "      Step     Time          Energy         fmax\n",
      "BFGS:    0 13:51:04        0.127464        7.8713\n",
      "BFGS:    1 13:51:04        2.501058       36.7129\n",
      "BFGS:    2 13:51:04        0.016793        1.3828\n",
      "BFGS:    3 13:51:04        0.009189        0.6187\n",
      "BFGS:    4 13:51:04        0.008306        0.1107\n",
      "BFGS:    5 13:51:04        0.008030        0.0620\n",
      "BFGS:    6 13:51:04        0.007671        0.1153\n",
      "BFGS:    7 13:51:04        0.007615        0.0519\n",
      "BFGS:    8 13:51:04        0.007604        0.0057\n",
      "BFGS:    9 13:51:04        0.007604        0.0014\n"
     ]
    },
    {
     "name": "stderr",
     "output_type": "stream",
     "text": [
      " 17%|█▋        | 7/41 [00:00<00:02, 11.60it/s]"
     ]
    },
    {
     "name": "stdout",
     "output_type": "stream",
     "text": [
      "      Step     Time          Energy         fmax\n",
      "BFGS:    0 13:51:04        0.139864        7.9432\n",
      "BFGS:    1 13:51:04        2.506303       36.6001\n",
      "BFGS:    2 13:51:04        0.028278        1.3999\n",
      "BFGS:    3 13:51:04        0.020973        0.6347\n",
      "BFGS:    4 13:51:04        0.019965        0.1230\n",
      "BFGS:    5 13:51:04        0.019603        0.0743\n",
      "BFGS:    6 13:51:04        0.019150        0.1315\n",
      "BFGS:    7 13:51:04        0.019071        0.0605\n",
      "BFGS:    8 13:51:04        0.019056        0.0068\n",
      "BFGS:    9 13:51:04        0.019055        0.0014\n",
      "      Step     Time          Energy         fmax\n",
      "BFGS:    0 13:51:04        0.159470        8.0396\n",
      "BFGS:    1 13:51:04        2.548077       36.7115\n",
      "BFGS:    2 13:51:04        0.047549        1.4630\n",
      "BFGS:    3 13:51:04        0.040146        0.7016\n",
      "BFGS:    4 13:51:04        0.038855        0.1384\n",
      "BFGS:    5 13:51:04        0.038411        0.0828\n",
      "BFGS:    6 13:51:04        0.037824        0.1434\n",
      "BFGS:    7 13:51:04        0.037719        0.0673\n",
      "BFGS:    8 13:51:04        0.037700        0.0075\n",
      "BFGS:    9 13:51:04        0.037699        0.0015\n"
     ]
    },
    {
     "name": "stderr",
     "output_type": "stream",
     "text": [
      " 22%|██▏       | 9/41 [00:00<00:02, 12.78it/s]"
     ]
    },
    {
     "name": "stdout",
     "output_type": "stream",
     "text": [
      "      Step     Time          Energy         fmax\n",
      "BFGS:    0 13:51:04        0.184332        8.1633\n",
      "BFGS:    1 13:51:04        2.627860       37.0809\n",
      "BFGS:    2 13:51:04        0.072882        1.5842\n",
      "BFGS:    3 13:51:04        0.064941        0.8433\n",
      "BFGS:    4 13:51:04        0.063064        0.1561\n",
      "BFGS:    5 13:51:04        0.062546        0.0907\n",
      "BFGS:    6 13:51:04        0.061767        0.1493\n",
      "BFGS:    7 13:51:04        0.061641        0.0701\n",
      "BFGS:    8 13:51:04        0.061617        0.0074\n",
      "BFGS:    9 13:51:04        0.061616        0.0016\n",
      "      Step     Time          Energy         fmax\n",
      "BFGS:    0 13:51:04        0.212569        8.3135\n",
      "BFGS:    1 13:51:04        2.746782       37.7474\n",
      "BFGS:    2 13:51:04        0.102723        1.7840\n",
      "BFGS:    3 13:51:04        0.093854        1.1021\n",
      "BFGS:    4 13:51:04        0.090716        0.1727\n",
      "BFGS:    5 13:51:04        0.090128        0.1035\n",
      "BFGS:    6 13:51:04        0.089099        0.1421\n",
      "BFGS:    7 13:51:04        0.088966        0.0643\n",
      "BFGS:    8 13:51:04        0.088938        0.0059\n",
      "BFGS:    9 13:51:04        0.088937        0.0016\n"
     ]
    },
    {
     "name": "stderr",
     "output_type": "stream",
     "text": [
      " 27%|██▋       | 11/41 [00:01<00:02, 13.62it/s]"
     ]
    },
    {
     "name": "stdout",
     "output_type": "stream",
     "text": [
      "      Step     Time          Energy         fmax\n",
      "BFGS:    0 13:51:04        0.242380        8.4869\n",
      "BFGS:    1 13:51:04        2.904399       38.7397\n",
      "BFGS:    2 13:51:04        0.135826        2.0872\n",
      "BFGS:    3 13:51:04        0.126025        1.5497\n",
      "BFGS:    4 13:51:04        0.120030        0.1826\n",
      "BFGS:    5 13:51:04        0.119362        0.1243\n",
      "BFGS:    6 13:51:04        0.118065        0.1166\n",
      "BFGS:    7 13:51:04        0.117928        0.0511\n",
      "BFGS:    8 13:51:04        0.117896        0.0044\n",
      "      Step     Time          Energy         fmax\n",
      "BFGS:    0 13:51:04        0.272102        8.6761\n",
      "BFGS:    1 13:51:04        3.098194       40.0718\n",
      "BFGS:    2 13:51:04        0.171420        2.5215\n",
      "BFGS:    3 13:51:04        0.162023        2.2967\n",
      "BFGS:    4 13:51:04        0.149403        0.1761\n",
      "BFGS:    5 13:51:04        0.148630        0.1513\n",
      "BFGS:    6 13:51:04        0.147131        0.0758\n",
      "BFGS:    7 13:51:04        0.146955        0.0451\n",
      "BFGS:    8 13:51:04        0.146906        0.0048\n"
     ]
    },
    {
     "name": "stderr",
     "output_type": "stream",
     "text": [
      " 32%|███▏      | 13/41 [00:01<00:01, 14.60it/s]"
     ]
    },
    {
     "name": "stdout",
     "output_type": "stream",
     "text": [
      "      Step     Time          Energy         fmax\n",
      "BFGS:    0 13:51:04        0.300434        8.8748\n",
      "BFGS:    1 13:51:04        3.320651       41.7050\n",
      "BFGS:    2 13:51:04        0.209205        3.0900\n",
      "BFGS:    3 13:51:04        0.204971        3.4795\n",
      "BFGS:    4 13:51:04        0.177569        0.1913\n",
      "BFGS:    5 13:51:04        0.176622        0.1805\n",
      "BFGS:    6 13:51:04        0.175065        0.0903\n",
      "BFGS:    7 13:51:04        0.174745        0.0563\n",
      "BFGS:    8 13:51:04        0.174645        0.0115\n",
      "BFGS:    9 13:51:05        0.174641        0.0021\n",
      "      Step     Time          Energy         fmax\n",
      "BFGS:    0 13:51:05        0.326322        9.0721\n",
      "BFGS:    1 13:51:05        3.560906       43.5734\n",
      "BFGS:    2 13:51:05        0.249065        3.7780\n",
      "BFGS:    3 13:51:05        0.261390        5.2362\n",
      "BFGS:    4 13:51:05        0.203620        0.2423\n",
      "BFGS:    5 13:51:05        0.202334        0.2053\n",
      "BFGS:    6 13:51:05        0.200878        0.2106\n",
      "BFGS:    7 13:51:05        0.200298        0.0950\n",
      "BFGS:    8 13:51:05        0.200082        0.0249\n",
      "BFGS:    9 13:51:05        0.200066        0.0058\n",
      "BFGS:   10 13:51:05        0.200065        0.0008\n"
     ]
    },
    {
     "name": "stderr",
     "output_type": "stream",
     "text": [
      " 37%|███▋      | 15/41 [00:01<00:01, 14.68it/s]"
     ]
    },
    {
     "name": "stdout",
     "output_type": "stream",
     "text": [
      "      Step     Time          Energy         fmax\n",
      "BFGS:    0 13:51:05        0.349036        9.2607\n",
      "BFGS:    1 13:51:05        3.811040       45.6260\n",
      "BFGS:    2 13:51:05        0.290784        4.5562\n",
      "BFGS:    3 13:51:05        0.341028        7.6801\n",
      "BFGS:    4 13:51:05        0.226994        0.3210\n",
      "BFGS:    5 13:51:05        0.225033        0.2169\n",
      "BFGS:    6 13:51:05        0.223669        0.2993\n",
      "BFGS:    7 13:51:05        0.222835        0.1903\n",
      "BFGS:    8 13:51:05        0.222464        0.0408\n",
      "BFGS:    9 13:51:05        0.222421        0.0092\n",
      "BFGS:   10 13:51:05        0.222418        0.0025\n",
      "      Step     Time          Energy         fmax\n",
      "BFGS:    0 13:51:05        0.367976        9.4323\n",
      "BFGS:    1 13:51:05        4.059734       47.7759\n",
      "BFGS:    2 13:51:05        0.333419        5.3653\n",
      "BFGS:    3 13:51:05        0.452796       10.8041\n",
      "BFGS:    4 13:51:05        0.247446        0.4283\n",
      "BFGS:    5 13:51:05        0.244240        0.2154\n",
      "BFGS:    6 13:51:05        0.242811        0.3500\n",
      "BFGS:    7 13:51:05        0.241822        0.2816\n",
      "BFGS:    8 13:51:05        0.241258        0.0784\n",
      "BFGS:    9 13:51:05        0.241181        0.0149\n",
      "BFGS:   10 13:51:05        0.241175        0.0042\n"
     ]
    },
    {
     "name": "stderr",
     "output_type": "stream",
     "text": [
      " 41%|████▏     | 17/41 [00:01<00:01, 14.53it/s]"
     ]
    },
    {
     "name": "stdout",
     "output_type": "stream",
     "text": [
      "      Step     Time          Energy         fmax\n",
      "BFGS:    0 13:51:05        0.382903        9.5815\n",
      "BFGS:    1 13:51:05        4.293959       49.9046\n",
      "BFGS:    2 13:51:05        0.374875        6.1250\n",
      "BFGS:    3 13:51:05        0.595967       14.3631\n",
      "BFGS:    4 13:51:05        0.264828        0.7909\n",
      "BFGS:    5 13:51:05        0.259683        0.2323\n",
      "BFGS:    6 13:51:05        0.257990        0.3867\n",
      "BFGS:    7 13:51:05        0.256938        0.3621\n",
      "BFGS:    8 13:51:05        0.256121        0.1272\n",
      "BFGS:    9 13:51:05        0.256009        0.0203\n",
      "BFGS:   10 13:51:05        0.255999        0.0053\n",
      "BFGS:   11 13:51:05        0.255999        0.0011\n",
      "      Step     Time          Energy         fmax\n",
      "BFGS:    0 13:51:05        0.393753        9.7048\n",
      "BFGS:    1 13:51:05        4.500979       51.8862\n",
      "BFGS:    2 13:51:05        0.411936        6.7540\n",
      "BFGS:    3 13:51:05        0.751286       17.8277\n",
      "BFGS:    4 13:51:05        0.278741        1.1939\n",
      "BFGS:    5 13:51:05        0.271171        0.3051\n",
      "BFGS:    6 13:51:05        0.269032        0.4205\n",
      "BFGS:    7 13:51:05        0.267948        0.4208\n",
      "BFGS:    8 13:51:05        0.266831        0.1568\n",
      "BFGS:    9 13:51:05        0.266702        0.0229\n",
      "BFGS:   10 13:51:05        0.266691        0.0058\n",
      "BFGS:   11 13:51:05        0.266691        0.0014\n"
     ]
    },
    {
     "name": "stderr",
     "output_type": "stream",
     "text": [
      " 46%|████▋     | 19/41 [00:01<00:01, 14.08it/s]"
     ]
    },
    {
     "name": "stdout",
     "output_type": "stream",
     "text": [
      "      Step     Time          Energy         fmax\n",
      "BFGS:    0 13:51:05        0.400237        9.7947\n",
      "BFGS:    1 13:51:05        4.668717       53.6130\n",
      "BFGS:    2 13:51:05        0.441158        7.2011\n",
      "BFGS:    3 13:51:05        0.884347       20.5581\n",
      "BFGS:    4 13:51:05        0.288372        1.5690\n",
      "BFGS:    5 13:51:05        0.278411        0.4104\n",
      "BFGS:    6 13:51:05        0.275773        0.4480\n",
      "BFGS:    7 13:51:05        0.274669        0.4555\n",
      "BFGS:    8 13:51:05        0.273271        0.1597\n",
      "BFGS:    9 13:51:05        0.273150        0.0228\n",
      "BFGS:   10 13:51:05        0.273140        0.0059\n",
      "BFGS:   11 13:51:05        0.273139        0.0015\n",
      "      Step     Time          Energy         fmax\n",
      "BFGS:    0 13:51:05        0.402408        9.8500\n",
      "BFGS:    1 13:51:05        4.787044       54.9768\n",
      "BFGS:    2 13:51:05        0.459257        7.4289\n",
      "BFGS:    3 13:51:05        0.957031       21.9676\n",
      "BFGS:    4 13:51:05        0.292763        1.8473\n",
      "BFGS:    5 13:51:05        0.281084        0.4966\n",
      "BFGS:    6 13:51:05        0.278086        0.4633\n",
      "BFGS:    7 13:51:05        0.276985        0.4696\n",
      "BFGS:    8 13:51:05        0.275406        0.1472\n",
      "BFGS:    9 13:51:05        0.275303        0.0195\n",
      "BFGS:   10 13:51:05        0.275294        0.0059\n",
      "BFGS:   11 13:51:05        0.275294        0.0014\n"
     ]
    },
    {
     "name": "stderr",
     "output_type": "stream",
     "text": [
      " 51%|█████     | 21/41 [00:01<00:01, 13.75it/s]"
     ]
    },
    {
     "name": "stdout",
     "output_type": "stream",
     "text": [
      "      Step     Time          Energy         fmax\n",
      "BFGS:    0 13:51:05        0.400257        9.8686\n",
      "BFGS:    1 13:51:05        4.848177       55.8938\n",
      "BFGS:    2 13:51:05        0.464084        7.4302\n",
      "BFGS:    3 13:51:05        0.948935       21.8004\n",
      "BFGS:    4 13:51:05        0.291173        1.9842\n",
      "BFGS:    5 13:51:05        0.278924        0.5281\n",
      "BFGS:    6 13:51:05        0.275890        0.4594\n",
      "BFGS:    7 13:51:05        0.274835        0.4640\n",
      "BFGS:    8 13:51:05        0.273238        0.1355\n",
      "BFGS:    9 13:51:05        0.273146        0.0180\n",
      "BFGS:   10 13:51:05        0.273139        0.0060\n",
      "BFGS:   11 13:51:05        0.273140        0.0014\n",
      "      Step     Time          Energy         fmax\n",
      "BFGS:    0 13:51:05        0.393797        9.8500\n",
      "BFGS:    1 13:51:05        4.847696       56.3084\n",
      "BFGS:    2 13:51:05        0.455017        7.2216\n",
      "BFGS:    3 13:51:05        0.866726       20.1940\n",
      "BFGS:    4 13:51:05        0.283433        1.9637\n",
      "BFGS:    5 13:51:05        0.271899        0.4955\n",
      "BFGS:    6 13:51:05        0.269192        0.4340\n",
      "BFGS:    7 13:51:05        0.268232        0.4393\n",
      "BFGS:    8 13:51:05        0.266788        0.1323\n",
      "BFGS:    9 13:51:05        0.266698        0.0181\n",
      "BFGS:   10 13:51:05        0.266691        0.0061\n",
      "BFGS:   11 13:51:05        0.266691        0.0015\n"
     ]
    },
    {
     "name": "stderr",
     "output_type": "stream",
     "text": [
      " 56%|█████▌    | 23/41 [00:01<00:01, 13.55it/s]"
     ]
    },
    {
     "name": "stdout",
     "output_type": "stream",
     "text": [
      "      Step     Time          Energy         fmax\n",
      "BFGS:    0 13:51:05        0.383070        9.7945\n",
      "BFGS:    1 13:51:05        4.785021       56.1955\n",
      "BFGS:    2 13:51:05        0.432993        6.8363\n",
      "BFGS:    3 13:51:05        0.737594       17.5776\n",
      "BFGS:    4 13:51:05        0.270005        1.7982\n",
      "BFGS:    5 13:51:05        0.260244        0.4131\n",
      "BFGS:    6 13:51:05        0.258102        0.3903\n",
      "BFGS:    7 13:51:05        0.257273        0.3975\n",
      "BFGS:    8 13:51:05        0.256101        0.1337\n",
      "BFGS:    9 13:51:05        0.256007        0.0192\n",
      "BFGS:   10 13:51:05        0.255999        0.0064\n",
      "BFGS:   11 13:51:05        0.255999        0.0016\n",
      "      Step     Time          Energy         fmax\n",
      "BFGS:    0 13:51:05        0.368175        9.7042\n",
      "BFGS:    1 13:51:05        4.663617       55.5630\n",
      "BFGS:    2 13:51:05        0.400177        6.3172\n",
      "BFGS:    3 13:51:05        0.593884       14.4857\n",
      "BFGS:    4 13:51:05        0.251780        1.5247\n",
      "BFGS:    5 13:51:05        0.244351        0.3101\n",
      "BFGS:    6 13:51:05        0.242820        0.3353\n",
      "BFGS:    7 13:51:05        0.242138        0.3416\n",
      "BFGS:    8 13:51:05        0.241281        0.1283\n",
      "BFGS:    9 13:51:05        0.241185        0.0204\n",
      "BFGS:   10 13:51:05        0.241175        0.0066\n",
      "BFGS:   11 13:51:05        0.241174        0.0017\n"
     ]
    },
    {
     "name": "stderr",
     "output_type": "stream",
     "text": [
      " 61%|██████    | 25/41 [00:02<00:01, 13.42it/s]"
     ]
    },
    {
     "name": "stdout",
     "output_type": "stream",
     "text": [
      "      Step     Time          Energy         fmax\n",
      "BFGS:    0 13:51:05        0.349296        9.5819\n",
      "BFGS:    1 13:51:05        4.490657       54.4492\n",
      "BFGS:    2 13:51:05        0.359434        5.7110\n",
      "BFGS:    3 13:51:05        0.460321       11.3936\n",
      "BFGS:    4 13:51:05        0.229743        1.1956\n",
      "BFGS:    5 13:51:05        0.224642        0.2188\n",
      "BFGS:    6 13:51:05        0.223625        0.2764\n",
      "BFGS:    7 13:51:05        0.223089        0.2749\n",
      "BFGS:    8 13:51:05        0.222517        0.1080\n",
      "BFGS:    9 13:51:05        0.222428        0.0204\n",
      "BFGS:   10 13:51:05        0.222418        0.0066\n",
      "BFGS:   11 13:51:05        0.222418        0.0017\n",
      "      Step     Time          Energy         fmax\n",
      "BFGS:    0 13:51:05        0.326749        9.4321\n",
      "BFGS:    1 13:51:05        4.276317       52.9196\n",
      "BFGS:    2 13:51:05        0.313792        5.0631\n",
      "BFGS:    3 13:51:05        0.349219        8.6275\n",
      "BFGS:    4 13:51:05        0.204742        0.8660\n",
      "BFGS:    5 13:51:05        0.201550        0.1595\n",
      "BFGS:    6 13:51:05        0.200899        0.2190\n",
      "BFGS:    7 13:51:05        0.200503        0.2023\n",
      "BFGS:    8 13:51:05        0.200146        0.0749\n",
      "BFGS:    9 13:51:05        0.200074        0.0188\n",
      "BFGS:   10 13:51:05        0.200066        0.0064\n",
      "BFGS:   11 13:51:05        0.200065        0.0014\n"
     ]
    },
    {
     "name": "stderr",
     "output_type": "stream",
     "text": [
      " 66%|██████▌   | 27/41 [00:02<00:01, 13.32it/s]"
     ]
    },
    {
     "name": "stdout",
     "output_type": "stream",
     "text": [
      "      Step     Time          Energy         fmax\n",
      "BFGS:    0 13:51:05        0.301034        9.2598\n",
      "BFGS:    1 13:51:05        4.032951       51.0624\n",
      "BFGS:    2 13:51:06        0.266042        4.4143\n",
      "BFGS:    3 13:51:06        0.262444        6.3505\n",
      "BFGS:    4 13:51:06        0.177458        0.5793\n",
      "BFGS:    5 13:51:06        0.175600        0.1293\n",
      "BFGS:    6 13:51:06        0.175185        0.1657\n",
      "BFGS:    7 13:51:06        0.174917        0.1327\n",
      "BFGS:    8 13:51:06        0.174701        0.0451\n",
      "BFGS:    9 13:51:06        0.174648        0.0166\n",
      "BFGS:   10 13:51:06        0.174641        0.0057\n",
      "BFGS:   11 13:51:06        0.174641        0.0010\n",
      "      Step     Time          Energy         fmax\n",
      "BFGS:    0 13:51:06        0.272885        9.0713\n",
      "BFGS:    1 13:51:06        3.774244       48.9841\n",
      "BFGS:    2 13:51:06        0.218534        3.7989\n",
      "BFGS:    3 13:51:06        0.196071        4.5960\n",
      "BFGS:    4 13:51:06        0.148559        0.3599\n",
      "BFGS:    5 13:51:06        0.147513        0.1110\n",
      "BFGS:    6 13:51:06        0.147242        0.1173\n",
      "BFGS:    7 13:51:06        0.147080        0.0769\n",
      "BFGS:    8 13:51:06        0.146946        0.0361\n",
      "BFGS:    9 13:51:06        0.146910        0.0139\n",
      "BFGS:   10 13:51:06        0.146905        0.0045\n"
     ]
    },
    {
     "name": "stderr",
     "output_type": "stream",
     "text": [
      " 71%|███████   | 29/41 [00:02<00:00, 13.42it/s]"
     ]
    },
    {
     "name": "stdout",
     "output_type": "stream",
     "text": [
      "      Step     Time          Energy         fmax\n",
      "BFGS:    0 13:51:06        0.243206        8.8710\n",
      "BFGS:    1 13:51:06        3.513163       46.7999\n",
      "BFGS:    2 13:51:06        0.173130        3.2434\n",
      "BFGS:    3 13:51:06        0.144578        3.3159\n",
      "BFGS:    4 13:51:06        0.118881        0.2149\n",
      "BFGS:    5 13:51:06        0.118278        0.0937\n",
      "BFGS:    6 13:51:06        0.118095        0.0735\n",
      "BFGS:    7 13:51:06        0.118006        0.0443\n",
      "BFGS:    8 13:51:06        0.117920        0.0274\n",
      "BFGS:    9 13:51:06        0.117898        0.0107\n",
      "BFGS:   10 13:51:06        0.117895        0.0027\n",
      "      Step     Time          Energy         fmax\n",
      "BFGS:    0 13:51:06        0.213583        8.6737\n",
      "BFGS:    1 13:51:06        3.267762       44.6556\n",
      "BFGS:    2 13:51:06        0.131457        2.7650\n",
      "BFGS:    3 13:51:06        0.103407        2.4265\n",
      "BFGS:    4 13:51:06        0.089582        0.1412\n",
      "BFGS:    5 13:51:06        0.089197        0.0771\n",
      "BFGS:    6 13:51:06        0.089062        0.0392\n",
      "BFGS:    7 13:51:06        0.089012        0.0342\n",
      "BFGS:    8 13:51:06        0.088949        0.0188\n",
      "BFGS:    9 13:51:06        0.088938        0.0062\n",
      "BFGS:   10 13:51:06        0.088937        0.0009\n"
     ]
    },
    {
     "name": "stderr",
     "output_type": "stream",
     "text": [
      " 76%|███████▌  | 31/41 [00:02<00:00, 13.65it/s]"
     ]
    },
    {
     "name": "stdout",
     "output_type": "stream",
     "text": [
      "      Step     Time          Energy         fmax\n",
      "BFGS:    0 13:51:06        0.185487        8.4849\n",
      "BFGS:    1 13:51:06        3.049601       42.6727\n",
      "BFGS:    2 13:51:06        0.094809        2.3732\n",
      "BFGS:    3 13:51:06        0.069810        1.8347\n",
      "BFGS:    4 13:51:06        0.062104        0.1242\n",
      "BFGS:    5 13:51:06        0.061815        0.0618\n",
      "BFGS:    6 13:51:06        0.061707        0.0317\n",
      "BFGS:    7 13:51:06        0.061672        0.0285\n",
      "BFGS:    8 13:51:06        0.061622        0.0133\n",
      "BFGS:    9 13:51:06        0.061616        0.0037\n",
      "      Step     Time          Energy         fmax\n",
      "BFGS:    0 13:51:06        0.160587        8.3117\n",
      "BFGS:    1 13:51:06        2.868811       40.9584\n",
      "BFGS:    2 13:51:06        0.064411        2.0694\n",
      "BFGS:    3 13:51:06        0.042805        1.4567\n",
      "BFGS:    4 13:51:06        0.038129        0.1322\n",
      "BFGS:    5 13:51:06        0.037874        0.0485\n",
      "BFGS:    6 13:51:06        0.037781        0.0293\n",
      "BFGS:    7 13:51:06        0.037747        0.0265\n",
      "BFGS:    8 13:51:06        0.037704        0.0121\n",
      "BFGS:    9 13:51:06        0.037700        0.0037\n"
     ]
    },
    {
     "name": "stderr",
     "output_type": "stream",
     "text": [
      " 80%|████████  | 33/41 [00:02<00:00, 14.17it/s]"
     ]
    },
    {
     "name": "stdout",
     "output_type": "stream",
     "text": [
      "      Step     Time          Energy         fmax\n",
      "BFGS:    0 13:51:06        0.141023        8.1626\n",
      "BFGS:    1 13:51:06        2.734403       39.5968\n",
      "BFGS:    2 13:51:06        0.041523        1.8427\n",
      "BFGS:    3 13:51:06        0.022698        1.2246\n",
      "BFGS:    4 13:51:06        0.019487        0.1460\n",
      "BFGS:    5 13:51:06        0.019231        0.0398\n",
      "BFGS:    6 13:51:06        0.019143        0.0300\n",
      "BFGS:    7 13:51:06        0.019102        0.0268\n",
      "BFGS:    8 13:51:06        0.019062        0.0135\n",
      "BFGS:    9 13:51:06        0.019055        0.0044\n",
      "      Step     Time          Energy         fmax\n",
      "BFGS:    0 13:51:06        0.128623        8.0403\n",
      "BFGS:    1 13:51:06        2.648529       38.6104\n",
      "BFGS:    2 13:51:06        0.027457        1.6829\n",
      "BFGS:    3 13:51:06        0.010597        1.0892\n",
      "BFGS:    4 13:51:06        0.008072        0.1591\n",
      "BFGS:    5 13:51:06        0.007798        0.0390\n",
      "BFGS:    6 13:51:06        0.007706        0.0328\n",
      "BFGS:    7 13:51:06        0.007650        0.0276\n",
      "BFGS:    8 13:51:06        0.007611        0.0157\n",
      "BFGS:    9 13:51:06        0.007604        0.0048\n"
     ]
    },
    {
     "name": "stderr",
     "output_type": "stream",
     "text": [
      " 85%|████████▌ | 35/41 [00:02<00:00, 14.55it/s]"
     ]
    },
    {
     "name": "stdout",
     "output_type": "stream",
     "text": [
      "      Step     Time          Energy         fmax\n",
      "BFGS:    0 13:51:06        0.125348        7.9448\n",
      "BFGS:    1 13:51:06        2.611235       37.9918\n",
      "BFGS:    2 13:51:06        0.023656        1.5764\n",
      "BFGS:    3 13:51:06        0.008038        1.0169\n",
      "BFGS:    4 13:51:06        0.005812        0.1711\n",
      "BFGS:    5 13:51:06        0.005505        0.0422\n",
      "BFGS:    6 13:51:06        0.005399        0.0376\n",
      "BFGS:    7 13:51:06        0.005320        0.0283\n",
      "BFGS:    8 13:51:06        0.005282        0.0167\n",
      "BFGS:    9 13:51:06        0.005275        0.0043\n",
      "      Step     Time          Energy         fmax\n",
      "BFGS:    0 13:51:06        0.133102        7.8758\n",
      "BFGS:    1 13:51:06        2.622647       37.7279\n",
      "BFGS:    2 13:51:06        0.031632        1.5129\n",
      "BFGS:    3 13:51:06        0.016683        0.9875\n",
      "BFGS:    4 13:51:06        0.014544        0.1830\n",
      "BFGS:    5 13:51:06        0.014186        0.0481\n",
      "BFGS:    6 13:51:06        0.014052        0.0498\n",
      "BFGS:    7 13:51:06        0.013946        0.0302\n",
      "BFGS:    8 13:51:06        0.013907        0.0171\n",
      "BFGS:    9 13:51:06        0.013902        0.0039\n"
     ]
    },
    {
     "name": "stderr",
     "output_type": "stream",
     "text": [
      " 90%|█████████ | 37/41 [00:02<00:00, 14.81it/s]"
     ]
    },
    {
     "name": "stdout",
     "output_type": "stream",
     "text": [
      "      Step     Time          Energy         fmax\n",
      "BFGS:    0 13:51:06        0.153531        7.8346\n",
      "BFGS:    1 13:51:06        2.684728       37.8191\n",
      "BFGS:    2 13:51:06        0.052737        1.4870\n",
      "BFGS:    3 13:51:06        0.037988        0.9912\n",
      "BFGS:    4 13:51:06        0.035797        0.1967\n",
      "BFGS:    5 13:51:06        0.035362        0.0555\n",
      "BFGS:    6 13:51:06        0.035186        0.0641\n",
      "BFGS:    7 13:51:06        0.035051        0.0348\n",
      "BFGS:    8 13:51:06        0.035009        0.0178\n",
      "BFGS:    9 13:51:06        0.035003        0.0039\n",
      "      Step     Time          Energy         fmax\n",
      "BFGS:    0 13:51:06        0.187721        7.8221\n",
      "BFGS:    1 13:51:06        2.800469       38.2760\n",
      "BFGS:    2 13:51:06        0.087866        1.4962\n",
      "BFGS:    3 13:51:06        0.072901        1.0251\n",
      "BFGS:    4 13:51:06        0.070538        0.2134\n",
      "BFGS:    5 13:51:06        0.069997        0.0636\n",
      "BFGS:    6 13:51:06        0.069765        0.0797\n",
      "BFGS:    7 13:51:06        0.069599        0.0393\n",
      "BFGS:    8 13:51:06        0.069550        0.0193\n",
      "BFGS:    9 13:51:06        0.069543        0.0046\n"
     ]
    },
    {
     "name": "stderr",
     "output_type": "stream",
     "text": [
      " 95%|█████████▌| 39/41 [00:02<00:00, 15.02it/s]"
     ]
    },
    {
     "name": "stdout",
     "output_type": "stream",
     "text": [
      "      Step     Time          Energy         fmax\n",
      "BFGS:    0 13:51:06        0.235975        7.8383\n",
      "BFGS:    1 13:51:06        2.973152       39.1121\n",
      "BFGS:    2 13:51:06        0.137249        1.5407\n",
      "BFGS:    3 13:51:06        0.121663        1.0917\n",
      "BFGS:    4 13:51:06        0.119001        0.2343\n",
      "BFGS:    5 13:51:06        0.118327        0.0753\n",
      "BFGS:    6 13:51:06        0.118024        0.0955\n",
      "BFGS:    7 13:51:06        0.117827        0.0440\n",
      "BFGS:    8 13:51:06        0.117768        0.0219\n",
      "BFGS:    9 13:51:06        0.117759        0.0068\n",
      "BFGS:   10 13:51:06        0.117759        0.0018\n",
      "      Step     Time          Energy         fmax\n",
      "BFGS:    0 13:51:06        0.297742        7.8771\n",
      "BFGS:    1 13:51:06        3.201789       40.3101\n",
      "BFGS:    2 13:51:06        0.200392        1.6200\n",
      "BFGS:    3 13:51:06        0.183782        1.1952\n",
      "BFGS:    4 13:51:06        0.180669        0.2595\n",
      "BFGS:    5 13:51:06        0.179838        0.0869\n",
      "BFGS:    6 13:51:06        0.179444        0.1112\n",
      "BFGS:    7 13:51:06        0.179217        0.0488\n",
      "BFGS:    8 13:51:06        0.179144        0.0253\n",
      "BFGS:    9 13:51:06        0.179132        0.0098\n",
      "BFGS:   10 13:51:06        0.179131        0.0027\n"
     ]
    },
    {
     "name": "stderr",
     "output_type": "stream",
     "text": [
      "100%|██████████| 41/41 [00:03<00:00, 13.09it/s]\n"
     ]
    }
   ],
   "source": [
    "device = \"cpu\"\n",
    "\n",
    "opt_traj = []\n",
    "opt_eners = []\n",
    "\n",
    "for target in tqdm(targets):\n",
    "    # this is a list for the class to enable multidimensional PMFs\n",
    "    # definition is the CV definition\n",
    "    # as we do a minimization, there is no CV range, we want to set a minimum value\n",
    "    # ext_k is the force constant in eV/(CV-unit)**2\n",
    "    cv_defs = [\n",
    "        {\n",
    "            \"definition\": info_dict,\n",
    "            \"range\": [target, target],\n",
    "            \"ext_k\": 100.0,\n",
    "            \"type\": \"angle\",\n",
    "        }\n",
    "    ]\n",
    "\n",
    "    # set the calculator, which is the BiasBase class\n",
    "    calculator = BiasBase.from_file(\"models/ammonia/\", cv_defs=cv_defs, directed=True, device=device)\n",
    "    atoms.set_calculator(calculator)\n",
    "\n",
    "    dyn = BFGS(atoms)\n",
    "\n",
    "    dyn.run(fmax=0.005, steps=1000)\n",
    "\n",
    "    opt_traj.append(atoms.copy())\n",
    "    opt_eners.append(atoms.get_potential_energy())\n",
    "\n",
    "opt_eners = np.array(opt_eners)"
   ]
  },
  {
   "cell_type": "code",
   "execution_count": 6,
   "id": "3511bd68",
   "metadata": {},
   "outputs": [
    {
     "data": {
      "application/vnd.jupyter.widget-view+json": {
       "model_id": "036b599c310843d496c7210dbefe9d17",
       "version_major": 2,
       "version_minor": 0
      },
      "text/plain": [
       "NGLWidget(max_frame=40)"
      ]
     },
     "metadata": {},
     "output_type": "display_data"
    }
   ],
   "source": [
    "nv.show_asetraj(opt_traj)"
   ]
  },
  {
   "cell_type": "code",
   "execution_count": 7,
   "id": "5323db5e",
   "metadata": {},
   "outputs": [
    {
     "data": {
      "image/png": "[encoded data removed]",
      "text/plain": [
       "<Figure size 400x300 with 1 Axes>"
      ]
     },
     "metadata": {},
     "output_type": "display_data"
    }
   ],
   "source": [
    "fig, ax = plt.subplots(figsize=(4, 3), layout=\"tight\")\n",
    "\n",
    "ax.plot(targets, opt_eners * units.mol / units.kJ)\n",
    "\n",
    "ax.set_xlabel(r\"$\\varphi$ / radian\")\n",
    "ax.set_ylabel(r\"$E$ / kJ mol$^{-1}$\")\n",
    "\n",
    "fig.show()"
   ]
  },
  {
   "cell_type": "markdown",
   "id": "2b041f60",
   "metadata": {},
   "source": [
    "### Umbrella Sampling"
   ]
  },
  {
   "cell_type": "code",
   "execution_count": 8,
   "id": "61333d05",
   "metadata": {},
   "outputs": [],
   "source": [
    "os.mkdir(\"16_UmbrellaWindows\")"
   ]
  },
  {
   "cell_type": "code",
   "execution_count": 9,
   "id": "fe80b2ea",
   "metadata": {},
   "outputs": [
    {
     "name": "stdout",
     "output_type": "stream",
     "text": [
      "THE RANDOM NUMBER SEED WAS: 113042989\n"
     ]
    },
    {
     "name": "stderr",
     "output_type": "stream",
     "text": [
      "100%|██████████| 100/100 [00:10<00:00,  9.56it/s]\n"
     ]
    },
    {
     "name": "stdout",
     "output_type": "stream",
     "text": [
      "THE RANDOM NUMBER SEED WAS: 2043811463\n"
     ]
    },
    {
     "name": "stderr",
     "output_type": "stream",
     "text": [
      "100%|██████████| 100/100 [00:12<00:00,  8.06it/s]\n"
     ]
    },
    {
     "name": "stdout",
     "output_type": "stream",
     "text": [
      "THE RANDOM NUMBER SEED WAS: 137513178\n"
     ]
    },
    {
     "name": "stderr",
     "output_type": "stream",
     "text": [
      "100%|██████████| 100/100 [00:11<00:00,  8.86it/s]\n"
     ]
    },
    {
     "name": "stdout",
     "output_type": "stream",
     "text": [
      "THE RANDOM NUMBER SEED WAS: 267110630\n"
     ]
    },
    {
     "name": "stderr",
     "output_type": "stream",
     "text": [
      "100%|██████████| 100/100 [00:10<00:00,  9.50it/s]\n"
     ]
    },
    {
     "name": "stdout",
     "output_type": "stream",
     "text": [
      "THE RANDOM NUMBER SEED WAS: 257540073\n"
     ]
    },
    {
     "name": "stderr",
     "output_type": "stream",
     "text": [
      "100%|██████████| 100/100 [00:11<00:00,  8.58it/s]\n"
     ]
    },
    {
     "name": "stdout",
     "output_type": "stream",
     "text": [
      "THE RANDOM NUMBER SEED WAS: 1355340552\n"
     ]
    },
    {
     "name": "stderr",
     "output_type": "stream",
     "text": [
      "100%|██████████| 100/100 [00:10<00:00,  9.47it/s]\n"
     ]
    },
    {
     "name": "stdout",
     "output_type": "stream",
     "text": [
      "THE RANDOM NUMBER SEED WAS: 1404002937\n"
     ]
    },
    {
     "name": "stderr",
     "output_type": "stream",
     "text": [
      "100%|██████████| 100/100 [00:10<00:00,  9.54it/s]\n"
     ]
    },
    {
     "name": "stdout",
     "output_type": "stream",
     "text": [
      "THE RANDOM NUMBER SEED WAS: 296106163\n"
     ]
    },
    {
     "name": "stderr",
     "output_type": "stream",
     "text": [
      "100%|██████████| 100/100 [00:10<00:00,  9.45it/s]\n"
     ]
    },
    {
     "name": "stdout",
     "output_type": "stream",
     "text": [
      "THE RANDOM NUMBER SEED WAS: 622816758\n"
     ]
    },
    {
     "name": "stderr",
     "output_type": "stream",
     "text": [
      "100%|██████████| 100/100 [00:10<00:00,  9.29it/s]\n"
     ]
    },
    {
     "name": "stdout",
     "output_type": "stream",
     "text": [
      "THE RANDOM NUMBER SEED WAS: 1209588813\n"
     ]
    },
    {
     "name": "stderr",
     "output_type": "stream",
     "text": [
      "100%|██████████| 100/100 [00:10<00:00,  9.28it/s]\n"
     ]
    },
    {
     "name": "stdout",
     "output_type": "stream",
     "text": [
      "THE RANDOM NUMBER SEED WAS: 767611337\n"
     ]
    },
    {
     "name": "stderr",
     "output_type": "stream",
     "text": [
      "100%|██████████| 100/100 [00:10<00:00,  9.21it/s]\n"
     ]
    },
    {
     "name": "stdout",
     "output_type": "stream",
     "text": [
      "THE RANDOM NUMBER SEED WAS: 2054799991\n"
     ]
    },
    {
     "name": "stderr",
     "output_type": "stream",
     "text": [
      "100%|██████████| 100/100 [00:10<00:00,  9.31it/s]\n"
     ]
    },
    {
     "name": "stdout",
     "output_type": "stream",
     "text": [
      "THE RANDOM NUMBER SEED WAS: 664755265\n"
     ]
    },
    {
     "name": "stderr",
     "output_type": "stream",
     "text": [
      "100%|██████████| 100/100 [00:10<00:00,  9.22it/s]\n"
     ]
    },
    {
     "name": "stdout",
     "output_type": "stream",
     "text": [
      "THE RANDOM NUMBER SEED WAS: 1042524983\n"
     ]
    },
    {
     "name": "stderr",
     "output_type": "stream",
     "text": [
      "100%|██████████| 100/100 [00:10<00:00,  9.19it/s]\n"
     ]
    },
    {
     "name": "stdout",
     "output_type": "stream",
     "text": [
      "THE RANDOM NUMBER SEED WAS: 1150109360\n"
     ]
    },
    {
     "name": "stderr",
     "output_type": "stream",
     "text": [
      "100%|██████████| 100/100 [00:10<00:00,  9.30it/s]\n"
     ]
    },
    {
     "name": "stdout",
     "output_type": "stream",
     "text": [
      "THE RANDOM NUMBER SEED WAS: 1211337040\n"
     ]
    },
    {
     "name": "stderr",
     "output_type": "stream",
     "text": [
      "100%|██████████| 100/100 [00:10<00:00,  9.49it/s]\n"
     ]
    },
    {
     "name": "stdout",
     "output_type": "stream",
     "text": [
      "THE RANDOM NUMBER SEED WAS: 345511792\n"
     ]
    },
    {
     "name": "stderr",
     "output_type": "stream",
     "text": [
      "100%|██████████| 100/100 [00:10<00:00,  9.48it/s]\n"
     ]
    },
    {
     "name": "stdout",
     "output_type": "stream",
     "text": [
      "THE RANDOM NUMBER SEED WAS: 1348582431\n"
     ]
    },
    {
     "name": "stderr",
     "output_type": "stream",
     "text": [
      "100%|██████████| 100/100 [00:10<00:00,  9.29it/s]\n"
     ]
    },
    {
     "name": "stdout",
     "output_type": "stream",
     "text": [
      "THE RANDOM NUMBER SEED WAS: 127668018\n"
     ]
    },
    {
     "name": "stderr",
     "output_type": "stream",
     "text": [
      "100%|██████████| 100/100 [00:10<00:00,  9.18it/s]\n"
     ]
    },
    {
     "name": "stdout",
     "output_type": "stream",
     "text": [
      "THE RANDOM NUMBER SEED WAS: 1025551563\n"
     ]
    },
    {
     "name": "stderr",
     "output_type": "stream",
     "text": [
      "100%|██████████| 100/100 [00:11<00:00,  9.02it/s]\n"
     ]
    },
    {
     "name": "stdout",
     "output_type": "stream",
     "text": [
      "THE RANDOM NUMBER SEED WAS: 1966512903\n"
     ]
    },
    {
     "name": "stderr",
     "output_type": "stream",
     "text": [
      "100%|██████████| 100/100 [00:10<00:00,  9.39it/s]\n"
     ]
    },
    {
     "name": "stdout",
     "output_type": "stream",
     "text": [
      "THE RANDOM NUMBER SEED WAS: 144394803\n"
     ]
    },
    {
     "name": "stderr",
     "output_type": "stream",
     "text": [
      "100%|██████████| 100/100 [00:10<00:00,  9.18it/s]\n"
     ]
    },
    {
     "name": "stdout",
     "output_type": "stream",
     "text": [
      "THE RANDOM NUMBER SEED WAS: 53301318\n"
     ]
    },
    {
     "name": "stderr",
     "output_type": "stream",
     "text": [
      "100%|██████████| 100/100 [00:10<00:00,  9.26it/s]\n"
     ]
    },
    {
     "name": "stdout",
     "output_type": "stream",
     "text": [
      "THE RANDOM NUMBER SEED WAS: 167092967\n"
     ]
    },
    {
     "name": "stderr",
     "output_type": "stream",
     "text": [
      "100%|██████████| 100/100 [00:10<00:00,  9.36it/s]\n"
     ]
    },
    {
     "name": "stdout",
     "output_type": "stream",
     "text": [
      "THE RANDOM NUMBER SEED WAS: 230700212\n"
     ]
    },
    {
     "name": "stderr",
     "output_type": "stream",
     "text": [
      "100%|██████████| 100/100 [00:10<00:00,  9.49it/s]\n"
     ]
    },
    {
     "name": "stdout",
     "output_type": "stream",
     "text": [
      "THE RANDOM NUMBER SEED WAS: 592337346\n"
     ]
    },
    {
     "name": "stderr",
     "output_type": "stream",
     "text": [
      "100%|██████████| 100/100 [00:11<00:00,  8.43it/s]\n"
     ]
    },
    {
     "name": "stdout",
     "output_type": "stream",
     "text": [
      "THE RANDOM NUMBER SEED WAS: 216251523\n"
     ]
    },
    {
     "name": "stderr",
     "output_type": "stream",
     "text": [
      "100%|██████████| 100/100 [00:12<00:00,  8.32it/s]\n"
     ]
    },
    {
     "name": "stdout",
     "output_type": "stream",
     "text": [
      "THE RANDOM NUMBER SEED WAS: 177126884\n"
     ]
    },
    {
     "name": "stderr",
     "output_type": "stream",
     "text": [
      "100%|██████████| 100/100 [00:11<00:00,  9.02it/s]\n"
     ]
    },
    {
     "name": "stdout",
     "output_type": "stream",
     "text": [
      "THE RANDOM NUMBER SEED WAS: 1995526186\n"
     ]
    },
    {
     "name": "stderr",
     "output_type": "stream",
     "text": [
      "100%|██████████| 100/100 [00:12<00:00,  8.08it/s]\n"
     ]
    },
    {
     "name": "stdout",
     "output_type": "stream",
     "text": [
      "THE RANDOM NUMBER SEED WAS: 1161543067\n"
     ]
    },
    {
     "name": "stderr",
     "output_type": "stream",
     "text": [
      "100%|██████████| 100/100 [00:10<00:00,  9.45it/s]\n"
     ]
    },
    {
     "name": "stdout",
     "output_type": "stream",
     "text": [
      "THE RANDOM NUMBER SEED WAS: 460074953\n"
     ]
    },
    {
     "name": "stderr",
     "output_type": "stream",
     "text": [
      "100%|██████████| 100/100 [00:10<00:00,  9.41it/s]\n"
     ]
    },
    {
     "name": "stdout",
     "output_type": "stream",
     "text": [
      "THE RANDOM NUMBER SEED WAS: 946721196\n"
     ]
    },
    {
     "name": "stderr",
     "output_type": "stream",
     "text": [
      "100%|██████████| 100/100 [00:10<00:00,  9.14it/s]\n"
     ]
    },
    {
     "name": "stdout",
     "output_type": "stream",
     "text": [
      "THE RANDOM NUMBER SEED WAS: 893561934\n"
     ]
    },
    {
     "name": "stderr",
     "output_type": "stream",
     "text": [
      "100%|██████████| 100/100 [00:10<00:00,  9.22it/s]\n"
     ]
    },
    {
     "name": "stdout",
     "output_type": "stream",
     "text": [
      "THE RANDOM NUMBER SEED WAS: 1829541212\n"
     ]
    },
    {
     "name": "stderr",
     "output_type": "stream",
     "text": [
      "100%|██████████| 100/100 [00:10<00:00,  9.25it/s]\n"
     ]
    },
    {
     "name": "stdout",
     "output_type": "stream",
     "text": [
      "THE RANDOM NUMBER SEED WAS: 1315087484\n"
     ]
    },
    {
     "name": "stderr",
     "output_type": "stream",
     "text": [
      "100%|██████████| 100/100 [00:10<00:00,  9.10it/s]\n"
     ]
    },
    {
     "name": "stdout",
     "output_type": "stream",
     "text": [
      "THE RANDOM NUMBER SEED WAS: 652481481\n"
     ]
    },
    {
     "name": "stderr",
     "output_type": "stream",
     "text": [
      "100%|██████████| 100/100 [00:11<00:00,  9.06it/s]\n"
     ]
    },
    {
     "name": "stdout",
     "output_type": "stream",
     "text": [
      "THE RANDOM NUMBER SEED WAS: 3619189\n"
     ]
    },
    {
     "name": "stderr",
     "output_type": "stream",
     "text": [
      "100%|██████████| 100/100 [00:11<00:00,  8.60it/s]\n"
     ]
    },
    {
     "name": "stdout",
     "output_type": "stream",
     "text": [
      "THE RANDOM NUMBER SEED WAS: 1404212356\n"
     ]
    },
    {
     "name": "stderr",
     "output_type": "stream",
     "text": [
      "100%|██████████| 100/100 [00:12<00:00,  7.82it/s]\n"
     ]
    },
    {
     "name": "stdout",
     "output_type": "stream",
     "text": [
      "THE RANDOM NUMBER SEED WAS: 311777114\n"
     ]
    },
    {
     "name": "stderr",
     "output_type": "stream",
     "text": [
      "100%|██████████| 100/100 [00:12<00:00,  7.83it/s]\n"
     ]
    },
    {
     "name": "stdout",
     "output_type": "stream",
     "text": [
      "THE RANDOM NUMBER SEED WAS: 553524710\n"
     ]
    },
    {
     "name": "stderr",
     "output_type": "stream",
     "text": [
      "100%|██████████| 100/100 [00:11<00:00,  8.76it/s]\n"
     ]
    },
    {
     "name": "stdout",
     "output_type": "stream",
     "text": [
      "THE RANDOM NUMBER SEED WAS: 1474238291\n"
     ]
    },
    {
     "name": "stderr",
     "output_type": "stream",
     "text": [
      "100%|██████████| 100/100 [00:10<00:00,  9.24it/s]\n"
     ]
    }
   ],
   "source": [
    "# sequential simulation of umbrella windows\n",
    "# for larger systems this is not effective,\n",
    "# the strength of umbr sampl is the parallelization\n",
    "for ii, target in enumerate(targets):\n",
    "    # this is a list for the class to enable multidimensional PMFs\n",
    "    # definition is the CV definition\n",
    "    # as we do a minimization, there is no CV range, we want to set a minimum value\n",
    "    # ext_sigma is the thermal coupling width,\n",
    "    # which will translate into a force constant depending on the temperature\n",
    "    cv_defs = [\n",
    "        {\n",
    "            \"definition\": info_dict,\n",
    "            \"range\": [target, target],\n",
    "            \"ext_sigma\": dval / 2,\n",
    "            \"type\": \"angle\",\n",
    "        }\n",
    "    ]\n",
    "\n",
    "    # set the calculator, which is the BiasBase class\n",
    "    calculator = BiasBase.from_file(\"models/ammonia/\", cv_defs=cv_defs, directed=True, device=device)\n",
    "    atoms = AtomsBatch.from_atoms(opt_traj[ii])\n",
    "    atoms.set_calculator(calculator)\n",
    "\n",
    "    dyn = Langevin(\n",
    "        atoms,\n",
    "        timestep=0.5,\n",
    "        temperature=300.0,\n",
    "        friction_per_ps=1.0,\n",
    "        maxwell_temp=300.0,\n",
    "        logfile=f\"16_UmbrellaWindows/window_{ii:02d}.log\",\n",
    "        trajectory=f\"16_UmbrellaWindows/window_{ii:02d}.traj\",\n",
    "    )\n",
    "\n",
    "    dyn.attach(\n",
    "        BiasedNeuralMDLogger(dyn, atoms, f\"16_UmbrellaWindows/window_{ii:02d}_ext.log\", header=True, mode=\"w\"),\n",
    "        interval=4,\n",
    "    )\n",
    "    # For ammonia 1ps per window should be enough\n",
    "    dyn.run(steps=2000)"
   ]
  },
  {
   "cell_type": "markdown",
   "id": "f9194baf",
   "metadata": {},
   "source": [
    "### Analysis of the data"
   ]
  },
  {
   "cell_type": "code",
   "execution_count": 10,
   "id": "14d0b467",
   "metadata": {},
   "outputs": [],
   "source": [
    "# How to load the data\n",
    "trajs = []\n",
    "meta_f = np.zeros(shape=(len(targets), 3))\n",
    "for ii in range(len(targets)):\n",
    "    data = np.genfromtxt(f\"16_UmbrellaWindows/window_{ii:02d}_ext.log\", skip_header=1)\n",
    "    trajs.append(data[:, 4])\n",
    "\n",
    "# The targets can also be read from the log files\n",
    "meta_f[:, 1] = targets\n",
    "# since we used ext_sigma and not ext_k, we need to calculate the k\n",
    "# k = (RT)/(sigma**2)\n",
    "meta_f[:, 2] = (8.314 * 300.0 / 1000.0) / ((dval / 2) ** 2)\n",
    "\n",
    "all_frames = trajs[0]\n",
    "for traj in trajs[1:]:\n",
    "    all_frames = np.concatenate((all_frames, traj))"
   ]
  },
  {
   "cell_type": "code",
   "execution_count": 11,
   "id": "84cca083",
   "metadata": {},
   "outputs": [
    {
     "data": {
      "image/png": "[encoded data removed]",
      "text/plain": [
       "<Figure size 400x250 with 1 Axes>"
      ]
     },
     "metadata": {},
     "output_type": "display_data"
    }
   ],
   "source": [
    "fig, ax = plt.subplots(figsize=(4, 2.5), layout=\"tight\")\n",
    "\n",
    "for traj, target in zip(trajs, targets):\n",
    "    ax.hist(traj, alpha=0.5, bins=50, range=(target - 3 * dval, target + 3 * dval))\n",
    "\n",
    "ax.set_xlabel(r\"$\\varphi$ / radian\")\n",
    "ax.set_ylabel(r\"density\")\n",
    "\n",
    "fig.show()"
   ]
  },
  {
   "cell_type": "code",
   "execution_count": 12,
   "id": "52031771",
   "metadata": {},
   "outputs": [
    {
     "name": "stdout",
     "output_type": "stream",
     "text": [
      "Making Boltzmann factors\n",
      "\n",
      "All ready!\n",
      "\n",
      "Start of the self-consistent iteration.\n",
      "========================================================================\n",
      "Iter    1:\tConv=  0.9183356862\tConv_errvec=    170.766879\n",
      "Iter   50:\tConv=  0.0327605081\tConv_errvec=     16.509416\n",
      "Iter  100:\tConv=  0.0300629642\tConv_errvec=      9.949883\n",
      "Iter  150:\tConv=  0.0223372041\tConv_errvec=      6.364216\n",
      "Iter  200:\tConv=  0.0164014382\tConv_errvec=      4.384515\n",
      "Iter  250:\tConv=  0.0120437215\tConv_errvec=      3.138257\n",
      "Iter  300:\tConv=  0.0088464227\tConv_errvec=      2.282977\n",
      "Iter  350:\tConv=  0.0064982921\tConv_errvec=      1.671512\n",
      "Iter  400:\tConv=  0.0047731212\tConv_errvec=      1.226830\n",
      "Iter  450:\tConv=  0.0035055072\tConv_errvec=      0.901258\n",
      "Iter  500:\tConv=  0.0025741021\tConv_errvec=      0.662285\n",
      "Iter  550:\tConv=  0.0018897674\tConv_errvec=      0.486716\n",
      "Iter  600:\tConv=  0.0013869985\tConv_errvec=      0.357690\n",
      "Iter  650:\tConv=  0.0010176537\tConv_errvec=      0.262862\n",
      "Iter  700:\tConv=  0.0007463521\tConv_errvec=      0.193168\n",
      "Iter  750:\tConv=  0.0005470920\tConv_errvec=      0.141949\n",
      "Iter  800:\tConv=  0.0004007652\tConv_errvec=      0.104307\n",
      "Iter  850:\tConv=  0.0002933297\tConv_errvec=      0.076645\n",
      "Iter  900:\tConv=  0.0002144669\tConv_errvec=      0.056832\n",
      "Iter  950:\tConv=  0.0001565946\tConv_errvec=      0.042256\n",
      "Iter 1000:\tConv=  0.0001141413\tConv_errvec=      0.031509\n",
      "Iter 1050:\tConv=  0.0000830131\tConv_errvec=      0.023578\n",
      "Iter 1100:\tConv=  0.0000602021\tConv_errvec=      0.017719\n",
      "Iter 1150:\tConv=  0.0000434984\tConv_errvec=      0.013385\n",
      "Iter 1200:\tConv=  0.0000312888\tConv_errvec=      0.010173\n",
      "Iter 1250:\tConv=  0.0000224008\tConv_errvec=      0.007788\n",
      "Iter 1300:\tConv=  0.0000159129\tConv_errvec=      0.006012\n",
      "Iter 1350:\tConv=  0.0000111857\tConv_errvec=      0.004686\n",
      "Iter 1400:\tConv=  0.0000077658\tConv_errvec=      0.003692\n",
      "Iter 1450:\tConv=  0.0000053089\tConv_errvec=      0.002944\n",
      "Iter 1500:\tConv=  0.0000041964\tConv_errvec=      0.002376\n",
      "Iter 1550:\tConv=  0.0000038766\tConv_errvec=      0.001944\n",
      "Iter 1600:\tConv=  0.0000035833\tConv_errvec=      0.001612\n",
      "Iter 1650:\tConv=  0.0000033139\tConv_errvec=      0.001354\n",
      "Iter 1700:\tConv=  0.0000030658\tConv_errvec=      0.001152\n",
      "Iter 1750:\tConv=  0.0000028372\tConv_errvec=      0.000992\n",
      "Iter 1800:\tConv=  0.0000026263\tConv_errvec=      0.000864\n",
      "Iter 1850:\tConv=  0.0000024316\tConv_errvec=      0.000760\n",
      "Iter 1900:\tConv=  0.0000022516\tConv_errvec=      0.000674\n",
      "Iter 1950:\tConv=  0.0000020852\tConv_errvec=      0.000603\n",
      "Iter 2000:\tConv=  0.0000019313\tConv_errvec=      0.000543\n",
      "Iter 2050:\tConv=  0.0000017889\tConv_errvec=      0.000491\n",
      "Iter 2100:\tConv=  0.0000016570\tConv_errvec=      0.000446\n",
      "Iter 2150:\tConv=  0.0000015350\tConv_errvec=      0.000407\n",
      "Iter 2200:\tConv=  0.0000014220\tConv_errvec=      0.000372\n",
      "Iter 2250:\tConv=  0.0000013174\tConv_errvec=      0.000342\n",
      "Iter 2300:\tConv=  0.0000012205\tConv_errvec=      0.000314\n",
      "Iter 2350:\tConv=  0.0000011307\tConv_errvec=      0.000289\n",
      "Iter 2400:\tConv=  0.0000010476\tConv_errvec=      0.000266\n",
      "========================================================================\n",
      "Converged after 2431 iterations!\n",
      "Max error vector: 0.0002534174385004917\n",
      "========================================================================\n"
     ]
    }
   ],
   "source": [
    "# Get the unbiased weights with MBAR\n",
    "W = mbar.run_mbar(traj_list=trajs, meta_f=meta_f, max_iter=int(1e6), conv=1.0e-6, outfreq=50, equil_temp=300.0)"
   ]
  },
  {
   "cell_type": "code",
   "execution_count": 13,
   "id": "19e7ddca",
   "metadata": {},
   "outputs": [],
   "source": [
    "# grid for PMF, let's make it a bit finer than the window placements\n",
    "minimum = all_frames.min()\n",
    "maximum = all_frames.max()\n",
    "bin_width = dval / 2\n",
    "grid = np.arange(minimum, maximum, bin_width)"
   ]
  },
  {
   "cell_type": "code",
   "execution_count": 14,
   "id": "0747c49e",
   "metadata": {},
   "outputs": [],
   "source": [
    "pmf, rho = mbar.pmf_from_weights(grid, all_frames, W, equil_temp=300.0)"
   ]
  },
  {
   "cell_type": "code",
   "execution_count": 15,
   "id": "ad80445b",
   "metadata": {},
   "outputs": [
    {
     "data": {
      "image/png": "[encoded data removed]",
      "text/plain": [
       "<Figure size 400x300 with 1 Axes>"
      ]
     },
     "metadata": {},
     "output_type": "display_data"
    }
   ],
   "source": [
    "# even though these simulations are a bit of overkill,\n",
    "# the PMF looks suprisingly poor\n",
    "fig, ax = plt.subplots(figsize=(4, 3), layout=\"tight\")\n",
    "\n",
    "ax.plot(grid, pmf)\n",
    "\n",
    "ax.set_xlabel(r\"$z$\")\n",
    "ax.set_ylabel(r\"$A(z)$ / kJ mol$^{-1}$\")\n",
    "\n",
    "fig.show()"
   ]
  }
 ],
 "metadata": {
  "kernelspec": {
   "display_name": "vssr-mc",
   "language": "python",
   "name": "python3"
  },
  "language_info": {
   "codemirror_mode": {
    "name": "ipython",
    "version": 3
   },
   "file_extension": ".py",
   "mimetype": "text/x-python",
   "name": "python",
   "nbconvert_exporter": "python",
   "pygments_lexer": "ipython3",
   "version": "3.11.8"
  }
 },
 "nbformat": 4,
 "nbformat_minor": 5
}
