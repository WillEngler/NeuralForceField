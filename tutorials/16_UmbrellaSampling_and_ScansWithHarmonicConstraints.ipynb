{
 "cells": [
  {
   "cell_type": "markdown",
   "id": "65f762f7",
   "metadata": {},
   "source": [
    "# Usage of BiasBase class\n",
    "### a) Relaxed scans along any CV\n",
    "### b) Umbrella sampling \n",
    "\n",
    "To analyse the umbrella sampling results, please install \n",
    "https://github.com/ochsenfeld-lab/adaptive_sampling"
   ]
  },
  {
   "cell_type": "markdown",
   "id": "62d0a9de",
   "metadata": {},
   "source": [
    "### Imports"
   ]
  },
  {
   "cell_type": "code",
   "execution_count": 1,
   "id": "b36499b0",
   "metadata": {},
   "outputs": [],
   "source": [
    "path_to_adaptivesampling = \"/home/jdiet/AdvSampl\""
   ]
  },
  {
   "cell_type": "code",
   "execution_count": 36,
   "id": "b7206dc9",
   "metadata": {},
   "outputs": [],
   "source": [
    "import os\n",
    "import sys\n",
    "sys.path.append(path_to_adaptivesampling)"
   ]
  },
  {
   "cell_type": "code",
   "execution_count": 3,
   "id": "e07d63d5",
   "metadata": {},
   "outputs": [],
   "source": [
    "import numpy as np\n",
    "import matplotlib.pyplot as plt\n",
    "\n",
    "from ase import Atoms\n",
    "\n",
    "from nff.train import load_model\n",
    "from ase import units\n",
    "from nff.io.ase import AtomsBatch\n",
    "from nff.io.ase_calcs import NeuralFF"
   ]
  },
  {
   "cell_type": "code",
   "execution_count": 4,
   "id": "b95b1265",
   "metadata": {},
   "outputs": [
    {
     "data": {
      "application/vnd.jupyter.widget-view+json": {
       "model_id": "cf4cb6534be541c79f34e1661527f4a7",
       "version_major": 2,
       "version_minor": 0
      },
      "text/plain": []
     },
     "metadata": {},
     "output_type": "display_data"
    }
   ],
   "source": [
    "from ase.io import Trajectory as trajectory\n",
    "from ase.io import write, read\n",
    "import nglview as nv\n",
    "from tqdm import tqdm"
   ]
  },
  {
   "cell_type": "code",
   "execution_count": 5,
   "id": "0309eb17",
   "metadata": {},
   "outputs": [],
   "source": [
    "from nff.md.nvt import Langevin\n",
    "from nff.md.colvars import ColVar\n",
    "from nff.io.bias_calculators import BiasBase\n",
    "from nff.md.utils import BiasedNeuralMDLogger\n",
    "from ase.optimize import BFGS"
   ]
  },
  {
   "cell_type": "code",
   "execution_count": 6,
   "id": "6926322f",
   "metadata": {},
   "outputs": [],
   "source": [
    "from adaptive_sampling.processing_tools import mbar"
   ]
  },
  {
   "cell_type": "code",
   "execution_count": 7,
   "id": "a1797759",
   "metadata": {},
   "outputs": [],
   "source": [
    "# allow the use of LaTeX rendering and allow for serif\n",
    "plt.rc(\"text\", usetex=True)\n",
    "plt.rc(\"font\", family=\"serif\")"
   ]
  },
  {
   "cell_type": "markdown",
   "id": "a91ff258",
   "metadata": {},
   "source": [
    "### Loading the sarting structure"
   ]
  },
  {
   "cell_type": "code",
   "execution_count": 22,
   "id": "2d5d844f",
   "metadata": {},
   "outputs": [],
   "source": [
    "start_geom = read(\"models/ammonia/Ammonia.xyz\")"
   ]
  },
  {
   "cell_type": "code",
   "execution_count": 23,
   "id": "73b92d84",
   "metadata": {},
   "outputs": [
    {
     "name": "stdout",
     "output_type": "stream",
     "text": [
      "Start value: 36.932241080713766 degrees = 0.6445892069987641 radians\n"
     ]
    }
   ],
   "source": [
    "# central dictionray for the ColVar class\n",
    "# in this tutorial we will use the improper dihedral of ammonia\n",
    "info_dict = {'name': 'dihedral',\n",
    "             'index_list': [0, 1, 2, 3], }\n",
    "\n",
    "atoms = AtomsBatch.from_atoms(start_geom,\n",
    "                              )\n",
    "\n",
    "# use the distance of the scan for center of umbrella window\n",
    "CV = ColVar(info_dict)\n",
    "cv, cv_grad = CV(atoms)\n",
    "\n",
    "print(f\"Start value: {cv*180/np.pi} degrees = {cv} radians\")"
   ]
  },
  {
   "cell_type": "markdown",
   "id": "446a594c",
   "metadata": {},
   "source": [
    "### The scan"
   ]
  },
  {
   "cell_type": "code",
   "execution_count": 54,
   "id": "666ab474",
   "metadata": {},
   "outputs": [],
   "source": [
    "# the cv is in radians -1 to 1 is a decent choice\n",
    "min_val = -1.0\n",
    "max_val = 1.0\n",
    "dval = 0.05  # step between minimizations\n",
    "targets = np.arange(min_val, max_val+dval, dval)"
   ]
  },
  {
   "cell_type": "code",
   "execution_count": 25,
   "id": "e730814c",
   "metadata": {},
   "outputs": [
    {
     "name": "stderr",
     "output_type": "stream",
     "text": [
      "\r\n",
      "  0%|          | 0/41 [00:00<?, ?it/s]"
     ]
    },
    {
     "name": "stdout",
     "output_type": "stream",
     "text": [
      "      Step     Time          Energy         fmax\n",
      "BFGS:    0 15:10:46      135.274872      269.2839\n",
      "BFGS:    1 15:10:46       75.441132      172.1286\n",
      "BFGS:    2 15:10:46       34.186176      138.6160\n",
      "BFGS:    3 15:10:46        6.183031       59.6669\n",
      "BFGS:    4 15:10:46        1.157730       23.9854\n",
      "BFGS:    5 15:10:46        0.311247        3.8004\n",
      "BFGS:    6 15:10:46        0.231852        1.3560\n",
      "BFGS:    7 15:10:46        0.193721        0.5203\n",
      "BFGS:    8 15:10:46        0.192201        0.5462\n",
      "BFGS:    9 15:10:46        0.183811        0.6466\n",
      "BFGS:   10 15:10:46        0.181561        0.4909\n",
      "BFGS:   11 15:10:46        0.179318        0.1061\n",
      "BFGS:   12 15:10:46        0.179141        0.0167\n",
      "BFGS:   13 15:10:46        0.179132        0.0046\n"
     ]
    },
    {
     "name": "stderr",
     "output_type": "stream",
     "text": [
      "\r\n",
      "  2%|▏         | 1/41 [00:00<00:05,  6.79it/s]"
     ]
    },
    {
     "name": "stdout",
     "output_type": "stream",
     "text": [
      "      Step     Time          Energy         fmax\n",
      "BFGS:    0 15:10:46        0.236670        7.9460\n",
      "BFGS:    1 15:10:46        3.132580       40.8899\n",
      "BFGS:    2 15:10:46        0.134008        1.8376\n",
      "BFGS:    3 15:10:46        0.120068        1.0633\n",
      "BFGS:    4 15:10:46        0.117956        0.1046\n",
      "BFGS:    5 15:10:46        0.117878        0.0410\n",
      "BFGS:    6 15:10:46        0.117795        0.0301\n",
      "BFGS:    7 15:10:46        0.117769        0.0293\n",
      "BFGS:    8 15:10:46        0.117760        0.0090\n",
      "BFGS:    9 15:10:46        0.117760        0.0022\n",
      "      Step     Time          Energy         fmax\n",
      "BFGS:    0 15:10:46        0.187839        7.8743\n",
      "BFGS:    1 15:10:46        2.906069       39.5176\n",
      "BFGS:    2 15:10:46        0.083307        1.6682\n",
      "BFGS:    3 15:10:46        0.071290        0.9027\n",
      "BFGS:    4 15:10:46        0.069771        0.0995\n",
      "BFGS:    5 15:10:46        0.069686        0.0375\n",
      "BFGS:    6 15:10:46        0.069574        0.0450\n",
      "BFGS:    7 15:10:46        0.069550        0.0311\n",
      "BFGS:    8 15:10:46        0.069544        0.0060\n",
      "BFGS:    9 15:10:46        0.069543        0.0015\n"
     ]
    },
    {
     "name": "stderr",
     "output_type": "stream",
     "text": [
      "\r\n",
      "  7%|▋         | 3/41 [00:00<00:03, 10.57it/s]"
     ]
    },
    {
     "name": "stdout",
     "output_type": "stream",
     "text": [
      "      Step     Time          Energy         fmax\n",
      "BFGS:    0 15:10:46        0.153181        7.8333\n",
      "BFGS:    1 15:10:46        2.734924       38.4386\n",
      "BFGS:    2 15:10:46        0.046921        1.5410\n",
      "BFGS:    3 15:10:46        0.036460        0.7844\n",
      "BFGS:    4 15:10:46        0.035300        0.0980\n",
      "BFGS:    5 15:10:46        0.035192        0.0396\n",
      "BFGS:    6 15:10:46        0.035033        0.0601\n",
      "BFGS:    7 15:10:46        0.035010        0.0323\n",
      "BFGS:    8 15:10:46        0.035003        0.0047\n",
      "      Step     Time          Energy         fmax\n",
      "BFGS:    0 15:10:46        0.132324        7.8161\n",
      "BFGS:    1 15:10:46        2.611789       37.6169\n",
      "BFGS:    2 15:10:46        0.024465        1.4538\n",
      "BFGS:    3 15:10:46        0.015255        0.6980\n",
      "BFGS:    4 15:10:46        0.014300        0.0987\n",
      "BFGS:    5 15:10:46        0.014154        0.0468\n",
      "BFGS:    6 15:10:46        0.013935        0.0764\n",
      "BFGS:    7 15:10:46        0.013909        0.0357\n",
      "BFGS:    8 15:10:47        0.013902        0.0042\n"
     ]
    },
    {
     "name": "stderr",
     "output_type": "stream",
     "text": [
      "\r\n",
      " 12%|█▏        | 5/41 [00:00<00:02, 12.29it/s]"
     ]
    },
    {
     "name": "stdout",
     "output_type": "stream",
     "text": [
      "      Step     Time          Energy         fmax\n",
      "BFGS:    0 15:10:47        0.124318        7.8306\n",
      "BFGS:    1 15:10:47        2.536058       37.0539\n",
      "BFGS:    2 15:10:47        0.014936        1.4011\n",
      "BFGS:    3 15:10:47        0.006679        0.6426\n",
      "BFGS:    4 15:10:47        0.005810        0.1030\n",
      "BFGS:    5 15:10:47        0.005607        0.0543\n",
      "BFGS:    6 15:10:47        0.005322        0.0961\n",
      "BFGS:    7 15:10:47        0.005284        0.0431\n",
      "BFGS:    8 15:10:47        0.005276        0.0048\n",
      "      Step     Time          Energy         fmax\n",
      "BFGS:    0 15:10:47        0.127464        7.8713\n",
      "BFGS:    1 15:10:47        2.501063       36.7129\n",
      "BFGS:    2 15:10:47        0.016793        1.3828\n",
      "BFGS:    3 15:10:47        0.009189        0.6187\n",
      "BFGS:    4 15:10:47        0.008306        0.1107\n",
      "BFGS:    5 15:10:47        0.008030        0.0620\n",
      "BFGS:    6 15:10:47        0.007671        0.1153\n",
      "BFGS:    7 15:10:47        0.007615        0.0519\n",
      "BFGS:    8 15:10:47        0.007605        0.0057\n",
      "BFGS:    9 15:10:47        0.007604        0.0014\n"
     ]
    },
    {
     "name": "stderr",
     "output_type": "stream",
     "text": [
      "\r\n",
      " 17%|█▋        | 7/41 [00:00<00:02, 12.81it/s]"
     ]
    },
    {
     "name": "stdout",
     "output_type": "stream",
     "text": [
      "      Step     Time          Energy         fmax\n",
      "BFGS:    0 15:10:47        0.139864        7.9433\n",
      "BFGS:    1 15:10:47        2.506310       36.6002\n",
      "BFGS:    2 15:10:47        0.028278        1.3999\n",
      "BFGS:    3 15:10:47        0.020973        0.6347\n",
      "BFGS:    4 15:10:47        0.019965        0.1230\n",
      "BFGS:    5 15:10:47        0.019603        0.0743\n",
      "BFGS:    6 15:10:47        0.019150        0.1315\n",
      "BFGS:    7 15:10:47        0.019070        0.0605\n",
      "BFGS:    8 15:10:47        0.019056        0.0068\n",
      "BFGS:    9 15:10:47        0.019055        0.0014\n",
      "      Step     Time          Energy         fmax\n",
      "BFGS:    0 15:10:47        0.159471        8.0396\n",
      "BFGS:    1 15:10:47        2.548075       36.7114\n",
      "BFGS:    2 15:10:47        0.047549        1.4630\n",
      "BFGS:    3 15:10:47        0.040146        0.7016\n",
      "BFGS:    4 15:10:47        0.038855        0.1384\n",
      "BFGS:    5 15:10:47        0.038411        0.0828\n",
      "BFGS:    6 15:10:47        0.037824        0.1434\n",
      "BFGS:    7 15:10:47        0.037719        0.0673\n",
      "BFGS:    8 15:10:47        0.037700        0.0075\n",
      "BFGS:    9 15:10:47        0.037699        0.0015\n"
     ]
    },
    {
     "name": "stderr",
     "output_type": "stream",
     "text": [
      "\r\n",
      " 22%|██▏       | 9/41 [00:00<00:02, 12.96it/s]"
     ]
    },
    {
     "name": "stdout",
     "output_type": "stream",
     "text": [
      "      Step     Time          Energy         fmax\n",
      "BFGS:    0 15:10:47        0.184332        8.1633\n",
      "BFGS:    1 15:10:47        2.627866       37.0810\n",
      "BFGS:    2 15:10:47        0.072882        1.5842\n",
      "BFGS:    3 15:10:47        0.064941        0.8433\n",
      "BFGS:    4 15:10:47        0.063064        0.1561\n",
      "BFGS:    5 15:10:47        0.062545        0.0907\n",
      "BFGS:    6 15:10:47        0.061767        0.1493\n",
      "BFGS:    7 15:10:47        0.061641        0.0701\n",
      "BFGS:    8 15:10:47        0.061617        0.0074\n",
      "BFGS:    9 15:10:47        0.061616        0.0016\n",
      "      Step     Time          Energy         fmax\n",
      "BFGS:    0 15:10:47        0.212569        8.3135\n",
      "BFGS:    1 15:10:47        2.746790       37.7475\n",
      "BFGS:    2 15:10:47        0.102723        1.7841\n",
      "BFGS:    3 15:10:47        0.093854        1.1021\n",
      "BFGS:    4 15:10:47        0.090716        0.1727\n",
      "BFGS:    5 15:10:47        0.090128        0.1035\n",
      "BFGS:    6 15:10:47        0.089098        0.1421\n",
      "BFGS:    7 15:10:47        0.088966        0.0643\n",
      "BFGS:    8 15:10:47        0.088938        0.0059\n",
      "BFGS:    9 15:10:47        0.088937        0.0016\n"
     ]
    },
    {
     "name": "stderr",
     "output_type": "stream",
     "text": [
      "\r\n",
      " 27%|██▋       | 11/41 [00:00<00:02, 13.04it/s]"
     ]
    },
    {
     "name": "stdout",
     "output_type": "stream",
     "text": [
      "      Step     Time          Energy         fmax\n",
      "BFGS:    0 15:10:47        0.242380        8.4869\n",
      "BFGS:    1 15:10:47        2.904392       38.7396\n",
      "BFGS:    2 15:10:47        0.135826        2.0872\n",
      "BFGS:    3 15:10:47        0.126026        1.5497\n",
      "BFGS:    4 15:10:47        0.120030        0.1826\n",
      "BFGS:    5 15:10:47        0.119362        0.1243\n",
      "BFGS:    6 15:10:47        0.118065        0.1166\n",
      "BFGS:    7 15:10:47        0.117928        0.0511\n",
      "BFGS:    8 15:10:47        0.117896        0.0044\n",
      "      Step     Time          Energy         fmax\n",
      "BFGS:    0 15:10:47        0.272102        8.6761\n",
      "BFGS:    1 15:10:47        3.098192       40.0717\n",
      "BFGS:    2 15:10:47        0.171420        2.5215\n",
      "BFGS:    3 15:10:47        0.162023        2.2966\n",
      "BFGS:    4 15:10:47        0.149403        0.1761\n",
      "BFGS:    5 15:10:47        0.148630        0.1513\n",
      "BFGS:    6 15:10:47        0.147130        0.0758\n",
      "BFGS:    7 15:10:47        0.146955        0.0451\n",
      "BFGS:    8 15:10:47        0.146906        0.0048\n"
     ]
    },
    {
     "name": "stderr",
     "output_type": "stream",
     "text": [
      "\r\n",
      " 32%|███▏      | 13/41 [00:01<00:02, 13.49it/s]"
     ]
    },
    {
     "name": "stdout",
     "output_type": "stream",
     "text": [
      "      Step     Time          Energy         fmax\n",
      "BFGS:    0 15:10:47        0.300434        8.8748\n",
      "BFGS:    1 15:10:47        3.320655       41.7050\n",
      "BFGS:    2 15:10:47        0.209205        3.0901\n",
      "BFGS:    3 15:10:47        0.204971        3.4795\n",
      "BFGS:    4 15:10:47        0.177569        0.1913\n",
      "BFGS:    5 15:10:47        0.176622        0.1805\n",
      "BFGS:    6 15:10:47        0.175065        0.0903\n",
      "BFGS:    7 15:10:47        0.174745        0.0563\n",
      "BFGS:    8 15:10:47        0.174645        0.0115\n",
      "BFGS:    9 15:10:47        0.174641        0.0021\n",
      "      Step     Time          Energy         fmax\n",
      "BFGS:    0 15:10:47        0.326322        9.0721\n",
      "BFGS:    1 15:10:47        3.560904       43.5734\n",
      "BFGS:    2 15:10:47        0.249064        3.7780\n",
      "BFGS:    3 15:10:47        0.261389        5.2362\n",
      "BFGS:    4 15:10:47        0.203620        0.2423\n",
      "BFGS:    5 15:10:47        0.202334        0.2053\n",
      "BFGS:    6 15:10:47        0.200878        0.2106\n",
      "BFGS:    7 15:10:47        0.200298        0.0950\n",
      "BFGS:    8 15:10:47        0.200083        0.0249\n",
      "BFGS:    9 15:10:47        0.200066        0.0058\n",
      "BFGS:   10 15:10:47        0.200065        0.0008\n"
     ]
    },
    {
     "name": "stderr",
     "output_type": "stream",
     "text": [
      "\r\n",
      " 37%|███▋      | 15/41 [00:01<00:01, 13.13it/s]"
     ]
    },
    {
     "name": "stdout",
     "output_type": "stream",
     "text": [
      "      Step     Time          Energy         fmax\n",
      "BFGS:    0 15:10:47        0.349035        9.2607\n",
      "BFGS:    1 15:10:47        3.811039       45.6261\n",
      "BFGS:    2 15:10:47        0.290784        4.5562\n",
      "BFGS:    3 15:10:47        0.341028        7.6801\n",
      "BFGS:    4 15:10:47        0.226994        0.3210\n",
      "BFGS:    5 15:10:47        0.225034        0.2169\n",
      "BFGS:    6 15:10:47        0.223669        0.2993\n",
      "BFGS:    7 15:10:47        0.222836        0.1903\n",
      "BFGS:    8 15:10:47        0.222464        0.0408\n",
      "BFGS:    9 15:10:47        0.222421        0.0092\n",
      "BFGS:   10 15:10:47        0.222418        0.0025\n",
      "      Step     Time          Energy         fmax\n",
      "BFGS:    0 15:10:47        0.367976        9.4323\n",
      "BFGS:    1 15:10:47        4.059730       47.7759\n",
      "BFGS:    2 15:10:47        0.333419        5.3653\n",
      "BFGS:    3 15:10:47        0.452796       10.8040\n",
      "BFGS:    4 15:10:47        0.247446        0.4283\n",
      "BFGS:    5 15:10:47        0.244240        0.2154\n",
      "BFGS:    6 15:10:47        0.242811        0.3500\n",
      "BFGS:    7 15:10:47        0.241822        0.2816\n",
      "BFGS:    8 15:10:47        0.241259        0.0784\n",
      "BFGS:    9 15:10:47        0.241181        0.0149\n",
      "BFGS:   10 15:10:47        0.241175        0.0042\n"
     ]
    },
    {
     "name": "stderr",
     "output_type": "stream",
     "text": [
      "\r\n",
      " 41%|████▏     | 17/41 [00:01<00:01, 12.46it/s]"
     ]
    },
    {
     "name": "stdout",
     "output_type": "stream",
     "text": [
      "      Step     Time          Energy         fmax\n",
      "BFGS:    0 15:10:47        0.382903        9.5815\n",
      "BFGS:    1 15:10:47        4.293952       49.9045\n",
      "BFGS:    2 15:10:47        0.374874        6.1250\n",
      "BFGS:    3 15:10:47        0.595966       14.3631\n",
      "BFGS:    4 15:10:47        0.264828        0.7909\n",
      "BFGS:    5 15:10:47        0.259684        0.2323\n",
      "BFGS:    6 15:10:47        0.257990        0.3867\n",
      "BFGS:    7 15:10:47        0.256937        0.3621\n",
      "BFGS:    8 15:10:48        0.256122        0.1272\n",
      "BFGS:    9 15:10:48        0.256009        0.0203\n",
      "BFGS:   10 15:10:48        0.256000        0.0053\n",
      "BFGS:   11 15:10:48        0.255999        0.0011\n",
      "      Step     Time          Energy         fmax\n",
      "BFGS:    0 15:10:48        0.393753        9.7048\n",
      "BFGS:    1 15:10:48        4.500976       51.8862\n",
      "BFGS:    2 15:10:48        0.411938        6.7540\n",
      "BFGS:    3 15:10:48        0.751292       17.8279\n",
      "BFGS:    4 15:10:48        0.278742        1.1939\n",
      "BFGS:    5 15:10:48        0.271171        0.3051\n",
      "BFGS:    6 15:10:48        0.269033        0.4205\n",
      "BFGS:    7 15:10:48        0.267948        0.4207\n",
      "BFGS:    8 15:10:48        0.266832        0.1568\n",
      "BFGS:    9 15:10:48        0.266702        0.0229\n",
      "BFGS:   10 15:10:48        0.266691        0.0058\n",
      "BFGS:   11 15:10:48        0.266691        0.0014\n"
     ]
    },
    {
     "name": "stderr",
     "output_type": "stream",
     "text": [
      "\r\n",
      " 46%|████▋     | 19/41 [00:01<00:01, 11.91it/s]"
     ]
    },
    {
     "name": "stdout",
     "output_type": "stream",
     "text": [
      "      Step     Time          Energy         fmax\n",
      "BFGS:    0 15:10:48        0.400237        9.7947\n",
      "BFGS:    1 15:10:48        4.668718       53.6130\n",
      "BFGS:    2 15:10:48        0.441157        7.2011\n",
      "BFGS:    3 15:10:48        0.884345       20.5581\n",
      "BFGS:    4 15:10:48        0.288372        1.5690\n",
      "BFGS:    5 15:10:48        0.278411        0.4104\n",
      "BFGS:    6 15:10:48        0.275773        0.4480\n",
      "BFGS:    7 15:10:48        0.274668        0.4555\n",
      "BFGS:    8 15:10:48        0.273271        0.1597\n",
      "BFGS:    9 15:10:48        0.273149        0.0228\n",
      "BFGS:   10 15:10:48        0.273140        0.0059\n",
      "BFGS:   11 15:10:48        0.273139        0.0015\n",
      "      Step     Time          Energy         fmax\n",
      "BFGS:    0 15:10:48        0.402408        9.8500\n",
      "BFGS:    1 15:10:48        4.787040       54.9767\n",
      "BFGS:    2 15:10:48        0.459258        7.4289\n",
      "BFGS:    3 15:10:48        0.957034       21.9677\n",
      "BFGS:    4 15:10:48        0.292763        1.8473\n",
      "BFGS:    5 15:10:48        0.281084        0.4966\n",
      "BFGS:    6 15:10:48        0.278087        0.4633\n",
      "BFGS:    7 15:10:48        0.276985        0.4696\n",
      "BFGS:    8 15:10:48        0.275406        0.1473\n",
      "BFGS:    9 15:10:48        0.275302        0.0194\n",
      "BFGS:   10 15:10:48        0.275295        0.0059\n",
      "BFGS:   11 15:10:48        0.275294        0.0014\n"
     ]
    },
    {
     "name": "stderr",
     "output_type": "stream",
     "text": [
      "\r\n",
      " 51%|█████     | 21/41 [00:01<00:01, 11.67it/s]"
     ]
    },
    {
     "name": "stdout",
     "output_type": "stream",
     "text": [
      "      Step     Time          Energy         fmax\n",
      "BFGS:    0 15:10:48        0.400258        9.8686\n",
      "BFGS:    1 15:10:48        4.848181       55.8938\n",
      "BFGS:    2 15:10:48        0.464084        7.4303\n",
      "BFGS:    3 15:10:48        0.948938       21.8004\n",
      "BFGS:    4 15:10:48        0.291173        1.9842\n",
      "BFGS:    5 15:10:48        0.278924        0.5281\n",
      "BFGS:    6 15:10:48        0.275891        0.4594\n",
      "BFGS:    7 15:10:48        0.274836        0.4640\n",
      "BFGS:    8 15:10:48        0.273237        0.1355\n",
      "BFGS:    9 15:10:48        0.273147        0.0180\n",
      "BFGS:   10 15:10:48        0.273139        0.0060\n",
      "BFGS:   11 15:10:48        0.273140        0.0014\n",
      "      Step     Time          Energy         fmax\n",
      "BFGS:    0 15:10:48        0.393797        9.8500\n",
      "BFGS:    1 15:10:48        4.847700       56.3084\n",
      "BFGS:    2 15:10:48        0.455017        7.2216\n",
      "BFGS:    3 15:10:48        0.866731       20.1941\n",
      "BFGS:    4 15:10:48        0.283433        1.9637\n",
      "BFGS:    5 15:10:48        0.271899        0.4955\n",
      "BFGS:    6 15:10:48        0.269192        0.4340\n",
      "BFGS:    7 15:10:48        0.268232        0.4393\n",
      "BFGS:    8 15:10:48        0.266788        0.1323\n",
      "BFGS:    9 15:10:48        0.266698        0.0181\n",
      "BFGS:   10 15:10:48        0.266691        0.0061\n",
      "BFGS:   11 15:10:48        0.266691        0.0015\n"
     ]
    },
    {
     "name": "stderr",
     "output_type": "stream",
     "text": [
      "\r\n",
      " 56%|█████▌    | 23/41 [00:01<00:01, 10.91it/s]"
     ]
    },
    {
     "name": "stdout",
     "output_type": "stream",
     "text": [
      "      Step     Time          Energy         fmax\n",
      "BFGS:    0 15:10:48        0.383071        9.7945\n",
      "BFGS:    1 15:10:48        4.785023       56.1955\n",
      "BFGS:    2 15:10:48        0.432994        6.8363\n",
      "BFGS:    3 15:10:48        0.737595       17.5776\n",
      "BFGS:    4 15:10:48        0.270006        1.7982\n",
      "BFGS:    5 15:10:48        0.260245        0.4131\n",
      "BFGS:    6 15:10:48        0.258102        0.3903\n",
      "BFGS:    7 15:10:48        0.257274        0.3975\n",
      "BFGS:    8 15:10:48        0.256102        0.1337\n",
      "BFGS:    9 15:10:48        0.256008        0.0193\n",
      "BFGS:   10 15:10:48        0.256000        0.0064\n",
      "BFGS:   11 15:10:48        0.255999        0.0016\n",
      "      Step     Time          Energy         fmax\n",
      "BFGS:    0 15:10:48        0.368175        9.7042\n",
      "BFGS:    1 15:10:48        4.663617       55.5630\n",
      "BFGS:    2 15:10:48        0.400179        6.3172\n",
      "BFGS:    3 15:10:48        0.593889       14.4858\n",
      "BFGS:    4 15:10:48        0.251780        1.5247\n",
      "BFGS:    5 15:10:48        0.244351        0.3101\n",
      "BFGS:    6 15:10:48        0.242820        0.3353\n",
      "BFGS:    7 15:10:48        0.242138        0.3416\n",
      "BFGS:    8 15:10:48        0.241281        0.1283\n",
      "BFGS:    9 15:10:48        0.241184        0.0204\n",
      "BFGS:   10 15:10:48        0.241175        0.0066\n",
      "BFGS:   11 15:10:48        0.241175        0.0017\n"
     ]
    },
    {
     "name": "stderr",
     "output_type": "stream",
     "text": [
      "\r\n",
      " 61%|██████    | 25/41 [00:02<00:01, 10.39it/s]"
     ]
    },
    {
     "name": "stdout",
     "output_type": "stream",
     "text": [
      "      Step     Time          Energy         fmax\n",
      "BFGS:    0 15:10:48        0.349296        9.5819\n",
      "BFGS:    1 15:10:48        4.490657       54.4492\n",
      "BFGS:    2 15:10:48        0.359435        5.7110\n",
      "BFGS:    3 15:10:48        0.460321       11.3936\n",
      "BFGS:    4 15:10:48        0.229743        1.1956\n",
      "BFGS:    5 15:10:48        0.224642        0.2188\n",
      "BFGS:    6 15:10:48        0.223625        0.2764\n",
      "BFGS:    7 15:10:48        0.223089        0.2749\n",
      "BFGS:    8 15:10:48        0.222517        0.1080\n",
      "BFGS:    9 15:10:48        0.222428        0.0204\n",
      "BFGS:   10 15:10:48        0.222418        0.0066\n",
      "BFGS:   11 15:10:48        0.222417        0.0017\n",
      "      Step     Time          Energy         fmax\n",
      "BFGS:    0 15:10:48        0.326749        9.4321\n",
      "BFGS:    1 15:10:48        4.276317       52.9196\n",
      "BFGS:    2 15:10:48        0.313792        5.0631\n",
      "BFGS:    3 15:10:48        0.349218        8.6275\n",
      "BFGS:    4 15:10:48        0.204742        0.8660\n",
      "BFGS:    5 15:10:48        0.201550        0.1595\n",
      "BFGS:    6 15:10:48        0.200899        0.2190\n",
      "BFGS:    7 15:10:48        0.200503        0.2023\n",
      "BFGS:    8 15:10:48        0.200146        0.0749\n",
      "BFGS:    9 15:10:48        0.200074        0.0189\n",
      "BFGS:   10 15:10:48        0.200066        0.0064\n",
      "BFGS:   11 15:10:48        0.200065        0.0014\n"
     ]
    },
    {
     "name": "stderr",
     "output_type": "stream",
     "text": [
      "\r\n",
      " 66%|██████▌   | 27/41 [00:02<00:01, 10.12it/s]"
     ]
    },
    {
     "name": "stdout",
     "output_type": "stream",
     "text": [
      "      Step     Time          Energy         fmax\n",
      "BFGS:    0 15:10:48        0.301034        9.2598\n",
      "BFGS:    1 15:10:48        4.032947       51.0624\n",
      "BFGS:    2 15:10:48        0.266043        4.4143\n",
      "BFGS:    3 15:10:48        0.262445        6.3505\n",
      "BFGS:    4 15:10:48        0.177459        0.5793\n",
      "BFGS:    5 15:10:48        0.175600        0.1293\n",
      "BFGS:    6 15:10:48        0.175185        0.1657\n",
      "BFGS:    7 15:10:48        0.174917        0.1327\n",
      "BFGS:    8 15:10:49        0.174700        0.0451\n",
      "BFGS:    9 15:10:49        0.174647        0.0166\n",
      "BFGS:   10 15:10:49        0.174641        0.0057\n",
      "BFGS:   11 15:10:49        0.174641        0.0010\n",
      "      Step     Time          Energy         fmax\n",
      "BFGS:    0 15:10:49        0.272886        9.0713\n",
      "BFGS:    1 15:10:49        3.774252       48.9842\n",
      "BFGS:    2 15:10:49        0.218533        3.7989\n",
      "BFGS:    3 15:10:49        0.196071        4.5960\n",
      "BFGS:    4 15:10:49        0.148559        0.3599\n",
      "BFGS:    5 15:10:49        0.147513        0.1110\n",
      "BFGS:    6 15:10:49        0.147242        0.1173\n",
      "BFGS:    7 15:10:49        0.147079        0.0768\n",
      "BFGS:    8 15:10:49        0.146946        0.0361\n",
      "BFGS:    9 15:10:49        0.146909        0.0139\n",
      "BFGS:   10 15:10:49        0.146905        0.0045\n"
     ]
    },
    {
     "name": "stderr",
     "output_type": "stream",
     "text": [
      "\r\n",
      " 71%|███████   | 29/41 [00:02<00:01, 10.28it/s]"
     ]
    },
    {
     "name": "stdout",
     "output_type": "stream",
     "text": [
      "      Step     Time          Energy         fmax\n",
      "BFGS:    0 15:10:49        0.243206        8.8710\n",
      "BFGS:    1 15:10:49        3.513157       46.7998\n",
      "BFGS:    2 15:10:49        0.173131        3.2434\n",
      "BFGS:    3 15:10:49        0.144578        3.3160\n",
      "BFGS:    4 15:10:49        0.118881        0.2149\n",
      "BFGS:    5 15:10:49        0.118279        0.0937\n",
      "BFGS:    6 15:10:49        0.118095        0.0735\n",
      "BFGS:    7 15:10:49        0.118006        0.0443\n",
      "BFGS:    8 15:10:49        0.117919        0.0274\n",
      "BFGS:    9 15:10:49        0.117897        0.0107\n",
      "BFGS:   10 15:10:49        0.117895        0.0027\n",
      "      Step     Time          Energy         fmax\n",
      "BFGS:    0 15:10:49        0.213583        8.6737\n",
      "BFGS:    1 15:10:49        3.267763       44.6556\n",
      "BFGS:    2 15:10:49        0.131457        2.7650\n",
      "BFGS:    3 15:10:49        0.103407        2.4265\n",
      "BFGS:    4 15:10:49        0.089582        0.1412\n",
      "BFGS:    5 15:10:49        0.089197        0.0771\n",
      "BFGS:    6 15:10:49        0.089062        0.0392\n",
      "BFGS:    7 15:10:49        0.089012        0.0342\n",
      "BFGS:    8 15:10:49        0.088949        0.0188\n",
      "BFGS:    9 15:10:49        0.088938        0.0062\n",
      "BFGS:   10 15:10:49        0.088937        0.0009\n"
     ]
    },
    {
     "name": "stderr",
     "output_type": "stream",
     "text": [
      "\r\n",
      " 76%|███████▌  | 31/41 [00:02<00:00, 10.75it/s]"
     ]
    },
    {
     "name": "stdout",
     "output_type": "stream",
     "text": [
      "      Step     Time          Energy         fmax\n",
      "BFGS:    0 15:10:49        0.185487        8.4849\n",
      "BFGS:    1 15:10:49        3.049598       42.6727\n",
      "BFGS:    2 15:10:49        0.094809        2.3732\n",
      "BFGS:    3 15:10:49        0.069810        1.8347\n",
      "BFGS:    4 15:10:49        0.062104        0.1242\n",
      "BFGS:    5 15:10:49        0.061815        0.0618\n",
      "BFGS:    6 15:10:49        0.061707        0.0317\n",
      "BFGS:    7 15:10:49        0.061672        0.0285\n",
      "BFGS:    8 15:10:49        0.061622        0.0133\n",
      "BFGS:    9 15:10:49        0.061617        0.0037\n",
      "      Step     Time          Energy         fmax\n",
      "BFGS:    0 15:10:49        0.160588        8.3117\n",
      "BFGS:    1 15:10:49        2.868820       40.9585\n",
      "BFGS:    2 15:10:49        0.064411        2.0694\n",
      "BFGS:    3 15:10:49        0.042804        1.4567\n",
      "BFGS:    4 15:10:49        0.038130        0.1322\n",
      "BFGS:    5 15:10:49        0.037875        0.0485\n",
      "BFGS:    6 15:10:49        0.037781        0.0293\n",
      "BFGS:    7 15:10:49        0.037747        0.0265\n",
      "BFGS:    8 15:10:49        0.037704        0.0121\n",
      "BFGS:    9 15:10:49        0.037699        0.0037\n"
     ]
    },
    {
     "name": "stderr",
     "output_type": "stream",
     "text": [
      "\r\n",
      " 80%|████████  | 33/41 [00:02<00:00, 11.10it/s]"
     ]
    },
    {
     "name": "stdout",
     "output_type": "stream",
     "text": [
      "      Step     Time          Energy         fmax\n",
      "BFGS:    0 15:10:49        0.141023        8.1626\n",
      "BFGS:    1 15:10:49        2.734402       39.5968\n",
      "BFGS:    2 15:10:49        0.041523        1.8427\n",
      "BFGS:    3 15:10:49        0.022697        1.2246\n",
      "BFGS:    4 15:10:49        0.019487        0.1459\n",
      "BFGS:    5 15:10:49        0.019231        0.0398\n",
      "BFGS:    6 15:10:49        0.019143        0.0300\n",
      "BFGS:    7 15:10:49        0.019102        0.0267\n",
      "BFGS:    8 15:10:49        0.019061        0.0135\n",
      "BFGS:    9 15:10:49        0.019055        0.0044\n",
      "      Step     Time          Energy         fmax\n",
      "BFGS:    0 15:10:49        0.128623        8.0403\n",
      "BFGS:    1 15:10:49        2.648529       38.6104\n",
      "BFGS:    2 15:10:49        0.027457        1.6829\n",
      "BFGS:    3 15:10:49        0.010597        1.0892\n",
      "BFGS:    4 15:10:49        0.008072        0.1591\n",
      "BFGS:    5 15:10:49        0.007798        0.0390\n",
      "BFGS:    6 15:10:49        0.007706        0.0328\n",
      "BFGS:    7 15:10:49        0.007650        0.0276\n",
      "BFGS:    8 15:10:49        0.007611        0.0157\n",
      "BFGS:    9 15:10:49        0.007604        0.0048\n"
     ]
    },
    {
     "name": "stderr",
     "output_type": "stream",
     "text": [
      "\r\n",
      " 85%|████████▌ | 35/41 [00:03<00:00, 11.24it/s]"
     ]
    },
    {
     "name": "stdout",
     "output_type": "stream",
     "text": [
      "      Step     Time          Energy         fmax\n",
      "BFGS:    0 15:10:49        0.125348        7.9448\n",
      "BFGS:    1 15:10:49        2.611239       37.9919\n",
      "BFGS:    2 15:10:49        0.023656        1.5764\n",
      "BFGS:    3 15:10:49        0.008039        1.0169\n",
      "BFGS:    4 15:10:49        0.005812        0.1711\n",
      "BFGS:    5 15:10:49        0.005505        0.0422\n",
      "BFGS:    6 15:10:49        0.005399        0.0376\n",
      "BFGS:    7 15:10:49        0.005320        0.0283\n",
      "BFGS:    8 15:10:49        0.005282        0.0167\n",
      "BFGS:    9 15:10:49        0.005276        0.0043\n",
      "      Step     Time          Energy         fmax\n",
      "BFGS:    0 15:10:49        0.133102        7.8758\n",
      "BFGS:    1 15:10:49        2.622643       37.7278\n",
      "BFGS:    2 15:10:49        0.031632        1.5129\n",
      "BFGS:    3 15:10:49        0.016682        0.9875\n",
      "BFGS:    4 15:10:49        0.014544        0.1830\n",
      "BFGS:    5 15:10:49        0.014185        0.0481\n",
      "BFGS:    6 15:10:49        0.014052        0.0498\n",
      "BFGS:    7 15:10:49        0.013946        0.0302\n",
      "BFGS:    8 15:10:49        0.013907        0.0171\n",
      "BFGS:    9 15:10:49        0.013902        0.0039\n"
     ]
    },
    {
     "name": "stderr",
     "output_type": "stream",
     "text": [
      "\r\n",
      " 90%|█████████ | 37/41 [00:03<00:00, 11.74it/s]"
     ]
    },
    {
     "name": "stdout",
     "output_type": "stream",
     "text": [
      "      Step     Time          Energy         fmax\n",
      "BFGS:    0 15:10:49        0.153531        7.8346\n",
      "BFGS:    1 15:10:49        2.684723       37.8191\n",
      "BFGS:    2 15:10:49        0.052738        1.4870\n",
      "BFGS:    3 15:10:49        0.037988        0.9912\n",
      "BFGS:    4 15:10:49        0.035797        0.1967\n",
      "BFGS:    5 15:10:49        0.035362        0.0555\n",
      "BFGS:    6 15:10:49        0.035186        0.0641\n",
      "BFGS:    7 15:10:49        0.035051        0.0348\n",
      "BFGS:    8 15:10:49        0.035009        0.0178\n",
      "BFGS:    9 15:10:49        0.035003        0.0039\n",
      "      Step     Time          Energy         fmax\n",
      "BFGS:    0 15:10:49        0.187721        7.8221\n",
      "BFGS:    1 15:10:49        2.800468       38.2760\n",
      "BFGS:    2 15:10:49        0.087866        1.4962\n",
      "BFGS:    3 15:10:49        0.072901        1.0251\n",
      "BFGS:    4 15:10:49        0.070538        0.2134\n",
      "BFGS:    5 15:10:49        0.069997        0.0636\n",
      "BFGS:    6 15:10:49        0.069764        0.0797\n",
      "BFGS:    7 15:10:49        0.069599        0.0393\n",
      "BFGS:    8 15:10:49        0.069550        0.0193\n",
      "BFGS:    9 15:10:49        0.069543        0.0046\n"
     ]
    },
    {
     "name": "stderr",
     "output_type": "stream",
     "text": [
      "\r\n",
      " 95%|█████████▌| 39/41 [00:03<00:00, 12.09it/s]"
     ]
    },
    {
     "name": "stdout",
     "output_type": "stream",
     "text": [
      "      Step     Time          Energy         fmax\n",
      "BFGS:    0 15:10:49        0.235975        7.8383\n",
      "BFGS:    1 15:10:49        2.973159       39.1121\n",
      "BFGS:    2 15:10:49        0.137249        1.5407\n",
      "BFGS:    3 15:10:49        0.121664        1.0917\n",
      "BFGS:    4 15:10:49        0.119002        0.2342\n",
      "BFGS:    5 15:10:49        0.118327        0.0753\n",
      "BFGS:    6 15:10:49        0.118024        0.0955\n",
      "BFGS:    7 15:10:49        0.117827        0.0440\n",
      "BFGS:    8 15:10:49        0.117768        0.0219\n",
      "BFGS:    9 15:10:50        0.117760        0.0068\n",
      "BFGS:   10 15:10:50        0.117759        0.0018\n",
      "      Step     Time          Energy         fmax\n",
      "BFGS:    0 15:10:50        0.297743        7.8771\n",
      "BFGS:    1 15:10:50        3.201794       40.3101\n",
      "BFGS:    2 15:10:50        0.200392        1.6200\n",
      "BFGS:    3 15:10:50        0.183783        1.1952\n",
      "BFGS:    4 15:10:50        0.180669        0.2595\n",
      "BFGS:    5 15:10:50        0.179839        0.0869\n",
      "BFGS:    6 15:10:50        0.179445        0.1113\n",
      "BFGS:    7 15:10:50        0.179216        0.0488\n",
      "BFGS:    8 15:10:50        0.179144        0.0253\n",
      "BFGS:    9 15:10:50        0.179132        0.0098\n",
      "BFGS:   10 15:10:50        0.179132        0.0027\n"
     ]
    },
    {
     "name": "stderr",
     "output_type": "stream",
     "text": [
      "100%|██████████| 41/41 [00:03<00:00, 11.62it/s]\n"
     ]
    }
   ],
   "source": [
    "device = 'cpu'\n",
    "\n",
    "opt_traj = []\n",
    "opt_eners = []\n",
    "\n",
    "for target in tqdm(targets):\n",
    "\n",
    "    # this is a list for the class to enable multidimensional PMFs\n",
    "    # definition is the CV definition\n",
    "    # as we do a minimization, there is no CV range, we want to set a minimum value\n",
    "    # ext_k is the force constant in eV/(CV-unit)**2\n",
    "    cv_defs = [{'definition': info_dict,\n",
    "                'range': [target, target],\n",
    "                'ext_k': 100.0,\n",
    "                'type': 'angle',\n",
    "                }\n",
    "               ]\n",
    "\n",
    "    # set the calculator, which is the BiasBase class\n",
    "    calculator = BiasBase.from_file('models/ammonia/',\n",
    "                                    cv_defs=cv_defs,\n",
    "                                    directed=True,\n",
    "                                    device=device)\n",
    "    atoms.set_calculator(calculator)\n",
    "\n",
    "    dyn = BFGS(atoms)\n",
    "\n",
    "    dyn.run(fmax=0.005, steps=1000)\n",
    "\n",
    "    opt_traj.append(atoms.copy())\n",
    "    opt_eners.append(atoms.get_potential_energy())\n",
    "\n",
    "opt_eners = np.array(opt_eners)"
   ]
  },
  {
   "cell_type": "code",
   "execution_count": 26,
   "id": "3511bd68",
   "metadata": {},
   "outputs": [
    {
     "data": {
      "application/vnd.jupyter.widget-view+json": {
       "model_id": "ccb8d3dd124c496e8c31cc5b8e753fc8",
       "version_major": 2,
       "version_minor": 0
      },
      "text/plain": [
       "NGLWidget(max_frame=40)"
      ]
     },
     "metadata": {},
     "output_type": "display_data"
    }
   ],
   "source": [
    "nv.show_asetraj(opt_traj)"
   ]
  },
  {
   "cell_type": "code",
   "execution_count": 34,
   "id": "5323db5e",
   "metadata": {},
   "outputs": [
    {
     "data": {
      "image/png": "[encoded data removed]",
      "text/plain": [
       "<Figure size 432x288 with 1 Axes>"
      ]
     },
     "metadata": {
      "needs_background": "light"
     },
     "output_type": "display_data"
    }
   ],
   "source": [
    "fig, ax = plt.subplots(1, sharex=True)\n",
    "\n",
    "ax.plot(targets, opt_eners*units.mol/units.kJ, linewidth=3, color='blue')\n",
    "\n",
    "ax.spines['bottom'].set_linewidth('3')\n",
    "ax.spines['top'].set_linewidth('3')\n",
    "ax.spines['left'].set_linewidth('3')\n",
    "ax.spines['right'].set_linewidth('3')\n",
    "ax.tick_params(axis='y', length=6, width=3,\n",
    "               labelsize=20, pad=10, direction='in')\n",
    "ax.tick_params(axis='x', length=6, width=3,\n",
    "               labelsize=20, pad=10, direction='in')\n",
    "\n",
    "ax.set_ylabel(r'$E$ / kJ mol$^{-1}$', fontsize=30)\n",
    "ax.set_xlabel(r'$\\varphi$ / radian', fontsize=35)\n",
    "\n",
    "plt.tight_layout()\n",
    "plt.show()"
   ]
  },
  {
   "cell_type": "markdown",
   "id": "2b041f60",
   "metadata": {},
   "source": [
    "### Umbrella Sampling"
   ]
  },
  {
   "cell_type": "code",
   "execution_count": 58,
   "id": "61333d05",
   "metadata": {},
   "outputs": [],
   "source": [
    "os.mkdir(\"16_UmbrellaWindows\")"
   ]
  },
  {
   "cell_type": "code",
   "execution_count": 59,
   "id": "fe80b2ea",
   "metadata": {},
   "outputs": [
    {
     "name": "stdout",
     "output_type": "stream",
     "text": [
      "THE RANDOM NUMBER SEED WAS: 256464790\n"
     ]
    },
    {
     "name": "stderr",
     "output_type": "stream",
     "text": [
      "100%|██████████| 100/100 [00:14<00:00,  7.04it/s]\n"
     ]
    },
    {
     "name": "stdout",
     "output_type": "stream",
     "text": [
      "THE RANDOM NUMBER SEED WAS: 1060723324\n"
     ]
    },
    {
     "name": "stderr",
     "output_type": "stream",
     "text": [
      "100%|██████████| 100/100 [00:14<00:00,  6.92it/s]\n"
     ]
    },
    {
     "name": "stdout",
     "output_type": "stream",
     "text": [
      "THE RANDOM NUMBER SEED WAS: 1684187586\n"
     ]
    },
    {
     "name": "stderr",
     "output_type": "stream",
     "text": [
      "100%|██████████| 100/100 [00:14<00:00,  7.00it/s]\n"
     ]
    },
    {
     "name": "stdout",
     "output_type": "stream",
     "text": [
      "THE RANDOM NUMBER SEED WAS: 79303695\n"
     ]
    },
    {
     "name": "stderr",
     "output_type": "stream",
     "text": [
      "100%|██████████| 100/100 [00:14<00:00,  6.77it/s]\n"
     ]
    },
    {
     "name": "stdout",
     "output_type": "stream",
     "text": [
      "THE RANDOM NUMBER SEED WAS: 764142961\n"
     ]
    },
    {
     "name": "stderr",
     "output_type": "stream",
     "text": [
      "100%|██████████| 100/100 [00:14<00:00,  6.86it/s]\n"
     ]
    },
    {
     "name": "stdout",
     "output_type": "stream",
     "text": [
      "THE RANDOM NUMBER SEED WAS: 24045292\n"
     ]
    },
    {
     "name": "stderr",
     "output_type": "stream",
     "text": [
      "100%|██████████| 100/100 [00:14<00:00,  6.88it/s]\n"
     ]
    },
    {
     "name": "stdout",
     "output_type": "stream",
     "text": [
      "THE RANDOM NUMBER SEED WAS: 1849409161\n"
     ]
    },
    {
     "name": "stderr",
     "output_type": "stream",
     "text": [
      "100%|██████████| 100/100 [00:14<00:00,  6.89it/s]\n"
     ]
    },
    {
     "name": "stdout",
     "output_type": "stream",
     "text": [
      "THE RANDOM NUMBER SEED WAS: 1012009338\n"
     ]
    },
    {
     "name": "stderr",
     "output_type": "stream",
     "text": [
      "100%|██████████| 100/100 [00:14<00:00,  6.93it/s]\n"
     ]
    },
    {
     "name": "stdout",
     "output_type": "stream",
     "text": [
      "THE RANDOM NUMBER SEED WAS: 436674544\n"
     ]
    },
    {
     "name": "stderr",
     "output_type": "stream",
     "text": [
      "100%|██████████| 100/100 [00:14<00:00,  6.92it/s]\n"
     ]
    },
    {
     "name": "stdout",
     "output_type": "stream",
     "text": [
      "THE RANDOM NUMBER SEED WAS: 1663118260\n"
     ]
    },
    {
     "name": "stderr",
     "output_type": "stream",
     "text": [
      "100%|██████████| 100/100 [00:14<00:00,  6.78it/s]\n"
     ]
    },
    {
     "name": "stdout",
     "output_type": "stream",
     "text": [
      "THE RANDOM NUMBER SEED WAS: 182853862\n"
     ]
    },
    {
     "name": "stderr",
     "output_type": "stream",
     "text": [
      "100%|██████████| 100/100 [00:14<00:00,  6.88it/s]\n"
     ]
    },
    {
     "name": "stdout",
     "output_type": "stream",
     "text": [
      "THE RANDOM NUMBER SEED WAS: 2109121441\n"
     ]
    },
    {
     "name": "stderr",
     "output_type": "stream",
     "text": [
      "100%|██████████| 100/100 [00:15<00:00,  6.66it/s]\n"
     ]
    },
    {
     "name": "stdout",
     "output_type": "stream",
     "text": [
      "THE RANDOM NUMBER SEED WAS: 210447724\n"
     ]
    },
    {
     "name": "stderr",
     "output_type": "stream",
     "text": [
      "100%|██████████| 100/100 [00:18<00:00,  5.47it/s]\n"
     ]
    },
    {
     "name": "stdout",
     "output_type": "stream",
     "text": [
      "THE RANDOM NUMBER SEED WAS: 1951271786\n"
     ]
    },
    {
     "name": "stderr",
     "output_type": "stream",
     "text": [
      "100%|██████████| 100/100 [00:18<00:00,  5.44it/s]\n"
     ]
    },
    {
     "name": "stdout",
     "output_type": "stream",
     "text": [
      "THE RANDOM NUMBER SEED WAS: 219589749\n"
     ]
    },
    {
     "name": "stderr",
     "output_type": "stream",
     "text": [
      "100%|██████████| 100/100 [00:20<00:00,  4.80it/s]\n"
     ]
    },
    {
     "name": "stdout",
     "output_type": "stream",
     "text": [
      "THE RANDOM NUMBER SEED WAS: 806441646\n"
     ]
    },
    {
     "name": "stderr",
     "output_type": "stream",
     "text": [
      "100%|██████████| 100/100 [00:18<00:00,  5.48it/s]\n"
     ]
    },
    {
     "name": "stdout",
     "output_type": "stream",
     "text": [
      "THE RANDOM NUMBER SEED WAS: 1750138288\n"
     ]
    },
    {
     "name": "stderr",
     "output_type": "stream",
     "text": [
      "100%|██████████| 100/100 [00:18<00:00,  5.44it/s]\n"
     ]
    },
    {
     "name": "stdout",
     "output_type": "stream",
     "text": [
      "THE RANDOM NUMBER SEED WAS: 1601887793\n"
     ]
    },
    {
     "name": "stderr",
     "output_type": "stream",
     "text": [
      "100%|██████████| 100/100 [00:18<00:00,  5.51it/s]\n"
     ]
    },
    {
     "name": "stdout",
     "output_type": "stream",
     "text": [
      "THE RANDOM NUMBER SEED WAS: 1134361219\n"
     ]
    },
    {
     "name": "stderr",
     "output_type": "stream",
     "text": [
      "100%|██████████| 100/100 [00:18<00:00,  5.43it/s]\n"
     ]
    },
    {
     "name": "stdout",
     "output_type": "stream",
     "text": [
      "THE RANDOM NUMBER SEED WAS: 1699640979\n"
     ]
    },
    {
     "name": "stderr",
     "output_type": "stream",
     "text": [
      "100%|██████████| 100/100 [00:18<00:00,  5.42it/s]\n"
     ]
    },
    {
     "name": "stdout",
     "output_type": "stream",
     "text": [
      "THE RANDOM NUMBER SEED WAS: 1745069354\n"
     ]
    },
    {
     "name": "stderr",
     "output_type": "stream",
     "text": [
      "100%|██████████| 100/100 [00:18<00:00,  5.52it/s]\n"
     ]
    },
    {
     "name": "stdout",
     "output_type": "stream",
     "text": [
      "THE RANDOM NUMBER SEED WAS: 1853959128\n"
     ]
    },
    {
     "name": "stderr",
     "output_type": "stream",
     "text": [
      "100%|██████████| 100/100 [00:19<00:00,  5.16it/s]\n"
     ]
    },
    {
     "name": "stdout",
     "output_type": "stream",
     "text": [
      "THE RANDOM NUMBER SEED WAS: 1471354277\n"
     ]
    },
    {
     "name": "stderr",
     "output_type": "stream",
     "text": [
      "100%|██████████| 100/100 [00:18<00:00,  5.38it/s]\n"
     ]
    },
    {
     "name": "stdout",
     "output_type": "stream",
     "text": [
      "THE RANDOM NUMBER SEED WAS: 555146737\n"
     ]
    },
    {
     "name": "stderr",
     "output_type": "stream",
     "text": [
      "100%|██████████| 100/100 [00:18<00:00,  5.39it/s]\n"
     ]
    },
    {
     "name": "stdout",
     "output_type": "stream",
     "text": [
      "THE RANDOM NUMBER SEED WAS: 1246222863\n"
     ]
    },
    {
     "name": "stderr",
     "output_type": "stream",
     "text": [
      "100%|██████████| 100/100 [00:18<00:00,  5.48it/s]\n"
     ]
    },
    {
     "name": "stdout",
     "output_type": "stream",
     "text": [
      "THE RANDOM NUMBER SEED WAS: 2146435798\n"
     ]
    },
    {
     "name": "stderr",
     "output_type": "stream",
     "text": [
      "100%|██████████| 100/100 [00:21<00:00,  4.75it/s]\n"
     ]
    },
    {
     "name": "stdout",
     "output_type": "stream",
     "text": [
      "THE RANDOM NUMBER SEED WAS: 1164583904\n"
     ]
    },
    {
     "name": "stderr",
     "output_type": "stream",
     "text": [
      "100%|██████████| 100/100 [00:20<00:00,  4.78it/s]\n"
     ]
    },
    {
     "name": "stdout",
     "output_type": "stream",
     "text": [
      "THE RANDOM NUMBER SEED WAS: 617513412\n"
     ]
    },
    {
     "name": "stderr",
     "output_type": "stream",
     "text": [
      "100%|██████████| 100/100 [00:18<00:00,  5.48it/s]\n"
     ]
    },
    {
     "name": "stdout",
     "output_type": "stream",
     "text": [
      "THE RANDOM NUMBER SEED WAS: 1547007259\n"
     ]
    },
    {
     "name": "stderr",
     "output_type": "stream",
     "text": [
      "100%|██████████| 100/100 [00:18<00:00,  5.39it/s]\n"
     ]
    },
    {
     "name": "stdout",
     "output_type": "stream",
     "text": [
      "THE RANDOM NUMBER SEED WAS: 454623487\n"
     ]
    },
    {
     "name": "stderr",
     "output_type": "stream",
     "text": [
      "100%|██████████| 100/100 [00:18<00:00,  5.49it/s]\n"
     ]
    },
    {
     "name": "stdout",
     "output_type": "stream",
     "text": [
      "THE RANDOM NUMBER SEED WAS: 1332204597\n"
     ]
    },
    {
     "name": "stderr",
     "output_type": "stream",
     "text": [
      "100%|██████████| 100/100 [00:18<00:00,  5.50it/s]\n"
     ]
    },
    {
     "name": "stdout",
     "output_type": "stream",
     "text": [
      "THE RANDOM NUMBER SEED WAS: 704467069\n"
     ]
    },
    {
     "name": "stderr",
     "output_type": "stream",
     "text": [
      "100%|██████████| 100/100 [00:18<00:00,  5.48it/s]\n"
     ]
    },
    {
     "name": "stdout",
     "output_type": "stream",
     "text": [
      "THE RANDOM NUMBER SEED WAS: 1714100193\n"
     ]
    },
    {
     "name": "stderr",
     "output_type": "stream",
     "text": [
      "100%|██████████| 100/100 [00:19<00:00,  5.26it/s]\n"
     ]
    },
    {
     "name": "stdout",
     "output_type": "stream",
     "text": [
      "THE RANDOM NUMBER SEED WAS: 1490154334\n"
     ]
    },
    {
     "name": "stderr",
     "output_type": "stream",
     "text": [
      "100%|██████████| 100/100 [00:20<00:00,  4.86it/s]\n"
     ]
    },
    {
     "name": "stdout",
     "output_type": "stream",
     "text": [
      "THE RANDOM NUMBER SEED WAS: 1575894874\n"
     ]
    },
    {
     "name": "stderr",
     "output_type": "stream",
     "text": [
      "100%|██████████| 100/100 [00:18<00:00,  5.38it/s]\n"
     ]
    },
    {
     "name": "stdout",
     "output_type": "stream",
     "text": [
      "THE RANDOM NUMBER SEED WAS: 1317580464\n"
     ]
    },
    {
     "name": "stderr",
     "output_type": "stream",
     "text": [
      "100%|██████████| 100/100 [00:18<00:00,  5.39it/s]\n"
     ]
    },
    {
     "name": "stdout",
     "output_type": "stream",
     "text": [
      "THE RANDOM NUMBER SEED WAS: 1610595323\n"
     ]
    },
    {
     "name": "stderr",
     "output_type": "stream",
     "text": [
      "100%|██████████| 100/100 [00:18<00:00,  5.40it/s]\n"
     ]
    },
    {
     "name": "stdout",
     "output_type": "stream",
     "text": [
      "THE RANDOM NUMBER SEED WAS: 1103674290\n"
     ]
    },
    {
     "name": "stderr",
     "output_type": "stream",
     "text": [
      "100%|██████████| 100/100 [00:18<00:00,  5.38it/s]\n"
     ]
    },
    {
     "name": "stdout",
     "output_type": "stream",
     "text": [
      "THE RANDOM NUMBER SEED WAS: 1917168500\n"
     ]
    },
    {
     "name": "stderr",
     "output_type": "stream",
     "text": [
      "100%|██████████| 100/100 [00:18<00:00,  5.48it/s]\n"
     ]
    },
    {
     "name": "stdout",
     "output_type": "stream",
     "text": [
      "THE RANDOM NUMBER SEED WAS: 968097874\n"
     ]
    },
    {
     "name": "stderr",
     "output_type": "stream",
     "text": [
      "100%|██████████| 100/100 [00:18<00:00,  5.53it/s]\n"
     ]
    },
    {
     "name": "stdout",
     "output_type": "stream",
     "text": [
      "THE RANDOM NUMBER SEED WAS: 1989518548\n"
     ]
    },
    {
     "name": "stderr",
     "output_type": "stream",
     "text": [
      "100%|██████████| 100/100 [00:18<00:00,  5.35it/s]\n"
     ]
    }
   ],
   "source": [
    "# sequential simulation of umbrella windows\n",
    "# for larger systems this is not effective,\n",
    "# the strength of umbr sampl is the parallelization\n",
    "for ii, target in enumerate(targets):\n",
    "\n",
    "    # this is a list for the class to enable multidimensional PMFs\n",
    "    # definition is the CV definition\n",
    "    # as we do a minimization, there is no CV range, we want to set a minimum value\n",
    "    # ext_sigma is the thermal coupling width,\n",
    "    # which will translate into a force constant depending on the temperature\n",
    "    cv_defs = [{'definition': info_dict,\n",
    "                'range': [target, target],\n",
    "                'ext_sigma': dval/2,\n",
    "                'type': 'angle',\n",
    "                }\n",
    "               ]\n",
    "\n",
    "    # set the calculator, which is the BiasBase class\n",
    "    calculator = BiasBase.from_file('models/ammonia/',\n",
    "                                    cv_defs=cv_defs,\n",
    "                                    directed=True,\n",
    "                                    device=device)\n",
    "    atoms = AtomsBatch.from_atoms(opt_traj[ii],\n",
    "                                  )\n",
    "    atoms.set_calculator(calculator)\n",
    "\n",
    "    dyn = Langevin(atoms,\n",
    "                   timestep=0.5,\n",
    "                   temperature=300.0,\n",
    "                   friction_per_ps=1.0,\n",
    "                   maxwell_temp=300.0,\n",
    "                   logfile=f'16_UmbrellaWindows/window_{ii:02d}.log',\n",
    "                   trajectory=f'16_UmbrellaWindows/window_{ii:02d}.traj',\n",
    "                   )\n",
    "\n",
    "    dyn.attach(BiasedNeuralMDLogger(dyn,\n",
    "                                    atoms,\n",
    "                                    f'16_UmbrellaWindows/window_{ii:02d}_ext.log',\n",
    "                                    header=True,\n",
    "                                    mode=\"w\"),\n",
    "               interval=4)\n",
    "    # For ammonia 1ps per window should be enough\n",
    "    dyn.run(steps=2000)"
   ]
  },
  {
   "cell_type": "markdown",
   "id": "f9194baf",
   "metadata": {},
   "source": [
    "### Analysis of the data"
   ]
  },
  {
   "cell_type": "code",
   "execution_count": 60,
   "id": "14d0b467",
   "metadata": {},
   "outputs": [],
   "source": [
    "# How to load the data\n",
    "\n",
    "trajs = []\n",
    "meta_f = np.zeros(shape=(len(targets), 3))\n",
    "for ii in range(len(targets)):\n",
    "    data = np.genfromtxt(\n",
    "        f\"16_UmbrellaWindows/window_{ii:02d}_ext.log\", skip_header=1)\n",
    "    trajs.append(data[:, 4])\n",
    "\n",
    "# The targets can also be read from the log files\n",
    "meta_f[:, 1] = targets\n",
    "# since we used ext_sigma and not ext_k, we need to calculate the k\n",
    "# k = (RT)/(sigma**2)\n",
    "meta_f[:, 2] = (8.314 * 300.0 / 1000.0) / ((dval/2)**2)\n",
    "\n",
    "all_frames = trajs[0]\n",
    "for traj in trajs[1:]:\n",
    "    all_frames = np.concatenate((all_frames, traj))"
   ]
  },
  {
   "cell_type": "code",
   "execution_count": 61,
   "id": "84cca083",
   "metadata": {},
   "outputs": [
    {
     "data": {
      "image/png": "[encoded data removed]",
      "text/plain": [
       "<Figure size 432x288 with 1 Axes>"
      ]
     },
     "metadata": {
      "needs_background": "light"
     },
     "output_type": "display_data"
    }
   ],
   "source": [
    "fig, ax = plt.subplots(1, sharex=True)\n",
    "\n",
    "for traj, target in zip(trajs, targets):\n",
    "    ax.hist(traj, alpha=0.5, bins=50, range=(target-3*dval, target+3*dval))\n",
    "\n",
    "ax.spines['bottom'].set_linewidth('3')\n",
    "ax.spines['top'].set_linewidth('3')\n",
    "ax.spines['left'].set_linewidth('3')\n",
    "ax.spines['right'].set_linewidth('3')\n",
    "ax.tick_params(axis='y', length=6, width=3,\n",
    "               labelsize=20, pad=10, direction='in')\n",
    "ax.tick_params(axis='x', length=6, width=3,\n",
    "               labelsize=20, pad=10, direction='in')\n",
    "\n",
    "ax.set_ylabel(r'density', fontsize=30)\n",
    "ax.set_xlabel(r'$\\varphi$ / radian', fontsize=35)\n",
    "\n",
    "plt.tight_layout()\n",
    "plt.show()"
   ]
  },
  {
   "cell_type": "code",
   "execution_count": 62,
   "id": "52031771",
   "metadata": {},
   "outputs": [
    {
     "name": "stdout",
     "output_type": "stream",
     "text": [
      "Making Boltzmann factors\n",
      "\n",
      "All ready!\n",
      "\n",
      "Start of the self-consistent iteration.\n",
      "========================================================================\n",
      "Iter    1:\tConv=  1.0319918767\tConv_errvec=    198.373019\n",
      "Iter   50:\tConv=  0.0340141609\tConv_errvec=     16.453827\n",
      "Iter  100:\tConv=  0.0301282656\tConv_errvec=      9.835515\n",
      "Iter  150:\tConv=  0.0223011798\tConv_errvec=      6.303423\n",
      "Iter  200:\tConv=  0.0163585767\tConv_errvec=      4.348742\n",
      "Iter  250:\tConv=  0.0120106869\tConv_errvec=      3.114896\n",
      "Iter  300:\tConv=  0.0088257008\tConv_errvec=      2.266864\n",
      "Iter  350:\tConv=  0.0064884722\tConv_errvec=      1.660143\n",
      "Iter  400:\tConv=  0.0047718467\tConv_errvec=      1.218749\n",
      "Iter  450:\tConv=  0.0035104760\tConv_errvec=      0.895509\n",
      "Iter  500:\tConv=  0.0025833819\tConv_errvec=      0.658201\n",
      "Iter  550:\tConv=  0.0019018494\tConv_errvec=      0.483823\n",
      "Iter  600:\tConv=  0.0014007546\tConv_errvec=      0.355648\n",
      "Iter  650:\tConv=  0.0010322663\tConv_errvec=      0.261426\n",
      "Iter  700:\tConv=  0.0007612442\tConv_errvec=      0.192162\n",
      "Iter  750:\tConv=  0.0005618667\tConv_errvec=      0.141248\n",
      "Iter  800:\tConv=  0.0004151578\tConv_errvec=      0.103821\n",
      "Iter  850:\tConv=  0.0003071709\tConv_errvec=      0.076660\n",
      "Iter  900:\tConv=  0.0002276555\tConv_errvec=      0.057287\n",
      "Iter  950:\tConv=  0.0001690768\tConv_errvec=      0.042981\n",
      "Iter 1000:\tConv=  0.0001258961\tConv_errvec=      0.032404\n",
      "Iter 1050:\tConv=  0.0000940421\tConv_errvec=      0.024572\n",
      "Iter 1100:\tConv=  0.0000706176\tConv_errvec=      0.018762\n",
      "Iter 1150:\tConv=  0.0000533142\tConv_errvec=      0.014441\n",
      "Iter 1200:\tConv=  0.0000404954\tConv_errvec=      0.011219\n",
      "Iter 1250:\tConv=  0.0000309801\tConv_errvec=      0.008808\n",
      "Iter 1300:\tConv=  0.0000239286\tConv_errvec=      0.006995\n",
      "Iter 1350:\tConv=  0.0000187102\tConv_errvec=      0.005626\n",
      "Iter 1400:\tConv=  0.0000148136\tConv_errvec=      0.004585\n",
      "Iter 1450:\tConv=  0.0000119303\tConv_errvec=      0.003788\n",
      "Iter 1500:\tConv=  0.0000097881\tConv_errvec=      0.003172\n",
      "Iter 1550:\tConv=  0.0000081878\tConv_errvec=      0.002691\n",
      "Iter 1600:\tConv=  0.0000070158\tConv_errvec=      0.002313\n",
      "Iter 1650:\tConv=  0.0000061630\tConv_errvec=      0.002011\n",
      "Iter 1700:\tConv=  0.0000055562\tConv_errvec=      0.001766\n",
      "Iter 1750:\tConv=  0.0000051335\tConv_errvec=      0.001566\n",
      "Iter 1800:\tConv=  0.0000047672\tConv_errvec=      0.001400\n",
      "Iter 1850:\tConv=  0.0000044270\tConv_errvec=      0.001260\n",
      "Iter 1900:\tConv=  0.0000041112\tConv_errvec=      0.001141\n",
      "Iter 1950:\tConv=  0.0000038179\tConv_errvec=      0.001038\n",
      "Iter 2000:\tConv=  0.0000035456\tConv_errvec=      0.000948\n",
      "Iter 2050:\tConv=  0.0000032927\tConv_errvec=      0.000869\n",
      "Iter 2100:\tConv=  0.0000030579\tConv_errvec=      0.000798\n",
      "Iter 2150:\tConv=  0.0000028398\tConv_errvec=      0.000735\n",
      "Iter 2200:\tConv=  0.0000026372\tConv_errvec=      0.000678\n",
      "Iter 2250:\tConv=  0.0000024492\tConv_errvec=      0.000626\n",
      "Iter 2300:\tConv=  0.0000022745\tConv_errvec=      0.000579\n",
      "Iter 2350:\tConv=  0.0000021123\tConv_errvec=      0.000536\n",
      "Iter 2400:\tConv=  0.0000019616\tConv_errvec=      0.000496\n",
      "Iter 2450:\tConv=  0.0000018218\tConv_errvec=      0.000460\n",
      "Iter 2500:\tConv=  0.0000016918\tConv_errvec=      0.000426\n",
      "Iter 2550:\tConv=  0.0000015712\tConv_errvec=      0.000395\n",
      "Iter 2600:\tConv=  0.0000014591\tConv_errvec=      0.000367\n",
      "Iter 2650:\tConv=  0.0000013551\tConv_errvec=      0.000340\n",
      "Iter 2700:\tConv=  0.0000012585\tConv_errvec=      0.000316\n",
      "Iter 2750:\tConv=  0.0000011687\tConv_errvec=      0.000293\n",
      "Iter 2800:\tConv=  0.0000010854\tConv_errvec=      0.000272\n",
      "Iter 2850:\tConv=  0.0000010080\tConv_errvec=      0.000253\n",
      "========================================================================\n",
      "Converged after 2856 iterations!\n",
      "Max error vector: 0.00025040746868398855\n",
      "========================================================================\n"
     ]
    }
   ],
   "source": [
    "# Get the unbiased weights with MBAR\n",
    "W = mbar.run_mbar(traj_list=trajs,\n",
    "                  meta_f=meta_f,\n",
    "                  max_iter=int(1e6),\n",
    "                  conv=1.0e-6,\n",
    "                  outfreq=50,\n",
    "                  equil_temp=300.0)"
   ]
  },
  {
   "cell_type": "code",
   "execution_count": 72,
   "id": "19e7ddca",
   "metadata": {},
   "outputs": [],
   "source": [
    "# grid for PMF, let's make it a bit finer than the window placements\n",
    "minimum = all_frames.min()\n",
    "maximum = all_frames.max()\n",
    "bin_width = dval/2\n",
    "grid = np.arange(minimum, maximum, bin_width)"
   ]
  },
  {
   "cell_type": "code",
   "execution_count": 73,
   "id": "0747c49e",
   "metadata": {},
   "outputs": [],
   "source": [
    "pmf, rho = mbar.pmf_from_weights(grid, all_frames, W, equil_temp=300.0)"
   ]
  },
  {
   "cell_type": "code",
   "execution_count": 74,
   "id": "ad80445b",
   "metadata": {},
   "outputs": [
    {
     "data": {
      "image/png": "[encoded data removed]",
      "text/plain": [
       "<Figure size 576x432 with 1 Axes>"
      ]
     },
     "metadata": {
      "needs_background": "light"
     },
     "output_type": "display_data"
    }
   ],
   "source": [
    "# even though these simulations are a bit of overkill,\n",
    "# the PMF looks suprisingly poor\n",
    "fig, axs = plt.subplots(1, figsize=(8, 6))\n",
    "\n",
    "axs.plot(grid, pmf, linewidth=4)\n",
    "\n",
    "axs.tick_params(axis='y', length=8, width=4,\n",
    "                labelsize=30, pad=10, direction='in')\n",
    "axs.tick_params(axis='x', length=8, width=4,\n",
    "                labelsize=30, pad=10, direction='in')\n",
    "\n",
    "axs.set_xlabel(r'$z$', fontsize=40)\n",
    "axs.set_ylabel(r'$A(z)$ / kJ mol$^{-1}$', fontsize=40)\n",
    "axs.spines['bottom'].set_linewidth('3')\n",
    "axs.spines['top'].set_linewidth('3')\n",
    "axs.spines['left'].set_linewidth('3')\n",
    "axs.spines['right'].set_linewidth('3')\n",
    "\n",
    "fig.tight_layout()\n",
    "plt.show()"
   ]
  },
  {
   "cell_type": "code",
   "execution_count": null,
   "id": "c773fb7e",
   "metadata": {},
   "outputs": [],
   "source": []
  }
 ],
 "metadata": {
  "kernelspec": {
   "display_name": "htvs",
   "language": "python",
   "name": "htvs"
  },
  "language_info": {
   "codemirror_mode": {
    "name": "ipython",
    "version": 3
   },
   "file_extension": ".py",
   "mimetype": "text/x-python",
   "name": "python",
   "nbconvert_exporter": "python",
   "pygments_lexer": "ipython3",
   "version": "3.9.7"
  }
 },
 "nbformat": 4,
 "nbformat_minor": 5
}
