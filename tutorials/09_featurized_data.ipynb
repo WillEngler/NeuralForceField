{
 "cells": [
  {
   "cell_type": "markdown",
   "metadata": {},
   "source": [
    "# Introduction to Neural Force Field"
   ]
  },
  {
   "cell_type": "markdown",
   "metadata": {},
   "source": [
    "This Jupyter Notebook contains an introduction to the `nff` package. Here, we will load the modules and functions from `nff` to import a dataset, create dataloaders, create a model, train it and check the test stats. We will do most of it manually to illustrate the usage of the API. However, scripts such as the one provided in the `scripts/` folder already automate most of this process."
   ]
  },
  {
   "cell_type": "markdown",
   "metadata": {},
   "source": [
    "After the `nff` package has been installed, we start by importing all dependencies for this tutorial."
   ]
  },
  {
   "cell_type": "code",
   "execution_count": 1,
   "metadata": {},
   "outputs": [],
   "source": [
    "%load_ext autoreload\n",
    "%autoreload 2"
   ]
  },
  {
   "cell_type": "code",
   "execution_count": null,
   "metadata": {},
   "outputs": [],
   "source": []
  },
  {
   "cell_type": "code",
   "execution_count": 2,
   "metadata": {},
   "outputs": [],
   "source": [
    "# import sys\n",
    "\n",
    "# sys.path.insert(0, \"/home/saxelrod/Repo/projects/covid_nff/NeuralForceField\")\n",
    "# import torch\n",
    "# import pdb\n",
    "# import numpy as np\n",
    "\n",
    "# from nff.utils.scatter import scatter_add\n",
    "# from nff.nn.utils import chemprop_msg_update, chemprop_msg_to_node\n",
    "\n",
    "# h = torch.tensor([[0.5488, 0.7152, 0.6028],\n",
    "#                 [0.5449, 0.4237, 0.6459],\n",
    "#                 [0.4376, 0.8918, 0.9637],\n",
    "#                 [0.3834, 0.7917, 0.5289],\n",
    "#                 [0.5680, 0.9256, 0.0710],\n",
    "#                 [0.0871, 0.0202, 0.8326]])\n",
    "# nbrs = torch.tensor([[1, 2],\n",
    "#                 [2, 1],\n",
    "#                 [2, 3],\n",
    "#                 [3, 2],\n",
    "#                 [2, 4],\n",
    "#                 [4, 2]])\n",
    "# h_12, h_31, h_23, h_32, h_24, h_42 = h\n",
    "\n",
    "# # m_{vw} = \\sum_{k in N(v) \\ w} h_{kv}\n",
    "# # m = [m_{12}, m_{21}, m_{23}, m_{32}, m_{24}, m_{42}]\n",
    "# # = [0, h_{32} + h_{42}, h_{12} + h_{42}, 0, h_{12} + h_{32},\n",
    "# #    0]\n",
    "\n",
    "# m = chemprop_msg_update(h, nbrs)\n",
    "# print(m)\n",
    "\n",
    "# # >> tensor([[0.0000, 0.0000, 0.0000],\n",
    "# #         [0.4706, 0.8119, 1.3615],\n",
    "# #         [0.6359, 0.7354, 1.4354],\n",
    "# #         [0.0000, 0.0000, 0.0000],\n",
    "# #         [0.9323, 1.5069, 1.1317],\n",
    "# #         [0.0000, 0.0000, 0.0000]])\n",
    "\n",
    "# expec_m = torch.stack([0 * h_32, h_32+ h_42, h_12 + h_42, h_12 + h_32, 0 *h_12])\n",
    "# print(expec_m)\n",
    "\n",
    "# # >> tensor([[0.0000, 0.0000, 0.0000],\n",
    "# #         [0.4706, 0.8119, 1.3615],\n",
    "# #         [0.6359, 0.7354, 1.4354],\n",
    "# #         [0.0000, 0.0000, 0.0000],\n",
    "# #         [0.9323, 1.5069, 1.1317],\n",
    "# #         [0.0000, 0.0000, 0.0000]])"
   ]
  },
  {
   "cell_type": "code",
   "execution_count": 3,
   "metadata": {},
   "outputs": [],
   "source": [
    "# h = torch.tensor([[0.5488, 0.7152, 0.6028],\n",
    "#                 [0.5449, 0.4237, 0.6459],\n",
    "#                 [0.4376, 0.8918, 0.9637],\n",
    "#                 [0.3834, 0.7917, 0.5289],\n",
    "#                 [0.5680, 0.9256, 0.0710],\n",
    "#                 [0.0871, 0.0202, 0.8326]])\n",
    "# nbrs = torch.tensor([[1, 2],\n",
    "#                 [2, 1],\n",
    "#                 [2, 3],\n",
    "#                 [3, 2],\n",
    "#                 [2, 4],\n",
    "#                 [4, 2]])\n",
    "# h_12, h_21, h_23, h_32, h_24, h_42 = h\n",
    "# num_nodes = 5\n",
    "\n",
    "# # m_v = \\sum_{w \\in N(v)} h_{vw}\n",
    "# # = [m_0, m_1, m_2, m_3, m_4]\n",
    "# # = [0, h_12, h_21 + h_23 + h_24, h_32 , h_42]\n",
    "\n",
    "# m = chemprop_msg_to_node(h, nbrs, 5)\n",
    "# print(m)\n",
    "\n",
    "# expec_m = torch.stack([torch.zeros_like(h_12),\n",
    "#             h_12, h_21 + h_23 + h_24, h_32, h_42])\n",
    "\n",
    "# print(expec_m)"
   ]
  },
  {
   "cell_type": "code",
   "execution_count": 4,
   "metadata": {},
   "outputs": [],
   "source": [
    "# import os \n",
    "# import django\n",
    "\n",
    "\n",
    "# os.environ[\"DJANGO_SETTINGS_MODULE\"]=\"djangochem.settings.orgel\"\n",
    "\n",
    "# django.setup()\n",
    "\n",
    "# from pgmols.models import Species\n",
    "\n",
    "\n",
    "# from nff.data import Dataset\n",
    "\n",
    "# main_pth = (\"/home/saxelrod/engaging_nfs/data_from_fock/data/\"\n",
    "#        \"covid_data/covid_mmff94_1_50k_features.pth.tar\")\n",
    "\n",
    "# # main_pth = (\"/home/saxelrod/engaging_nfs/data_from_fock/data/\"\n",
    "# #        \"covid_data/all_crest_features.pth.tar\")\n",
    "\n",
    "# newest_dataset = Dataset.from_file(main_pth)\n",
    "\n",
    "# # old_pth = (\"/home/saxelrod/engaging_nfs/data_from_fock/data/\"\n",
    "# #        \"covid_data/all_crest_features.pth.tar\")\n",
    "# # old_dataset = Dataset.from_file(old_pth)"
   ]
  },
  {
   "cell_type": "code",
   "execution_count": 5,
   "metadata": {},
   "outputs": [],
   "source": [
    "# def check_dataset(dataset):\n",
    "#     bind_idx = []\n",
    "#     for i, smiles in enumerate(dataset.props['smiles']):\n",
    "#         print(i)\n",
    "#         spec = Species.objects.get(smiles=smiles, group__name='covid')\n",
    "#         bind = spec.mol.details[\"sars_cov_one_cl_protease_active\"]\n",
    "\n",
    "#         bind_idx.append(i)\n",
    "#     old_bind_idx = [i for i, bind in enumerate(dataset.props['bind'])]\n",
    "#     print(bind_idx == old_bind_idx)\n",
    "# check_dataset(newest_dataset)"
   ]
  },
  {
   "cell_type": "code",
   "execution_count": 6,
   "metadata": {},
   "outputs": [],
   "source": [
    "# newest_dataset.props['bind'].sum()"
   ]
  },
  {
   "cell_type": "code",
   "execution_count": 7,
   "metadata": {},
   "outputs": [],
   "source": [
    "# old_bind_idx = torch.LongTensor([i for i, bind in enumerate(old_dataset.props['bind']) if bind ])\n",
    "\n",
    "# add_props = {}\n",
    "# for key, val in old_dataset.props.items():\n",
    "#     if type(val) is list:\n",
    "#         add_props[key] = [val[i] for i in old_bind_idx]\n",
    "#     else:\n",
    "#         add_props[key] = val[old_bind_idx]\n",
    "\n",
    "       "
   ]
  },
  {
   "cell_type": "code",
   "execution_count": 8,
   "metadata": {},
   "outputs": [],
   "source": [
    "# for key, val in newest_dataset.props.items():\n",
    "#     if type(val) is list:\n",
    "#         newest_dataset.props[key] = val + add_props[key]\n",
    "#     else:\n",
    "#         newest_dataset.props[key] = torch.cat((val, add_props[key]), dim=0)"
   ]
  },
  {
   "cell_type": "code",
   "execution_count": 9,
   "metadata": {},
   "outputs": [],
   "source": [
    "# newest_dataset.save(main_pth)"
   ]
  },
  {
   "cell_type": "code",
   "execution_count": 10,
   "metadata": {},
   "outputs": [],
   "source": [
    "# import torch\n",
    "\n",
    "# dataset.props['bind'] = []\n",
    "\n",
    "# for i, smiles in enumerate(dataset.props['smiles']):\n",
    "#     spec = Species.objects.get(smiles=smiles, group__name='covid')\n",
    "#     bind = spec.mol.details[\"sars_cov_one_cl_protease_active\"]\n",
    "    \n",
    "#     dataset.props['bind'].append(bind)\n",
    "\n",
    "    \n",
    "# dataset.props['bind'] = torch.LongTensor(dataset.props['bind'])\n",
    "\n"
   ]
  },
  {
   "cell_type": "code",
   "execution_count": null,
   "metadata": {},
   "outputs": [],
   "source": []
  },
  {
   "cell_type": "code",
   "execution_count": 11,
   "metadata": {},
   "outputs": [],
   "source": [
    "# old_bind_idx = [i for i, bind in enumerate(old_dataset.props['bind']) if bind ]\n",
    "# new_bind_idx = [i for i, bind in enumerate(dataset.props['bind']) if bind ]"
   ]
  },
  {
   "cell_type": "code",
   "execution_count": 12,
   "metadata": {},
   "outputs": [],
   "source": [
    "# print(len(old_bind_idx))\n",
    "# print(len(new_bind_idx))\n",
    "\n",
    "# print(len([i for i in new_bind_idx if i in old_bind_idx]))"
   ]
  },
  {
   "cell_type": "code",
   "execution_count": 13,
   "metadata": {},
   "outputs": [],
   "source": [
    "# dataset.save(main_pth)"
   ]
  },
  {
   "cell_type": "code",
   "execution_count": 2,
   "metadata": {},
   "outputs": [],
   "source": [
    "import sys\n",
    "sys.path.insert(0, \"..\")\n",
    "\n",
    "import os\n",
    "import shutil\n",
    "import numpy as np\n",
    "import matplotlib.pyplot as plt\n",
    "from sklearn.metrics import roc_curve, roc_auc_score, auc, precision_recall_curve\n",
    "\n",
    "\n",
    "import torch\n",
    "from torch.optim import Adam\n",
    "from torch.utils.data import DataLoader\n",
    "\n",
    "from nff.data import (Dataset, split_train_validation_test, \n",
    "                      collate_dicts, to_tensor, ImbalancedDatasetSampler)\n",
    "from nff.train import Trainer, get_trainer, get_model, load_model, loss, hooks, metrics, evaluate\n",
    "\n",
    "from nff.hypopt.data import trim_confs"
   ]
  },
  {
   "cell_type": "markdown",
   "metadata": {},
   "source": [
    "It might also be useful setting the GPU you want to use:"
   ]
  },
  {
   "cell_type": "code",
   "execution_count": 3,
   "metadata": {},
   "outputs": [],
   "source": [
    "DEVICE = 0\n",
    "BATCH_SIZE = 25\n",
    "MINI_BATCHES = int(50 / BATCH_SIZE)\n",
    "\n",
    "OUTDIR = './sandbox'\n",
    "\n",
    "if os.path.exists(OUTDIR):\n",
    "    newpath = os.path.join(os.path.dirname(OUTDIR), 'backup')\n",
    "    if os.path.exists(newpath):\n",
    "        shutil.rmtree(newpath)\n",
    "        \n",
    "    shutil.move(OUTDIR, newpath)"
   ]
  },
  {
   "cell_type": "markdown",
   "metadata": {},
   "source": [
    "## Loading the relevant data"
   ]
  },
  {
   "cell_type": "markdown",
   "metadata": {},
   "source": [
    "As we usually work with the database, we can pack their information in a class `Dataset`, which is a subclass of `torch.utils.data.Dataset`. It basically wraps information on the atomic numbers, energies, forces and SMILES strings for each one of the geometries. In this example, we already have a pre-compiled `Dataset` to be used. We start by loading this file and creating three slices of the original dataset\n",
    "\n",
    "# THESE SPLITS ARE LOST - NEED TO REMAKE THEM"
   ]
  },
  {
   "cell_type": "code",
   "execution_count": 6,
   "metadata": {},
   "outputs": [],
   "source": [
    "import os\n",
    "base_pth = \"/home/saxelrod/engaging_nfs/data_from_fock/data/covid_data/\"\n",
    "\n",
    "# main_pth = os.path.join(base_pth, \"covid_mmff94_1_50k_features_aid.pth.tar\")\n",
    "\n",
    "main_pth = os.path.join(base_pth, \"all_crest_features.pth.tar\")\n",
    "\n",
    "\n",
    "\n",
    "# suffixes = [\"mmff94_50k_1_aid_train.pth.tar\", \"mmff94_50k_1_aid_val.pth.tar\", \n",
    "#        \"mmff94_50k_1_aid_test.pth.tar\"]\n",
    "\n",
    "suffixes = [\"all_crest_train.pth.tar\", \"all_crest_val.pth.tar\", \n",
    "       \"all_crest_test.pth.tar\"]\n",
    "\n",
    "\n",
    "pths = [os.path.join(base_pth, suffix) for suffix in suffixes]\n",
    "\n",
    "\n",
    "if all([os.path.isfile(file) for file in pths]):\n",
    "    print(\"Loading from file...\")\n",
    "    train, val, test = [Dataset.from_file(pth) for pth in pths]\n",
    "    print(\"Loaded from file.\")\n",
    "else:\n",
    "\n",
    "    dataset = Dataset.from_file(main_pth)\n",
    "#     dataset = clean(dataset)\n",
    "    trim_confs(dataset, 1)\n",
    "    train, val, test = split_train_validation_test(dataset, binary=True, targ_name='bind')\n",
    "    for pth, dset in zip(pths, [train, val, test]):\n",
    "        dset.save(pth)\n",
    "\n",
    "    del dataset"
   ]
  },
  {
   "cell_type": "code",
   "execution_count": null,
   "metadata": {},
   "outputs": [],
   "source": []
  },
  {
   "cell_type": "code",
   "execution_count": 23,
   "metadata": {},
   "outputs": [],
   "source": [
    "dists = []\n",
    "for i, batch in enumerate(dataset):\n",
    "    a = batch[\"nbr_list\"]\n",
    "    xyz = batch['nxyz'][:, 1:]\n",
    "    n = xyz.size(0)\n",
    "    dist = (xyz.expand(n, n, 3) - xyz.expand(n, n, 3).transpose(0, 1)).pow(2).sum(dim=2\n",
    "                                                    ).sqrt().max()\n",
    "    dists.append(dist)\n",
    "    "
   ]
  },
  {
   "cell_type": "code",
   "execution_count": 24,
   "metadata": {},
   "outputs": [
    {
     "data": {
      "text/plain": [
       "30.715797"
      ]
     },
     "execution_count": 24,
     "metadata": {},
     "output_type": "execute_result"
    }
   ],
   "source": [
    "np.max(dists)"
   ]
  },
  {
   "cell_type": "code",
   "execution_count": 17,
   "metadata": {},
   "outputs": [
    {
     "name": "stdout",
     "output_type": "stream",
     "text": [
      "tensor(237)\n",
      "tensor(80)\n",
      "tensor(80)\n"
     ]
    }
   ],
   "source": [
    "print(train.props['bind'].sum())\n",
    "print(val.props['bind'].sum())\n",
    "print(test.props['bind'].sum())"
   ]
  },
  {
   "cell_type": "markdown",
   "metadata": {},
   "source": [
    "Create loaders with balanced datasets:"
   ]
  },
  {
   "cell_type": "code",
   "execution_count": 18,
   "metadata": {},
   "outputs": [],
   "source": [
    "loaders = []\n",
    "\n",
    "for split in [train, val, test]:\n",
    "    props = split.props\n",
    "    kwargs = {}\n",
    "#     if split in [train, test]:\n",
    "    if split in [train]:\n",
    "#     if True:\n",
    "        sampler = ImbalancedDatasetSampler(\n",
    "            target_name=\"bind\",\n",
    "            props=props)\n",
    "        kwargs.update({\"sampler\": sampler})\n",
    "    loader = DataLoader(split, batch_size=BATCH_SIZE, \n",
    "                        collate_fn=collate_dicts,\n",
    "                       **kwargs)\n",
    "    loaders.append(loader)\n",
    "    \n",
    "train_loader, val_loader, test_loader = loaders"
   ]
  },
  {
   "cell_type": "markdown",
   "metadata": {},
   "source": [
    "For example:"
   ]
  },
  {
   "cell_type": "code",
   "execution_count": 19,
   "metadata": {},
   "outputs": [
    {
     "name": "stdout",
     "output_type": "stream",
     "text": [
      "1782\n",
      "1731\n",
      "0.5072587532023911\n"
     ]
    }
   ],
   "source": [
    "num_bind = 0\n",
    "num_non_bind = 0\n",
    "\n",
    "for batch in train_loader:\n",
    "    bind = batch['bind'].sum()\n",
    "    non_bind = len(batch['bind']) - bind\n",
    "    \n",
    "    num_bind += bind.item()\n",
    "    num_non_bind += non_bind.item()\n",
    "        \n",
    "print(num_bind)\n",
    "print(num_non_bind)\n",
    "print(num_bind / (num_bind + num_non_bind))"
   ]
  },
  {
   "cell_type": "markdown",
   "metadata": {},
   "source": [
    "## Creating a model"
   ]
  },
  {
   "cell_type": "markdown",
   "metadata": {},
   "source": [
    "`nff` is based on SchNet. It parameterizes interatomic interactions in molecules and materials through a series of convolution layers with continuous filters. Here, we are going to create a simple model using the hyperparameters given on `params`:"
   ]
  },
  {
   "cell_type": "code",
   "execution_count": null,
   "metadata": {},
   "outputs": [],
   "source": []
  },
  {
   "cell_type": "code",
   "execution_count": 20,
   "metadata": {},
   "outputs": [],
   "source": [
    "n_atom_basis = next(iter(train_loader))[\"atom_features\"].shape[-1]\n",
    "n_bond_features = next(iter(train_loader))[\"bond_features\"].shape[-1]\n",
    "\n",
    "n_bond_hidden = 300\n",
    "\n",
    "n_filters = 30\n",
    "# n_filters = 1\n",
    "\n",
    "n_gaussians = 10\n",
    "n_edge_hidden = n_bond_hidden + n_filters\n",
    "n_mol_basis = 300\n",
    "\n",
    "\n",
    "mol_fp_drop = 0.0\n",
    "schnet_dropout = 0.5\n",
    "cp_dropout = 0.0\n",
    "readout_drop = 0.2\n",
    "\n",
    "\n",
    "# mol_fp_drop = 0.0\n",
    "# schnet_dropout = 0.0\n",
    "# cp_dropout = 0.0\n",
    "# readout_drop = 0.0\n",
    "\n",
    "n_convolutions = 2\n",
    "\n",
    "\n",
    "input_layers = [{'name': 'linear', 'param': {'in_features': n_bond_features + n_atom_basis,\n",
    "                                         'out_features': n_bond_hidden}},\n",
    "            {'name': 'ReLU', 'param': {}}]\n",
    "\n",
    "output_layers = [{'name': 'linear', 'param': {'in_features': n_atom_basis + n_edge_hidden,\n",
    "                                         'out_features': n_mol_basis}},\n",
    "                {'name': 'ReLU', 'param': {}}]\n",
    "\n",
    "readoutdict = {'bind': [\n",
    "            {'name': 'linear', 'param' : { 'in_features': n_mol_basis, 'out_features': int(n_mol_basis / 2)}},\n",
    "            {'name': 'ReLU', 'param': {}},\n",
    "            {'name': 'Dropout', 'param': {'p': readout_drop}},\n",
    "            {'name': 'linear', 'param' : { 'in_features': int(n_mol_basis / 2), 'out_features': 1}},\n",
    "            {'name': 'sigmoid', 'param': {}},\n",
    "        ]\n",
    "    }\n",
    "\n",
    "\n",
    "mol_fp_layers = []\n",
    "\n",
    "\n",
    "\n",
    "params = {\n",
    "    'n_atom_basis': n_atom_basis,\n",
    "    'n_bond_hidden': n_bond_hidden,\n",
    "    'input_layers': input_layers,\n",
    "    'output_layers': output_layers,\n",
    "    'n_filters': n_filters,\n",
    "    'n_gaussians': n_gaussians,\n",
    "    'cp_dropout': cp_dropout,\n",
    "    'schnet_dropout': schnet_dropout,\n",
    "    'gauss_embed': True,\n",
    "    'n_convolutions': n_convolutions,\n",
    "    'cutoff': 5.0,\n",
    "    'trainable_gauss': True,\n",
    "    'dropout_rate': schnet_dropout,\n",
    "    'readoutdict': readoutdict,\n",
    "    'boltzmann_dict': {'type': 'multiply'},\n",
    "    'mol_fp_layers': mol_fp_layers,\n",
    "    'same_filters': True\n",
    "    \n",
    "}\n",
    "\n",
    "\n",
    "\n",
    "model = get_model(params, model_type=\"SchNetFeatures\")"
   ]
  },
  {
   "cell_type": "markdown",
   "metadata": {},
   "source": [
    "## Creating a trainer"
   ]
  },
  {
   "cell_type": "code",
   "execution_count": 21,
   "metadata": {},
   "outputs": [
    {
     "data": {
      "text/plain": [
       "SchNetFeatures(\n",
       "  (convolutions): ModuleList(\n",
       "    (0): CpSchNetConv(\n",
       "      (dense): Dense(\n",
       "        in_features=300, out_features=300, bias=False\n",
       "        (dropout): Dropout(p=0.0, inplace=False)\n",
       "      )\n",
       "      (activation): ReLU()\n",
       "      (moduledict): ModuleDict(\n",
       "        (edge_filter): Sequential(\n",
       "          (0): GaussianSmearing()\n",
       "          (1): Dense(\n",
       "            in_features=10, out_features=30, bias=True\n",
       "            (dropout): Dropout(p=0.5, inplace=False)\n",
       "          )\n",
       "          (2): ReLU()\n",
       "        )\n",
       "      )\n",
       "    )\n",
       "    (1): CpSchNetConv(\n",
       "      (dense): Dense(\n",
       "        in_features=300, out_features=300, bias=False\n",
       "        (dropout): Dropout(p=0.0, inplace=False)\n",
       "      )\n",
       "      (activation): ReLU()\n",
       "      (moduledict): ModuleDict(\n",
       "        (edge_filter): Sequential(\n",
       "          (0): GaussianSmearing()\n",
       "          (1): Dense(\n",
       "            in_features=10, out_features=30, bias=True\n",
       "            (dropout): Dropout(p=0.5, inplace=False)\n",
       "          )\n",
       "          (2): ReLU()\n",
       "        )\n",
       "      )\n",
       "    )\n",
       "  )\n",
       "  (mol_fp_nn): Sequential()\n",
       "  (readout): NodeMultiTaskReadOut(\n",
       "    (readout): ModuleDict(\n",
       "      (bind): Sequential(\n",
       "        (linear0): Linear(in_features=300, out_features=150, bias=True)\n",
       "        (ReLU1): ReLU()\n",
       "        (Dropout2): Dropout(p=0.2, inplace=False)\n",
       "        (linear3): Linear(in_features=150, out_features=1, bias=True)\n",
       "        (sigmoid4): Sigmoid()\n",
       "      )\n",
       "    )\n",
       "  )\n",
       "  (W_i): ChemPropInit(\n",
       "    (input): Sequential(\n",
       "      (linear0): Linear(in_features=160, out_features=300, bias=False)\n",
       "      (ReLU1): ReLU()\n",
       "    )\n",
       "  )\n",
       "  (W_o): ChemPropMsgToNode(\n",
       "    (output): Sequential(\n",
       "      (linear0): Linear(in_features=464, out_features=300, bias=False)\n",
       "      (ReLU1): ReLU()\n",
       "    )\n",
       "  )\n",
       ")"
      ]
     },
     "execution_count": 21,
     "metadata": {},
     "output_type": "execute_result"
    }
   ],
   "source": [
    "model"
   ]
  },
  {
   "cell_type": "markdown",
   "metadata": {},
   "source": [
    "To train our model with the data provided, we have to create a loss function. The easiest way to do that is through the `build_mse_loss` builder. Its argument `rho` is a parameter that will multiply the mean square error (MSE) of the force components before summing it with the MSE of the energy."
   ]
  },
  {
   "cell_type": "code",
   "execution_count": 22,
   "metadata": {},
   "outputs": [],
   "source": [
    "loss_fn = loss.build_cross_entropy_loss(loss_coef={'bind': 1})"
   ]
  },
  {
   "cell_type": "markdown",
   "metadata": {},
   "source": [
    "We should also select an optimizer for our recently created model:"
   ]
  },
  {
   "cell_type": "code",
   "execution_count": 23,
   "metadata": {},
   "outputs": [],
   "source": [
    "trainable_params = filter(lambda p: p.requires_grad, model.parameters())\n",
    "optimizer = Adam(trainable_params, lr=1e-4)"
   ]
  },
  {
   "cell_type": "markdown",
   "metadata": {},
   "source": [
    "### Metrics and hooks"
   ]
  },
  {
   "cell_type": "markdown",
   "metadata": {},
   "source": [
    "If we want to monitor the progress of our training, say by looking at the mean absolute error (MAE) of energies and forces, we can simply create metrics to observe them:"
   ]
  },
  {
   "cell_type": "code",
   "execution_count": 24,
   "metadata": {},
   "outputs": [],
   "source": [
    "train_metrics = [\n",
    "    metrics.RocAuc('bind'),\n",
    "    metrics.PrAuc('bind')\n",
    "]"
   ]
  },
  {
   "cell_type": "markdown",
   "metadata": {},
   "source": [
    "Furthermore, if we want to customize how our training procedure is done, we can use hooks which can interrupt or change the train automatically.\n",
    "\n",
    "In our case, we are adding hooks to:\n",
    "* Stop the training procedure after 100 epochs;\n",
    "* Log the training on a machine-readable CSV file under the directory `./sandbox`;\n",
    "* Print the progress on the screen with custom formatting; and\n",
    "* Setup a scheduler for the learning rate."
   ]
  },
  {
   "cell_type": "code",
   "execution_count": 25,
   "metadata": {},
   "outputs": [],
   "source": [
    "train_hooks = [\n",
    "    hooks.MaxEpochHook(1000),\n",
    "    hooks.CSVHook(\n",
    "        OUTDIR,\n",
    "        metrics=train_metrics,\n",
    "    ),\n",
    "    hooks.PrintingHook(\n",
    "        OUTDIR,\n",
    "        metrics=train_metrics,\n",
    "        separator = ' | ',\n",
    "        time_strf='%M:%S'\n",
    "    ),\n",
    "    hooks.ReduceLROnPlateauHook(\n",
    "        optimizer=optimizer,\n",
    "        patience=10,\n",
    "        factor=0.5,\n",
    "        min_lr=1e-7,\n",
    "        window_length=1,\n",
    "        stop_after_min=True\n",
    "    )\n",
    "]"
   ]
  },
  {
   "cell_type": "markdown",
   "metadata": {},
   "source": [
    "### Trainer wrapper"
   ]
  },
  {
   "cell_type": "markdown",
   "metadata": {},
   "source": [
    "# ** no longer true: DON'T FORGET --- WE'RE CURRENTLY USING BONDED NBRS IN PLACE OF A FOR COMPARISON"
   ]
  },
  {
   "cell_type": "markdown",
   "metadata": {},
   "source": [
    "A `Trainer` in the `nff` package is a wrapper to train a model. It automatically creates checkpoints, as well as trains and validates a given model. It also allow further training by loading checkpoints from existing paths, making the training procedure more flexible. Its functionalities can be extended by the hooks we created above. To create a trainer, we have to execute the following command:"
   ]
  },
  {
   "cell_type": "code",
   "execution_count": 26,
   "metadata": {},
   "outputs": [],
   "source": [
    "T = Trainer(\n",
    "    model_path=OUTDIR,\n",
    "    model=model,\n",
    "    loss_fn=loss_fn,\n",
    "    optimizer=optimizer,\n",
    "    train_loader=train_loader,\n",
    "    validation_loader=val_loader,\n",
    "    checkpoint_intbatcerval=1,\n",
    "    hooks=train_hooks,\n",
    "    mini_batches=MINI_BATCHES\n",
    ")"
   ]
  },
  {
   "cell_type": "markdown",
   "metadata": {},
   "source": [
    "Now we can finally train the model using the method `train` from the `Trainer`:"
   ]
  },
  {
   "cell_type": "code",
   "execution_count": 27,
   "metadata": {
    "scrolled": false
   },
   "outputs": [
    {
     "name": "stdout",
     "output_type": "stream",
     "text": [
      " Time | Epoch | Learning rate | Train loss | Validation loss | RocAuc_bind | PrAuc_bind | GPU Memory (MB)\n",
      "42:45 |     1 |     1.000e-04 |     0.9213 |          0.7305 |      0.7405 |     0.1493 |            6382\n",
      "43:05 |     2 |     1.000e-04 |     0.5921 |          0.6534 |      0.7709 |     0.1895 |            6382\n",
      "43:25 |     3 |     1.000e-04 |     0.5430 |          0.3913 |      0.7945 |     0.2589 |            6382\n",
      "43:45 |     4 |     1.000e-04 |     0.5432 |          0.5075 |      0.8039 |     0.2546 |            6382\n",
      "44:07 |     5 |     1.000e-04 |     0.5265 |          0.7188 |      0.7960 |     0.2336 |            6382\n",
      "44:27 |     6 |     1.000e-04 |     0.4891 |          0.5306 |      0.8246 |     0.2973 |            6382\n",
      "44:48 |     7 |     1.000e-04 |     0.4526 |          0.3800 |      0.8274 |     0.3066 |            6382\n",
      "45:08 |     8 |     1.000e-04 |     0.4527 |          0.5375 |      0.8311 |     0.3247 |            6382\n",
      "45:30 |     9 |     1.000e-04 |     0.4337 |          0.7716 |      0.8243 |     0.3041 |            6382\n",
      "45:49 |    10 |     1.000e-04 |     0.4293 |          0.2830 |      0.8438 |     0.3548 |            6382\n",
      "46:10 |    11 |     1.000e-04 |     0.4238 |          0.4260 |      0.8467 |     0.3849 |            6382\n",
      "46:29 |    12 |     1.000e-04 |     0.4045 |          0.3696 |      0.8440 |     0.3163 |            6382\n",
      "46:49 |    13 |     1.000e-04 |     0.4013 |          0.4280 |      0.8614 |     0.4154 |            6382\n",
      "47:09 |    14 |     1.000e-04 |     0.3745 |          0.2607 |      0.8596 |     0.4294 |            6382\n",
      "47:32 |    15 |     1.000e-04 |     0.3792 |          0.4483 |      0.8671 |     0.4128 |            6382\n",
      "47:52 |    16 |     1.000e-04 |     0.3453 |          0.2677 |      0.8720 |     0.4480 |            6382\n",
      "48:12 |    17 |     1.000e-04 |     0.3414 |          0.2425 |      0.8736 |     0.4598 |            6382\n",
      "48:33 |    18 |     1.000e-04 |     0.3356 |          0.4594 |      0.8779 |     0.4339 |            6382\n",
      "48:53 |    19 |     1.000e-04 |     0.3357 |          0.3334 |      0.8740 |     0.4567 |            6382\n",
      "49:14 |    20 |     1.000e-04 |     0.3125 |          0.4453 |      0.8794 |     0.4475 |            6382\n",
      "49:33 |    21 |     1.000e-04 |     0.3006 |          0.3020 |      0.8745 |     0.4700 |            6382\n",
      "49:54 |    22 |     1.000e-04 |     0.2794 |          0.2722 |      0.8702 |     0.4818 |            6382\n",
      "50:14 |    23 |     1.000e-04 |     0.3129 |          0.3840 |      0.8764 |     0.4543 |            6382\n",
      "50:35 |    24 |     1.000e-04 |     0.2849 |          0.4367 |      0.8688 |     0.4571 |            6382\n",
      "50:55 |    25 |     1.000e-04 |     0.2607 |          0.3217 |      0.8683 |     0.4634 |            6382\n",
      "51:16 |    26 |     1.000e-04 |     0.2508 |          0.2603 |      0.8750 |     0.4784 |            6382\n",
      "51:37 |    27 |     1.000e-04 |     0.2581 |          0.2795 |      0.8754 |     0.4551 |            6382\n",
      "51:57 |    28 |     1.000e-04 |     0.2479 |          0.2686 |      0.8771 |     0.4378 |            6382\n",
      "52:18 |    29 |     5.000e-05 |     0.2398 |          0.2749 |      0.8732 |     0.4634 |            6382\n",
      "52:39 |    30 |     5.000e-05 |     0.2104 |          0.2681 |      0.8738 |     0.4789 |            6382\n",
      "53:00 |    31 |     5.000e-05 |     0.2182 |          0.4006 |      0.8744 |     0.4581 |            6382\n",
      "53:20 |    32 |     5.000e-05 |     0.2222 |          0.2535 |      0.8697 |     0.4622 |            6382\n",
      "53:41 |    33 |     5.000e-05 |     0.2121 |          0.3268 |      0.8712 |     0.4575 |            6382\n",
      "54:03 |    34 |     5.000e-05 |     0.2038 |          0.3264 |      0.8669 |     0.4701 |            6382\n",
      "54:23 |    35 |     5.000e-05 |     0.2077 |          0.3887 |      0.8732 |     0.4756 |            6382\n",
      "54:44 |    36 |     5.000e-05 |     0.2207 |          0.5038 |      0.8723 |     0.4520 |            6382\n",
      "55:05 |    37 |     5.000e-05 |     0.2036 |          0.3513 |      0.8730 |     0.4646 |            6382\n",
      "55:26 |    38 |     5.000e-05 |     0.1917 |          0.3670 |      0.8717 |     0.4767 |            6382\n",
      "55:48 |    39 |     5.000e-05 |     0.2079 |          0.3351 |      0.8712 |     0.4811 |            6382\n",
      "56:08 |    40 |     2.500e-05 |     0.1911 |          0.2955 |      0.8704 |     0.4856 |            6382\n",
      "56:28 |    41 |     2.500e-05 |     0.1805 |          0.3198 |      0.8708 |     0.4787 |            6671\n",
      "56:49 |    42 |     2.500e-05 |     0.1789 |          0.3296 |      0.8690 |     0.4707 |            6671\n",
      "57:09 |    43 |     2.500e-05 |     0.1803 |          0.3731 |      0.8719 |     0.4684 |            6671\n",
      "57:29 |    44 |     2.500e-05 |     0.1796 |          0.3449 |      0.8676 |     0.4749 |            6671\n",
      "57:49 |    45 |     2.500e-05 |     0.1908 |          0.2915 |      0.8669 |     0.4753 |            6671\n",
      "58:10 |    46 |     2.500e-05 |     0.1826 |          0.3251 |      0.8723 |     0.4705 |            6671\n",
      "58:29 |    47 |     2.500e-05 |     0.1843 |          0.3477 |      0.8703 |     0.4754 |            6671\n",
      "58:49 |    48 |     2.500e-05 |     0.1773 |          0.3090 |      0.8732 |     0.4763 |            6671\n",
      "59:10 |    49 |     2.500e-05 |     0.1746 |          0.3781 |      0.8708 |     0.4693 |            6671\n",
      "59:30 |    50 |     2.500e-05 |     0.1768 |          0.3183 |      0.8729 |     0.4765 |            6671\n",
      "59:50 |    51 |     1.250e-05 |     0.1678 |          0.3555 |      0.8740 |     0.4744 |            6671\n",
      "00:11 |    52 |     1.250e-05 |     0.1822 |          0.2866 |      0.8711 |     0.4639 |            6671\n",
      "00:31 |    53 |     1.250e-05 |     0.1737 |          0.3407 |      0.8709 |     0.4756 |            6671\n",
      "00:52 |    54 |     1.250e-05 |     0.1840 |          0.3389 |      0.8709 |     0.4773 |            6671\n",
      "01:13 |    55 |     1.250e-05 |     0.1783 |          0.2962 |      0.8690 |     0.4791 |            6671\n",
      "01:33 |    56 |     1.250e-05 |     0.1550 |          0.3311 |      0.8702 |     0.4817 |            6671\n",
      "01:53 |    57 |     1.250e-05 |     0.1714 |          0.3263 |      0.8678 |     0.4758 |            6671\n",
      "02:14 |    58 |     1.250e-05 |     0.1638 |          0.3935 |      0.8716 |     0.4731 |            6671\n",
      "02:34 |    59 |     1.250e-05 |     0.1614 |          0.3544 |      0.8701 |     0.4738 |            6671\n",
      "02:54 |    60 |     1.250e-05 |     0.1657 |          0.3518 |      0.8699 |     0.4752 |            6671\n",
      "03:14 |    61 |     1.250e-05 |     0.1680 |          0.3593 |      0.8692 |     0.4727 |            6671\n",
      "03:35 |    62 |     6.250e-06 |     0.1460 |          0.3274 |      0.8682 |     0.4761 |            6671\n",
      "03:57 |    63 |     6.250e-06 |     0.1483 |          0.3338 |      0.8700 |     0.4759 |            6671\n",
      "04:17 |    64 |     6.250e-06 |     0.1600 |          0.3311 |      0.8702 |     0.4791 |            6671\n",
      "04:38 |    65 |     6.250e-06 |     0.1495 |          0.3356 |      0.8705 |     0.4773 |            6671\n",
      "04:58 |    66 |     6.250e-06 |     0.1592 |          0.3248 |      0.8699 |     0.4753 |            6671\n",
      "05:19 |    67 |     6.250e-06 |     0.1571 |          0.3156 |      0.8697 |     0.4744 |            6671\n",
      "05:39 |    68 |     6.250e-06 |     0.1583 |          0.3664 |      0.8696 |     0.4764 |            6671\n",
      "06:01 |    69 |     6.250e-06 |     0.1544 |          0.3378 |      0.8689 |     0.4764 |            6671\n",
      "06:22 |    70 |     6.250e-06 |     0.1722 |          0.3902 |      0.8690 |     0.4705 |            6671\n",
      "06:42 |    71 |     6.250e-06 |     0.1682 |          0.3640 |      0.8696 |     0.4736 |            6671\n",
      "07:02 |    72 |     6.250e-06 |     0.1580 |          0.3521 |      0.8680 |     0.4732 |            6671\n",
      "07:22 |    73 |     3.125e-06 |     0.1536 |          0.3307 |      0.8678 |     0.4729 |            6671\n",
      "07:43 |    74 |     3.125e-06 |     0.1608 |          0.3451 |      0.8685 |     0.4740 |            6671\n",
      "08:03 |    75 |     3.125e-06 |     0.1602 |          0.3336 |      0.8690 |     0.4722 |            6671\n",
      "08:23 |    76 |     3.125e-06 |     0.1560 |          0.3115 |      0.8680 |     0.4739 |            6671\n",
      "08:43 |    77 |     3.125e-06 |     0.1538 |          0.3479 |      0.8690 |     0.4746 |            6671\n"
     ]
    },
    {
     "name": "stdout",
     "output_type": "stream",
     "text": [
      "09:04 |    78 |     3.125e-06 |     0.1599 |          0.3520 |      0.8693 |     0.4736 |            6671\n",
      "09:24 |    79 |     3.125e-06 |     0.1533 |          0.3193 |      0.8675 |     0.4738 |            6671\n",
      "09:43 |    80 |     3.125e-06 |     0.1522 |          0.3249 |      0.8682 |     0.4719 |            6671\n",
      "10:03 |    81 |     3.125e-06 |     0.1613 |          0.3457 |      0.8698 |     0.4738 |            6862\n",
      "10:25 |    82 |     3.125e-06 |     0.1740 |          0.3477 |      0.8692 |     0.4739 |            6862\n",
      "10:44 |    83 |     3.125e-06 |     0.1624 |          0.3316 |      0.8694 |     0.4742 |            6862\n",
      "11:04 |    84 |     1.563e-06 |     0.1596 |          0.3300 |      0.8685 |     0.4731 |            6862\n",
      "11:25 |    85 |     1.563e-06 |     0.1534 |          0.3453 |      0.8693 |     0.4753 |            6862\n",
      "11:46 |    86 |     1.563e-06 |     0.1426 |          0.3193 |      0.8679 |     0.4745 |            6862\n",
      "12:05 |    87 |     1.563e-06 |     0.1548 |          0.3390 |      0.8684 |     0.4751 |            6862\n",
      "12:27 |    88 |     1.563e-06 |     0.1647 |          0.3242 |      0.8686 |     0.4741 |            6862\n",
      "12:48 |    89 |     1.563e-06 |     0.1505 |          0.3509 |      0.8682 |     0.4737 |            6862\n",
      "13:08 |    90 |     1.563e-06 |     0.1531 |          0.3425 |      0.8686 |     0.4745 |            6862\n",
      "13:29 |    91 |     1.563e-06 |     0.1567 |          0.3408 |      0.8684 |     0.4742 |            6862\n",
      "13:49 |    92 |     1.563e-06 |     0.1725 |          0.3260 |      0.8682 |     0.4747 |            6862\n",
      "14:10 |    93 |     1.563e-06 |     0.1711 |          0.3259 |      0.8682 |     0.4753 |            6862\n",
      "14:31 |    94 |     1.563e-06 |     0.1534 |          0.3371 |      0.8690 |     0.4744 |            6862\n",
      "14:52 |    95 |     7.813e-07 |     0.1522 |          0.3575 |      0.8691 |     0.4742 |            6862\n",
      "15:11 |    96 |     7.813e-07 |     0.1599 |          0.3321 |      0.8685 |     0.4748 |            6862\n",
      "15:32 |    97 |     7.813e-07 |     0.1586 |          0.3454 |      0.8689 |     0.4740 |            6862\n",
      "15:52 |    98 |     7.813e-07 |     0.1436 |          0.3345 |      0.8682 |     0.4738 |            6862\n",
      "16:13 |    99 |     7.813e-07 |     0.1652 |          0.3330 |      0.8683 |     0.4748 |            6862\n",
      "16:33 |   100 |     7.813e-07 |     0.1415 |          0.3388 |      0.8685 |     0.4746 |            6862\n",
      "16:54 |   101 |     7.813e-07 |     0.1520 |          0.3395 |      0.8686 |     0.4744 |            6862\n",
      "17:14 |   102 |     7.813e-07 |     0.1376 |          0.3362 |      0.8685 |     0.4751 |            6862\n",
      "17:35 |   103 |     7.813e-07 |     0.1597 |          0.3421 |      0.8691 |     0.4740 |            6862\n",
      "17:55 |   104 |     7.813e-07 |     0.1499 |          0.3296 |      0.8685 |     0.4746 |            6862\n",
      "18:15 |   105 |     7.813e-07 |     0.1586 |          0.3352 |      0.8685 |     0.4755 |            6862\n",
      "18:35 |   106 |     3.906e-07 |     0.1481 |          0.3404 |      0.8686 |     0.4747 |            6862\n",
      "18:55 |   107 |     3.906e-07 |     0.1592 |          0.3319 |      0.8687 |     0.4748 |            6862\n",
      "19:15 |   108 |     3.906e-07 |     0.1453 |          0.3386 |      0.8689 |     0.4749 |            6862\n",
      "19:35 |   109 |     3.906e-07 |     0.1619 |          0.3342 |      0.8686 |     0.4742 |            6862\n",
      "19:56 |   110 |     3.906e-07 |     0.1533 |          0.3392 |      0.8688 |     0.4750 |            6862\n",
      "20:16 |   111 |     3.906e-07 |     0.1590 |          0.3350 |      0.8687 |     0.4752 |            6862\n",
      "20:36 |   112 |     3.906e-07 |     0.1554 |          0.3326 |      0.8686 |     0.4746 |            6862\n",
      "20:57 |   113 |     3.906e-07 |     0.1616 |          0.3352 |      0.8687 |     0.4746 |            6862\n",
      "21:18 |   114 |     3.906e-07 |     0.1447 |          0.3291 |      0.8687 |     0.4750 |            6862\n",
      "21:38 |   115 |     3.906e-07 |     0.1479 |          0.3316 |      0.8684 |     0.4740 |            6862\n",
      "21:57 |   116 |     3.906e-07 |     0.1497 |          0.3297 |      0.8684 |     0.4743 |            6862\n",
      "22:18 |   117 |     1.953e-07 |     0.1549 |          0.3275 |      0.8685 |     0.4740 |            6862\n",
      "22:39 |   118 |     1.953e-07 |     0.1738 |          0.3250 |      0.8685 |     0.4750 |            6862\n",
      "23:00 |   119 |     1.953e-07 |     0.1571 |          0.3321 |      0.8688 |     0.4747 |            6862\n",
      "23:20 |   120 |     1.953e-07 |     0.1534 |          0.3316 |      0.8687 |     0.4747 |            6862\n",
      "23:39 |   121 |     1.953e-07 |     0.1567 |          0.3324 |      0.8688 |     0.4753 |            6862\n",
      "23:59 |   122 |     1.953e-07 |     0.1514 |          0.3319 |      0.8688 |     0.4752 |            6862\n",
      "24:20 |   123 |     1.953e-07 |     0.1617 |          0.3348 |      0.8686 |     0.4744 |            6862\n",
      "24:40 |   124 |     1.953e-07 |     0.1670 |          0.3281 |      0.8683 |     0.4742 |            6862\n",
      "25:00 |   125 |     1.953e-07 |     0.1461 |          0.3324 |      0.8685 |     0.4750 |            6862\n",
      "25:21 |   126 |     1.953e-07 |     0.1575 |          0.3349 |      0.8685 |     0.4742 |            6862\n",
      "25:42 |   127 |     1.953e-07 |     0.1526 |          0.3321 |      0.8686 |     0.4750 |            6862\n"
     ]
    }
   ],
   "source": [
    "import pdb\n",
    "\n",
    "try:\n",
    "    T.train(device=DEVICE, n_epochs=1000)\n",
    "except Exception as e:\n",
    "    print(e)\n",
    "    pdb.post_mortem()"
   ]
  },
  {
   "cell_type": "markdown",
   "metadata": {},
   "source": [
    "## Evaluating the model on the test set"
   ]
  },
  {
   "cell_type": "markdown",
   "metadata": {},
   "source": [
    "Now we have a brand new model trained and validated. We can use the best model from this training to evaluate its performance on the test set. `results` contains the predictions of properties for the whole test dataset. `targets` contains the ground truth for such data. `test_loss` is the loss, calculated with the same function used during the training part"
   ]
  },
  {
   "cell_type": "code",
   "execution_count": 28,
   "metadata": {},
   "outputs": [],
   "source": [
    "# props = test.props\n",
    "# kwargs = {}\n",
    "# sampler = ImbalancedDatasetSampler(\n",
    "#     target_name=\"bind\",\n",
    "#     props=props)\n",
    "# kwargs.update({\"sampler\": sampler})\n",
    "# rand_test_loader = DataLoader(test, batch_size=BATCH_SIZE, \n",
    "#                     collate_fn=collate_dicts,\n",
    "#                    **kwargs)"
   ]
  },
  {
   "cell_type": "code",
   "execution_count": 29,
   "metadata": {},
   "outputs": [],
   "source": [
    "# results, targets, val_loss = evaluate(T.get_best_model(), test_loader, loss_fn, device=DEVICE)\n",
    "results, targets, val_loss = evaluate(model, test_loader, loss_fn, device=DEVICE)\n",
    "\n",
    "\n",
    "# results, targets, val_loss = evaluate(model, rand_test_loader, loss_fn, device=DEVICE)\n",
    "\n",
    "\n",
    "# results, targets, val_loss = evaluate(T.get_best_model(), test_loader, loss_fn, device=DEVICE)"
   ]
  },
  {
   "cell_type": "code",
   "execution_count": 30,
   "metadata": {},
   "outputs": [],
   "source": [
    "y_score = torch.cat(results['bind']).reshape(-1).numpy()\n",
    "y_true = torch.cat(targets['bind']).reshape(-1).numpy()\n",
    "\n",
    "roc_score = roc_auc_score(y_true=y_true, y_score=y_score)\n",
    "fpr, tpr, thresholds = roc_curve(y_true=y_true, y_score=y_score)\n",
    "\n",
    "precision, recall, thresholds = precision_recall_curve(y_true, y_score)\n",
    "prc_score = auc(recall, precision)\n"
   ]
  },
  {
   "cell_type": "code",
   "execution_count": null,
   "metadata": {},
   "outputs": [],
   "source": []
  },
  {
   "cell_type": "code",
   "execution_count": 31,
   "metadata": {
    "scrolled": true
   },
   "outputs": [
    {
     "data": {
      "image/png": "[encoded data removed]",
      "text/plain": [
       "<Figure size 432x288 with 1 Axes>"
      ]
     },
     "metadata": {
      "needs_background": "light"
     },
     "output_type": "display_data"
    },
    {
     "data": {
      "image/png": "[encoded data removed]",
      "text/plain": [
       "<Figure size 432x288 with 1 Axes>"
      ]
     },
     "metadata": {
      "needs_background": "light"
     },
     "output_type": "display_data"
    }
   ],
   "source": [
    "plt.rcParams.update({'font.size': 15})\n",
    "\n",
    "\n",
    "text = \"ROC score = %.2f\" % roc_score\n",
    "\n",
    "fig, ax = plt.subplots()\n",
    "plt.plot(fpr, tpr)\n",
    "plt.xlabel('False positive rate')\n",
    "plt.ylabel('True positive rate')\n",
    "plt.text(0.3, 0.5, text, fontsize=20, transform=ax.transAxes)\n",
    "\n",
    "plt.show()\n",
    "\n",
    "\n",
    "\n",
    "\n",
    "text = \"PRC score = %.2f\" % prc_score\n",
    "\n",
    "fig, ax = plt.subplots()\n",
    "plt.plot(precision, recall)\n",
    "plt.xlabel('Precision')\n",
    "plt.ylabel('Recall')\n",
    "plt.text(0.3, 0.5, text, fontsize=20, transform=ax.transAxes)\n",
    "\n",
    "\n",
    "plt.show()"
   ]
  },
  {
   "cell_type": "markdown",
   "metadata": {},
   "source": [
    "# Old scores\n",
    "- **ChemProp**, last model: \n",
    "    - val: 0.93 ROC, 0.71 PRC\n",
    "    - test: 0.93 ROC, **0.70 PRC**\n",
    "    \n",
    "- **ChemProp**, \"best\" model: \n",
    "\n",
    "    - test: 0.90 ROC, **0.59 PRC**\n",
    "    \n",
    "- **CpSchnet**, last model: \n",
    "    - val: 0.92 ROC, 0.58 PRC\n",
    "    - test: 0.92 ROC, **0.60 PRC**\n",
    "    \n",
    "- **CpSchnet**, \"best model: \n",
    "\n",
    "    - test: 0.91 ROC, **0.58 PRC**\n",
    "    "
   ]
  },
  {
   "cell_type": "code",
   "execution_count": null,
   "metadata": {},
   "outputs": [],
   "source": []
  },
  {
   "cell_type": "code",
   "execution_count": null,
   "metadata": {},
   "outputs": [],
   "source": []
  }
 ],
 "metadata": {
  "kernelspec": {
   "display_name": "Python [conda env:covid_mit]",
   "language": "python",
   "name": "covid_mit"
  },
  "language_info": {
   "codemirror_mode": {
    "name": "ipython",
    "version": 3
   },
   "file_extension": ".py",
   "mimetype": "text/x-python",
   "name": "python",
   "nbconvert_exporter": "python",
   "pygments_lexer": "ipython3",
   "version": "3.6.10"
  }
 },
 "nbformat": 4,
 "nbformat_minor": 2
}
