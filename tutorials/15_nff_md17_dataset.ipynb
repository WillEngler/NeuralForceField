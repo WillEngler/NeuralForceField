{
 "cells": [
  {
   "cell_type": "markdown",
   "metadata": {},
   "source": [
    "# Create NFF dataset from MD17\n",
    "\n",
    "MD17 is a popular benchmark dataset with forces and energies from molecular dynamics trajectories of small molecules. \n",
    "\n",
    "This brief tutorial shows how to use the utility function `get_md17_dataset` to prepare an MD17 dataset for NFF.\n",
    "\n",
    "Refs\n",
    "* http://quantum-machine.org/gdml/#datasets\n",
    "* Chmiela, S., Tkatchenko, A., Sauceda, H. E., Poltavsky, I., Schütt, K. T., Müller, K.-R., Science Advances, 3(5), 2017, e1603015."
   ]
  },
  {
   "cell_type": "code",
   "execution_count": 1,
   "metadata": {},
   "outputs": [],
   "source": [
    "%load_ext autoreload\n",
    "%autoreload 2"
   ]
  },
  {
   "cell_type": "code",
   "execution_count": 2,
   "metadata": {},
   "outputs": [],
   "source": [
    "from nff.data import Dataset\n",
    "from nff.data.utils import get_md17_dataset"
   ]
  },
  {
   "cell_type": "markdown",
   "metadata": {},
   "source": [
    "Download and prepare NFF dataset for one of aspirin, benzene, ethanol, malonaldehyde, naphthalene, salicylic, toluene, uracil, paracetamol, or azobenzene.\n",
    "\n",
    "This might take a minute."
   ]
  },
  {
   "cell_type": "code",
   "execution_count": 3,
   "metadata": {},
   "outputs": [
    {
     "name": "stdout",
     "output_type": "stream",
     "text": [
      "Retrieving data from http://www.quantum-machine.org/gdml/data/npz/benzene2018_dft.npz\n"
     ]
    },
    {
     "name": "stderr",
     "output_type": "stream",
     "text": [
      "/home/dux/NeuralForceField/nff/data/dataset.py:221: UserWarning: torch.sparse.SparseTensor(shape, *, device=) is deprecated.  Please use torch.sparse_coo_tensor(shape, dtype=, device=). (Triggered internally at ../torch/csrc/utils/tensor_new.cpp:650.)\n",
      "  self.props[offset_key] = [torch.sparse.FloatTensor(nbrlist.shape[0], 3) for nbrlist in self.props[key]]\n"
     ]
    }
   ],
   "source": [
    "molecule = \"benzene2018_dft\"\n",
    "\n",
    "dataset = get_md17_dataset(molecule)"
   ]
  },
  {
   "cell_type": "markdown",
   "metadata": {},
   "source": [
    "Inspect the length of the dataset and an item in it."
   ]
  },
  {
   "cell_type": "code",
   "execution_count": 4,
   "metadata": {},
   "outputs": [
    {
     "data": {
      "text/plain": [
       "49863"
      ]
     },
     "execution_count": 4,
     "metadata": {},
     "output_type": "execute_result"
    }
   ],
   "source": [
    "len(dataset)"
   ]
  },
  {
   "cell_type": "code",
   "execution_count": 5,
   "metadata": {},
   "outputs": [
    {
     "data": {
      "text/plain": [
       "{'nxyz': tensor([[  6.0000, -36.7161,  41.9528, -36.0171],\n",
       "         [  6.0000, -36.0692,  41.9257, -34.7771],\n",
       "         [  6.0000, -36.8074,  41.7153, -33.6075],\n",
       "         [  6.0000, -38.1924,  41.5319, -33.6781],\n",
       "         [  6.0000, -38.8393,  41.5589, -34.9181],\n",
       "         [  6.0000, -38.1012,  41.7694, -36.0877],\n",
       "         [  1.0000, -36.1398,  42.1171, -36.9301],\n",
       "         [  1.0000, -34.9879,  42.0689, -34.7220],\n",
       "         [  1.0000, -36.3024,  41.6941, -32.6394],\n",
       "         [  1.0000, -38.7687,  41.3675, -32.7651],\n",
       "         [  1.0000, -39.9206,  41.4158, -34.9732],\n",
       "         [  1.0000, -38.6062,  41.7906, -37.0558]]),\n",
       " 'energy': tensor([-145503.0469]),\n",
       " 'energy_grad': tensor([[-0.0856, -0.0189,  0.1409],\n",
       "         [-0.1680, -0.0249, -0.0189],\n",
       "         [-0.0733, -0.0039, -0.1592],\n",
       "         [ 0.0856,  0.0189, -0.1409],\n",
       "         [ 0.1680,  0.0248,  0.0189],\n",
       "         [ 0.0733,  0.0040,  0.1592],\n",
       "         [ 0.2642,  0.0709, -0.4128],\n",
       "         [ 0.4869,  0.0668,  0.0272],\n",
       "         [ 0.2255, -0.0058,  0.4401],\n",
       "         [-0.2642, -0.0709,  0.4128],\n",
       "         [-0.4869, -0.0668, -0.0272],\n",
       "         [-0.2255,  0.0058, -0.4401]]),\n",
       " 'smiles': 'C1=CC=CC=C1',\n",
       " 'num_atoms': tensor(12),\n",
       " 'nbr_list': tensor([[ 0,  1],\n",
       "         [ 0,  2],\n",
       "         [ 0,  3],\n",
       "         [ 0,  4],\n",
       "         [ 0,  5],\n",
       "         [ 0,  6],\n",
       "         [ 0,  7],\n",
       "         [ 0,  8],\n",
       "         [ 0,  9],\n",
       "         [ 0, 10],\n",
       "         [ 0, 11],\n",
       "         [ 1,  2],\n",
       "         [ 1,  3],\n",
       "         [ 1,  4],\n",
       "         [ 1,  5],\n",
       "         [ 1,  6],\n",
       "         [ 1,  7],\n",
       "         [ 1,  8],\n",
       "         [ 1,  9],\n",
       "         [ 1, 10],\n",
       "         [ 1, 11],\n",
       "         [ 2,  3],\n",
       "         [ 2,  4],\n",
       "         [ 2,  5],\n",
       "         [ 2,  6],\n",
       "         [ 2,  7],\n",
       "         [ 2,  8],\n",
       "         [ 2,  9],\n",
       "         [ 2, 10],\n",
       "         [ 2, 11],\n",
       "         [ 3,  4],\n",
       "         [ 3,  5],\n",
       "         [ 3,  6],\n",
       "         [ 3,  7],\n",
       "         [ 3,  8],\n",
       "         [ 3,  9],\n",
       "         [ 3, 10],\n",
       "         [ 3, 11],\n",
       "         [ 4,  5],\n",
       "         [ 4,  6],\n",
       "         [ 4,  7],\n",
       "         [ 4,  8],\n",
       "         [ 4,  9],\n",
       "         [ 4, 10],\n",
       "         [ 4, 11],\n",
       "         [ 5,  6],\n",
       "         [ 5,  7],\n",
       "         [ 5,  8],\n",
       "         [ 5,  9],\n",
       "         [ 5, 10],\n",
       "         [ 5, 11],\n",
       "         [ 6,  7],\n",
       "         [ 6,  8],\n",
       "         [ 6,  9],\n",
       "         [ 6, 10],\n",
       "         [ 6, 11],\n",
       "         [ 7,  8],\n",
       "         [ 7,  9],\n",
       "         [ 7, 10],\n",
       "         [ 7, 11],\n",
       "         [ 8,  9],\n",
       "         [ 8, 10],\n",
       "         [ 8, 11],\n",
       "         [ 9, 10],\n",
       "         [ 9, 11],\n",
       "         [10, 11]]),\n",
       " 'offsets': tensor(indices=tensor([], size=(2, 0)),\n",
       "        values=tensor([], size=(0,)),\n",
       "        size=(66, 3), nnz=0, layout=torch.sparse_coo)}"
      ]
     },
     "execution_count": 5,
     "metadata": {},
     "output_type": "execute_result"
    }
   ],
   "source": [
    "dataset[0]"
   ]
  },
  {
   "cell_type": "markdown",
   "metadata": {},
   "source": [
    "Save and load the dataset."
   ]
  },
  {
   "cell_type": "code",
   "execution_count": 6,
   "metadata": {},
   "outputs": [],
   "source": [
    "dataset.save(f\"data/{molecule}.pth.tar\")"
   ]
  },
  {
   "cell_type": "code",
   "execution_count": 7,
   "metadata": {},
   "outputs": [],
   "source": [
    "dataset = Dataset.from_file(f\"data/{molecule}.pth.tar\")"
   ]
  },
  {
   "cell_type": "markdown",
   "metadata": {},
   "source": [
    "Retrieving multiple datasets is easy with a loop."
   ]
  },
  {
   "cell_type": "code",
   "execution_count": 8,
   "metadata": {},
   "outputs": [
    {
     "name": "stdout",
     "output_type": "stream",
     "text": [
      "Retrieving data from http://www.quantum-machine.org/gdml/data/npz/benzene2018_dft.npz\n",
      "Retrieving data from http://www.quantum-machine.org/gdml/data/npz/md17_uracil.npz\n"
     ]
    }
   ],
   "source": [
    "molecules = [\"benzene2018_dft\", \"md17_uracil\"]\n",
    "datasets = []\n",
    "for molecule in molecules:\n",
    "    dataset = get_md17_dataset(molecule)\n",
    "    datasets.append(dataset)"
   ]
  },
  {
   "cell_type": "code",
   "execution_count": 9,
   "metadata": {},
   "outputs": [
    {
     "name": "stdout",
     "output_type": "stream",
     "text": [
      "[49863, 133770]\n"
     ]
    }
   ],
   "source": [
    "print([len(d) for d in datasets])"
   ]
  },
  {
   "cell_type": "markdown",
   "metadata": {},
   "source": [
    "If we try to access a non-existent dataset, we'll get an error."
   ]
  },
  {
   "cell_type": "code",
   "execution_count": 10,
   "metadata": {},
   "outputs": [
    {
     "ename": "ValueError",
     "evalue": "('Incorrect value for molecule. Must be one of: ', ['md17_aspirin', 'benzene2018_dft', 'md17_ethanol', 'md17_malonaldehyde', 'md17_naphthalene', 'md17_salicylic', 'md17_toluene', 'md17_uracil', 'paracetamol_dft', 'azobenzene_dft'])",
     "output_type": "error",
     "traceback": [
      "\u001b[0;31m---------------------------------------------------------------------------\u001b[0m",
      "\u001b[0;31mValueError\u001b[0m                                Traceback (most recent call last)",
      "Cell \u001b[0;32mIn[10], line 1\u001b[0m\n\u001b[0;32m----> 1\u001b[0m dataset \u001b[38;5;241m=\u001b[39m \u001b[43mget_md17_dataset\u001b[49m\u001b[43m(\u001b[49m\u001b[38;5;124;43m\"\u001b[39;49m\u001b[38;5;124;43mcureall_molecule\u001b[39;49m\u001b[38;5;124;43m\"\u001b[39;49m\u001b[43m)\u001b[49m\n",
      "File \u001b[0;32m~/NeuralForceField/nff/data/utils.py:40\u001b[0m, in \u001b[0;36mget_md17_dataset\u001b[0;34m(molecule, cutoff)\u001b[0m\n\u001b[1;32m     26\u001b[0m smiles_dict \u001b[38;5;241m=\u001b[39m {\n\u001b[1;32m     27\u001b[0m     \u001b[38;5;124m\"\u001b[39m\u001b[38;5;124mmd17_aspirin\u001b[39m\u001b[38;5;124m\"\u001b[39m: \u001b[38;5;124m\"\u001b[39m\u001b[38;5;124mCC(=O)OC1=CC=CC=C1C(=O)O\u001b[39m\u001b[38;5;124m\"\u001b[39m,\n\u001b[1;32m     28\u001b[0m     \u001b[38;5;124m\"\u001b[39m\u001b[38;5;124mbenzene2018_dft\u001b[39m\u001b[38;5;124m\"\u001b[39m: \u001b[38;5;124m\"\u001b[39m\u001b[38;5;124mC1=CC=CC=C1\u001b[39m\u001b[38;5;124m\"\u001b[39m,\n\u001b[0;32m   (...)\u001b[0m\n\u001b[1;32m     36\u001b[0m     \u001b[38;5;124m\"\u001b[39m\u001b[38;5;124mazobenzene_dft\u001b[39m\u001b[38;5;124m\"\u001b[39m: \u001b[38;5;124m\"\u001b[39m\u001b[38;5;124mC1=CC=C(N=NC2=CC=CC=C2)C=C1\u001b[39m\u001b[38;5;124m\"\u001b[39m,\n\u001b[1;32m     37\u001b[0m }\n\u001b[1;32m     39\u001b[0m \u001b[38;5;28;01mif\u001b[39;00m molecule \u001b[38;5;129;01mnot\u001b[39;00m \u001b[38;5;129;01min\u001b[39;00m smiles_dict\u001b[38;5;241m.\u001b[39mkeys():\n\u001b[0;32m---> 40\u001b[0m     \u001b[38;5;28;01mraise\u001b[39;00m \u001b[38;5;167;01mValueError\u001b[39;00m(\u001b[38;5;124m\"\u001b[39m\u001b[38;5;124mIncorrect value for molecule. Must be one of: \u001b[39m\u001b[38;5;124m\"\u001b[39m, \u001b[38;5;28mlist\u001b[39m(smiles_dict\u001b[38;5;241m.\u001b[39mkeys()))\n\u001b[1;32m     42\u001b[0m \u001b[38;5;66;03m# make tmpdir to save npz file\u001b[39;00m\n\u001b[1;32m     43\u001b[0m tmpdir \u001b[38;5;241m=\u001b[39m tempfile\u001b[38;5;241m.\u001b[39mmkdtemp(\u001b[38;5;124m\"\u001b[39m\u001b[38;5;124mMD\u001b[39m\u001b[38;5;124m\"\u001b[39m)\n",
      "\u001b[0;31mValueError\u001b[0m: ('Incorrect value for molecule. Must be one of: ', ['md17_aspirin', 'benzene2018_dft', 'md17_ethanol', 'md17_malonaldehyde', 'md17_naphthalene', 'md17_salicylic', 'md17_toluene', 'md17_uracil', 'paracetamol_dft', 'azobenzene_dft'])"
     ]
    }
   ],
   "source": [
    "dataset = get_md17_dataset(\"cureall_molecule\")"
   ]
  },
  {
   "cell_type": "code",
   "execution_count": null,
   "metadata": {},
   "outputs": [],
   "source": []
  }
 ],
 "metadata": {
  "kernelspec": {
   "display_name": "test_nff",
   "language": "python",
   "name": "python3"
  },
  "language_info": {
   "codemirror_mode": {
    "name": "ipython",
    "version": 3
   },
   "file_extension": ".py",
   "mimetype": "text/x-python",
   "name": "python",
   "nbconvert_exporter": "python",
   "pygments_lexer": "ipython3",
   "version": "3.11.9"
  }
 },
 "nbformat": 4,
 "nbformat_minor": 4
}
