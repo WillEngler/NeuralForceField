{
 "cells": [
  {
   "cell_type": "markdown",
   "id": "350d7bb1",
   "metadata": {},
   "source": [
    "# Exporting geometry data for a ChemProp3D model for UVVis peaks"
   ]
  },
  {
   "cell_type": "code",
   "execution_count": 1,
   "id": "8d61550e",
   "metadata": {},
   "outputs": [],
   "source": [
    "%load_ext autoreload\n",
    "%autoreload 2\n",
    "    \n",
    "import os\n",
    "import django\n",
    "\n",
    "\n",
    "os.environ[\"DJANGOCHEMDIR\"]=\"djangochem.settings.orgel\"\n",
    "os.environ[\"DJANGO_SETTINGS_MODULE\"]=\"djangochem.settings.orgel\"\n",
    "django.setup()\n",
    "\n",
    "from pgmols.models import Species, Geom, Calc\n",
    "from jobs.models import Job, JobConfig"
   ]
  },
  {
   "cell_type": "code",
   "execution_count": 2,
   "id": "effd22a5",
   "metadata": {},
   "outputs": [],
   "source": [
    "from nff.utils.misc import read_csv\n",
    "\n",
    "direc = '/home/saxelrod/chemdata/fluodye'\n",
    "name = '20211220_deep4chem_chemfluor_dcm_chemprop3d.csv'\n",
    "csv_path = os.path.join(direc, name)\n",
    "\n",
    "dic = read_csv(csv_path)\n"
   ]
  },
  {
   "cell_type": "code",
   "execution_count": 4,
   "id": "b1c9b762",
   "metadata": {},
   "outputs": [],
   "source": [
    "# from tqdm import tqdm\n",
    "\n",
    "# method_name = 'dft_d3_gga_bp86'\n",
    "# method_descrip = 'Orca bp86/def2-SVP D3 DFT RI'\n",
    "# config_name = 'bp86_d3_def2svp_opt_orca'\n",
    "\n",
    "# conformers = []\n",
    "\n",
    "# for smiles in tqdm(dic['smiles']):\n",
    "#     spec = Species.objects.get(smiles=smiles, \n",
    "#                                group__name='fluodye')\n",
    "#     geoms = spec.geom_set.filter(converged=True,\n",
    "#                                  parentjob__config__name=config_name)\n",
    "# #     if not geoms:\n",
    "# #         continue\n",
    "        \n",
    "#     calc_pks = list(geoms.values_list('calcs', flat=True))\n",
    "#     calcs = Calc.objects.filter(pk__in=calc_pks,\n",
    "#                                 method__name=method_name,\n",
    "#                                 method__description=method_descrip,\n",
    "#                                 props__totalenergy__isnull=False)\n",
    "    \n",
    "#     lowest_en_calc = calcs.order_by(\"props__totalenergy\").first()\n",
    "#     lowest_en_geom = lowest_en_calc.geoms.get()\n",
    "    \n",
    "    \n",
    "#     # get the bonded neighbor list\n",
    "#     rd_mol = lowest_en_geom.as_rdkit_mol()\n",
    "#     conformers.append([{\"rd_mol\": rd_mol, \"geom_id\": lowest_en_geom.id}])\n",
    "    "
   ]
  },
  {
   "cell_type": "code",
   "execution_count": null,
   "id": "3c65304c",
   "metadata": {},
   "outputs": [],
   "source": []
  },
  {
   "cell_type": "code",
   "execution_count": null,
   "id": "bf229f1b",
   "metadata": {},
   "outputs": [],
   "source": []
  },
  {
   "cell_type": "markdown",
   "id": "9763b060",
   "metadata": {},
   "source": [
    "#### Save summary file and pickles, which is needed for generating splits and making the dataset in CP3D"
   ]
  },
  {
   "cell_type": "code",
   "execution_count": 5,
   "id": "4db232e5",
   "metadata": {},
   "outputs": [],
   "source": [
    "# from rdkit import Chem\n",
    "# import pickle\n",
    "# import json\n",
    "\n",
    "# rd_folder = 'rd_mols'\n",
    "# rd_path = os.path.join(dset_dir, rd_folder)\n",
    "\n",
    "# summary_dic = {}\n",
    "\n",
    "# for i, confs in enumerate(conformers):\n",
    "#     sub_dic = {key: val[i] for key, val in dic.items()}\n",
    "#     confs = [{**conf_dic, \"boltzmannweight\": 1.0}\n",
    "#             for conf_dic in confs]\n",
    "#     pick_dic = {\"conformers\": confs,\n",
    "#                 **sub_dic}\n",
    "#     smiles = pick_dic['smiles']\n",
    "    \n",
    "#     inchikey = Chem.InchiToInchiKey(Chem.MolToInchi(Chem.MolFromSmiles(smiles),\n",
    "#                                                     options=\" -RecMet  -FixedH \"))\n",
    "#     rel_path = os.path.join(rd_folder, f\"{inchikey}.pickle\")\n",
    "#     abs_path = os.path.join(dset_dir, rel_path)\n",
    "    \n",
    "#     summary_dic[smiles] = {key: val for key, val in pick_dic.items()\n",
    "#                           if key != 'conformers'}\n",
    "#     summary_dic[smiles].update({\"pickle_path\": rel_path})\n",
    "    \n",
    "#     if not os.path.isdir(rd_path):\n",
    "#         os.makedirs(rd_path)\n",
    "        \n",
    "#     with open(abs_path, 'wb') as f:\n",
    "#         pickle.dump(pick_dic, f)\n",
    "\n",
    "# summ_path = os.path.join(dset_dir, 'summary.json')\n",
    "# with open(summ_path, 'w') as f:\n",
    "#     json.dump(summary_dic, f, indent=4)"
   ]
  },
  {
   "cell_type": "markdown",
   "id": "4da3f53d",
   "metadata": {},
   "source": [
    "Now run `scripts/cp3d/make_dset/make_dset.sh`, with the right config files specified"
   ]
  },
  {
   "cell_type": "code",
   "execution_count": 7,
   "id": "0a1bbc17",
   "metadata": {},
   "outputs": [],
   "source": [
    "# from matplotlib import pyplot as plt\n",
    "# import numpy as np\n",
    "\n",
    "# lam = dset.props['peakwavs_max'].reshape(-1).numpy()\n",
    "# plt.hist(lam)\n",
    "# plt.show()\n",
    "\n",
    "# mae_lam = np.mean(abs(lam - np.mean(lam)))\n",
    "# print(mae_lam)"
   ]
  },
  {
   "cell_type": "code",
   "execution_count": 8,
   "id": "ba76f19f",
   "metadata": {},
   "outputs": [],
   "source": [
    "# from nff.data import Dataset\n",
    "\n",
    "# test_path = (\"/home/saxelrod/Repo/projects/master/NeuralForceField/tutorials/data\"\n",
    "#              \"/uvvis_cp3d/ndu/0/test.pth.tar\")\n",
    "# test = Dataset.from_file(test_path)"
   ]
  },
  {
   "cell_type": "code",
   "execution_count": 9,
   "id": "e03d2774",
   "metadata": {},
   "outputs": [],
   "source": [
    "# batch = next(iter(test))"
   ]
  },
  {
   "cell_type": "code",
   "execution_count": null,
   "id": "16d64046",
   "metadata": {},
   "outputs": [],
   "source": [
    "# batch"
   ]
  },
  {
   "cell_type": "code",
   "execution_count": null,
   "id": "002b5f34",
   "metadata": {},
   "outputs": [],
   "source": [
    "# dic['peakwavs_max'][dic['smiles'].index(batch['smiles'])]"
   ]
  },
  {
   "cell_type": "code",
   "execution_count": null,
   "id": "f6dede90",
   "metadata": {},
   "outputs": [],
   "source": [
    "# from ase import Atoms\n",
    "# import nglview as nv\n",
    "\n",
    "# nxyz = batch['nxyz'].numpy()\n",
    "# atoms = Atoms(numbers=nxyz[:, 0].astype('int'),\n",
    "#               positions=nxyz[:, 1:])\n",
    "# display(nv.show_ase(atoms))"
   ]
  },
  {
   "cell_type": "markdown",
   "id": "c06db17e",
   "metadata": {},
   "source": [
    "# Train a PaiNN model"
   ]
  },
  {
   "cell_type": "code",
   "execution_count": 10,
   "id": "9f04f049",
   "metadata": {},
   "outputs": [],
   "source": [
    "import sys\n",
    "from pathlib import Path\n",
    "\n",
    "# change to your NFF path\n",
    "sys.path.insert(0, \"/home/saxelrod/Repo/projects/master/NeuralForceField\")\n",
    "\n",
    "import os\n",
    "import shutil\n",
    "import numpy as np\n",
    "import matplotlib.pyplot as plt\n",
    "import copy\n",
    "\n",
    "import torch\n",
    "from torch.optim import Adam\n",
    "from torch.utils.data import DataLoader\n",
    "from torch.utils.data.sampler import RandomSampler\n",
    "\n",
    "\n",
    "from nff.data import Dataset, split_train_validation_test, collate_dicts, to_tensor\n",
    "from nff.train import Trainer, get_trainer, get_model, load_model, loss, hooks, metrics, evaluate\n"
   ]
  },
  {
   "cell_type": "code",
   "execution_count": 15,
   "id": "dcf3d742",
   "metadata": {},
   "outputs": [],
   "source": [
    "DEVICE = 0\n",
    "\n",
    "dset_dir = '/home/saxelrod/Repo/projects/master/NeuralForceField/tutorials/data/uvvis_cp3d/cp3d'\n",
    "\n",
    "OUTDIR = './painn_uvvis_att_aggr'\n",
    "# batch size used in the original paper\n",
    "BATCH_SIZE = 10\n",
    "\n",
    "if os.path.exists(OUTDIR):\n",
    "    newpath = os.path.join(os.path.dirname(OUTDIR), 'backup')\n",
    "    if os.path.exists(newpath):\n",
    "        shutil.rmtree(newpath)\n",
    "        \n",
    "    shutil.move(OUTDIR, newpath)\n",
    "    \n",
    "out = []\n",
    "for name in ['train', 'val', 'test']:\n",
    "    path = os.path.join(dset_dir, '0', f'{name}.pth.tar')\n",
    "    out.append(Dataset.from_file(path))\n",
    "train, val, test = out"
   ]
  },
  {
   "cell_type": "code",
   "execution_count": 16,
   "id": "98a8f6b5",
   "metadata": {},
   "outputs": [],
   "source": [
    "modelparams = {\"feat_dim\": 128,\n",
    "              \"activation\": \"swish\",\n",
    "              \"n_rbf\": 20,\n",
    "              \"cutoff\": 5.0,\n",
    "              \"num_conv\": 3,\n",
    "              \"output_keys\": [\"peakwavs_max\"],\n",
    "              \"grad_keys\": [],\n",
    "              \"skip_connection\": {\"peakwavs_max\": False},\n",
    "              \"learnable_k\": False,\n",
    "              \"conv_dropout\": 0.0,\n",
    "              \"readout_dropout\": 0.0,\n",
    "              \"pool_dic\": {\"peakwavs_max\": {\"name\": \"attention\",\n",
    "                                            \"param\": {\"prob_func\": \"softmax\",\n",
    "                                                      \"feat_dim\": 128,\n",
    "                                                      \"att_act\": \"swish\",\n",
    "                                                      \"mol_fp_act\": \"swish\",\n",
    "                                                      \"num_out_layers\": 2,\n",
    "                                                      \"out_dim\": 1}}}\n",
    "               \n",
    "#               \"pool_dic\": {\"peakwavs_max\": {\"name\": \"mean\",\n",
    "#                                             \"param\": {}}}\n",
    "              }\n",
    "model = get_model(modelparams, model_type=\"Painn\")\n",
    "\n"
   ]
  },
  {
   "cell_type": "code",
   "execution_count": 17,
   "id": "b08c0214",
   "metadata": {},
   "outputs": [],
   "source": [
    "BATCH_SIZE = 10\n",
    "\n",
    "train_loader = DataLoader(train, \n",
    "                          batch_size=BATCH_SIZE, \n",
    "                          collate_fn=collate_dicts,\n",
    "                          sampler=RandomSampler(train))\n",
    "\n",
    "val_loader = DataLoader(val, batch_size=BATCH_SIZE, collate_fn=collate_dicts)\n",
    "test_loader = DataLoader(test, batch_size=BATCH_SIZE, collate_fn=collate_dicts)\n",
    "\n",
    "# loss trade-off used in the original paper\n",
    "loss_fn = loss.build_mse_loss(loss_coef={'peakwavs_max': 1})\n",
    "\n",
    "trainable_params = filter(lambda p: p.requires_grad, model.parameters())\n",
    "\n",
    "# learning rate used in the original paper\n",
    "optimizer = Adam(trainable_params, lr=1e-4)\n",
    "\n",
    "\n",
    "train_metrics = [\n",
    "    metrics.MeanAbsoluteError('peakwavs_max')\n",
    "]\n",
    "\n",
    "\n",
    "train_hooks = [\n",
    "    hooks.MaxEpochHook(1000),\n",
    "    hooks.CSVHook(\n",
    "        OUTDIR,\n",
    "        metrics=train_metrics,\n",
    "    ),\n",
    "    hooks.PrintingHook(\n",
    "        OUTDIR,\n",
    "        metrics=train_metrics,\n",
    "        separator = ' | ',\n",
    "        time_strf='%M:%S'\n",
    "    ),\n",
    "    hooks.ReduceLROnPlateauHook(\n",
    "        optimizer=optimizer,\n",
    "        # patience in the original paper\n",
    "        patience=50,\n",
    "        factor=0.5,\n",
    "        min_lr=1e-7,\n",
    "        window_length=1,\n",
    "        stop_after_min=True\n",
    "    )\n",
    "]\n",
    "\n",
    "T = Trainer(\n",
    "    model_path=OUTDIR,\n",
    "    model=model,\n",
    "    loss_fn=loss_fn,\n",
    "    optimizer=optimizer,\n",
    "    train_loader=train_loader,\n",
    "    validation_loader=val_loader,\n",
    "    checkpoint_interval=1,\n",
    "    hooks=train_hooks,\n",
    "    mini_batches=1\n",
    ")"
   ]
  },
  {
   "cell_type": "code",
   "execution_count": null,
   "id": "574d8a13",
   "metadata": {
    "scrolled": true
   },
   "outputs": [
    {
     "name": "stdout",
     "output_type": "stream",
     "text": [
      " Time | Epoch | Learning rate | Train loss | Validation loss | MAE_peakwavs_max | GPU Memory (MB)\n"
     ]
    },
    {
     "name": "stderr",
     "output_type": "stream",
     "text": [
      "100%|███████████████████████████████████████████████████████████████████████████████████████████████▌| 231/232 [00:09<00:00, 23.92it/s]\n"
     ]
    },
    {
     "name": "stdout",
     "output_type": "stream",
     "text": [
      "08:29 |     1 |     1.000e-04 | 46043.2406 |      10465.1701 |          72.4960 |            1038\n"
     ]
    },
    {
     "name": "stderr",
     "output_type": "stream",
     "text": [
      "100%|███████████████████████████████████████████████████████████████████████████████████████████████▌| 231/232 [00:08<00:00, 26.54it/s]\n"
     ]
    },
    {
     "name": "stdout",
     "output_type": "stream",
     "text": [
      "08:38 |     2 |     1.000e-04 | 10337.0465 |      10474.1699 |          69.7394 |            1038\n"
     ]
    },
    {
     "name": "stderr",
     "output_type": "stream",
     "text": [
      "100%|███████████████████████████████████████████████████████████████████████████████████████████████▌| 231/232 [00:09<00:00, 23.41it/s]\n"
     ]
    },
    {
     "name": "stdout",
     "output_type": "stream",
     "text": [
      "08:48 |     3 |     1.000e-04 | 10023.8383 |       9481.9286 |          74.8123 |            1038\n"
     ]
    },
    {
     "name": "stderr",
     "output_type": "stream",
     "text": [
      "100%|███████████████████████████████████████████████████████████████████████████████████████████████▌| 231/232 [00:09<00:00, 24.03it/s]\n"
     ]
    },
    {
     "name": "stdout",
     "output_type": "stream",
     "text": [
      "08:58 |     4 |     1.000e-04 |  9136.8533 |       9706.8225 |          68.3831 |            1038\n"
     ]
    },
    {
     "name": "stderr",
     "output_type": "stream",
     "text": [
      "100%|███████████████████████████████████████████████████████████████████████████████████████████████▌| 231/232 [00:10<00:00, 23.02it/s]\n"
     ]
    },
    {
     "name": "stdout",
     "output_type": "stream",
     "text": [
      "09:09 |     5 |     1.000e-04 |  9157.2894 |      10517.9945 |          69.0806 |            1038\n"
     ]
    },
    {
     "name": "stderr",
     "output_type": "stream",
     "text": [
      "100%|███████████████████████████████████████████████████████████████████████████████████████████████▌| 231/232 [00:09<00:00, 24.87it/s]\n"
     ]
    },
    {
     "name": "stdout",
     "output_type": "stream",
     "text": [
      "09:18 |     6 |     1.000e-04 |  9193.8736 |       9566.3964 |          77.0841 |            1038\n"
     ]
    },
    {
     "name": "stderr",
     "output_type": "stream",
     "text": [
      "100%|███████████████████████████████████████████████████████████████████████████████████████████████▌| 231/232 [00:09<00:00, 24.82it/s]\n"
     ]
    },
    {
     "name": "stdout",
     "output_type": "stream",
     "text": [
      "09:28 |     7 |     1.000e-04 |  8537.5819 |       9794.9778 |          69.2248 |            1038\n"
     ]
    },
    {
     "name": "stderr",
     "output_type": "stream",
     "text": [
      "100%|███████████████████████████████████████████████████████████████████████████████████████████████▌| 231/232 [00:09<00:00, 23.34it/s]\n"
     ]
    },
    {
     "name": "stdout",
     "output_type": "stream",
     "text": [
      "09:38 |     8 |     1.000e-04 |  9266.7721 |       9012.3322 |          69.0174 |            1038\n"
     ]
    },
    {
     "name": "stderr",
     "output_type": "stream",
     "text": [
      "100%|███████████████████████████████████████████████████████████████████████████████████████████████▌| 231/232 [00:10<00:00, 21.32it/s]\n"
     ]
    },
    {
     "name": "stdout",
     "output_type": "stream",
     "text": [
      "09:50 |     9 |     1.000e-04 |  7880.4972 |       7358.0423 |          61.0603 |            1038\n"
     ]
    },
    {
     "name": "stderr",
     "output_type": "stream",
     "text": [
      "100%|███████████████████████████████████████████████████████████████████████████████████████████████▌| 231/232 [00:11<00:00, 20.48it/s]\n"
     ]
    },
    {
     "name": "stdout",
     "output_type": "stream",
     "text": [
      "10:02 |    10 |     1.000e-04 |  7384.8532 |       6839.6377 |          61.2103 |            1038\n"
     ]
    },
    {
     "name": "stderr",
     "output_type": "stream",
     "text": [
      "100%|███████████████████████████████████████████████████████████████████████████████████████████████▌| 231/232 [00:11<00:00, 19.70it/s]\n"
     ]
    },
    {
     "name": "stdout",
     "output_type": "stream",
     "text": [
      "10:14 |    11 |     1.000e-04 |  7231.9171 |       6110.9550 |          57.6083 |            1038\n"
     ]
    },
    {
     "name": "stderr",
     "output_type": "stream",
     "text": [
      "100%|███████████████████████████████████████████████████████████████████████████████████████████████▌| 231/232 [00:10<00:00, 21.77it/s]\n"
     ]
    },
    {
     "name": "stdout",
     "output_type": "stream",
     "text": [
      "10:25 |    12 |     1.000e-04 |  6603.2300 |       6907.6765 |          58.8799 |            1038\n"
     ]
    },
    {
     "name": "stderr",
     "output_type": "stream",
     "text": [
      "100%|███████████████████████████████████████████████████████████████████████████████████████████████▌| 231/232 [00:10<00:00, 21.38it/s]\n"
     ]
    },
    {
     "name": "stdout",
     "output_type": "stream",
     "text": [
      "10:37 |    13 |     1.000e-04 |  6264.0425 |       7447.0989 |          60.6481 |            1038\n"
     ]
    },
    {
     "name": "stderr",
     "output_type": "stream",
     "text": [
      "100%|███████████████████████████████████████████████████████████████████████████████████████████████▌| 231/232 [00:10<00:00, 21.04it/s]\n"
     ]
    },
    {
     "name": "stdout",
     "output_type": "stream",
     "text": [
      "10:48 |    14 |     1.000e-04 |  6343.7680 |       5825.7275 |          55.7625 |            1038\n"
     ]
    },
    {
     "name": "stderr",
     "output_type": "stream",
     "text": [
      "100%|███████████████████████████████████████████████████████████████████████████████████████████████▌| 231/232 [00:10<00:00, 21.09it/s]\n"
     ]
    },
    {
     "name": "stdout",
     "output_type": "stream",
     "text": [
      "11:00 |    15 |     1.000e-04 |  6220.8646 |       5945.0443 |          56.3295 |            1038\n"
     ]
    },
    {
     "name": "stderr",
     "output_type": "stream",
     "text": [
      "100%|███████████████████████████████████████████████████████████████████████████████████████████████▌| 231/232 [00:10<00:00, 21.55it/s]\n"
     ]
    },
    {
     "name": "stdout",
     "output_type": "stream",
     "text": [
      "11:11 |    16 |     1.000e-04 |  5839.0826 |       5747.1872 |          54.3098 |            1038\n"
     ]
    },
    {
     "name": "stderr",
     "output_type": "stream",
     "text": [
      "100%|███████████████████████████████████████████████████████████████████████████████████████████████▌| 231/232 [00:11<00:00, 20.82it/s]\n"
     ]
    },
    {
     "name": "stdout",
     "output_type": "stream",
     "text": [
      "11:23 |    17 |     1.000e-04 |  5755.7322 |       7243.4774 |          65.4748 |            1039\n"
     ]
    },
    {
     "name": "stderr",
     "output_type": "stream",
     "text": [
      "100%|███████████████████████████████████████████████████████████████████████████████████████████████▌| 231/232 [00:10<00:00, 21.54it/s]\n"
     ]
    },
    {
     "name": "stdout",
     "output_type": "stream",
     "text": [
      "11:34 |    18 |     1.000e-04 |  5984.3162 |       6549.8112 |          57.5497 |            1039\n"
     ]
    },
    {
     "name": "stderr",
     "output_type": "stream",
     "text": [
      "100%|███████████████████████████████████████████████████████████████████████████████████████████████▌| 231/232 [00:11<00:00, 20.96it/s]\n"
     ]
    },
    {
     "name": "stdout",
     "output_type": "stream",
     "text": [
      "11:45 |    19 |     1.000e-04 |  6258.1032 |       5257.7353 |          53.6601 |            1039\n"
     ]
    },
    {
     "name": "stderr",
     "output_type": "stream",
     "text": [
      "100%|███████████████████████████████████████████████████████████████████████████████████████████████▌| 231/232 [00:10<00:00, 21.44it/s]\n"
     ]
    },
    {
     "name": "stdout",
     "output_type": "stream",
     "text": [
      "11:57 |    20 |     1.000e-04 |  5377.9657 |       5366.6476 |          53.3780 |            1039\n"
     ]
    },
    {
     "name": "stderr",
     "output_type": "stream",
     "text": [
      "100%|███████████████████████████████████████████████████████████████████████████████████████████████▌| 231/232 [00:10<00:00, 21.23it/s]\n"
     ]
    },
    {
     "name": "stdout",
     "output_type": "stream",
     "text": [
      "12:08 |    21 |     1.000e-04 |  4948.4396 |       5572.0340 |          54.5306 |            1039\n"
     ]
    },
    {
     "name": "stderr",
     "output_type": "stream",
     "text": [
      "100%|███████████████████████████████████████████████████████████████████████████████████████████████▌| 231/232 [00:11<00:00, 20.91it/s]\n"
     ]
    },
    {
     "name": "stdout",
     "output_type": "stream",
     "text": [
      "12:20 |    22 |     1.000e-04 |  4776.0329 |       4789.7007 |          51.9351 |            1039\n"
     ]
    },
    {
     "name": "stderr",
     "output_type": "stream",
     "text": [
      "100%|███████████████████████████████████████████████████████████████████████████████████████████████▌| 231/232 [00:10<00:00, 21.54it/s]\n"
     ]
    },
    {
     "name": "stdout",
     "output_type": "stream",
     "text": [
      "12:31 |    23 |     1.000e-04 |  4642.2403 |       6387.7097 |          56.4664 |            1039\n"
     ]
    },
    {
     "name": "stderr",
     "output_type": "stream",
     "text": [
      "100%|███████████████████████████████████████████████████████████████████████████████████████████████▌| 231/232 [00:10<00:00, 21.37it/s]\n"
     ]
    },
    {
     "name": "stdout",
     "output_type": "stream",
     "text": [
      "12:42 |    24 |     1.000e-04 |  4552.8011 |       5518.2863 |          53.1387 |            1039\n"
     ]
    },
    {
     "name": "stderr",
     "output_type": "stream",
     "text": [
      "100%|███████████████████████████████████████████████████████████████████████████████████████████████▌| 231/232 [00:11<00:00, 20.28it/s]\n"
     ]
    },
    {
     "name": "stdout",
     "output_type": "stream",
     "text": [
      "12:54 |    25 |     1.000e-04 |  4381.0830 |       4923.3508 |          51.0276 |            1039\n"
     ]
    },
    {
     "name": "stderr",
     "output_type": "stream",
     "text": [
      "100%|███████████████████████████████████████████████████████████████████████████████████████████████▌| 231/232 [00:11<00:00, 20.35it/s]\n"
     ]
    },
    {
     "name": "stdout",
     "output_type": "stream",
     "text": [
      "13:06 |    26 |     1.000e-04 |  5096.9199 |       5622.0038 |          55.0397 |            1039\n"
     ]
    },
    {
     "name": "stderr",
     "output_type": "stream",
     "text": [
      "100%|███████████████████████████████████████████████████████████████████████████████████████████████▌| 231/232 [00:10<00:00, 21.41it/s]\n"
     ]
    },
    {
     "name": "stdout",
     "output_type": "stream",
     "text": [
      "13:17 |    27 |     1.000e-04 |  4275.0712 |       5277.8680 |          52.1770 |            1039\n"
     ]
    },
    {
     "name": "stderr",
     "output_type": "stream",
     "text": [
      "100%|███████████████████████████████████████████████████████████████████████████████████████████████▌| 231/232 [00:10<00:00, 21.15it/s]\n"
     ]
    },
    {
     "name": "stdout",
     "output_type": "stream",
     "text": [
      "13:29 |    28 |     1.000e-04 |  4016.6165 |       5389.7153 |          52.4969 |            1039\n"
     ]
    },
    {
     "name": "stderr",
     "output_type": "stream",
     "text": [
      "100%|███████████████████████████████████████████████████████████████████████████████████████████████▌| 231/232 [00:11<00:00, 19.34it/s]\n"
     ]
    },
    {
     "name": "stdout",
     "output_type": "stream",
     "text": [
      "13:41 |    29 |     1.000e-04 |  3757.5897 |       6946.7168 |          63.1647 |            1039\n"
     ]
    },
    {
     "name": "stderr",
     "output_type": "stream",
     "text": [
      "100%|███████████████████████████████████████████████████████████████████████████████████████████████▌| 231/232 [00:12<00:00, 18.94it/s]\n"
     ]
    },
    {
     "name": "stdout",
     "output_type": "stream",
     "text": [
      "13:54 |    30 |     1.000e-04 |  3996.7102 |       5011.4088 |          51.7282 |            1039\n"
     ]
    },
    {
     "name": "stderr",
     "output_type": "stream",
     "text": [
      "100%|███████████████████████████████████████████████████████████████████████████████████████████████▌| 231/232 [00:10<00:00, 21.08it/s]\n"
     ]
    },
    {
     "name": "stdout",
     "output_type": "stream",
     "text": [
      "14:05 |    31 |     1.000e-04 |  3469.6820 |       5015.2370 |          52.1770 |            1039\n"
     ]
    },
    {
     "name": "stderr",
     "output_type": "stream",
     "text": [
      "100%|███████████████████████████████████████████████████████████████████████████████████████████████▌| 231/232 [00:11<00:00, 20.85it/s]\n"
     ]
    },
    {
     "name": "stdout",
     "output_type": "stream",
     "text": [
      "14:18 |    32 |     1.000e-04 |  3502.5900 |       4741.7329 |          50.0136 |            1039\n"
     ]
    },
    {
     "name": "stderr",
     "output_type": "stream",
     "text": [
      "100%|███████████████████████████████████████████████████████████████████████████████████████████████▌| 231/232 [00:12<00:00, 18.17it/s]\n"
     ]
    },
    {
     "name": "stdout",
     "output_type": "stream",
     "text": [
      "14:31 |    33 |     1.000e-04 |  3212.7987 |       4448.6255 |          47.5554 |            1039\n"
     ]
    },
    {
     "name": "stderr",
     "output_type": "stream",
     "text": [
      "100%|███████████████████████████████████████████████████████████████████████████████████████████████▌| 231/232 [00:11<00:00, 20.70it/s]\n"
     ]
    },
    {
     "name": "stdout",
     "output_type": "stream",
     "text": [
      "14:43 |    34 |     1.000e-04 |  3106.1154 |       4432.0633 |          46.4368 |            1041\n"
     ]
    },
    {
     "name": "stderr",
     "output_type": "stream",
     "text": [
      "100%|███████████████████████████████████████████████████████████████████████████████████████████████▌| 231/232 [00:24<00:00,  9.42it/s]\n"
     ]
    },
    {
     "name": "stdout",
     "output_type": "stream",
     "text": [
      "15:09 |    35 |     1.000e-04 |  2815.1703 |       4455.8366 |          48.4575 |            1041\n"
     ]
    },
    {
     "name": "stderr",
     "output_type": "stream",
     "text": [
      "100%|███████████████████████████████████████████████████████████████████████████████████████████████▌| 231/232 [00:21<00:00, 10.62it/s]\n"
     ]
    },
    {
     "name": "stdout",
     "output_type": "stream",
     "text": [
      "15:31 |    36 |     1.000e-04 |  3075.7751 |       5344.2733 |          51.9766 |            1041\n"
     ]
    },
    {
     "name": "stderr",
     "output_type": "stream",
     "text": [
      "100%|███████████████████████████████████████████████████████████████████████████████████████████████▌| 231/232 [00:12<00:00, 18.60it/s]\n"
     ]
    },
    {
     "name": "stdout",
     "output_type": "stream",
     "text": [
      "15:44 |    37 |     1.000e-04 |  3052.2098 |       5015.3749 |          51.5608 |            1041\n"
     ]
    },
    {
     "name": "stderr",
     "output_type": "stream",
     "text": [
      "100%|███████████████████████████████████████████████████████████████████████████████████████████████▌| 231/232 [00:10<00:00, 22.25it/s]\n"
     ]
    },
    {
     "name": "stdout",
     "output_type": "stream",
     "text": [
      "15:55 |    38 |     1.000e-04 |  2678.9429 |       4392.8216 |          46.3478 |            1041\n"
     ]
    },
    {
     "name": "stderr",
     "output_type": "stream",
     "text": [
      "100%|███████████████████████████████████████████████████████████████████████████████████████████████▌| 231/232 [00:12<00:00, 18.90it/s]\n"
     ]
    },
    {
     "name": "stdout",
     "output_type": "stream",
     "text": [
      "16:08 |    39 |     1.000e-04 |  2325.0748 |       4768.3012 |          47.9253 |            1041\n"
     ]
    },
    {
     "name": "stderr",
     "output_type": "stream",
     "text": [
      "100%|███████████████████████████████████████████████████████████████████████████████████████████████▌| 231/232 [00:10<00:00, 21.25it/s]\n"
     ]
    },
    {
     "name": "stdout",
     "output_type": "stream",
     "text": [
      "16:19 |    40 |     1.000e-04 |  2397.5995 |       5327.1337 |          49.5632 |            1041\n"
     ]
    },
    {
     "name": "stderr",
     "output_type": "stream",
     "text": [
      "100%|███████████████████████████████████████████████████████████████████████████████████████████████▌| 231/232 [00:10<00:00, 22.35it/s]\n"
     ]
    },
    {
     "name": "stdout",
     "output_type": "stream",
     "text": [
      "16:30 |    41 |     1.000e-04 |  2302.0012 |       4091.1045 |          44.2784 |            1041\n"
     ]
    },
    {
     "name": "stderr",
     "output_type": "stream",
     "text": [
      "100%|███████████████████████████████████████████████████████████████████████████████████████████████▌| 231/232 [00:10<00:00, 21.93it/s]\n"
     ]
    },
    {
     "name": "stdout",
     "output_type": "stream",
     "text": [
      "16:41 |    42 |     1.000e-04 |  2290.7203 |       4276.4970 |          43.8051 |            1041\n"
     ]
    },
    {
     "name": "stderr",
     "output_type": "stream",
     "text": [
      "100%|███████████████████████████████████████████████████████████████████████████████████████████████▌| 231/232 [00:10<00:00, 21.35it/s]\n"
     ]
    },
    {
     "name": "stdout",
     "output_type": "stream",
     "text": [
      "16:53 |    43 |     1.000e-04 |  1990.0098 |       4637.2301 |          47.1637 |            1041\n"
     ]
    },
    {
     "name": "stderr",
     "output_type": "stream",
     "text": [
      "100%|███████████████████████████████████████████████████████████████████████████████████████████████▌| 231/232 [00:17<00:00, 13.50it/s]\n"
     ]
    },
    {
     "name": "stdout",
     "output_type": "stream",
     "text": [
      "17:11 |    44 |     1.000e-04 |  2303.3191 |       3850.2297 |          43.7861 |            1041\n"
     ]
    },
    {
     "name": "stderr",
     "output_type": "stream",
     "text": [
      "100%|███████████████████████████████████████████████████████████████████████████████████████████████▌| 231/232 [00:09<00:00, 23.43it/s]\n"
     ]
    },
    {
     "name": "stdout",
     "output_type": "stream",
     "text": [
      "17:21 |    45 |     1.000e-04 |  2301.8000 |       4000.1427 |          44.0497 |            1041\n"
     ]
    },
    {
     "name": "stderr",
     "output_type": "stream",
     "text": [
      "100%|███████████████████████████████████████████████████████████████████████████████████████████████▌| 231/232 [00:09<00:00, 24.83it/s]\n"
     ]
    },
    {
     "name": "stdout",
     "output_type": "stream",
     "text": [
      "17:31 |    46 |     1.000e-04 |  1834.4616 |       4545.0837 |          49.5510 |            1041\n"
     ]
    },
    {
     "name": "stderr",
     "output_type": "stream",
     "text": [
      "100%|███████████████████████████████████████████████████████████████████████████████████████████████▌| 231/232 [00:09<00:00, 23.40it/s]\n"
     ]
    },
    {
     "name": "stdout",
     "output_type": "stream",
     "text": [
      "17:41 |    47 |     1.000e-04 |  1753.4597 |       5316.0669 |          50.8922 |            1041\n"
     ]
    },
    {
     "name": "stderr",
     "output_type": "stream",
     "text": [
      "100%|███████████████████████████████████████████████████████████████████████████████████████████████▌| 231/232 [00:08<00:00, 28.42it/s]\n"
     ]
    },
    {
     "name": "stdout",
     "output_type": "stream",
     "text": [
      "17:49 |    48 |     1.000e-04 |  2035.4928 |       4132.6921 |          45.7685 |            1041\n"
     ]
    },
    {
     "name": "stderr",
     "output_type": "stream",
     "text": [
      "100%|███████████████████████████████████████████████████████████████████████████████████████████████▌| 231/232 [00:09<00:00, 23.23it/s]\n"
     ]
    },
    {
     "name": "stdout",
     "output_type": "stream",
     "text": [
      "18:00 |    49 |     1.000e-04 |  1781.6687 |       5251.4418 |          51.8619 |            1041\n"
     ]
    },
    {
     "name": "stderr",
     "output_type": "stream",
     "text": [
      "100%|███████████████████████████████████████████████████████████████████████████████████████████████▌| 231/232 [00:10<00:00, 22.45it/s]\n"
     ]
    },
    {
     "name": "stdout",
     "output_type": "stream",
     "text": [
      "18:10 |    50 |     1.000e-04 |  2318.2045 |       4188.6302 |          41.5631 |            1041\n"
     ]
    },
    {
     "name": "stderr",
     "output_type": "stream",
     "text": [
      "100%|███████████████████████████████████████████████████████████████████████████████████████████████▌| 231/232 [00:13<00:00, 17.41it/s]\n"
     ]
    },
    {
     "name": "stdout",
     "output_type": "stream",
     "text": [
      "18:24 |    51 |     1.000e-04 |  1653.7319 |       3661.2942 |          40.0217 |            1041\n"
     ]
    },
    {
     "name": "stderr",
     "output_type": "stream",
     "text": [
      "100%|███████████████████████████████████████████████████████████████████████████████████████████████▌| 231/232 [00:10<00:00, 21.34it/s]\n"
     ]
    },
    {
     "name": "stdout",
     "output_type": "stream",
     "text": [
      "18:36 |    52 |     1.000e-04 |  1588.8768 |       3205.1887 |          37.0323 |            1041\n"
     ]
    },
    {
     "name": "stderr",
     "output_type": "stream",
     "text": [
      "100%|███████████████████████████████████████████████████████████████████████████████████████████████▌| 231/232 [00:10<00:00, 21.57it/s]\n"
     ]
    },
    {
     "name": "stdout",
     "output_type": "stream",
     "text": [
      "18:47 |    53 |     1.000e-04 |  1957.0745 |       3788.6212 |          43.7778 |            1041\n"
     ]
    },
    {
     "name": "stderr",
     "output_type": "stream",
     "text": [
      "100%|███████████████████████████████████████████████████████████████████████████████████████████████▌| 231/232 [00:10<00:00, 22.06it/s]\n"
     ]
    },
    {
     "name": "stdout",
     "output_type": "stream",
     "text": [
      "18:58 |    54 |     1.000e-04 |  1704.2661 |       3210.6005 |          39.5263 |            1041\n"
     ]
    },
    {
     "name": "stderr",
     "output_type": "stream",
     "text": [
      "100%|███████████████████████████████████████████████████████████████████████████████████████████████▌| 231/232 [00:10<00:00, 22.11it/s]\n"
     ]
    },
    {
     "name": "stdout",
     "output_type": "stream",
     "text": [
      "19:09 |    55 |     1.000e-04 |  1356.5640 |       3336.0582 |          40.7881 |            1041\n"
     ]
    },
    {
     "name": "stderr",
     "output_type": "stream",
     "text": [
      "100%|███████████████████████████████████████████████████████████████████████████████████████████████▌| 231/232 [00:10<00:00, 21.88it/s]\n"
     ]
    },
    {
     "name": "stdout",
     "output_type": "stream",
     "text": [
      "19:20 |    56 |     1.000e-04 |  1304.3123 |       3340.7994 |          39.2909 |            1041\n"
     ]
    },
    {
     "name": "stderr",
     "output_type": "stream",
     "text": [
      "100%|███████████████████████████████████████████████████████████████████████████████████████████████▌| 231/232 [00:10<00:00, 22.39it/s]\n"
     ]
    },
    {
     "name": "stdout",
     "output_type": "stream",
     "text": [
      "19:30 |    57 |     1.000e-04 |  1208.0607 |       2889.5402 |          37.5010 |            1041\n"
     ]
    },
    {
     "name": "stderr",
     "output_type": "stream",
     "text": [
      "100%|███████████████████████████████████████████████████████████████████████████████████████████████▌| 231/232 [00:08<00:00, 26.25it/s]\n"
     ]
    },
    {
     "name": "stdout",
     "output_type": "stream",
     "text": [
      "19:40 |    58 |     1.000e-04 |  1157.2154 |       3185.0703 |          38.1220 |            1041\n"
     ]
    },
    {
     "name": "stderr",
     "output_type": "stream",
     "text": [
      "100%|███████████████████████████████████████████████████████████████████████████████████████████████▌| 231/232 [00:08<00:00, 25.91it/s]\n"
     ]
    },
    {
     "name": "stdout",
     "output_type": "stream",
     "text": [
      "19:49 |    59 |     1.000e-04 |  1108.8365 |       2663.8530 |          35.4517 |            1041\n"
     ]
    },
    {
     "name": "stderr",
     "output_type": "stream",
     "text": [
      "100%|███████████████████████████████████████████████████████████████████████████████████████████████▌| 231/232 [00:08<00:00, 27.98it/s]\n"
     ]
    },
    {
     "name": "stdout",
     "output_type": "stream",
     "text": [
      "19:58 |    60 |     1.000e-04 |  1468.1781 |       3567.1955 |          41.2244 |            1041\n"
     ]
    },
    {
     "name": "stderr",
     "output_type": "stream",
     "text": [
      "100%|███████████████████████████████████████████████████████████████████████████████████████████████▌| 231/232 [00:09<00:00, 24.60it/s]\n"
     ]
    },
    {
     "name": "stdout",
     "output_type": "stream",
     "text": [
      "20:07 |    61 |     1.000e-04 |  1531.4313 |       2880.3490 |          39.2117 |            1041\n"
     ]
    },
    {
     "name": "stderr",
     "output_type": "stream",
     "text": [
      "100%|███████████████████████████████████████████████████████████████████████████████████████████████▌| 231/232 [00:09<00:00, 24.99it/s]\n"
     ]
    },
    {
     "name": "stdout",
     "output_type": "stream",
     "text": [
      "20:17 |    62 |     1.000e-04 |  1396.9438 |       3118.5051 |          42.0109 |            1041\n"
     ]
    },
    {
     "name": "stderr",
     "output_type": "stream",
     "text": [
      "100%|███████████████████████████████████████████████████████████████████████████████████████████████▌| 231/232 [00:08<00:00, 26.23it/s]\n"
     ]
    },
    {
     "name": "stdout",
     "output_type": "stream",
     "text": [
      "20:26 |    63 |     1.000e-04 |  1196.5423 |       2885.9136 |          36.9946 |            1041\n"
     ]
    },
    {
     "name": "stderr",
     "output_type": "stream",
     "text": [
      "100%|███████████████████████████████████████████████████████████████████████████████████████████████▌| 231/232 [00:09<00:00, 24.62it/s]\n"
     ]
    },
    {
     "name": "stdout",
     "output_type": "stream",
     "text": [
      "20:36 |    64 |     1.000e-04 |  1013.5937 |       3298.4429 |          42.2876 |            1041\n"
     ]
    },
    {
     "name": "stderr",
     "output_type": "stream",
     "text": [
      "100%|███████████████████████████████████████████████████████████████████████████████████████████████▌| 231/232 [00:11<00:00, 20.52it/s]\n"
     ]
    },
    {
     "name": "stdout",
     "output_type": "stream",
     "text": [
      "20:48 |    65 |     1.000e-04 |   897.8019 |       2675.4563 |          36.3144 |            1041\n"
     ]
    },
    {
     "name": "stderr",
     "output_type": "stream",
     "text": [
      "100%|███████████████████████████████████████████████████████████████████████████████████████████████▌| 231/232 [00:10<00:00, 21.03it/s]\n"
     ]
    },
    {
     "name": "stdout",
     "output_type": "stream",
     "text": [
      "20:59 |    66 |     1.000e-04 |   923.6548 |       3129.6908 |          38.6490 |            1041\n"
     ]
    },
    {
     "name": "stderr",
     "output_type": "stream",
     "text": [
      "100%|███████████████████████████████████████████████████████████████████████████████████████████████▌| 231/232 [00:10<00:00, 21.50it/s]\n"
     ]
    },
    {
     "name": "stdout",
     "output_type": "stream",
     "text": [
      "21:10 |    67 |     1.000e-04 |  1030.4553 |       2590.5143 |          36.9965 |            1041\n"
     ]
    },
    {
     "name": "stderr",
     "output_type": "stream",
     "text": [
      "100%|███████████████████████████████████████████████████████████████████████████████████████████████▌| 231/232 [00:11<00:00, 20.87it/s]\n"
     ]
    },
    {
     "name": "stdout",
     "output_type": "stream",
     "text": [
      "21:22 |    68 |     1.000e-04 |  2165.6894 |       5156.5415 |          46.7401 |            1041\n"
     ]
    },
    {
     "name": "stderr",
     "output_type": "stream",
     "text": [
      "100%|███████████████████████████████████████████████████████████████████████████████████████████████▌| 231/232 [00:10<00:00, 21.22it/s]\n"
     ]
    },
    {
     "name": "stdout",
     "output_type": "stream",
     "text": [
      "21:34 |    69 |     1.000e-04 |  1561.9108 |       2844.3720 |          38.1873 |            1041\n"
     ]
    },
    {
     "name": "stderr",
     "output_type": "stream",
     "text": [
      "100%|███████████████████████████████████████████████████████████████████████████████████████████████▌| 231/232 [00:10<00:00, 21.07it/s]\n"
     ]
    },
    {
     "name": "stdout",
     "output_type": "stream",
     "text": [
      "21:45 |    70 |     1.000e-04 |  1086.7963 |       2679.0968 |          38.5604 |            1041\n"
     ]
    },
    {
     "name": "stderr",
     "output_type": "stream",
     "text": [
      "100%|███████████████████████████████████████████████████████████████████████████████████████████████▌| 231/232 [00:11<00:00, 19.59it/s]\n"
     ]
    },
    {
     "name": "stdout",
     "output_type": "stream",
     "text": [
      "21:57 |    71 |     1.000e-04 |   971.1678 |       2808.2479 |          38.4102 |            1041\n"
     ]
    },
    {
     "name": "stderr",
     "output_type": "stream",
     "text": [
      "100%|███████████████████████████████████████████████████████████████████████████████████████████████▌| 231/232 [00:11<00:00, 20.44it/s]\n"
     ]
    },
    {
     "name": "stdout",
     "output_type": "stream",
     "text": [
      "22:09 |    72 |     1.000e-04 |   972.5292 |       2980.9752 |          38.2218 |            1041\n"
     ]
    },
    {
     "name": "stderr",
     "output_type": "stream",
     "text": [
      "100%|███████████████████████████████████████████████████████████████████████████████████████████████▌| 231/232 [00:10<00:00, 21.51it/s]\n"
     ]
    },
    {
     "name": "stdout",
     "output_type": "stream",
     "text": [
      "22:20 |    73 |     1.000e-04 |   803.7366 |       2866.8503 |          37.0339 |            1041\n"
     ]
    },
    {
     "name": "stderr",
     "output_type": "stream",
     "text": [
      "100%|███████████████████████████████████████████████████████████████████████████████████████████████▌| 231/232 [00:08<00:00, 26.30it/s]\n"
     ]
    },
    {
     "name": "stdout",
     "output_type": "stream",
     "text": [
      "22:30 |    74 |     1.000e-04 |   800.0814 |       2858.6705 |          36.2214 |            1041\n"
     ]
    },
    {
     "name": "stderr",
     "output_type": "stream",
     "text": [
      "100%|███████████████████████████████████████████████████████████████████████████████████████████████▌| 231/232 [00:09<00:00, 24.03it/s]\n"
     ]
    },
    {
     "name": "stdout",
     "output_type": "stream",
     "text": [
      "22:40 |    75 |     1.000e-04 |  1134.6861 |       2858.2881 |          37.6065 |            1041\n"
     ]
    },
    {
     "name": "stderr",
     "output_type": "stream",
     "text": [
      "100%|███████████████████████████████████████████████████████████████████████████████████████████████▌| 231/232 [00:08<00:00, 26.55it/s]\n"
     ]
    },
    {
     "name": "stdout",
     "output_type": "stream",
     "text": [
      "22:49 |    76 |     1.000e-04 |   977.4776 |       2720.0689 |          37.3979 |            1041\n"
     ]
    },
    {
     "name": "stderr",
     "output_type": "stream",
     "text": [
      "100%|███████████████████████████████████████████████████████████████████████████████████████████████▌| 231/232 [00:08<00:00, 26.51it/s]\n"
     ]
    },
    {
     "name": "stdout",
     "output_type": "stream",
     "text": [
      "22:58 |    77 |     1.000e-04 |   769.1390 |       2972.6989 |          38.0437 |            1041\n"
     ]
    },
    {
     "name": "stderr",
     "output_type": "stream",
     "text": [
      "100%|███████████████████████████████████████████████████████████████████████████████████████████████▌| 231/232 [00:08<00:00, 26.57it/s]\n"
     ]
    },
    {
     "name": "stdout",
     "output_type": "stream",
     "text": [
      "23:07 |    78 |     1.000e-04 |   732.0091 |       2854.0129 |          38.2056 |            1041\n"
     ]
    },
    {
     "name": "stderr",
     "output_type": "stream",
     "text": [
      "100%|███████████████████████████████████████████████████████████████████████████████████████████████▌| 231/232 [00:09<00:00, 24.89it/s]\n"
     ]
    },
    {
     "name": "stdout",
     "output_type": "stream",
     "text": [
      "23:17 |    79 |     1.000e-04 |   659.7900 |       2664.7778 |          36.8840 |            1041\n"
     ]
    },
    {
     "name": "stderr",
     "output_type": "stream",
     "text": [
      "100%|███████████████████████████████████████████████████████████████████████████████████████████████▌| 231/232 [00:08<00:00, 26.06it/s]\n"
     ]
    },
    {
     "name": "stdout",
     "output_type": "stream",
     "text": [
      "23:26 |    80 |     1.000e-04 |   901.8090 |       2682.9043 |          35.7199 |            1041\n"
     ]
    },
    {
     "name": "stderr",
     "output_type": "stream",
     "text": [
      "100%|███████████████████████████████████████████████████████████████████████████████████████████████▌| 231/232 [00:09<00:00, 25.53it/s]\n"
     ]
    },
    {
     "name": "stdout",
     "output_type": "stream",
     "text": [
      "23:35 |    81 |     1.000e-04 |  1234.6208 |       2403.3201 |          34.7150 |            1041\n"
     ]
    },
    {
     "name": "stderr",
     "output_type": "stream",
     "text": [
      "100%|███████████████████████████████████████████████████████████████████████████████████████████████▌| 231/232 [00:09<00:00, 24.07it/s]\n"
     ]
    },
    {
     "name": "stdout",
     "output_type": "stream",
     "text": [
      "23:45 |    82 |     1.000e-04 |   756.7741 |       2604.2836 |          36.0862 |            1041\n"
     ]
    },
    {
     "name": "stderr",
     "output_type": "stream",
     "text": [
      "100%|███████████████████████████████████████████████████████████████████████████████████████████████▌| 231/232 [00:09<00:00, 23.96it/s]\n"
     ]
    },
    {
     "name": "stdout",
     "output_type": "stream",
     "text": [
      "23:55 |    83 |     1.000e-04 |   693.1548 |       2877.0014 |          37.1900 |            1041\n"
     ]
    },
    {
     "name": "stderr",
     "output_type": "stream",
     "text": [
      "100%|███████████████████████████████████████████████████████████████████████████████████████████████▌| 231/232 [00:09<00:00, 25.06it/s]\n"
     ]
    },
    {
     "name": "stdout",
     "output_type": "stream",
     "text": [
      "24:05 |    84 |     1.000e-04 |   952.7707 |       2580.1135 |          35.4818 |            1041\n"
     ]
    },
    {
     "name": "stderr",
     "output_type": "stream",
     "text": [
      "100%|███████████████████████████████████████████████████████████████████████████████████████████████▌| 231/232 [00:09<00:00, 24.05it/s]\n"
     ]
    },
    {
     "name": "stdout",
     "output_type": "stream",
     "text": [
      "24:15 |    85 |     1.000e-04 |   599.9613 |       2458.6122 |          35.5609 |            1041\n"
     ]
    },
    {
     "name": "stderr",
     "output_type": "stream",
     "text": [
      "100%|███████████████████████████████████████████████████████████████████████████████████████████████▌| 231/232 [00:08<00:00, 27.29it/s]\n"
     ]
    },
    {
     "name": "stdout",
     "output_type": "stream",
     "text": [
      "24:24 |    86 |     1.000e-04 |   724.3742 |       2439.7936 |          35.6623 |            1041\n"
     ]
    },
    {
     "name": "stderr",
     "output_type": "stream",
     "text": [
      "100%|███████████████████████████████████████████████████████████████████████████████████████████████▌| 231/232 [00:09<00:00, 25.30it/s]\n"
     ]
    },
    {
     "name": "stdout",
     "output_type": "stream",
     "text": [
      "24:33 |    87 |     1.000e-04 |   697.9173 |       2613.6256 |          35.0742 |            1041\n"
     ]
    },
    {
     "name": "stderr",
     "output_type": "stream",
     "text": [
      "100%|███████████████████████████████████████████████████████████████████████████████████████████████▌| 231/232 [00:09<00:00, 23.40it/s]\n"
     ]
    },
    {
     "name": "stdout",
     "output_type": "stream",
     "text": [
      "24:43 |    88 |     1.000e-04 |   683.8321 |       2353.9909 |          33.4891 |            1041\n"
     ]
    },
    {
     "name": "stderr",
     "output_type": "stream",
     "text": [
      "100%|███████████████████████████████████████████████████████████████████████████████████████████████▌| 231/232 [00:08<00:00, 26.12it/s]\n"
     ]
    },
    {
     "name": "stdout",
     "output_type": "stream",
     "text": [
      "24:52 |    89 |     1.000e-04 |   552.9929 |       2609.3781 |          34.7893 |            1041\n"
     ]
    },
    {
     "name": "stderr",
     "output_type": "stream",
     "text": [
      "100%|███████████████████████████████████████████████████████████████████████████████████████████████▌| 231/232 [00:09<00:00, 24.95it/s]\n"
     ]
    },
    {
     "name": "stdout",
     "output_type": "stream",
     "text": [
      "25:02 |    90 |     1.000e-04 |   546.3811 |       2506.1721 |          33.8251 |            1041\n"
     ]
    },
    {
     "name": "stderr",
     "output_type": "stream",
     "text": [
      "100%|███████████████████████████████████████████████████████████████████████████████████████████████▌| 231/232 [00:08<00:00, 25.78it/s]\n"
     ]
    },
    {
     "name": "stdout",
     "output_type": "stream",
     "text": [
      "25:11 |    91 |     1.000e-04 |  1845.9246 |       3279.7806 |          43.4412 |            1041\n"
     ]
    },
    {
     "name": "stderr",
     "output_type": "stream",
     "text": [
      "100%|███████████████████████████████████████████████████████████████████████████████████████████████▌| 231/232 [00:09<00:00, 24.28it/s]\n"
     ]
    },
    {
     "name": "stdout",
     "output_type": "stream",
     "text": [
      "25:21 |    92 |     1.000e-04 |  1428.5326 |       2854.0615 |          37.3403 |            1041\n"
     ]
    },
    {
     "name": "stderr",
     "output_type": "stream",
     "text": [
      "100%|███████████████████████████████████████████████████████████████████████████████████████████████▌| 231/232 [00:08<00:00, 27.11it/s]\n"
     ]
    },
    {
     "name": "stdout",
     "output_type": "stream",
     "text": [
      "25:30 |    93 |     1.000e-04 |   889.0873 |       3142.3114 |          37.7118 |            1041\n"
     ]
    },
    {
     "name": "stderr",
     "output_type": "stream",
     "text": [
      "100%|███████████████████████████████████████████████████████████████████████████████████████████████▌| 231/232 [00:11<00:00, 20.88it/s]\n"
     ]
    },
    {
     "name": "stdout",
     "output_type": "stream",
     "text": [
      "25:42 |    94 |     1.000e-04 |   776.2988 |       2586.7606 |          35.4502 |            1041\n"
     ]
    },
    {
     "name": "stderr",
     "output_type": "stream",
     "text": [
      "100%|███████████████████████████████████████████████████████████████████████████████████████████████▌| 231/232 [00:10<00:00, 21.31it/s]\n"
     ]
    },
    {
     "name": "stdout",
     "output_type": "stream",
     "text": [
      "25:53 |    95 |     1.000e-04 |   632.8395 |       2599.8106 |          34.2749 |            1041\n"
     ]
    },
    {
     "name": "stderr",
     "output_type": "stream",
     "text": [
      "100%|███████████████████████████████████████████████████████████████████████████████████████████████▌| 231/232 [00:11<00:00, 20.69it/s]\n"
     ]
    },
    {
     "name": "stdout",
     "output_type": "stream",
     "text": [
      "26:05 |    96 |     1.000e-04 |   609.3064 |       2488.7378 |          34.2495 |            1041\n"
     ]
    },
    {
     "name": "stderr",
     "output_type": "stream",
     "text": [
      "100%|███████████████████████████████████████████████████████████████████████████████████████████████▌| 231/232 [00:10<00:00, 21.05it/s]\n"
     ]
    },
    {
     "name": "stdout",
     "output_type": "stream",
     "text": [
      "26:16 |    97 |     1.000e-04 |   610.5076 |       2573.0427 |          37.1868 |            1041\n"
     ]
    },
    {
     "name": "stderr",
     "output_type": "stream",
     "text": [
      "100%|███████████████████████████████████████████████████████████████████████████████████████████████▌| 231/232 [00:10<00:00, 21.95it/s]\n"
     ]
    },
    {
     "name": "stdout",
     "output_type": "stream",
     "text": [
      "26:27 |    98 |     1.000e-04 |   559.6502 |       2500.6397 |          35.2360 |            1041\n"
     ]
    },
    {
     "name": "stderr",
     "output_type": "stream",
     "text": [
      "100%|███████████████████████████████████████████████████████████████████████████████████████████████▌| 231/232 [00:08<00:00, 26.99it/s]\n"
     ]
    },
    {
     "name": "stdout",
     "output_type": "stream",
     "text": [
      "26:36 |    99 |     1.000e-04 |   532.7942 |       2442.3365 |          33.5911 |            1041\n"
     ]
    },
    {
     "name": "stderr",
     "output_type": "stream",
     "text": [
      "100%|███████████████████████████████████████████████████████████████████████████████████████████████▌| 231/232 [00:09<00:00, 24.70it/s]\n"
     ]
    },
    {
     "name": "stdout",
     "output_type": "stream",
     "text": [
      "26:46 |   100 |     1.000e-04 |   469.9885 |       3079.3818 |          38.0056 |            1041\n"
     ]
    },
    {
     "name": "stderr",
     "output_type": "stream",
     "text": [
      "100%|███████████████████████████████████████████████████████████████████████████████████████████████▌| 231/232 [00:10<00:00, 22.90it/s]\n"
     ]
    },
    {
     "name": "stdout",
     "output_type": "stream",
     "text": [
      "26:57 |   101 |     1.000e-04 |   529.2090 |       2636.6836 |          34.6044 |            1041\n"
     ]
    },
    {
     "name": "stderr",
     "output_type": "stream",
     "text": [
      "100%|███████████████████████████████████████████████████████████████████████████████████████████████▌| 231/232 [00:10<00:00, 21.96it/s]\n"
     ]
    },
    {
     "name": "stdout",
     "output_type": "stream",
     "text": [
      "27:08 |   102 |     1.000e-04 |   513.5247 |       2691.6552 |          35.2143 |            1041\n"
     ]
    },
    {
     "name": "stderr",
     "output_type": "stream",
     "text": [
      "100%|███████████████████████████████████████████████████████████████████████████████████████████████▌| 231/232 [00:14<00:00, 16.37it/s]\n"
     ]
    },
    {
     "name": "stdout",
     "output_type": "stream",
     "text": [
      "27:23 |   103 |     1.000e-04 |   502.1542 |       3068.2721 |          40.0047 |            1041\n"
     ]
    },
    {
     "name": "stderr",
     "output_type": "stream",
     "text": [
      "100%|███████████████████████████████████████████████████████████████████████████████████████████████▌| 231/232 [00:10<00:00, 22.20it/s]\n"
     ]
    },
    {
     "name": "stdout",
     "output_type": "stream",
     "text": [
      "27:34 |   104 |     1.000e-04 |   485.6690 |       2498.4242 |          35.5163 |            1041\n"
     ]
    },
    {
     "name": "stderr",
     "output_type": "stream",
     "text": [
      "100%|███████████████████████████████████████████████████████████████████████████████████████████████▌| 231/232 [00:15<00:00, 14.68it/s]\n"
     ]
    },
    {
     "name": "stdout",
     "output_type": "stream",
     "text": [
      "27:51 |   105 |     1.000e-04 |   517.6737 |       2920.1198 |          37.1895 |            1041\n"
     ]
    },
    {
     "name": "stderr",
     "output_type": "stream",
     "text": [
      "100%|███████████████████████████████████████████████████████████████████████████████████████████████▌| 231/232 [00:22<00:00, 10.26it/s]\n"
     ]
    },
    {
     "name": "stdout",
     "output_type": "stream",
     "text": [
      "28:14 |   106 |     1.000e-04 |   677.1181 |       2822.3705 |          37.0418 |            1041\n"
     ]
    },
    {
     "name": "stderr",
     "output_type": "stream",
     "text": [
      "100%|███████████████████████████████████████████████████████████████████████████████████████████████▌| 231/232 [00:16<00:00, 14.25it/s]\n"
     ]
    },
    {
     "name": "stdout",
     "output_type": "stream",
     "text": [
      "28:31 |   107 |     1.000e-04 |   685.5078 |       3604.7354 |          42.0912 |            1041\n"
     ]
    },
    {
     "name": "stderr",
     "output_type": "stream",
     "text": [
      "100%|███████████████████████████████████████████████████████████████████████████████████████████████▌| 231/232 [00:12<00:00, 17.98it/s]\n"
     ]
    },
    {
     "name": "stdout",
     "output_type": "stream",
     "text": [
      "28:44 |   108 |     1.000e-04 |   824.5227 |       3336.7449 |          41.3754 |            1041\n"
     ]
    },
    {
     "name": "stderr",
     "output_type": "stream",
     "text": [
      "100%|███████████████████████████████████████████████████████████████████████████████████████████████▌| 231/232 [00:10<00:00, 22.50it/s]\n"
     ]
    },
    {
     "name": "stdout",
     "output_type": "stream",
     "text": [
      "28:55 |   109 |     1.000e-04 |   478.2088 |       2690.1053 |          35.1313 |            1041\n"
     ]
    },
    {
     "name": "stderr",
     "output_type": "stream",
     "text": [
      "100%|███████████████████████████████████████████████████████████████████████████████████████████████▌| 231/232 [00:11<00:00, 20.68it/s]\n"
     ]
    },
    {
     "name": "stdout",
     "output_type": "stream",
     "text": [
      "29:06 |   110 |     1.000e-04 |   554.3289 |       2405.4081 |          33.8931 |            1041\n"
     ]
    },
    {
     "name": "stderr",
     "output_type": "stream",
     "text": [
      "100%|███████████████████████████████████████████████████████████████████████████████████████████████▌| 231/232 [00:23<00:00,  9.85it/s]\n"
     ]
    },
    {
     "name": "stdout",
     "output_type": "stream",
     "text": [
      "29:30 |   111 |     1.000e-04 |   419.4556 |       2693.2731 |          35.9309 |            1041\n"
     ]
    },
    {
     "name": "stderr",
     "output_type": "stream",
     "text": [
      "100%|███████████████████████████████████████████████████████████████████████████████████████████████▌| 231/232 [00:10<00:00, 22.22it/s]\n"
     ]
    },
    {
     "name": "stdout",
     "output_type": "stream",
     "text": [
      "29:41 |   112 |     1.000e-04 |   452.5812 |       2375.2161 |          34.7797 |            1041\n"
     ]
    },
    {
     "name": "stderr",
     "output_type": "stream",
     "text": [
      "100%|███████████████████████████████████████████████████████████████████████████████████████████████▌| 231/232 [00:10<00:00, 21.80it/s]\n"
     ]
    },
    {
     "name": "stdout",
     "output_type": "stream",
     "text": [
      "29:52 |   113 |     1.000e-04 |  1499.3362 |       2779.8856 |          38.6701 |            1041\n"
     ]
    },
    {
     "name": "stderr",
     "output_type": "stream",
     "text": [
      "100%|███████████████████████████████████████████████████████████████████████████████████████████████▌| 231/232 [00:10<00:00, 22.26it/s]\n"
     ]
    },
    {
     "name": "stdout",
     "output_type": "stream",
     "text": [
      "30:03 |   114 |     1.000e-04 |  1033.0030 |       2459.4457 |          36.0806 |            1041\n"
     ]
    },
    {
     "name": "stderr",
     "output_type": "stream",
     "text": [
      "100%|███████████████████████████████████████████████████████████████████████████████████████████████▌| 231/232 [00:20<00:00, 11.35it/s]\n"
     ]
    },
    {
     "name": "stdout",
     "output_type": "stream",
     "text": [
      "30:24 |   115 |     1.000e-04 |   623.5915 |       2113.8618 |          31.3109 |            1041\n"
     ]
    },
    {
     "name": "stderr",
     "output_type": "stream",
     "text": [
      "100%|███████████████████████████████████████████████████████████████████████████████████████████████▌| 231/232 [00:10<00:00, 21.16it/s]\n"
     ]
    },
    {
     "name": "stdout",
     "output_type": "stream",
     "text": [
      "30:36 |   116 |     1.000e-04 |   467.8991 |       2339.3939 |          32.1726 |            1041\n"
     ]
    },
    {
     "name": "stderr",
     "output_type": "stream",
     "text": [
      " 58%|███████████████████████████████████████████████████████▊                                        | 135/232 [00:05<00:04, 22.18it/s]"
     ]
    }
   ],
   "source": [
    "T.train(device=DEVICE, n_epochs=1000)"
   ]
  },
  {
   "cell_type": "code",
   "execution_count": null,
   "id": "4a605c9f",
   "metadata": {},
   "outputs": [],
   "source": [
    "results, targets, val_loss = evaluate(T.get_best_model(), \n",
    "                                      test_loader, \n",
    "                                      loss_fn, \n",
    "                                      device=DEVICE)\n",
    "\n",
    "units = {\n",
    "    'peakwavs_max': 'nm'\n",
    "}\n",
    "\n",
    "fig, ax_fig = plt.subplots(1, 2, figsize=(12, 6))\n",
    "\n",
    "for ax, key in zip(ax_fig, units.keys()):\n",
    "    pred_fn = torch.cat\n",
    "    targ_fn = torch.cat\n",
    "    if all([len(i.shape) == 0 for i in results[key]]):\n",
    "        pred_fn = torch.stack\n",
    "    if all([len(i.shape) == 0 for i in targets[key]]):\n",
    "        targ_fn = torch.stack\n",
    "        \n",
    "    pred = pred_fn(results[key], dim=0).view(-1).detach().cpu().numpy()\n",
    "    targ = targ_fn(targets[key], dim=0).view(-1).detach().cpu().numpy()\n",
    "\n",
    "    mae = abs(pred-targ).mean()\n",
    "    \n",
    "    ax.hexbin(pred, targ, mincnt=1)\n",
    "    \n",
    "    lim_min = min(np.min(pred), np.min(targ)) * 1.1\n",
    "    lim_max = max(np.max(pred), np.max(targ)) * 1.1\n",
    "    \n",
    "    ax.set_xlim(lim_min, lim_max)\n",
    "    ax.set_ylim(lim_min, lim_max)\n",
    "    ax.set_aspect('equal')\n",
    "    \n",
    "    ax.plot((lim_min, lim_max),\n",
    "            (lim_min, lim_max),\n",
    "            color='#000000',\n",
    "            zorder=-1,\n",
    "            linewidth=0.5)\n",
    "    \n",
    "    ax.set_title(key.upper(), fontsize=14)\n",
    "    ax.set_xlabel('predicted %s (%s)' % (key, units[key]), fontsize=12)\n",
    "    ax.set_ylabel('target %s (%s)' % (key, units[key]), fontsize=12)\n",
    "    ax.text(0.1, 0.9, 'MAE: %.2f %s' % (mae, units[key]), \n",
    "           transform=ax.transAxes, fontsize=14)\n",
    "\n",
    "plt.show()"
   ]
  },
  {
   "cell_type": "code",
   "execution_count": null,
   "id": "2d596a09",
   "metadata": {},
   "outputs": [],
   "source": []
  },
  {
   "cell_type": "code",
   "execution_count": null,
   "id": "75376c44",
   "metadata": {},
   "outputs": [],
   "source": []
  }
 ],
 "metadata": {
  "kernelspec": {
   "display_name": "Python [conda env:htvs] *",
   "language": "python",
   "name": "conda-env-htvs-py"
  },
  "language_info": {
   "codemirror_mode": {
    "name": "ipython",
    "version": 3
   },
   "file_extension": ".py",
   "mimetype": "text/x-python",
   "name": "python",
   "nbconvert_exporter": "python",
   "pygments_lexer": "ipython3",
   "version": "3.7.10"
  }
 },
 "nbformat": 4,
 "nbformat_minor": 5
}
