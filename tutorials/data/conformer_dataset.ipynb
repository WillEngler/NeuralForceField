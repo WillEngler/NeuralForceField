{
 "cells": [
  {
   "cell_type": "markdown",
   "metadata": {},
   "source": [
    "# Creating a dataset for protein binders using a 3D representation"
   ]
  },
  {
   "cell_type": "markdown",
   "metadata": {},
   "source": [
    "This tutorial shows how to create a dataset for protein binders. We want to represent 3D features of different conformers of the molecule, but there are many different conformers for a given molecules. So, we extract a set of conformers and consider their Boltzmann weights."
   ]
  },
  {
   "cell_type": "markdown",
   "metadata": {},
   "source": [
    "### Set up Django"
   ]
  },
  {
   "cell_type": "code",
   "execution_count": 1,
   "metadata": {},
   "outputs": [
    {
     "name": "stderr",
     "output_type": "stream",
     "text": [
      "RDKit WARNING: [18:05:02] Enabling RDKit 2019.09.1 jupyter extensions\n"
     ]
    }
   ],
   "source": [
    "import os\n",
    "import django\n",
    "\n",
    "os.environ[\"DJANGO_SETTINGS_MODULE\"]=\"djangochem.settings.orgel\"\n",
    "\n",
    "\n",
    "django.setup()\n",
    "\n",
    "# Shell Plus Model Imports\n",
    "from features.models import AtomDescriptor, BondDescriptor, ConnectivityMatrix, DistanceMatrix, Fingerprint, ProximityMatrix, SpeciesDescriptor, TrainingSet, Transformation\n",
    "from guardian.models import GroupObjectPermission, UserObjectPermission\n",
    "from django.contrib.contenttypes.models import ContentType\n",
    "from neuralnet.models import ActiveLearningLoop, NetArchitecture, NetCommunity, NetFamily, NeuralNetwork, NnPotential, NnPotentialStats\n",
    "from jobs.models import Job, JobConfig, WorkBatch\n",
    "from django.contrib.admin.models import LogEntry\n",
    "from django.contrib.auth.models import Group, Permission, User\n",
    "from django.contrib.sessions.models import Session\n",
    "from pgmols.models import (AtomBasis, BasisSet, Batch, Calc, Cluster,\n",
    "                           Geom, Hessian, Jacobian, MDFrame, Mechanism, Method, Mol, MolGroupObjectPermission,\n",
    "                           MolSet, MolUserObjectPermission, PathImage, ProductLink, ReactantLink, Reaction,\n",
    "                           ReactionPath, ReactionType, SinglePoint, Species, Stoichiometry, Trajectory)\n",
    "# Shell Plus Django Imports\n",
    "from django.core.cache import cache\n",
    "from django.db import transaction\n",
    "from django.utils import timezone\n",
    "from django.contrib.auth import get_user_model\n",
    "from django.urls import reverse\n",
    "from django.conf import settings\n",
    "from django.db.models import Avg, Case, Count, F, Max, Min, Prefetch, Q, Sum, When, Exists, OuterRef, Subquery"
   ]
  },
  {
   "cell_type": "code",
   "execution_count": 2,
   "metadata": {},
   "outputs": [],
   "source": [
    "import sys\n",
    "sys.path.insert(0, \"/home/saxelrod/htvs/djangochem\")"
   ]
  },
  {
   "cell_type": "markdown",
   "metadata": {},
   "source": [
    "## MMFF94\n",
    "\n",
    "Get a dataset of potential covid binders where the conformers are generated with mmff94"
   ]
  },
  {
   "cell_type": "code",
   "execution_count": 5,
   "metadata": {},
   "outputs": [],
   "source": [
    "from neuralnet.utils.nff import create_bind_dataset\n",
    "\n",
    "group_name = 'covid'\n",
    "method_name = 'molecular_mechanics_mmff94'\n",
    "method_descrip = 'MMFF conformer.'\n",
    "molsets = ['run']\n",
    "nbrlist_cutoff = 5.0\n",
    "batch_size = 10\n",
    "num_workers = 2\n",
    "# maximum conformers per species\n",
    "geoms_per_spec = 100\n",
    "\n",
    "dataset, loader = create_bind_dataset(group_name=group_name,\n",
    "                    method_name=method_name,\n",
    "                    method_descrip=method_descrip,\n",
    "                    geoms_per_spec=geoms_per_spec,\n",
    "                    nbrlist_cutoff=nbrlist_cutoff,\n",
    "                    batch_size=batch_size,\n",
    "                    num_workers=num_workers,\n",
    "                    molsets=molsets)\n",
    "\n",
    "dataset.save('covid_mmff94.pth.tar')\n",
    "\n"
   ]
  },
  {
   "cell_type": "markdown",
   "metadata": {},
   "source": [
    "## Crest\n",
    "Same, but with crest (much better!)"
   ]
  },
  {
   "cell_type": "code",
   "execution_count": 5,
   "metadata": {},
   "outputs": [],
   "source": [
    "from neuralnet.utils.nff import create_bind_dataset\n",
    "\n",
    "method_name = 'gfn2-xtb'\n",
    "method_descrip = 'Crest GFN2-xTB'\n",
    "\n",
    "dataset, loader = create_bind_dataset(group_name=group_name,\n",
    "                    method_name=method_name,\n",
    "                    method_descrip=method_descrip,\n",
    "                    geoms_per_spec=geoms_per_spec,\n",
    "                    nbrlist_cutoff=nbrlist_cutoff,\n",
    "                    batch_size=batch_size,\n",
    "                    num_workers=num_workers,\n",
    "                    molsets=molsets)\n",
    "\n",
    "dataset.save('covid_crest.pth.tar')\n",
    "\n"
   ]
  },
  {
   "cell_type": "markdown",
   "metadata": {},
   "source": [
    "## The dataset"
   ]
  },
  {
   "cell_type": "markdown",
   "metadata": {},
   "source": [
    "Let's take a look at the dataset itself:"
   ]
  },
  {
   "cell_type": "code",
   "execution_count": 7,
   "metadata": {},
   "outputs": [
    {
     "name": "stdout",
     "output_type": "stream",
     "text": [
      "{'num_atoms': tensor(4300), 'bind': tensor(0), 'smiles': 'c1ccc(CC(c2ccccc2)N2CCCCC2)cc1', 'geom_id': tensor([85203096., 85203096., 85203096., 85203096., 85203096., 85203096.,\n",
      "        85203096., 85203104., 85203104., 85203104., 85203104., 85203104.,\n",
      "        85203104., 85203104., 85203104., 85203104., 85203112., 85203112.,\n",
      "        85203112., 85203112., 85203112., 85203112., 85203112., 85203120.,\n",
      "        85203120., 85203120., 85203120., 85203120., 85203120., 85203120.,\n",
      "        85203120., 85203128., 85203128., 85203128., 85203128., 85203128.,\n",
      "        85203128., 85203128., 85203136., 85203136., 85203136., 85203136.,\n",
      "        85203136., 85203136., 85203136., 85203136., 85203136., 85203144.,\n",
      "        85203144., 85203144., 85203144., 85203144., 85203144., 85203144.,\n",
      "        85203152., 85203152., 85203152., 85203152., 85203152., 85203152.,\n",
      "        85203152., 85203152., 85203152., 85203160., 85203160., 85203160.,\n",
      "        85203160., 85203160., 85203160., 85203160., 85203168., 85203168.,\n",
      "        85203168., 85203168., 85203168., 85203168., 85203168., 85203168.,\n",
      "        85203168., 85203176., 85203176., 85203176., 85203176., 85203176.,\n",
      "        85203176., 85203176., 85203184., 85203184., 85203184., 85203184.,\n",
      "        85203184., 85203184., 85203184., 85203184., 85203184., 85203192.,\n",
      "        85203192., 85203192., 85203192., 85203200.]), 'spec_id': tensor(6631940), 'mol_size': tensor(43), 'nxyz': tensor([[ 6.0000,  4.3809,  1.0873,  0.1777],\n",
      "        [ 6.0000,  3.8217,  0.4284, -0.9035],\n",
      "        [ 6.0000,  2.4735,  0.5657, -1.1796],\n",
      "        ...,\n",
      "        [ 1.0000, -0.4095, -2.3929, -0.7292],\n",
      "        [ 1.0000, -2.4427, -2.9747, -1.9772],\n",
      "        [ 1.0000, -4.6368, -2.1159, -1.2428]]), 'weights': tensor([0.0776, 0.0720, 0.0520, 0.0272, 0.0249, 0.0489, 0.0225, 0.0221, 0.0638,\n",
      "        0.0168, 0.0372, 0.0242, 0.0126, 0.0117, 0.0103, 0.0183, 0.0095, 0.0278,\n",
      "        0.0090, 0.0079, 0.0223, 0.0294, 0.0074, 0.0071, 0.0068, 0.0063, 0.0062,\n",
      "        0.0061, 0.0057, 0.0111, 0.0056, 0.0111, 0.0055, 0.0103, 0.0051, 0.0050,\n",
      "        0.0096, 0.0047, 0.0047, 0.0045, 0.0045, 0.0044, 0.0043, 0.0078, 0.0077,\n",
      "        0.0038, 0.0037, 0.0037, 0.0037, 0.0098, 0.0066, 0.0034, 0.0034, 0.0033,\n",
      "        0.0061, 0.0030, 0.0105, 0.0079, 0.0027, 0.0027, 0.0076, 0.0074, 0.0050,\n",
      "        0.0025, 0.0066, 0.0025, 0.0024, 0.0022, 0.0022, 0.0022, 0.0020, 0.0020,\n",
      "        0.0040, 0.0019, 0.0036, 0.0019, 0.0018, 0.0118, 0.0034, 0.0065, 0.0017,\n",
      "        0.0032, 0.0017, 0.0031, 0.0046, 0.0016, 0.0016, 0.0016, 0.0027, 0.0063,\n",
      "        0.0025, 0.0035, 0.0025, 0.0012, 0.0024, 0.0023, 0.0012, 0.0012, 0.0012,\n",
      "        0.0011]), 'nbr_list': tensor([[   0,    1],\n",
      "        [   0,    2],\n",
      "        [   0,    3],\n",
      "        ...,\n",
      "        [4299, 4291],\n",
      "        [4299, 4297],\n",
      "        [4299, 4298]])}\n"
     ]
    }
   ],
   "source": [
    "print(dataset[0])"
   ]
  },
  {
   "cell_type": "markdown",
   "metadata": {},
   "source": [
    "Each item in the dataset corresponds to one species. It has the number of atoms (`num_atoms`), whether it's a binder (`bind`), its smiles, the database IDs of its conformer geoms, the database ID of the species. It also has `mol_size`, the actual number of atoms in one molecule, which will allow us to separate the big nxyz (a stacked tensor consisting of all conformer nxyz's) into its conformers when needed. `weights` is a list of Boltzmann weights fo reach conformer. `nbr_list` tells you the neighbors of each atom, which takes into account the fact that ever 43 atoms you're actually in a different molecule.\n",
    "\n",
    "Let's next look at batching:"
   ]
  },
  {
   "cell_type": "code",
   "execution_count": 8,
   "metadata": {},
   "outputs": [
    {
     "ename": "NameError",
     "evalue": "name 'loader' is not defined",
     "output_type": "error",
     "traceback": [
      "\u001b[0;31m---------------------------------------------------------------------------\u001b[0m",
      "\u001b[0;31mNameError\u001b[0m                                 Traceback (most recent call last)",
      "\u001b[0;32m<ipython-input-8-37eb4d6c5e6e>\u001b[0m in \u001b[0;36m<module>\u001b[0;34m\u001b[0m\n\u001b[0;32m----> 1\u001b[0;31m \u001b[0mprint\u001b[0m\u001b[0;34m(\u001b[0m\u001b[0mnext\u001b[0m\u001b[0;34m(\u001b[0m\u001b[0miter\u001b[0m\u001b[0;34m(\u001b[0m\u001b[0mloader\u001b[0m\u001b[0;34m)\u001b[0m\u001b[0;34m)\u001b[0m\u001b[0;34m[\u001b[0m\u001b[0;36m0\u001b[0m\u001b[0;34m]\u001b[0m\u001b[0;34m)\u001b[0m\u001b[0;34m\u001b[0m\u001b[0;34m\u001b[0m\u001b[0m\n\u001b[0m",
      "\u001b[0;31mNameError\u001b[0m: name 'loader' is not defined"
     ]
    }
   ],
   "source": [
    "print(next(iter(loader))[0])"
   ]
  },
  {
   "cell_type": "markdown",
   "metadata": {},
   "source": [
    "This looks the exact same as a regular batch, if we assumed that each smiles really had one giant xyz."
   ]
  },
  {
   "cell_type": "code",
   "execution_count": null,
   "metadata": {},
   "outputs": [],
   "source": []
  }
 ],
 "metadata": {
  "kernelspec": {
   "display_name": "Python [conda env:neuralff]",
   "language": "python",
   "name": "neuralff"
  },
  "language_info": {
   "codemirror_mode": {
    "name": "ipython",
    "version": 3
   },
   "file_extension": ".py",
   "mimetype": "text/x-python",
   "name": "python",
   "nbconvert_exporter": "python",
   "pygments_lexer": "ipython3",
   "version": "3.7.5"
  }
 },
 "nbformat": 4,
 "nbformat_minor": 2
}
