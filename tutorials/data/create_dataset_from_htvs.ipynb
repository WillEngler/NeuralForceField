{
 "cells": [
  {
   "cell_type": "markdown",
   "metadata": {},
   "source": [
    "# Creating a dataset using nff's code and our database on HTVS"
   ]
  },
  {
   "cell_type": "markdown",
   "metadata": {},
   "source": [
    "This tutorial addresses the problem of creating a database directly from our database for HTVS. It requires setting up the project `dbsetting` to make loading the data easier for this code"
   ]
  },
  {
   "cell_type": "code",
   "execution_count": 1,
   "metadata": {},
   "outputs": [],
   "source": [
    "%load_ext autoreload\n",
    "%autoreload 2"
   ]
  },
  {
   "cell_type": "code",
   "execution_count": 2,
   "metadata": {},
   "outputs": [],
   "source": [
    "import sys\n",
    "import random\n",
    "import numpy as np\n",
    "\n",
    "import torch\n",
    "from dbsetting import *\n",
    "import nff.data as d\n",
    "\n",
    "import matplotlib.pyplot as plt"
   ]
  },
  {
   "cell_type": "markdown",
   "metadata": {},
   "source": [
    "### Ethanol calculations using DLPNO"
   ]
  },
  {
   "cell_type": "markdown",
   "metadata": {},
   "source": [
    "For this example, we will create a dataset of hybrid calculations of ethanol molecules. In this example, we will extract all calculations from the database"
   ]
  },
  {
   "cell_type": "code",
   "execution_count": 3,
   "metadata": {},
   "outputs": [],
   "source": [
    "myspecies = Species.objects.filter(smiles='COC')\n",
    "mymethod = Method.objects.filter(name='dft_d3_dhyb_dsdpbebp86').first()\n",
    "mycalcs = (Calc.objects\n",
    "    .filter(method=mymethod)\n",
    "    .filter(species__in=myspecies)\n",
    "    .order_by('?')\n",
    ")"
   ]
  },
  {
   "cell_type": "markdown",
   "metadata": {},
   "source": [
    "Checking how many calcs we have for these systems:"
   ]
  },
  {
   "cell_type": "code",
   "execution_count": 4,
   "metadata": {},
   "outputs": [
    {
     "data": {
      "text/plain": [
       "7814"
      ]
     },
     "execution_count": 4,
     "metadata": {},
     "output_type": "execute_result"
    }
   ],
   "source": [
    "mycalcs.count()"
   ]
  },
  {
   "cell_type": "markdown",
   "metadata": {},
   "source": [
    "### Creating the dataset with DLPNO properties"
   ]
  },
  {
   "cell_type": "markdown",
   "metadata": {},
   "source": [
    "Retrieving the calculations:"
   ]
  },
  {
   "cell_type": "code",
   "execution_count": 5,
   "metadata": {},
   "outputs": [],
   "source": [
    "geoms = Geom.objects.filter(\n",
    "    id__in=mycalcs.values_list('geoms__id', flat=True)\n",
    ")\n",
    "\n",
    "dlpno_props = get_props(\n",
    "    geoms,\n",
    "    methodname=mymethod.name\n",
    ")"
   ]
  },
  {
   "cell_type": "markdown",
   "metadata": {},
   "source": [
    "### Creating a dataset of GGA properties for the same geoms"
   ]
  },
  {
   "cell_type": "code",
   "execution_count": 6,
   "metadata": {},
   "outputs": [],
   "source": [
    "gga_method = Method.objects.filter(name='dft_d3_gga_bp86').first()\n",
    "gga_props = get_props(\n",
    "    geoms,\n",
    "    methodname=gga_method.name\n",
    ")"
   ]
  },
  {
   "cell_type": "markdown",
   "metadata": {},
   "source": [
    "## Creating the dataset"
   ]
  },
  {
   "cell_type": "markdown",
   "metadata": {},
   "source": [
    "To make the creation of the dataset easier, we have to convert the list of dicts into dict of dicts. Then, we can merge the dictionaries."
   ]
  },
  {
   "cell_type": "code",
   "execution_count": 7,
   "metadata": {},
   "outputs": [],
   "source": [
    "dlpno_props = {\n",
    "    dict_['geom_id']: dict_\n",
    "    for dict_ in dlpno_props\n",
    "}\n",
    "\n",
    "gga_props = {\n",
    "    dict_['geom_id']: dict_\n",
    "    for dict_ in gga_props\n",
    "}"
   ]
  },
  {
   "cell_type": "markdown",
   "metadata": {},
   "source": [
    "The Dataset requires a dictionary of lists for its properties. It also works with `energy_grad` instead of forces. To convert between the two, we have to invert the sign of the forces:"
   ]
  },
  {
   "cell_type": "code",
   "execution_count": 8,
   "metadata": {},
   "outputs": [],
   "source": [
    "common_geoms = [x for x in dlpno_props.keys() if x in gga_props.keys()]"
   ]
  },
  {
   "cell_type": "code",
   "execution_count": 9,
   "metadata": {},
   "outputs": [],
   "source": [
    "joint_props = []\n",
    "for geom_id in common_geoms:\n",
    "    joint_props.append({\n",
    "        'geom_id': geom_id,\n",
    "        'nxyz': dlpno_props[geom_id]['nxyz'],\n",
    "        'energy_dlpno': dlpno_props[geom_id]['energy'],\n",
    "        'energy_dlpno_grad': -np.array(dlpno_props[geom_id]['forces']),\n",
    "        'energy_gga': gga_props[geom_id]['energy'],\n",
    "        'energy_gga_grad': -np.array(gga_props[geom_id]['forces']),                \n",
    "    })"
   ]
  },
  {
   "cell_type": "code",
   "execution_count": 10,
   "metadata": {},
   "outputs": [],
   "source": [
    "props = d.concatenate_dict(*joint_props)"
   ]
  },
  {
   "cell_type": "code",
   "execution_count": 11,
   "metadata": {},
   "outputs": [],
   "source": [
    "props['geom_id'] = torch.LongTensor(props['geom_id'])"
   ]
  },
  {
   "cell_type": "markdown",
   "metadata": {},
   "source": [
    "### Creating the dataset"
   ]
  },
  {
   "cell_type": "markdown",
   "metadata": {},
   "source": [
    "When creating the dataset, we have to supply it with the properties of interest and the units of the energy. The forces should be in the same system of units. XYZ positions should be in Å."
   ]
  },
  {
   "cell_type": "code",
   "execution_count": 12,
   "metadata": {},
   "outputs": [],
   "source": [
    "dataset = d.Dataset(props.copy(), units='atomic')"
   ]
  },
  {
   "cell_type": "markdown",
   "metadata": {},
   "source": [
    "Here's an example of an item from the dataset:"
   ]
  },
  {
   "cell_type": "code",
   "execution_count": 13,
   "metadata": {},
   "outputs": [
    {
     "data": {
      "text/plain": [
       "{'nxyz': tensor([[ 6.0000,  1.1668,  0.0963, -0.0329],\n",
       "         [ 8.0000,  0.1156, -0.8090,  0.2422],\n",
       "         [ 6.0000, -1.1586, -0.2094,  0.0662],\n",
       "         [ 1.0000,  1.1832,  0.5459, -1.0595],\n",
       "         [ 1.0000,  1.0934,  1.0800,  0.5933],\n",
       "         [ 1.0000,  2.1237, -0.3936,  0.0924],\n",
       "         [ 1.0000, -1.9288, -0.8885,  0.3004],\n",
       "         [ 1.0000, -1.2607,  0.1775, -1.0082],\n",
       "         [ 1.0000, -1.3082,  0.8079,  0.7677]]),\n",
       " 'energy_dlpno_grad': tensor([[  8.5893, -54.3899,  -1.9343],\n",
       "         [  4.5687, -14.9591,   2.8017],\n",
       "         [-25.2142, -91.3554,   4.5394],\n",
       "         [ 10.8781,  18.6321,  -4.8503],\n",
       "         [ -3.8992,  41.8190,   8.7564],\n",
       "         [ -1.0878,   4.5506,  -8.9524],\n",
       "         [ 17.3949,  22.8818,  -6.8220],\n",
       "         [  0.4044,  13.4358, -28.8799],\n",
       "         [-11.6005,  59.1967,  35.3561]]),\n",
       " 'energy_gga_grad': tensor([[ 21.2910, -41.5670,  -6.9857],\n",
       "         [  4.5007, -12.5286,   2.0307],\n",
       "         [-40.5816, -85.2342,   1.6776],\n",
       "         [  8.4962,  11.0011,   6.8332],\n",
       "         [ -4.3553,  29.5203,   3.6987],\n",
       "         [-14.6630,  10.1139,  -9.7044],\n",
       "         [ 30.0551,  32.3086, -10.0928],\n",
       "         [  3.5026,   7.8003, -16.8738],\n",
       "         [ -8.2457,  48.5856,  29.4164]]),\n",
       " 'geom_id': tensor(41195263),\n",
       " 'energy_gga': tensor(-97200.2266),\n",
       " 'energy_dlpno': tensor(-97130.1719),\n",
       " 'num_atoms': tensor(9)}"
      ]
     },
     "execution_count": 13,
     "metadata": {},
     "output_type": "execute_result"
    }
   ],
   "source": [
    "dataset[0]"
   ]
  },
  {
   "cell_type": "markdown",
   "metadata": {},
   "source": [
    "Calculating the length of the dataset:"
   ]
  },
  {
   "cell_type": "code",
   "execution_count": 14,
   "metadata": {},
   "outputs": [
    {
     "data": {
      "text/plain": [
       "3894"
      ]
     },
     "execution_count": 14,
     "metadata": {},
     "output_type": "execute_result"
    }
   ],
   "source": [
    "len(dataset)"
   ]
  },
  {
   "cell_type": "markdown",
   "metadata": {},
   "source": [
    "## Changing the reference of the energies"
   ]
  },
  {
   "cell_type": "markdown",
   "metadata": {},
   "source": [
    "As each method has different reference energies, it's more convenient to generate a dataset with a fixed internal reference. In this case, since all geometries are from the ethanol, all systems have the exact same stoichiometry reference. There is no problem, therefore, to choose one geometry as reference and use it calculate all other energies.\n",
    "\n",
    "To start, we may want to plot the energy distribution for both systems:"
   ]
  },
  {
   "cell_type": "code",
   "execution_count": 15,
   "metadata": {},
   "outputs": [
    {
     "data": {
      "image/png": "[encoded data removed]",
      "text/plain": [
       "<Figure size 864x432 with 2 Axes>"
      ]
     },
     "metadata": {
      "needs_background": "light"
     },
     "output_type": "display_data"
    }
   ],
   "source": [
    "fig, ax = plt.subplots(1, 2, figsize=(12, 6), sharey=True)\n",
    "\n",
    "ax[0].hist([x.item() for x in dataset.props['energy_gga']])\n",
    "ax[1].hist([x.item() for x in dataset.props['energy_dlpno']])\n",
    "\n",
    "ax[0].set_title('GGA')\n",
    "ax[1].set_title('DLPNO')\n",
    "\n",
    "ax[0].set_ylabel('Counts')\n",
    "ax[0].set_xlabel('Total energy (kcal/mol)')\n",
    "ax[1].set_xlabel('Total energy (kcal/mol)')\n",
    "\n",
    "plt.show()"
   ]
  },
  {
   "cell_type": "markdown",
   "metadata": {},
   "source": [
    "It's good to see that both methods have more or less the same distribution of total energies. Ideally, we want to choose any geometry that is more or less in the middle of both:"
   ]
  },
  {
   "cell_type": "code",
   "execution_count": 16,
   "metadata": {},
   "outputs": [],
   "source": [
    "mean_dlpno = np.mean([x.data for x in dataset.props['energy_dlpno']])\n",
    "mean_gga = np.mean([x.data for x in dataset.props['energy_gga']])\n",
    "\n",
    "center_distribution = [\n",
    "    x['geom_id'].item()\n",
    "    for x in dataset\n",
    "    if abs(x['energy_dlpno'] - mean_dlpno) < 0.1 and abs(x['energy_gga'] - mean_gga) < 0.1\n",
    "]"
   ]
  },
  {
   "cell_type": "markdown",
   "metadata": {},
   "source": [
    "Now we can choose any arbitrary geometry as reference:"
   ]
  },
  {
   "cell_type": "code",
   "execution_count": 17,
   "metadata": {},
   "outputs": [],
   "source": [
    "reference_geom = random.sample(center_distribution, 1)[0]"
   ]
  },
  {
   "cell_type": "code",
   "execution_count": 18,
   "metadata": {},
   "outputs": [],
   "source": [
    "for geom_id, dlpno, gga in zip(\n",
    "    dataset.props['geom_id'],\n",
    "    dataset.props['energy_dlpno'],\n",
    "    dataset.props['energy_gga'],\n",
    "):\n",
    "    if geom_id == reference_geom:\n",
    "        reference_props = {\n",
    "            'energy_dlpno': dlpno,\n",
    "            'energy_gga': gga\n",
    "        }"
   ]
  },
  {
   "cell_type": "code",
   "execution_count": 19,
   "metadata": {},
   "outputs": [],
   "source": [
    "for key in ['energy_dlpno', 'energy_gga']:\n",
    "    dataset.props[key] = [\n",
    "        x - reference_props[key]\n",
    "        for x in dataset.props[key]\n",
    "    ]"
   ]
  },
  {
   "cell_type": "markdown",
   "metadata": {},
   "source": [
    "### Replotting the energy distributions"
   ]
  },
  {
   "cell_type": "code",
   "execution_count": 20,
   "metadata": {},
   "outputs": [
    {
     "data": {
      "image/png": "[encoded data removed]",
      "text/plain": [
       "<Figure size 864x432 with 2 Axes>"
      ]
     },
     "metadata": {
      "needs_background": "light"
     },
     "output_type": "display_data"
    }
   ],
   "source": [
    "fig, ax = plt.subplots(1, 2, figsize=(12, 6), sharey=True)\n",
    "\n",
    "ax[0].hist([x.data for x in dataset.props['energy_gga']])\n",
    "ax[1].hist([x.data for x in dataset.props['energy_dlpno']])\n",
    "\n",
    "ax[0].set_title('GGA')\n",
    "ax[1].set_title('DLPNO')\n",
    "\n",
    "ax[0].set_ylabel('Counts')\n",
    "ax[0].set_xlabel('Total energy (kcal/mol)')\n",
    "ax[1].set_xlabel('Total energy (kcal/mol)')\n",
    "\n",
    "plt.show()"
   ]
  },
  {
   "cell_type": "markdown",
   "metadata": {},
   "source": [
    "Plotting a scatter plot of equivalences between DLPNO and GGA ethanol energies:"
   ]
  },
  {
   "cell_type": "code",
   "execution_count": 21,
   "metadata": {},
   "outputs": [],
   "source": [
    "def plot_hexbin(pred, targ, ax, scale='log', plot_helper_lines=False): \n",
    "    \n",
    "    units = {\n",
    "        'force': r'kcal/mol/$\\AA$',\n",
    "        'energy': 'kcal/mol'\n",
    "    }\n",
    "    \n",
    "    if scale == 'log':\n",
    "        pred = np.abs(pred) + 1e-8\n",
    "        targ = np.abs(targ) + 1e-8\n",
    "    \n",
    "    hb = ax.hexbin(\n",
    "        pred, targ,\n",
    "        cmap='viridis',\n",
    "        gridsize=60,\n",
    "        bins='log',\n",
    "        mincnt=1,\n",
    "        edgecolors=None,\n",
    "        linewidths=(0.1,),\n",
    "        xscale=scale,\n",
    "        yscale=scale,\n",
    "    )\n",
    "    \n",
    "    lim_min = min(np.min(pred), np.min(targ)) * 1.1\n",
    "    lim_max = max(np.max(pred), np.max(targ)) * 1.1\n",
    "    \n",
    "    ax.set_xlim(lim_min, lim_max)\n",
    "    ax.set_ylim(lim_min, lim_max)\n",
    "    ax.set_aspect('equal')\n",
    "    \n",
    "\n",
    "    ax.plot((lim_min, lim_max),\n",
    "            (lim_min, lim_max),\n",
    "            color='#000000',\n",
    "            zorder=-1,\n",
    "            linewidth=0.5)\n",
    "    \n",
    "    if plot_helper_lines:\n",
    "        \n",
    "        if scale == 'linear':\n",
    "            x = np.linspace(lim_min, lim_max, 50)\n",
    "            y_up = x + mae\n",
    "            y_down = x - mae         \n",
    "            \n",
    "        elif scale == 'log':\n",
    "            x = np.logspace(np.log10(lim_min), np.log10(lim_max), 50)\n",
    "            \n",
    "            # one order of magnitude\n",
    "            y_up = np.maximum(x + 1e-2, x * 10)\n",
    "            y_down = np.minimum(np.maximum(1e-8, x - 1e-2), x / 10)\n",
    "            \n",
    "            # one kcal/mol/Angs\n",
    "            y_up = x + 1\n",
    "            y_down = np.maximum(1e-8, x - 1)\n",
    "            \n",
    "        \n",
    "        for y in [y_up, y_down]:\n",
    "            ax.plot(x,\n",
    "                    y,\n",
    "                    color='#000000',\n",
    "                    zorder=2,\n",
    "                    linewidth=0.5,\n",
    "                    linestyle='--')\n",
    "    \n",
    "    return ax, hb"
   ]
  },
  {
   "cell_type": "code",
   "execution_count": 22,
   "metadata": {},
   "outputs": [
    {
     "data": {
      "image/png": "[encoded data removed]",
      "text/plain": [
       "<Figure size 864x432 with 1 Axes>"
      ]
     },
     "metadata": {
      "needs_background": "light"
     },
     "output_type": "display_data"
    }
   ],
   "source": [
    "fig, ax = plt.subplots(1, 1, figsize=(12, 6), sharey=True)\n",
    "\n",
    "plot_hexbin(\n",
    "    np.array([x.data for x in dataset.props['energy_gga']]),\n",
    "    np.array([y.data for y in dataset.props['energy_dlpno']]),\n",
    "    ax=ax,\n",
    "    scale='linear'\n",
    ")\n",
    "\n",
    "ax.set_xlabel('GGA energy (kcal/mol)')\n",
    "ax.set_ylabel('DLPNO Energy (kcal/mol)')\n",
    "\n",
    "plt.show()"
   ]
  },
  {
   "cell_type": "markdown",
   "metadata": {},
   "source": [
    "### Generating neighbor list"
   ]
  },
  {
   "cell_type": "markdown",
   "metadata": {},
   "source": [
    "Managing the neighbor list of the input graphs is the responsibility of the data. The dataset has an in-built function to do so. It requires only the cutoff (in Å) to define atoms as neighbors:"
   ]
  },
  {
   "cell_type": "code",
   "execution_count": 23,
   "metadata": {},
   "outputs": [],
   "source": [
    "dataset.generate_neighbor_list(cutoff=5)"
   ]
  },
  {
   "cell_type": "markdown",
   "metadata": {},
   "source": [
    "### Loading/saving dataset from file"
   ]
  },
  {
   "cell_type": "markdown",
   "metadata": {},
   "source": [
    "We can save this dataset to a file by using its in-build method:"
   ]
  },
  {
   "cell_type": "code",
   "execution_count": 24,
   "metadata": {},
   "outputs": [],
   "source": [
    "dataset.save('dataset_dlpno.pth.tar')"
   ]
  }
 ],
 "metadata": {
  "kernelspec": {
   "display_name": "Python [conda env:htvs]",
   "language": "python",
   "name": "conda-env-htvs-py"
  },
  "language_info": {
   "codemirror_mode": {
    "name": "ipython",
    "version": 3
   },
   "file_extension": ".py",
   "mimetype": "text/x-python",
   "name": "python",
   "nbconvert_exporter": "python",
   "pygments_lexer": "ipython3",
   "version": "3.6.8"
  }
 },
 "nbformat": 4,
 "nbformat_minor": 2
}
