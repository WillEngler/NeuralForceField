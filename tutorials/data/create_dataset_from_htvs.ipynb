{
 "cells": [
  {
   "cell_type": "markdown",
   "metadata": {},
   "source": [
    "# Creating a dataset using nff's code and our database on HTVS"
   ]
  },
  {
   "cell_type": "markdown",
   "metadata": {},
   "source": [
    "This tutorial addresses the problem of creating a database directly from our database for HTVS. It requires setting up the project `dbsetting` to make loading the data easier for this code"
   ]
  },
  {
   "cell_type": "code",
   "execution_count": 70,
   "metadata": {},
   "outputs": [],
   "source": [
    "import sys\n",
    "import numpy as np\n",
    "\n",
    "import torch\n",
    "from dbsetting import *\n",
    "import nff.data as d"
   ]
  },
  {
   "cell_type": "markdown",
   "metadata": {},
   "source": [
    "### Data: ethanol calculations using DLPNO"
   ]
  },
  {
   "cell_type": "markdown",
   "metadata": {},
   "source": [
    "For this example, we will create a dataset of hybrid calculations of ethanol molecules. In this example, we will extract 500 calculations from the database"
   ]
  },
  {
   "cell_type": "code",
   "execution_count": 71,
   "metadata": {},
   "outputs": [],
   "source": [
    "myspecies = Species.objects.filter(smiles='COC')\n",
    "mymethod = Method.objects.filter(name='dft_d3_dhyb_dsdpbebp86').first()\n",
    "mycalcs = (Calc.objects\n",
    "    .filter(method=mymethod)\n",
    "    .filter(species__in=myspecies)\n",
    "    .order_by('?')\n",
    ")"
   ]
  },
  {
   "cell_type": "markdown",
   "metadata": {},
   "source": [
    "Checking if there are Calcs for the reference (atomic C, H and O):"
   ]
  },
  {
   "cell_type": "code",
   "execution_count": 69,
   "metadata": {},
   "outputs": [
    {
     "data": {
      "text/plain": [
       "0"
      ]
     },
     "execution_count": 69,
     "metadata": {},
     "output_type": "execute_result"
    }
   ],
   "source": [
    "mymethod = Method.objects.filter(name='dft_d3_dhyb_dsdpbebp86').first()\n",
    "Calc.objects.filter(method=mymethod, species__smiles='[H][H]').count()"
   ]
  },
  {
   "cell_type": "code",
   "execution_count": 72,
   "metadata": {},
   "outputs": [],
   "source": [
    "geoms_id = mycalcs.values_list('geoms__id')[:500]\n",
    "geoms = Geom.objects.filter(id__in=geoms_id)"
   ]
  },
  {
   "cell_type": "markdown",
   "metadata": {},
   "source": [
    "Retrieving the calculations:"
   ]
  },
  {
   "cell_type": "code",
   "execution_count": 91,
   "metadata": {},
   "outputs": [],
   "source": [
    "values = get_xyz_force_energy_smiles(\n",
    "    geoms,\n",
    "    methodname=mymethod.name\n",
    ")\n",
    "\n",
    "nxyz_data = values[0]\n",
    "force_data = [np.array(x) for x in values[1]]\n",
    "energy_data = np.array(values[2]) - np.mean(values[2])\n",
    "smiles_data = values[3]"
   ]
  },
  {
   "cell_type": "markdown",
   "metadata": {},
   "source": [
    "The Dataset requires a dictionary of lists for its properties. It also works with `energy_grad` instead of forces. To convert between the two, we have to invert the sign of the forces:"
   ]
  },
  {
   "cell_type": "code",
   "execution_count": 92,
   "metadata": {},
   "outputs": [],
   "source": [
    "props = {\n",
    "    'nxyz': nxyz_data,\n",
    "    'energy': energy_data,\n",
    "    'energy_grad': [-x for x in force_data]\n",
    "}"
   ]
  },
  {
   "cell_type": "markdown",
   "metadata": {},
   "source": [
    "### Creating the dataset"
   ]
  },
  {
   "cell_type": "markdown",
   "metadata": {},
   "source": [
    "When creating the dataset, we have to supply it with the properties of interest and the units of the energy. The forces should be in the same system of units. XYZ positions should be in Å."
   ]
  },
  {
   "cell_type": "code",
   "execution_count": 93,
   "metadata": {},
   "outputs": [],
   "source": [
    "dataset = d.Dataset(props.copy(), units='atomic')"
   ]
  },
  {
   "cell_type": "markdown",
   "metadata": {},
   "source": [
    "Here's an example of an item from the dataset:"
   ]
  },
  {
   "cell_type": "code",
   "execution_count": 94,
   "metadata": {},
   "outputs": [
    {
     "data": {
      "text/plain": [
       "{'nxyz': tensor([[ 6.0000,  1.1761,  0.1112, -0.0274],\n",
       "         [ 8.0000,  0.1080, -0.8071,  0.2331],\n",
       "         [ 6.0000, -1.1692, -0.2110,  0.0710],\n",
       "         [ 1.0000,  1.2005,  0.5543, -1.0620],\n",
       "         [ 1.0000,  1.0958,  1.0418,  0.5908],\n",
       "         [ 1.0000,  2.1149, -0.4663,  0.0950],\n",
       "         [ 1.0000, -1.9168, -0.9302,  0.3407],\n",
       "         [ 1.0000, -1.2084,  0.0966, -0.9999],\n",
       "         [ 1.0000, -1.2481,  0.8450,  0.7435]]),\n",
       " 'energy': tensor(1.1699),\n",
       " 'energy_grad': tensor([[ 2.3291e+00, -7.8456e+00,  1.1062e+01],\n",
       "         [-8.6176e+00, -1.5709e+01, -3.1400e+00],\n",
       "         [-3.4544e+01, -7.4079e+01, -7.2512e+00],\n",
       "         [ 9.6509e+00,  1.8666e+01, -8.2697e+00],\n",
       "         [-5.5672e+00,  2.1054e+01, -5.0141e+00],\n",
       "         [ 1.1862e+01, -1.3442e+01, -6.2142e+00],\n",
       "         [ 9.7976e+00,  4.9230e+00, -3.8420e+00],\n",
       "         [ 1.5142e+01,  1.5226e+00, -1.3161e+01],\n",
       "         [-6.0180e-02,  6.4751e+01,  3.5879e+01]]),\n",
       " 'num_atoms': tensor(9)}"
      ]
     },
     "execution_count": 94,
     "metadata": {},
     "output_type": "execute_result"
    }
   ],
   "source": [
    "dataset[0]"
   ]
  },
  {
   "cell_type": "markdown",
   "metadata": {},
   "source": [
    "Calculating the length of the dataset:"
   ]
  },
  {
   "cell_type": "code",
   "execution_count": 96,
   "metadata": {},
   "outputs": [
    {
     "data": {
      "text/plain": [
       "481"
      ]
     },
     "execution_count": 96,
     "metadata": {},
     "output_type": "execute_result"
    }
   ],
   "source": [
    "len(dataset)"
   ]
  },
  {
   "cell_type": "markdown",
   "metadata": {},
   "source": [
    "### Generating neighbor list"
   ]
  },
  {
   "cell_type": "markdown",
   "metadata": {},
   "source": [
    "Managing the neighbor list of the input graphs is the responsibility of the data. The dataset has an in-built function to do so. It requires only the cutoff (in Å) to define atoms as neighbors:"
   ]
  },
  {
   "cell_type": "code",
   "execution_count": 97,
   "metadata": {},
   "outputs": [],
   "source": [
    "dataset.generate_neighbor_list(cutoff=5)"
   ]
  },
  {
   "cell_type": "markdown",
   "metadata": {},
   "source": [
    "### Loading/saving dataset from file"
   ]
  },
  {
   "cell_type": "markdown",
   "metadata": {},
   "source": [
    "We can save this dataset to a file by using its in-build method:"
   ]
  },
  {
   "cell_type": "code",
   "execution_count": 98,
   "metadata": {},
   "outputs": [],
   "source": [
    "dataset.save('dataset_dlpno_TEST.pth.tar')"
   ]
  }
 ],
 "metadata": {
  "kernelspec": {
   "display_name": "Python [conda env:htvs]",
   "language": "python",
   "name": "conda-env-htvs-py"
  },
  "language_info": {
   "codemirror_mode": {
    "name": "ipython",
    "version": 3
   },
   "file_extension": ".py",
   "mimetype": "text/x-python",
   "name": "python",
   "nbconvert_exporter": "python",
   "pygments_lexer": "ipython3",
   "version": "3.6.8"
  }
 },
 "nbformat": 4,
 "nbformat_minor": 2
}
