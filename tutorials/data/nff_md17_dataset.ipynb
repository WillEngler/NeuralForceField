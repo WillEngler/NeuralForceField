{
 "cells": [
  {
   "cell_type": "markdown",
   "metadata": {},
   "source": [
    "# Create NFF dataset from MD17\n",
    "\n",
    "MD17 is a popular benchmark dataset with forces and energies from molecular dynamics trajectories of small molecules. \n",
    "\n",
    "This brief tutorial shows how to use the utility function `get_md17_dataset` to prepare an MD17 dataset for NFF.\n",
    "\n",
    "Refs\n",
    "* http://quantum-machine.org/gdml/#datasets\n",
    "* Chmiela, S., Tkatchenko, A., Sauceda, H. E., Poltavsky, I., Schütt, K. T., Müller, K.-R., Science Advances, 3(5), 2017, e1603015."
   ]
  },
  {
   "cell_type": "code",
   "execution_count": 1,
   "metadata": {},
   "outputs": [],
   "source": [
    "%load_ext autoreload\n",
    "%autoreload 2"
   ]
  },
  {
   "cell_type": "code",
   "execution_count": 2,
   "metadata": {},
   "outputs": [],
   "source": [
    "from nff.data import Dataset\n",
    "from nff.data.utils import get_md17_dataset"
   ]
  },
  {
   "cell_type": "markdown",
   "metadata": {},
   "source": [
    "Download and prepare NFF dataset for one of aspirin, benzene, ethanol, malonaldehyde, naphthalene, salicylic, toluene, uracil, paracetamol, or azobenzene."
   ]
  },
  {
   "cell_type": "code",
   "execution_count": 3,
   "metadata": {},
   "outputs": [],
   "source": [
    "molecule = 'benzene'\n",
    "\n",
    "dataset = get_md17_dataset(molecule)"
   ]
  },
  {
   "cell_type": "markdown",
   "metadata": {},
   "source": [
    "Inspect the length of the dataset and an item in it."
   ]
  },
  {
   "cell_type": "code",
   "execution_count": 4,
   "metadata": {},
   "outputs": [
    {
     "data": {
      "text/plain": [
       "49863"
      ]
     },
     "execution_count": 4,
     "metadata": {},
     "output_type": "execute_result"
    }
   ],
   "source": [
    "len(dataset)"
   ]
  },
  {
   "cell_type": "code",
   "execution_count": 5,
   "metadata": {},
   "outputs": [
    {
     "data": {
      "text/plain": [
       "{'nxyz': tensor([[  6.0000, -36.7161,  41.9528, -36.0171],\n",
       "         [  6.0000, -36.0692,  41.9257, -34.7771],\n",
       "         [  6.0000, -36.8074,  41.7153, -33.6075],\n",
       "         [  6.0000, -38.1924,  41.5319, -33.6781],\n",
       "         [  6.0000, -38.8393,  41.5589, -34.9181],\n",
       "         [  6.0000, -38.1012,  41.7694, -36.0877],\n",
       "         [  1.0000, -36.1398,  42.1171, -36.9301],\n",
       "         [  1.0000, -34.9879,  42.0689, -34.7220],\n",
       "         [  1.0000, -36.3024,  41.6941, -32.6394],\n",
       "         [  1.0000, -38.7687,  41.3675, -32.7651],\n",
       "         [  1.0000, -39.9206,  41.4158, -34.9732],\n",
       "         [  1.0000, -38.6062,  41.7906, -37.0558]]),\n",
       " 'energy': tensor([-145503.0469]),\n",
       " 'energy_grad': tensor([[-0.0856, -0.0189,  0.1409],\n",
       "         [-0.1680, -0.0249, -0.0189],\n",
       "         [-0.0733, -0.0039, -0.1592],\n",
       "         [ 0.0856,  0.0189, -0.1409],\n",
       "         [ 0.1680,  0.0248,  0.0189],\n",
       "         [ 0.0733,  0.0040,  0.1592],\n",
       "         [ 0.2642,  0.0709, -0.4128],\n",
       "         [ 0.4869,  0.0668,  0.0272],\n",
       "         [ 0.2255, -0.0058,  0.4401],\n",
       "         [-0.2642, -0.0709,  0.4128],\n",
       "         [-0.4869, -0.0668, -0.0272],\n",
       "         [-0.2255,  0.0058, -0.4401]]),\n",
       " 'smiles': 'C1=CC=CC=C1',\n",
       " 'num_atoms': tensor(12)}"
      ]
     },
     "execution_count": 5,
     "metadata": {},
     "output_type": "execute_result"
    }
   ],
   "source": [
    "dataset[0]"
   ]
  },
  {
   "cell_type": "markdown",
   "metadata": {},
   "source": [
    "Save and load the dataset."
   ]
  },
  {
   "cell_type": "code",
   "execution_count": null,
   "metadata": {},
   "outputs": [],
   "source": [
    "dataset.save(f'{molecule}.pth.tar'"
   ]
  },
  {
   "cell_type": "code",
   "execution_count": 23,
   "metadata": {},
   "outputs": [],
   "source": [
    "dataset = Dataset.from_file(f'{molecule}.pth.tar')"
   ]
  },
  {
   "cell_type": "markdown",
   "metadata": {},
   "source": [
    "Retrieving multiple datasets is easy with a loop."
   ]
  },
  {
   "cell_type": "code",
   "execution_count": 7,
   "metadata": {},
   "outputs": [],
   "source": [
    "molecules = ['benzene', 'ethanol']\n",
    "datasets = []\n",
    "for molecule in molecules:\n",
    "    dataset = get_md17_dataset(molecule)\n",
    "    datasets.append(dataset)"
   ]
  },
  {
   "cell_type": "code",
   "execution_count": 8,
   "metadata": {},
   "outputs": [
    {
     "name": "stdout",
     "output_type": "stream",
     "text": [
      "[49863, 555092]\n"
     ]
    }
   ],
   "source": [
    "print([len(d) for d in datasets])"
   ]
  },
  {
   "cell_type": "markdown",
   "metadata": {},
   "source": [
    "If we try to access a non-existent dataset, we'll get an error."
   ]
  },
  {
   "cell_type": "code",
   "execution_count": 6,
   "metadata": {},
   "outputs": [
    {
     "ename": "ValueError",
     "evalue": "('Incorrect value for molecule. Must be one of: ', ['aspirin', 'benzene', 'ethanol', 'malonaldehyde', 'naphthalene', 'salicylic', 'toluene', 'uracil', 'paracetamol', 'azobenzene'])",
     "output_type": "error",
     "traceback": [
      "\u001b[0;31m---------------------------------------------------------------------------\u001b[0m",
      "\u001b[0;31mValueError\u001b[0m                                Traceback (most recent call last)",
      "\u001b[0;32m<ipython-input-6-135e0669365b>\u001b[0m in \u001b[0;36m<module>\u001b[0;34m\u001b[0m\n\u001b[0;32m----> 1\u001b[0;31m \u001b[0mdataset\u001b[0m \u001b[0;34m=\u001b[0m \u001b[0mget_md17_dataset\u001b[0m\u001b[0;34m(\u001b[0m\u001b[0;34m'cureall_molecule'\u001b[0m\u001b[0;34m)\u001b[0m\u001b[0;34m\u001b[0m\u001b[0;34m\u001b[0m\u001b[0m\n\u001b[0m",
      "\u001b[0;32m~/Documents/GitHub/NeuralForceField/nff/data/utils.py\u001b[0m in \u001b[0;36mget_md17_dataset\u001b[0;34m(molecule)\u001b[0m\n\u001b[1;32m     33\u001b[0m     \u001b[0;32mif\u001b[0m \u001b[0mmolecule\u001b[0m \u001b[0;32mnot\u001b[0m \u001b[0;32min\u001b[0m \u001b[0msmiles_dict\u001b[0m\u001b[0;34m.\u001b[0m\u001b[0mkeys\u001b[0m\u001b[0;34m(\u001b[0m\u001b[0;34m)\u001b[0m\u001b[0;34m:\u001b[0m\u001b[0;34m\u001b[0m\u001b[0;34m\u001b[0m\u001b[0m\n\u001b[1;32m     34\u001b[0m         raise ValueError(\n\u001b[0;32m---> 35\u001b[0;31m             \u001b[0;34m'Incorrect value for molecule. Must be one of: '\u001b[0m\u001b[0;34m,\u001b[0m \u001b[0mlist\u001b[0m\u001b[0;34m(\u001b[0m\u001b[0msmiles_dict\u001b[0m\u001b[0;34m.\u001b[0m\u001b[0mkeys\u001b[0m\u001b[0;34m(\u001b[0m\u001b[0;34m)\u001b[0m\u001b[0;34m)\u001b[0m\u001b[0;34m\u001b[0m\u001b[0;34m\u001b[0m\u001b[0m\n\u001b[0m\u001b[1;32m     36\u001b[0m         )\n\u001b[1;32m     37\u001b[0m \u001b[0;34m\u001b[0m\u001b[0m\n",
      "\u001b[0;31mValueError\u001b[0m: ('Incorrect value for molecule. Must be one of: ', ['aspirin', 'benzene', 'ethanol', 'malonaldehyde', 'naphthalene', 'salicylic', 'toluene', 'uracil', 'paracetamol', 'azobenzene'])"
     ]
    }
   ],
   "source": [
    "dataset = get_md17_dataset('cureall_molecule')"
   ]
  }
 ],
 "metadata": {
  "kernelspec": {
   "display_name": "Python [conda env:nff]",
   "language": "python",
   "name": "nff"
  },
  "language_info": {
   "codemirror_mode": {
    "name": "ipython",
    "version": 3
   },
   "file_extension": ".py",
   "mimetype": "text/x-python",
   "name": "python",
   "nbconvert_exporter": "python",
   "pygments_lexer": "ipython3",
   "version": "3.7.10"
  }
 },
 "nbformat": 4,
 "nbformat_minor": 4
}
