{
 "cells": [
  {
   "cell_type": "code",
   "execution_count": 1,
   "metadata": {},
   "outputs": [],
   "source": [
    "%load_ext autoreload\n",
    "%autoreload 2"
   ]
  },
  {
   "cell_type": "markdown",
   "metadata": {},
   "source": [
    "# PaiNN \n",
    "This tutorial gives an example of implementing the [equivariant PaiNN architecture](https://arxiv.org/pdf/2102.03150.pdf)"
   ]
  },
  {
   "cell_type": "markdown",
   "metadata": {},
   "source": [
    "First we import dependencies for the tutorial:"
   ]
  },
  {
   "cell_type": "code",
   "execution_count": 2,
   "metadata": {
    "scrolled": true
   },
   "outputs": [],
   "source": [
    "import sys\n",
    "from pathlib import Path\n",
    "\n",
    "# change to your NFF path\n",
    "sys.path.insert(0, \"/home/saxelrod/Repo/projects/master/NeuralForceField\")\n",
    "\n",
    "import os\n",
    "import shutil\n",
    "import numpy as np\n",
    "import matplotlib.pyplot as plt\n",
    "import copy\n",
    "\n",
    "import torch\n",
    "from torch.optim import Adam\n",
    "from torch.utils.data import DataLoader\n",
    "from torch.utils.data.sampler import RandomSampler\n",
    "\n",
    "\n",
    "from nff.data import Dataset, split_train_validation_test, collate_dicts, to_tensor\n",
    "from nff.train import Trainer, get_trainer, get_model, load_model, loss, hooks, metrics, evaluate"
   ]
  },
  {
   "cell_type": "markdown",
   "metadata": {},
   "source": [
    "First we make a directory for our work and load the ethanol dataset:"
   ]
  },
  {
   "cell_type": "code",
   "execution_count": 3,
   "metadata": {},
   "outputs": [],
   "source": [
    "DEVICE = 0\n",
    "OUTDIR = './sandbox_painn'\n",
    "# batch size used in the original paper\n",
    "BATCH_SIZE = 10\n",
    "\n",
    "if os.path.exists(OUTDIR):\n",
    "    newpath = os.path.join(os.path.dirname(OUTDIR), 'backup')\n",
    "    if os.path.exists(newpath):\n",
    "        shutil.rmtree(newpath)\n",
    "        \n",
    "    shutil.move(OUTDIR, newpath)\n",
    "    \n",
    "dataset = Dataset.from_file('data/dataset.pth.tar')\n",
    "train, val, test = split_train_validation_test(dataset, val_size=0.2, test_size=0.2,\n",
    "                                              seed=0)"
   ]
  },
  {
   "cell_type": "markdown",
   "metadata": {},
   "source": [
    "Now we make the model. Note that we can use the mean and standard deviation of the energy in the training set to scale the outputs of the model:"
   ]
  },
  {
   "cell_type": "code",
   "execution_count": 4,
   "metadata": {},
   "outputs": [],
   "source": [
    "modelparams = {\"feat_dim\": 128,\n",
    "              \"activation\": \"swish\",\n",
    "              \"n_rbf\": 20,\n",
    "              \"cutoff\": 5.0,\n",
    "              \"num_conv\": 3,\n",
    "              \"output_keys\": [\"energy\"],\n",
    "              \"grad_keys\": [\"energy_grad\"],\n",
    "               # whether to sum outputs from all blocks in the model\n",
    "               # or just the final output block. False in the original\n",
    "               # implementation\n",
    "              \"skip_connection\": False,\n",
    "               # Whether the k parameters in the Bessel basis functions\n",
    "               # are learnable. False originally\n",
    "              \"learnable_k\": False,\n",
    "               # dropout rate in the convolution layers, originally 0\n",
    "               \"conv_dropout\": 0.0,\n",
    "               # dropout rate in the readout layers, originally 0\n",
    "               \"readout_dropout\": 0.0,\n",
    "               # dictionary of means to add to each output key\n",
    "               # (this is optional - if you don't supply it then\n",
    "               # nothing will be added)\n",
    "               \"means\": {\"energy\": train.props['energy'].mean().item()},\n",
    "               # dictionary of standard devations with which to \n",
    "               # multiply each output key\n",
    "               # (this is optional - if you don't supply it then\n",
    "               # nothing will be multiplied)\n",
    "               \"stddevs\": {\"energy\": train.props['energy'].std().item()}\n",
    "              }\n",
    "model = get_model(modelparams, model_type=\"Painn\")\n",
    "\n",
    "# untrained model to test for equivariant/invariant outputs\n",
    "original_model = copy.deepcopy(model)"
   ]
  },
  {
   "cell_type": "markdown",
   "metadata": {},
   "source": [
    "Next we make the training splits, loaders, and trainer\n",
    "- Remember to use a random sampler for the train loader, because that makes a big difference in the results (at least for small datasets)"
   ]
  },
  {
   "cell_type": "code",
   "execution_count": 5,
   "metadata": {},
   "outputs": [],
   "source": [
    "\n",
    "train_loader = DataLoader(train, batch_size=BATCH_SIZE, collate_fn=collate_dicts,\n",
    "                         sampler=RandomSampler(train))\n",
    "\n",
    "val_loader = DataLoader(val, batch_size=BATCH_SIZE, collate_fn=collate_dicts)\n",
    "test_loader = DataLoader(test, batch_size=BATCH_SIZE, collate_fn=collate_dicts)\n",
    "\n",
    "# loss trade-off used in the original paper\n",
    "loss_fn = loss.build_mse_loss(loss_coef={'energy_grad': 0.95, 'energy': 0.05})\n",
    "\n",
    "trainable_params = filter(lambda p: p.requires_grad, model.parameters())\n",
    "\n",
    "# learning rate used in the original paper\n",
    "optimizer = Adam(trainable_params, lr=1e-3)\n",
    "\n",
    "\n",
    "train_metrics = [\n",
    "    metrics.MeanAbsoluteError('energy'),\n",
    "    metrics.MeanAbsoluteError('energy_grad')\n",
    "]\n",
    "\n",
    "\n",
    "train_hooks = [\n",
    "    hooks.MaxEpochHook(100),\n",
    "    hooks.CSVHook(\n",
    "        OUTDIR,\n",
    "        metrics=train_metrics,\n",
    "    ),\n",
    "    hooks.PrintingHook(\n",
    "        OUTDIR,\n",
    "        metrics=train_metrics,\n",
    "        separator = ' | ',\n",
    "        time_strf='%M:%S'\n",
    "    ),\n",
    "    hooks.ReduceLROnPlateauHook(\n",
    "        optimizer=optimizer,\n",
    "        # patience in the original paper\n",
    "        patience=50,\n",
    "        factor=0.5,\n",
    "        min_lr=1e-7,\n",
    "        window_length=1,\n",
    "        stop_after_min=True\n",
    "    )\n",
    "]\n",
    "\n",
    "T = Trainer(\n",
    "    model_path=OUTDIR,\n",
    "    model=model,\n",
    "    loss_fn=loss_fn,\n",
    "    optimizer=optimizer,\n",
    "    train_loader=train_loader,\n",
    "    validation_loader=val_loader,\n",
    "    checkpoint_interval=1,\n",
    "    hooks=train_hooks,\n",
    "    mini_batches=1\n",
    ")"
   ]
  },
  {
   "cell_type": "markdown",
   "metadata": {},
   "source": [
    "Now we train and see the results!"
   ]
  },
  {
   "cell_type": "code",
   "execution_count": 6,
   "metadata": {
    "scrolled": true
   },
   "outputs": [
    {
     "name": "stdout",
     "output_type": "stream",
     "text": [
      " Time | Epoch | Learning rate | Train loss | Validation loss | MAE_energy | MAE_energy_grad | GPU Memory (MB)\n"
     ]
    },
    {
     "name": "stderr",
     "output_type": "stream",
     "text": [
      " 98%|█████████▊| 59/60 [00:03<00:00, 18.69it/s]\n"
     ]
    },
    {
     "name": "stdout",
     "output_type": "stream",
     "text": [
      "26:53 |     1 |     1.000e-03 |   123.8801 |         36.5287 |     2.2485 |          4.3770 |              90\n"
     ]
    },
    {
     "name": "stderr",
     "output_type": "stream",
     "text": [
      " 98%|█████████▊| 59/60 [00:02<00:00, 20.84it/s]\n"
     ]
    },
    {
     "name": "stdout",
     "output_type": "stream",
     "text": [
      "26:57 |     2 |     1.000e-03 |    26.3216 |         18.9658 |     1.9300 |          3.1262 |              90\n"
     ]
    },
    {
     "name": "stderr",
     "output_type": "stream",
     "text": [
      " 98%|█████████▊| 59/60 [00:02<00:00, 21.16it/s]\n"
     ]
    },
    {
     "name": "stdout",
     "output_type": "stream",
     "text": [
      "27:00 |     3 |     1.000e-03 |    15.9451 |         10.8300 |     1.4495 |          2.4399 |              90\n"
     ]
    },
    {
     "name": "stderr",
     "output_type": "stream",
     "text": [
      " 98%|█████████▊| 59/60 [00:02<00:00, 21.86it/s]\n"
     ]
    },
    {
     "name": "stdout",
     "output_type": "stream",
     "text": [
      "27:03 |     4 |     1.000e-03 |    11.4682 |          9.5033 |     1.0252 |          2.3090 |              90\n"
     ]
    },
    {
     "name": "stderr",
     "output_type": "stream",
     "text": [
      " 98%|█████████▊| 59/60 [00:02<00:00, 21.96it/s]\n"
     ]
    },
    {
     "name": "stdout",
     "output_type": "stream",
     "text": [
      "27:07 |     5 |     1.000e-03 |     9.2251 |          6.7110 |     0.6670 |          1.9160 |              90\n"
     ]
    },
    {
     "name": "stderr",
     "output_type": "stream",
     "text": [
      " 98%|█████████▊| 59/60 [00:02<00:00, 20.61it/s]\n"
     ]
    },
    {
     "name": "stdout",
     "output_type": "stream",
     "text": [
      "27:10 |     6 |     1.000e-03 |     8.3493 |          8.7088 |     0.7284 |          2.1723 |              90\n"
     ]
    },
    {
     "name": "stderr",
     "output_type": "stream",
     "text": [
      " 98%|█████████▊| 59/60 [00:02<00:00, 20.82it/s]\n"
     ]
    },
    {
     "name": "stdout",
     "output_type": "stream",
     "text": [
      "27:14 |     7 |     1.000e-03 |     6.9967 |          7.2610 |     0.6738 |          2.0099 |              90\n"
     ]
    },
    {
     "name": "stderr",
     "output_type": "stream",
     "text": [
      " 98%|█████████▊| 59/60 [00:02<00:00, 21.51it/s]\n"
     ]
    },
    {
     "name": "stdout",
     "output_type": "stream",
     "text": [
      "27:17 |     8 |     1.000e-03 |     6.7612 |          6.0591 |     0.7763 |          1.8788 |              90\n"
     ]
    },
    {
     "name": "stderr",
     "output_type": "stream",
     "text": [
      " 98%|█████████▊| 59/60 [00:02<00:00, 25.24it/s]\n"
     ]
    },
    {
     "name": "stdout",
     "output_type": "stream",
     "text": [
      "27:20 |     9 |     1.000e-03 |     5.7091 |          6.0804 |     1.5052 |          1.7904 |              90\n"
     ]
    },
    {
     "name": "stderr",
     "output_type": "stream",
     "text": [
      " 98%|█████████▊| 59/60 [00:02<00:00, 21.31it/s]\n"
     ]
    },
    {
     "name": "stdout",
     "output_type": "stream",
     "text": [
      "27:23 |    10 |     1.000e-03 |     4.5654 |          5.5398 |     0.5813 |          1.7529 |              90\n"
     ]
    },
    {
     "name": "stderr",
     "output_type": "stream",
     "text": [
      " 98%|█████████▊| 59/60 [00:02<00:00, 21.01it/s]\n"
     ]
    },
    {
     "name": "stdout",
     "output_type": "stream",
     "text": [
      "27:27 |    11 |     1.000e-03 |     5.7144 |          4.2803 |     0.6549 |          1.5169 |              90\n"
     ]
    },
    {
     "name": "stderr",
     "output_type": "stream",
     "text": [
      " 98%|█████████▊| 59/60 [00:02<00:00, 20.53it/s]\n"
     ]
    },
    {
     "name": "stdout",
     "output_type": "stream",
     "text": [
      "27:30 |    12 |     1.000e-03 |     4.6321 |          4.3567 |     0.4960 |          1.5798 |              90\n"
     ]
    },
    {
     "name": "stderr",
     "output_type": "stream",
     "text": [
      " 98%|█████████▊| 59/60 [00:02<00:00, 21.06it/s]\n"
     ]
    },
    {
     "name": "stdout",
     "output_type": "stream",
     "text": [
      "27:34 |    13 |     1.000e-03 |     3.4400 |          3.2716 |     0.6414 |          1.3342 |              90\n"
     ]
    },
    {
     "name": "stderr",
     "output_type": "stream",
     "text": [
      " 98%|█████████▊| 59/60 [00:02<00:00, 21.05it/s]\n"
     ]
    },
    {
     "name": "stdout",
     "output_type": "stream",
     "text": [
      "27:37 |    14 |     1.000e-03 |     3.5272 |          4.0343 |     0.5798 |          1.5236 |              90\n"
     ]
    },
    {
     "name": "stderr",
     "output_type": "stream",
     "text": [
      " 98%|█████████▊| 59/60 [00:02<00:00, 21.18it/s]\n"
     ]
    },
    {
     "name": "stdout",
     "output_type": "stream",
     "text": [
      "27:40 |    15 |     1.000e-03 |     3.6103 |          3.8152 |     1.3367 |          1.4117 |              90\n"
     ]
    },
    {
     "name": "stderr",
     "output_type": "stream",
     "text": [
      " 98%|█████████▊| 59/60 [00:02<00:00, 21.85it/s]\n"
     ]
    },
    {
     "name": "stdout",
     "output_type": "stream",
     "text": [
      "27:44 |    16 |     1.000e-03 |     2.9267 |          3.9312 |     0.6186 |          1.4991 |              90\n"
     ]
    },
    {
     "name": "stderr",
     "output_type": "stream",
     "text": [
      " 98%|█████████▊| 59/60 [00:02<00:00, 21.33it/s]\n"
     ]
    },
    {
     "name": "stdout",
     "output_type": "stream",
     "text": [
      "27:47 |    17 |     1.000e-03 |     2.8801 |          4.3860 |     1.3858 |          1.5262 |              90\n"
     ]
    },
    {
     "name": "stderr",
     "output_type": "stream",
     "text": [
      " 98%|█████████▊| 59/60 [00:02<00:00, 20.92it/s]\n"
     ]
    },
    {
     "name": "stdout",
     "output_type": "stream",
     "text": [
      "27:50 |    18 |     1.000e-03 |     2.5159 |          3.6529 |     0.5058 |          1.4038 |              90\n"
     ]
    },
    {
     "name": "stderr",
     "output_type": "stream",
     "text": [
      " 98%|█████████▊| 59/60 [00:02<00:00, 21.35it/s]\n"
     ]
    },
    {
     "name": "stdout",
     "output_type": "stream",
     "text": [
      "27:54 |    19 |     1.000e-03 |     2.2143 |          2.5586 |     0.9726 |          1.1529 |              90\n"
     ]
    },
    {
     "name": "stderr",
     "output_type": "stream",
     "text": [
      " 98%|█████████▊| 59/60 [00:02<00:00, 20.99it/s]\n"
     ]
    },
    {
     "name": "stdout",
     "output_type": "stream",
     "text": [
      "27:57 |    20 |     1.000e-03 |     1.8401 |          2.9695 |     0.5743 |          1.2518 |              90\n"
     ]
    },
    {
     "name": "stderr",
     "output_type": "stream",
     "text": [
      " 98%|█████████▊| 59/60 [00:02<00:00, 21.11it/s]\n"
     ]
    },
    {
     "name": "stdout",
     "output_type": "stream",
     "text": [
      "28:01 |    21 |     1.000e-03 |     2.0035 |          2.7844 |     0.3704 |          1.2242 |              90\n"
     ]
    },
    {
     "name": "stderr",
     "output_type": "stream",
     "text": [
      " 98%|█████████▊| 59/60 [00:02<00:00, 21.67it/s]\n"
     ]
    },
    {
     "name": "stdout",
     "output_type": "stream",
     "text": [
      "28:04 |    22 |     1.000e-03 |     2.0758 |          3.0875 |     0.8356 |          1.3271 |              90\n"
     ]
    },
    {
     "name": "stderr",
     "output_type": "stream",
     "text": [
      " 98%|█████████▊| 59/60 [00:02<00:00, 21.46it/s]\n"
     ]
    },
    {
     "name": "stdout",
     "output_type": "stream",
     "text": [
      "28:07 |    23 |     1.000e-03 |     2.1174 |          3.2550 |     1.0066 |          1.3411 |              90\n"
     ]
    },
    {
     "name": "stderr",
     "output_type": "stream",
     "text": [
      " 98%|█████████▊| 59/60 [00:02<00:00, 20.56it/s]\n"
     ]
    },
    {
     "name": "stdout",
     "output_type": "stream",
     "text": [
      "28:11 |    24 |     1.000e-03 |     2.1816 |          2.6888 |     0.8022 |          1.2170 |              90\n"
     ]
    },
    {
     "name": "stderr",
     "output_type": "stream",
     "text": [
      " 98%|█████████▊| 59/60 [00:02<00:00, 21.62it/s]\n"
     ]
    },
    {
     "name": "stdout",
     "output_type": "stream",
     "text": [
      "28:14 |    25 |     1.000e-03 |     2.1507 |          3.1570 |     0.3753 |          1.3333 |              90\n"
     ]
    },
    {
     "name": "stderr",
     "output_type": "stream",
     "text": [
      " 98%|█████████▊| 59/60 [00:02<00:00, 21.92it/s]\n"
     ]
    },
    {
     "name": "stdout",
     "output_type": "stream",
     "text": [
      "28:17 |    26 |     1.000e-03 |     1.9354 |          3.1438 |     0.3988 |          1.2531 |              90\n"
     ]
    },
    {
     "name": "stderr",
     "output_type": "stream",
     "text": [
      " 98%|█████████▊| 59/60 [00:02<00:00, 21.01it/s]\n"
     ]
    },
    {
     "name": "stdout",
     "output_type": "stream",
     "text": [
      "28:21 |    27 |     1.000e-03 |     2.1639 |          3.3185 |     0.7944 |          1.3220 |              90\n"
     ]
    },
    {
     "name": "stderr",
     "output_type": "stream",
     "text": [
      " 98%|█████████▊| 59/60 [00:02<00:00, 22.02it/s]\n"
     ]
    },
    {
     "name": "stdout",
     "output_type": "stream",
     "text": [
      "28:24 |    28 |     1.000e-03 |     3.1239 |          2.7953 |     0.6812 |          1.1914 |              90\n"
     ]
    },
    {
     "name": "stderr",
     "output_type": "stream",
     "text": [
      " 98%|█████████▊| 59/60 [00:02<00:00, 22.10it/s]\n"
     ]
    },
    {
     "name": "stdout",
     "output_type": "stream",
     "text": [
      "28:27 |    29 |     1.000e-03 |     1.8773 |          3.0631 |     0.8104 |          1.2373 |              90\n"
     ]
    },
    {
     "name": "stderr",
     "output_type": "stream",
     "text": [
      " 98%|█████████▊| 59/60 [00:02<00:00, 22.19it/s]\n"
     ]
    },
    {
     "name": "stdout",
     "output_type": "stream",
     "text": [
      "28:30 |    30 |     1.000e-03 |     1.7999 |          2.4944 |     0.3533 |          1.1401 |              90\n"
     ]
    },
    {
     "name": "stderr",
     "output_type": "stream",
     "text": [
      " 98%|█████████▊| 59/60 [00:02<00:00, 21.89it/s]\n"
     ]
    },
    {
     "name": "stdout",
     "output_type": "stream",
     "text": [
      "28:34 |    31 |     1.000e-03 |     1.3516 |          2.4474 |     0.4671 |          1.1198 |              90\n"
     ]
    },
    {
     "name": "stderr",
     "output_type": "stream",
     "text": [
      " 98%|█████████▊| 59/60 [00:02<00:00, 21.34it/s]\n"
     ]
    },
    {
     "name": "stdout",
     "output_type": "stream",
     "text": [
      "28:37 |    32 |     1.000e-03 |     1.5523 |          2.6138 |     0.3471 |          1.2103 |              90\n"
     ]
    },
    {
     "name": "stderr",
     "output_type": "stream",
     "text": [
      " 98%|█████████▊| 59/60 [00:02<00:00, 20.86it/s]\n"
     ]
    },
    {
     "name": "stdout",
     "output_type": "stream",
     "text": [
      "28:41 |    33 |     1.000e-03 |     2.2163 |          3.1094 |     0.3233 |          1.2323 |              90\n"
     ]
    },
    {
     "name": "stderr",
     "output_type": "stream",
     "text": [
      " 98%|█████████▊| 59/60 [00:02<00:00, 21.22it/s]\n"
     ]
    },
    {
     "name": "stdout",
     "output_type": "stream",
     "text": [
      "28:44 |    34 |     1.000e-03 |     1.7712 |          2.2607 |     0.3605 |          1.0851 |              90\n"
     ]
    },
    {
     "name": "stderr",
     "output_type": "stream",
     "text": [
      " 98%|█████████▊| 59/60 [00:02<00:00, 21.07it/s]\n"
     ]
    },
    {
     "name": "stdout",
     "output_type": "stream",
     "text": [
      "28:47 |    35 |     1.000e-03 |     1.2775 |          2.5310 |     0.3122 |          1.1983 |              90\n"
     ]
    },
    {
     "name": "stderr",
     "output_type": "stream",
     "text": [
      " 98%|█████████▊| 59/60 [00:02<00:00, 21.35it/s]\n"
     ]
    },
    {
     "name": "stdout",
     "output_type": "stream",
     "text": [
      "28:51 |    36 |     1.000e-03 |     1.2784 |          1.9607 |     0.4966 |          0.9999 |              90\n"
     ]
    },
    {
     "name": "stderr",
     "output_type": "stream",
     "text": [
      " 98%|█████████▊| 59/60 [00:02<00:00, 21.13it/s]\n"
     ]
    },
    {
     "name": "stdout",
     "output_type": "stream",
     "text": [
      "28:54 |    37 |     1.000e-03 |     1.6729 |          2.5558 |     0.6204 |          1.1616 |              90\n"
     ]
    },
    {
     "name": "stderr",
     "output_type": "stream",
     "text": [
      " 98%|█████████▊| 59/60 [00:02<00:00, 21.42it/s]\n"
     ]
    },
    {
     "name": "stdout",
     "output_type": "stream",
     "text": [
      "28:58 |    38 |     1.000e-03 |     1.4411 |          1.8931 |     0.3370 |          0.9957 |              90\n"
     ]
    },
    {
     "name": "stderr",
     "output_type": "stream",
     "text": [
      " 98%|█████████▊| 59/60 [00:02<00:00, 20.04it/s]\n"
     ]
    },
    {
     "name": "stdout",
     "output_type": "stream",
     "text": [
      "29:01 |    39 |     1.000e-03 |     1.2865 |          2.0592 |     0.4446 |          1.0459 |              90\n"
     ]
    },
    {
     "name": "stderr",
     "output_type": "stream",
     "text": [
      " 98%|█████████▊| 59/60 [00:02<00:00, 19.96it/s]\n"
     ]
    },
    {
     "name": "stdout",
     "output_type": "stream",
     "text": [
      "29:05 |    40 |     1.000e-03 |     1.3835 |          2.0824 |     0.4748 |          1.0463 |              90\n"
     ]
    },
    {
     "name": "stderr",
     "output_type": "stream",
     "text": [
      " 98%|█████████▊| 59/60 [00:02<00:00, 20.54it/s]\n"
     ]
    },
    {
     "name": "stdout",
     "output_type": "stream",
     "text": [
      "29:08 |    41 |     1.000e-03 |     1.4165 |          2.2490 |     0.4767 |          1.0985 |              90\n"
     ]
    },
    {
     "name": "stderr",
     "output_type": "stream",
     "text": [
      " 98%|█████████▊| 59/60 [00:02<00:00, 21.08it/s]\n"
     ]
    },
    {
     "name": "stdout",
     "output_type": "stream",
     "text": [
      "29:12 |    42 |     1.000e-03 |     1.6984 |          1.9106 |     0.6021 |          1.0230 |              90\n"
     ]
    },
    {
     "name": "stderr",
     "output_type": "stream",
     "text": [
      " 98%|█████████▊| 59/60 [00:02<00:00, 20.22it/s]\n"
     ]
    },
    {
     "name": "stdout",
     "output_type": "stream",
     "text": [
      "29:15 |    43 |     1.000e-03 |     1.4948 |          3.0212 |     1.2055 |          1.2996 |              90\n"
     ]
    },
    {
     "name": "stderr",
     "output_type": "stream",
     "text": [
      " 98%|█████████▊| 59/60 [00:02<00:00, 20.53it/s]\n"
     ]
    },
    {
     "name": "stdout",
     "output_type": "stream",
     "text": [
      "29:19 |    44 |     1.000e-03 |     1.6017 |          2.0231 |     0.7307 |          1.0248 |              90\n"
     ]
    },
    {
     "name": "stderr",
     "output_type": "stream",
     "text": [
      " 98%|█████████▊| 59/60 [00:02<00:00, 20.15it/s]\n"
     ]
    },
    {
     "name": "stdout",
     "output_type": "stream",
     "text": [
      "29:22 |    45 |     1.000e-03 |     2.4884 |          3.5708 |     0.3759 |          1.3732 |              90\n"
     ]
    },
    {
     "name": "stderr",
     "output_type": "stream",
     "text": [
      " 98%|█████████▊| 59/60 [00:02<00:00, 21.52it/s]\n"
     ]
    },
    {
     "name": "stdout",
     "output_type": "stream",
     "text": [
      "29:26 |    46 |     1.000e-03 |     1.8862 |          2.3380 |     0.7787 |          1.1069 |              90\n"
     ]
    },
    {
     "name": "stderr",
     "output_type": "stream",
     "text": [
      " 98%|█████████▊| 59/60 [00:02<00:00, 21.18it/s]\n"
     ]
    },
    {
     "name": "stdout",
     "output_type": "stream",
     "text": [
      "29:29 |    47 |     1.000e-03 |     1.9284 |          2.5957 |     0.3079 |          1.1523 |              90\n"
     ]
    },
    {
     "name": "stderr",
     "output_type": "stream",
     "text": [
      " 98%|█████████▊| 59/60 [00:02<00:00, 21.62it/s]\n"
     ]
    },
    {
     "name": "stdout",
     "output_type": "stream",
     "text": [
      "29:32 |    48 |     1.000e-03 |     1.8723 |          2.2686 |     0.3862 |          1.0720 |              90\n"
     ]
    },
    {
     "name": "stderr",
     "output_type": "stream",
     "text": [
      " 98%|█████████▊| 59/60 [00:02<00:00, 20.59it/s]\n"
     ]
    },
    {
     "name": "stdout",
     "output_type": "stream",
     "text": [
      "29:36 |    49 |     1.000e-03 |     1.4712 |          2.0012 |     0.2934 |          1.0166 |              90\n"
     ]
    },
    {
     "name": "stderr",
     "output_type": "stream",
     "text": [
      " 98%|█████████▊| 59/60 [00:02<00:00, 21.61it/s]\n"
     ]
    },
    {
     "name": "stdout",
     "output_type": "stream",
     "text": [
      "29:39 |    50 |     1.000e-03 |     1.5454 |          2.3447 |     0.7262 |          1.1143 |              90\n"
     ]
    }
   ],
   "source": [
    "T.train(device=DEVICE, n_epochs=50)"
   ]
  },
  {
   "cell_type": "markdown",
   "metadata": {},
   "source": [
    "Check that the energies are invariant to rotations and that the gradients are equivariant:"
   ]
  },
  {
   "cell_type": "code",
   "execution_count": 7,
   "metadata": {
    "scrolled": true
   },
   "outputs": [
    {
     "name": "stdout",
     "output_type": "stream",
     "text": [
      "tensor([[ 1.0000e+00, -1.4901e-08,  0.0000e+00],\n",
      "        [-1.4901e-08,  1.0000e+00,  2.9802e-08],\n",
      "        [ 0.0000e+00,  2.9802e-08,  1.0000e+00]])\n"
     ]
    }
   ],
   "source": [
    "from numpy import cos, sin\n",
    "\n",
    "def make_rot(alpha, beta, gamma):\n",
    "    \"\"\"\n",
    "    Make a general rotation matrix from angles alpha, beta and gamma\n",
    "    \"\"\"\n",
    "    r = torch.Tensor([\n",
    "        [cos(alpha) * cos(beta),\n",
    "        cos(alpha) * sin(beta) * sin(gamma) - sin(alpha) * cos(gamma),\n",
    "        cos(alpha) * sin(beta) * cos(gamma) + sin(alpha) * sin(gamma)],\n",
    "        [sin(alpha) * cos(beta),\n",
    "        sin(alpha) * sin(beta) * sin(gamma) + cos(alpha) * cos(gamma),\n",
    "        sin(alpha) * sin(beta) * cos(gamma) - cos(alpha) * sin(gamma)],\n",
    "        [-sin(beta), cos(beta) * sin(gamma), cos(beta) * cos(gamma)]\n",
    "    ])\n",
    "    \n",
    "    return r\n",
    "    \n",
    "# test that an arbitrary rotation matrix is unitary\n",
    "r = make_rot(0.2, 0.1, 0.4)\n",
    "print(torch.matmul(r, r.transpose(0, 1)))"
   ]
  },
  {
   "cell_type": "code",
   "execution_count": 8,
   "metadata": {},
   "outputs": [
    {
     "name": "stdout",
     "output_type": "stream",
     "text": [
      "24.45336914 \n",
      "tensor([[ -3.4052,   6.4643,  -1.3987],\n",
      "        [-10.7334,   2.8553,  -4.6368],\n",
      "        [ 10.6690,  12.0838,   4.3930],\n",
      "        [  3.4016,  -2.4474,  -5.0147],\n",
      "        [ -1.9864,   0.2322,   8.3181],\n",
      "        [ -1.5643,   8.9237,  -3.4486],\n",
      "        [ -3.4854,  -2.5318,   0.4223],\n",
      "        [  4.7672,  -9.0943,   8.7317],\n",
      "        [  2.3369, -16.4857,  -7.3663]], grad_fn=<StackBackward>)\n",
      "24.45337105 \n",
      "tensor([[ -3.4052,   6.4643,  -1.3987],\n",
      "        [-10.7333,   2.8553,  -4.6368],\n",
      "        [ 10.6690,  12.0838,   4.3930],\n",
      "        [  3.4016,  -2.4474,  -5.0147],\n",
      "        [ -1.9864,   0.2322,   8.3181],\n",
      "        [ -1.5644,   8.9237,  -3.4486],\n",
      "        [ -3.4854,  -2.5318,   0.4223],\n",
      "        [  4.7672,  -9.0943,   8.7317],\n",
      "        [  2.3369, -16.4857,  -7.3663]], grad_fn=<StackBackward>)\n"
     ]
    }
   ],
   "source": [
    "# get results for a geometry and its rotated version\n",
    "\n",
    "nxyz = train.props['nxyz'][0]\n",
    "rots = [torch.diag(torch.ones(3)), make_rot(1.4, -0.5, 1.3)]\n",
    "original_model.to(DEVICE)\n",
    "\n",
    "for rot in rots:\n",
    "    xyz = torch.stack([torch.matmul(rot, i[1:]) for i in nxyz])\n",
    "    z = nxyz[:, 0].reshape(-1, 1)\n",
    "    this_nxyz = torch.cat([z, xyz], dim=-1).to(DEVICE)\n",
    "    batch = {\"nxyz\": this_nxyz,\n",
    "             \"num_atoms\": torch.LongTensor([len(nxyz)]),\n",
    "             \"nbr_list\": train.props['nbr_list'][0].to(DEVICE)}\n",
    "    results = original_model(batch)\n",
    "    energy = results['energy'].cpu()\n",
    "    \n",
    "    # energies should be invariant\n",
    "    print(\"%.8f \" % energy.item())\n",
    "    \n",
    "    energy_grad = results['energy_grad'].cpu()\n",
    "        \n",
    "    # applying R^T to the gradients should give the same value for\n",
    "    # all geometries\n",
    "    rot_grad = torch.stack([torch.matmul(rot.transpose(0, 1), \n",
    "                                         i) for i in energy_grad])\n",
    "    print(rot_grad)"
   ]
  },
  {
   "cell_type": "code",
   "execution_count": 9,
   "metadata": {
    "scrolled": false
   },
   "outputs": [
    {
     "name": "stderr",
     "output_type": "stream",
     "text": [
      "100%|██████████| 20/20 [00:00<00:00, 34.05it/s]\n"
     ]
    },
    {
     "data": {
      "image/png": "[encoded data removed]",
      "text/plain": [
       "<Figure size 864x432 with 2 Axes>"
      ]
     },
     "metadata": {
      "needs_background": "light"
     },
     "output_type": "display_data"
    }
   ],
   "source": [
    "results, targets, val_loss = evaluate(T.get_best_model(), \n",
    "                                      test_loader, \n",
    "                                      loss_fn, \n",
    "                                      device=DEVICE)\n",
    "\n",
    "units = {\n",
    "    'energy_grad': r'kcal/mol/$\\AA$',\n",
    "    'energy': 'kcal/mol'\n",
    "}\n",
    "\n",
    "fig, ax_fig = plt.subplots(1, 2, figsize=(12, 6))\n",
    "\n",
    "for ax, key in zip(ax_fig, units.keys()):\n",
    "    pred_fn = torch.cat\n",
    "    targ_fn = torch.cat\n",
    "    if all([len(i.shape) == 0 for i in results[key]]):\n",
    "        pred_fn = torch.stack\n",
    "    if all([len(i.shape) == 0 for i in targets[key]]):\n",
    "        targ_fn = torch.stack\n",
    "        \n",
    "    pred = pred_fn(results[key], dim=0).view(-1).detach().cpu().numpy()\n",
    "    targ = targ_fn(targets[key], dim=0).view(-1).detach().cpu().numpy()\n",
    "\n",
    "    mae = abs(pred-targ).mean()\n",
    "    \n",
    "    ax.hexbin(pred, targ, mincnt=1)\n",
    "    \n",
    "    lim_min = min(np.min(pred), np.min(targ)) * 1.1\n",
    "    lim_max = max(np.max(pred), np.max(targ)) * 1.1\n",
    "    \n",
    "    ax.set_xlim(lim_min, lim_max)\n",
    "    ax.set_ylim(lim_min, lim_max)\n",
    "    ax.set_aspect('equal')\n",
    "    \n",
    "    ax.plot((lim_min, lim_max),\n",
    "            (lim_min, lim_max),\n",
    "            color='#000000',\n",
    "            zorder=-1,\n",
    "            linewidth=0.5)\n",
    "    \n",
    "    ax.set_title(key.upper(), fontsize=14)\n",
    "    ax.set_xlabel('predicted %s (%s)' % (key, units[key]), fontsize=12)\n",
    "    ax.set_ylabel('target %s (%s)' % (key, units[key]), fontsize=12)\n",
    "    ax.text(0.1, 0.9, 'MAE: %.2f %s' % (mae, units[key]), \n",
    "           transform=ax.transAxes, fontsize=14)\n",
    "\n",
    "plt.show()"
   ]
  },
  {
   "cell_type": "markdown",
   "metadata": {},
   "source": [
    "Note that PaiNN is about 30x more efficient than DimeNet (efficiency = 1 / (inference time * memory footprint)), with even better accuracy. The improved accuracy is reported in the PaiNN paper, and we have confirmed this accuracy by training our DimeNet and PaiNN implementations on aspirin in the MD17 dataset."
   ]
  },
  {
   "cell_type": "code",
   "execution_count": null,
   "metadata": {},
   "outputs": [],
   "source": []
  }
 ],
 "metadata": {
  "kernelspec": {
   "display_name": "Python 3",
   "language": "python",
   "name": "python3"
  },
  "language_info": {
   "codemirror_mode": {
    "name": "ipython",
    "version": 3
   },
   "file_extension": ".py",
   "mimetype": "text/x-python",
   "name": "python",
   "nbconvert_exporter": "python",
   "pygments_lexer": "ipython3",
   "version": "3.7.5"
  }
 },
 "nbformat": 4,
 "nbformat_minor": 2
}
