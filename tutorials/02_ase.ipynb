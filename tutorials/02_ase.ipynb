{
 "cells": [
  {
   "cell_type": "markdown",
   "metadata": {},
   "source": [
    "# Interface of Neural Force Field to ASE"
   ]
  },
  {
   "cell_type": "markdown",
   "metadata": {},
   "source": [
    "This Jupyter Notebook shows how the `nff` package interfaces with the Atomistic Simulation Environment (ASE). We assume the user went through the last tutorial, so we can load the pretrained models without having to train them again."
   ]
  },
  {
   "cell_type": "markdown",
   "metadata": {},
   "source": [
    "As before, importing the dependencies:"
   ]
  },
  {
   "cell_type": "code",
   "execution_count": 1,
   "metadata": {},
   "outputs": [],
   "source": [
    "import numpy as np\n",
    "import matplotlib.pyplot as plt\n",
    "\n",
    "import torch\n",
    "from torch.utils.data import DataLoader\n",
    "\n",
    "from nff.io import NeuralFF, AtomsBatch\n",
    "from nff.data import Dataset\n",
    "from nff.train import load_model, evaluate\n",
    "import nff.utils.constants as const"
   ]
  },
  {
   "cell_type": "markdown",
   "metadata": {},
   "source": [
    "## Loading the relevant data"
   ]
  },
  {
   "cell_type": "markdown",
   "metadata": {},
   "source": [
    "We reload the dataset and create a `GraphLoader` as we did last time:"
   ]
  },
  {
   "cell_type": "code",
   "execution_count": 2,
   "metadata": {},
   "outputs": [],
   "source": [
    "dataset = Dataset.from_file('data/dataset.pth.tar')"
   ]
  },
  {
   "cell_type": "markdown",
   "metadata": {},
   "source": [
    "### Creating Atoms"
   ]
  },
  {
   "cell_type": "markdown",
   "metadata": {},
   "source": [
    "As an example, we can create an `Atoms` object from any element of the dataset. Let's take the first one, for simplicity:"
   ]
  },
  {
   "cell_type": "code",
   "execution_count": 3,
   "metadata": {},
   "outputs": [],
   "source": [
    "props = dataset[0].copy()\n",
    "atoms = AtomsBatch(positions=props['nxyz'][:, 1:], numbers=props['nxyz'][:, 0], props=props)"
   ]
  },
  {
   "cell_type": "markdown",
   "metadata": {},
   "source": [
    "## Creating the ASE calculator"
   ]
  },
  {
   "cell_type": "markdown",
   "metadata": {},
   "source": [
    "Now we just have to load the ASE calculator from a pretrained model. One way of doing so is through the in-build `from_file` method. You just have to specify the folder where the model was trained and subsequently stored."
   ]
  },
  {
   "cell_type": "code",
   "execution_count": 4,
   "metadata": {},
   "outputs": [],
   "source": [
    "nff_ase = NeuralFF.from_file('sandbox/', device='cuda:3')"
   ]
  },
  {
   "cell_type": "markdown",
   "metadata": {},
   "source": [
    "Assigning this calculator to `atoms` is easy:"
   ]
  },
  {
   "cell_type": "code",
   "execution_count": 5,
   "metadata": {},
   "outputs": [],
   "source": [
    "atoms.set_calculator(nff_ase)"
   ]
  },
  {
   "cell_type": "markdown",
   "metadata": {},
   "source": [
    "## Calculating with ASE"
   ]
  },
  {
   "cell_type": "markdown",
   "metadata": {},
   "source": [
    "Now, we just have to calculate the energies of interest, such as the potential energy of the system. As ASE uses eV as units of energy, we have to convert that information from our database. Calculating is as easy as doing the following:"
   ]
  },
  {
   "cell_type": "code",
   "execution_count": 6,
   "metadata": {},
   "outputs": [],
   "source": [
    "%load_ext autoreload\n",
    "%autoreload 2"
   ]
  },
  {
   "cell_type": "code",
   "execution_count": 7,
   "metadata": {},
   "outputs": [
    {
     "name": "stdout",
     "output_type": "stream",
     "text": [
      "result: -0.17254 eV\n",
      "  true: -0.18951 eV\n"
     ]
    }
   ],
   "source": [
    "print('result: %.5f eV' % atoms.get_potential_energy())\n",
    "print('  true: %.5f eV' % (props['energy'] / const.EV_TO_KCAL_MOL))"
   ]
  },
  {
   "cell_type": "markdown",
   "metadata": {},
   "source": [
    "Comparing forces is as easy as running `get_forces`. For better visualization, we can plot the components of the forces and see the accuracy of our calculation:"
   ]
  },
  {
   "cell_type": "code",
   "execution_count": 8,
   "metadata": {},
   "outputs": [],
   "source": [
    "targets = -props['energy_grad'].numpy() / const.EV_TO_KCAL_MOL\n",
    "results = atoms.get_forces()"
   ]
  },
  {
   "cell_type": "code",
   "execution_count": 9,
   "metadata": {},
   "outputs": [
    {
     "data": {
      "image/png": "[encoded data removed]",
      "text/plain": [
       "<Figure size 432x432 with 1 Axes>"
      ]
     },
     "metadata": {
      "needs_background": "light"
     },
     "output_type": "display_data"
    }
   ],
   "source": [
    "units = {\n",
    "    'force': r'kcal/mol/$\\AA$',\n",
    "    'energy': 'kcal/mol'\n",
    "}\n",
    "\n",
    "fig, ax = plt.subplots(1, 1, figsize=(6, 6))\n",
    "\n",
    "pred = results.reshape(-1)\n",
    "targ = targets.reshape(-1)\n",
    "\n",
    "ax.scatter(pred, targ, color='#ff7f0e', alpha=0.5)\n",
    "\n",
    "lim_min = min(np.min(pred), np.min(targ)) * 1.1\n",
    "lim_max = max(np.max(pred), np.max(targ)) * 1.1\n",
    "\n",
    "ax.set_xlim(lim_min, lim_max)\n",
    "ax.set_ylim(lim_min, lim_max)\n",
    "ax.set_aspect('equal')\n",
    "\n",
    "ax.plot((lim_min, lim_max),\n",
    "        (lim_min, lim_max),\n",
    "        color='#000000',\n",
    "        zorder=-1,\n",
    "        linewidth=0.5)\n",
    "\n",
    "ax.set_title('FORCES', fontsize=14)\n",
    "ax.set_xlabel('predicted force (eV/$\\\\AA$)', fontsize=12)\n",
    "ax.set_ylabel('target force (eV/$\\\\AA$)', fontsize=12)\n",
    "\n",
    "plt.show()"
   ]
  }
 ],
 "metadata": {
  "kernelspec": {
   "display_name": "Python [conda env:nff]",
   "language": "python",
   "name": "conda-env-nff-py"
  },
  "language_info": {
   "codemirror_mode": {
    "name": "ipython",
    "version": 3
   },
   "file_extension": ".py",
   "mimetype": "text/x-python",
   "name": "python",
   "nbconvert_exporter": "python",
   "pygments_lexer": "ipython3",
   "version": "3.7.3"
  }
 },
 "nbformat": 4,
 "nbformat_minor": 2
}
