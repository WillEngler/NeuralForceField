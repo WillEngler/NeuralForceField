{
 "cells": [
  {
   "cell_type": "code",
   "execution_count": 1,
   "metadata": {},
   "outputs": [],
   "source": [
    "%load_ext autoreload\n",
    "%autoreload 2"
   ]
  },
  {
   "cell_type": "markdown",
   "metadata": {},
   "source": [
    "# SpookyPaiNN \n"
   ]
  },
  {
   "cell_type": "markdown",
   "metadata": {},
   "source": [
    "This tutorial shows how to train a PaiNN model that has some features from SpookyNet. Specifically, it borrows the following features:\n",
    "1. Encodes the spin and charge of each geometry\n",
    "2. Allows the charge to be spread over the molecule through non-local interactions modeled by attention \n",
    "3. Contains physics terms for nuclear-nuclear repulsion and long-range electrostatics\n",
    "\n",
    "First we import dependencies for the tutorial:"
   ]
  },
  {
   "cell_type": "code",
   "execution_count": 2,
   "metadata": {
    "scrolled": true
   },
   "outputs": [],
   "source": [
    "import sys\n",
    "from pathlib import Path\n",
    "\n",
    "# change to your NFF path\n",
    "sys.path.insert(0, \"/home/saxelrod/Repo/projects/master/NeuralForceField\")\n",
    "\n",
    "import os\n",
    "import shutil\n",
    "import numpy as np\n",
    "import matplotlib.pyplot as plt\n",
    "import copy\n",
    "\n",
    "import torch\n",
    "from torch.optim import Adam\n",
    "from torch.utils.data import DataLoader\n",
    "from torch.utils.data.sampler import RandomSampler\n",
    "\n",
    "\n",
    "from nff.data import Dataset, split_train_validation_test, collate_dicts, to_tensor\n",
    "from nff.train import Trainer, get_trainer, get_model, load_model, loss, hooks, metrics, evaluate"
   ]
  },
  {
   "cell_type": "markdown",
   "metadata": {},
   "source": [
    "In this tutorial we'll load an azobenzene dataset, which has ground and excited state dipoles, energies, forces, and non-adiabatic couplings. We'll use this one instead of ethanol because, unlike ethanol, it has ground state dipoles, which allow us to fit partial charges.\n",
    "\n",
    "When making a dataset with dipoles, make sure they're in units of e Angstroms, where e is the charge of the electron (the database dipoles are in units of Debye = 0.2081943 e Angstroms)."
   ]
  },
  {
   "cell_type": "code",
   "execution_count": 3,
   "metadata": {},
   "outputs": [],
   "source": [
    "DEVICE = 0\n",
    "OUTDIR = './sandbox_spooky_painn_ground_azo'\n",
    "BATCH_SIZE = 32\n",
    "\n",
    "path = 'data/azobenzene.pth.tar'\n",
    "dataset = Dataset.from_file(path)\n",
    "\n",
    "###\n",
    "# dataset.props['dipole_0'] = [-i for i in dataset.props['dipole_0']]\n",
    "###\n",
    "\n",
    " "
   ]
  },
  {
   "cell_type": "markdown",
   "metadata": {},
   "source": [
    "In addition to the usual neighbor list, we must also generate a neighbor list that has infinite cutoff (i.e. couples all pairs of atoms in each molecule) so that we can add the electrostatics terms. This neighbor list should be called `mol_nbrs`:"
   ]
  },
  {
   "cell_type": "code",
   "execution_count": 4,
   "metadata": {},
   "outputs": [],
   "source": [
    "# regular neighbor list\n",
    "_ = dataset.generate_neighbor_list(cutoff=5.0,\n",
    "                                   undirected=False,\n",
    "                                   key='nbr_list',\n",
    "                                   offset_key='offsets')\n",
    "\n",
    "# dense neighbor list\n",
    "_ = dataset.generate_neighbor_list(cutoff=float('inf'),\n",
    "                                   undirected=True,\n",
    "                                   key='mol_nbrs',\n",
    "                                   offset_key='mol_offsets')"
   ]
  },
  {
   "cell_type": "markdown",
   "metadata": {},
   "source": [
    "Note also that this dataset has `charge` and `spin` as properties, which are necessary for using the SpookyNet additions to the model:\n"
   ]
  },
  {
   "cell_type": "code",
   "execution_count": 5,
   "metadata": {},
   "outputs": [
    {
     "data": {
      "text/plain": [
       "dict_keys(['force_nacv_10', 'geom_id', 'smiles', 'energy_1_grad', 'energy_0', 'energy_1', 'energy_0_grad', 'nxyz', 'num_atoms', 'energy_1_energy_0_delta', 'offsets', 'dipole_0', 'dipole_1', 'charge', 'spin', 'trans_dipole_01', 'nbr_list', 'mol_nbrs'])"
      ]
     },
     "execution_count": 5,
     "metadata": {},
     "output_type": "execute_result"
    }
   ],
   "source": [
    "dataset.props.keys()\n"
   ]
  },
  {
   "cell_type": "markdown",
   "metadata": {},
   "source": [
    "Now we split the dataset:"
   ]
  },
  {
   "cell_type": "code",
   "execution_count": 6,
   "metadata": {},
   "outputs": [],
   "source": [
    "train, val, test = split_train_validation_test(dataset, \n",
    "                                               val_size=0.2, \n",
    "                                               test_size=0.2,\n",
    "                                               seed=0)"
   ]
  },
  {
   "cell_type": "markdown",
   "metadata": {},
   "source": [
    "Next we make the model. If you set `non_local=True`, make sure to install [PyTorch Performer](https://github.com/lucidrains/performer-pytorch), which computes attention in order N time for N atoms. This can be done with `pip install performer-pytorch`.\n",
    "\n"
   ]
  },
  {
   "cell_type": "code",
   "execution_count": 7,
   "metadata": {},
   "outputs": [],
   "source": [
    "modelparams = {\n",
    "              \"feat_dim\": 128,\n",
    "              \"activation\": \"swish\",\n",
    "              \"n_rbf\": 20,\n",
    "              \"cutoff\": 5.0,\n",
    "              \"num_conv\": 3,\n",
    "              \"output_keys\": [\"energy_0\"],\n",
    "              \"grad_keys\": [\"energy_0_grad\"],\n",
    "                \n",
    "              # Add nuclear repulsion to the outputs with these names.\n",
    "              \"add_nuc_keys\": ['energy_0'],\n",
    "    \n",
    "              # add atom point-charge electrostatics to the outputs \n",
    "              # with these names\n",
    "              \"add_elec_keys\": ['energy_0'],\n",
    "                \n",
    "              # add in a non-local update among all atom pairs\n",
    "              # using fast attention\n",
    "              \"non_local\": True,\n",
    "            \n",
    "              # `point_dipoles=True` means PaiNN predicts the dipole as \n",
    "              # \\sum_i dipole_i + \\sum_i charge_i * r_i, where the first term is\n",
    "              # a sum over point dipoles and the second is a sum over\n",
    "              # point charges weighted by atom position. If `point_dipoles=False`\n",
    "              # then the dipole is just \\sum_i charge_i * r_i,\n",
    "              \"point_dipoles\": False,\n",
    "    \n",
    "              # include point charge-point charge electrostatic interactions.\n",
    "              # These energies as 1/r\n",
    "              \"charge_charge\": True,\n",
    "              # include point charge-point dipole interactions. These scale as \n",
    "              # 1/r^2 and are less important. Can only be predicted if `point_dipoles\n",
    "              # = True`\n",
    "              \"charge_dipole\": False,\n",
    "              # include point dipole-point dipole interactions. These scale as \n",
    "              # 1/r^3 and are less important. Can only be predicted if `point_dipoles\n",
    "              # = True`\n",
    "              \"dipole_dipole\": False,\n",
    "              }\n",
    "\n",
    "    \n",
    "    \n",
    "model = get_model(modelparams, model_type=\"SpookyPainn\")\n",
    "\n",
    "# untrained model to test for equivariant/invariant outputs\n",
    "original_model = copy.deepcopy(model)"
   ]
  },
  {
   "cell_type": "markdown",
   "metadata": {},
   "source": [
    "In the original paper there was also the option for a D4 dispersion term. This isn't implemented in our code yet, and also should probably only be used if the ground truth also contains a dispersion correction."
   ]
  },
  {
   "cell_type": "code",
   "execution_count": 8,
   "metadata": {},
   "outputs": [],
   "source": [
    "\n",
    "if os.path.exists(OUTDIR):\n",
    "    newpath = os.path.join(os.path.dirname(OUTDIR), 'backup')\n",
    "    if os.path.exists(newpath):\n",
    "        shutil.rmtree(newpath)\n",
    "        \n",
    "    shutil.move(OUTDIR, newpath)"
   ]
  },
  {
   "cell_type": "markdown",
   "metadata": {},
   "source": [
    "Next we make the training splits, loaders, and trainer. A few notes:\n",
    "- In addition the normal force and energy loss terms, we also add a loss term for the dipole moment, so that the model can learn partial charges to reproduce the dipole.\n",
    "- You may have to play around with the loss weights to figure out the best values (especially for the dipole term)\n",
    "- When training with the extra terms (dipole output + electrostatic and nuclear repulsion terms), the loss drops much more slowly than for a pure ML model. You may have to train for many hundreds of epochs before you can see how well the model is doing \n",
    "- Remember to use a random sampler for the train loader, because that makes a big difference in the results (at least for small datasets)\n"
   ]
  },
  {
   "cell_type": "code",
   "execution_count": 9,
   "metadata": {},
   "outputs": [],
   "source": [
    "\n",
    "train_loader = DataLoader(train, batch_size=BATCH_SIZE, \n",
    "                          collate_fn=collate_dicts,\n",
    "                          sampler=RandomSampler(train))\n",
    "\n",
    "val_loader = DataLoader(val, batch_size=BATCH_SIZE, collate_fn=collate_dicts)\n",
    "test_loader = DataLoader(test, batch_size=BATCH_SIZE, collate_fn=collate_dicts)\n",
    "\n",
    "loss_fn = loss.build_mse_loss(loss_coef={'energy_0_grad': 0.95, \n",
    "                                         'energy_0': 0.05,\n",
    "                                         'dipole_0': 100\n",
    "                                        })\n",
    "\n",
    "trainable_params = filter(lambda p: p.requires_grad, model.parameters())\n",
    "\n",
    "optimizer = Adam(trainable_params, lr=1e-3)\n",
    "\n",
    "\n",
    "train_metrics = [\n",
    "    metrics.MeanAbsoluteError('energy_0'),\n",
    "    metrics.MeanAbsoluteError('energy_0_grad'),\n",
    "    metrics.MeanAbsoluteError('dipole_0')\n",
    "]\n",
    "\n",
    "\n",
    "train_hooks = [\n",
    "    hooks.MaxEpochHook(5000),\n",
    "    hooks.CSVHook(\n",
    "        OUTDIR,\n",
    "        metrics=train_metrics,\n",
    "    ),\n",
    "    hooks.PrintingHook(\n",
    "        OUTDIR,\n",
    "        metrics=train_metrics,\n",
    "        separator = ' | ',\n",
    "        time_strf='%M:%S'\n",
    "    ),\n",
    "    hooks.ReduceLROnPlateauHook(\n",
    "        optimizer=optimizer,\n",
    "        # patience in the original paper\n",
    "        patience=50,\n",
    "        factor=0.5,\n",
    "        min_lr=1e-7,\n",
    "        window_length=1,\n",
    "        stop_after_min=True\n",
    "    )\n",
    "]\n",
    "\n",
    "T = Trainer(\n",
    "    model_path=OUTDIR,\n",
    "    model=model,\n",
    "    loss_fn=loss_fn,\n",
    "    optimizer=optimizer,\n",
    "    train_loader=train_loader,\n",
    "    validation_loader=val_loader,\n",
    "    checkpoint_interval=1,\n",
    "    hooks=train_hooks,\n",
    "    mini_batches=1\n",
    ")"
   ]
  },
  {
   "cell_type": "markdown",
   "metadata": {},
   "source": [
    "Now we train and see the results! The model is about 50% slower than PaiNN for azobenzene. This is mostly because of the order N^2 electrostatics terms."
   ]
  },
  {
   "cell_type": "code",
   "execution_count": 10,
   "metadata": {
    "scrolled": true
   },
   "outputs": [
    {
     "name": "stdout",
     "output_type": "stream",
     "text": [
      " Time | Epoch | Learning rate | Train loss | Validation loss | MAE_energy_0 | MAE_energy_0_grad | MAE_dipole_0 | GPU Memory (MB)\n"
     ]
    },
    {
     "name": "stderr",
     "output_type": "stream",
     "text": [
      " 95%|█████████▍| 18/19 [00:07<00:00,  2.56it/s]\n"
     ]
    },
    {
     "name": "stdout",
     "output_type": "stream",
     "text": [
      "21:21 |     1 |     1.000e-03 | 446882.9272 |      38934.6350 |     711.2409 |           97.1993 |       0.3372 |             709\n"
     ]
    },
    {
     "name": "stderr",
     "output_type": "stream",
     "text": [
      " 95%|█████████▍| 18/19 [00:06<00:00,  2.66it/s]\n"
     ]
    },
    {
     "name": "stdout",
     "output_type": "stream",
     "text": [
      "21:30 |     2 |     1.000e-03 | 13000.7256 |       4114.3417 |     110.4426 |           45.5915 |       0.4422 |             709\n"
     ]
    },
    {
     "name": "stderr",
     "output_type": "stream",
     "text": [
      " 95%|█████████▍| 18/19 [00:06<00:00,  2.80it/s]\n"
     ]
    },
    {
     "name": "stdout",
     "output_type": "stream",
     "text": [
      "21:37 |     3 |     1.000e-03 |  3200.3391 |       2115.7083 |      81.1507 |           30.9477 |       0.3131 |             709\n"
     ]
    },
    {
     "name": "stderr",
     "output_type": "stream",
     "text": [
      " 95%|█████████▍| 18/19 [00:05<00:00,  3.06it/s]\n"
     ]
    },
    {
     "name": "stdout",
     "output_type": "stream",
     "text": [
      "21:45 |     4 |     1.000e-03 |  1599.7801 |       1231.1984 |      18.2145 |           23.7249 |       0.2955 |             709\n"
     ]
    },
    {
     "name": "stderr",
     "output_type": "stream",
     "text": [
      " 95%|█████████▍| 18/19 [00:05<00:00,  3.09it/s]\n"
     ]
    },
    {
     "name": "stdout",
     "output_type": "stream",
     "text": [
      "21:52 |     5 |     1.000e-03 |  1184.5333 |       1021.0598 |      22.3345 |           21.4553 |       0.2862 |             709\n"
     ]
    },
    {
     "name": "stderr",
     "output_type": "stream",
     "text": [
      " 95%|█████████▍| 18/19 [00:05<00:00,  3.34it/s]\n"
     ]
    },
    {
     "name": "stdout",
     "output_type": "stream",
     "text": [
      "21:58 |     6 |     1.000e-03 |  1002.0043 |        901.2551 |      14.9464 |           20.1500 |       0.2839 |             709\n"
     ]
    },
    {
     "name": "stderr",
     "output_type": "stream",
     "text": [
      " 95%|█████████▍| 18/19 [00:05<00:00,  3.12it/s]\n"
     ]
    },
    {
     "name": "stdout",
     "output_type": "stream",
     "text": [
      "22:05 |     7 |     1.000e-03 |   891.1207 |        808.4203 |      15.9898 |           19.0221 |       0.2807 |             709\n"
     ]
    },
    {
     "name": "stderr",
     "output_type": "stream",
     "text": [
      " 95%|█████████▍| 18/19 [00:05<00:00,  3.40it/s]\n"
     ]
    },
    {
     "name": "stdout",
     "output_type": "stream",
     "text": [
      "22:11 |     8 |     1.000e-03 |   807.1287 |        738.8082 |      18.1686 |           17.9953 |       0.2749 |             709\n"
     ]
    },
    {
     "name": "stderr",
     "output_type": "stream",
     "text": [
      " 95%|█████████▍| 18/19 [00:06<00:00,  2.67it/s]\n"
     ]
    },
    {
     "name": "stdout",
     "output_type": "stream",
     "text": [
      "22:19 |     9 |     1.000e-03 |   741.0490 |        682.9655 |      13.5792 |           17.3663 |       0.2754 |             710\n"
     ]
    },
    {
     "name": "stderr",
     "output_type": "stream",
     "text": [
      " 95%|█████████▍| 18/19 [00:06<00:00,  2.91it/s]\n"
     ]
    },
    {
     "name": "stdout",
     "output_type": "stream",
     "text": [
      "22:27 |    10 |     1.000e-03 |   690.7302 |        636.1400 |      13.2324 |           16.6577 |       0.2694 |             710\n"
     ]
    },
    {
     "name": "stderr",
     "output_type": "stream",
     "text": [
      " 95%|█████████▍| 18/19 [00:05<00:00,  3.10it/s]\n"
     ]
    },
    {
     "name": "stdout",
     "output_type": "stream",
     "text": [
      "22:34 |    11 |     1.000e-03 |   641.6399 |        598.0485 |      12.9739 |           16.1175 |       0.2675 |             710\n"
     ]
    },
    {
     "name": "stderr",
     "output_type": "stream",
     "text": [
      " 95%|█████████▍| 18/19 [00:05<00:00,  3.13it/s]\n"
     ]
    },
    {
     "name": "stdout",
     "output_type": "stream",
     "text": [
      "22:41 |    12 |     1.000e-03 |   605.0240 |        569.3134 |      13.7197 |           15.7323 |       0.2673 |             710\n"
     ]
    },
    {
     "name": "stderr",
     "output_type": "stream",
     "text": [
      " 95%|█████████▍| 18/19 [00:06<00:00,  2.99it/s]\n"
     ]
    },
    {
     "name": "stdout",
     "output_type": "stream",
     "text": [
      "22:48 |    13 |     1.000e-03 |   574.8849 |        540.8886 |      15.5323 |           15.2774 |       0.2617 |             710\n"
     ]
    },
    {
     "name": "stderr",
     "output_type": "stream",
     "text": [
      " 95%|█████████▍| 18/19 [00:05<00:00,  3.30it/s]\n"
     ]
    },
    {
     "name": "stdout",
     "output_type": "stream",
     "text": [
      "22:54 |    14 |     1.000e-03 |   545.1455 |        510.9218 |      12.9514 |           14.8232 |       0.2583 |             710\n"
     ]
    },
    {
     "name": "stderr",
     "output_type": "stream",
     "text": [
      " 95%|█████████▍| 18/19 [00:05<00:00,  3.23it/s]\n"
     ]
    },
    {
     "name": "stdout",
     "output_type": "stream",
     "text": [
      "23:01 |    15 |     1.000e-03 |   521.0806 |        489.9147 |      12.4046 |           14.5069 |       0.2560 |             710\n"
     ]
    },
    {
     "name": "stderr",
     "output_type": "stream",
     "text": [
      " 95%|█████████▍| 18/19 [00:05<00:00,  3.08it/s]\n"
     ]
    },
    {
     "name": "stdout",
     "output_type": "stream",
     "text": [
      "23:08 |    16 |     1.000e-03 |   497.5276 |        477.9774 |      19.0368 |           14.1556 |       0.2491 |             710\n"
     ]
    },
    {
     "name": "stderr",
     "output_type": "stream",
     "text": [
      " 95%|█████████▍| 18/19 [00:06<00:00,  2.82it/s]\n"
     ]
    },
    {
     "name": "stdout",
     "output_type": "stream",
     "text": [
      "23:16 |    17 |     1.000e-03 |   481.2765 |        455.5913 |      11.9698 |           13.9630 |       0.2515 |             710\n"
     ]
    },
    {
     "name": "stderr",
     "output_type": "stream",
     "text": [
      " 95%|█████████▍| 18/19 [00:07<00:00,  2.47it/s]\n"
     ]
    },
    {
     "name": "stdout",
     "output_type": "stream",
     "text": [
      "23:25 |    18 |     1.000e-03 |   461.4953 |        442.0798 |      12.9057 |           13.7061 |       0.2518 |             710\n"
     ]
    },
    {
     "name": "stderr",
     "output_type": "stream",
     "text": [
      " 95%|█████████▍| 18/19 [00:05<00:00,  3.14it/s]\n"
     ]
    },
    {
     "name": "stdout",
     "output_type": "stream",
     "text": [
      "23:32 |    19 |     1.000e-03 |   448.2910 |        423.3985 |      12.3735 |           13.4112 |       0.2411 |             710\n"
     ]
    },
    {
     "name": "stderr",
     "output_type": "stream",
     "text": [
      " 95%|█████████▍| 18/19 [00:05<00:00,  3.14it/s]\n"
     ]
    },
    {
     "name": "stdout",
     "output_type": "stream",
     "text": [
      "23:39 |    20 |     1.000e-03 |   429.6317 |        415.6499 |      11.7845 |           13.2704 |       0.2413 |             710\n"
     ]
    },
    {
     "name": "stderr",
     "output_type": "stream",
     "text": [
      " 95%|█████████▍| 18/19 [00:06<00:00,  2.97it/s]\n"
     ]
    },
    {
     "name": "stdout",
     "output_type": "stream",
     "text": [
      "23:46 |    21 |     1.000e-03 |   421.2060 |        407.8851 |      11.5170 |           13.2182 |       0.2362 |             710\n"
     ]
    },
    {
     "name": "stderr",
     "output_type": "stream",
     "text": [
      " 95%|█████████▍| 18/19 [00:05<00:00,  3.53it/s]\n"
     ]
    },
    {
     "name": "stdout",
     "output_type": "stream",
     "text": [
      "23:52 |    22 |     1.000e-03 |   407.6911 |        394.7207 |      11.3122 |           12.8481 |       0.2373 |             710\n"
     ]
    },
    {
     "name": "stderr",
     "output_type": "stream",
     "text": [
      " 95%|█████████▍| 18/19 [00:05<00:00,  3.29it/s]\n"
     ]
    },
    {
     "name": "stdout",
     "output_type": "stream",
     "text": [
      "23:59 |    23 |     1.000e-03 |   394.3293 |        381.7172 |      11.6897 |           12.6569 |       0.2373 |             710\n"
     ]
    },
    {
     "name": "stderr",
     "output_type": "stream",
     "text": [
      " 95%|█████████▍| 18/19 [00:05<00:00,  3.09it/s]\n"
     ]
    },
    {
     "name": "stdout",
     "output_type": "stream",
     "text": [
      "24:05 |    24 |     1.000e-03 |   390.0301 |        387.5175 |      14.3677 |           12.8437 |       0.2265 |             710\n"
     ]
    },
    {
     "name": "stderr",
     "output_type": "stream",
     "text": [
      " 95%|█████████▍| 18/19 [00:06<00:00,  2.98it/s]\n"
     ]
    },
    {
     "name": "stdout",
     "output_type": "stream",
     "text": [
      "24:12 |    25 |     1.000e-03 |   387.7101 |        375.0385 |      14.0741 |           12.4987 |       0.2328 |             710\n"
     ]
    },
    {
     "name": "stderr",
     "output_type": "stream",
     "text": [
      " 95%|█████████▍| 18/19 [00:07<00:00,  2.54it/s]\n"
     ]
    },
    {
     "name": "stdout",
     "output_type": "stream",
     "text": [
      "24:21 |    26 |     1.000e-03 |   364.6851 |        350.7854 |      10.8904 |           12.0854 |       0.2267 |             710\n"
     ]
    },
    {
     "name": "stderr",
     "output_type": "stream",
     "text": [
      " 95%|█████████▍| 18/19 [00:06<00:00,  2.70it/s]\n"
     ]
    },
    {
     "name": "stdout",
     "output_type": "stream",
     "text": [
      "24:29 |    27 |     1.000e-03 |   353.6591 |        346.3096 |      10.7458 |           11.9499 |       0.2270 |             710\n"
     ]
    },
    {
     "name": "stderr",
     "output_type": "stream",
     "text": [
      " 95%|█████████▍| 18/19 [00:06<00:00,  2.86it/s]\n"
     ]
    },
    {
     "name": "stdout",
     "output_type": "stream",
     "text": [
      "24:37 |    28 |     1.000e-03 |   346.9657 |        355.2233 |      13.1840 |           12.1343 |       0.2233 |             710\n"
     ]
    },
    {
     "name": "stderr",
     "output_type": "stream",
     "text": [
      " 95%|█████████▍| 18/19 [00:06<00:00,  2.95it/s]\n"
     ]
    },
    {
     "name": "stdout",
     "output_type": "stream",
     "text": [
      "24:44 |    29 |     1.000e-03 |   342.4239 |        334.9365 |      12.1485 |           11.7759 |       0.2222 |             710\n"
     ]
    },
    {
     "name": "stderr",
     "output_type": "stream",
     "text": [
      " 95%|█████████▍| 18/19 [00:05<00:00,  3.09it/s]\n"
     ]
    },
    {
     "name": "stdout",
     "output_type": "stream",
     "text": [
      "24:51 |    30 |     1.000e-03 |   332.7110 |        330.2459 |      10.4747 |           11.5861 |       0.2175 |             710\n"
     ]
    },
    {
     "name": "stderr",
     "output_type": "stream",
     "text": [
      " 95%|█████████▍| 18/19 [00:06<00:00,  2.89it/s]\n"
     ]
    },
    {
     "name": "stdout",
     "output_type": "stream",
     "text": [
      "24:59 |    31 |     1.000e-03 |   325.9476 |        321.5167 |      12.6714 |           11.4356 |       0.2161 |             710\n"
     ]
    },
    {
     "name": "stderr",
     "output_type": "stream",
     "text": [
      " 95%|█████████▍| 18/19 [00:06<00:00,  2.90it/s]\n"
     ]
    },
    {
     "name": "stdout",
     "output_type": "stream",
     "text": [
      "25:06 |    32 |     1.000e-03 |   319.0019 |        317.9461 |      10.7971 |           11.4498 |       0.2150 |             710\n"
     ]
    },
    {
     "name": "stderr",
     "output_type": "stream",
     "text": [
      " 95%|█████████▍| 18/19 [00:05<00:00,  3.00it/s]\n"
     ]
    },
    {
     "name": "stdout",
     "output_type": "stream",
     "text": [
      "25:14 |    33 |     1.000e-03 |   311.4676 |        322.4617 |      18.4432 |           11.2852 |       0.2157 |             710\n"
     ]
    },
    {
     "name": "stderr",
     "output_type": "stream",
     "text": [
      " 95%|█████████▍| 18/19 [00:07<00:00,  2.42it/s]\n"
     ]
    },
    {
     "name": "stdout",
     "output_type": "stream",
     "text": [
      "25:23 |    34 |     1.000e-03 |   309.0898 |        303.7909 |      10.3781 |           11.1289 |       0.2179 |             710\n"
     ]
    },
    {
     "name": "stderr",
     "output_type": "stream",
     "text": [
      " 95%|█████████▍| 18/19 [00:06<00:00,  2.89it/s]\n"
     ]
    },
    {
     "name": "stdout",
     "output_type": "stream",
     "text": [
      "25:30 |    35 |     1.000e-03 |   299.3496 |        301.1825 |      11.2070 |           11.0480 |       0.2129 |             710\n"
     ]
    },
    {
     "name": "stderr",
     "output_type": "stream",
     "text": [
      " 95%|█████████▍| 18/19 [00:06<00:00,  2.83it/s]\n"
     ]
    },
    {
     "name": "stdout",
     "output_type": "stream",
     "text": [
      "25:38 |    36 |     1.000e-03 |   298.2307 |        320.5588 |      11.1458 |           11.0514 |       0.2115 |             710\n"
     ]
    },
    {
     "name": "stderr",
     "output_type": "stream",
     "text": [
      " 95%|█████████▍| 18/19 [00:06<00:00,  2.85it/s]\n"
     ]
    },
    {
     "name": "stdout",
     "output_type": "stream",
     "text": [
      "25:46 |    37 |     1.000e-03 |   293.7558 |        296.0355 |      11.2238 |           11.0773 |       0.2106 |             710\n"
     ]
    },
    {
     "name": "stderr",
     "output_type": "stream",
     "text": [
      " 95%|█████████▍| 18/19 [00:05<00:00,  3.39it/s]\n"
     ]
    },
    {
     "name": "stdout",
     "output_type": "stream",
     "text": [
      "25:52 |    38 |     1.000e-03 |   284.9748 |        288.8654 |      10.1267 |           10.7936 |       0.2097 |             710\n"
     ]
    },
    {
     "name": "stderr",
     "output_type": "stream",
     "text": [
      " 95%|█████████▍| 18/19 [00:05<00:00,  3.14it/s]\n"
     ]
    },
    {
     "name": "stdout",
     "output_type": "stream",
     "text": [
      "25:59 |    39 |     1.000e-03 |   280.1311 |        284.1950 |      10.8549 |           10.6369 |       0.2064 |             710\n"
     ]
    },
    {
     "name": "stderr",
     "output_type": "stream",
     "text": [
      " 95%|█████████▍| 18/19 [00:05<00:00,  3.30it/s]\n"
     ]
    },
    {
     "name": "stdout",
     "output_type": "stream",
     "text": [
      "26:06 |    40 |     1.000e-03 |   277.1956 |        300.3388 |      21.8167 |           10.6063 |       0.2071 |             710\n"
     ]
    },
    {
     "name": "stderr",
     "output_type": "stream",
     "text": [
      " 95%|█████████▍| 18/19 [00:05<00:00,  3.15it/s]\n"
     ]
    },
    {
     "name": "stdout",
     "output_type": "stream",
     "text": [
      "26:13 |    41 |     1.000e-03 |   271.6964 |        274.7041 |      10.0568 |           10.4840 |       0.2045 |             710\n"
     ]
    },
    {
     "name": "stderr",
     "output_type": "stream",
     "text": [
      " 95%|█████████▍| 18/19 [00:07<00:00,  2.51it/s]\n"
     ]
    },
    {
     "name": "stdout",
     "output_type": "stream",
     "text": [
      "26:22 |    42 |     1.000e-03 |   267.4371 |        277.6526 |      13.2146 |           10.4202 |       0.2044 |             711\n"
     ]
    },
    {
     "name": "stderr",
     "output_type": "stream",
     "text": [
      " 95%|█████████▍| 18/19 [00:05<00:00,  3.08it/s]\n"
     ]
    },
    {
     "name": "stdout",
     "output_type": "stream",
     "text": [
      "26:29 |    43 |     1.000e-03 |   265.7821 |        270.2077 |       9.5350 |           10.3234 |       0.2003 |             711\n"
     ]
    },
    {
     "name": "stderr",
     "output_type": "stream",
     "text": [
      " 95%|█████████▍| 18/19 [00:05<00:00,  3.20it/s]\n"
     ]
    },
    {
     "name": "stdout",
     "output_type": "stream",
     "text": [
      "26:35 |    44 |     1.000e-03 |   261.5797 |        266.8748 |       9.8113 |           10.2843 |       0.2001 |             711\n"
     ]
    },
    {
     "name": "stderr",
     "output_type": "stream",
     "text": [
      " 95%|█████████▍| 18/19 [00:05<00:00,  3.07it/s]\n"
     ]
    },
    {
     "name": "stdout",
     "output_type": "stream",
     "text": [
      "26:42 |    45 |     1.000e-03 |   256.6674 |        266.1443 |      13.1214 |           10.1976 |       0.1988 |             711\n"
     ]
    },
    {
     "name": "stderr",
     "output_type": "stream",
     "text": [
      " 95%|█████████▍| 18/19 [00:05<00:00,  3.30it/s]\n"
     ]
    },
    {
     "name": "stdout",
     "output_type": "stream",
     "text": [
      "26:49 |    46 |     1.000e-03 |   253.9108 |        320.4862 |      12.3448 |           10.4405 |       0.1994 |             711\n"
     ]
    },
    {
     "name": "stderr",
     "output_type": "stream",
     "text": [
      " 95%|█████████▍| 18/19 [00:05<00:00,  3.20it/s]\n"
     ]
    },
    {
     "name": "stdout",
     "output_type": "stream",
     "text": [
      "26:55 |    47 |     1.000e-03 |   262.8550 |        282.8563 |      16.3113 |           10.1806 |       0.1989 |             711\n"
     ]
    },
    {
     "name": "stderr",
     "output_type": "stream",
     "text": [
      " 95%|█████████▍| 18/19 [00:05<00:00,  3.12it/s]\n"
     ]
    },
    {
     "name": "stdout",
     "output_type": "stream",
     "text": [
      "27:02 |    48 |     1.000e-03 |   251.1110 |        263.4500 |      14.4651 |            9.9859 |       0.1959 |             711\n"
     ]
    },
    {
     "name": "stderr",
     "output_type": "stream",
     "text": [
      " 95%|█████████▍| 18/19 [00:06<00:00,  2.99it/s]\n"
     ]
    },
    {
     "name": "stdout",
     "output_type": "stream",
     "text": [
      "27:09 |    49 |     1.000e-03 |   252.4520 |        256.9167 |       9.3653 |            9.9660 |       0.1959 |             711\n"
     ]
    },
    {
     "name": "stderr",
     "output_type": "stream",
     "text": [
      " 95%|█████████▍| 18/19 [00:06<00:00,  2.80it/s]\n"
     ]
    },
    {
     "name": "stdout",
     "output_type": "stream",
     "text": [
      "27:17 |    50 |     1.000e-03 |   261.1784 |        276.6782 |      10.0516 |            9.9791 |       0.1958 |             711\n"
     ]
    },
    {
     "name": "stderr",
     "output_type": "stream",
     "text": [
      " 95%|█████████▍| 18/19 [00:06<00:00,  2.78it/s]\n"
     ]
    },
    {
     "name": "stdout",
     "output_type": "stream",
     "text": [
      "27:25 |    51 |     1.000e-03 |   242.1648 |        245.2383 |       9.8321 |            9.7678 |       0.1955 |             711\n"
     ]
    },
    {
     "name": "stderr",
     "output_type": "stream",
     "text": [
      " 95%|█████████▍| 18/19 [00:06<00:00,  2.76it/s]\n"
     ]
    },
    {
     "name": "stdout",
     "output_type": "stream",
     "text": [
      "27:33 |    52 |     1.000e-03 |   234.7606 |        243.7990 |       9.8916 |            9.7421 |       0.1958 |             711\n"
     ]
    },
    {
     "name": "stderr",
     "output_type": "stream",
     "text": [
      " 95%|█████████▍| 18/19 [00:05<00:00,  3.03it/s]\n"
     ]
    },
    {
     "name": "stdout",
     "output_type": "stream",
     "text": [
      "27:40 |    53 |     1.000e-03 |   231.2161 |        239.0756 |       9.1053 |            9.6075 |       0.1951 |             711\n"
     ]
    },
    {
     "name": "stderr",
     "output_type": "stream",
     "text": [
      " 95%|█████████▍| 18/19 [00:05<00:00,  3.07it/s]\n"
     ]
    },
    {
     "name": "stdout",
     "output_type": "stream",
     "text": [
      "27:47 |    54 |     1.000e-03 |   229.3125 |        241.9057 |      13.7870 |            9.5731 |       0.1922 |             711\n"
     ]
    },
    {
     "name": "stderr",
     "output_type": "stream",
     "text": [
      " 95%|█████████▍| 18/19 [00:06<00:00,  2.93it/s]\n"
     ]
    },
    {
     "name": "stdout",
     "output_type": "stream",
     "text": [
      "27:54 |    55 |     1.000e-03 |   224.7700 |        242.0300 |      15.1929 |            9.5749 |       0.1926 |             711\n"
     ]
    },
    {
     "name": "stderr",
     "output_type": "stream",
     "text": [
      " 95%|█████████▍| 18/19 [00:05<00:00,  3.20it/s]\n"
     ]
    },
    {
     "name": "stdout",
     "output_type": "stream",
     "text": [
      "28:01 |    56 |     1.000e-03 |   227.9101 |        233.6398 |       9.5311 |            9.4385 |       0.1917 |             711\n"
     ]
    },
    {
     "name": "stderr",
     "output_type": "stream",
     "text": [
      " 95%|█████████▍| 18/19 [00:05<00:00,  3.26it/s]\n"
     ]
    },
    {
     "name": "stdout",
     "output_type": "stream",
     "text": [
      "28:08 |    57 |     1.000e-03 |   230.3408 |        259.4392 |      24.5117 |            9.6897 |       0.1879 |             711\n"
     ]
    },
    {
     "name": "stderr",
     "output_type": "stream",
     "text": [
      " 95%|█████████▍| 18/19 [00:06<00:00,  2.68it/s]\n"
     ]
    },
    {
     "name": "stdout",
     "output_type": "stream",
     "text": [
      "28:16 |    58 |     1.000e-03 |   223.2070 |        233.1134 |      12.4885 |            9.4211 |       0.1883 |             711\n"
     ]
    },
    {
     "name": "stderr",
     "output_type": "stream",
     "text": [
      " 95%|█████████▍| 18/19 [00:06<00:00,  2.82it/s]\n"
     ]
    },
    {
     "name": "stdout",
     "output_type": "stream",
     "text": [
      "28:24 |    59 |     1.000e-03 |   218.9353 |        245.7071 |      20.2958 |            9.5113 |       0.1934 |             711\n"
     ]
    },
    {
     "name": "stderr",
     "output_type": "stream",
     "text": [
      " 95%|█████████▍| 18/19 [00:05<00:00,  3.16it/s]\n"
     ]
    },
    {
     "name": "stdout",
     "output_type": "stream",
     "text": [
      "28:31 |    60 |     1.000e-03 |   215.6680 |        230.4150 |      14.4590 |            9.3315 |       0.1883 |             711\n"
     ]
    },
    {
     "name": "stderr",
     "output_type": "stream",
     "text": [
      " 95%|█████████▍| 18/19 [00:05<00:00,  3.22it/s]\n"
     ]
    },
    {
     "name": "stdout",
     "output_type": "stream",
     "text": [
      "28:38 |    61 |     1.000e-03 |   212.2220 |        244.3752 |      21.9946 |            9.3154 |       0.1910 |             711\n"
     ]
    },
    {
     "name": "stderr",
     "output_type": "stream",
     "text": [
      " 95%|█████████▍| 18/19 [00:05<00:00,  3.21it/s]\n"
     ]
    },
    {
     "name": "stdout",
     "output_type": "stream",
     "text": [
      "28:45 |    62 |     1.000e-03 |   213.2251 |        220.3559 |      10.8034 |            9.1282 |       0.1861 |             711\n"
     ]
    },
    {
     "name": "stderr",
     "output_type": "stream",
     "text": [
      " 95%|█████████▍| 18/19 [00:05<00:00,  3.09it/s]\n"
     ]
    },
    {
     "name": "stdout",
     "output_type": "stream",
     "text": [
      "28:52 |    63 |     1.000e-03 |   206.0531 |        219.7623 |      11.7308 |            9.0151 |       0.1842 |             711\n"
     ]
    },
    {
     "name": "stderr",
     "output_type": "stream",
     "text": [
      " 95%|█████████▍| 18/19 [00:05<00:00,  3.07it/s]\n"
     ]
    },
    {
     "name": "stdout",
     "output_type": "stream",
     "text": [
      "28:59 |    64 |     1.000e-03 |   201.9079 |        219.7796 |      13.3779 |            9.0710 |       0.1856 |             711\n"
     ]
    },
    {
     "name": "stderr",
     "output_type": "stream",
     "text": [
      " 95%|█████████▍| 18/19 [00:05<00:00,  3.25it/s]\n"
     ]
    },
    {
     "name": "stdout",
     "output_type": "stream",
     "text": [
      "29:05 |    65 |     1.000e-03 |   201.2133 |        211.1776 |       8.4780 |            8.8826 |       0.1862 |             711\n"
     ]
    },
    {
     "name": "stderr",
     "output_type": "stream",
     "text": [
      " 95%|█████████▍| 18/19 [00:05<00:00,  3.19it/s]\n"
     ]
    },
    {
     "name": "stdout",
     "output_type": "stream",
     "text": [
      "29:12 |    66 |     1.000e-03 |   197.2602 |        212.2171 |       9.0759 |            8.9153 |       0.1832 |             711\n"
     ]
    },
    {
     "name": "stderr",
     "output_type": "stream",
     "text": [
      " 95%|█████████▍| 18/19 [00:07<00:00,  2.54it/s]\n"
     ]
    },
    {
     "name": "stdout",
     "output_type": "stream",
     "text": [
      "29:20 |    67 |     1.000e-03 |   197.7777 |        216.3547 |      11.2896 |            8.9520 |       0.1863 |             711\n"
     ]
    },
    {
     "name": "stderr",
     "output_type": "stream",
     "text": [
      " 95%|█████████▍| 18/19 [00:06<00:00,  2.73it/s]\n"
     ]
    },
    {
     "name": "stdout",
     "output_type": "stream",
     "text": [
      "29:28 |    68 |     1.000e-03 |   194.2870 |        211.8522 |      12.1870 |            8.9332 |       0.1840 |             711\n"
     ]
    },
    {
     "name": "stderr",
     "output_type": "stream",
     "text": [
      " 95%|█████████▍| 18/19 [00:05<00:00,  3.00it/s]\n"
     ]
    },
    {
     "name": "stdout",
     "output_type": "stream",
     "text": [
      "29:35 |    69 |     1.000e-03 |   192.0416 |        211.5141 |      11.0999 |            8.9380 |       0.1846 |             711\n"
     ]
    },
    {
     "name": "stderr",
     "output_type": "stream",
     "text": [
      " 95%|█████████▍| 18/19 [00:05<00:00,  3.17it/s]\n"
     ]
    },
    {
     "name": "stdout",
     "output_type": "stream",
     "text": [
      "29:42 |    70 |     1.000e-03 |   192.4725 |        209.9885 |       8.4018 |            8.9110 |       0.1835 |             711\n"
     ]
    },
    {
     "name": "stderr",
     "output_type": "stream",
     "text": [
      " 95%|█████████▍| 18/19 [00:05<00:00,  3.10it/s]\n"
     ]
    },
    {
     "name": "stdout",
     "output_type": "stream",
     "text": [
      "29:49 |    71 |     1.000e-03 |   189.4187 |        206.8775 |       9.7481 |            8.8987 |       0.1815 |             711\n"
     ]
    },
    {
     "name": "stderr",
     "output_type": "stream",
     "text": [
      " 95%|█████████▍| 18/19 [00:05<00:00,  3.17it/s]\n"
     ]
    },
    {
     "name": "stdout",
     "output_type": "stream",
     "text": [
      "29:55 |    72 |     1.000e-03 |   193.1390 |        232.9126 |      23.3079 |            8.9630 |       0.1823 |             711\n"
     ]
    },
    {
     "name": "stderr",
     "output_type": "stream",
     "text": [
      " 95%|█████████▍| 18/19 [00:04<00:00,  3.68it/s]\n"
     ]
    },
    {
     "name": "stdout",
     "output_type": "stream",
     "text": [
      "30:01 |    73 |     1.000e-03 |   207.3303 |        217.7573 |      17.6018 |            8.9208 |       0.1825 |             711\n"
     ]
    },
    {
     "name": "stderr",
     "output_type": "stream",
     "text": [
      " 95%|█████████▍| 18/19 [00:05<00:00,  3.15it/s]\n"
     ]
    },
    {
     "name": "stdout",
     "output_type": "stream",
     "text": [
      "30:08 |    74 |     1.000e-03 |   187.9558 |        198.9434 |       8.4926 |            8.5365 |       0.1794 |             711\n"
     ]
    },
    {
     "name": "stderr",
     "output_type": "stream",
     "text": [
      " 95%|█████████▍| 18/19 [00:06<00:00,  2.75it/s]\n"
     ]
    },
    {
     "name": "stdout",
     "output_type": "stream",
     "text": [
      "30:17 |    75 |     1.000e-03 |   191.7248 |        229.8174 |      25.1018 |            8.8142 |       0.1775 |             711\n"
     ]
    },
    {
     "name": "stderr",
     "output_type": "stream",
     "text": [
      " 95%|█████████▍| 18/19 [00:07<00:00,  2.53it/s]\n"
     ]
    },
    {
     "name": "stdout",
     "output_type": "stream",
     "text": [
      "30:25 |    76 |     1.000e-03 |   189.2981 |        199.8779 |      13.0127 |            8.3948 |       0.1782 |             711\n"
     ]
    },
    {
     "name": "stderr",
     "output_type": "stream",
     "text": [
      " 95%|█████████▍| 18/19 [00:05<00:00,  3.11it/s]\n"
     ]
    },
    {
     "name": "stdout",
     "output_type": "stream",
     "text": [
      "30:32 |    77 |     1.000e-03 |   185.4848 |        192.7655 |       8.3435 |            8.3965 |       0.1797 |             711\n"
     ]
    },
    {
     "name": "stderr",
     "output_type": "stream",
     "text": [
      " 95%|█████████▍| 18/19 [00:06<00:00,  3.00it/s]\n"
     ]
    },
    {
     "name": "stdout",
     "output_type": "stream",
     "text": [
      "30:39 |    78 |     1.000e-03 |   177.7676 |        197.2747 |       8.6810 |            8.5698 |       0.1776 |             711\n"
     ]
    },
    {
     "name": "stderr",
     "output_type": "stream",
     "text": [
      " 95%|█████████▍| 18/19 [00:05<00:00,  3.07it/s]\n"
     ]
    },
    {
     "name": "stdout",
     "output_type": "stream",
     "text": [
      "30:46 |    79 |     1.000e-03 |   177.4431 |        192.8828 |       8.0784 |            8.5880 |       0.1791 |             711\n"
     ]
    },
    {
     "name": "stderr",
     "output_type": "stream",
     "text": [
      " 95%|█████████▍| 18/19 [00:05<00:00,  3.28it/s]\n"
     ]
    },
    {
     "name": "stdout",
     "output_type": "stream",
     "text": [
      "30:52 |    80 |     1.000e-03 |   173.2048 |        192.9413 |      11.8619 |            8.2340 |       0.1781 |             711\n"
     ]
    },
    {
     "name": "stderr",
     "output_type": "stream",
     "text": [
      " 95%|█████████▍| 18/19 [00:05<00:00,  3.15it/s]\n"
     ]
    },
    {
     "name": "stdout",
     "output_type": "stream",
     "text": [
      "30:59 |    81 |     1.000e-03 |   170.6811 |        195.3550 |      15.6939 |            8.2261 |       0.1788 |             711\n"
     ]
    },
    {
     "name": "stderr",
     "output_type": "stream",
     "text": [
      " 95%|█████████▍| 18/19 [00:05<00:00,  3.19it/s]\n"
     ]
    },
    {
     "name": "stdout",
     "output_type": "stream",
     "text": [
      "31:06 |    82 |     1.000e-03 |   177.0491 |        194.6748 |      15.7082 |            8.2199 |       0.1779 |             711\n"
     ]
    },
    {
     "name": "stderr",
     "output_type": "stream",
     "text": [
      " 95%|█████████▍| 18/19 [00:06<00:00,  2.78it/s]\n"
     ]
    },
    {
     "name": "stdout",
     "output_type": "stream",
     "text": [
      "31:14 |    83 |     1.000e-03 |   172.9614 |        191.3467 |      11.6884 |            8.1885 |       0.1760 |             711\n"
     ]
    },
    {
     "name": "stderr",
     "output_type": "stream",
     "text": [
      " 95%|█████████▍| 18/19 [00:07<00:00,  2.44it/s]\n"
     ]
    },
    {
     "name": "stdout",
     "output_type": "stream",
     "text": [
      "31:23 |    84 |     1.000e-03 |   169.2314 |        189.4923 |      11.0679 |            8.2578 |       0.1747 |             711\n"
     ]
    },
    {
     "name": "stderr",
     "output_type": "stream",
     "text": [
      " 95%|█████████▍| 18/19 [00:05<00:00,  3.23it/s]\n"
     ]
    },
    {
     "name": "stdout",
     "output_type": "stream",
     "text": [
      "31:30 |    85 |     1.000e-03 |   169.3242 |        182.3488 |       7.9067 |            8.0927 |       0.1755 |             711\n"
     ]
    },
    {
     "name": "stderr",
     "output_type": "stream",
     "text": [
      " 95%|█████████▍| 18/19 [00:05<00:00,  3.17it/s]\n"
     ]
    },
    {
     "name": "stdout",
     "output_type": "stream",
     "text": [
      "31:37 |    86 |     1.000e-03 |   168.1550 |        202.8040 |      20.4961 |            8.3063 |       0.1786 |             711\n"
     ]
    },
    {
     "name": "stderr",
     "output_type": "stream",
     "text": [
      " 95%|█████████▍| 18/19 [00:05<00:00,  3.12it/s]\n"
     ]
    },
    {
     "name": "stdout",
     "output_type": "stream",
     "text": [
      "31:44 |    87 |     1.000e-03 |   174.7590 |        202.3891 |      20.8615 |            8.1688 |       0.1803 |             711\n"
     ]
    },
    {
     "name": "stderr",
     "output_type": "stream",
     "text": [
      " 95%|█████████▍| 18/19 [00:05<00:00,  3.28it/s]\n"
     ]
    },
    {
     "name": "stdout",
     "output_type": "stream",
     "text": [
      "31:50 |    88 |     1.000e-03 |   169.9054 |        197.0521 |      19.6228 |            7.9991 |       0.1726 |             711\n"
     ]
    },
    {
     "name": "stderr",
     "output_type": "stream",
     "text": [
      " 95%|█████████▍| 18/19 [00:05<00:00,  3.26it/s]\n"
     ]
    },
    {
     "name": "stdout",
     "output_type": "stream",
     "text": [
      "31:57 |    89 |     1.000e-03 |   163.3289 |        176.9894 |       7.9329 |            7.8951 |       0.1746 |             711\n"
     ]
    },
    {
     "name": "stderr",
     "output_type": "stream",
     "text": [
      " 95%|█████████▍| 18/19 [00:05<00:00,  3.17it/s]\n"
     ]
    },
    {
     "name": "stdout",
     "output_type": "stream",
     "text": [
      "32:03 |    90 |     1.000e-03 |   167.7745 |        185.1783 |      13.2090 |            7.9423 |       0.1746 |             711\n"
     ]
    },
    {
     "name": "stderr",
     "output_type": "stream",
     "text": [
      " 95%|█████████▍| 18/19 [00:05<00:00,  3.29it/s]\n"
     ]
    },
    {
     "name": "stdout",
     "output_type": "stream",
     "text": [
      "32:10 |    91 |     1.000e-03 |   164.6616 |        187.2942 |      16.7957 |            8.0157 |       0.1765 |             711\n"
     ]
    },
    {
     "name": "stderr",
     "output_type": "stream",
     "text": [
      " 95%|█████████▍| 18/19 [00:06<00:00,  2.67it/s]\n"
     ]
    },
    {
     "name": "stdout",
     "output_type": "stream",
     "text": [
      "32:18 |    92 |     1.000e-03 |   158.2052 |        187.3951 |      18.5078 |            7.8338 |       0.1761 |             711\n"
     ]
    },
    {
     "name": "stderr",
     "output_type": "stream",
     "text": [
      " 95%|█████████▍| 18/19 [00:06<00:00,  2.68it/s]\n"
     ]
    },
    {
     "name": "stdout",
     "output_type": "stream",
     "text": [
      "32:26 |    93 |     1.000e-03 |   157.5127 |        175.0456 |       8.1327 |            7.8584 |       0.1717 |             711\n"
     ]
    },
    {
     "name": "stderr",
     "output_type": "stream",
     "text": [
      " 95%|█████████▍| 18/19 [00:06<00:00,  2.86it/s]\n"
     ]
    },
    {
     "name": "stdout",
     "output_type": "stream",
     "text": [
      "32:34 |    94 |     1.000e-03 |   158.5721 |        171.8670 |       7.5543 |            7.7523 |       0.1732 |             711\n"
     ]
    },
    {
     "name": "stderr",
     "output_type": "stream",
     "text": [
      " 95%|█████████▍| 18/19 [00:05<00:00,  3.38it/s]\n"
     ]
    },
    {
     "name": "stdout",
     "output_type": "stream",
     "text": [
      "32:40 |    95 |     1.000e-03 |   153.6702 |        188.7555 |      19.1020 |            7.9831 |       0.1749 |             711\n"
     ]
    },
    {
     "name": "stderr",
     "output_type": "stream",
     "text": [
      " 95%|█████████▍| 18/19 [00:05<00:00,  3.31it/s]\n"
     ]
    },
    {
     "name": "stdout",
     "output_type": "stream",
     "text": [
      "32:46 |    96 |     1.000e-03 |   160.4509 |        174.2492 |      11.1183 |            7.7735 |       0.1737 |             711\n"
     ]
    },
    {
     "name": "stderr",
     "output_type": "stream",
     "text": [
      " 95%|█████████▍| 18/19 [00:05<00:00,  3.24it/s]\n"
     ]
    },
    {
     "name": "stdout",
     "output_type": "stream",
     "text": [
      "32:53 |    97 |     1.000e-03 |   157.4204 |        172.4166 |      11.8598 |            7.6299 |       0.1708 |             711\n"
     ]
    },
    {
     "name": "stderr",
     "output_type": "stream",
     "text": [
      " 95%|█████████▍| 18/19 [00:05<00:00,  3.04it/s]\n"
     ]
    },
    {
     "name": "stdout",
     "output_type": "stream",
     "text": [
      "33:00 |    98 |     1.000e-03 |   152.6952 |        173.2326 |      12.1543 |            7.7656 |       0.1714 |             711\n"
     ]
    },
    {
     "name": "stderr",
     "output_type": "stream",
     "text": [
      " 95%|█████████▍| 18/19 [00:05<00:00,  3.15it/s]\n"
     ]
    },
    {
     "name": "stdout",
     "output_type": "stream",
     "text": [
      "33:07 |    99 |     1.000e-03 |   156.9200 |        180.0972 |      15.7941 |            7.7093 |       0.1705 |             711\n"
     ]
    },
    {
     "name": "stderr",
     "output_type": "stream",
     "text": [
      " 95%|█████████▍| 18/19 [00:06<00:00,  2.98it/s]\n"
     ]
    },
    {
     "name": "stdout",
     "output_type": "stream",
     "text": [
      "33:15 |   100 |     1.000e-03 |   156.5606 |        187.8447 |      19.2462 |            7.8515 |       0.1690 |             711\n"
     ]
    }
   ],
   "source": [
    "T.train(device=DEVICE, n_epochs=100)"
   ]
  },
  {
   "cell_type": "code",
   "execution_count": null,
   "metadata": {},
   "outputs": [],
   "source": []
  },
  {
   "cell_type": "markdown",
   "metadata": {},
   "source": [
    "Check that the energies are invariant to rotations and that the gradients are equivariant:"
   ]
  },
  {
   "cell_type": "code",
   "execution_count": 11,
   "metadata": {
    "scrolled": true
   },
   "outputs": [
    {
     "name": "stdout",
     "output_type": "stream",
     "text": [
      "tensor([[ 1.0000e+00, -3.5184e-09,  3.8562e-09],\n",
      "        [-3.5184e-09,  1.0000e+00, -6.5784e-09],\n",
      "        [ 3.8562e-09, -6.5784e-09,  1.0000e+00]])\n"
     ]
    }
   ],
   "source": [
    "from numpy import cos, sin\n",
    "\n",
    "def make_rot(alpha, beta, gamma):\n",
    "    \"\"\"\n",
    "    Make a general rotation matrix from angles alpha, beta and gamma\n",
    "    \"\"\"\n",
    "    r = torch.Tensor([\n",
    "        [cos(alpha) * cos(beta),\n",
    "        cos(alpha) * sin(beta) * sin(gamma) - sin(alpha) * cos(gamma),\n",
    "        cos(alpha) * sin(beta) * cos(gamma) + sin(alpha) * sin(gamma)],\n",
    "        [sin(alpha) * cos(beta),\n",
    "        sin(alpha) * sin(beta) * sin(gamma) + cos(alpha) * cos(gamma),\n",
    "        sin(alpha) * sin(beta) * cos(gamma) - cos(alpha) * sin(gamma)],\n",
    "        [-sin(beta), cos(beta) * sin(gamma), cos(beta) * cos(gamma)]\n",
    "    ])\n",
    "    \n",
    "    return r\n",
    "    \n",
    "# test that an arbitrary rotation matrix is unitary\n",
    "r = make_rot(0.2, 0.1, 0.4)\n",
    "print(torch.matmul(r, r.transpose(0, 1)))"
   ]
  },
  {
   "cell_type": "code",
   "execution_count": 12,
   "metadata": {},
   "outputs": [
    {
     "name": "stdout",
     "output_type": "stream",
     "text": [
      "1241.40881348 \n",
      "tensor([[  710.9423,   359.5585,  -117.4354],\n",
      "        [  627.0032,  -165.5855,   405.8718],\n",
      "        [ -217.0658,  -290.8688,   213.7953],\n",
      "        [ -234.9543,  -130.6013,     6.4727],\n",
      "        [  505.3467,   275.2521,  -147.7967],\n",
      "        [ -301.5699,   427.2592,   100.2343],\n",
      "        [  235.2897,  -284.0379,  -107.9657],\n",
      "        [   53.2566,   -47.5545,   -13.3834],\n",
      "        [  -29.5525,   585.3354,   560.4719],\n",
      "        [ -467.3248,   481.6915,    -9.8199],\n",
      "        [ -405.8721,   -54.4634,  -414.2979],\n",
      "        [   94.1670,  -302.1670,  -186.6136],\n",
      "        [ -179.1122,    10.7669,   -71.2613],\n",
      "        [  136.7193,   439.7649,  -472.3322],\n",
      "        [-1101.9514,  -626.0581,   250.3531],\n",
      "        [ -964.5591,   379.1678,  -845.3572],\n",
      "        [  443.9524,   510.7859,  -378.3442],\n",
      "        [ -335.7176,   293.1823,    12.7395],\n",
      "        [  112.5598,  -933.6988,  -834.7921],\n",
      "        [  826.8015,  -897.9033,   -90.3370],\n",
      "        [  659.3970,   111.3473,   700.6472],\n",
      "        [ -251.8690,   678.7802,   416.4153],\n",
      "        [  499.7205,    51.9298,   175.0419],\n",
      "        [ -415.6073,  -871.8831,   847.6935]], grad_fn=<StackBackward>)\n",
      "1241.40954590 \n",
      "tensor([[  710.9416,   359.5594,  -117.4367],\n",
      "        [  627.0013,  -165.5845,   405.8701],\n",
      "        [ -217.0659,  -290.8684,   213.7946],\n",
      "        [ -234.9532,  -130.6008,     6.4726],\n",
      "        [  505.3473,   275.2520,  -147.7961],\n",
      "        [ -301.5707,   427.2598,   100.2337],\n",
      "        [  235.2896,  -284.0389,  -107.9666],\n",
      "        [   53.2567,   -47.5548,   -13.3838],\n",
      "        [  -29.5528,   585.3361,   560.4724],\n",
      "        [ -467.3262,   481.6917,    -9.8206],\n",
      "        [ -405.8713,   -54.4644,  -414.2979],\n",
      "        [   94.1663,  -302.1668,  -186.6145],\n",
      "        [ -179.1112,    10.7677,   -71.2617],\n",
      "        [  136.7186,   439.7636,  -472.3307],\n",
      "        [-1101.9525,  -626.0587,   250.3531],\n",
      "        [ -964.5585,   379.1669,  -845.3563],\n",
      "        [  443.9527,   510.7858,  -378.3440],\n",
      "        [ -335.7171,   293.1826,    12.7403],\n",
      "        [  112.5593,  -933.6985,  -834.7925],\n",
      "        [  826.8030,  -897.9038,   -90.3364],\n",
      "        [  659.3974,   111.3474,   700.6475],\n",
      "        [ -251.8688,   678.7812,   416.4167],\n",
      "        [  499.7212,    51.9292,   175.0429],\n",
      "        [ -415.6070,  -871.8832,   847.6942]], grad_fn=<StackBackward>)\n"
     ]
    }
   ],
   "source": [
    "# get results for a geometry and its rotated version\n",
    "\n",
    "nxyz = train.props['nxyz'][0]\n",
    "rots = [torch.diag(torch.ones(3)), make_rot(1.4, -0.5, 1.3)]\n",
    "original_model.to(DEVICE)\n",
    "\n",
    "for rot in rots:\n",
    "    xyz = torch.stack([torch.matmul(rot, i[1:]) for i in nxyz])\n",
    "    z = nxyz[:, 0].reshape(-1, 1)\n",
    "    this_nxyz = torch.cat([z, xyz], dim=-1).to(DEVICE)\n",
    "    batch = {\"nxyz\": this_nxyz,\n",
    "             \"num_atoms\": torch.LongTensor([len(nxyz)]).to(DEVICE),\n",
    "             \"nbr_list\": train.props['nbr_list'][0].to(DEVICE),\n",
    "             \"mol_nbrs\": train.props['mol_nbrs'][0].to(DEVICE),\n",
    "             \"charge\": train.props['charge'][0].to(DEVICE),\n",
    "             \"spin\": train.props['spin'][0].to(DEVICE)}\n",
    "    \n",
    "    results = original_model(batch)\n",
    "    energy = results['energy_0'].cpu()\n",
    "    \n",
    "    # energies should be invariant\n",
    "    print(\"%.8f \" % energy.item())\n",
    "    \n",
    "    energy_grad = results['energy_0_grad'].cpu()\n",
    "        \n",
    "    # applying R^T to the gradients should give the same value for\n",
    "    # all geometries\n",
    "    rot_grad = torch.stack([torch.matmul(rot.transpose(0, 1), \n",
    "                                         i) for i in energy_grad])\n",
    "    print(rot_grad)"
   ]
  },
  {
   "cell_type": "code",
   "execution_count": 14,
   "metadata": {
    "scrolled": false
   },
   "outputs": [
    {
     "name": "stderr",
     "output_type": "stream",
     "text": [
      "100%|██████████| 7/7 [00:00<00:00,  7.62it/s]\n"
     ]
    },
    {
     "data": {
      "image/png": "[encoded data removed]",
      "text/plain": [
       "<Figure size 864x864 with 4 Axes>"
      ]
     },
     "metadata": {
      "needs_background": "light"
     },
     "output_type": "display_data"
    }
   ],
   "source": [
    "best_model = load_model(OUTDIR)\n",
    "results, targets, val_loss = evaluate(best_model,\n",
    "                                      test_loader, \n",
    "                                      loss_fn, \n",
    "                                      device=DEVICE)\n",
    "\n",
    "units = {\n",
    "    'energy_0': 'kcal/mol',\n",
    "    'energy_0_grad': r'kcal/mol/$\\AA$',\n",
    "    'dipole_0': '$e \\AA$'\n",
    "}\n",
    "\n",
    "fig, ax_figs = plt.subplots(2, 2, figsize=(12, 12))\n",
    "all_units = list(units.keys())\n",
    "\n",
    "for i, ax_fig in enumerate(ax_figs):\n",
    "    \n",
    "    keys = all_units[i * 2: i * 2 + 2]\n",
    "    \n",
    "    for ax, key in zip(ax_fig, keys):\n",
    "        pred_fn = torch.cat\n",
    "        targ_fn = torch.cat\n",
    "        if all([len(i.shape) == 0 for i in results[key]]):\n",
    "            pred_fn = torch.stack\n",
    "        if all([len(i.shape) == 0 for i in targets[key]]):\n",
    "            targ_fn = torch.stack\n",
    "\n",
    "        pred = pred_fn(results[key], dim=0).view(-1).detach().cpu().numpy()\n",
    "        targ = targ_fn(targets[key], dim=0).view(-1).detach().cpu().numpy()\n",
    "\n",
    "        mae = abs(pred-targ).mean()\n",
    "\n",
    "        ax.hexbin(pred, targ, mincnt=1)\n",
    "\n",
    "        lim_min = min(np.min(pred), np.min(targ)) * 1.1\n",
    "        lim_max = max(np.max(pred), np.max(targ)) * 1.1\n",
    "\n",
    "        ax.set_xlim(lim_min, lim_max)\n",
    "        ax.set_ylim(lim_min, lim_max)\n",
    "        ax.set_aspect('equal')\n",
    "\n",
    "        ax.plot((lim_min, lim_max),\n",
    "                (lim_min, lim_max),\n",
    "                color='#000000',\n",
    "                zorder=-1,\n",
    "                linewidth=0.5)\n",
    "\n",
    "        ax.set_title(key.upper(), fontsize=14)\n",
    "        ax.set_xlabel('predicted %s (%s)' % (key, units[key]), fontsize=12)\n",
    "        ax.set_ylabel('target %s (%s)' % (key, units[key]), fontsize=12)\n",
    "        ax.text(0.1, 0.9, 'MAE: %.2f %s' % (mae, units[key]), \n",
    "               transform=ax.transAxes, fontsize=14)\n",
    "    \n",
    "\n",
    "plt.show()"
   ]
  },
  {
   "cell_type": "markdown",
   "metadata": {},
   "source": [
    "\n"
   ]
  }
 ],
 "metadata": {
  "kernelspec": {
   "display_name": "Python [conda env:nff_new]",
   "language": "python",
   "name": "nff_new"
  },
  "language_info": {
   "codemirror_mode": {
    "name": "ipython",
    "version": 3
   },
   "file_extension": ".py",
   "mimetype": "text/x-python",
   "name": "python",
   "nbconvert_exporter": "python",
   "pygments_lexer": "ipython3",
   "version": "3.7.7"
  }
 },
 "nbformat": 4,
 "nbformat_minor": 2
}
