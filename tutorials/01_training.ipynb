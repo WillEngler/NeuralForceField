{
 "cells": [
  {
   "cell_type": "markdown",
   "metadata": {},
   "source": [
    "# Introduction to Neural Force Field"
   ]
  },
  {
   "cell_type": "markdown",
   "metadata": {},
   "source": [
    "This Jupyter Notebook contains an introduction to the `nff` package. Here, we will load the modules and functions from `nff` to import a dataset, create dataloaders, create a model, train it and check the test stats. We will do most of it manually to illustrate the usage of the API. However, scripts such as the one provided in the `scripts/` folder already automate most of this process."
   ]
  },
  {
   "cell_type": "markdown",
   "metadata": {},
   "source": [
    "After the `nff` package has been installed, we start by importing all dependencies for this tutorial."
   ]
  },
  {
   "cell_type": "code",
   "execution_count": 1,
   "metadata": {},
   "outputs": [],
   "source": [
    "import os\n",
    "import shutil\n",
    "import numpy as np\n",
    "import matplotlib.pyplot as plt\n",
    "\n",
    "import torch\n",
    "from torch.optim import Adam\n",
    "from torch.utils.data import DataLoader\n",
    "\n",
    "from nff.data import Dataset, split_train_validation_test, collate_dicts\n",
    "from nff.train import Trainer, get_trainer, get_model, loss, hooks, metrics, evaluate"
   ]
  },
  {
   "cell_type": "markdown",
   "metadata": {},
   "source": [
    "It might also be useful setting the GPU you want to use:"
   ]
  },
  {
   "cell_type": "code",
   "execution_count": 2,
   "metadata": {},
   "outputs": [],
   "source": [
    "DEVICE = 1\n",
    "OUTDIR = './sandbox'\n",
    "\n",
    "if os.path.exists(OUTDIR):\n",
    "    newpath = os.path.join(os.path.dirname(OUTDIR), 'backup')\n",
    "    if os.path.exists(newpath):\n",
    "        shutil.rmtree(newpath)\n",
    "        \n",
    "    shutil.move(OUTDIR, newpath)"
   ]
  },
  {
   "cell_type": "markdown",
   "metadata": {},
   "source": [
    "## Loading the relevant data"
   ]
  },
  {
   "cell_type": "markdown",
   "metadata": {},
   "source": [
    "As we usually work with the database, we can pack their information in a class `Dataset`, which is a subclass of `torch.utils.data.Dataset`. It basically wraps information on the atomic numbers, energies, forces and SMILES strings for each one of the geometries. In this example, we already have a pre-compiled `Dataset` to be used. We start by loading this file and creating three slices of the original dataset"
   ]
  },
  {
   "cell_type": "code",
   "execution_count": 3,
   "metadata": {},
   "outputs": [],
   "source": [
    "dataset = Dataset.from_file('./data/dataset.pth.tar')"
   ]
  },
  {
   "cell_type": "code",
   "execution_count": 4,
   "metadata": {},
   "outputs": [],
   "source": [
    "train, val, test = split_train_validation_test(dataset, val_size=0.2, test_size=0.2)"
   ]
  },
  {
   "cell_type": "markdown",
   "metadata": {},
   "source": [
    "The `nff` code interfaces with the `graphbuilder` module through a git submodule in the repository. `graphbuilder` provides methods to create batches of graphs. In `nff`, we interface that through a custom dataloader called `\n",
    "GraphLoader`. Here, we create one loader for each one of the slices."
   ]
  },
  {
   "cell_type": "code",
   "execution_count": 5,
   "metadata": {},
   "outputs": [],
   "source": [
    "train_loader = DataLoader(train, batch_size=50, collate_fn=collate_dicts)\n",
    "val_loader = DataLoader(val, batch_size=50, collate_fn=collate_dicts)\n",
    "test_loader = DataLoader(test, batch_size=50, collate_fn=collate_dicts)"
   ]
  },
  {
   "cell_type": "markdown",
   "metadata": {},
   "source": [
    "## Creating a model"
   ]
  },
  {
   "cell_type": "markdown",
   "metadata": {},
   "source": [
    "`nff` is based on SchNet. It parameterizes interatomic interactions in molecules and materials through a series of convolution layers with continuous filters. Here, we are going to create a simple model using the hyperparameters given on `params`:"
   ]
  },
  {
   "cell_type": "code",
   "execution_count": 6,
   "metadata": {},
   "outputs": [],
   "source": [
    "params = {\n",
    "    'n_atom_basis': 256,\n",
    "    'n_filters': 256,\n",
    "    'n_gaussians': 32,\n",
    "    'n_convolutions': 4,\n",
    "    'cutoff': 5.0,\n",
    "    'trainable_gauss': True\n",
    "}\n",
    "\n",
    "model = get_model(params)"
   ]
  },
  {
   "cell_type": "markdown",
   "metadata": {},
   "source": [
    "## Creating a trainer"
   ]
  },
  {
   "cell_type": "markdown",
   "metadata": {},
   "source": [
    "To train our model with the data provided, we have to create a loss function. The easiest way to do that is through the `build_mse_loss` builder. Its argument `rho` is a parameter that will multiply the mean square error (MSE) of the force components before summing it with the MSE of the energy."
   ]
  },
  {
   "cell_type": "code",
   "execution_count": 7,
   "metadata": {},
   "outputs": [],
   "source": [
    "loss_fn = loss.build_mse_loss(loss_coef={'energy': 0.01, 'energy_grad': 1})"
   ]
  },
  {
   "cell_type": "markdown",
   "metadata": {},
   "source": [
    "We should also select an optimizer for our recently created model:"
   ]
  },
  {
   "cell_type": "code",
   "execution_count": 8,
   "metadata": {},
   "outputs": [],
   "source": [
    "trainable_params = filter(lambda p: p.requires_grad, model.parameters())\n",
    "optimizer = Adam(trainable_params, lr=3e-4)"
   ]
  },
  {
   "cell_type": "markdown",
   "metadata": {},
   "source": [
    "### Metrics and hooks"
   ]
  },
  {
   "cell_type": "markdown",
   "metadata": {},
   "source": [
    "Metrics and hooks allow the customization of the training process. Instead of tweaking directly the code or having to resort to countless flags, we can create submodules (or add-ons) to monitor the progress of the training or customize it."
   ]
  },
  {
   "cell_type": "markdown",
   "metadata": {},
   "source": [
    "If we want to monitor the progress of our training, say by looking at the mean absolute error (MAE) of energies and forces, we can simply create metrics to observe them:"
   ]
  },
  {
   "cell_type": "code",
   "execution_count": 9,
   "metadata": {},
   "outputs": [],
   "source": [
    "train_metrics = [\n",
    "    metrics.MeanAbsoluteError('energy'),\n",
    "    metrics.MeanAbsoluteError('energy_grad')\n",
    "]"
   ]
  },
  {
   "cell_type": "markdown",
   "metadata": {},
   "source": [
    "Furthermore, if we want to customize how our training procedure is done, we can use hooks which can interrupt or change the train automatically.\n",
    "\n",
    "In our case, we are adding hooks to:\n",
    "* Stop the training procedure after 100 epochs;\n",
    "* Log the training on a machine-readable CSV file under the directory `./sandbox`;\n",
    "* Print the progress on the screen with custom formatting; and\n",
    "* Setup a scheduler for the learning rate."
   ]
  },
  {
   "cell_type": "code",
   "execution_count": 10,
   "metadata": {},
   "outputs": [],
   "source": [
    "train_hooks = [\n",
    "    hooks.MaxEpochHook(100),\n",
    "    hooks.CSVHook(\n",
    "        OUTDIR,\n",
    "        metrics=train_metrics,\n",
    "    ),\n",
    "    hooks.PrintingHook(\n",
    "        OUTDIR,\n",
    "        metrics=train_metrics,\n",
    "        separator = ' | ',\n",
    "        time_strf='%M:%S'\n",
    "    ),\n",
    "    hooks.ReduceLROnPlateauHook(\n",
    "        optimizer=optimizer,\n",
    "        patience=30,\n",
    "        factor=0.5,\n",
    "        min_lr=1e-7,\n",
    "        window_length=1,\n",
    "        stop_after_min=True\n",
    "    )\n",
    "]"
   ]
  },
  {
   "cell_type": "markdown",
   "metadata": {},
   "source": [
    "### Trainer wrapper"
   ]
  },
  {
   "cell_type": "markdown",
   "metadata": {},
   "source": [
    "A `Trainer` in the `nff` package is a wrapper to train a model. It automatically creates checkpoints, as well as trains and validates a given model. It also allow further training by loading checkpoints from existing paths, making the training procedure more flexible. Its functionalities can be extended by the hooks we created above. To create a trainer, we have to execute the following command:"
   ]
  },
  {
   "cell_type": "code",
   "execution_count": 11,
   "metadata": {},
   "outputs": [],
   "source": [
    "T = Trainer(\n",
    "    model_path=OUTDIR,\n",
    "    model=model,\n",
    "    loss_fn=loss_fn,\n",
    "    optimizer=optimizer,\n",
    "    train_loader=train_loader,\n",
    "    validation_loader=val_loader,\n",
    "    checkpoint_interval=1,\n",
    "    hooks=train_hooks\n",
    ")"
   ]
  },
  {
   "cell_type": "markdown",
   "metadata": {},
   "source": [
    "Now we can finally train the model using the method `train` from the `Trainer`:"
   ]
  },
  {
   "cell_type": "code",
   "execution_count": 12,
   "metadata": {
    "scrolled": false
   },
   "outputs": [
    {
     "name": "stdout",
     "output_type": "stream",
     "text": [
      " Time | Epoch | Learning rate | Train loss | Validation loss | MAE_energy | MAE_energy_grad | GPU Memory (MB)\n",
      "27:28 |     1 |     3.000e-04 |   680.2480 |        556.6262 |    39.0683 |         16.8788 |               0\n",
      "27:29 |     2 |     3.000e-04 |   398.2209 |        245.1523 |     4.9932 |         11.2754 |               0\n",
      "27:30 |     3 |     3.000e-04 |   199.6925 |        148.3606 |    11.8490 |          8.8759 |               0\n",
      "27:30 |     4 |     3.000e-04 |   122.2748 |         98.6605 |     5.7657 |          7.4034 |               0\n",
      "27:31 |     5 |     3.000e-04 |    82.3493 |         69.5494 |     3.9783 |          6.1024 |               0\n",
      "27:32 |     6 |     3.000e-04 |    61.3706 |         54.9179 |     1.7293 |          5.3559 |               0\n",
      "27:32 |     7 |     3.000e-04 |    49.0293 |         47.2684 |     3.8829 |          4.9433 |               0\n",
      "27:33 |     8 |     3.000e-04 |    42.1816 |         43.4701 |     5.1131 |          4.7101 |               0\n",
      "27:34 |     9 |     3.000e-04 |    36.7119 |         38.5353 |     3.1622 |          4.4520 |               0\n",
      "27:35 |    10 |     3.000e-04 |    32.8801 |         33.7997 |     1.5912 |          4.1274 |               0\n",
      "27:35 |    11 |     3.000e-04 |    29.6519 |         31.7442 |     1.5340 |          4.0191 |               0\n",
      "27:36 |    12 |     3.000e-04 |    27.3786 |         29.8393 |     1.5269 |          3.9122 |               0\n",
      "27:37 |    13 |     3.000e-04 |    25.4827 |         27.8787 |     1.3081 |          3.7790 |               0\n",
      "27:38 |    14 |     3.000e-04 |    23.7493 |         25.9828 |     1.1639 |          3.6358 |               0\n",
      "27:38 |    15 |     3.000e-04 |    22.1356 |         24.2898 |     1.1743 |          3.5047 |               0\n",
      "27:39 |    16 |     3.000e-04 |    20.7140 |         22.8808 |     1.2852 |          3.4027 |               0\n",
      "27:40 |    17 |     3.000e-04 |    19.5133 |         21.8125 |     1.3036 |          3.3348 |               0\n",
      "27:40 |    18 |     3.000e-04 |    18.5178 |         21.0905 |     1.1611 |          3.2996 |               0\n",
      "27:41 |    19 |     3.000e-04 |    17.6722 |         20.7173 |     1.0033 |          3.2955 |               0\n",
      "27:42 |    20 |     3.000e-04 |    16.9149 |         20.2498 |     0.9752 |          3.2649 |               0\n",
      "27:42 |    21 |     3.000e-04 |    16.2226 |         18.3131 |     1.1311 |          3.0474 |               0\n",
      "27:43 |    22 |     3.000e-04 |    15.3428 |         17.1782 |     2.1761 |          2.8890 |               0\n",
      "27:44 |    23 |     3.000e-04 |    14.0588 |         16.4594 |     1.9834 |          2.8283 |               0\n",
      "27:45 |    24 |     3.000e-04 |    13.1015 |         15.8814 |     1.2869 |          2.7952 |               0\n",
      "27:45 |    25 |     3.000e-04 |    12.6968 |         16.1434 |     0.9857 |          2.8412 |               0\n",
      "27:46 |    26 |     3.000e-04 |    12.6384 |         16.3620 |     0.9447 |          2.8802 |               0\n",
      "27:47 |    27 |     3.000e-04 |    12.4176 |         16.0436 |     0.9145 |          2.8533 |               0\n",
      "27:47 |    28 |     3.000e-04 |    12.1699 |         14.3568 |     1.0084 |          2.6454 |               0\n",
      "27:48 |    29 |     3.000e-04 |    11.7450 |         13.6299 |     1.9723 |          2.5654 |               0\n",
      "27:49 |    30 |     3.000e-04 |    10.6690 |         13.1524 |     2.1427 |          2.5043 |               0\n",
      "27:50 |    31 |     3.000e-04 |     9.8107 |         12.3845 |     1.5785 |          2.4184 |               0\n",
      "27:50 |    32 |     3.000e-04 |     9.5812 |         12.5918 |     1.0717 |          2.4427 |               0\n",
      "27:51 |    33 |     3.000e-04 |     9.6894 |         13.0043 |     0.9139 |          2.4883 |               0\n",
      "27:52 |    34 |     3.000e-04 |     9.7132 |         13.1771 |     0.8669 |          2.5178 |               0\n",
      "27:52 |    35 |     3.000e-04 |     9.4691 |         12.8145 |     0.7699 |          2.4912 |               0\n",
      "27:53 |    36 |     3.000e-04 |     9.1259 |         12.1260 |     0.7312 |          2.4262 |               0\n",
      "27:54 |    37 |     3.000e-04 |     8.9390 |         11.4319 |     0.7352 |          2.3449 |               0\n",
      "27:54 |    38 |     3.000e-04 |     9.0242 |         10.5959 |     0.7263 |          2.2273 |               0\n",
      "27:55 |    39 |     3.000e-04 |     8.8905 |         11.7114 |     1.6138 |          2.4470 |               0\n",
      "27:56 |    40 |     3.000e-04 |     8.0861 |         10.2917 |     1.0243 |          2.2043 |               0\n",
      "27:57 |    41 |     3.000e-04 |     7.5536 |          9.9788 |     0.6166 |          2.1737 |               0\n",
      "27:57 |    42 |     3.000e-04 |     7.4343 |          9.6115 |     0.6311 |          2.1136 |               0\n",
      "27:58 |    43 |     3.000e-04 |     7.2864 |          9.4917 |     0.6864 |          2.1142 |               0\n",
      "27:59 |    44 |     3.000e-04 |     6.9773 |          9.3324 |     0.7444 |          2.1040 |               0\n",
      "27:59 |    45 |     3.000e-04 |     6.7327 |          9.0688 |     0.6797 |          2.0650 |               0\n",
      "28:00 |    46 |     3.000e-04 |     6.5954 |          8.9104 |     0.6146 |          2.0403 |               0\n",
      "28:01 |    47 |     3.000e-04 |     6.5349 |          8.8088 |     0.6170 |          2.0264 |               0\n",
      "28:02 |    48 |     3.000e-04 |     6.4981 |          8.7603 |     0.6240 |          2.0267 |               0\n",
      "28:02 |    49 |     3.000e-04 |     6.4249 |          8.7834 |     0.6249 |          2.0479 |               0\n",
      "28:03 |    50 |     3.000e-04 |     6.2931 |          8.7798 |     0.6390 |          2.0645 |               0\n"
     ]
    }
   ],
   "source": [
    "T.train(device=DEVICE, n_epochs=50)"
   ]
  },
  {
   "cell_type": "markdown",
   "metadata": {},
   "source": [
    "## Evaluating the model on the test set"
   ]
  },
  {
   "cell_type": "markdown",
   "metadata": {},
   "source": [
    "Now we have a brand new model trained and validated. We can use the best model from this training to evaluate its performance on the test set. `results` contains the predictions of properties for the whole test dataset. `targets` contains the ground truth for such data. `test_loss` is the loss, calculated with the same function used during the training part"
   ]
  },
  {
   "cell_type": "code",
   "execution_count": 13,
   "metadata": {},
   "outputs": [],
   "source": [
    "results, targets, val_loss = evaluate(T.get_best_model(), test_loader, loss_fn, device=DEVICE)"
   ]
  },
  {
   "cell_type": "markdown",
   "metadata": {},
   "source": [
    "Finally, we can plot our results to observe how well is our model performing:"
   ]
  },
  {
   "cell_type": "code",
   "execution_count": 14,
   "metadata": {},
   "outputs": [
    {
     "data": {
      "image/png": "[encoded data removed]",
      "text/plain": [
       "<Figure size 864x432 with 2 Axes>"
      ]
     },
     "metadata": {
      "needs_background": "light"
     },
     "output_type": "display_data"
    }
   ],
   "source": [
    "units = {\n",
    "    'energy_grad': r'kcal/mol/$\\AA$',\n",
    "    'energy': 'kcal/mol'\n",
    "}\n",
    "\n",
    "fig, ax_fig = plt.subplots(1, 2, figsize=(12, 6))\n",
    "\n",
    "for ax, key in zip(ax_fig, units.keys()):\n",
    "    pred = torch.cat(results[key], dim=0).detach().cpu().numpy()\n",
    "    targ = torch.cat(targets[key], dim=0).detach().cpu().numpy()\n",
    "    \n",
    "    ax.scatter(pred, targ, color='#ff7f0e', alpha=0.3)\n",
    "    \n",
    "    lim_min = min(np.min(pred), np.min(targ)) * 1.1\n",
    "    lim_max = max(np.max(pred), np.max(targ)) * 1.1\n",
    "    \n",
    "    ax.set_xlim(lim_min, lim_max)\n",
    "    ax.set_ylim(lim_min, lim_max)\n",
    "    ax.set_aspect('equal')\n",
    "    \n",
    "    ax.plot((lim_min, lim_max),\n",
    "            (lim_min, lim_max),\n",
    "            color='#000000',\n",
    "            zorder=-1,\n",
    "            linewidth=0.5)\n",
    "    \n",
    "    ax.set_title(key.upper(), fontsize=14)\n",
    "    ax.set_xlabel('predicted %s (%s)' % (key, units[key]), fontsize=12)\n",
    "    ax.set_ylabel('target %s (%s)' % (key, units[key]), fontsize=12)\n",
    "\n",
    "plt.show()"
   ]
  },
  {
   "cell_type": "markdown",
   "metadata": {},
   "source": [
    "The model is performing quite well."
   ]
  }
 ],
 "metadata": {
  "kernelspec": {
   "display_name": "Python [conda env:nff]",
   "language": "python",
   "name": "conda-env-nff-py"
  },
  "language_info": {
   "codemirror_mode": {
    "name": "ipython",
    "version": 3
   },
   "file_extension": ".py",
   "mimetype": "text/x-python",
   "name": "python",
   "nbconvert_exporter": "python",
   "pygments_lexer": "ipython3",
   "version": "3.7.3"
  }
 },
 "nbformat": 4,
 "nbformat_minor": 2
}
