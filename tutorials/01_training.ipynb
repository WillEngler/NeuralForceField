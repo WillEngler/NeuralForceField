{
 "cells": [
  {
   "cell_type": "markdown",
   "metadata": {},
   "source": [
    "# Introduction to Neural Force Field"
   ]
  },
  {
   "cell_type": "markdown",
   "metadata": {},
   "source": [
    "This Jupyter Notebook contains an introduction to the `nff` package. Here, we will load the modules and functions from `nff` to import a dataset, create dataloaders, create a model, train it and check the test stats. We will do most of it manually to illustrate the usage of the API. However, scripts such as the one provided in the `scripts/` folder already automate most of this process."
   ]
  },
  {
   "cell_type": "markdown",
   "metadata": {},
   "source": [
    "After the `nff` package has been installed, we start by importing all dependencies for this tutorial."
   ]
  },
  {
   "cell_type": "code",
   "execution_count": 1,
   "metadata": {},
   "outputs": [],
   "source": [
    "%load_ext autoreload\n",
    "%autoreload 2"
   ]
  },
  {
   "cell_type": "code",
   "execution_count": 2,
   "metadata": {},
   "outputs": [],
   "source": [
    "import os\n",
    "import shutil\n",
    "import numpy as np\n",
    "import matplotlib.pyplot as plt\n",
    "\n",
    "import torch\n",
    "from torch.optim import Adam\n",
    "from torch.utils.data import DataLoader\n",
    "\n",
    "from nff.data import Dataset, split_train_validation_test, collate_dicts, to_tensor\n",
    "from nff.train import Trainer, get_trainer, get_model, load_model, loss, hooks, metrics, evaluate"
   ]
  },
  {
   "cell_type": "markdown",
   "metadata": {},
   "source": [
    "It might also be useful setting the GPU you want to use:"
   ]
  },
  {
   "cell_type": "code",
   "execution_count": 3,
   "metadata": {},
   "outputs": [],
   "source": [
    "# DEVICE = 1\n",
    "# OUTDIR = './sandbox'\n",
    "# model = load_model(OUTDIR)"
   ]
  },
  {
   "cell_type": "code",
   "execution_count": 4,
   "metadata": {},
   "outputs": [],
   "source": [
    "DEVICE = 1\n",
    "OUTDIR = './sandbox'\n",
    "\n",
    "if os.path.exists(OUTDIR):\n",
    "    newpath = os.path.join(os.path.dirname(OUTDIR), 'backup')\n",
    "    if os.path.exists(newpath):\n",
    "        shutil.rmtree(newpath)\n",
    "        \n",
    "    shutil.move(OUTDIR, newpath)"
   ]
  },
  {
   "cell_type": "markdown",
   "metadata": {},
   "source": [
    "## Loading the relevant data"
   ]
  },
  {
   "cell_type": "markdown",
   "metadata": {},
   "source": [
    "As we usually work with the database, we can pack their information in a class `Dataset`, which is a subclass of `torch.utils.data.Dataset`. It basically wraps information on the atomic numbers, energies, forces and SMILES strings for each one of the geometries. In this example, we already have a pre-compiled `Dataset` to be used. We start by loading this file and creating three slices of the original dataset"
   ]
  },
  {
   "cell_type": "code",
   "execution_count": 5,
   "metadata": {},
   "outputs": [],
   "source": [
    "dataset = Dataset.from_file('./data/dataset.pth.tar')"
   ]
  },
  {
   "cell_type": "code",
   "execution_count": 6,
   "metadata": {},
   "outputs": [],
   "source": [
    "train, val, test = split_train_validation_test(dataset, val_size=0.2, test_size=0.2)"
   ]
  },
  {
   "cell_type": "markdown",
   "metadata": {},
   "source": [
    "The `nff` code interfaces with the `graphbuilder` module through a git submodule in the repository. `graphbuilder` provides methods to create batches of graphs. In `nff`, we interface that through a custom dataloader called `\n",
    "GraphLoader`. Here, we create one loader for each one of the slices."
   ]
  },
  {
   "cell_type": "code",
   "execution_count": 7,
   "metadata": {},
   "outputs": [],
   "source": [
    "train_loader = DataLoader(train, batch_size=50, collate_fn=collate_dicts)\n",
    "val_loader = DataLoader(val, batch_size=50, collate_fn=collate_dicts)\n",
    "test_loader = DataLoader(test, batch_size=50, collate_fn=collate_dicts)"
   ]
  },
  {
   "cell_type": "markdown",
   "metadata": {},
   "source": [
    "## Creating a model"
   ]
  },
  {
   "cell_type": "markdown",
   "metadata": {},
   "source": [
    "`nff` is based on SchNet. It parameterizes interatomic interactions in molecules and materials through a series of convolution layers with continuous filters. Here, we are going to create a simple model using the hyperparameters given on `params`:"
   ]
  },
  {
   "cell_type": "code",
   "execution_count": 8,
   "metadata": {},
   "outputs": [],
   "source": [
    "params = {\n",
    "    'n_atom_basis': 256,\n",
    "    'n_filters': 256,\n",
    "    'n_gaussians': 32,\n",
    "    'n_convolutions': 4,\n",
    "    'cutoff': 5.0,\n",
    "    'trainable_gauss': True\n",
    "}\n",
    "\n",
    "model = get_model(params)"
   ]
  },
  {
   "cell_type": "markdown",
   "metadata": {},
   "source": [
    "## Creating a trainer"
   ]
  },
  {
   "cell_type": "markdown",
   "metadata": {},
   "source": [
    "To train our model with the data provided, we have to create a loss function. The easiest way to do that is through the `build_mse_loss` builder. Its argument `rho` is a parameter that will multiply the mean square error (MSE) of the force components before summing it with the MSE of the energy."
   ]
  },
  {
   "cell_type": "code",
   "execution_count": 9,
   "metadata": {},
   "outputs": [],
   "source": [
    "loss_fn = loss.build_mse_loss(loss_coef={'energy': 0.01, 'energy_grad': 1})"
   ]
  },
  {
   "cell_type": "markdown",
   "metadata": {},
   "source": [
    "We should also select an optimizer for our recently created model:"
   ]
  },
  {
   "cell_type": "code",
   "execution_count": 10,
   "metadata": {},
   "outputs": [],
   "source": [
    "trainable_params = filter(lambda p: p.requires_grad, model.parameters())\n",
    "optimizer = Adam(trainable_params, lr=3e-4)"
   ]
  },
  {
   "cell_type": "markdown",
   "metadata": {},
   "source": [
    "### Metrics and hooks"
   ]
  },
  {
   "cell_type": "markdown",
   "metadata": {},
   "source": [
    "Metrics and hooks allow the customization of the training process. Instead of tweaking directly the code or having to resort to countless flags, we can create submodules (or add-ons) to monitor the progress of the training or customize it."
   ]
  },
  {
   "cell_type": "markdown",
   "metadata": {},
   "source": [
    "If we want to monitor the progress of our training, say by looking at the mean absolute error (MAE) of energies and forces, we can simply create metrics to observe them:"
   ]
  },
  {
   "cell_type": "code",
   "execution_count": 11,
   "metadata": {},
   "outputs": [],
   "source": [
    "train_metrics = [\n",
    "    metrics.MeanAbsoluteError('energy'),\n",
    "    metrics.MeanAbsoluteError('energy_grad')\n",
    "]"
   ]
  },
  {
   "cell_type": "markdown",
   "metadata": {},
   "source": [
    "Furthermore, if we want to customize how our training procedure is done, we can use hooks which can interrupt or change the train automatically.\n",
    "\n",
    "In our case, we are adding hooks to:\n",
    "* Stop the training procedure after 100 epochs;\n",
    "* Log the training on a machine-readable CSV file under the directory `./sandbox`;\n",
    "* Print the progress on the screen with custom formatting; and\n",
    "* Setup a scheduler for the learning rate."
   ]
  },
  {
   "cell_type": "code",
   "execution_count": 12,
   "metadata": {},
   "outputs": [],
   "source": [
    "train_hooks = [\n",
    "    hooks.MaxEpochHook(100),\n",
    "    hooks.CSVHook(\n",
    "        OUTDIR,\n",
    "        metrics=train_metrics,\n",
    "    ),\n",
    "    hooks.PrintingHook(\n",
    "        OUTDIR,\n",
    "        metrics=train_metrics,\n",
    "        separator = ' | ',\n",
    "        time_strf='%M:%S'\n",
    "    ),\n",
    "    hooks.ReduceLROnPlateauHook(\n",
    "        optimizer=optimizer,\n",
    "        patience=30,\n",
    "        factor=0.5,\n",
    "        min_lr=1e-7,\n",
    "        window_length=1,\n",
    "        stop_after_min=True\n",
    "    )\n",
    "]"
   ]
  },
  {
   "cell_type": "markdown",
   "metadata": {},
   "source": [
    "### Trainer wrapper"
   ]
  },
  {
   "cell_type": "markdown",
   "metadata": {},
   "source": [
    "A `Trainer` in the `nff` package is a wrapper to train a model. It automatically creates checkpoints, as well as trains and validates a given model. It also allow further training by loading checkpoints from existing paths, making the training procedure more flexible. Its functionalities can be extended by the hooks we created above. To create a trainer, we have to execute the following command:"
   ]
  },
  {
   "cell_type": "code",
   "execution_count": 13,
   "metadata": {},
   "outputs": [],
   "source": [
    "T = Trainer(\n",
    "    model_path=OUTDIR,\n",
    "    model=model,\n",
    "    loss_fn=loss_fn,\n",
    "    optimizer=optimizer,\n",
    "    train_loader=train_loader,\n",
    "    validation_loader=val_loader,\n",
    "    checkpoint_interval=1,\n",
    "    hooks=train_hooks\n",
    ")"
   ]
  },
  {
   "cell_type": "markdown",
   "metadata": {},
   "source": [
    "Now we can finally train the model using the method `train` from the `Trainer`:"
   ]
  },
  {
   "cell_type": "code",
   "execution_count": 14,
   "metadata": {
    "scrolled": false
   },
   "outputs": [
    {
     "name": "stdout",
     "output_type": "stream",
     "text": [
      " Time | Epoch | Learning rate | Train loss | Validation loss | MAE_energy | MAE_energy_grad | GPU Memory (MB)\n",
      "32:49 |     1 |     3.000e-04 |     0.0000 |        528.3526 |    30.5469 |         16.5480 |               0\n",
      "32:50 |     2 |     3.000e-04 |     0.0000 |        215.5591 |     9.4271 |         10.4393 |               0\n",
      "32:51 |     3 |     3.000e-04 |     0.0000 |        130.7813 |     4.3843 |          8.4433 |               0\n",
      "32:51 |     4 |     3.000e-04 |     0.0000 |         85.3683 |     6.8012 |          6.7526 |               0\n",
      "32:52 |     5 |     3.000e-04 |     0.0000 |         65.9893 |     1.6035 |          5.8132 |               0\n",
      "32:52 |     6 |     3.000e-04 |     0.0000 |         53.2144 |     1.8388 |          5.1564 |               0\n",
      "32:53 |     7 |     3.000e-04 |     0.0000 |         44.3560 |     1.2504 |          4.6939 |               0\n",
      "32:53 |     8 |     3.000e-04 |     0.0000 |         40.3270 |     2.2546 |          4.5610 |               0\n",
      "32:54 |     9 |     3.000e-04 |     0.0000 |         37.3636 |     2.9548 |          4.4468 |               0\n",
      "32:55 |    10 |     3.000e-04 |     0.0000 |         34.5769 |     2.9899 |          4.2803 |               0\n",
      "32:55 |    11 |     3.000e-04 |     0.0000 |         31.2584 |     2.1152 |          4.0188 |               0\n",
      "32:56 |    12 |     3.000e-04 |     0.0000 |         28.4210 |     1.1007 |          3.7605 |               0\n",
      "32:56 |    13 |     3.000e-04 |     0.0000 |         27.0434 |     1.0701 |          3.6526 |               0\n",
      "32:57 |    14 |     3.000e-04 |     0.0000 |         25.3649 |     1.1473 |          3.5384 |               0\n",
      "32:58 |    15 |     3.000e-04 |     0.0000 |         24.0889 |     1.3275 |          3.4463 |               0\n",
      "32:58 |    16 |     3.000e-04 |     0.0000 |         22.7303 |     1.5260 |          3.3433 |               0\n",
      "32:59 |    17 |     3.000e-04 |     0.0000 |         21.3908 |     1.2307 |          3.2337 |               0\n",
      "32:59 |    18 |     3.000e-04 |     0.0000 |         20.2568 |     0.8996 |          3.1365 |               0\n",
      "33:00 |    19 |     3.000e-04 |     0.0000 |         19.4704 |     1.3739 |          3.0686 |               0\n",
      "33:00 |    20 |     3.000e-04 |     0.0000 |         18.8662 |     1.8540 |          3.0160 |               0\n",
      "33:01 |    21 |     3.000e-04 |     0.0000 |         18.2708 |     1.7154 |          2.9707 |               0\n",
      "33:02 |    22 |     3.000e-04 |     0.0000 |         17.6624 |     1.2469 |          2.9251 |               0\n",
      "33:02 |    23 |     3.000e-04 |     0.0000 |         16.8304 |     1.0085 |          2.8495 |               0\n",
      "33:03 |    24 |     3.000e-04 |     0.0000 |         15.8478 |     1.0421 |          2.7597 |               0\n",
      "33:03 |    25 |     3.000e-04 |     0.0000 |         15.1872 |     0.9651 |          2.7093 |               0\n",
      "33:04 |    26 |     3.000e-04 |     0.0000 |         14.5408 |     0.7554 |          2.6413 |               0\n",
      "33:05 |    27 |     3.000e-04 |     0.0000 |         13.8456 |     0.7971 |          2.5659 |               0\n",
      "33:05 |    28 |     3.000e-04 |     0.0000 |         13.1071 |     0.7965 |          2.4896 |               0\n",
      "33:06 |    29 |     3.000e-04 |     0.0000 |         12.4632 |     0.7771 |          2.4245 |               0\n",
      "33:06 |    30 |     3.000e-04 |     0.0000 |         12.1177 |     0.8501 |          2.3927 |               0\n",
      "33:07 |    31 |     3.000e-04 |     0.0000 |         12.2663 |     0.9894 |          2.4241 |               0\n",
      "33:07 |    32 |     3.000e-04 |     0.0000 |         12.7128 |     0.9599 |          2.5040 |               0\n",
      "33:08 |    33 |     3.000e-04 |     0.0000 |         11.6225 |     0.6899 |          2.3697 |               0\n",
      "33:08 |    34 |     3.000e-04 |     0.0000 |         10.5729 |     1.2570 |          2.2425 |               0\n",
      "33:09 |    35 |     3.000e-04 |     0.0000 |         10.5185 |     1.4563 |          2.2577 |               0\n",
      "33:10 |    36 |     3.000e-04 |     0.0000 |          9.9183 |     1.0497 |          2.1619 |               0\n",
      "33:10 |    37 |     3.000e-04 |     0.0000 |          9.7388 |     0.7206 |          2.1374 |               0\n",
      "33:11 |    38 |     3.000e-04 |     0.0000 |          9.8013 |     0.6481 |          2.1530 |               0\n",
      "33:11 |    39 |     3.000e-04 |     0.0000 |         10.0206 |     0.6503 |          2.1899 |               0\n",
      "33:12 |    40 |     3.000e-04 |     0.0000 |         10.2496 |     0.6986 |          2.2276 |               0\n",
      "33:12 |    41 |     3.000e-04 |     0.0000 |         10.0459 |     0.8527 |          2.2162 |               0\n",
      "33:13 |    42 |     3.000e-04 |     0.0000 |          9.4236 |     1.0453 |          2.1432 |               0\n",
      "33:14 |    43 |     3.000e-04 |     0.0000 |          9.1073 |     1.0837 |          2.0935 |               0\n",
      "33:14 |    44 |     3.000e-04 |     0.0000 |          8.8870 |     0.9431 |          2.0545 |               0\n",
      "33:15 |    45 |     3.000e-04 |     0.0000 |          8.5459 |     0.7719 |          2.0048 |               0\n",
      "33:15 |    46 |     3.000e-04 |     0.0000 |          8.3006 |     0.6714 |          1.9715 |               0\n",
      "33:16 |    47 |     3.000e-04 |     0.0000 |          8.1665 |     0.6362 |          1.9535 |               0\n",
      "33:17 |    48 |     3.000e-04 |     0.0000 |          8.0857 |     0.6323 |          1.9401 |               0\n",
      "33:17 |    49 |     3.000e-04 |     0.0000 |          8.1136 |     0.6762 |          1.9389 |               0\n",
      "33:18 |    50 |     3.000e-04 |     0.0000 |          8.4501 |     0.8448 |          1.9793 |               0\n"
     ]
    }
   ],
   "source": [
    "T.train(device=DEVICE, n_epochs=50)"
   ]
  },
  {
   "cell_type": "markdown",
   "metadata": {},
   "source": [
    "## Evaluating the model on the test set"
   ]
  },
  {
   "cell_type": "markdown",
   "metadata": {},
   "source": [
    "Now we have a brand new model trained and validated. We can use the best model from this training to evaluate its performance on the test set. `results` contains the predictions of properties for the whole test dataset. `targets` contains the ground truth for such data. `test_loss` is the loss, calculated with the same function used during the training part"
   ]
  },
  {
   "cell_type": "code",
   "execution_count": 15,
   "metadata": {},
   "outputs": [],
   "source": [
    "results, targets, val_loss = evaluate(T.get_best_model(), test_loader, loss_fn, device=DEVICE)"
   ]
  },
  {
   "cell_type": "code",
   "execution_count": 16,
   "metadata": {},
   "outputs": [
    {
     "data": {
      "text/plain": [
       "torch.Size([200])"
      ]
     },
     "execution_count": 16,
     "metadata": {},
     "output_type": "execute_result"
    }
   ],
   "source": [
    "to_tensor(results['energy'], stack=True).shape"
   ]
  },
  {
   "cell_type": "markdown",
   "metadata": {},
   "source": [
    "Finally, we can plot our results to observe how well is our model performing:"
   ]
  },
  {
   "cell_type": "code",
   "execution_count": 18,
   "metadata": {},
   "outputs": [
    {
     "data": {
      "image/png": "[encoded data removed]",
      "text/plain": [
       "<Figure size 864x432 with 2 Axes>"
      ]
     },
     "metadata": {
      "needs_background": "light"
     },
     "output_type": "display_data"
    }
   ],
   "source": [
    "units = {\n",
    "    'energy_grad': r'kcal/mol/$\\AA$',\n",
    "    'energy': 'kcal/mol'\n",
    "}\n",
    "\n",
    "fig, ax_fig = plt.subplots(1, 2, figsize=(12, 6))\n",
    "\n",
    "for ax, key in zip(ax_fig, units.keys()):\n",
    "    pred = torch.stack(results[key], dim=0).view(-1).detach().cpu().numpy()\n",
    "    targ = torch.stack(targets[key], dim=0).view(-1).detach().cpu().numpy()\n",
    "    \n",
    "    ax.scatter(pred, targ, color='#ff7f0e', alpha=0.3)\n",
    "    \n",
    "    lim_min = min(np.min(pred), np.min(targ)) * 1.1\n",
    "    lim_max = max(np.max(pred), np.max(targ)) * 1.1\n",
    "    \n",
    "    ax.set_xlim(lim_min, lim_max)\n",
    "    ax.set_ylim(lim_min, lim_max)\n",
    "    ax.set_aspect('equal')\n",
    "    \n",
    "    ax.plot((lim_min, lim_max),\n",
    "            (lim_min, lim_max),\n",
    "            color='#000000',\n",
    "            zorder=-1,\n",
    "            linewidth=0.5)\n",
    "    \n",
    "    ax.set_title(key.upper(), fontsize=14)\n",
    "    ax.set_xlabel('predicted %s (%s)' % (key, units[key]), fontsize=12)\n",
    "    ax.set_ylabel('target %s (%s)' % (key, units[key]), fontsize=12)\n",
    "\n",
    "plt.show()"
   ]
  },
  {
   "cell_type": "markdown",
   "metadata": {},
   "source": [
    "The model is performing quite well."
   ]
  }
 ],
 "metadata": {
  "kernelspec": {
   "display_name": "Python [conda env:nff] *",
   "language": "python",
   "name": "conda-env-nff-py"
  },
  "language_info": {
   "codemirror_mode": {
    "name": "ipython",
    "version": 3
   },
   "file_extension": ".py",
   "mimetype": "text/x-python",
   "name": "python",
   "nbconvert_exporter": "python",
   "pygments_lexer": "ipython3",
   "version": "3.7.3"
  }
 },
 "nbformat": 4,
 "nbformat_minor": 2
}
