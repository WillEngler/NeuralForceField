{
 "cells": [
  {
   "cell_type": "markdown",
   "metadata": {},
   "source": [
    "# Introduction to Neural Force Field"
   ]
  },
  {
   "cell_type": "markdown",
   "metadata": {},
   "source": [
    "This Jupyter Notebook contains an introduction to the `nff` package. Here, we will load the modules and functions from `nff` to import a dataset, create dataloaders, create a model, train it and check the test stats. We will do most of it manually to illustrate the usage of the API. However, scripts such as the one provided in the `scripts/` folder already automate most of this process."
   ]
  },
  {
   "cell_type": "markdown",
   "metadata": {},
   "source": [
    "After the `nff` package has been installed, we start by importing all dependencies for this tutorial."
   ]
  },
  {
   "cell_type": "code",
   "execution_count": 1,
   "metadata": {},
   "outputs": [],
   "source": [
    "%load_ext autoreload\n",
    "%autoreload 2"
   ]
  },
  {
   "cell_type": "code",
   "execution_count": 2,
   "metadata": {},
   "outputs": [],
   "source": [
    "import os\n",
    "import shutil\n",
    "import numpy as np\n",
    "import matplotlib.pyplot as plt\n",
    "\n",
    "import torch\n",
    "from torch.optim import Adam\n",
    "from torch.utils.data import DataLoader\n",
    "\n",
    "from nff.data import Dataset, split_train_validation_test, collate_dicts, to_tensor\n",
    "from nff.train import Trainer, get_trainer, get_model, load_model, loss, hooks, metrics, evaluate"
   ]
  },
  {
   "cell_type": "markdown",
   "metadata": {},
   "source": [
    "It might also be useful setting the GPU you want to use:"
   ]
  },
  {
   "cell_type": "code",
   "execution_count": 3,
   "metadata": {},
   "outputs": [],
   "source": [
    "# DEVICE = 1\n",
    "# OUTDIR = './sandbox'\n",
    "# model = load_model(OUTDIR)"
   ]
  },
  {
   "cell_type": "code",
   "execution_count": 4,
   "metadata": {},
   "outputs": [],
   "source": [
    "DEVICE = 3\n",
    "OUTDIR = './sandbox'\n",
    "\n",
    "if os.path.exists(OUTDIR):\n",
    "    newpath = os.path.join(os.path.dirname(OUTDIR), 'backup')\n",
    "    if os.path.exists(newpath):\n",
    "        shutil.rmtree(newpath)\n",
    "        \n",
    "    shutil.move(OUTDIR, newpath)"
   ]
  },
  {
   "cell_type": "markdown",
   "metadata": {},
   "source": [
    "## Loading the relevant data"
   ]
  },
  {
   "cell_type": "markdown",
   "metadata": {},
   "source": [
    "As we usually work with the database, we can pack their information in a class `Dataset`, which is a subclass of `torch.utils.data.Dataset`. It basically wraps information on the atomic numbers, energies, forces and SMILES strings for each one of the geometries. In this example, we already have a pre-compiled `Dataset` to be used. We start by loading this file and creating three slices of the original dataset"
   ]
  },
  {
   "cell_type": "code",
   "execution_count": 5,
   "metadata": {},
   "outputs": [],
   "source": [
    "dataset = Dataset.from_file('./data/dataset.pth.tar')"
   ]
  },
  {
   "cell_type": "code",
   "execution_count": 6,
   "metadata": {},
   "outputs": [],
   "source": [
    "train, val, test = split_train_validation_test(dataset, val_size=0.2, test_size=0.2)"
   ]
  },
  {
   "cell_type": "markdown",
   "metadata": {},
   "source": [
    "The `nff` code interfaces with the `graphbuilder` module through a git submodule in the repository. `graphbuilder` provides methods to create batches of graphs. In `nff`, we interface that through a custom dataloader called `\n",
    "GraphLoader`. Here, we create one loader for each one of the slices."
   ]
  },
  {
   "cell_type": "code",
   "execution_count": 7,
   "metadata": {},
   "outputs": [],
   "source": [
    "train_loader = DataLoader(train, batch_size=50, collate_fn=collate_dicts)\n",
    "val_loader = DataLoader(val, batch_size=50, collate_fn=collate_dicts)\n",
    "test_loader = DataLoader(test, batch_size=50, collate_fn=collate_dicts)"
   ]
  },
  {
   "cell_type": "markdown",
   "metadata": {},
   "source": [
    "## Creating a model"
   ]
  },
  {
   "cell_type": "markdown",
   "metadata": {},
   "source": [
    "`nff` is based on SchNet. It parameterizes interatomic interactions in molecules and materials through a series of convolution layers with continuous filters. Here, we are going to create a simple model using the hyperparameters given on `params`:"
   ]
  },
  {
   "cell_type": "code",
   "execution_count": 8,
   "metadata": {},
   "outputs": [],
   "source": [
    "params = {\n",
    "    'n_atom_basis': 256,\n",
    "    'n_filters': 256,\n",
    "    'n_gaussians': 32,\n",
    "    'n_convolutions': 4,\n",
    "    'cutoff': 5.0,\n",
    "    'trainable_gauss': True,\n",
    "    'dropout_rate': 0.2\n",
    "}\n",
    "\n",
    "model = get_model(params)"
   ]
  },
  {
   "cell_type": "markdown",
   "metadata": {},
   "source": [
    "## Creating a trainer"
   ]
  },
  {
   "cell_type": "markdown",
   "metadata": {},
   "source": [
    "To train our model with the data provided, we have to create a loss function. The easiest way to do that is through the `build_mse_loss` builder. Its argument `rho` is a parameter that will multiply the mean square error (MSE) of the force components before summing it with the MSE of the energy."
   ]
  },
  {
   "cell_type": "code",
   "execution_count": 9,
   "metadata": {},
   "outputs": [],
   "source": [
    "loss_fn = loss.build_mse_loss(loss_coef={'energy': 0.01, 'energy_grad': 1})"
   ]
  },
  {
   "cell_type": "markdown",
   "metadata": {},
   "source": [
    "We should also select an optimizer for our recently created model:"
   ]
  },
  {
   "cell_type": "code",
   "execution_count": 10,
   "metadata": {},
   "outputs": [],
   "source": [
    "trainable_params = filter(lambda p: p.requires_grad, model.parameters())\n",
    "optimizer = Adam(trainable_params, lr=3e-4)"
   ]
  },
  {
   "cell_type": "markdown",
   "metadata": {},
   "source": [
    "### Metrics and hooks"
   ]
  },
  {
   "cell_type": "markdown",
   "metadata": {},
   "source": [
    "Metrics and hooks allow the customization of the training process. Instead of tweaking directly the code or having to resort to countless flags, we can create submodules (or add-ons) to monitor the progress of the training or customize it."
   ]
  },
  {
   "cell_type": "markdown",
   "metadata": {},
   "source": [
    "If we want to monitor the progress of our training, say by looking at the mean absolute error (MAE) of energies and forces, we can simply create metrics to observe them:"
   ]
  },
  {
   "cell_type": "code",
   "execution_count": 11,
   "metadata": {},
   "outputs": [],
   "source": [
    "train_metrics = [\n",
    "    metrics.MeanAbsoluteError('energy'),\n",
    "    metrics.MeanAbsoluteError('energy_grad')\n",
    "]"
   ]
  },
  {
   "cell_type": "markdown",
   "metadata": {},
   "source": [
    "Furthermore, if we want to customize how our training procedure is done, we can use hooks which can interrupt or change the train automatically.\n",
    "\n",
    "In our case, we are adding hooks to:\n",
    "* Stop the training procedure after 100 epochs;\n",
    "* Log the training on a machine-readable CSV file under the directory `./sandbox`;\n",
    "* Print the progress on the screen with custom formatting; and\n",
    "* Setup a scheduler for the learning rate."
   ]
  },
  {
   "cell_type": "code",
   "execution_count": 12,
   "metadata": {},
   "outputs": [],
   "source": [
    "train_hooks = [\n",
    "    hooks.MaxEpochHook(100),\n",
    "    hooks.CSVHook(\n",
    "        OUTDIR,\n",
    "        metrics=train_metrics,\n",
    "    ),\n",
    "    hooks.PrintingHook(\n",
    "        OUTDIR,\n",
    "        metrics=train_metrics,\n",
    "        separator = ' | ',\n",
    "        time_strf='%M:%S'\n",
    "    ),\n",
    "    hooks.ReduceLROnPlateauHook(\n",
    "        optimizer=optimizer,\n",
    "        patience=30,\n",
    "        factor=0.5,\n",
    "        min_lr=1e-7,\n",
    "        window_length=1,\n",
    "        stop_after_min=True\n",
    "    )\n",
    "]"
   ]
  },
  {
   "cell_type": "markdown",
   "metadata": {},
   "source": [
    "### Trainer wrapper"
   ]
  },
  {
   "cell_type": "markdown",
   "metadata": {},
   "source": [
    "A `Trainer` in the `nff` package is a wrapper to train a model. It automatically creates checkpoints, as well as trains and validates a given model. It also allow further training by loading checkpoints from existing paths, making the training procedure more flexible. Its functionalities can be extended by the hooks we created above. To create a trainer, we have to execute the following command:"
   ]
  },
  {
   "cell_type": "code",
   "execution_count": 13,
   "metadata": {},
   "outputs": [],
   "source": [
    "T = Trainer(\n",
    "    model_path=OUTDIR,\n",
    "    model=model,\n",
    "    loss_fn=loss_fn,\n",
    "    optimizer=optimizer,\n",
    "    train_loader=train_loader,\n",
    "    validation_loader=val_loader,\n",
    "    checkpoint_interval=1,\n",
    "    hooks=train_hooks\n",
    ")"
   ]
  },
  {
   "cell_type": "markdown",
   "metadata": {},
   "source": [
    "Now we can finally train the model using the method `train` from the `Trainer`:"
   ]
  },
  {
   "cell_type": "code",
   "execution_count": null,
   "metadata": {
    "scrolled": false
   },
   "outputs": [
    {
     "name": "stdout",
     "output_type": "stream",
     "text": [
      " Time | Epoch | Learning rate | Train loss | Validation loss | MAE_energy | MAE_energy_grad | GPU Memory (MB)\n",
      "42:24 |     1 |     3.000e-04 |   694.5841 |        550.2737 |    33.6474 |         16.9254 |               0\n",
      "42:25 |     2 |     3.000e-04 |   419.1025 |        250.8228 |     8.5208 |         10.9604 |               0\n",
      "42:25 |     3 |     3.000e-04 |   239.3561 |        164.0325 |    11.6842 |          8.8647 |               0\n",
      "42:26 |     4 |     3.000e-04 |   181.9217 |        127.1500 |     3.3175 |          7.8053 |               0\n",
      "42:27 |     5 |     3.000e-04 |   149.2587 |        113.1185 |     2.9386 |          7.3891 |               0\n",
      "42:28 |     6 |     3.000e-04 |   133.0274 |         89.1826 |     2.9400 |          6.5809 |               0\n",
      "42:28 |     7 |     3.000e-04 |   118.9666 |         78.1516 |     1.9893 |          6.1774 |               0\n",
      "42:29 |     8 |     3.000e-04 |   110.7379 |         78.0839 |     1.8254 |          6.1570 |               0\n",
      "42:30 |     9 |     3.000e-04 |   100.3491 |         67.8629 |     2.2936 |          5.7025 |               0\n",
      "42:30 |    10 |     3.000e-04 |    97.5868 |         62.2696 |     1.7967 |          5.4766 |               0\n",
      "42:31 |    11 |     3.000e-04 |    92.0549 |         57.1057 |     1.6523 |          5.2576 |               0\n",
      "42:32 |    12 |     3.000e-04 |    84.8588 |         53.1916 |     1.7796 |          5.0400 |               0\n",
      "42:33 |    13 |     3.000e-04 |    82.4377 |         51.6654 |     1.4458 |          4.9677 |               0\n",
      "42:33 |    14 |     3.000e-04 |    77.4145 |         52.4413 |     1.3846 |          5.0655 |               0\n",
      "42:34 |    15 |     3.000e-04 |    78.0662 |         49.5165 |     2.5437 |          4.8714 |               0\n",
      "42:35 |    16 |     3.000e-04 |    73.6054 |         44.4621 |     1.7309 |          4.6071 |               0\n",
      "42:35 |    17 |     3.000e-04 |    72.2405 |         43.2457 |     1.1967 |          4.5709 |               0\n",
      "42:36 |    18 |     3.000e-04 |    68.7750 |         40.0678 |     1.1595 |          4.3741 |               0\n",
      "42:37 |    19 |     3.000e-04 |    66.8938 |         38.1369 |     1.7011 |          4.3154 |               0\n",
      "42:37 |    20 |     3.000e-04 |    64.9952 |         40.1443 |     1.3369 |          4.4343 |               0\n",
      "42:38 |    21 |     3.000e-04 |    62.5673 |         36.1623 |     1.1252 |          4.1684 |               0\n",
      "42:39 |    22 |     3.000e-04 |    61.8525 |         41.5204 |     1.1947 |          4.4468 |               0\n",
      "42:39 |    23 |     3.000e-04 |    59.0184 |         35.7358 |     1.6726 |          4.1535 |               0\n",
      "42:40 |    24 |     3.000e-04 |    60.7089 |         35.0236 |     1.0422 |          4.0681 |               0\n",
      "42:41 |    25 |     3.000e-04 |    58.1548 |         35.5577 |     1.9383 |          4.0957 |               0\n",
      "42:42 |    26 |     3.000e-04 |    58.6591 |         33.1897 |     1.4534 |          4.0213 |               0\n",
      "42:42 |    27 |     3.000e-04 |    56.3413 |         31.5451 |     1.3455 |          3.8952 |               0\n",
      "42:43 |    28 |     3.000e-04 |    54.4480 |         33.7771 |     1.1341 |          4.0464 |               0\n",
      "42:44 |    29 |     3.000e-04 |    55.3693 |         31.9363 |     1.4680 |          3.8750 |               0\n",
      "42:44 |    30 |     3.000e-04 |    52.6083 |         30.7986 |     1.3907 |          3.8062 |               0\n",
      "42:45 |    31 |     3.000e-04 |    53.8068 |         29.7084 |     1.6085 |          3.7347 |               0\n",
      "42:46 |    32 |     3.000e-04 |    51.1844 |         28.5175 |     1.0670 |          3.6638 |               0\n",
      "42:46 |    33 |     3.000e-04 |    51.1916 |         28.4010 |     1.7179 |          3.6814 |               0\n",
      "42:47 |    34 |     3.000e-04 |    49.3650 |         29.1960 |     1.6137 |          3.7238 |               0\n",
      "42:48 |    35 |     3.000e-04 |    49.2550 |         28.1460 |     1.0128 |          3.6702 |               0\n",
      "42:49 |    36 |     3.000e-04 |    49.6695 |         28.3999 |     2.0420 |          3.6855 |               0\n",
      "42:49 |    37 |     3.000e-04 |    47.5601 |         26.5799 |     1.0002 |          3.5442 |               0\n",
      "42:50 |    38 |     3.000e-04 |    46.4927 |         27.2170 |     1.1856 |          3.5885 |               0\n",
      "42:51 |    39 |     3.000e-04 |    45.0049 |         25.4255 |     1.9306 |          3.5139 |               0\n",
      "42:51 |    40 |     3.000e-04 |    47.3256 |         25.2702 |     0.9476 |          3.4375 |               0\n",
      "42:52 |    41 |     3.000e-04 |    45.3653 |         25.6377 |     1.2991 |          3.5579 |               0\n",
      "42:53 |    42 |     3.000e-04 |    44.4651 |         24.3516 |     1.4451 |          3.4028 |               0\n",
      "42:54 |    43 |     3.000e-04 |    43.7285 |         24.2957 |     1.1861 |          3.3847 |               0\n",
      "42:54 |    44 |     3.000e-04 |    43.9674 |         23.6488 |     1.7310 |          3.3527 |               0\n",
      "42:55 |    45 |     3.000e-04 |    43.4788 |         22.8130 |     0.9141 |          3.3260 |               0\n",
      "42:56 |    46 |     3.000e-04 |    42.4560 |         23.4857 |     0.9220 |          3.3574 |               0\n",
      "42:56 |    47 |     3.000e-04 |    42.2219 |         22.0305 |     1.1271 |          3.2042 |               0\n",
      "42:57 |    48 |     3.000e-04 |    41.2453 |         23.3866 |     1.6562 |          3.2982 |               0\n",
      "42:58 |    49 |     3.000e-04 |    42.1028 |         21.6772 |     1.3774 |          3.1776 |               0\n",
      "42:58 |    50 |     3.000e-04 |    40.9491 |         21.5110 |     1.5403 |          3.1726 |               0\n",
      "42:59 |    51 |     3.000e-04 |    39.8216 |         21.9736 |     1.6527 |          3.2384 |               0\n",
      "43:00 |    52 |     3.000e-04 |    39.8631 |         22.4677 |     1.3000 |          3.3016 |               0\n",
      "43:01 |    53 |     3.000e-04 |    39.0340 |         21.1830 |     1.7793 |          3.1299 |               0\n",
      "43:01 |    54 |     3.000e-04 |    38.9634 |         22.5278 |     0.9757 |          3.2569 |               0\n",
      "43:02 |    55 |     3.000e-04 |    38.0435 |         20.2151 |     1.1025 |          3.0655 |               0\n",
      "43:03 |    56 |     3.000e-04 |    38.0457 |         19.2420 |     2.2599 |          2.9930 |               0\n",
      "43:03 |    57 |     3.000e-04 |    37.5887 |         20.1438 |     1.2468 |          3.0778 |               0\n",
      "43:04 |    58 |     3.000e-04 |    38.2952 |         19.3002 |     2.2145 |          2.9919 |               0\n",
      "43:05 |    59 |     3.000e-04 |    37.5673 |         18.7793 |     1.1416 |          2.9894 |               0\n",
      "43:05 |    60 |     3.000e-04 |    36.8458 |         18.7290 |     1.0956 |          2.9837 |               0\n",
      "43:06 |    61 |     3.000e-04 |    36.0893 |         18.3260 |     2.2549 |          2.9311 |               0\n",
      "43:07 |    62 |     3.000e-04 |    35.9028 |         18.3703 |     1.4361 |          2.9314 |               0\n",
      "43:07 |    63 |     3.000e-04 |    36.7165 |         17.9731 |     0.7712 |          2.9063 |               0\n",
      "43:08 |    64 |     3.000e-04 |    35.1819 |         17.7780 |     1.5375 |          2.9309 |               0\n",
      "43:09 |    65 |     3.000e-04 |    35.3362 |         18.2803 |     1.6534 |          2.8884 |               0\n",
      "43:09 |    66 |     3.000e-04 |    35.4089 |         17.6930 |     1.8456 |          2.9529 |               0\n",
      "43:10 |    67 |     3.000e-04 |    34.6483 |         18.0175 |     1.6683 |          2.8771 |               0\n",
      "43:11 |    68 |     3.000e-04 |    34.5513 |         16.8461 |     1.6723 |          2.7893 |               0\n",
      "43:12 |    69 |     3.000e-04 |    34.4458 |         17.7283 |     1.6408 |          2.9267 |               0\n",
      "43:12 |    70 |     3.000e-04 |    32.9326 |         17.8754 |     1.0265 |          2.9077 |               0\n",
      "43:13 |    71 |     3.000e-04 |    32.8378 |         16.2743 |     1.0273 |          2.7422 |               0\n",
      "43:14 |    72 |     3.000e-04 |    33.4036 |         16.2513 |     1.8918 |          2.7604 |               0\n",
      "43:14 |    73 |     3.000e-04 |    32.9484 |         16.3812 |     1.2713 |          2.7408 |               0\n",
      "43:15 |    74 |     3.000e-04 |    32.6912 |         15.9290 |     1.1717 |          2.7156 |               0\n"
     ]
    },
    {
     "name": "stdout",
     "output_type": "stream",
     "text": [
      "43:16 |    75 |     3.000e-04 |    32.5891 |         15.6849 |     2.4337 |          2.6957 |               0\n",
      "43:16 |    76 |     3.000e-04 |    32.9026 |         15.1856 |     1.3910 |          2.6708 |               0\n",
      "43:17 |    77 |     3.000e-04 |    31.7630 |         15.7897 |     2.2687 |          2.7055 |               0\n",
      "43:18 |    78 |     3.000e-04 |    31.8078 |         16.4521 |     1.9441 |          2.8541 |               0\n",
      "43:19 |    79 |     3.000e-04 |    31.4417 |         15.8320 |     0.9838 |          2.7402 |               0\n",
      "43:19 |    80 |     3.000e-04 |    32.2854 |         15.3436 |     1.3607 |          2.6754 |               0\n",
      "43:20 |    81 |     3.000e-04 |    31.1684 |         14.4742 |     1.5928 |          2.6260 |               0\n",
      "43:21 |    82 |     3.000e-04 |    30.6195 |         15.1402 |     1.8039 |          2.6702 |               0\n",
      "43:21 |    83 |     3.000e-04 |    30.5309 |         14.9356 |     1.4000 |          2.6675 |               0\n",
      "43:22 |    84 |     3.000e-04 |    30.1314 |         14.5630 |     1.7572 |          2.5773 |               0\n",
      "43:23 |    85 |     3.000e-04 |    30.6204 |         15.4740 |     1.7053 |          2.6759 |               0\n",
      "43:23 |    86 |     3.000e-04 |    30.3181 |         15.1843 |     1.8745 |          2.7511 |               0\n",
      "43:24 |    87 |     3.000e-04 |    30.2543 |         14.4521 |     1.1691 |          2.6020 |               0\n",
      "43:25 |    88 |     3.000e-04 |    30.0715 |         14.8983 |     1.1120 |          2.6042 |               0\n",
      "43:25 |    89 |     3.000e-04 |    29.4938 |         13.9927 |     2.0248 |          2.5438 |               0\n",
      "43:26 |    90 |     3.000e-04 |    28.8049 |         13.8913 |     1.7513 |          2.5110 |               0\n",
      "43:27 |    91 |     3.000e-04 |    29.0203 |         13.7403 |     2.1391 |          2.5320 |               0\n",
      "43:27 |    92 |     3.000e-04 |    29.1686 |         13.5981 |     1.2791 |          2.5244 |               0\n",
      "43:28 |    93 |     3.000e-04 |    28.7142 |         13.2885 |     1.5446 |          2.4494 |               0\n",
      "43:29 |    94 |     3.000e-04 |    28.7438 |         14.2384 |     1.3409 |          2.5581 |               0\n",
      "43:30 |    95 |     3.000e-04 |    28.4947 |         13.1733 |     1.8851 |          2.5119 |               0\n",
      "43:30 |    96 |     3.000e-04 |    27.5188 |         13.2734 |     1.5122 |          2.4917 |               0\n",
      "43:31 |    97 |     3.000e-04 |    28.7632 |         13.5605 |     1.3071 |          2.4711 |               0\n",
      "43:32 |    98 |     3.000e-04 |    28.0071 |         14.2014 |     1.8687 |          2.6072 |               0\n",
      "43:32 |    99 |     3.000e-04 |    27.5138 |         13.3193 |     1.2798 |          2.4380 |               0\n",
      "43:33 |   100 |     3.000e-04 |    26.9776 |         13.0774 |     2.2307 |          2.4707 |               0\n"
     ]
    }
   ],
   "source": [
    "T.train(device=DEVICE, n_epochs=100)"
   ]
  },
  {
   "cell_type": "markdown",
   "metadata": {},
   "source": [
    "## Evaluating the model on the test set"
   ]
  },
  {
   "cell_type": "markdown",
   "metadata": {},
   "source": [
    "Now we have a brand new model trained and validated. We can use the best model from this training to evaluate its performance on the test set. `results` contains the predictions of properties for the whole test dataset. `targets` contains the ground truth for such data. `test_loss` is the loss, calculated with the same function used during the training part"
   ]
  },
  {
   "cell_type": "code",
   "execution_count": 15,
   "metadata": {},
   "outputs": [],
   "source": [
    "results, targets, val_loss = evaluate(T.get_best_model(), test_loader, loss_fn, device=DEVICE)"
   ]
  },
  {
   "cell_type": "code",
   "execution_count": 16,
   "metadata": {},
   "outputs": [
    {
     "data": {
      "text/plain": [
       "torch.Size([200, 1])"
      ]
     },
     "execution_count": 16,
     "metadata": {},
     "output_type": "execute_result"
    }
   ],
   "source": [
    "to_tensor(results['energy'], stack=True).shape"
   ]
  },
  {
   "cell_type": "markdown",
   "metadata": {},
   "source": [
    "Finally, we can plot our results to observe how well is our model performing:"
   ]
  },
  {
   "cell_type": "code",
   "execution_count": 17,
   "metadata": {},
   "outputs": [
    {
     "data": {
      "image/png": "[encoded data removed]",
      "text/plain": [
       "<Figure size 864x432 with 2 Axes>"
      ]
     },
     "metadata": {
      "needs_background": "light"
     },
     "output_type": "display_data"
    }
   ],
   "source": [
    "units = {\n",
    "    'energy_grad': r'kcal/mol/$\\AA$',\n",
    "    'energy': 'kcal/mol'\n",
    "}\n",
    "\n",
    "fig, ax_fig = plt.subplots(1, 2, figsize=(12, 6))\n",
    "\n",
    "for ax, key in zip(ax_fig, units.keys()):\n",
    "    pred = torch.stack(results[key], dim=0).view(-1).detach().cpu().numpy()\n",
    "    targ = torch.stack(targets[key], dim=0).view(-1).detach().cpu().numpy()\n",
    "    \n",
    "    ax.scatter(pred, targ, color='#ff7f0e', alpha=0.3)\n",
    "    \n",
    "    lim_min = min(np.min(pred), np.min(targ)) * 1.1\n",
    "    lim_max = max(np.max(pred), np.max(targ)) * 1.1\n",
    "    \n",
    "    ax.set_xlim(lim_min, lim_max)\n",
    "    ax.set_ylim(lim_min, lim_max)\n",
    "    ax.set_aspect('equal')\n",
    "    \n",
    "    ax.plot((lim_min, lim_max),\n",
    "            (lim_min, lim_max),\n",
    "            color='#000000',\n",
    "            zorder=-1,\n",
    "            linewidth=0.5)\n",
    "    \n",
    "    ax.set_title(key.upper(), fontsize=14)\n",
    "    ax.set_xlabel('predicted %s (%s)' % (key, units[key]), fontsize=12)\n",
    "    ax.set_ylabel('target %s (%s)' % (key, units[key]), fontsize=12)\n",
    "\n",
    "plt.show()"
   ]
  },
  {
   "cell_type": "markdown",
   "metadata": {},
   "source": [
    "The model is performing quite well."
   ]
  }
 ],
 "metadata": {
  "kernelspec": {
   "display_name": "Python [conda env:neuralff]",
   "language": "python",
   "name": "neuralff"
  },
  "language_info": {
   "codemirror_mode": {
    "name": "ipython",
    "version": 3
   },
   "file_extension": ".py",
   "mimetype": "text/x-python",
   "name": "python",
   "nbconvert_exporter": "python",
   "pygments_lexer": "ipython3",
   "version": "3.7.5"
  }
 },
 "nbformat": 4,
 "nbformat_minor": 2
}
