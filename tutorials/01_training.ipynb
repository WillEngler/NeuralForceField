{
 "cells": [
  {
   "cell_type": "markdown",
   "metadata": {},
   "source": [
    "# Introduction to Neural Force Field"
   ]
  },
  {
   "cell_type": "markdown",
   "metadata": {},
   "source": [
    "This Jupyter Notebook contains an introduction to the `nff` package. Here, we will load the modules and functions from `nff` to import a dataset, create dataloaders, create a model, train it and check the test stats. We will do most of it manually to illustrate the usage of the API. However, scripts such as the one provided in the `scripts/` folder already automate most of this process."
   ]
  },
  {
   "cell_type": "markdown",
   "metadata": {},
   "source": [
    "After the `nff` package has been installed, we start by importing all dependencies for this tutorial."
   ]
  },
  {
   "cell_type": "code",
   "execution_count": 1,
   "metadata": {},
   "outputs": [],
   "source": [
    "import os\n",
    "import shutil\n",
    "import numpy as np\n",
    "import matplotlib.pyplot as plt\n",
    "\n",
    "import torch\n",
    "from torch.optim import Adam\n",
    "from torch.utils.data import DataLoader\n",
    "\n",
    "from nff.data import Dataset, split_train_validation_test, collate_dicts\n",
    "from nff.train import Trainer, get_trainer, get_model, loss, hooks, metrics, evaluate"
   ]
  },
  {
   "cell_type": "markdown",
   "metadata": {},
   "source": [
    "It might also be useful setting the GPU you want to use:"
   ]
  },
  {
   "cell_type": "code",
   "execution_count": 2,
   "metadata": {},
   "outputs": [],
   "source": [
    "DEVICE = 1\n",
    "OUTDIR = './sandbox'\n",
    "\n",
    "if os.path.exists(OUTDIR):\n",
    "    newpath = os.path.join(os.path.dirname(OUTDIR), 'backup')\n",
    "    if os.path.exists(newpath):\n",
    "        shutil.rmtree(newpath)\n",
    "        \n",
    "    shutil.move(OUTDIR, newpath)"
   ]
  },
  {
   "cell_type": "markdown",
   "metadata": {},
   "source": [
    "## Loading the relevant data"
   ]
  },
  {
   "cell_type": "markdown",
   "metadata": {},
   "source": [
    "As we usually work with the database, we can pack their information in a class `Dataset`, which is a subclass of `torch.utils.data.Dataset`. It basically wraps information on the atomic numbers, energies, forces and SMILES strings for each one of the geometries. In this example, we already have a pre-compiled `Dataset` to be used. We start by loading this file and creating three slices of the original dataset"
   ]
  },
  {
   "cell_type": "code",
   "execution_count": 3,
   "metadata": {},
   "outputs": [],
   "source": [
    "dataset = Dataset.from_file('./data/dataset.pth.tar')"
   ]
  },
  {
   "cell_type": "code",
   "execution_count": 4,
   "metadata": {},
   "outputs": [],
   "source": [
    "train, val, test = split_train_validation_test(dataset, val_size=0.2, test_size=0.2)"
   ]
  },
  {
   "cell_type": "markdown",
   "metadata": {},
   "source": [
    "The `nff` code interfaces with the `graphbuilder` module through a git submodule in the repository. `graphbuilder` provides methods to create batches of graphs. In `nff`, we interface that through a custom dataloader called `\n",
    "GraphLoader`. Here, we create one loader for each one of the slices."
   ]
  },
  {
   "cell_type": "code",
   "execution_count": 5,
   "metadata": {},
   "outputs": [],
   "source": [
    "train_loader = DataLoader(train, batch_size=50, collate_fn=collate_dicts)\n",
    "val_loader = DataLoader(val, batch_size=50, collate_fn=collate_dicts)\n",
    "test_loader = DataLoader(test, batch_size=50, collate_fn=collate_dicts)"
   ]
  },
  {
   "cell_type": "markdown",
   "metadata": {},
   "source": [
    "## Creating a model"
   ]
  },
  {
   "cell_type": "markdown",
   "metadata": {},
   "source": [
    "`nff` is based on SchNet. It parameterizes interatomic interactions in molecules and materials through a series of convolution layers with continuous filters. Here, we are going to create a simple model using the hyperparameters given on `params`:"
   ]
  },
  {
   "cell_type": "code",
   "execution_count": 6,
   "metadata": {},
   "outputs": [],
   "source": [
    "params = {\n",
    "    'n_atom_basis': 256,\n",
    "    'n_filters': 256,\n",
    "    'n_gaussians': 32,\n",
    "    'n_convolutions': 4,\n",
    "    'cutoff': 5.0,\n",
    "    'trainable_gauss': True\n",
    "}\n",
    "\n",
    "model = get_model(params)"
   ]
  },
  {
   "cell_type": "markdown",
   "metadata": {},
   "source": [
    "## Creating a trainer"
   ]
  },
  {
   "cell_type": "markdown",
   "metadata": {},
   "source": [
    "To train our model with the data provided, we have to create a loss function. The easiest way to do that is through the `build_mse_loss` builder. Its argument `rho` is a parameter that will multiply the mean square error (MSE) of the force components before summing it with the MSE of the energy."
   ]
  },
  {
   "cell_type": "code",
   "execution_count": 7,
   "metadata": {},
   "outputs": [],
   "source": [
    "loss_fn = loss.build_mse_loss(loss_coef={'energy': 0.01, 'energy_grad': 1})"
   ]
  },
  {
   "cell_type": "markdown",
   "metadata": {},
   "source": [
    "We should also select an optimizer for our recently created model:"
   ]
  },
  {
   "cell_type": "code",
   "execution_count": 8,
   "metadata": {},
   "outputs": [],
   "source": [
    "trainable_params = filter(lambda p: p.requires_grad, model.parameters())\n",
    "optimizer = Adam(trainable_params, lr=3e-4)"
   ]
  },
  {
   "cell_type": "markdown",
   "metadata": {},
   "source": [
    "### Metrics and hooks"
   ]
  },
  {
   "cell_type": "markdown",
   "metadata": {},
   "source": [
    "Metrics and hooks allow the customization of the training process. Instead of tweaking directly the code or having to resort to countless flags, we can create submodules (or add-ons) to monitor the progress of the training or customize it."
   ]
  },
  {
   "cell_type": "markdown",
   "metadata": {},
   "source": [
    "If we want to monitor the progress of our training, say by looking at the mean absolute error (MAE) of energies and forces, we can simply create metrics to observe them:"
   ]
  },
  {
   "cell_type": "code",
   "execution_count": 9,
   "metadata": {},
   "outputs": [],
   "source": [
    "train_metrics = [\n",
    "    metrics.MeanAbsoluteError('energy'),\n",
    "    metrics.MeanAbsoluteError('energy_grad')\n",
    "]"
   ]
  },
  {
   "cell_type": "markdown",
   "metadata": {},
   "source": [
    "Furthermore, if we want to customize how our training procedure is done, we can use hooks which can interrupt or change the train automatically.\n",
    "\n",
    "In our case, we are adding hooks to:\n",
    "* Stop the training procedure after 100 epochs;\n",
    "* Log the training on a machine-readable CSV file under the directory `./sandbox`;\n",
    "* Print the progress on the screen with custom formatting; and\n",
    "* Setup a scheduler for the learning rate."
   ]
  },
  {
   "cell_type": "code",
   "execution_count": 10,
   "metadata": {},
   "outputs": [],
   "source": [
    "train_hooks = [\n",
    "    hooks.MaxEpochHook(100),\n",
    "    hooks.CSVHook(\n",
    "        OUTDIR,\n",
    "        metrics=train_metrics,\n",
    "    ),\n",
    "    hooks.PrintingHook(\n",
    "        OUTDIR,\n",
    "        metrics=train_metrics,\n",
    "        separator = ' | ',\n",
    "        time_strf='%M:%S'\n",
    "    ),\n",
    "    hooks.ReduceLROnPlateauHook(\n",
    "        optimizer=optimizer,\n",
    "        patience=30,\n",
    "        factor=0.5,\n",
    "        min_lr=1e-7,\n",
    "        window_length=1,\n",
    "        stop_after_min=True\n",
    "    )\n",
    "]"
   ]
  },
  {
   "cell_type": "markdown",
   "metadata": {},
   "source": [
    "### Trainer wrapper"
   ]
  },
  {
   "cell_type": "markdown",
   "metadata": {},
   "source": [
    "A `Trainer` in the `nff` package is a wrapper to train a model. It automatically creates checkpoints, as well as trains and validates a given model. It also allow further training by loading checkpoints from existing paths, making the training procedure more flexible. Its functionalities can be extended by the hooks we created above. To create a trainer, we have to execute the following command:"
   ]
  },
  {
   "cell_type": "code",
   "execution_count": 11,
   "metadata": {},
   "outputs": [],
   "source": [
    "T = Trainer(\n",
    "    model_path=OUTDIR,\n",
    "    model=model,\n",
    "    loss_fn=loss_fn,\n",
    "    optimizer=optimizer,\n",
    "    train_loader=train_loader,\n",
    "    validation_loader=val_loader,\n",
    "    checkpoint_interval=1,\n",
    "    hooks=train_hooks\n",
    ")"
   ]
  },
  {
   "cell_type": "markdown",
   "metadata": {},
   "source": [
    "Now we can finally train the model using the method `train` from the `Trainer`:"
   ]
  },
  {
   "cell_type": "code",
   "execution_count": 12,
   "metadata": {
    "scrolled": false
   },
   "outputs": [
    {
     "name": "stdout",
     "output_type": "stream",
     "text": [
      " Time | Epoch | Learning rate | Train loss | Validation loss | MAE_energy | MAE_energy_grad | GPU Memory (MB)\n",
      "33:04 |     1 |     3.000e-04 |   694.9024 |        506.7765 |    40.9726 |         16.0409 |             293\n",
      "33:04 |     2 |     3.000e-04 |   390.6121 |        240.3762 |    33.1747 |         10.7936 |             293\n",
      "33:05 |     3 |     3.000e-04 |   193.4080 |        155.0724 |    20.7773 |          8.8924 |             293\n",
      "33:06 |     4 |     3.000e-04 |   122.9197 |         98.3009 |     7.3361 |          7.3097 |             293\n",
      "33:07 |     5 |     3.000e-04 |    83.5093 |         74.5404 |     8.9637 |          6.3004 |             293\n",
      "33:07 |     6 |     3.000e-04 |    66.9893 |         62.3093 |     1.9246 |          5.6512 |             293\n",
      "33:08 |     7 |     3.000e-04 |    57.6570 |         51.8770 |     2.9348 |          5.1608 |             293\n",
      "33:09 |     8 |     3.000e-04 |    49.9555 |         46.4980 |     1.7266 |          4.8907 |             293\n",
      "33:10 |     9 |     3.000e-04 |    42.2282 |         39.9853 |     1.4730 |          4.4634 |             293\n",
      "33:11 |    10 |     3.000e-04 |    35.7576 |         35.5694 |     1.7322 |          4.2006 |             293\n",
      "33:11 |    11 |     3.000e-04 |    32.0056 |         32.0667 |     1.7953 |          3.9610 |             293\n",
      "33:12 |    12 |     3.000e-04 |    28.9293 |         29.2530 |     1.0893 |          3.7879 |             293\n",
      "33:13 |    13 |     3.000e-04 |    26.4596 |         27.9370 |     1.1561 |          3.7313 |             293\n",
      "33:14 |    14 |     3.000e-04 |    24.3451 |         26.0710 |     1.0539 |          3.6026 |             293\n",
      "33:14 |    15 |     3.000e-04 |    22.5933 |         24.5315 |     1.0436 |          3.4856 |             293\n",
      "33:15 |    16 |     3.000e-04 |    21.0827 |         23.5657 |     1.1517 |          3.4389 |             293\n",
      "33:16 |    17 |     3.000e-04 |    19.8616 |         22.8210 |     1.3866 |          3.4054 |             293\n",
      "33:17 |    18 |     3.000e-04 |    18.6287 |         21.6592 |     1.5670 |          3.3051 |             293\n",
      "33:17 |    19 |     3.000e-04 |    17.4001 |         20.3016 |     1.5718 |          3.1706 |             293\n",
      "33:18 |    20 |     3.000e-04 |    16.2980 |         19.3100 |     1.5288 |          3.0814 |             293\n",
      "33:19 |    21 |     3.000e-04 |    15.4496 |         18.7106 |     1.6119 |          3.0327 |             293\n",
      "33:20 |    22 |     3.000e-04 |    14.7824 |         18.2072 |     1.5779 |          2.9927 |             293\n",
      "33:20 |    23 |     3.000e-04 |    14.1911 |         17.6533 |     1.5070 |          2.9443 |             293\n",
      "33:21 |    24 |     3.000e-04 |    13.5625 |         17.0371 |     1.5839 |          2.8878 |             293\n",
      "33:22 |    25 |     3.000e-04 |    12.9230 |         16.2743 |     1.5477 |          2.8139 |             293\n",
      "33:23 |    26 |     3.000e-04 |    12.2738 |         15.3781 |     1.3043 |          2.7264 |             293\n",
      "33:23 |    27 |     3.000e-04 |    11.6386 |         14.5165 |     1.0550 |          2.6419 |             293\n",
      "33:24 |    28 |     3.000e-04 |    11.0746 |         13.8784 |     0.8838 |          2.5817 |             293\n",
      "33:25 |    29 |     3.000e-04 |    10.6289 |         13.4712 |     0.8193 |          2.5485 |             293\n",
      "33:26 |    30 |     3.000e-04 |    10.2896 |         13.2235 |     0.8111 |          2.5315 |             293\n",
      "33:26 |    31 |     3.000e-04 |     9.9998 |         12.9758 |     0.8096 |          2.5134 |             293\n",
      "33:27 |    32 |     3.000e-04 |     9.7143 |         12.6782 |     0.8070 |          2.4882 |             293\n",
      "33:28 |    33 |     3.000e-04 |     9.4336 |         12.3855 |     0.8054 |          2.4613 |             293\n",
      "33:29 |    34 |     3.000e-04 |     9.1652 |         12.0929 |     0.8133 |          2.4326 |             293\n",
      "33:29 |    35 |     3.000e-04 |     8.9022 |         11.7541 |     0.8313 |          2.3957 |             293\n",
      "33:30 |    36 |     3.000e-04 |     8.6202 |         11.2873 |     0.8569 |          2.3390 |             293\n",
      "33:31 |    37 |     3.000e-04 |     8.2983 |         10.7108 |     0.8716 |          2.2632 |             293\n",
      "33:32 |    38 |     3.000e-04 |     7.9522 |         10.1837 |     0.8812 |          2.1931 |             293\n",
      "33:33 |    39 |     3.000e-04 |     7.6329 |          9.8289 |     0.9118 |          2.1482 |             293\n",
      "33:33 |    40 |     3.000e-04 |     7.3761 |          9.6559 |     1.0091 |          2.1325 |             293\n",
      "33:34 |    41 |     3.000e-04 |     7.1972 |          9.6573 |     1.1834 |          2.1428 |             293\n",
      "33:35 |    42 |     3.000e-04 |     7.1214 |          9.6986 |     1.3177 |          2.1552 |             293\n",
      "33:35 |    43 |     3.000e-04 |     7.1341 |          9.2323 |     1.0815 |          2.0873 |             293\n",
      "33:36 |    44 |     3.000e-04 |     6.9666 |          8.8110 |     0.6753 |          2.0427 |             293\n",
      "33:37 |    45 |     3.000e-04 |     6.6312 |          9.0116 |     1.0480 |          2.0858 |             293\n",
      "33:38 |    46 |     3.000e-04 |     6.5889 |          9.0207 |     0.7974 |          2.0830 |             293\n",
      "33:38 |    47 |     3.000e-04 |     7.3453 |          9.2783 |     1.5041 |          2.1280 |             293\n",
      "33:39 |    48 |     3.000e-04 |     6.7561 |          8.1383 |     0.6800 |          1.9606 |             293\n",
      "33:40 |    49 |     3.000e-04 |     6.0899 |          8.2121 |     0.7630 |          1.9669 |             293\n",
      "33:41 |    50 |     3.000e-04 |     5.8862 |          7.8497 |     0.6351 |          1.9072 |             293\n"
     ]
    }
   ],
   "source": [
    "T.train(device=DEVICE, n_epochs=50)"
   ]
  },
  {
   "cell_type": "markdown",
   "metadata": {},
   "source": [
    "## Evaluating the model on the test set"
   ]
  },
  {
   "cell_type": "markdown",
   "metadata": {},
   "source": [
    "Now we have a brand new model trained and validated. We can use the best model from this training to evaluate its performance on the test set. `results` contains the predictions of properties for the whole test dataset. `targets` contains the ground truth for such data. `test_loss` is the loss, calculated with the same function used during the training part"
   ]
  },
  {
   "cell_type": "code",
   "execution_count": 13,
   "metadata": {},
   "outputs": [],
   "source": [
    "results, targets, val_loss = evaluate(T.get_best_model(), test_loader, loss_fn, device=DEVICE)"
   ]
  },
  {
   "cell_type": "markdown",
   "metadata": {},
   "source": [
    "Finally, we can plot our results to observe how well is our model performing:"
   ]
  },
  {
   "cell_type": "code",
   "execution_count": 14,
   "metadata": {},
   "outputs": [
    {
     "data": {
      "image/png": "[encoded data removed]",
      "text/plain": [
       "<Figure size 864x432 with 2 Axes>"
      ]
     },
     "metadata": {
      "needs_background": "light"
     },
     "output_type": "display_data"
    }
   ],
   "source": [
    "units = {\n",
    "    'energy_grad': r'kcal/mol/$\\AA$',\n",
    "    'energy': 'kcal/mol'\n",
    "}\n",
    "\n",
    "fig, ax_fig = plt.subplots(1, 2, figsize=(12, 6))\n",
    "\n",
    "for ax, key in zip(ax_fig, units.keys()):\n",
    "    pred = torch.cat(results[key], dim=0).detach().cpu().numpy()\n",
    "    targ = torch.cat(targets[key], dim=0).detach().cpu().numpy()\n",
    "    \n",
    "    ax.scatter(pred, targ, color='#ff7f0e', alpha=0.3)\n",
    "    \n",
    "    lim_min = min(np.min(pred), np.min(targ)) * 1.1\n",
    "    lim_max = max(np.max(pred), np.max(targ)) * 1.1\n",
    "    \n",
    "    ax.set_xlim(lim_min, lim_max)\n",
    "    ax.set_ylim(lim_min, lim_max)\n",
    "    ax.set_aspect('equal')\n",
    "    \n",
    "    ax.plot((lim_min, lim_max),\n",
    "            (lim_min, lim_max),\n",
    "            color='#000000',\n",
    "            zorder=-1,\n",
    "            linewidth=0.5)\n",
    "    \n",
    "    ax.set_title(key.upper(), fontsize=14)\n",
    "    ax.set_xlabel('predicted %s (%s)' % (key, units[key]), fontsize=12)\n",
    "    ax.set_ylabel('target %s (%s)' % (key, units[key]), fontsize=12)\n",
    "\n",
    "plt.show()"
   ]
  },
  {
   "cell_type": "markdown",
   "metadata": {},
   "source": [
    "The model is performing quite well."
   ]
  }
 ],
 "metadata": {
  "kernelspec": {
   "display_name": "Python [conda env:nff]",
   "language": "python",
   "name": "conda-env-nff-py"
  },
  "language_info": {
   "codemirror_mode": {
    "name": "ipython",
    "version": 3
   },
   "file_extension": ".py",
   "mimetype": "text/x-python",
   "name": "python",
   "nbconvert_exporter": "python",
   "pygments_lexer": "ipython3",
   "version": "3.7.3"
  }
 },
 "nbformat": 4,
 "nbformat_minor": 2
}
