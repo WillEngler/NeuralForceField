{
 "cells": [
  {
   "cell_type": "markdown",
   "metadata": {},
   "source": [
    "# Introduction to Neural Force Field"
   ]
  },
  {
   "cell_type": "markdown",
   "metadata": {},
   "source": [
    "This Jupyter Notebook contains an introduction to the `nff` package. Here, we will load the modules and functions from `nff` to import a dataset, create dataloaders, create a model, train it and check the test stats. We will do most of it manually to illustrate the usage of the API. However, scripts such as the one provided in the `scripts/` folder already automate most of this process."
   ]
  },
  {
   "cell_type": "markdown",
   "metadata": {},
   "source": [
    "After the `nff` package has been installed, we start by importing all dependencies for this tutorial."
   ]
  },
  {
   "cell_type": "code",
   "execution_count": 1,
   "metadata": {},
   "outputs": [],
   "source": [
    "import os\n",
    "import shutil\n",
    "import numpy as np\n",
    "import matplotlib.pyplot as plt\n",
    "\n",
    "import torch\n",
    "from torch.optim import Adam\n",
    "from torch.utils.data import DataLoader\n",
    "\n",
    "from nff.data import Dataset, split_train_validation_test, collate_dicts\n",
    "from nff.train import Trainer, get_trainer, get_model, load_model, loss, hooks, metrics, evaluate"
   ]
  },
  {
   "cell_type": "markdown",
   "metadata": {},
   "source": [
    "It might also be useful setting the GPU you want to use:"
   ]
  },
  {
   "cell_type": "code",
   "execution_count": 2,
   "metadata": {},
   "outputs": [],
   "source": [
    "DEVICE = 1\n",
    "OUTDIR = './sandbox'\n",
    "\n",
    "if os.path.exists(OUTDIR):\n",
    "    newpath = os.path.join(os.path.dirname(OUTDIR), 'backup')\n",
    "    if os.path.exists(newpath):\n",
    "        shutil.rmtree(newpath)\n",
    "        \n",
    "    shutil.move(OUTDIR, newpath)"
   ]
  },
  {
   "cell_type": "markdown",
   "metadata": {},
   "source": [
    "## Loading the relevant data"
   ]
  },
  {
   "cell_type": "markdown",
   "metadata": {},
   "source": [
    "As we usually work with the database, we can pack their information in a class `Dataset`, which is a subclass of `torch.utils.data.Dataset`. It basically wraps information on the atomic numbers, energies, forces and SMILES strings for each one of the geometries. In this example, we already have a pre-compiled `Dataset` to be used. We start by loading this file and creating three slices of the original dataset"
   ]
  },
  {
   "cell_type": "code",
   "execution_count": 3,
   "metadata": {},
   "outputs": [],
   "source": [
    "dataset = Dataset.from_file('./data/dataset.pth.tar')"
   ]
  },
  {
   "cell_type": "code",
   "execution_count": 4,
   "metadata": {},
   "outputs": [],
   "source": [
    "train, val, test = split_train_validation_test(dataset, val_size=0.2, test_size=0.2)"
   ]
  },
  {
   "cell_type": "markdown",
   "metadata": {},
   "source": [
    "The `nff` code interfaces with the `graphbuilder` module through a git submodule in the repository. `graphbuilder` provides methods to create batches of graphs. In `nff`, we interface that through a custom dataloader called `\n",
    "GraphLoader`. Here, we create one loader for each one of the slices."
   ]
  },
  {
   "cell_type": "code",
   "execution_count": 5,
   "metadata": {},
   "outputs": [],
   "source": [
    "train_loader = DataLoader(train, batch_size=50, collate_fn=collate_dicts)\n",
    "val_loader = DataLoader(val, batch_size=50, collate_fn=collate_dicts)\n",
    "test_loader = DataLoader(test, batch_size=50, collate_fn=collate_dicts)"
   ]
  },
  {
   "cell_type": "markdown",
   "metadata": {},
   "source": [
    "## Creating a model"
   ]
  },
  {
   "cell_type": "markdown",
   "metadata": {},
   "source": [
    "`nff` is based on SchNet. It parameterizes interatomic interactions in molecules and materials through a series of convolution layers with continuous filters. Here, we are going to create a simple model using the hyperparameters given on `params`:"
   ]
  },
  {
   "cell_type": "code",
   "execution_count": 6,
   "metadata": {},
   "outputs": [],
   "source": [
    "params = {\n",
    "    'n_atom_basis': 256,\n",
    "    'n_filters': 256,\n",
    "    'n_gaussians': 32,\n",
    "    'n_convolutions': 4,\n",
    "    'cutoff': 5.0,\n",
    "    'trainable_gauss': True\n",
    "}\n",
    "\n",
    "model = get_model(params)"
   ]
  },
  {
   "cell_type": "markdown",
   "metadata": {},
   "source": [
    "## Creating a trainer"
   ]
  },
  {
   "cell_type": "markdown",
   "metadata": {},
   "source": [
    "To train our model with the data provided, we have to create a loss function. The easiest way to do that is through the `build_mse_loss` builder. Its argument `rho` is a parameter that will multiply the mean square error (MSE) of the force components before summing it with the MSE of the energy."
   ]
  },
  {
   "cell_type": "code",
   "execution_count": 7,
   "metadata": {},
   "outputs": [],
   "source": [
    "loss_fn = loss.build_mse_loss(loss_coef={'energy': 0.01, 'energy_grad': 1})"
   ]
  },
  {
   "cell_type": "markdown",
   "metadata": {},
   "source": [
    "We should also select an optimizer for our recently created model:"
   ]
  },
  {
   "cell_type": "code",
   "execution_count": 8,
   "metadata": {},
   "outputs": [],
   "source": [
    "trainable_params = filter(lambda p: p.requires_grad, model.parameters())\n",
    "optimizer = Adam(trainable_params, lr=3e-4)"
   ]
  },
  {
   "cell_type": "markdown",
   "metadata": {},
   "source": [
    "### Metrics and hooks"
   ]
  },
  {
   "cell_type": "markdown",
   "metadata": {},
   "source": [
    "Metrics and hooks allow the customization of the training process. Instead of tweaking directly the code or having to resort to countless flags, we can create submodules (or add-ons) to monitor the progress of the training or customize it."
   ]
  },
  {
   "cell_type": "markdown",
   "metadata": {},
   "source": [
    "If we want to monitor the progress of our training, say by looking at the mean absolute error (MAE) of energies and forces, we can simply create metrics to observe them:"
   ]
  },
  {
   "cell_type": "code",
   "execution_count": 9,
   "metadata": {},
   "outputs": [],
   "source": [
    "train_metrics = [\n",
    "    metrics.MeanAbsoluteError('energy'),\n",
    "    metrics.MeanAbsoluteError('energy_grad')\n",
    "]"
   ]
  },
  {
   "cell_type": "markdown",
   "metadata": {},
   "source": [
    "Furthermore, if we want to customize how our training procedure is done, we can use hooks which can interrupt or change the train automatically.\n",
    "\n",
    "In our case, we are adding hooks to:\n",
    "* Stop the training procedure after 100 epochs;\n",
    "* Log the training on a machine-readable CSV file under the directory `./sandbox`;\n",
    "* Print the progress on the screen with custom formatting; and\n",
    "* Setup a scheduler for the learning rate."
   ]
  },
  {
   "cell_type": "code",
   "execution_count": 10,
   "metadata": {},
   "outputs": [],
   "source": [
    "train_hooks = [\n",
    "    hooks.MaxEpochHook(100),\n",
    "    hooks.CSVHook(\n",
    "        OUTDIR,\n",
    "        metrics=train_metrics,\n",
    "    ),\n",
    "    hooks.PrintingHook(\n",
    "        OUTDIR,\n",
    "        metrics=train_metrics,\n",
    "        separator = ' | ',\n",
    "        time_strf='%M:%S'\n",
    "    ),\n",
    "    hooks.ReduceLROnPlateauHook(\n",
    "        optimizer=optimizer,\n",
    "        patience=30,\n",
    "        factor=0.5,\n",
    "        min_lr=1e-7,\n",
    "        window_length=1,\n",
    "        stop_after_min=True\n",
    "    )\n",
    "]"
   ]
  },
  {
   "cell_type": "markdown",
   "metadata": {},
   "source": [
    "### Trainer wrapper"
   ]
  },
  {
   "cell_type": "markdown",
   "metadata": {},
   "source": [
    "A `Trainer` in the `nff` package is a wrapper to train a model. It automatically creates checkpoints, as well as trains and validates a given model. It also allow further training by loading checkpoints from existing paths, making the training procedure more flexible. Its functionalities can be extended by the hooks we created above. To create a trainer, we have to execute the following command:"
   ]
  },
  {
   "cell_type": "code",
   "execution_count": 11,
   "metadata": {},
   "outputs": [],
   "source": [
    "T = Trainer(\n",
    "    model_path=OUTDIR,\n",
    "    model=model,\n",
    "    loss_fn=loss_fn,\n",
    "    optimizer=optimizer,\n",
    "    train_loader=train_loader,\n",
    "    validation_loader=val_loader,\n",
    "    checkpoint_interval=1,\n",
    "    hooks=train_hooks\n",
    ")"
   ]
  },
  {
   "cell_type": "markdown",
   "metadata": {},
   "source": [
    "Now we can finally train the model using the method `train` from the `Trainer`:"
   ]
  },
  {
   "cell_type": "code",
   "execution_count": 12,
   "metadata": {
    "scrolled": false
   },
   "outputs": [
    {
     "name": "stdout",
     "output_type": "stream",
     "text": [
      " Time | Epoch | Learning rate | Train loss | Validation loss | MAE_energy | MAE_energy_grad | GPU Memory (MB)\n",
      "23:00 |     1 |     3.000e-04 |   702.4098 |        496.0360 |    26.9709 |         16.1978 |               0\n",
      "23:01 |     2 |     3.000e-04 |   365.6295 |        211.1097 |    12.8663 |         10.8239 |               0\n",
      "23:02 |     3 |     3.000e-04 |   164.7589 |        112.3311 |     5.3605 |          7.6843 |               0\n",
      "23:03 |     4 |     3.000e-04 |    95.2032 |         74.0201 |     3.0039 |          6.3607 |               0\n",
      "23:04 |     5 |     3.000e-04 |    71.1469 |         57.7114 |     4.4606 |          5.5866 |               0\n",
      "23:05 |     6 |     3.000e-04 |    57.9354 |         49.3934 |     3.4526 |          5.1389 |               0\n",
      "23:06 |     7 |     3.000e-04 |    47.2188 |         41.1509 |     1.9924 |          4.6773 |               0\n",
      "23:07 |     8 |     3.000e-04 |    39.7529 |         36.8638 |     3.8465 |          4.4177 |               0\n",
      "23:08 |     9 |     3.000e-04 |    35.3910 |         33.8497 |     4.6032 |          4.2523 |               0\n",
      "23:09 |    10 |     3.000e-04 |    31.5766 |         30.1906 |     3.5907 |          3.9749 |               0\n",
      "23:10 |    11 |     3.000e-04 |    28.3525 |         27.6198 |     2.2325 |          3.7845 |               0\n",
      "23:11 |    12 |     3.000e-04 |    25.9468 |         25.9007 |     1.4874 |          3.6636 |               0\n",
      "23:12 |    13 |     3.000e-04 |    24.2435 |         24.4470 |     1.4500 |          3.5534 |               0\n",
      "23:13 |    14 |     3.000e-04 |    22.9893 |         23.2315 |     1.3529 |          3.4622 |               0\n",
      "23:14 |    15 |     3.000e-04 |    21.9572 |         21.9817 |     1.1436 |          3.3681 |               0\n",
      "23:15 |    16 |     3.000e-04 |    20.9510 |         20.6759 |     1.1497 |          3.2641 |               0\n",
      "23:16 |    17 |     3.000e-04 |    19.9187 |         19.4579 |     1.5742 |          3.1645 |               0\n",
      "23:17 |    18 |     3.000e-04 |    18.9499 |         18.5389 |     2.2176 |          3.0926 |               0\n",
      "23:18 |    19 |     3.000e-04 |    18.1008 |         17.9757 |     2.8220 |          3.0579 |               0\n",
      "23:19 |    20 |     3.000e-04 |    17.3211 |         17.6204 |     3.1606 |          3.0453 |               0\n",
      "23:20 |    21 |     3.000e-04 |    16.5665 |         17.2173 |     3.2251 |          3.0228 |               0\n",
      "23:21 |    22 |     3.000e-04 |    15.8219 |         16.5915 |     3.1576 |          2.9677 |               0\n",
      "23:22 |    23 |     3.000e-04 |    15.0841 |         15.8037 |     3.0900 |          2.8902 |               0\n",
      "23:23 |    24 |     3.000e-04 |    14.3622 |         15.0073 |     3.0408 |          2.8086 |               0\n",
      "23:24 |    25 |     3.000e-04 |    13.6788 |         14.3095 |     2.9583 |          2.7366 |               0\n",
      "23:25 |    26 |     3.000e-04 |    13.0625 |         13.7550 |     2.7799 |          2.6807 |               0\n",
      "23:26 |    27 |     3.000e-04 |    12.5235 |         13.3009 |     2.4571 |          2.6362 |               0\n",
      "23:27 |    28 |     3.000e-04 |    12.0393 |         12.8689 |     2.0243 |          2.5932 |               0\n",
      "23:29 |    29 |     3.000e-04 |    11.5805 |         12.4264 |     1.5985 |          2.5488 |               0\n",
      "23:29 |    30 |     3.000e-04 |    11.1354 |         11.9800 |     1.2459 |          2.5022 |               0\n",
      "23:30 |    31 |     3.000e-04 |    10.7061 |         11.5452 |     1.0031 |          2.4558 |               0\n",
      "23:31 |    32 |     3.000e-04 |    10.3094 |         11.1386 |     0.8591 |          2.4117 |               0\n",
      "23:33 |    33 |     3.000e-04 |     9.9448 |         10.7636 |     0.8022 |          2.3713 |               0\n",
      "23:34 |    34 |     3.000e-04 |     9.6056 |         10.4130 |     0.7905 |          2.3341 |               0\n",
      "23:35 |    35 |     3.000e-04 |     9.2842 |         10.0800 |     0.7844 |          2.2994 |               0\n",
      "23:36 |    36 |     3.000e-04 |     8.9828 |          9.7660 |     0.7708 |          2.2676 |               0\n",
      "23:37 |    37 |     3.000e-04 |     8.7072 |          9.4807 |     0.7518 |          2.2397 |               0\n",
      "23:37 |    38 |     3.000e-04 |     8.4596 |          9.2327 |     0.7368 |          2.2174 |               0\n",
      "23:39 |    39 |     3.000e-04 |     8.2350 |          9.0178 |     0.7349 |          2.1996 |               0\n",
      "23:40 |    40 |     3.000e-04 |     8.0244 |          8.8143 |     0.7457 |          2.1810 |               0\n",
      "23:41 |    41 |     3.000e-04 |     7.8212 |          8.5913 |     0.7551 |          2.1542 |               0\n",
      "23:42 |    42 |     3.000e-04 |     7.6249 |          8.3263 |     0.7490 |          2.1154 |               0\n",
      "23:43 |    43 |     3.000e-04 |     7.4399 |          8.0206 |     0.7173 |          2.0658 |               0\n",
      "23:44 |    44 |     3.000e-04 |     7.2709 |          7.6953 |     0.6706 |          2.0115 |               0\n",
      "23:45 |    45 |     3.000e-04 |     7.1154 |          7.3793 |     0.6296 |          1.9587 |               0\n",
      "23:46 |    46 |     3.000e-04 |     6.9606 |          7.1074 |     0.6295 |          1.9151 |               0\n",
      "23:47 |    47 |     3.000e-04 |     6.7890 |          6.9087 |     0.6634 |          1.8846 |               0\n",
      "23:48 |    48 |     3.000e-04 |     6.5923 |          6.7754 |     0.7031 |          1.8655 |               0\n",
      "23:49 |    49 |     3.000e-04 |     6.3807 |          6.6664 |     0.7134 |          1.8506 |               0\n",
      "23:50 |    50 |     3.000e-04 |     6.1747 |          6.5580 |     0.6748 |          1.8362 |               0\n"
     ]
    }
   ],
   "source": [
    "T.train(device=DEVICE, n_epochs=50)"
   ]
  },
  {
   "cell_type": "markdown",
   "metadata": {},
   "source": [
    "## Evaluating the model on the test set"
   ]
  },
  {
   "cell_type": "markdown",
   "metadata": {},
   "source": [
    "Now we have a brand new model trained and validated. We can use the best model from this training to evaluate its performance on the test set. `results` contains the predictions of properties for the whole test dataset. `targets` contains the ground truth for such data. `test_loss` is the loss, calculated with the same function used during the training part"
   ]
  },
  {
   "cell_type": "code",
   "execution_count": 13,
   "metadata": {},
   "outputs": [],
   "source": [
    "results, targets, val_loss = evaluate(T.get_best_model(), test_loader, loss_fn, device=DEVICE)"
   ]
  },
  {
   "cell_type": "markdown",
   "metadata": {},
   "source": [
    "Finally, we can plot our results to observe how well is our model performing:"
   ]
  },
  {
   "cell_type": "code",
   "execution_count": 14,
   "metadata": {},
   "outputs": [
    {
     "data": {
      "image/png": "[encoded data removed]",
      "text/plain": [
       "<Figure size 864x432 with 2 Axes>"
      ]
     },
     "metadata": {
      "needs_background": "light"
     },
     "output_type": "display_data"
    }
   ],
   "source": [
    "units = {\n",
    "    'energy_grad': r'kcal/mol/$\\AA$',\n",
    "    'energy': 'kcal/mol'\n",
    "}\n",
    "\n",
    "fig, ax_fig = plt.subplots(1, 2, figsize=(12, 6))\n",
    "\n",
    "for ax, key in zip(ax_fig, units.keys()):\n",
    "    pred = torch.cat([x.view(-1) for x in results[key]], dim=0).detach().cpu().numpy()\n",
    "    targ = torch.cat([x.view(-1) for x in targets[key]], dim=0).detach().cpu().numpy()\n",
    "    \n",
    "    ax.scatter(pred, targ, color='#ff7f0e', alpha=0.3)\n",
    "    \n",
    "    lim_min = min(np.min(pred), np.min(targ)) * 1.1\n",
    "    lim_max = max(np.max(pred), np.max(targ)) * 1.1\n",
    "    \n",
    "    ax.set_xlim(lim_min, lim_max)\n",
    "    ax.set_ylim(lim_min, lim_max)\n",
    "    ax.set_aspect('equal')\n",
    "    \n",
    "    ax.plot((lim_min, lim_max),\n",
    "            (lim_min, lim_max),\n",
    "            color='#000000',\n",
    "            zorder=-1,\n",
    "            linewidth=0.5)\n",
    "    \n",
    "    ax.set_title(key.upper(), fontsize=14)\n",
    "    ax.set_xlabel('predicted %s (%s)' % (key, units[key]), fontsize=12)\n",
    "    ax.set_ylabel('target %s (%s)' % (key, units[key]), fontsize=12)\n",
    "\n",
    "plt.show()"
   ]
  },
  {
   "cell_type": "markdown",
   "metadata": {},
   "source": [
    "The model is performing quite well."
   ]
  }
 ],
 "metadata": {
  "kernelspec": {
   "display_name": "Python [conda env:nff]",
   "language": "python",
   "name": "conda-env-nff-py"
  },
  "language_info": {
   "codemirror_mode": {
    "name": "ipython",
    "version": 3
   },
   "file_extension": ".py",
   "mimetype": "text/x-python",
   "name": "python",
   "nbconvert_exporter": "python",
   "pygments_lexer": "ipython3",
   "version": "3.7.3"
  }
 },
 "nbformat": 4,
 "nbformat_minor": 2
}
