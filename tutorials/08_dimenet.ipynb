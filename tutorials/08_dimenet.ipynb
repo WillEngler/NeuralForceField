{
 "cells": [
  {
   "cell_type": "markdown",
   "metadata": {},
   "source": [
    "# Training With DimeNet"
   ]
  },
  {
   "cell_type": "markdown",
   "metadata": {},
   "source": [
    "This notebook gives an example of how to build and train DimeNet. DimeNet uses both atom distances and angles to generate a more powerful molecular representation than SchNet, though at higher computational cost."
   ]
  },
  {
   "cell_type": "code",
   "execution_count": 1,
   "metadata": {},
   "outputs": [],
   "source": [
    "%load_ext autoreload\n",
    "%autoreload 2"
   ]
  },
  {
   "cell_type": "markdown",
   "metadata": {},
   "source": [
    "First we import dependencies for the tutorial:"
   ]
  },
  {
   "cell_type": "code",
   "execution_count": 2,
   "metadata": {},
   "outputs": [],
   "source": [
    "import sys\n",
    "from pathlib import Path\n",
    "\n",
    "# change to your NFF path\n",
    "sys.path.insert(0, \"/home/saxelrod/Repo/projects/dimenet_nff/NeuralForceField\")\n",
    "\n",
    "import os\n",
    "import shutil\n",
    "import numpy as np\n",
    "import matplotlib.pyplot as plt\n",
    "\n",
    "import torch\n",
    "from torch.optim import Adam\n",
    "from torch.utils.data import DataLoader\n",
    "\n",
    "from nff.data import Dataset, split_train_validation_test, collate_dicts, to_tensor\n",
    "from nff.train import Trainer, get_trainer, get_model, load_model, loss, hooks, metrics, evaluate"
   ]
  },
  {
   "cell_type": "markdown",
   "metadata": {},
   "source": [
    "To instantiate the model, we need to specify:\n",
    "\n",
    "- `n_rbf`: number of radial basis functions\n",
    "- `cutoff`: neighbor list cutoff\n",
    "- `envelope_p`: exponent in the envelope function\n",
    "- `n_spher`: maximum `n` value for the spherical basis functions\n",
    "- `l_spher`: maximum `l` value for the spherical basis functions\n",
    "- `embed_dim`: embedding dimension for the atomic numbers\n",
    "- `n_bilinear`: dimension of the vector into which we transform the angles in the spherical basis\n",
    "- `activation`: name of non-linear activation function\n",
    "- `n_convolutions`: number of convolutions (or interaction blocks)\n",
    "- `output_keys`: names of the values we want our model to predict\n",
    "- `grad_keys`: names of the gradients we want out model to take\n",
    "\n",
    "Note that instantiating the model takes around 10 seconds. This is mainly because the spherical Bessel functions and spherical harmonics need to be translated from `scipy` into `lambda` expresasions with analytical gradients in PyTorch."
   ]
  },
  {
   "cell_type": "code",
   "execution_count": 3,
   "metadata": {},
   "outputs": [],
   "source": [
    "def m_idx_of_angles(angle_list,\n",
    "                    nbr_list,\n",
    "                    angle_start,\n",
    "                    angle_end):\n",
    "    \n",
    "    \n",
    "    repeated_nbr = nbr_list[:, 0].repeat(angle_list.shape[0], 1)\n",
    "    reshaped_angle = angle_list[:, angle_start].reshape(-1, 1) \n",
    "    mask = repeated_nbr == reshaped_angle\n",
    "\n",
    "\n",
    "    repeated_nbr = nbr_list[:, 1].repeat(angle_list.shape[0], 1)\n",
    "    reshaped_angle = angle_list[:, angle_end].reshape(-1, 1) \n",
    "    mask *= ( repeated_nbr == reshaped_angle)\n",
    "    \n",
    "    idx = mask.nonzero()[:, 1]\n",
    "    \n",
    "    return idx\n",
    "\n"
   ]
  },
  {
   "cell_type": "code",
   "execution_count": 4,
   "metadata": {
    "scrolled": true
   },
   "outputs": [],
   "source": [
    "# angle_list[:, 1].reshape(-1, 1)"
   ]
  },
  {
   "cell_type": "code",
   "execution_count": 5,
   "metadata": {},
   "outputs": [],
   "source": [
    "# rep = nbr_list[:, 0].repeat(angle_list[:, 1].shape[0], 1)\n",
    "# print(rep.shape)\n",
    "# rep"
   ]
  },
  {
   "cell_type": "code",
   "execution_count": 6,
   "metadata": {},
   "outputs": [
    {
     "name": "stdout",
     "output_type": "stream",
     "text": [
      "tensor([2])\n",
      "tensor([5])\n"
     ]
    }
   ],
   "source": [
    "nbr_list = torch.LongTensor([[0, 1], [0, 2], [1, 0], [1, 2], [2, 0], [2, 1]])\n",
    "angle_list = torch.LongTensor([[0, 1, 2]])\n",
    "\n",
    "ji_idx = m_idx_of_angles(angle_list=angle_list,\n",
    "                         nbr_list=nbr_list,\n",
    "                         angle_start=1,\n",
    "                         angle_end=0)\n",
    "\n",
    "kj_idx = m_idx_of_angles(angle_list=angle_list,\n",
    "                         nbr_list=nbr_list,\n",
    "                         angle_start=2,\n",
    "                            angle_end=1)\n",
    "\n",
    "print(ji_idx)\n",
    "print(kj_idx)"
   ]
  },
  {
   "cell_type": "code",
   "execution_count": 7,
   "metadata": {},
   "outputs": [
    {
     "data": {
      "text/plain": [
       "tensor([[0, 1, 2],\n",
       "        [0, 2, 1],\n",
       "        [0, 2, 3],\n",
       "        [0, 3, 2],\n",
       "        [1, 0, 2],\n",
       "        [1, 0, 3],\n",
       "        [1, 2, 0],\n",
       "        [1, 2, 3],\n",
       "        [2, 0, 1],\n",
       "        [2, 0, 3],\n",
       "        [2, 1, 0],\n",
       "        [2, 3, 0],\n",
       "        [3, 0, 1],\n",
       "        [3, 0, 2],\n",
       "        [3, 2, 0],\n",
       "        [3, 2, 1]])"
      ]
     },
     "metadata": {},
     "output_type": "display_data"
    },
    {
     "data": {
      "text/plain": [
       "tensor([[0, 1],\n",
       "        [0, 2],\n",
       "        [0, 3],\n",
       "        [1, 0],\n",
       "        [1, 2],\n",
       "        [2, 0],\n",
       "        [2, 1],\n",
       "        [2, 3],\n",
       "        [3, 0],\n",
       "        [3, 2]])"
      ]
     },
     "metadata": {},
     "output_type": "display_data"
    },
    {
     "data": {
      "text/plain": [
       "tensor([6, 4, 9, 7, 5, 8, 1, 9, 3, 8, 0, 2, 3, 5, 1, 4])"
      ]
     },
     "metadata": {},
     "output_type": "display_data"
    },
    {
     "data": {
      "text/plain": [
       "tensor([3, 5, 5, 8, 0, 0, 6, 6, 1, 1, 4, 9, 2, 2, 7, 7])"
      ]
     },
     "metadata": {},
     "output_type": "display_data"
    },
    {
     "data": {
      "text/plain": [
       "tensor([[0.5488, 0.7152, 0.6028, 0.5449],\n",
       "        [0.4237, 0.6459, 0.4376, 0.8918],\n",
       "        [0.9637, 0.3834, 0.7917, 0.5289],\n",
       "        [0.5680, 0.9256, 0.0710, 0.0871],\n",
       "        [0.0202, 0.8326, 0.7782, 0.8700],\n",
       "        [0.9786, 0.7992, 0.4615, 0.7805],\n",
       "        [0.1183, 0.6399, 0.1434, 0.9447],\n",
       "        [0.5218, 0.4147, 0.2646, 0.7742],\n",
       "        [0.4562, 0.5684, 0.0188, 0.6176],\n",
       "        [0.6121, 0.6169, 0.9437, 0.6818],\n",
       "        [0.3595, 0.4370, 0.6976, 0.0602],\n",
       "        [0.6668, 0.6706, 0.2104, 0.1289],\n",
       "        [0.3154, 0.3637, 0.5702, 0.4386],\n",
       "        [0.9884, 0.1020, 0.2089, 0.1613],\n",
       "        [0.6531, 0.2533, 0.4663, 0.2444],\n",
       "        [0.1590, 0.1104, 0.6563, 0.1382]])"
      ]
     },
     "metadata": {},
     "output_type": "display_data"
    }
   ],
   "source": [
    "from nff.utils.scatter import scatter_add\n",
    "from nff.data.graphs import get_angle_list\n",
    "from IPython.display import display\n",
    "import numpy as np\n",
    "\n",
    "np.random.seed(0)\n",
    "nbr_list = torch.LongTensor([[0, 1], \n",
    "                             [0, 2], \n",
    "                             [0, 3], \n",
    "                             [1, 0], \n",
    "                             [1, 2], \n",
    "                             [2, 0], \n",
    "                             [2, 1],\n",
    "                             [2, 3], \n",
    "                             [3, 0], \n",
    "                             [3, 2]])\n",
    "m_ji = torch.rand(nbr_list.shape[0], 4)\n",
    "angle_list, nbr_list = get_angle_list([nbr_list])\n",
    "angle_list = angle_list[0]\n",
    "nbr_list = nbr_list[0]\n",
    "\n",
    "\n",
    "display(angle_list)\n",
    "display(nbr_list)\n",
    "\n",
    "aggr = torch.Tensor(np.random.rand(\n",
    "        *[angle_list.shape[0], 4]))\n",
    "\n",
    "# old_kj_idx = torch.LongTensor([0, 1, 2, 3, 3, 4, 4, 5, 5, 6, 7, 7, 8])\n",
    "\n",
    "ji_idx = m_idx_of_angles(angle_list=angle_list,\n",
    "                         nbr_list=nbr_list,\n",
    "                         angle_start=1,\n",
    "                         angle_end=0)\n",
    "\n",
    "kj_idx = m_idx_of_angles(angle_list=angle_list,\n",
    "                         nbr_list=nbr_list,\n",
    "                         angle_start=2,\n",
    "                         angle_end=1)\n",
    "\n",
    "        \n",
    "# assert (kj_idx == old_kj_idx).all()\n",
    "display(kj_idx)\n",
    "display(ji_idx)\n",
    "display(aggr)\n"
   ]
  },
  {
   "cell_type": "code",
   "execution_count": 8,
   "metadata": {},
   "outputs": [],
   "source": [
    "# # Ri = tf.gather(R, id3_i)\n",
    "# # Rj = tf.gather(R, id3_j)\n",
    "# # Rk = tf.gather(R, id3_k)\n",
    "# # R1 = Rj - Ri\n",
    "# # R2 = Rk - Ri\n",
    "# # x = tf.reduce_sum(R1 * R2, axis=-1)\n",
    "# # y = tf.linalg.cross(R1, R2)\n",
    "# # y = tf.norm(y, axis=-1)\n",
    "# # angle = tf.math.atan2(y, x)\n",
    "\n",
    "        \n",
    "# def compute_angle(xyz, angle_list):\n",
    "#     r_ji = xyz[angle_list[:, 1]] - xyz[angle_list[:, 0]]\n",
    "#     r_kj = xyz[angle_list[:, 2]] - xyz[angle_list[:, 1]]\n",
    "#     r_ij = -r_ji\n",
    "\n",
    "#     dot_prod = (r_ij * r_kj).sum(-1)\n",
    "#     cos_angle = dot_prod / (torch.norm(r_ij, dim=1) *\n",
    "#                             torch.norm(r_kj, dim=1))\n",
    "#     angle = torch.acos(cos_angle)\n",
    "\n",
    "#     return angle\n",
    "\n",
    "# angle_list = torch.LongTensor([[0, 2, 1]])\n",
    "# xyz = torch.Tensor([[0.1, 0.3, 1.4], [0, 0, 0], [0.10001, 0.3, 1.4]])\n",
    "# compute_angle(xyz, angle_list)"
   ]
  },
  {
   "cell_type": "code",
   "execution_count": 9,
   "metadata": {},
   "outputs": [],
   "source": [
    "modelparams = {\"n_rbf\": 6,\n",
    "               \"cutoff\": 5.0,\n",
    "               \"envelope_p\": 5,\n",
    "               \"n_spher\": 6,\n",
    "               \"l_spher\": 7,\n",
    "               \"embed_dim\": 128,\n",
    "               \"n_bilinear\": 8,\n",
    "               \"activation\": \"swish\",\n",
    "               \"n_convolutions\": 6,\n",
    "               \"output_keys\": [\"energy\"],\n",
    "               \"grad_keys\": [\"energy_grad\"]}\n",
    "\n",
    "model = get_model(modelparams, model_type=\"DimeNet\")\n"
   ]
  },
  {
   "cell_type": "code",
   "execution_count": null,
   "metadata": {},
   "outputs": [],
   "source": []
  },
  {
   "cell_type": "code",
   "execution_count": 10,
   "metadata": {},
   "outputs": [],
   "source": [
    "# xyz = torch.Tensor([[0, 1, 1e-2], [0, 0, 0], [0, 1, 0]])\n",
    "# compute_angle(xyz, angle_list)\n",
    "\n",
    "# # r_ji = xyz[angle_list[:, 1]] - xyz[angle_list[:, 0]]\n",
    "# # r_kj = xyz[angle_list[:, 2]] - xyz[angle_list[:, 1]]\n",
    "# # y = torch.cross(r_ji, r_kj).sum()\n",
    "# # x = -(r_ji * r_kj).sum()\n",
    "# # angle = torch.atan2(x, y)\n",
    "# # angle"
   ]
  },
  {
   "cell_type": "code",
   "execution_count": 11,
   "metadata": {},
   "outputs": [],
   "source": [
    "# y = torch.Tensor([-0.1])\n",
    "# x = torch.Tensor([0.01])\n",
    "# torch.atan2(y, x)"
   ]
  },
  {
   "cell_type": "code",
   "execution_count": 12,
   "metadata": {},
   "outputs": [],
   "source": [
    "# torch.Tensor([[3, 1, -2], [0, 1.03, -4.2], [0, 1, 3]]).shape"
   ]
  },
  {
   "cell_type": "code",
   "execution_count": 13,
   "metadata": {},
   "outputs": [],
   "source": [
    "# for _ in range(100):\n",
    "#     Ri, Rj, Rk = torch.rand(3, 3)\n",
    "\n",
    "#     R1 = Rj - Ri\n",
    "#     R2 = Rk - Ri\n",
    "#     x = torch.sum(R1 * R2, dim=-1)\n",
    "#     y = torch.cross(R1, R2)\n",
    "#     y = torch.norm(y, dim=-1)\n",
    "#     angle = torch.atan2(y, x)\n",
    "#     angle_2 = torch.acos( (R1 * R2).sum() / R1.norm() / R2.norm() )\n",
    "\n",
    "#     print(abs(angle - angle_2))"
   ]
  },
  {
   "cell_type": "code",
   "execution_count": 14,
   "metadata": {},
   "outputs": [],
   "source": [
    "# out = scatter_add(aggr.transpose(0, 1),\n",
    "#                   kj_idx, \n",
    "#                   dim_size=m_ji.shape[0]\n",
    "#                   ).transpose(0, 1)"
   ]
  },
  {
   "cell_type": "code",
   "execution_count": 15,
   "metadata": {},
   "outputs": [],
   "source": [
    "# out"
   ]
  },
  {
   "cell_type": "code",
   "execution_count": 16,
   "metadata": {},
   "outputs": [],
   "source": [
    "# print(aggr.shape)\n",
    "# print(kj_idx.shape)\n",
    "# print(m_ji.shape)"
   ]
  },
  {
   "cell_type": "markdown",
   "metadata": {},
   "source": [
    "Next we make a directory for our work and load the ethanol dataset:"
   ]
  },
  {
   "cell_type": "code",
   "execution_count": 17,
   "metadata": {},
   "outputs": [],
   "source": [
    "DEVICE = 3\n",
    "OUTDIR = './sandbox'\n",
    "BATCH_SIZE = 40\n",
    "\n",
    "if os.path.exists(OUTDIR):\n",
    "    newpath = os.path.join(os.path.dirname(OUTDIR), 'backup')\n",
    "    if os.path.exists(newpath):\n",
    "        shutil.rmtree(newpath)\n",
    "        \n",
    "    shutil.move(OUTDIR, newpath)\n",
    "    \n",
    "dataset = Dataset.from_file('./data/dataset.pth.tar')"
   ]
  },
  {
   "cell_type": "markdown",
   "metadata": {},
   "source": [
    "Because DimeNet uses angles as well as distances, we need to generate an angle list in addition to a neighbor list:"
   ]
  },
  {
   "cell_type": "code",
   "execution_count": 18,
   "metadata": {},
   "outputs": [
    {
     "data": {
      "text/plain": [
       "tensor([[0, 1, 2],\n",
       "        [0, 1, 3],\n",
       "        [0, 1, 4],\n",
       "        ...,\n",
       "        [8, 7, 4],\n",
       "        [8, 7, 5],\n",
       "        [8, 7, 6]])"
      ]
     },
     "execution_count": 18,
     "metadata": {},
     "output_type": "execute_result"
    }
   ],
   "source": [
    "angles = dataset.generate_angle_list()\n",
    "angles[0]"
   ]
  },
  {
   "cell_type": "markdown",
   "metadata": {},
   "source": [
    "Next we make the training splits, loaders, and trainer:"
   ]
  },
  {
   "cell_type": "code",
   "execution_count": 19,
   "metadata": {},
   "outputs": [],
   "source": [
    "train, val, test = split_train_validation_test(dataset, val_size=0.2, test_size=0.2)\n",
    "\n",
    "train_loader = DataLoader(train, batch_size=BATCH_SIZE, collate_fn=collate_dicts)\n",
    "val_loader = DataLoader(val, batch_size=BATCH_SIZE, collate_fn=collate_dicts)\n",
    "test_loader = DataLoader(test, batch_size=BATCH_SIZE, collate_fn=collate_dicts)\n",
    "\n",
    "loss_fn = loss.build_mse_loss(loss_coef={'energy': 0.01, 'energy_grad': 1})\n",
    "trainable_params = filter(lambda p: p.requires_grad, model.parameters())\n",
    "optimizer = Adam(trainable_params, lr=3e-4)\n",
    "\n",
    "train_metrics = [\n",
    "    metrics.MeanAbsoluteError('energy'),\n",
    "    metrics.MeanAbsoluteError('energy_grad')\n",
    "]\n",
    "\n",
    "\n",
    "train_hooks = [\n",
    "    hooks.MaxEpochHook(100),\n",
    "    hooks.CSVHook(\n",
    "        OUTDIR,\n",
    "        metrics=train_metrics,\n",
    "    ),\n",
    "    hooks.PrintingHook(\n",
    "        OUTDIR,\n",
    "        metrics=train_metrics,\n",
    "        separator = ' | ',\n",
    "        time_strf='%M:%S'\n",
    "    ),\n",
    "    hooks.ReduceLROnPlateauHook(\n",
    "        optimizer=optimizer,\n",
    "        patience=30,\n",
    "        factor=0.5,\n",
    "        min_lr=1e-7,\n",
    "        window_length=1,\n",
    "        stop_after_min=True\n",
    "    )\n",
    "]\n",
    "\n",
    "T = Trainer(\n",
    "    model_path=OUTDIR,\n",
    "    model=model,\n",
    "    loss_fn=loss_fn,\n",
    "    optimizer=optimizer,\n",
    "    train_loader=train_loader,\n",
    "    validation_loader=val_loader,\n",
    "    checkpoint_interval=1,\n",
    "    hooks=train_hooks\n",
    ")"
   ]
  },
  {
   "cell_type": "markdown",
   "metadata": {},
   "source": [
    "Now we train and see the results!"
   ]
  },
  {
   "cell_type": "code",
   "execution_count": null,
   "metadata": {},
   "outputs": [
    {
     "name": "stdout",
     "output_type": "stream",
     "text": [
      " Time | Epoch | Learning rate | Train loss | Validation loss | MAE_energy | MAE_energy_grad | GPU Memory (MB)\n",
      "> /home/saxelrod/Repo/projects/dimenet_nff/NeuralForceField/nff/nn/layers.py(254)forward()\n",
      "-> rbf_env = rbf_env[kj_idx.long()]\n",
      "(Pdb) l\n",
      "249  \t        u = self.envelope(d_scaled)\n",
      "250  \t        rbf_env = u[:, None] * rbf\n",
      "251  \t        import pdb\n",
      "252  \t        pdb.set_trace()\n",
      "253  \t        #\n",
      "254  ->\t        rbf_env = rbf_env[kj_idx.long()]\n",
      "255  \t        rbf_env = rbf_env.reshape(*torch.tensor(\n",
      "256  \t            rbf_env.shape[:2]).tolist())\n",
      "257  \t\n",
      "258  \t        cbf = [f(angles) for f in self.sph_funcs]\n",
      "259  \t        cbf = torch.stack(cbf, dim=1)\n",
      "(Pdb) rbf.shape\n",
      "torch.Size([2880, 42, 1])\n",
      "(Pdb) print(d.shape)\n",
      "torch.Size([2880, 1])\n",
      "(Pdb) print(self.n_spher  * self.l_spher )\n",
      "42\n",
      "(Pdb) kj_idx.shape\n",
      "torch.Size([20160])\n"
     ]
    }
   ],
   "source": [
    "T.train(device=DEVICE, n_epochs=100)"
   ]
  },
  {
   "cell_type": "markdown",
   "metadata": {},
   "source": [
    "We pick the model that got the best validation score and evaluate it on the test set:"
   ]
  },
  {
   "cell_type": "code",
   "execution_count": null,
   "metadata": {},
   "outputs": [],
   "source": [
    "results, targets, val_loss = evaluate(T.get_best_model(), test_loader, loss_fn, device=DEVICE)\n",
    "\n",
    "\n",
    "units = {\n",
    "    'energy_grad': r'kcal/mol/$\\AA$',\n",
    "    'energy': 'kcal/mol'\n",
    "}\n",
    "\n",
    "fig, ax_fig = plt.subplots(1, 2, figsize=(12, 6))\n",
    "\n",
    "for ax, key in zip(ax_fig, units.keys()):\n",
    "    pred = torch.stack(results[key], dim=0).view(-1).detach().cpu().numpy()\n",
    "    targ = torch.stack(targets[key], dim=0).view(-1).detach().cpu().numpy()\n",
    "    mae = abs(pred-targ).mean()\n",
    "    \n",
    "    ax.scatter(pred, targ, color='#ff7f0e', alpha=0.3)\n",
    "    \n",
    "    lim_min = min(np.min(pred), np.min(targ)) * 1.1\n",
    "    lim_max = max(np.max(pred), np.max(targ)) * 1.1\n",
    "    \n",
    "    ax.set_xlim(lim_min, lim_max)\n",
    "    ax.set_ylim(lim_min, lim_max)\n",
    "    ax.set_aspect('equal')\n",
    "    \n",
    "    ax.plot((lim_min, lim_max),\n",
    "            (lim_min, lim_max),\n",
    "            color='#000000',\n",
    "            zorder=-1,\n",
    "            linewidth=0.5)\n",
    "    \n",
    "    ax.set_title(key.upper(), fontsize=14)\n",
    "    ax.set_xlabel('predicted %s (%s)' % (key, units[key]), fontsize=12)\n",
    "    ax.set_ylabel('target %s (%s)' % (key, units[key]), fontsize=12)\n",
    "    ax.text(0.1, 0.9, 'MAE: %.2f %s' % (mae, units[key]), \n",
    "           transform=ax.transAxes, fontsize=14)\n",
    "\n",
    "plt.show()"
   ]
  },
  {
   "cell_type": "markdown",
   "metadata": {},
   "source": [
    "The force and energy errors are respectively 2.7$\\times$ and 3.1$\\times$ smaller than the SchNet errors trained on the same data (0.58 vs. 1.55 kcal/mol/A and 0.28 vs. 0.86 kcal/mol)!"
   ]
  },
  {
   "cell_type": "markdown",
   "metadata": {},
   "source": [
    "# For fun: visualizing the basis functions\n",
    "We can look at the radial and spherical basis functions to see what they look like. We can build the radial functions ourselves and compare them with and without the polynomial envelope: "
   ]
  },
  {
   "cell_type": "code",
   "execution_count": null,
   "metadata": {},
   "outputs": [],
   "source": [
    "from nff.nn.layers import Envelope\n",
    "\n",
    "envelope_p = 5\n",
    "envelope = Envelope(envelope_p)"
   ]
  },
  {
   "cell_type": "markdown",
   "metadata": {},
   "source": [
    "Layers with and without envelope function:"
   ]
  },
  {
   "cell_type": "code",
   "execution_count": null,
   "metadata": {},
   "outputs": [],
   "source": [
    "cutoff = 5.0\n",
    "\n",
    "n_rbf = 5\n",
    "d = torch.arange(0, cutoff, 0.05).reshape(-1, 1)\n",
    "n = torch.arange(1, n_rbf + 1).float()\n",
    "k_n = n * np.pi / cutoff\n",
    "env = envelope(d / 5)\n",
    "\n",
    "arg = torch.sin(k_n * d) / d\n",
    "plt.plot(d, arg)\n",
    "plt.xlabel(\"r ($\\AA$)\")\n",
    "plt.show()\n",
    "\n",
    "plt.plot(d, arg *env)\n",
    "plt.xlabel(\"r ($\\AA$)\")\n",
    "\n",
    "plt.show()"
   ]
  },
  {
   "cell_type": "markdown",
   "metadata": {},
   "source": [
    "We can also get the layers directly from the module `DimeNetRadialBasis`:"
   ]
  },
  {
   "cell_type": "code",
   "execution_count": null,
   "metadata": {},
   "outputs": [],
   "source": [
    "from nff.nn.layers import DimeNetRadialBasis, DimeNetSphericalBasis\n",
    "\n",
    "dime_rbf = DimeNetRadialBasis(n_rbf=n_rbf,\n",
    "                 cutoff=cutoff,\n",
    "                 envelope_p=envelope_p)\n",
    "out = dime_rbf(d)\n",
    "plt.plot(d, out.detach().numpy())\n",
    "plt.xlabel(\"r ($\\AA$)\")\n",
    "plt.show()"
   ]
  },
  {
   "cell_type": "markdown",
   "metadata": {},
   "source": [
    "Let's take a look at spherical basis functions, which we get from the `DimeNetSphericalBasis` module. First instantiate the module:"
   ]
  },
  {
   "cell_type": "code",
   "execution_count": null,
   "metadata": {},
   "outputs": [],
   "source": [
    "n_spher = 4\n",
    "l_spher = 4\n",
    "dime_sbf = DimeNetSphericalBasis(l_spher=l_spher,\n",
    "                 n_spher=n_spher,\n",
    "                 cutoff=5.0,\n",
    "                 envelope_p=6)"
   ]
  },
  {
   "cell_type": "markdown",
   "metadata": {},
   "source": [
    "Then make an x-y grid, calculate the distances and angles at each point on the grid, get the radial and angular parts of the spherical basis functions, and plot their product:"
   ]
  },
  {
   "cell_type": "code",
   "execution_count": null,
   "metadata": {},
   "outputs": [],
   "source": [
    "self = dime_sbf\n",
    "\n",
    "pos_x = torch.arange(0.05, self.cutoff * 1.2, 0.05)\n",
    "neg_x = torch.arange(-self.cutoff * 1.2, -0.05, 0.05)\n",
    "\n",
    "x = torch.cat([neg_x, pos_x])\n",
    "y = torch.cat([neg_x, pos_x])\n",
    "\n",
    "\n",
    "xv, yv = np.meshgrid(x, y)\n",
    "xv = torch.Tensor(xv)\n",
    "yv = torch.Tensor(yv)\n",
    "                     \n",
    "angles = torch.atan2(input=xv, other=yv)\n",
    "d = (xv ** 2 + yv ** 2) ** 0.5\n",
    "\n",
    "d_scaled = d / self.cutoff\n",
    "rbf = [f(d_scaled) for f in self.bessel_funcs]\n",
    "rbf = torch.stack(rbf, dim=1)\n",
    "\n",
    "u = self.envelope(d_scaled)\n",
    "cbf = [f(angles) for f in self.sph_funcs]\n",
    "cbf = torch.stack(cbf, dim=1)\n"
   ]
  },
  {
   "cell_type": "code",
   "execution_count": null,
   "metadata": {},
   "outputs": [],
   "source": [
    "import matplotlib as mpl\n",
    "cmap = mpl.colors.ListedColormap(['blue', 'red'])\n",
    "\n",
    "for l in range(l_spher):\n",
    "    totals = []\n",
    "    for n in range(n_spher):\n",
    "        total = cbf[:, l, :] * rbf[:, n, :] * u\n",
    "        mask = np.heaviside(cutoff - d, 0)\n",
    "        totals.append(total * mask)\n",
    "        \n",
    "    fig, ax_fig = plt.subplots(1, n_spher, figsize=(12, 6))\n",
    "\n",
    "    \n",
    "    for i, ax in enumerate(ax_fig):\n",
    "        z = -totals[i].numpy() \n",
    "        mesh = ax.pcolormesh(xv, yv, z, cmap='RdBu',\n",
    "                            vmin=-3,\n",
    "                            vmax=3)\n",
    "        ax.set_aspect(1)\n",
    "        "
   ]
  },
  {
   "cell_type": "code",
   "execution_count": null,
   "metadata": {},
   "outputs": [],
   "source": []
  }
 ],
 "metadata": {
  "kernelspec": {
   "display_name": "Python [conda env:neuralff]",
   "language": "python",
   "name": "neuralff"
  },
  "language_info": {
   "codemirror_mode": {
    "name": "ipython",
    "version": 3
   },
   "file_extension": ".py",
   "mimetype": "text/x-python",
   "name": "python",
   "nbconvert_exporter": "python",
   "pygments_lexer": "ipython3",
   "version": "3.7.5"
  }
 },
 "nbformat": 4,
 "nbformat_minor": 2
}
