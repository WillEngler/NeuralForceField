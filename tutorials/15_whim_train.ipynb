{
 "cells": [
  {
   "cell_type": "markdown",
   "metadata": {},
   "source": [
    "# Introduction to Neural Force Field"
   ]
  },
  {
   "cell_type": "markdown",
   "metadata": {},
   "source": [
    "This Jupyter Notebook contains an introduction to the `nff` package. Here, we will load the modules and functions from `nff` to import a dataset, create dataloaders, create a model, train it and check the test stats. We will do most of it manually to illustrate the usage of the API. However, scripts such as the one provided in the `scripts/` folder already automate most of this process."
   ]
  },
  {
   "cell_type": "markdown",
   "metadata": {},
   "source": [
    "After the `nff` package has been installed, we start by importing all dependencies for this tutorial."
   ]
  },
  {
   "cell_type": "code",
   "execution_count": 1,
   "metadata": {},
   "outputs": [],
   "source": [
    "%load_ext autoreload\n",
    "%autoreload 2"
   ]
  },
  {
   "cell_type": "code",
   "execution_count": null,
   "metadata": {},
   "outputs": [],
   "source": []
  },
  {
   "cell_type": "code",
   "execution_count": 2,
   "metadata": {},
   "outputs": [],
   "source": [
    "import sys\n",
    "sys.path.insert(0, \"..\")\n",
    "\n",
    "import os\n",
    "import shutil\n",
    "import numpy as np\n",
    "import matplotlib.pyplot as plt\n",
    "from sklearn.metrics import roc_curve, roc_auc_score, auc, precision_recall_curve\n",
    "\n",
    "\n",
    "import torch\n",
    "from torch.optim import Adam\n",
    "from torch.utils.data import DataLoader\n",
    "\n",
    "from nff.data import (Dataset, split_train_validation_test, \n",
    "                      collate_dicts, to_tensor, ImbalancedDatasetSampler)\n",
    "from nff.train import Trainer, get_trainer, get_model, load_model, loss, hooks, metrics, evaluate\n",
    "\n",
    "from nff.hypopt.data import trim_confs"
   ]
  },
  {
   "cell_type": "markdown",
   "metadata": {},
   "source": [
    "It might also be useful setting the GPU you want to use:"
   ]
  },
  {
   "cell_type": "code",
   "execution_count": 4,
   "metadata": {},
   "outputs": [
    {
     "name": "stdout",
     "output_type": "stream",
     "text": [
      "Loading datasets...\n"
     ]
    }
   ],
   "source": [
    "import random\n",
    "\n",
    "import os\n",
    "base_pth = \"/home/saxelrod/engaging_nfs/data_from_fock/data/covid_data/\"\n",
    "dset_path = os.path.join(base_pth, \"crest_no_broad_1_conf.pth.tar\")\n",
    "\n",
    "\n",
    "print(\"Loading datasets...\")\n",
    "\n",
    "dataset =  Dataset.from_file(dset_path)\n",
    "\n",
    "\n",
    "train_path = os.path.join(base_pth, \"crest_no_broad_1_conf_train.pth.tar\")\n",
    "val_path = os.path.join(base_pth, \"crest_no_broad_1_conf_val.pth.tar\")\n",
    "test_path = os.path.join(base_pth, \"crest_no_broad_1_conf_test.pth.tar\")\n",
    "\n",
    "\n",
    "# train, val, test = split_train_validation_test(dataset, binary=True,\n",
    "#                                               targ_name='bind')\n",
    "\n",
    "# train.save(train_path)\n",
    "# val.save(val_path)\n",
    "# test.save(test_path)\n",
    "\n",
    "train = Dataset.from_file(train_path)\n",
    "val = Dataset.from_file(val_path)\n",
    "test = Dataset.from_file(test_path)"
   ]
  },
  {
   "cell_type": "code",
   "execution_count": 5,
   "metadata": {
    "scrolled": true
   },
   "outputs": [
    {
     "name": "stdout",
     "output_type": "stream",
     "text": [
      "Featurizing...\n",
      "Featurizing <nff.data.dataset.Dataset object at 0x7f12142d99e8>\n",
      "Featurizing <nff.data.dataset.Dataset object at 0x7f120662d780>\n",
      "Featurizing <nff.data.dataset.Dataset object at 0x7f12082a89b0>\n"
     ]
    }
   ],
   "source": [
    "print(\"Featurizing...\")\n",
    "\n",
    "\n",
    "for d_set in [train, val, test]:\n",
    "    print(\"Featurizing {}\".format(d_set))\n",
    "    d_set.featurize_rdkit('whim')\n",
    "    "
   ]
  },
  {
   "cell_type": "markdown",
   "metadata": {},
   "source": [
    "Create loaders:"
   ]
  },
  {
   "cell_type": "code",
   "execution_count": null,
   "metadata": {},
   "outputs": [],
   "source": []
  },
  {
   "cell_type": "code",
   "execution_count": 52,
   "metadata": {},
   "outputs": [],
   "source": [
    "DEVICE = 0\n",
    "BATCH_SIZE = 50\n",
    "MINI_BATCHES = int(50 / BATCH_SIZE)\n",
    "\n",
    "OUTDIR = './sandbox'\n",
    "\n",
    "if os.path.exists(OUTDIR):\n",
    "    newpath = os.path.join(os.path.dirname(OUTDIR), 'backup')\n",
    "    if os.path.exists(newpath):\n",
    "        shutil.rmtree(newpath)\n",
    "        \n",
    "    shutil.move(OUTDIR, newpath)"
   ]
  },
  {
   "cell_type": "code",
   "execution_count": 51,
   "metadata": {},
   "outputs": [],
   "source": [
    "morgan_len = 1000\n",
    "for d_set in [train, val, test]:\n",
    "    whim =  torch.tensor(d_set.props['whim'].cpu().numpy(), dtype=torch.float32)\n",
    "    d_set.add_morgan(100)\n",
    "    morgan = torch.stack(d_set.props['morgan'])\n",
    "    \n",
    "    fingerprint = torch.cat([whim, morgan], dim=-1)\n",
    "#     fingerprint = torch.cat([whim], dim=-1)\n",
    "#     fingerprint = torch.cat([morgan], dim=-1)\n",
    "\n",
    "\n",
    "    d_set.props['fingerprint'] = fingerprint\n",
    "\n",
    "\n",
    "    "
   ]
  },
  {
   "cell_type": "code",
   "execution_count": 53,
   "metadata": {},
   "outputs": [],
   "source": [
    "loaders = []\n",
    "\n",
    "for split in [train, val, test]:\n",
    "    props = split.props\n",
    "    kwargs = {}\n",
    "    if split in [train]:\n",
    "        sampler = ImbalancedDatasetSampler(\n",
    "            target_name=\"bind\",\n",
    "            props=props)\n",
    "        kwargs.update({\"sampler\": sampler})\n",
    "    loader = DataLoader(split, batch_size=BATCH_SIZE, \n",
    "                        collate_fn=collate_dicts,\n",
    "                       **kwargs)\n",
    "    loaders.append(loader)\n",
    "    \n",
    "train_loader, val_loader, test_loader = loaders"
   ]
  },
  {
   "cell_type": "code",
   "execution_count": 54,
   "metadata": {},
   "outputs": [
    {
     "name": "stdout",
     "output_type": "stream",
     "text": [
      "2921\n",
      "2941\n",
      "0.49829409757761856\n"
     ]
    }
   ],
   "source": [
    "\n",
    "num_bind = 0\n",
    "num_non_bind = 0\n",
    "\n",
    "for batch in train_loader:\n",
    "    bind = batch['bind'].sum()\n",
    "    non_bind = len(batch['bind']) - bind\n",
    "\n",
    "    num_bind += bind.item()\n",
    "    num_non_bind += non_bind.item()\n",
    "\n",
    "print(num_bind)\n",
    "print(num_non_bind)\n",
    "print(num_bind / (num_bind + num_non_bind))\n"
   ]
  },
  {
   "cell_type": "code",
   "execution_count": null,
   "metadata": {},
   "outputs": [],
   "source": []
  },
  {
   "cell_type": "code",
   "execution_count": null,
   "metadata": {},
   "outputs": [],
   "source": []
  },
  {
   "cell_type": "code",
   "execution_count": null,
   "metadata": {},
   "outputs": [],
   "source": []
  },
  {
   "cell_type": "code",
   "execution_count": null,
   "metadata": {},
   "outputs": [],
   "source": []
  },
  {
   "cell_type": "code",
   "execution_count": 55,
   "metadata": {},
   "outputs": [],
   "source": [
    "\n",
    "\n",
    "n_mol_basis  = train.props['fingerprint'][0].shape[0] \n",
    "\n",
    "\n",
    "\n",
    "\n",
    "n_atom_basis = 1\n",
    "n_bond_features = 1\n",
    "\n",
    "n_bond_hidden = 300\n",
    "\n",
    "n_filters = 30\n",
    "\n",
    "n_gaussians = 10\n",
    "n_edge_hidden = n_bond_hidden + n_filters\n",
    "\n",
    "\n",
    "mol_fp_drop = 0.0\n",
    "schnet_dropout = 0.5\n",
    "cp_dropout = 0.0\n",
    "readout_drop = 0.5\n",
    "n_convolutions = 2\n",
    "\n",
    "\n",
    "input_layers = [{'name': 'linear', 'param': {'in_features': n_bond_features + n_atom_basis,\n",
    "                                         'out_features': n_bond_hidden}},\n",
    "            {'name': 'ReLU', 'param': {}}]\n",
    "\n",
    "output_layers = [{'name': 'linear', 'param': {'in_features': n_atom_basis + n_edge_hidden,\n",
    "                                         'out_features': n_mol_basis}},\n",
    "                {'name': 'ReLU', 'param': {}}]\n",
    "\n",
    "readoutdict = {'bind': [\n",
    "            {'name': 'linear', 'param' : { 'in_features': n_mol_basis, 'out_features': int(n_mol_basis / 2)}},\n",
    "            {'name': 'ReLU', 'param': {}},\n",
    "            {'name': 'Dropout', 'param': {'p': readout_drop}},\n",
    "            {'name': 'linear', 'param' : { 'in_features': int(n_mol_basis / 2), 'out_features': 1}},\n",
    "            {'name': 'sigmoid', 'param': {}},\n",
    "        ]\n",
    "    }\n",
    "\n",
    "\n",
    "mol_fp_layers = []\n",
    "\n",
    "\n",
    "\n",
    "params = {\n",
    "    'n_atom_basis': n_atom_basis,\n",
    "    'n_bond_hidden': n_bond_hidden,\n",
    "    'input_layers': input_layers,\n",
    "    'output_layers': output_layers,\n",
    "    'n_filters': n_filters,\n",
    "    'n_gaussians': n_gaussians,\n",
    "    'cp_dropout': cp_dropout,\n",
    "    'schnet_dropout': schnet_dropout,\n",
    "    'gauss_embed': True,\n",
    "    'n_convolutions': n_convolutions,\n",
    "    'cutoff': 5.0,\n",
    "    'trainable_gauss': True,\n",
    "    'dropout_rate': schnet_dropout,\n",
    "    'readoutdict': readoutdict,\n",
    "    'boltzmann_dict': {'type': 'multiply'},\n",
    "    'mol_fp_layers': mol_fp_layers,\n",
    "    'same_filters': True,\n",
    "    'activation': 'ReLU',\n",
    "    'batch_embeddings': True,\n",
    "#     \"extra_features\": [{\"name\": \"whim\", \"length\": whim_len}]\n",
    "\n",
    "\n",
    "    \n",
    "}\n",
    "\n",
    "\n",
    "\n",
    "model = get_model(params, model_type=\"SchNetFeatures\")"
   ]
  },
  {
   "cell_type": "code",
   "execution_count": 56,
   "metadata": {},
   "outputs": [],
   "source": [
    "delattr(model, \"convolutions\")\n",
    "delattr(model, \"mol_fp_nn\")\n",
    "delattr(model, \"W_i\")\n",
    "delattr(model, \"W_o\")"
   ]
  },
  {
   "cell_type": "markdown",
   "metadata": {},
   "source": [
    "## Creating a trainer"
   ]
  },
  {
   "cell_type": "code",
   "execution_count": 57,
   "metadata": {},
   "outputs": [
    {
     "data": {
      "text/plain": [
       "SchNetFeatures(\n",
       "  (readout): NodeMultiTaskReadOut(\n",
       "    (readout): ModuleDict(\n",
       "      (bind): Sequential(\n",
       "        (linear0): Linear(in_features=214, out_features=107, bias=True)\n",
       "        (ReLU1): ReLU()\n",
       "        (Dropout2): Dropout(p=0.5, inplace=False)\n",
       "        (linear3): Linear(in_features=107, out_features=1, bias=True)\n",
       "        (sigmoid4): Sigmoid()\n",
       "      )\n",
       "    )\n",
       "  )\n",
       ")"
      ]
     },
     "execution_count": 57,
     "metadata": {},
     "output_type": "execute_result"
    }
   ],
   "source": [
    "model"
   ]
  },
  {
   "cell_type": "markdown",
   "metadata": {},
   "source": [
    "To train our model with the data provided, we have to create a loss function. The easiest way to do that is through the `build_mse_loss` builder. Its argument `rho` is a parameter that will multiply the mean square error (MSE) of the force components before summing it with the MSE of the energy."
   ]
  },
  {
   "cell_type": "code",
   "execution_count": 58,
   "metadata": {},
   "outputs": [],
   "source": [
    "loss_fn = loss.build_cross_entropy_loss(loss_coef={'bind': 1})"
   ]
  },
  {
   "cell_type": "markdown",
   "metadata": {},
   "source": [
    "We should also select an optimizer for our recently created model:"
   ]
  },
  {
   "cell_type": "code",
   "execution_count": 59,
   "metadata": {},
   "outputs": [],
   "source": [
    "trainable_params = filter(lambda p: p.requires_grad, model.parameters())\n",
    "optimizer = Adam(trainable_params, lr=1e-4)"
   ]
  },
  {
   "cell_type": "markdown",
   "metadata": {},
   "source": [
    "### Metrics and hooks"
   ]
  },
  {
   "cell_type": "markdown",
   "metadata": {},
   "source": [
    "If we want to monitor the progress of our training, say by looking at the mean absolute error (MAE) of energies and forces, we can simply create metrics to observe them:"
   ]
  },
  {
   "cell_type": "code",
   "execution_count": null,
   "metadata": {},
   "outputs": [],
   "source": [
    "\n"
   ]
  },
  {
   "cell_type": "code",
   "execution_count": 60,
   "metadata": {},
   "outputs": [],
   "source": [
    "train_metrics = [\n",
    "    metrics.RocAuc('bind'),\n",
    "    metrics.PrAuc('bind')\n",
    "]"
   ]
  },
  {
   "cell_type": "markdown",
   "metadata": {},
   "source": [
    "Furthermore, if we want to customize how our training procedure is done, we can use hooks which can interrupt or change the train automatically.\n",
    "\n",
    "In our case, we are adding hooks to:\n",
    "* Stop the training procedure after 100 epochs;\n",
    "* Log the training on a machine-readable CSV file under the directory `./sandbox`;\n",
    "* Print the progress on the screen with custom formatting; and\n",
    "* Setup a scheduler for the learning rate."
   ]
  },
  {
   "cell_type": "code",
   "execution_count": 61,
   "metadata": {},
   "outputs": [],
   "source": [
    "train_hooks = [\n",
    "    hooks.MaxEpochHook(1000),\n",
    "    hooks.CSVHook(\n",
    "        OUTDIR,\n",
    "        metrics=train_metrics,\n",
    "    ),\n",
    "    hooks.PrintingHook(\n",
    "        OUTDIR,\n",
    "        metrics=train_metrics,\n",
    "        separator = ' | ',\n",
    "        time_strf='%M:%S'\n",
    "    ),\n",
    "    hooks.ReduceLROnPlateauHook(\n",
    "        optimizer=optimizer,\n",
    "        patience=10,\n",
    "        factor=0.5,\n",
    "        min_lr=1e-7,\n",
    "        window_length=1,\n",
    "        stop_after_min=True\n",
    "    )\n",
    "]"
   ]
  },
  {
   "cell_type": "markdown",
   "metadata": {},
   "source": [
    "### Trainer wrapper"
   ]
  },
  {
   "cell_type": "markdown",
   "metadata": {},
   "source": [
    "A `Trainer` in the `nff` package is a wrapper to train a model. It automatically creates checkpoints, as well as trains and validates a given model. It also allow further training by loading checkpoints from existing paths, making the training procedure more flexible. Its functionalities can be extended by the hooks we created above. To create a trainer, we have to execute the following command:"
   ]
  },
  {
   "cell_type": "code",
   "execution_count": 62,
   "metadata": {},
   "outputs": [],
   "source": [
    "T = Trainer(\n",
    "    model_path=OUTDIR,\n",
    "    model=model,\n",
    "    loss_fn=loss_fn,\n",
    "    optimizer=optimizer,\n",
    "    train_loader=train_loader,\n",
    "    validation_loader=val_loader,\n",
    "    checkpoint_intbatcerval=1,\n",
    "    hooks=train_hooks,\n",
    "    mini_batches=MINI_BATCHES\n",
    ")"
   ]
  },
  {
   "cell_type": "markdown",
   "metadata": {},
   "source": [
    "Now we can finally train the model using the method `train` from the `Trainer`:"
   ]
  },
  {
   "cell_type": "code",
   "execution_count": 63,
   "metadata": {
    "scrolled": true
   },
   "outputs": [
    {
     "name": "stdout",
     "output_type": "stream",
     "text": [
      " Time | Epoch | Learning rate | Train loss | Validation loss | RocAuc_bind | PrAuc_bind | GPU Memory (MB)\n",
      "10:12 |     1 |     1.000e-04 |     3.3507 |          1.6045 |      0.6119 |     0.0541 |              27\n",
      "10:13 |     2 |     1.000e-04 |     2.1287 |          0.8567 |      0.6028 |     0.0531 |              27\n",
      "10:14 |     3 |     1.000e-04 |     1.3473 |          0.8857 |      0.5902 |     0.0520 |              27\n",
      "10:15 |     4 |     1.000e-04 |     0.9119 |          0.7678 |      0.6159 |     0.0565 |              27\n",
      "10:16 |     5 |     1.000e-04 |     0.7382 |          0.6922 |      0.5938 |     0.0586 |              27\n",
      "10:17 |     6 |     1.000e-04 |     0.6936 |          0.7418 |      0.6317 |     0.0587 |              27\n",
      "10:18 |     7 |     1.000e-04 |     0.6738 |          0.6750 |      0.6548 |     0.0630 |              27\n",
      "10:19 |     8 |     1.000e-04 |     0.6642 |          0.6544 |      0.6396 |     0.0646 |              27\n",
      "10:20 |     9 |     1.000e-04 |     0.6550 |          0.7127 |      0.6549 |     0.0668 |              27\n",
      "10:21 |    10 |     1.000e-04 |     0.6505 |          0.6131 |      0.6518 |     0.0673 |              27\n",
      "10:22 |    11 |     1.000e-04 |     0.6515 |          0.6959 |      0.6725 |     0.0687 |              27\n",
      "10:23 |    12 |     1.000e-04 |     0.6428 |          0.5876 |      0.6692 |     0.0781 |              27\n",
      "10:24 |    13 |     1.000e-04 |     0.6419 |          0.5852 |      0.6770 |     0.0796 |              27\n",
      "10:24 |    14 |     1.000e-04 |     0.6297 |          0.5900 |      0.6828 |     0.0901 |              27\n"
     ]
    },
    {
     "ename": "KeyboardInterrupt",
     "evalue": "",
     "output_type": "error",
     "traceback": [
      "\u001b[0;31m---------------------------------------------------------------------------\u001b[0m",
      "\u001b[0;31mKeyboardInterrupt\u001b[0m                         Traceback (most recent call last)",
      "\u001b[0;32m<ipython-input-63-ea37f573d24c>\u001b[0m in \u001b[0;36m<module>\u001b[0;34m\u001b[0m\n\u001b[1;32m      2\u001b[0m \u001b[0;34m\u001b[0m\u001b[0m\n\u001b[1;32m      3\u001b[0m \u001b[0;32mtry\u001b[0m\u001b[0;34m:\u001b[0m\u001b[0;34m\u001b[0m\u001b[0;34m\u001b[0m\u001b[0m\n\u001b[0;32m----> 4\u001b[0;31m     \u001b[0mT\u001b[0m\u001b[0;34m.\u001b[0m\u001b[0mtrain\u001b[0m\u001b[0;34m(\u001b[0m\u001b[0mdevice\u001b[0m\u001b[0;34m=\u001b[0m\u001b[0mDEVICE\u001b[0m\u001b[0;34m,\u001b[0m \u001b[0mn_epochs\u001b[0m\u001b[0;34m=\u001b[0m\u001b[0;36m1000\u001b[0m\u001b[0;34m)\u001b[0m\u001b[0;34m\u001b[0m\u001b[0;34m\u001b[0m\u001b[0m\n\u001b[0m\u001b[1;32m      5\u001b[0m \u001b[0;32mexcept\u001b[0m \u001b[0mException\u001b[0m \u001b[0;32mas\u001b[0m \u001b[0me\u001b[0m\u001b[0;34m:\u001b[0m\u001b[0;34m\u001b[0m\u001b[0;34m\u001b[0m\u001b[0m\n\u001b[1;32m      6\u001b[0m     \u001b[0mprint\u001b[0m\u001b[0;34m(\u001b[0m\u001b[0me\u001b[0m\u001b[0;34m)\u001b[0m\u001b[0;34m\u001b[0m\u001b[0;34m\u001b[0m\u001b[0m\n",
      "\u001b[0;32m~/Repo/projects/covid_nff/NeuralForceField/nff/train/trainer.py\u001b[0m in \u001b[0;36mtrain\u001b[0;34m(self, device, n_epochs)\u001b[0m\n\u001b[1;32m    201\u001b[0m \u001b[0;34m\u001b[0m\u001b[0m\n\u001b[1;32m    202\u001b[0m                     \u001b[0mresults\u001b[0m \u001b[0;34m=\u001b[0m \u001b[0mself\u001b[0m\u001b[0;34m.\u001b[0m\u001b[0mcall_model\u001b[0m\u001b[0;34m(\u001b[0m\u001b[0mbatch\u001b[0m\u001b[0;34m)\u001b[0m\u001b[0;34m\u001b[0m\u001b[0;34m\u001b[0m\u001b[0m\n\u001b[0;32m--> 203\u001b[0;31m                     \u001b[0mloss\u001b[0m \u001b[0;34m+=\u001b[0m \u001b[0mself\u001b[0m\u001b[0;34m.\u001b[0m\u001b[0mloss_fn\u001b[0m\u001b[0;34m(\u001b[0m\u001b[0mbatch\u001b[0m\u001b[0;34m,\u001b[0m \u001b[0mresults\u001b[0m\u001b[0;34m)\u001b[0m\u001b[0;34m\u001b[0m\u001b[0;34m\u001b[0m\u001b[0m\n\u001b[0m\u001b[1;32m    204\u001b[0m                     \u001b[0mself\u001b[0m\u001b[0;34m.\u001b[0m\u001b[0mstep\u001b[0m \u001b[0;34m+=\u001b[0m \u001b[0;36m1\u001b[0m\u001b[0;34m\u001b[0m\u001b[0;34m\u001b[0m\u001b[0m\n\u001b[1;32m    205\u001b[0m \u001b[0;34m\u001b[0m\u001b[0m\n",
      "\u001b[0;32m~/Repo/projects/covid_nff/NeuralForceField/nff/train/loss.py\u001b[0m in \u001b[0;36mloss_fn\u001b[0;34m(ground_truth, results)\u001b[0m\n\u001b[1;32m     66\u001b[0m \u001b[0;34m\u001b[0m\u001b[0m\n\u001b[1;32m     67\u001b[0m             \u001b[0;32mif\u001b[0m \u001b[0mlen\u001b[0m\u001b[0;34m(\u001b[0m\u001b[0mtarg\u001b[0m\u001b[0;34m)\u001b[0m \u001b[0;34m!=\u001b[0m \u001b[0;36m0\u001b[0m\u001b[0;34m:\u001b[0m\u001b[0;34m\u001b[0m\u001b[0;34m\u001b[0m\u001b[0m\n\u001b[0;32m---> 68\u001b[0;31m                 \u001b[0mdiff\u001b[0m \u001b[0;34m=\u001b[0m \u001b[0moperation\u001b[0m\u001b[0;34m(\u001b[0m\u001b[0mtarg\u001b[0m\u001b[0;34m=\u001b[0m\u001b[0mtarg\u001b[0m\u001b[0;34m,\u001b[0m \u001b[0mpred\u001b[0m\u001b[0;34m=\u001b[0m\u001b[0mpred\u001b[0m\u001b[0;34m)\u001b[0m\u001b[0;34m\u001b[0m\u001b[0;34m\u001b[0m\u001b[0m\n\u001b[0m\u001b[1;32m     69\u001b[0m                 \u001b[0merr_sq\u001b[0m \u001b[0;34m=\u001b[0m \u001b[0mcoef\u001b[0m \u001b[0;34m*\u001b[0m \u001b[0mtorch\u001b[0m\u001b[0;34m.\u001b[0m\u001b[0mmean\u001b[0m\u001b[0;34m(\u001b[0m\u001b[0mdiff\u001b[0m\u001b[0;34m)\u001b[0m\u001b[0;34m\u001b[0m\u001b[0;34m\u001b[0m\u001b[0m\n\u001b[1;32m     70\u001b[0m                 \u001b[0mloss\u001b[0m \u001b[0;34m+=\u001b[0m \u001b[0merr_sq\u001b[0m\u001b[0;34m\u001b[0m\u001b[0;34m\u001b[0m\u001b[0m\n",
      "\u001b[0;32m~/Repo/projects/covid_nff/NeuralForceField/nff/train/loss.py\u001b[0m in \u001b[0;36mcross_entropy\u001b[0;34m(targ, pred)\u001b[0m\n\u001b[1;32m    104\u001b[0m     \u001b[0mtarg\u001b[0m \u001b[0;34m=\u001b[0m \u001b[0mtarg\u001b[0m\u001b[0;34m.\u001b[0m\u001b[0mto\u001b[0m\u001b[0;34m(\u001b[0m\u001b[0mtorch\u001b[0m\u001b[0;34m.\u001b[0m\u001b[0mfloat\u001b[0m\u001b[0;34m)\u001b[0m\u001b[0;34m\u001b[0m\u001b[0;34m\u001b[0m\u001b[0m\n\u001b[1;32m    105\u001b[0m     diff = -(targ * torch.log(pred + EPS) +\n\u001b[0;32m--> 106\u001b[0;31m              (1-targ) * torch.log(1 - pred + EPS))\n\u001b[0m\u001b[1;32m    107\u001b[0m     \u001b[0;32mreturn\u001b[0m \u001b[0mdiff\u001b[0m\u001b[0;34m\u001b[0m\u001b[0;34m\u001b[0m\u001b[0m\n\u001b[1;32m    108\u001b[0m \u001b[0;34m\u001b[0m\u001b[0m\n",
      "\u001b[0;31mKeyboardInterrupt\u001b[0m: "
     ]
    }
   ],
   "source": [
    "import pdb\n",
    "\n",
    "try:\n",
    "    T.train(device=DEVICE, n_epochs=1000)\n",
    "except Exception as e:\n",
    "    print(e)\n",
    "    pdb.post_mortem()"
   ]
  },
  {
   "cell_type": "markdown",
   "metadata": {},
   "source": [
    "## Evaluating the model on the test set"
   ]
  },
  {
   "cell_type": "markdown",
   "metadata": {},
   "source": [
    "Now we have a brand new model trained and validated. We can use the best model from this training to evaluate its performance on the test set. `results` contains the predictions of properties for the whole test dataset. `targets` contains the ground truth for such data. `test_loss` is the loss, calculated with the same function used during the training part"
   ]
  },
  {
   "cell_type": "code",
   "execution_count": null,
   "metadata": {},
   "outputs": [],
   "source": []
  },
  {
   "cell_type": "code",
   "execution_count": 48,
   "metadata": {},
   "outputs": [],
   "source": [
    "sampler = ImbalancedDatasetSampler(\n",
    "    target_name=\"bind\",\n",
    "    props=props)\n",
    "\n",
    "balanced_test_loader = DataLoader(test, batch_size=BATCH_SIZE, \n",
    "            collate_fn=collate_dicts,\n",
    "           sampler=sampler)\n",
    "\n",
    "# results, targets, val_loss = evaluate(model, balanced_test_loader, loss_fn, device=DEVICE)\n",
    "results, targets, val_loss = evaluate(T.get_best_model(), balanced_test_loader, loss_fn, device=DEVICE)\n",
    "\n"
   ]
  },
  {
   "cell_type": "code",
   "execution_count": 49,
   "metadata": {},
   "outputs": [],
   "source": [
    "y_score = torch.cat(results['bind']).reshape(-1).numpy()\n",
    "y_true = torch.cat(targets['bind']).reshape(-1).numpy()\n",
    "\n",
    "roc_score = roc_auc_score(y_true=y_true, y_score=y_score)\n",
    "fpr, tpr, thresholds = roc_curve(y_true=y_true, y_score=y_score)\n",
    "\n",
    "precision, recall, thresholds = precision_recall_curve(y_true, y_score)\n",
    "prc_score = auc(recall, precision)\n",
    "\n"
   ]
  },
  {
   "cell_type": "code",
   "execution_count": 50,
   "metadata": {},
   "outputs": [
    {
     "data": {
      "image/png": "[encoded data removed]",
      "text/plain": [
       "<Figure size 432x288 with 1 Axes>"
      ]
     },
     "metadata": {
      "needs_background": "light"
     },
     "output_type": "display_data"
    },
    {
     "data": {
      "image/png": "[encoded data removed]",
      "text/plain": [
       "<Figure size 432x288 with 1 Axes>"
      ]
     },
     "metadata": {
      "needs_background": "light"
     },
     "output_type": "display_data"
    }
   ],
   "source": [
    "plt.rcParams.update({'font.size': 15})\n",
    "\n",
    "\n",
    "text = \"ROC score = %.2f\" % roc_score\n",
    "\n",
    "fig, ax = plt.subplots()\n",
    "plt.plot(fpr, tpr)\n",
    "plt.xlabel('False positive rate')\n",
    "plt.ylabel('True positive rate')\n",
    "plt.text(0.3, 0.5, text, fontsize=20, transform=ax.transAxes)\n",
    "\n",
    "plt.show()\n",
    "\n",
    "\n",
    "\n",
    "\n",
    "text = \"PRC score = %.2f\" % prc_score\n",
    "\n",
    "fig, ax = plt.subplots()\n",
    "plt.plot(precision, recall)\n",
    "plt.xlabel('Precision')\n",
    "plt.ylabel('Recall')\n",
    "plt.text(0.3, 0.5, text, fontsize=20, transform=ax.transAxes)\n",
    "\n",
    "\n",
    "plt.show()"
   ]
  },
  {
   "cell_type": "code",
   "execution_count": null,
   "metadata": {},
   "outputs": [],
   "source": []
  },
  {
   "cell_type": "code",
   "execution_count": null,
   "metadata": {},
   "outputs": [],
   "source": []
  },
  {
   "cell_type": "code",
   "execution_count": null,
   "metadata": {},
   "outputs": [],
   "source": []
  }
 ],
 "metadata": {
  "kernelspec": {
   "display_name": "Python [conda env:covid_mit]",
   "language": "python",
   "name": "covid_mit"
  },
  "language_info": {
   "codemirror_mode": {
    "name": "ipython",
    "version": 3
   },
   "file_extension": ".py",
   "mimetype": "text/x-python",
   "name": "python",
   "nbconvert_exporter": "python",
   "pygments_lexer": "ipython3",
   "version": "3.6.10"
  }
 },
 "nbformat": 4,
 "nbformat_minor": 2
}
