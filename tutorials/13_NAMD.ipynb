{
 "cells": [
  {
   "cell_type": "code",
   "execution_count": 1,
   "metadata": {},
   "outputs": [],
   "source": [
    "%load_ext autoreload\n",
    "%autoreload 2"
   ]
  },
  {
   "cell_type": "markdown",
   "metadata": {},
   "source": [
    "# Non-adiabatic dynamics\n",
    "This tutorial shows how to run non-adiabatic dynamics with a trained model. We'll use both [Tully's surface hopping](https://doi.org/10.1063/1.459170) and the [Zhu-Nakamura method](https://doi.org/10.1039/C4CP03498H).\n",
    "\n",
    "First let's import dependencies:\n"
   ]
  },
  {
   "cell_type": "code",
   "execution_count": 2,
   "metadata": {},
   "outputs": [
    {
     "data": {
      "application/vnd.jupyter.widget-view+json": {
       "model_id": "6cc65e0bf35c465eaab3eaadac8c16c1",
       "version_major": 2,
       "version_minor": 0
      },
      "text/plain": []
     },
     "metadata": {},
     "output_type": "display_data"
    }
   ],
   "source": [
    "import sys\n",
    "import os\n",
    "\n",
    "# so that NFF is in your path\n",
    "sys.path.insert(0, \"..\")\n",
    "\n",
    "import json\n",
    "from nff.train import load_model\n",
    "from nff.md.tully.io import get_results, load_json, get_atoms\n",
    "from nff.md.tully.dynamics import NeuralTully, CombinedNeuralTully\n",
    "from ase.io.trajectory import Trajectory\n",
    "import nglview as nv\n"
   ]
  },
  {
   "cell_type": "markdown",
   "metadata": {},
   "source": [
    "Now we'll find a trained model. The trained azobenzene models can be found in `NeuralForceField/models/azo_derivatives`. The sub-folders are for diabatic and adiabatic models, trained either with the full set of geometries, or with 40 species held out. There are also three models trained with different splits and different initialization from random seeds:"
   ]
  },
  {
   "cell_type": "code",
   "execution_count": 3,
   "metadata": {},
   "outputs": [
    {
     "name": "stdout",
     "output_type": "stream",
     "text": [
      "['all_diabatic', 'holdout_diabatic', 'holdout_adiabatic']\n",
      "['seed_0', 'seed_2', 'seed_1']\n"
     ]
    }
   ],
   "source": [
    "print(os.listdir('../models/azo_derivatives'))\n",
    "print(os.listdir('../models/azo_derivatives/all_diabatic'))"
   ]
  },
  {
   "cell_type": "markdown",
   "metadata": {},
   "source": [
    "We'll use the diabatic model trained on all species, with seed 0: `../models/azo_derivatives/all_diabatic/seed_0`."
   ]
  },
  {
   "cell_type": "markdown",
   "metadata": {},
   "source": [
    "## Tully\n",
    "\n",
    "The script for Tully's surface hopping is `NeuralForceField/nff/md/tully/dynamics.py`. If you run the script and supply the path of a JSON parameter file, it will do the rest for you. Here we'll go through some parameters to give, and show a little of what goes on behind the scenes.\n",
    "\n",
    "We'll have to define `ground_params`, `tully_params`, and `all_params`. The first is for parameters in the ground state MD simulation, and the second for Tully's surface hopping. The third is for some remaining parameters, which we'll explain below.\n",
    "\n",
    "Let's define `ground_params`:"
   ]
  },
  {
   "cell_type": "code",
   "execution_count": 4,
   "metadata": {},
   "outputs": [],
   "source": [
    "ground_params = {'ttime': 50, # tau = ttime * dt is the relaxation time\n",
    "                 'logfile': 'ground.log', # log file for ground state MD\n",
    "                 'max_time': 200, # total time in fs\n",
    "                 'savefile': 'ground.trj', # output file with saved geometries\n",
    "                 'timestep': 0.5, # dt in fs\n",
    "                 'equil_time': 100, # ignore this amount of time (fs) when sampling\n",
    "                                  # geoms for NAMD\n",
    "                 'thermostat': 'nosehoover', # use the Nose Hoover thermostat\n",
    "                 'loginterval': 5, # log the energy and save geoms every 5 steps\n",
    "                 'temperature': 300, # temperature in Kelvin\n",
    "                 'maxwell_temp': 300, # initialization temperature from\n",
    "                                      # Maxwell-Boltzmann distribution\n",
    "                 'nbr_update_period': 10, # update the neighbor list every 10 steps\n",
    "                 'cutoff': 5.0, # neighbor list cutoff in Angstrom \n",
    "                 'cutoff_skin': 2.0, # extra distance added to cutoff when updating\n",
    "                                     # neighbor list, to account for atoms coming into\n",
    "                                     # the 5 A sphere between updates \n",
    "                 'model_type': 'PainnDiabat', # model class we're using\n",
    "                 'device': 1, # GPU to use. Set to \"cpu\" if you don't have a GPU\n",
    "                }"
   ]
  },
  {
   "cell_type": "markdown",
   "metadata": {},
   "source": [
    "Now let's do `tully_params`:"
   ]
  },
  {
   "cell_type": "code",
   "execution_count": 5,
   "metadata": {},
   "outputs": [],
   "source": [
    "diabat_keys = [['d_00', 'd_01', 'd_02'],\n",
    "               ['d_01', 'd_11', 'd_12'],\n",
    "               ['d_02', 'd_12', 'd_22']]\n",
    "\n",
    "tully_params = {\n",
    "                 'dt': 0.5, # dt in fs\n",
    "                 'cutoff': 5.0, # neighbor list cutoff in Angstrom \n",
    "                 'hop_eqn': 'sharc', # use the SHARC equation for computing the \n",
    "                                     # hopping probability\n",
    "                 'num_trj': 10, # number of surface hopping trajectories\n",
    "                 'max_time': 200, # maximum time in fs\n",
    "                 'batch_size': 5, # number of trajectories to batch together \n",
    "                                  # so that inference is done in parallel\n",
    "                 'num_states': 2, # number of adiabatic states\n",
    "                 'cutoff_skin': 2.0, # extra distance added to cutoff when updating\n",
    "                                     # neighbor list, to account for atoms coming into\n",
    "                                     # the 5 A sphere between updates \n",
    "                 'decoherence': {'name': 'truhlar'}, # use Truhlar's decoherence method\n",
    "                 'max_gap_hop': None, # maximum gap, above which hops cannot occur\n",
    "                 'save_period': 10, # save every 10 steps (5 fs)\n",
    "                 'initial_surf': 1, # start on the first excited adiabatic state\n",
    "                 'initial_time': 0.0, # start at t = 0\n",
    "                 'elec_substeps': 25, # 25 electronic steps for every nuclear step\n",
    "                 'reload_ground': False, # If the ground state trajectory is already\n",
    "                                        # complete from a previous run, then do not load\n",
    "                                        # it instead of re-running\n",
    "                 'diabat_propagate': True, # propagate in the diabatic basis\n",
    "                 'simple_vel_scale': True, # after a hop, simply rescale the velocity\n",
    "                                           # to conserve energy, instead of scaling in\n",
    "                                           # NACV direction\n",
    "                 'nbr_update_period': 10, # update neighbor list every 10 steps\n",
    "                 'explicit_diabat_prop': True, # propagate in diabatic basis,                                 \n",
    "                 'device': 1, # GPU to use. Set to \"cpu\" if you don't have a GPU\n",
    "                 'diabat_keys': diabat_keys # names of diabatic energies predicted\n",
    "                                # by model\n",
    "                \n",
    "    \n",
    "                \n",
    "}"
   ]
  },
  {
   "cell_type": "markdown",
   "metadata": {},
   "source": [
    "Lastly we'll define `all_params`, which has the starting coordinates and the model path:"
   ]
  },
  {
   "cell_type": "code",
   "execution_count": 6,
   "metadata": {},
   "outputs": [],
   "source": [
    "with open('data/azo_coords.json', 'r') as f:\n",
    "    coords = json.load(f)\n",
    "\n",
    "all_params = {\"coords\": coords, # starting geometry of the molecule\n",
    "              'model_path': '../models/azo_derivatives/all_diabatic/seed_0'\n",
    "             }"
   ]
  },
  {
   "cell_type": "markdown",
   "metadata": {},
   "source": [
    "When we run the script from the command line, it parses these three dictionaries from a file and makes an instance of `CombinedNeuralTully`, like this:"
   ]
  },
  {
   "cell_type": "code",
   "execution_count": 7,
   "metadata": {},
   "outputs": [],
   "source": [
    "atomsbatch = get_atoms(ground_params=ground_params,\n",
    "                      all_params=all_params)\n",
    "\n",
    "tully_params.update({\"model_path\": all_params['model_path']})\n",
    "\n",
    "neural_tully = CombinedNeuralTully(atoms=atomsbatch,\n",
    "                                   ground_params=ground_params,\n",
    "                                   tully_params=tully_params)\n",
    "    \n"
   ]
  },
  {
   "cell_type": "markdown",
   "metadata": {},
   "source": [
    "The first thing it does is make an `AtomsBatch` object. This is a class we made that inherits from the ASE `Atoms` object, and has othe functionalities to interface with NFF. Then an instance of `CombinedNeuralTully` is made. This object runs ground-state dynamics to generate starting frames and velocities, and then performs surface hopping. It's called \"combined\" because it combines ground- and excited-state dynamics.\n",
    "\n",
    "For an example of how you would use this script in practice, check out `data/tully_info.json`. If you run\n",
    "```bash\n",
    "python ../nff/md/tully/dynamics.py --params_file data/tully_info.json\n",
    "```\n",
    "then you should be able to peform neural Tully in one line. Note that in `tully_info.json`, the `all_params` part of the dictionary is its body, i.e. everything that doesn't have the key `ground_params` or `tully_params`.\n",
    "\n",
    "**Note**: it is very important to have PyTorch version >=1.9 installed. PyTorch is used for exponentiation of complex matrices, which the older versions could not do. Instead of raising an error, the old versions silently return garbage!"
   ]
  },
  {
   "cell_type": "code",
   "execution_count": 8,
   "metadata": {},
   "outputs": [
    {
     "name": "stderr",
     "output_type": "stream",
     "text": [
      "../nff/nn/modules/diabat.py:140: UserWarning: torch.symeig is deprecated in favor of torch.linalg.eigh and will be removed in a future PyTorch release.\n",
      "The default behavior has changed from using the upper triangular portion of the matrix by default to using the lower triangular portion.\n",
      "L, _ = torch.symeig(A, upper=upper)\n",
      "should be replaced with\n",
      "L = torch.linalg.eigvalsh(A, UPLO='U' if upper else 'L')\n",
      "and\n",
      "L, V = torch.symeig(A, eigenvectors=True)\n",
      "should be replaced with\n",
      "L, V = torch.linalg.eigh(A, UPLO='U' if upper else 'L') (Triggered internally at  /opt/conda/conda-bld/pytorch_1623448224956/work/aten/src/ATen/native/BatchLinearAlgebra.cpp:2500.)\n",
      "  ad_energies, u = torch.symeig(d_mat, True)\n"
     ]
    }
   ],
   "source": [
    "neural_tully.run()"
   ]
  },
  {
   "cell_type": "markdown",
   "metadata": {},
   "source": [
    "We can view the ground-state log file:"
   ]
  },
  {
   "cell_type": "code",
   "execution_count": 9,
   "metadata": {
    "scrolled": true
   },
   "outputs": [
    {
     "name": "stdout",
     "output_type": "stream",
     "text": [
      "Time[ps]      Etot[eV]     Epot[eV]     Ekin[eV]    T[K]\n",
      "0.0000           0.3437      -0.8128       1.1565   263.1\n",
      "0.0025           0.3469      -0.5268       0.8737   198.8\n",
      "0.0050           0.3483      -0.2973       0.6456   146.9\n",
      "0.0075           0.3545      -0.1298       0.4842   110.2\n",
      "0.0100           0.3595      -0.2909       0.6504   148.0\n",
      "0.0125           0.3736      -0.2299       0.6036   137.3\n",
      "0.0150           0.3873      -0.3216       0.7089   161.3\n",
      "0.0175           0.4090      -0.2925       0.7016   159.6\n",
      "0.0200           0.4315      -0.3680       0.7994   181.9\n",
      "0.0225           0.4600      -0.1814       0.6413   145.9\n",
      "0.0250           0.4847      -0.1962       0.6809   154.9\n",
      "0.0275           0.5156      -0.0803       0.5959   135.6\n",
      "0.0300           0.5457      -0.1167       0.6624   150.7\n",
      "0.0325           0.5811       0.0279       0.5533   125.9\n",
      "0.0350           0.6176      -0.1252       0.7428   169.0\n",
      "0.0375           0.6677      -0.0601       0.7278   165.6\n",
      "0.0400           0.7185      -0.0452       0.7637   173.8\n",
      "0.0425           0.7702       0.1460       0.6242   142.0\n",
      "0.0450           0.8233       0.0062       0.8171   185.9\n",
      "0.0475           0.8919       0.0644       0.8276   188.3\n",
      "0.0500           0.9660       0.0451       0.9209   209.5\n",
      "0.0525           1.0407       0.2675       0.7732   175.9\n",
      "0.0550           1.1179       0.1265       0.9914   225.6\n",
      "0.0575           1.2101       0.2681       0.9420   214.3\n",
      "0.0600           1.3050       0.2501       1.0549   240.0\n",
      "0.0625           1.4070       0.3377       1.0693   243.3\n",
      "0.0650           1.5283       0.0765       1.4518   330.3\n",
      "0.0675           1.6694       0.2827       1.3867   315.5\n",
      "0.0700           1.8050       0.3443       1.4607   332.4\n",
      "0.0725           1.9395       0.5056       1.4339   326.3\n",
      "0.0750           2.0865       0.2606       1.8259   415.5\n",
      "0.0775           2.2438       0.5896       1.6542   376.4\n",
      "0.0800           2.3799       0.7951       1.5848   360.6\n",
      "0.0825           2.5028       1.0350       1.4678   334.0\n",
      "0.0850           2.6307       0.7739       1.8568   422.5\n",
      "0.0875           2.7711       0.9639       1.8072   411.2\n",
      "0.0900           2.9002       0.9847       1.9154   435.8\n",
      "0.0925           3.0260       1.0139       2.0120   457.8\n",
      "0.0950           3.1531       0.6540       2.4990   568.6\n",
      "0.0975           3.2729       1.0589       2.2141   503.8\n",
      "0.1000           3.3560       1.4445       1.9116   435.0\n",
      "0.1025           3.4204       1.6407       1.7796   404.9\n",
      "0.1050           3.4760       1.1955       2.2805   518.9\n",
      "0.1075           3.5301       1.3078       2.2223   505.7\n",
      "0.1100           3.5591       1.2738       2.2853   520.0\n",
      "0.1125           3.5748       1.3876       2.1872   497.7\n",
      "0.1150           3.5644       1.1165       2.4479   557.0\n",
      "0.1175           3.5415       1.3312       2.2102   502.9\n",
      "0.1200           3.4953       1.3186       2.1767   495.3\n",
      "0.1225           3.4413       1.4129       2.0284   461.5\n",
      "0.1250           3.3654       1.1752       2.1902   498.4\n",
      "0.1275           3.2829       1.3162       1.9667   447.5\n",
      "0.1300           3.1874       1.2233       1.9641   446.9\n",
      "0.1325           3.0865       1.1754       1.9112   434.9\n",
      "0.1350           2.9676       0.9603       2.0073   456.7\n",
      "0.1375           2.8481       1.1141       1.7340   394.5\n",
      "0.1400           2.7307       1.0646       1.6661   379.1\n",
      "0.1425           2.6098       0.9000       1.7098   389.1\n",
      "0.1450           2.4709       0.6366       1.8343   417.4\n",
      "0.1475           2.3325       0.7305       1.6020   364.5\n",
      "0.1500           2.2027       0.7574       1.4453   328.9\n",
      "0.1525           2.0920       0.9120       1.1799   268.5\n",
      "0.1550           1.9938       0.8758       1.1180   254.4\n",
      "0.1575           1.9023       0.8149       1.0874   247.4\n",
      "0.1600           1.8014       0.5125       1.2889   293.3\n",
      "0.1625           1.6923       0.3914       1.3010   296.0\n",
      "0.1650           1.5847       0.3677       1.2170   276.9\n",
      "0.1675           1.4942       0.5270       0.9672   220.1\n",
      "0.1700           1.4164       0.4927       0.9237   210.2\n",
      "0.1725           1.3467       0.5097       0.8370   190.5\n",
      "0.1750           1.2832       0.4542       0.8290   188.6\n",
      "0.1775           1.2242       0.4141       0.8100   184.3\n",
      "0.1800           1.1626       0.2163       0.9463   215.3\n",
      "0.1825           1.0972       0.1204       0.9768   222.3\n",
      "0.1850           1.0355       0.1214       0.9141   208.0\n",
      "0.1875           0.9832       0.2086       0.7746   176.3\n",
      "0.1900           0.9390       0.1951       0.7440   169.3\n",
      "0.1925           0.8981       0.1574       0.7407   168.5\n",
      "0.1950           0.8611       0.1423       0.7188   163.6\n",
      "0.1975           0.8288       0.1409       0.6879   156.5\n",
      "0.2000           0.7983       0.0377       0.7606   173.1\n",
      "\n"
     ]
    }
   ],
   "source": [
    "with open('ground.log', 'r') as f:\n",
    "    ground_log = f.read()\n",
    "print(ground_log)"
   ]
  },
  {
   "cell_type": "markdown",
   "metadata": {},
   "source": [
    "We see that all energies fluctuate, as kinetic energy is being added into the system fo the thermostat. The temperature also varies, and over enough time it will average out to 300 K. \n",
    "\n",
    "To get the actual geometries, energies, and forces, we can load the trajectory file. And we can visualize it with `nglview`:\n",
    "\n"
   ]
  },
  {
   "cell_type": "code",
   "execution_count": 10,
   "metadata": {},
   "outputs": [
    {
     "data": {
      "application/vnd.jupyter.widget-view+json": {
       "model_id": "fa6f35032fb64fbfb2b623fe897438d0",
       "version_major": 2,
       "version_minor": 0
      },
      "text/plain": [
       "NGLWidget(max_frame=80)"
      ]
     },
     "metadata": {},
     "output_type": "display_data"
    }
   ],
   "source": [
    "trj = Trajectory('ground.trj')\n",
    "nv.show_asetraj(trj)"
   ]
  },
  {
   "cell_type": "markdown",
   "metadata": {},
   "source": [
    "We can also view the excited state log:"
   ]
  },
  {
   "cell_type": "code",
   "execution_count": 16,
   "metadata": {
    "scrolled": true
   },
   "outputs": [
    {
     "name": "stdout",
     "output_type": "stream",
     "text": [
      "Time [fs]         State 0         State 1             |c|       Hop prob. \n",
      "0.5                 0.0000%       100.0000%         1.0000         0.0000\n",
      "1.0                 0.0000%       100.0000%         1.0000         0.0000\n",
      "1.5                 0.0000%       100.0000%         1.0000         0.0000\n",
      "2.0                 0.0000%       100.0000%         1.0000         0.0000\n",
      "2.5                 0.0000%       100.0000%         1.0000         0.0000\n",
      "3.0                 0.0000%       100.0000%         1.0000         0.0000\n",
      "3.5                 0.0000%       100.0000%         1.0000         0.0000\n",
      "4.0                 0.0000%       100.0000%         1.0000         0.0000\n",
      "4.5                 0.0000%       100.0000%         1.0000         0.0000\n",
      "5.0                 0.0000%       100.0000%         1.0000         0.0000\n",
      "5.5                 0.0000%       100.0000%         1.0000         0.0000\n",
      "6.0                 0.0000%       100.0000%         1.0000         0.0000\n",
      "6.5                 0.0000%       100.0000%         1.0000         0.0000\n",
      "7.0                 0.0000%       100.0000%         1.0000         0.0000\n",
      "7.5                 0.0000%       100.0000%         1.0000         0.0000\n",
      "8.0                 0.0000%       100.0000%         1.0000         0.0000\n",
      "8.5                 0.0000%       100.0000%         1.0000         0.0000\n",
      "9.0                 0.0000%       100.0000%         1.0000         0.0000\n",
      "9.5                 0.0000%       100.0000%         1.0000         0.0000\n",
      "10.0                0.0000%       100.0000%         1.0000         0.0000\n",
      "10.5                0.0000%       100.0000%         1.0000         0.0000\n",
      "11.0                0.0000%       100.0000%         1.0000         0.0000\n",
      "11.5                0.0000%       100.0000%         1.0000         0.0000\n",
      "12.0                0.0000%       100.0000%         1.0000         0.0000\n",
      "12.5                0.0000%       100.0000%         1.0000         0.0000\n",
      "13.0                0.0000%       100.0000%         1.0000         0.0000\n",
      "13.5                0.0000%       100.0000%         1.0000         0.0000\n",
      "14.0                0.0000%       100.0000%         1.0000         0.0000\n",
      "14.5                0.0000%       100.0000%         1.0000         0.0000\n",
      "15.0                0.0000%       100.0000%         1.0000         0.0000\n",
      "15.5                0.0000%       100.0000%         1.0000         0.0000\n",
      "16.0                0.0000%       100.0000%         1.0000         0.0001\n",
      "16.5                0.0000%       100.0000%         1.0000         0.0007\n",
      "17.0                0.0000%       100.0000%         1.0000         0.0077\n",
      "17.5                0.0000%       100.0000%         1.0000         0.0274\n",
      "18.0               10.0000%        90.0000%         1.0000         0.0286\n",
      "18.5               20.0000%        80.0000%         1.0000         0.0111\n",
      "19.0               20.0000%        80.0000%         1.0000         0.0034\n",
      "19.5               20.0000%        80.0000%         1.0000         0.0027\n",
      "20.0               20.0000%        80.0000%         1.0000         0.0030\n",
      "20.5               20.0000%        80.0000%         1.0000         0.0041\n",
      "21.0               20.0000%        80.0000%         1.0000         0.0079\n",
      "21.5               20.0000%        80.0000%         1.0000         0.0144\n",
      "22.0               20.0000%        80.0000%         1.0000         0.0230\n",
      "22.5               20.0000%        80.0000%         1.0000         0.0288\n",
      "23.0               20.0000%        80.0000%         1.0000         0.0266\n",
      "23.5               20.0000%        80.0000%         1.0000         0.0186\n",
      "24.0               20.0000%        80.0000%         1.0000         0.0107\n",
      "24.5               20.0000%        80.0000%         1.0000         0.0056\n",
      "25.0               20.0000%        80.0000%         1.0000         0.0032\n",
      "25.5               20.0000%        80.0000%         1.0000         0.0024\n",
      "26.0               20.0000%        80.0000%         1.0000         0.0030\n",
      "26.5               20.0000%        80.0000%         1.0000         0.0070\n",
      "27.0               30.0000%        70.0000%         1.0000         0.0985\n",
      "27.5               30.0000%        70.0000%         1.0000         0.0079\n",
      "28.0               30.0000%        70.0000%         1.0000         0.0062\n",
      "28.5               30.0000%        70.0000%         1.0000         0.0081\n",
      "29.0               30.0000%        70.0000%         1.0000         0.0117\n",
      "29.5               30.0000%        70.0000%         1.0000         0.0188\n",
      "30.0               40.0000%        60.0000%         1.0000         0.0689\n",
      "30.5               60.0000%        40.0000%         1.0000         0.0990\n",
      "31.0               60.0000%        40.0000%         1.0000         0.0033\n",
      "31.5               60.0000%        40.0000%         1.0000         0.0040\n",
      "32.0               60.0000%        40.0000%         1.0000         0.0106\n",
      "32.5               60.0000%        40.0000%         1.0000         0.0168\n",
      "33.0               70.0000%        30.0000%         1.0000         0.0158\n",
      "33.5               70.0000%        30.0000%         1.0000         0.0026\n",
      "34.0               70.0000%        30.0000%         1.0000         0.0001\n",
      "34.5               70.0000%        30.0000%         1.0000         0.0015\n",
      "35.0               70.0000%        30.0000%         1.0000         0.0011\n",
      "35.5               70.0000%        30.0000%         1.0000         0.0006\n",
      "36.0               70.0000%        30.0000%         1.0000         0.0000\n",
      "36.5               70.0000%        30.0000%         1.0000         0.0000\n",
      "37.0               70.0000%        30.0000%         1.0000         0.0000\n",
      "37.5               70.0000%        30.0000%         1.0000         0.0000\n",
      "38.0               70.0000%        30.0000%         1.0000         0.0000\n",
      "38.5               70.0000%        30.0000%         1.0000         0.0000\n",
      "39.0               70.0000%        30.0000%         1.0000         0.0001\n",
      "39.5               70.0000%        30.0000%         1.0000         0.0002\n",
      "40.0               70.0000%        30.0000%         1.0000         0.0002\n",
      "40.5               70.0000%        30.0000%         1.0000         0.0003\n",
      "41.0               70.0000%        30.0000%         1.0000         0.0006\n",
      "41.5               70.0000%        30.0000%         1.0000         0.0013\n",
      "42.0               70.0000%        30.0000%         1.0000         0.0038\n",
      "42.5               70.0000%        30.0000%         1.0000         0.0134\n",
      "43.0               70.0000%        30.0000%         1.0000         0.0459\n",
      "43.5               80.0000%        20.0000%         1.0000         0.0742\n",
      "44.0               80.0000%        20.0000%         1.0000         0.0000\n",
      "44.5               80.0000%        20.0000%         1.0000         0.0001\n",
      "45.0               80.0000%        20.0000%         1.0000         0.0038\n",
      "45.5               80.0000%        20.0000%         1.0000         0.0095\n",
      "46.0               80.0000%        20.0000%         1.0000         0.0159\n",
      "46.5               80.0000%        20.0000%         1.0000         0.0200\n",
      "47.0               70.0000%        30.0000%         1.0000         0.0193\n",
      "47.5               70.0000%        30.0000%         1.0000         0.0052\n",
      "48.0               70.0000%        30.0000%         1.0000         0.0027\n",
      "48.5               70.0000%        30.0000%         1.0000         0.0008\n",
      "49.0               70.0000%        30.0000%         1.0000         0.0000\n",
      "49.5               70.0000%        30.0000%         1.0000         0.0005\n",
      "50.0               70.0000%        30.0000%         1.0000         0.0009\n",
      "50.5               70.0000%        30.0000%         1.0000         0.0014\n",
      "51.0               70.0000%        30.0000%         1.0000         0.0018\n",
      "51.5               70.0000%        30.0000%         1.0000         0.0023\n",
      "52.0               70.0000%        30.0000%         1.0000         0.0030\n",
      "52.5               70.0000%        30.0000%         1.0000         0.0045\n",
      "53.0               70.0000%        30.0000%         1.0000         0.0075\n",
      "53.5               70.0000%        30.0000%         1.0000         0.0117\n",
      "54.0               70.0000%        30.0000%         1.0000         0.0135\n",
      "54.5               70.0000%        30.0000%         1.0000         0.0105\n",
      "55.0               70.0000%        30.0000%         1.0000         0.0058\n",
      "55.5               70.0000%        30.0000%         1.0000         0.0026\n",
      "56.0               70.0000%        30.0000%         1.0000         0.0013\n",
      "56.5               70.0000%        30.0000%         1.0000         0.0014\n",
      "57.0               70.0000%        30.0000%         1.0000         0.0020\n",
      "57.5               70.0000%        30.0000%         1.0000         0.0026\n",
      "58.0               70.0000%        30.0000%         1.0000         0.0028\n",
      "58.5               70.0000%        30.0000%         1.0000         0.0025\n",
      "59.0               70.0000%        30.0000%         1.0000         0.0017\n",
      "59.5               70.0000%        30.0000%         1.0000         0.0008\n",
      "60.0               70.0000%        30.0000%         1.0000         0.0002\n",
      "60.5               70.0000%        30.0000%         1.0000         0.0000\n",
      "61.0               70.0000%        30.0000%         1.0000         0.0001\n",
      "61.5               70.0000%        30.0000%         1.0000         0.0003\n",
      "62.0               70.0000%        30.0000%         1.0000         0.0006\n",
      "62.5               70.0000%        30.0000%         1.0000         0.0010\n",
      "63.0               70.0000%        30.0000%         1.0000         0.0013\n",
      "63.5               70.0000%        30.0000%         1.0000         0.0014\n",
      "64.0               70.0000%        30.0000%         1.0000         0.0013\n",
      "64.5               70.0000%        30.0000%         1.0000         0.0011\n",
      "65.0               70.0000%        30.0000%         1.0000         0.0009\n",
      "65.5               70.0000%        30.0000%         1.0000         0.0005\n",
      "66.0               70.0000%        30.0000%         1.0000         0.0003\n",
      "66.5               70.0000%        30.0000%         1.0000         0.0001\n",
      "67.0               70.0000%        30.0000%         1.0000         0.0000\n",
      "67.5               70.0000%        30.0000%         1.0000         0.0000\n",
      "68.0               70.0000%        30.0000%         1.0000         0.0001\n",
      "68.5               70.0000%        30.0000%         1.0000         0.0001\n",
      "69.0               70.0000%        30.0000%         1.0000         0.0003\n",
      "69.5               70.0000%        30.0000%         1.0000         0.0005\n",
      "70.0               70.0000%        30.0000%         1.0000         0.0010\n",
      "70.5               70.0000%        30.0000%         1.0000         0.0018\n",
      "71.0               70.0000%        30.0000%         1.0000         0.0032\n",
      "71.5               70.0000%        30.0000%         1.0000         0.0055\n",
      "72.0               70.0000%        30.0000%         1.0000         0.0097\n",
      "72.5               70.0000%        30.0000%         1.0000         0.0195\n",
      "73.0               80.0000%        20.0000%         1.0000         0.0441\n",
      "73.5               80.0000%        20.0000%         1.0000         0.0002\n",
      "74.0               80.0000%        20.0000%         1.0000         0.0005\n",
      "74.5               80.0000%        20.0000%         1.0000         0.0011\n",
      "75.0               80.0000%        20.0000%         1.0000         0.0042\n",
      "75.5               80.0000%        20.0000%         1.0000         0.0057\n",
      "76.0               80.0000%        20.0000%         1.0000         0.0059\n",
      "76.5               70.0000%        30.0000%         1.0000         0.0051\n",
      "77.0               70.0000%        30.0000%         1.0000         0.0002\n",
      "77.5               70.0000%        30.0000%         1.0000         0.0001\n",
      "78.0               70.0000%        30.0000%         1.0000         0.0001\n",
      "78.5               70.0000%        30.0000%         1.0000         0.0002\n",
      "79.0               70.0000%        30.0000%         1.0000         0.0009\n",
      "79.5               70.0000%        30.0000%         1.0000         0.0009\n",
      "80.0               70.0000%        30.0000%         1.0000         0.0007\n",
      "80.5               70.0000%        30.0000%         1.0000         0.0005\n",
      "81.0               70.0000%        30.0000%         1.0000         0.0003\n",
      "81.5               70.0000%        30.0000%         1.0000         0.0004\n",
      "82.0               70.0000%        30.0000%         1.0000         0.0004\n",
      "82.5               70.0000%        30.0000%         1.0000         0.0006\n",
      "83.0               70.0000%        30.0000%         1.0000         0.0008\n",
      "83.5               70.0000%        30.0000%         1.0000         0.0010\n",
      "84.0               70.0000%        30.0000%         1.0000         0.0011\n",
      "84.5               70.0000%        30.0000%         1.0000         0.0009\n",
      "85.0               70.0000%        30.0000%         1.0000         0.0010\n",
      "85.5               80.0000%        20.0000%         1.0000         0.0787\n",
      "86.0               80.0000%        20.0000%         1.0000         0.0010\n",
      "86.5               80.0000%        20.0000%         1.0000         0.0037\n",
      "87.0               80.0000%        20.0000%         1.0000         0.0045\n",
      "87.5               80.0000%        20.0000%         1.0000         0.0055\n",
      "88.0               80.0000%        20.0000%         1.0000         0.0064\n",
      "88.5               80.0000%        20.0000%         1.0000         0.0056\n",
      "89.0               80.0000%        20.0000%         1.0000         0.0042\n",
      "89.5               80.0000%        20.0000%         1.0000         0.0025\n",
      "90.0               80.0000%        20.0000%         1.0000         0.0009\n",
      "90.5               80.0000%        20.0000%         1.0000         0.0001\n",
      "91.0               80.0000%        20.0000%         1.0000         0.0001\n",
      "91.5               80.0000%        20.0000%         1.0000         0.0001\n",
      "92.0               80.0000%        20.0000%         1.0000         0.0001\n",
      "92.5               80.0000%        20.0000%         1.0000         0.0002\n",
      "93.0               80.0000%        20.0000%         1.0000         0.0005\n",
      "93.5               90.0000%        10.0000%         1.0000         0.0995\n",
      "94.0               90.0000%        10.0000%         1.0000         0.0245\n",
      "94.5               90.0000%        10.0000%         1.0000         0.0637\n",
      "95.0              100.0000%         0.0000%         1.0000         0.0443\n",
      "95.5              100.0000%         0.0000%         1.0000         0.0005\n",
      "96.0              100.0000%         0.0000%         1.0000         0.0015\n",
      "96.5              100.0000%         0.0000%         1.0000         0.0029\n",
      "97.0              100.0000%         0.0000%         1.0000         0.0036\n",
      "97.5              100.0000%         0.0000%         1.0000         0.0031\n",
      "98.0              100.0000%         0.0000%         1.0000         0.0019\n",
      "98.5              100.0000%         0.0000%         1.0000         0.0012\n",
      "99.0              100.0000%         0.0000%         1.0000         0.0009\n",
      "99.5              100.0000%         0.0000%         1.0000         0.0007\n",
      "100.0             100.0000%         0.0000%         1.0000         0.0005\n",
      "100.5             100.0000%         0.0000%         1.0000         0.0005\n",
      "101.0             100.0000%         0.0000%         1.0000         0.0005\n",
      "101.5             100.0000%         0.0000%         1.0000         0.0006\n",
      "102.0             100.0000%         0.0000%         1.0000         0.0005\n",
      "102.5             100.0000%         0.0000%         1.0000         0.0003\n",
      "103.0             100.0000%         0.0000%         1.0000         0.0002\n",
      "103.5             100.0000%         0.0000%         1.0000         0.0001\n",
      "104.0             100.0000%         0.0000%         1.0000         0.0000\n",
      "104.5             100.0000%         0.0000%         1.0000         0.0000\n",
      "105.0             100.0000%         0.0000%         1.0000         0.0000\n",
      "105.5             100.0000%         0.0000%         1.0000         0.0000\n",
      "106.0             100.0000%         0.0000%         1.0000         0.0000\n",
      "106.5             100.0000%         0.0000%         1.0000         0.0000\n",
      "107.0             100.0000%         0.0000%         1.0000         0.0000\n",
      "107.5             100.0000%         0.0000%         1.0000         0.0000\n",
      "108.0             100.0000%         0.0000%         1.0000         0.0000\n",
      "108.5             100.0000%         0.0000%         1.0000         0.0000\n",
      "109.0             100.0000%         0.0000%         1.0000         0.0000\n",
      "109.5             100.0000%         0.0000%         1.0000         0.0000\n",
      "110.0             100.0000%         0.0000%         1.0000         0.0000\n",
      "110.5             100.0000%         0.0000%         1.0000         0.0000\n",
      "111.0             100.0000%         0.0000%         1.0000         0.0000\n",
      "111.5             100.0000%         0.0000%         1.0000         0.0000\n",
      "112.0             100.0000%         0.0000%         1.0000         0.0000\n",
      "112.5             100.0000%         0.0000%         1.0000         0.0000\n",
      "113.0             100.0000%         0.0000%         1.0000         0.0000\n",
      "113.5             100.0000%         0.0000%         1.0000         0.0000\n",
      "114.0             100.0000%         0.0000%         1.0000         0.0000\n",
      "114.5             100.0000%         0.0000%         1.0000         0.0000\n",
      "115.0             100.0000%         0.0000%         1.0000         0.0000\n",
      "115.5             100.0000%         0.0000%         1.0000         0.0000\n",
      "116.0             100.0000%         0.0000%         1.0000         0.0000\n",
      "116.5             100.0000%         0.0000%         1.0000         0.0000\n",
      "117.0             100.0000%         0.0000%         1.0000         0.0000\n",
      "117.5             100.0000%         0.0000%         1.0000         0.0000\n",
      "118.0             100.0000%         0.0000%         1.0000         0.0000\n",
      "118.5             100.0000%         0.0000%         1.0000         0.0000\n",
      "119.0             100.0000%         0.0000%         1.0000         0.0000\n",
      "119.5             100.0000%         0.0000%         1.0000         0.0000\n",
      "120.0             100.0000%         0.0000%         1.0000         0.0000\n",
      "120.5             100.0000%         0.0000%         1.0000         0.0000\n",
      "121.0             100.0000%         0.0000%         1.0000         0.0000\n",
      "121.5             100.0000%         0.0000%         1.0000         0.0000\n",
      "122.0             100.0000%         0.0000%         1.0000         0.0000\n",
      "122.5             100.0000%         0.0000%         1.0000         0.0000\n",
      "123.0             100.0000%         0.0000%         1.0000         0.0000\n",
      "123.5             100.0000%         0.0000%         1.0000         0.0000\n",
      "124.0             100.0000%         0.0000%         1.0000         0.0000\n",
      "124.5             100.0000%         0.0000%         1.0000         0.0000\n",
      "125.0             100.0000%         0.0000%         1.0000         0.0000\n",
      "125.5             100.0000%         0.0000%         1.0000         0.0000\n",
      "126.0             100.0000%         0.0000%         1.0000         0.0000\n",
      "126.5             100.0000%         0.0000%         1.0000         0.0000\n",
      "127.0             100.0000%         0.0000%         1.0000         0.0000\n",
      "127.5             100.0000%         0.0000%         1.0000         0.0000\n",
      "128.0             100.0000%         0.0000%         1.0000         0.0000\n",
      "128.5             100.0000%         0.0000%         1.0000         0.0000\n",
      "129.0             100.0000%         0.0000%         1.0000         0.0000\n",
      "129.5             100.0000%         0.0000%         1.0000         0.0000\n",
      "130.0             100.0000%         0.0000%         1.0000         0.0000\n",
      "130.5             100.0000%         0.0000%         1.0000         0.0000\n",
      "131.0             100.0000%         0.0000%         1.0000         0.0000\n",
      "131.5             100.0000%         0.0000%         1.0000         0.0000\n",
      "132.0             100.0000%         0.0000%         1.0000         0.0000\n",
      "132.5             100.0000%         0.0000%         1.0000         0.0000\n",
      "133.0             100.0000%         0.0000%         1.0000         0.0000\n",
      "133.5             100.0000%         0.0000%         1.0000         0.0000\n",
      "134.0             100.0000%         0.0000%         1.0000         0.0000\n",
      "134.5             100.0000%         0.0000%         1.0000         0.0000\n",
      "135.0             100.0000%         0.0000%         1.0000         0.0000\n",
      "135.5             100.0000%         0.0000%         1.0000         0.0000\n",
      "136.0             100.0000%         0.0000%         1.0000         0.0000\n",
      "136.5             100.0000%         0.0000%         1.0000         0.0000\n",
      "137.0             100.0000%         0.0000%         1.0000         0.0000\n",
      "137.5             100.0000%         0.0000%         1.0000         0.0000\n",
      "138.0             100.0000%         0.0000%         1.0000         0.0000\n",
      "138.5             100.0000%         0.0000%         1.0000         0.0000\n",
      "139.0             100.0000%         0.0000%         1.0000         0.0000\n",
      "139.5             100.0000%         0.0000%         1.0000         0.0000\n",
      "140.0             100.0000%         0.0000%         1.0000         0.0000\n",
      "140.5             100.0000%         0.0000%         1.0000         0.0000\n",
      "141.0             100.0000%         0.0000%         1.0000         0.0000\n",
      "141.5             100.0000%         0.0000%         1.0000         0.0000\n",
      "142.0             100.0000%         0.0000%         1.0000         0.0000\n",
      "142.5             100.0000%         0.0000%         1.0000         0.0000\n",
      "143.0             100.0000%         0.0000%         1.0000         0.0000\n",
      "143.5             100.0000%         0.0000%         1.0000         0.0000\n",
      "144.0             100.0000%         0.0000%         1.0000         0.0000\n",
      "144.5             100.0000%         0.0000%         1.0000         0.0000\n",
      "145.0             100.0000%         0.0000%         1.0000         0.0000\n",
      "145.5             100.0000%         0.0000%         1.0000         0.0000\n",
      "146.0             100.0000%         0.0000%         1.0000         0.0000\n",
      "146.5             100.0000%         0.0000%         1.0000         0.0000\n",
      "147.0             100.0000%         0.0000%         1.0000         0.0000\n",
      "147.5             100.0000%         0.0000%         1.0000         0.0000\n",
      "148.0             100.0000%         0.0000%         1.0000         0.0000\n",
      "148.5             100.0000%         0.0000%         1.0000         0.0000\n",
      "149.0             100.0000%         0.0000%         1.0000         0.0000\n",
      "149.5             100.0000%         0.0000%         1.0000         0.0000\n",
      "150.0             100.0000%         0.0000%         1.0000         0.0000\n",
      "150.5             100.0000%         0.0000%         1.0000         0.0000\n",
      "151.0             100.0000%         0.0000%         1.0000         0.0000\n",
      "151.5             100.0000%         0.0000%         1.0000         0.0000\n",
      "152.0             100.0000%         0.0000%         1.0000         0.0000\n",
      "152.5             100.0000%         0.0000%         1.0000         0.0000\n",
      "153.0             100.0000%         0.0000%         1.0000         0.0000\n",
      "153.5             100.0000%         0.0000%         1.0000         0.0000\n",
      "154.0             100.0000%         0.0000%         1.0000         0.0000\n",
      "154.5             100.0000%         0.0000%         1.0000         0.0000\n",
      "155.0             100.0000%         0.0000%         1.0000         0.0000\n",
      "155.5             100.0000%         0.0000%         1.0000         0.0000\n",
      "156.0             100.0000%         0.0000%         1.0000         0.0000\n",
      "156.5             100.0000%         0.0000%         1.0000         0.0000\n",
      "157.0             100.0000%         0.0000%         1.0000         0.0000\n",
      "157.5             100.0000%         0.0000%         1.0000         0.0000\n",
      "158.0             100.0000%         0.0000%         1.0000         0.0000\n",
      "158.5             100.0000%         0.0000%         1.0000         0.0000\n",
      "159.0             100.0000%         0.0000%         1.0000         0.0000\n",
      "159.5             100.0000%         0.0000%         1.0000         0.0000\n",
      "160.0             100.0000%         0.0000%         1.0000         0.0000\n",
      "160.5             100.0000%         0.0000%         1.0000         0.0000\n",
      "161.0             100.0000%         0.0000%         1.0000         0.0000\n",
      "161.5             100.0000%         0.0000%         1.0000         0.0000\n",
      "162.0             100.0000%         0.0000%         1.0000         0.0000\n",
      "162.5             100.0000%         0.0000%         1.0000         0.0000\n",
      "163.0             100.0000%         0.0000%         1.0000         0.0000\n",
      "163.5             100.0000%         0.0000%         1.0000         0.0000\n",
      "164.0             100.0000%         0.0000%         1.0000         0.0000\n",
      "164.5             100.0000%         0.0000%         1.0000         0.0000\n",
      "165.0             100.0000%         0.0000%         1.0000         0.0000\n",
      "165.5             100.0000%         0.0000%         1.0000         0.0000\n",
      "166.0             100.0000%         0.0000%         1.0000         0.0000\n",
      "166.5             100.0000%         0.0000%         1.0000         0.0000\n",
      "167.0             100.0000%         0.0000%         1.0000         0.0000\n",
      "167.5             100.0000%         0.0000%         1.0000         0.0000\n",
      "168.0             100.0000%         0.0000%         1.0000         0.0000\n",
      "168.5             100.0000%         0.0000%         1.0000         0.0000\n",
      "169.0             100.0000%         0.0000%         1.0000         0.0000\n",
      "169.5             100.0000%         0.0000%         1.0000         0.0000\n",
      "170.0             100.0000%         0.0000%         1.0000         0.0000\n",
      "170.5             100.0000%         0.0000%         1.0000         0.0000\n",
      "171.0             100.0000%         0.0000%         1.0000         0.0000\n",
      "171.5             100.0000%         0.0000%         1.0000         0.0000\n",
      "172.0             100.0000%         0.0000%         1.0000         0.0000\n",
      "172.5             100.0000%         0.0000%         1.0000         0.0000\n",
      "173.0             100.0000%         0.0000%         1.0000         0.0000\n",
      "173.5             100.0000%         0.0000%         1.0000         0.0000\n",
      "174.0             100.0000%         0.0000%         1.0000         0.0000\n",
      "174.5             100.0000%         0.0000%         1.0000         0.0000\n",
      "175.0             100.0000%         0.0000%         1.0000         0.0000\n",
      "175.5             100.0000%         0.0000%         1.0000         0.0000\n",
      "176.0             100.0000%         0.0000%         1.0000         0.0000\n",
      "176.5             100.0000%         0.0000%         1.0000         0.0000\n",
      "177.0             100.0000%         0.0000%         1.0000         0.0000\n",
      "177.5             100.0000%         0.0000%         1.0000         0.0000\n",
      "178.0             100.0000%         0.0000%         1.0000         0.0000\n",
      "178.5             100.0000%         0.0000%         1.0000         0.0000\n",
      "179.0             100.0000%         0.0000%         1.0000         0.0000\n",
      "179.5             100.0000%         0.0000%         1.0000         0.0000\n",
      "180.0             100.0000%         0.0000%         1.0000         0.0000\n",
      "180.5             100.0000%         0.0000%         1.0000         0.0000\n",
      "181.0             100.0000%         0.0000%         1.0000         0.0000\n",
      "181.5             100.0000%         0.0000%         1.0000         0.0000\n",
      "182.0             100.0000%         0.0000%         1.0000         0.0000\n",
      "182.5             100.0000%         0.0000%         1.0000         0.0000\n",
      "183.0             100.0000%         0.0000%         1.0000         0.0000\n",
      "183.5             100.0000%         0.0000%         1.0000         0.0000\n",
      "184.0             100.0000%         0.0000%         1.0000         0.0000\n",
      "184.5             100.0000%         0.0000%         1.0000         0.0000\n",
      "185.0             100.0000%         0.0000%         1.0000         0.0000\n",
      "185.5             100.0000%         0.0000%         1.0000         0.0000\n",
      "186.0             100.0000%         0.0000%         1.0000         0.0000\n",
      "186.5             100.0000%         0.0000%         1.0000         0.0000\n",
      "187.0             100.0000%         0.0000%         1.0000         0.0000\n",
      "187.5             100.0000%         0.0000%         1.0000         0.0000\n",
      "188.0             100.0000%         0.0000%         1.0000         0.0000\n",
      "188.5             100.0000%         0.0000%         1.0000         0.0000\n",
      "189.0             100.0000%         0.0000%         1.0000         0.0000\n",
      "189.5             100.0000%         0.0000%         1.0000         0.0000\n",
      "190.0             100.0000%         0.0000%         1.0000         0.0000\n",
      "190.5             100.0000%         0.0000%         1.0000         0.0000\n",
      "191.0             100.0000%         0.0000%         1.0000         0.0000\n",
      "191.5             100.0000%         0.0000%         1.0000         0.0000\n",
      "192.0             100.0000%         0.0000%         1.0000         0.0000\n",
      "192.5             100.0000%         0.0000%         1.0000         0.0000\n",
      "193.0             100.0000%         0.0000%         1.0000         0.0000\n",
      "193.5             100.0000%         0.0000%         1.0000         0.0000\n",
      "194.0             100.0000%         0.0000%         1.0000         0.0000\n",
      "194.5             100.0000%         0.0000%         1.0000         0.0000\n",
      "195.0             100.0000%         0.0000%         1.0000         0.0000\n",
      "195.5             100.0000%         0.0000%         1.0000         0.0000\n",
      "196.0             100.0000%         0.0000%         1.0000         0.0000\n",
      "196.5             100.0000%         0.0000%         1.0000         0.0000\n",
      "197.0             100.0000%         0.0000%         1.0000         0.0000\n",
      "197.5             100.0000%         0.0000%         1.0000         0.0000\n",
      "198.0             100.0000%         0.0000%         1.0000         0.0000\n",
      "198.5             100.0000%         0.0000%         1.0000         0.0000\n",
      "199.0             100.0000%         0.0000%         1.0000         0.0000\n",
      "199.5             100.0000%         0.0000%         1.0000         0.0000\n",
      "200.0             100.0000%         0.0000%         1.0000         0.0000\n",
      "Neural Tully terminated normally.\n"
     ]
    }
   ],
   "source": [
    "with open('tully.log', 'r') as f:\n",
    "    tully_log = f.read()\n",
    "print(tully_log)"
   ]
  },
  {
   "cell_type": "markdown",
   "metadata": {},
   "source": [
    "This log shows us the population in the different states at each time, the norm of the electronic coefficient vector $c$, and the maximum hopping probability of any of the trajectories. We see that 60% of the trajectories of returned to the ground state by 50 fs.\n",
    "\n",
    "To get the geometries, forces, etc., we can use the `NeuralTully` class method `from_pickle`:\n",
    "\n"
   ]
  },
  {
   "cell_type": "code",
   "execution_count": 17,
   "metadata": {},
   "outputs": [],
   "source": [
    "state_dicts, trjs = NeuralTully.from_pickle('tully.pickle')"
   ]
  },
  {
   "cell_type": "markdown",
   "metadata": {},
   "source": [
    "The output contains `state_dicts`, a set of dictionaries with information about each trajectory for each time step, and `trjs`, a set of ASE trajectories. We can visualize one of the trajectories:"
   ]
  },
  {
   "cell_type": "code",
   "execution_count": 18,
   "metadata": {},
   "outputs": [
    {
     "data": {
      "application/vnd.jupyter.widget-view+json": {
       "model_id": "c0b33e85e3ad4fca920b2f1ab190b500",
       "version_major": 2,
       "version_minor": 0
      },
      "text/plain": [
       "NGLWidget(max_frame=50)"
      ]
     },
     "metadata": {},
     "output_type": "display_data"
    }
   ],
   "source": [
    "trj = trjs[0]\n",
    "nv.show_asetraj(trj)"
   ]
  },
  {
   "cell_type": "markdown",
   "metadata": {},
   "source": [
    "We can also take a look at `state_dicts`:"
   ]
  },
  {
   "cell_type": "code",
   "execution_count": 19,
   "metadata": {},
   "outputs": [
    {
     "name": "stdout",
     "output_type": "stream",
     "text": [
      "51\n",
      "['nxyz', 'nacv', 'force_nacv', 'energy', 'forces', 'H_d', 'U', 't', 'vel', 'c', 'T', 'surfs']\n"
     ]
    }
   ],
   "source": [
    "print(len(state_dicts))\n",
    "print(list(state_dicts[0].keys()))\n"
   ]
  },
  {
   "cell_type": "markdown",
   "metadata": {},
   "source": [
    "We see that there is one dictionary for each saved time step (all time steps in which a hop occurs are automatically saved, even if you only asked the geoms to be saved every X steps). Each dictionary has various properties, each of shape `num_trj  x ...`, so that the first dimension divides properties by trajectory. For example:\n",
    "\n"
   ]
  },
  {
   "cell_type": "code",
   "execution_count": 20,
   "metadata": {},
   "outputs": [
    {
     "name": "stdout",
     "output_type": "stream",
     "text": [
      "(10, 34, 4)\n",
      "(10, 2)\n",
      "(10, 2, 34, 3)\n",
      "(10, 3, 3)\n",
      "(10, 3, 3)\n",
      "(10, 34, 3)\n",
      "(10, 3)\n",
      "(10,)\n",
      "None\n",
      "None\n"
     ]
    }
   ],
   "source": [
    "state_dict = state_dicts[0]\n",
    "print(state_dict['nxyz'].shape) # coordinates \n",
    "print(state_dict['energy'].shape) # energy\n",
    "print(state_dict['forces'].shape) # forces on each surface\n",
    "print(state_dict['H_d'].shape) # diabatic Hamiltonian\n",
    "print(state_dict['U'].shape) # unitary transformation from diabatic to adiabatic \n",
    "print(state_dict['vel'].shape) # velocities\n",
    "print(state_dict['c'].shape) # c electronic wavefunction vector \n",
    "print(state_dict['surfs'].shape) # current surface\n",
    "\n",
    "\n",
    "print(state_dict['force_nacv']) # not computed because we did diabatic propagation\n",
    "print(state_dict['T']) # T matrix (NACV off-diagonal components of Hamiltonian)\n",
    "                       # also not computed because we did diabatic propagation"
   ]
  },
  {
   "cell_type": "code",
   "execution_count": null,
   "metadata": {},
   "outputs": [],
   "source": []
  }
 ],
 "metadata": {
  "kernelspec": {
   "display_name": "Python [conda env:nff_new]",
   "language": "python",
   "name": "nff_new"
  },
  "language_info": {
   "codemirror_mode": {
    "name": "ipython",
    "version": 3
   },
   "file_extension": ".py",
   "mimetype": "text/x-python",
   "name": "python",
   "nbconvert_exporter": "python",
   "pygments_lexer": "ipython3",
   "version": "3.7.7"
  }
 },
 "nbformat": 4,
 "nbformat_minor": 2
}
