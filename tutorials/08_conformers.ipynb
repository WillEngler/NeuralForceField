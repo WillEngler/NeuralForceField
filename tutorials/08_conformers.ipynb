{
 "cells": [
  {
   "cell_type": "markdown",
   "metadata": {},
   "source": [
    "# Introduction to Neural Force Field"
   ]
  },
  {
   "cell_type": "markdown",
   "metadata": {},
   "source": [
    "This Jupyter Notebook contains an introduction to the `nff` package. Here, we will load the modules and functions from `nff` to import a dataset, create dataloaders, create a model, train it and check the test stats. We will do most of it manually to illustrate the usage of the API. However, scripts such as the one provided in the `scripts/` folder already automate most of this process."
   ]
  },
  {
   "cell_type": "markdown",
   "metadata": {},
   "source": [
    "After the `nff` package has been installed, we start by importing all dependencies for this tutorial."
   ]
  },
  {
   "cell_type": "code",
   "execution_count": 1,
   "metadata": {},
   "outputs": [],
   "source": [
    "%load_ext autoreload\n",
    "%autoreload 2"
   ]
  },
  {
   "cell_type": "code",
   "execution_count": null,
   "metadata": {},
   "outputs": [],
   "source": []
  },
  {
   "cell_type": "code",
   "execution_count": null,
   "metadata": {},
   "outputs": [],
   "source": []
  },
  {
   "cell_type": "code",
   "execution_count": 1,
   "metadata": {},
   "outputs": [],
   "source": [
    "import sys\n",
    "sys.path.insert(0, \"..\")\n",
    "sys.path.insert(0, \"/home/saxelrod/Repo/projects/covid_nff/NeuralForceField\")\n",
    "# sys.path.remove('/home/saxelrod/Repo/projects/ax_autopology/NeuralForceField')\n",
    "\n",
    "import json\n",
    "import os\n",
    "import shutil\n",
    "import numpy as np\n",
    "import matplotlib.pyplot as plt\n",
    "\n",
    "import torch\n",
    "from torch.optim import Adam\n",
    "from torch.utils.data import DataLoader\n",
    "\n",
    "from nff.data import Dataset, split_train_validation_test, collate_dicts, to_tensor\n",
    "from nff.train import Trainer, get_trainer, get_model, load_model, loss, hooks, metrics, evaluate\n",
    "\n",
    "from nff.hyperparams.utils import add_morgan, trim_confs, make_class_model\n",
    "\n",
    "from nff.data.features import add_features"
   ]
  },
  {
   "cell_type": "code",
   "execution_count": null,
   "metadata": {},
   "outputs": [],
   "source": []
  },
  {
   "cell_type": "markdown",
   "metadata": {},
   "source": [
    "It might also be useful setting the GPU you want to use:"
   ]
  },
  {
   "cell_type": "code",
   "execution_count": 2,
   "metadata": {},
   "outputs": [],
   "source": [
    "# DEVICE = 1\n",
    "# OUTDIR = './sandbox'\n",
    "# model = load_model(OUTDIR)"
   ]
  },
  {
   "cell_type": "code",
   "execution_count": null,
   "metadata": {},
   "outputs": [],
   "source": []
  },
  {
   "cell_type": "code",
   "execution_count": 3,
   "metadata": {},
   "outputs": [],
   "source": [
    "DEVICE = 0\n",
    "MAX_EPOCHS = 5000\n",
    "OUTDIR = './sandbox'\n",
    "FOLDER_NAME = 'backup'\n",
    "\n",
    "if os.path.exists(OUTDIR):\n",
    "    newpath = os.path.join(os.path.dirname(OUTDIR), FOLDER_NAME)\n",
    "    if os.path.exists(newpath):\n",
    "        shutil.rmtree(newpath)\n",
    "        \n",
    "    shutil.move(OUTDIR, newpath)"
   ]
  },
  {
   "cell_type": "markdown",
   "metadata": {},
   "source": [
    "# Get best hyperparameters"
   ]
  },
  {
   "cell_type": "code",
   "execution_count": 4,
   "metadata": {},
   "outputs": [],
   "source": [
    "CWD = \"/home/saxelrod/data/sigopt/covid_schnet\"\n",
    "METRIC = \"roc_auc\"\n",
    "\n",
    "def get_params(job_dir=CWD):\n",
    "    dirs = os.listdir(job_dir)\n",
    "    model_dirs = [dir for dir in dirs if dir.startswith(\"model_\")]\n",
    "    best_metric = -1\n",
    "    for dir in model_dirs:\n",
    "        path = os.path.join(job_dir, dir, \"job_info.json\")\n",
    "        if not os.path.isfile(path):\n",
    "            continue\n",
    "        with open(path, \"r\") as f:\n",
    "            info = json.load(f)\n",
    "        metric = info[METRIC]\n",
    "        if metric > best_metric:\n",
    "            best_metric = metric\n",
    "            best_path = path\n",
    "    new_path = os.path.join(job_dir, \"best_info.json\")\n",
    "    shutil.copy(best_path, new_path)\n",
    "    \n",
    "    with open(new_path, \"r\") as f:\n",
    "        dic = json.load(f)\n",
    "    params = dic[\"assignments\"]\n",
    "    params.update(dic[\"set_params\"])\n",
    "    return params\n",
    "params = get_params()\n",
    "\n",
    "\n",
    "##\n",
    "params.update({\"num_mol_layers\": 2,\n",
    "              \"extra_features\": [\"morgan\", \"rdkit_2d_normalized\"],\n",
    "              \"extra_feat_length\": 2048 + 200})\n",
    "\n",
    "\n",
    "# params.update({\"num_mol_layers\": 2,\n",
    "#               \"extra_features\": [\"morgan\"],\n",
    "#               \"extra_feat_length\": 2048})\n",
    "\n",
    "\n",
    "# params.update({\"num_mol_layers\": 2,\n",
    "#               \"extra_features\": [\"rdkit_2d_normalized\"],\n",
    "#               \"extra_feat_length\": 200})\n",
    "\n",
    "##"
   ]
  },
  {
   "cell_type": "code",
   "execution_count": null,
   "metadata": {},
   "outputs": [],
   "source": []
  },
  {
   "cell_type": "code",
   "execution_count": null,
   "metadata": {},
   "outputs": [],
   "source": []
  },
  {
   "cell_type": "markdown",
   "metadata": {},
   "source": [
    "## Loading the relevant data"
   ]
  },
  {
   "cell_type": "markdown",
   "metadata": {},
   "source": [
    "As we usually work with the database, we can pack their information in a class `Dataset`, which is a subclass of `torch.utils.data.Dataset`. It basically wraps information on the atomic numbers, energies, forces and SMILES strings for each one of the geometries. In this example, we already have a pre-compiled `Dataset` to be used. We start by loading this file and creating three slices of the original dataset"
   ]
  },
  {
   "cell_type": "code",
   "execution_count": null,
   "metadata": {},
   "outputs": [],
   "source": []
  },
  {
   "cell_type": "code",
   "execution_count": 6,
   "metadata": {},
   "outputs": [],
   "source": [
    "# dataset = Dataset.from_file('./data/covid_crest_50.pth.tar')\n",
    "\n",
    "# dataset = Dataset.from_file('./data/covid_crest.pth.tar')\n",
    "\n",
    "# dataset = Dataset.from_file('./data/covid_crest_1.pth.tar')\n",
    "\n",
    "\n",
    "\n",
    "\n",
    "# dataset = Dataset.from_file('./data/covid_crest.pth.tar')\n",
    "# dataset = Dataset.from_file('./data/covid_mmff94.pth.tar')\n",
    "# dataset = Dataset.from_file('./data/covid_mmff94_1_geom.pth.tar')\n",
    "\n"
   ]
  },
  {
   "cell_type": "code",
   "execution_count": null,
   "metadata": {},
   "outputs": [],
   "source": []
  },
  {
   "cell_type": "code",
   "execution_count": null,
   "metadata": {},
   "outputs": [],
   "source": []
  },
  {
   "cell_type": "code",
   "execution_count": 7,
   "metadata": {},
   "outputs": [],
   "source": [
    "import pdb\n",
    "\n",
    "def separate_datasets(dataset, split_ratio):\n",
    "\n",
    "    bind_indices = torch.LongTensor([i  for i, bind in enumerate(dataset.props['bind']) if bind])\n",
    "    remaining_indices = [i for i in range(len(dataset)) if i not in bind_indices]\n",
    "\n",
    "    fail_dataset = dataset.copy()\n",
    "    for key, val in fail_dataset.props.items():\n",
    "        fail_dataset.props[key] = [val[i] for i in remaining_indices]\n",
    "    return dataset, fail_dataset, bind_indices\n",
    "\n",
    "def get_split_bind_indices(bind_indices, split_ratio):\n",
    "    num_bind = len(bind_indices)\n",
    "    bind_per_split = (split_ratio * num_bind).astype('int')\n",
    "    while True:\n",
    "        for i in range(3):\n",
    "            if sum(bind_per_split) == num_bind:\n",
    "                break\n",
    "            bind_per_split[i] += 1\n",
    "        if sum(bind_per_split) == num_bind:\n",
    "                break\n",
    "\n",
    "    bind_per_split = bind_per_split.tolist()\n",
    "    split_bind_indices = torch.split(bind_indices, bind_per_split)\n",
    "    return split_bind_indices\n",
    "\n",
    "def make_bind_datasets(split_bind_indices, dataset):\n",
    "    \n",
    "    datasets = []\n",
    "    for indices in split_bind_indices:\n",
    "        new_set = dataset.copy()\n",
    "        for key, val in dataset.props.items():\n",
    "            new_set.props[key] = to_tensor([val[i] for i in indices])\n",
    "        datasets.append(new_set)\n",
    "    return tuple(datasets)\n",
    "    \n",
    "\n",
    "def split_data(dataset, split_ratio):\n",
    "    dataset, fail_dataset, bind_indices = separate_datasets(dataset, split_ratio)\n",
    "    split_bind_indices =  get_split_bind_indices(bind_indices, split_ratio)\n",
    "    bind_datasets = make_bind_datasets(split_bind_indices, dataset)\n",
    "    \n",
    "    train, val, test = split_train_validation_test(fail_dataset, val_size=split_ratio[1],\n",
    "                                                   test_size=split_ratio[2])\n",
    "    split_sets = [train, val, test]\n",
    "    \n",
    "    for i in range(3):\n",
    "        split_set = split_sets[i]\n",
    "        bind_set = bind_datasets[i]\n",
    "        \n",
    "        for key, value in bind_set.props.items():\n",
    "            if type(value) is list:\n",
    "                split_set.props[key] += value\n",
    "            else:\n",
    "                split_set.props[key] = torch.cat((split_set.props[key], value))\n",
    "    \n",
    "    return train, val, test\n",
    "\n",
    "        "
   ]
  },
  {
   "cell_type": "markdown",
   "metadata": {},
   "source": [
    "Code for making the initial split"
   ]
  },
  {
   "cell_type": "code",
   "execution_count": null,
   "metadata": {},
   "outputs": [],
   "source": []
  },
  {
   "cell_type": "code",
   "execution_count": 8,
   "metadata": {},
   "outputs": [],
   "source": [
    "# # # # split_ratio = np.array([0.6, 0.2, 0.2])\n",
    "\n",
    "# # # for crest based on its size -- not fully right yet\n",
    "# split_ratio = np.array([0.6, 0.2, 0.2])\n",
    "# datasets = split_data(dataset, split_ratio)\n",
    "# train, val, test = datasets\n"
   ]
  },
  {
   "cell_type": "markdown",
   "metadata": {},
   "source": [
    "Loading the same splits used before for this run"
   ]
  },
  {
   "cell_type": "code",
   "execution_count": 9,
   "metadata": {},
   "outputs": [],
   "source": [
    "# train_name = \"train_spec_crest.json\"\n",
    "# val_name = \"val_spec_crest.json\"\n",
    "# test_name = \"test_spec_crest.json\"\n",
    "\n",
    "# # train_name = \"train_spec.json\"\n",
    "# # val_name = \"val_spec.json\"\n",
    "# # test_name = \"test_spec.json\"\n",
    "\n",
    "# file_names = [train_name, val_name, test_name]\n",
    "# spec_list = []\n",
    "# for name in file_names:\n",
    "    \n",
    "#     with open(name, 'r') as f:\n",
    "#         spec_ids = json.load(f)\n",
    "#     spec_list.append(spec_ids)\n",
    "\n",
    "# datasets = []\n",
    "# for spec_ids in spec_list:\n",
    "#     idx = [i for i, spec_id in enumerate(dataset.props['spec_id']\n",
    "#             ) if spec_id in spec_ids]\n",
    "#     print(\"Found idx\")\n",
    "#     new_dataset = dataset.copy()\n",
    "#     for key, val in dataset.props.items():\n",
    "#         new_dataset.props[key] = [val[i] for i in range(len(val)\n",
    "#             ) if i in idx]\n",
    "#     datasets.append(new_dataset)\n",
    "    \n",
    "# train, val, test = datasets\n",
    "\n",
    "\n",
    "\n",
    "# # datasets = (,)\n",
    "# # for name in file_names:\n",
    "# #     if os.path.isfile(name):\n",
    "# #         datasets.append(Dataset.from_file(name))\n",
    "        \n",
    "# # if len(datasets) != 3:\n",
    "# #     split_ratio = np.array([0.6, 0.2, 0.2])\n",
    "# #     datasets = split_data(dataset, split_ratio)\n",
    "# #     for dataset, name in zip(datasets, file_names):\n",
    "# #         dataset.save(name)\n",
    "\n",
    "        \n",
    "# # train, val, test = datasets\n",
    "\n",
    "\n"
   ]
  },
  {
   "cell_type": "code",
   "execution_count": null,
   "metadata": {},
   "outputs": [],
   "source": []
  },
  {
   "cell_type": "code",
   "execution_count": null,
   "metadata": {},
   "outputs": [],
   "source": []
  },
  {
   "cell_type": "code",
   "execution_count": null,
   "metadata": {},
   "outputs": [],
   "source": []
  },
  {
   "cell_type": "code",
   "execution_count": null,
   "metadata": {},
   "outputs": [
    {
     "name": "stderr",
     "output_type": "stream",
     "text": [
      "100%|██████████| 3224/3224 [00:00<00:00, 3372.88it/s]\n"
     ]
    },
    {
     "name": "stdout",
     "output_type": "stream",
     "text": [
      "> /home/saxelrod/Repo/projects/covid_nff/NeuralForceField/nff/data/features/rdkit_feat.py(37)add_features()\n",
      "-> for feature_name, feat_path in zip(feature_names, feat_paths):\n",
      "(Pdb) l\n",
      " 32  \t    make_csv(dataset=dataset, data_path=data_path)\n",
      " 33  \t    data = get_data(path=data_path)\n",
      " 34  \t\n",
      " 35  \t    pdb.set_trace()\n",
      " 36  \t\n",
      " 37  ->\t    for feature_name, feat_path in zip(feature_names, feat_paths):\n",
      " 38  \t\n",
      " 39  \t        if os.path.isfile(feat_path):\n",
      " 40  \t            features = load_features(feat_path)\n",
      " 41  \t            features = [item.tolist() for item in features]\n",
      " 42  \t        else:\n",
      "(Pdb) data\n",
      "<chemprop.data.data.MoleculeDataset object at 0x7fbfaf1d0cc0>\n",
      "(Pdb) dir(data)\n",
      "['__add__', '__class__', '__delattr__', '__dict__', '__dir__', '__doc__', '__eq__', '__format__', '__ge__', '__getattribute__', '__getitem__', '__gt__', '__hash__', '__init__', '__init_subclass__', '__le__', '__len__', '__lt__', '__module__', '__ne__', '__new__', '__reduce__', '__reduce_ex__', '__repr__', '__setattr__', '__sizeof__', '__str__', '__subclasshook__', '__weakref__', 'args', 'compound_names', 'data', 'features', 'features_size', 'mols', 'normalize_features', 'num_tasks', 'scaler', 'set_targets', 'shuffle', 'smiles', 'sort', 'targets']\n",
      "(Pdb) mol_batch.features()\n",
      "*** NameError: name 'mol_batch' is not defined\n",
      "(Pdb) data.features()\n",
      "(Pdb) n\n",
      "> /home/saxelrod/Repo/projects/covid_nff/NeuralForceField/nff/data/features/rdkit_feat.py(39)add_features()\n",
      "-> if os.path.isfile(feat_path):\n",
      "(Pdb) n\n",
      "> /home/saxelrod/Repo/projects/covid_nff/NeuralForceField/nff/data/features/rdkit_feat.py(40)add_features()\n",
      "-> features = load_features(feat_path)\n",
      "(Pdb) n\n",
      "> /home/saxelrod/Repo/projects/covid_nff/NeuralForceField/nff/data/features/rdkit_feat.py(41)add_features()\n",
      "-> features = [item.tolist() for item in features]\n",
      "(Pdb) n\n",
      "> /home/saxelrod/Repo/projects/covid_nff/NeuralForceField/nff/data/features/rdkit_feat.py(52)add_features()\n",
      "-> tensor_features = to_tensor(features)\n",
      "(Pdb) n\n",
      "> /home/saxelrod/Repo/projects/covid_nff/NeuralForceField/nff/data/features/rdkit_feat.py(53)add_features()\n",
      "-> dataset.props.update({feature_name: tensor_features})\n",
      "(Pdb) data\n",
      "<chemprop.data.data.MoleculeDataset object at 0x7fbfaf1d0cc0>\n",
      "(Pdb) data.features()\n",
      "(Pdb) c\n"
     ]
    },
    {
     "name": "stderr",
     "output_type": "stream",
     "text": [
      "100%|██████████| 1075/1075 [00:00<00:00, 2665.94it/s]\n"
     ]
    },
    {
     "name": "stdout",
     "output_type": "stream",
     "text": [
      "> /home/saxelrod/Repo/projects/covid_nff/NeuralForceField/nff/data/features/rdkit_feat.py(37)add_features()\n",
      "-> for feature_name, feat_path in zip(feature_names, feat_paths):\n",
      "(Pdb) data.features()\n",
      "(Pdb) l\n",
      " 32  \t    make_csv(dataset=dataset, data_path=data_path)\n",
      " 33  \t    data = get_data(path=data_path)\n",
      " 34  \t\n",
      " 35  \t    pdb.set_trace()\n",
      " 36  \t\n",
      " 37  ->\t    for feature_name, feat_path in zip(feature_names, feat_paths):\n",
      " 38  \t\n",
      " 39  \t        if os.path.isfile(feat_path):\n",
      " 40  \t            features = load_features(feat_path)\n",
      " 41  \t            features = [item.tolist() for item in features]\n",
      " 42  \t        else:\n",
      "(Pdb) features\n",
      "*** NameError: name 'features' is not defined\n",
      "(Pdb) n\n",
      "> /home/saxelrod/Repo/projects/covid_nff/NeuralForceField/nff/data/features/rdkit_feat.py(39)add_features()\n",
      "-> if os.path.isfile(feat_path):\n",
      "(Pdb) n\n",
      "> /home/saxelrod/Repo/projects/covid_nff/NeuralForceField/nff/data/features/rdkit_feat.py(40)add_features()\n",
      "-> features = load_features(feat_path)\n",
      "(Pdb) n\n",
      "> /home/saxelrod/Repo/projects/covid_nff/NeuralForceField/nff/data/features/rdkit_feat.py(41)add_features()\n",
      "-> features = [item.tolist() for item in features]\n",
      "(Pdb) features\n",
      "array([[1., 0., 0., ..., 0., 0., 0.],\n",
      "       [0., 0., 0., ..., 0., 0., 0.],\n",
      "       [0., 0., 0., ..., 0., 0., 0.],\n",
      "       ...,\n",
      "       [0., 0., 0., ..., 0., 0., 0.],\n",
      "       [0., 0., 0., ..., 0., 0., 0.],\n",
      "       [0., 0., 0., ..., 0., 0., 0.]])\n",
      "(Pdb) l\n",
      " 36  \t\n",
      " 37  \t    for feature_name, feat_path in zip(feature_names, feat_paths):\n",
      " 38  \t\n",
      " 39  \t        if os.path.isfile(feat_path):\n",
      " 40  \t            features = load_features(feat_path)\n",
      " 41  ->\t            features = [item.tolist() for item in features]\n",
      " 42  \t        else:\n",
      " 43  \t            features_generator = get_features_generator(feature_name)\n",
      " 44  \t            mols = (d.mol for d in data)\n",
      " 45  \t            features_map = Pool().imap(features_generator, mols)\n",
      " 46  \t            features = []\n",
      "(Pdb) data\n",
      "<chemprop.data.data.MoleculeDataset object at 0x7fbf9eba4e80>\n",
      "(Pdb) data.__dict__\n",
      "{'data': [<chemprop.data.data.MoleculeDatapoint object at 0x7fbf9ec4b4e0>, <chemprop.data.data.MoleculeDatapoint object at 0x7fbf9ec4b438>, <chemprop.data.data.MoleculeDatapoint object at 0x7fbf9ec4b2e8>, <chemprop.data.data.MoleculeDatapoint object at 0x7fbf9ec4b390>, <chemprop.data.data.MoleculeDatapoint object at 0x7fbf9ec4b358>, <chemprop.data.data.MoleculeDatapoint object at 0x7fbf9ec4b3c8>, <chemprop.data.data.MoleculeDatapoint object at 0x7fbf9ec4b4a8>, <chemprop.data.data.MoleculeDatapoint object at 0x7fbf9ec4b518>, <chemprop.data.data.MoleculeDatapoint object at 0x7fbf9ec4b550>, <chemprop.data.data.MoleculeDatapoint object at 0x7fbf9ec4b588>, <chemprop.data.data.MoleculeDatapoint object at 0x7fc078231a20>, <chemprop.data.data.MoleculeDatapoint object at 0x7fbf9ec4b5c0>, <chemprop.data.data.MoleculeDatapoint object at 0x7fbf9ec4b5f8>, <chemprop.data.data.MoleculeDatapoint object at 0x7fbf9ec4b630>, <chemprop.data.data.MoleculeDatapoint object at 0x7fbf9ec4b668>, <chemprop.data.data.MoleculeDatapoint object at 0x7fbf9ec4b6a0>, <chemprop.data.data.MoleculeDatapoint object at 0x7fbf9ec4b6d8>, <chemprop.data.data.MoleculeDatapoint object at 0x7fbf9ec4b710>, <chemprop.data.data.MoleculeDatapoint object at 0x7fbf9ec4b748>, <chemprop.data.data.MoleculeDatapoint object at 0x7fbf9ec4b780>, <chemprop.data.data.MoleculeDatapoint object at 0x7fbf9ec4b7b8>, <chemprop.data.data.MoleculeDatapoint object at 0x7fbf9ec4b7f0>, <chemprop.data.data.MoleculeDatapoint object at 0x7fbf9ec4b860>, <chemprop.data.data.MoleculeDatapoint object at 0x7fbf9ec4b898>, <chemprop.data.data.MoleculeDatapoint object at 0x7fbf9ec4b470>, <chemprop.data.data.MoleculeDatapoint object at 0x7fbf9ec4b908>, <chemprop.data.data.MoleculeDatapoint object at 0x7fbf9ec4b9b0>, <chemprop.data.data.MoleculeDatapoint object at 0x7fbf9ec4b9e8>, <chemprop.data.data.MoleculeDatapoint object at 0x7fbf9ec4ba20>, <chemprop.data.data.MoleculeDatapoint object at 0x7fbf9ec4ba58>, <chemprop.data.data.MoleculeDatapoint object at 0x7fbf9ec4ba90>, <chemprop.data.data.MoleculeDatapoint object at 0x7fbf9ec4bb00>, <chemprop.data.data.MoleculeDatapoint object at 0x7fbf9ec4bb38>, <chemprop.data.data.MoleculeDatapoint object at 0x7fbf9ec4bb70>, <chemprop.data.data.MoleculeDatapoint object at 0x7fbf9ec4bba8>, <chemprop.data.data.MoleculeDatapoint object at 0x7fbf9ec4bbe0>, <chemprop.data.data.MoleculeDatapoint object at 0x7fbf9ec4bc18>, <chemprop.data.data.MoleculeDatapoint object at 0x7fbf9ec4bc50>, <chemprop.data.data.MoleculeDatapoint object at 0x7fbf9ec4bc88>, <chemprop.data.data.MoleculeDatapoint object at 0x7fbf9ec4bcc0>, <chemprop.data.data.MoleculeDatapoint object at 0x7fbf9ec4bcf8>, <chemprop.data.data.MoleculeDatapoint object at 0x7fbf9ec4bd30>, <chemprop.data.data.MoleculeDatapoint object at 0x7fbf9ec4bda0>, <chemprop.data.data.MoleculeDatapoint object at 0x7fbf9ec4bdd8>, <chemprop.data.data.MoleculeDatapoint object at 0x7fbf9ec4be10>, <chemprop.data.data.MoleculeDatapoint object at 0x7fbf9ec4be48>, <chemprop.data.data.MoleculeDatapoint object at 0x7fbf9ec4be80>, <chemprop.data.data.MoleculeDatapoint object at 0x7fbf9ec4beb8>, <chemprop.data.data.MoleculeDatapoint object at 0x7fbf9ec4bef0>, <chemprop.data.data.MoleculeDatapoint object at 0x7fbf9ec4bf28>, <chemprop.data.data.MoleculeDatapoint object at 0x7fbf9ec4bf60>, <chemprop.data.data.MoleculeDatapoint object at 0x7fbf9ec4bf98>, <chemprop.data.data.MoleculeDatapoint object at 0x7fbf9ec4bfd0>, <chemprop.data.data.MoleculeDatapoint object at 0x7fbf9ec4b828>, <chemprop.data.data.MoleculeDatapoint object at 0x7fbf9ec4b978>, <chemprop.data.data.MoleculeDatapoint object at 0x7fbf9ec4bac8>, <chemprop.data.data.MoleculeDatapoint object at 0x7fbf9ec4bd68>, <chemprop.data.data.MoleculeDatapoint object at 0x7fbfae4556a0>, <chemprop.data.data.MoleculeDatapoint object at 0x7fc07d9cce48>, <chemprop.data.data.MoleculeDatapoint object at 0x7fbf9ea6c400>, <chemprop.data.data.MoleculeDatapoint object at 0x7fbf9ea6c588>, <chemprop.data.data.MoleculeDatapoint object at 0x7fbf9ea6c630>, <chemprop.data.data.MoleculeDatapoint object at 0x7fbf9ea6c8d0>, <chemprop.data.data.MoleculeDatapoint object at 0x7fbf9ea6c908>, <chemprop.data.data.MoleculeDatapoint object at 0x7fbf9ea6ca20>, <chemprop.data.data.MoleculeDatapoint object at 0x7fbf9ea6cb38>, <chemprop.data.data.MoleculeDatapoint object at 0x7fbf9ea6cc88>, <chemprop.data.data.MoleculeDatapoint object at 0x7fbf9ea6cd30>, <chemprop.data.data.MoleculeDatapoint object at 0x7fbf9ea6ce10>, <chemprop.data.data.MoleculeDatapoint object at 0x7fbf9ea6ceb8>, <chemprop.data.data.MoleculeDatapoint object at 0x7fbf9ea6cf28>, <chemprop.data.data.MoleculeDatapoint object at 0x7fbf9ea6cbe0>, <chemprop.data.data.MoleculeDatapoint object at 0x7fbf9ea6c7f0>, <chemprop.data.data.MoleculeDatapoint object at 0x7fbf9ea6c748>, <chemprop.data.data.MoleculeDatapoint object at 0x7fbf9ea6c470>, <chemprop.data.data.MoleculeDatapoint object at 0x7fbf9ea6c3c8>, <chemprop.data.data.MoleculeDatapoint object at 0x7fbf9ea6c5c0>, <chemprop.data.data.MoleculeDatapoint object at 0x7fbf9ea6c518>, <chemprop.data.data.MoleculeDatapoint object at 0x7fbf9ea6c780>, <chemprop.data.data.MoleculeDatapoint object at 0x7fbf9ea6c6d8>, <chemprop.data.data.MoleculeDatapoint object at 0x7fbf9ea6ca90>, <chemprop.data.data.MoleculeDatapoint object at 0x7fbf9ea6c9e8>, <chemprop.data.data.MoleculeDatapoint object at 0x7fbf9ea6c828>, <chemprop.data.data.MoleculeDatapoint object at 0x7fbf9ea6c9b0>, <chemprop.data.data.MoleculeDatapoint object at 0x7fbf9ea6c978>, <chemprop.data.data.MoleculeDatapoint object at 0x7fbf9ea6cb00>, <chemprop.data.data.MoleculeDatapoint object at 0x7fbf9ea6ca58>, <chemprop.data.data.MoleculeDatapoint object at 0x7fbf9ea6cb70>, <chemprop.data.data.MoleculeDatapoint object at 0x7fbf9ea6cac8>, <chemprop.data.data.MoleculeDatapoint object at 0x7fbf9ea6ccc0>, <chemprop.data.data.MoleculeDatapoint object at 0x7fbf9ea6cc18>, <chemprop.data.data.MoleculeDatapoint object at 0x7fbf9ea6c080>, <chemprop.data.data.MoleculeDatapoint object at 0x7fbf9ea6c0f0>, <chemprop.data.data.MoleculeDatapoint object at 0x7fbf9ea6c128>, <chemprop.data.data.MoleculeDatapoint object at 0x7fbf9ea6c160>, <chemprop.data.data.MoleculeDatapoint object at 0x7fbf9ea6c198>, <chemprop.data.data.MoleculeDatapoint object at 0x7fbf9ea6c1d0>, <chemprop.data.data.MoleculeDatapoint object at 0x7fbf9ea6c278>, <chemprop.data.data.MoleculeDatapoint object at 0x7fbf9ea6c2b0>, <chemprop.data.data.MoleculeDatapoint object at 0x7fbf9ea6c2e8>, <chemprop.data.data.MoleculeDatapoint object at 0x7fbf9ea6c320>, <chemprop.data.data.MoleculeDatapoint object at 0x7fbf9ea6c358>, <chemprop.data.data.MoleculeDatapoint object at 0x7fbf9ea6c390>, <chemprop.data.data.MoleculeDatapoint object at 0x7fbf9ea6c4e0>, <chemprop.data.data.MoleculeDatapoint object at 0x7fbf9ea6c550>, <chemprop.data.data.MoleculeDatapoint object at 0x7fbf9ea6c5f8>, <chemprop.data.data.MoleculeDatapoint object at 0x7fbf9ea6c668>, <chemprop.data.data.MoleculeDatapoint object at 0x7fbf9ea6c6a0>, <chemprop.data.data.MoleculeDatapoint object at 0x7fbf9ea6c710>, <chemprop.data.data.MoleculeDatapoint object at 0x7fbf9ea6c940>, <chemprop.data.data.MoleculeDatapoint object at 0x7fbf9ea6cba8>, <chemprop.data.data.MoleculeDatapoint object at 0x7fbf9ea6cc50>, <chemprop.data.data.MoleculeDatapoint object at 0x7fbf9ea6ccf8>, <chemprop.data.data.MoleculeDatapoint object at 0x7fbf9ea6cd68>, <chemprop.data.data.MoleculeDatapoint object at 0x7fbf9ea6cda0>, <chemprop.data.data.MoleculeDatapoint object at 0x7fbf9ea6cdd8>, <chemprop.data.data.MoleculeDatapoint object at 0x7fbf9ea6ce48>, <chemprop.data.data.MoleculeDatapoint object at 0x7fbf9ea6ce80>, <chemprop.data.data.MoleculeDatapoint object at 0x7fbf9ea6cef0>, <chemprop.data.data.MoleculeDatapoint object at 0x7fbf9ea6cf60>, <chemprop.data.data.MoleculeDatapoint object at 0x7fbf9ea6cf98>, <chemprop.data.data.MoleculeDatapoint object at 0x7fbf9ea6cfd0>, <chemprop.data.data.MoleculeDatapoint object at 0x7fbf9ea6c0b8>, <chemprop.data.data.MoleculeDatapoint object at 0x7fbf9ea6c208>, <chemprop.data.data.MoleculeDatapoint object at 0x7fbf9ea6c438>, <chemprop.data.data.MoleculeDatapoint object at 0x7fbf9ea6c4a8>, <chemprop.data.data.MoleculeDatapoint object at 0x7fbf9ea6c860>, <chemprop.data.data.MoleculeDatapoint object at 0x7fbf9ea6c7b8>, <chemprop.data.data.MoleculeDatapoint object at 0x7fbf9ea6c898>, <chemprop.data.data.MoleculeDatapoint object at 0x7fbf9ec9f828>, <chemprop.data.data.MoleculeDatapoint object at 0x7fbf9ec9f9b0>, <chemprop.data.data.MoleculeDatapoint object at 0x7fbf9ec9ff28>, <chemprop.data.data.MoleculeDatapoint object at 0x7fbf9ec9f630>, <chemprop.data.data.MoleculeDatapoint object at 0x7fbf9ec9f588>, <chemprop.data.data.MoleculeDatapoint object at 0x7fbf9ec9f8d0>, <chemprop.data.data.MoleculeDatapoint object at 0x7fbf9ec9f940>, <chemprop.data.data.MoleculeDatapoint object at 0x7fbf9ec9f898>, <chemprop.data.data.MoleculeDatapoint object at 0x7fbf9ec9f048>, <chemprop.data.data.MoleculeDatapoint object at 0x7fbf9ec9f080>, <chemprop.data.data.MoleculeDatapoint object at 0x7fbf9ec9f0b8>, <chemprop.data.data.MoleculeDatapoint object at 0x7fbf9ec9f0f0>, <chemprop.data.data.MoleculeDatapoint object at 0x7fbf9ec9f128>, <chemprop.data.data.MoleculeDatapoint object at 0x7fbf9ec9f160>, <chemprop.data.data.MoleculeDatapoint object at 0x7fbf9ec9f198>, <chemprop.data.data.MoleculeDatapoint object at 0x7fbf9ec9f1d0>, <chemprop.data.data.MoleculeDatapoint object at 0x7fbf9ec9f208>, <chemprop.data.data.MoleculeDatapoint object at 0x7fbf9ec9f240>, <chemprop.data.data.MoleculeDatapoint object at 0x7fbf9ec9f278>, <chemprop.data.data.MoleculeDatapoint object at 0x7fbf9ec9f2b0>, <chemprop.data.data.MoleculeDatapoint object at 0x7fbf9ec9f2e8>, <chemprop.data.data.MoleculeDatapoint object at 0x7fbf9ec9f320>, <chemprop.data.data.MoleculeDatapoint object at 0x7fbf9ec9f358>, <chemprop.data.data.MoleculeDatapoint object at 0x7fbf9ec9f390>, <chemprop.data.data.MoleculeDatapoint object at 0x7fbf9ec9f3c8>, <chemprop.data.data.MoleculeDatapoint object at 0x7fbf9ec9f400>, <chemprop.data.data.MoleculeDatapoint object at 0x7fbf9ec9f438>, <chemprop.data.data.MoleculeDatapoint object at 0x7fbf9ec9f470>, <chemprop.data.data.MoleculeDatapoint object at 0x7fbf9ec9f4a8>, <chemprop.data.data.MoleculeDatapoint object at 0x7fbf9ec9f4e0>, <chemprop.data.data.MoleculeDatapoint object at 0x7fbf9ec9f518>, <chemprop.data.data.MoleculeDatapoint object at 0x7fbf9ec9f550>, <chemprop.data.data.MoleculeDatapoint object at 0x7fbf9ec9f5c0>, <chemprop.data.data.MoleculeDatapoint object at 0x7fbf9ec9f5f8>, <chemprop.data.data.MoleculeDatapoint object at 0x7fbf9ec9f668>, <chemprop.data.data.MoleculeDatapoint object at 0x7fbf9ec9f6a0>, <chemprop.data.data.MoleculeDatapoint object at 0x7fbf9ec9f6d8>, <chemprop.data.data.MoleculeDatapoint object at 0x7fbf9ec9f710>, <chemprop.data.data.MoleculeDatapoint object at 0x7fbf9ec9f748>, <chemprop.data.data.MoleculeDatapoint object at 0x7fbf9ec9f780>, <chemprop.data.data.MoleculeDatapoint object at 0x7fbf9ec9f7f0>, <chemprop.data.data.MoleculeDatapoint object at 0x7fbf9ec9f860>, <chemprop.data.data.MoleculeDatapoint object at 0x7fbf9ec9f908>, <chemprop.data.data.MoleculeDatapoint object at 0x7fbf9ec9f978>, <chemprop.data.data.MoleculeDatapoint object at 0x7fbf9ec9f9e8>, <chemprop.data.data.MoleculeDatapoint object at 0x7fbf9ec9fa20>, <chemprop.data.data.MoleculeDatapoint object at 0x7fbf9ec9fa58>, <chemprop.data.data.MoleculeDatapoint object at 0x7fbf9ec9fa90>, <chemprop.data.data.MoleculeDatapoint object at 0x7fbf9ec9fac8>, <chemprop.data.data.MoleculeDatapoint object at 0x7fbf9ec9fb00>, <chemprop.data.data.MoleculeDatapoint object at 0x7fbf9ec9fb38>, <chemprop.data.data.MoleculeDatapoint object at 0x7fbf9ec9fba8>, <chemprop.data.data.MoleculeDatapoint object at 0x7fbf9ec9fbe0>, <chemprop.data.data.MoleculeDatapoint object at 0x7fbf9ec9fc18>, <chemprop.data.data.MoleculeDatapoint object at 0x7fbf9ec9fc50>, <chemprop.data.data.MoleculeDatapoint object at 0x7fbf9ec9fc88>, <chemprop.data.data.MoleculeDatapoint object at 0x7fbf9ec9fcc0>, <chemprop.data.data.MoleculeDatapoint object at 0x7fbf9ec9fcf8>, <chemprop.data.data.MoleculeDatapoint object at 0x7fbf9ec9fd30>, <chemprop.data.data.MoleculeDatapoint object at 0x7fbf9ec9fd68>, <chemprop.data.data.MoleculeDatapoint object at 0x7fbf9ec9fda0>, <chemprop.data.data.MoleculeDatapoint object at 0x7fbf9ec9fdd8>, <chemprop.data.data.MoleculeDatapoint object at 0x7fbf9ec9fe10>, <chemprop.data.data.MoleculeDatapoint object at 0x7fbf9ec9fe48>, <chemprop.data.data.MoleculeDatapoint object at 0x7fbf9ec9fe80>, <chemprop.data.data.MoleculeDatapoint object at 0x7fbf9ec9feb8>, <chemprop.data.data.MoleculeDatapoint object at 0x7fbf9ec9fef0>, <chemprop.data.data.MoleculeDatapoint object at 0x7fbf9ec9ff60>, <chemprop.data.data.MoleculeDatapoint object at 0x7fbf9ec9ff98>, <chemprop.data.data.MoleculeDatapoint object at 0x7fbf9ec9ffd0>, <chemprop.data.data.MoleculeDatapoint object at 0x7fbf9ec9f7b8>, <chemprop.data.data.MoleculeDatapoint object at 0x7fbf9f29c5c0>, <chemprop.data.data.MoleculeDatapoint object at 0x7fbf9f29c518>, <chemprop.data.data.MoleculeDatapoint object at 0x7fbf9f29c1d0>, <chemprop.data.data.MoleculeDatapoint object at 0x7fbf9f29c128>, <chemprop.data.data.MoleculeDatapoint object at 0x7fbf9f29c7f0>, <chemprop.data.data.MoleculeDatapoint object at 0x7fbf9f29c748>, <chemprop.data.data.MoleculeDatapoint object at 0x7fbf9f29c080>, <chemprop.data.data.MoleculeDatapoint object at 0x7fbf9f29c0f0>, <chemprop.data.data.MoleculeDatapoint object at 0x7fbf9f29c160>, <chemprop.data.data.MoleculeDatapoint object at 0x7fbf9f29c198>, <chemprop.data.data.MoleculeDatapoint object at 0x7fbf9f29c208>, <chemprop.data.data.MoleculeDatapoint object at 0x7fbf9f29c278>, <chemprop.data.data.MoleculeDatapoint object at 0x7fbf9f29c2b0>, <chemprop.data.data.MoleculeDatapoint object at 0x7fbf9f29c2e8>, <chemprop.data.data.MoleculeDatapoint object at 0x7fbf9f29c358>, <chemprop.data.data.MoleculeDatapoint object at 0x7fbf9f29c390>, <chemprop.data.data.MoleculeDatapoint object at 0x7fbf9f29c3c8>, <chemprop.data.data.MoleculeDatapoint object at 0x7fbf9f29c400>, <chemprop.data.data.MoleculeDatapoint object at 0x7fbf9f29c470>, <chemprop.data.data.MoleculeDatapoint object at 0x7fbf9f29c4a8>, <chemprop.data.data.MoleculeDatapoint object at 0x7fbf9f29c4e0>, <chemprop.data.data.MoleculeDatapoint object at 0x7fbf9f29c550>, <chemprop.data.data.MoleculeDatapoint object at 0x7fbf9f29c588>, <chemprop.data.data.MoleculeDatapoint object at 0x7fbf9f29c5f8>, <chemprop.data.data.MoleculeDatapoint object at 0x7fbf9f29c668>, <chemprop.data.data.MoleculeDatapoint object at 0x7fbf9f29c6a0>, <chemprop.data.data.MoleculeDatapoint object at 0x7fbf9f29c6d8>, <chemprop.data.data.MoleculeDatapoint object at 0x7fbf9f29c710>, <chemprop.data.data.MoleculeDatapoint object at 0x7fbf9f29c780>, <chemprop.data.data.MoleculeDatapoint object at 0x7fbf9f29c860>, <chemprop.data.data.MoleculeDatapoint object at 0x7fbf9f29c898>, <chemprop.data.data.MoleculeDatapoint object at 0x7fbf9f29c8d0>, <chemprop.data.data.MoleculeDatapoint object at 0x7fbf9f29c908>, <chemprop.data.data.MoleculeDatapoint object at 0x7fbf9f29c940>, <chemprop.data.data.MoleculeDatapoint object at 0x7fbf9f29c978>, <chemprop.data.data.MoleculeDatapoint object at 0x7fbf9f29c9b0>, <chemprop.data.data.MoleculeDatapoint object at 0x7fbf9f29c9e8>, <chemprop.data.data.MoleculeDatapoint object at 0x7fbf9f29ca58>, <chemprop.data.data.MoleculeDatapoint object at 0x7fbf9f29ca90>, <chemprop.data.data.MoleculeDatapoint object at 0x7fbf9f29cac8>, <chemprop.data.data.MoleculeDatapoint object at 0x7fbf9f29cb00>, <chemprop.data.data.MoleculeDatapoint object at 0x7fbf9f29cb38>, <chemprop.data.data.MoleculeDatapoint object at 0x7fbf9f29cbe0>, <chemprop.data.data.MoleculeDatapoint object at 0x7fbf9f29cc18>, <chemprop.data.data.MoleculeDatapoint object at 0x7fbf9f29cc50>, <chemprop.data.data.MoleculeDatapoint object at 0x7fbf9f29cc88>, <chemprop.data.data.MoleculeDatapoint object at 0x7fbf9f29ccc0>, <chemprop.data.data.MoleculeDatapoint object at 0x7fbf9f29cd30>, <chemprop.data.data.MoleculeDatapoint object at 0x7fbf9f29cd68>, <chemprop.data.data.MoleculeDatapoint object at 0x7fbf9f29cda0>, <chemprop.data.data.MoleculeDatapoint object at 0x7fbf9f29cdd8>, <chemprop.data.data.MoleculeDatapoint object at 0x7fbf9f29ce10>, <chemprop.data.data.MoleculeDatapoint object at 0x7fbf9f29ce48>, <chemprop.data.data.MoleculeDatapoint object at 0x7fbf9f29ce80>, <chemprop.data.data.MoleculeDatapoint object at 0x7fbf9f29ceb8>, <chemprop.data.data.MoleculeDatapoint object at 0x7fbf9f29cef0>, <chemprop.data.data.MoleculeDatapoint object at 0x7fbf9f29cf60>, <chemprop.data.data.MoleculeDatapoint object at 0x7fbf9f29cf98>, <chemprop.data.data.MoleculeDatapoint object at 0x7fbf9f29cfd0>, <chemprop.data.data.MoleculeDatapoint object at 0x7fbf9f29c7b8>, <chemprop.data.data.MoleculeDatapoint object at 0x7fbf9f29c828>, <chemprop.data.data.MoleculeDatapoint object at 0x7fbf9f29ca20>, <chemprop.data.data.MoleculeDatapoint object at 0x7fbf9f29ccf8>, <chemprop.data.data.MoleculeDatapoint object at 0x7fbf9f1af400>, <chemprop.data.data.MoleculeDatapoint object at 0x7fbf9f1af358>, <chemprop.data.data.MoleculeDatapoint object at 0x7fbf9f1af208>, <chemprop.data.data.MoleculeDatapoint object at 0x7fbf9f1af278>, <chemprop.data.data.MoleculeDatapoint object at 0x7fbf9f1af908>, <chemprop.data.data.MoleculeDatapoint object at 0x7fbf9f1afc88>, <chemprop.data.data.MoleculeDatapoint object at 0x7fbf9f1af9b0>, <chemprop.data.data.MoleculeDatapoint object at 0x7fbf9f1afd30>, <chemprop.data.data.MoleculeDatapoint object at 0x7fbf9f1afc50>, <chemprop.data.data.MoleculeDatapoint object at 0x7fbf9f1afa90>, <chemprop.data.data.MoleculeDatapoint object at 0x7fbf9f1af630>, <chemprop.data.data.MoleculeDatapoint object at 0x7fbf9f1af710>, <chemprop.data.data.MoleculeDatapoint object at 0x7fbf9f1af588>, <chemprop.data.data.MoleculeDatapoint object at 0x7fbf9f1af9e8>, <chemprop.data.data.MoleculeDatapoint object at 0x7fbf9f1afba8>, <chemprop.data.data.MoleculeDatapoint object at 0x7fbf9f1afcc0>, <chemprop.data.data.MoleculeDatapoint object at 0x7fbf9f1afc18>, <chemprop.data.data.MoleculeDatapoint object at 0x7fbf9f1afe10>, <chemprop.data.data.MoleculeDatapoint object at 0x7fbf9f1afd68>, <chemprop.data.data.MoleculeDatapoint object at 0x7fbf9f1af5c0>, <chemprop.data.data.MoleculeDatapoint object at 0x7fbf9f1af518>, <chemprop.data.data.MoleculeDatapoint object at 0x7fbf9f1af8d0>, <chemprop.data.data.MoleculeDatapoint object at 0x7fbf9f1af828>, <chemprop.data.data.MoleculeDatapoint object at 0x7fbf9f1af940>, <chemprop.data.data.MoleculeDatapoint object at 0x7fbf9f1af898>, <chemprop.data.data.MoleculeDatapoint object at 0x7fbf9f1afa20>, <chemprop.data.data.MoleculeDatapoint object at 0x7fbf9f1af978>, <chemprop.data.data.MoleculeDatapoint object at 0x7fbf9f1afb00>, <chemprop.data.data.MoleculeDatapoint object at 0x7fbf9f1afa58>, <chemprop.data.data.MoleculeDatapoint object at 0x7fbf9f1afb70>, <chemprop.data.data.MoleculeDatapoint object at 0x7fbf9f1afac8>, <chemprop.data.data.MoleculeDatapoint object at 0x7fbf9f1afbe0>, <chemprop.data.data.MoleculeDatapoint object at 0x7fbf9f1afb38>, <chemprop.data.data.MoleculeDatapoint object at 0x7fbf9f1af320>, <chemprop.data.data.MoleculeDatapoint object at 0x7fbf9f1afda0>, <chemprop.data.data.MoleculeDatapoint object at 0x7fbf9f1afcf8>, <chemprop.data.data.MoleculeDatapoint object at 0x7fbf9f1afe80>, <chemprop.data.data.MoleculeDatapoint object at 0x7fbf9f1afdd8>, <chemprop.data.data.MoleculeDatapoint object at 0x7fbf9e803080>, <chemprop.data.data.MoleculeDatapoint object at 0x7fbf9e8030b8>, <chemprop.data.data.MoleculeDatapoint object at 0x7fbf9e8030f0>, <chemprop.data.data.MoleculeDatapoint object at 0x7fbf9e803128>, <chemprop.data.data.MoleculeDatapoint object at 0x7fbf9e803198>, <chemprop.data.data.MoleculeDatapoint object at 0x7fbf9e8031d0>, <chemprop.data.data.MoleculeDatapoint object at 0x7fbf9e803240>, <chemprop.data.data.MoleculeDatapoint object at 0x7fbf9e803278>, <chemprop.data.data.MoleculeDatapoint object at 0x7fbf9e803320>, <chemprop.data.data.MoleculeDatapoint object at 0x7fbf9e803358>, <chemprop.data.data.MoleculeDatapoint object at 0x7fbf9e8033c8>, <chemprop.data.data.MoleculeDatapoint object at 0x7fbf9e803438>, <chemprop.data.data.MoleculeDatapoint object at 0x7fbf9e803470>, <chemprop.data.data.MoleculeDatapoint object at 0x7fbf9e8034a8>, <chemprop.data.data.MoleculeDatapoint object at 0x7fbf9e8034e0>, <chemprop.data.data.MoleculeDatapoint object at 0x7fbf9ec4b8d0>, <chemprop.data.data.MoleculeDatapoint object at 0x7fbf9e803518>, <chemprop.data.data.MoleculeDatapoint object at 0x7fbf9e803550>, <chemprop.data.data.MoleculeDatapoint object at 0x7fbf9e8035c0>, <chemprop.data.data.MoleculeDatapoint object at 0x7fbf9e803668>, <chemprop.data.data.MoleculeDatapoint object at 0x7fbf9e8036a0>, <chemprop.data.data.MoleculeDatapoint object at 0x7fbf9e803710>, <chemprop.data.data.MoleculeDatapoint object at 0x7fbf9e803780>, <chemprop.data.data.MoleculeDatapoint object at 0x7fbf9e803828>, <chemprop.data.data.MoleculeDatapoint object at 0x7fbf9e803860>, <chemprop.data.data.MoleculeDatapoint object at 0x7fbf9e803898>, <chemprop.data.data.MoleculeDatapoint object at 0x7fbf9e8038d0>, <chemprop.data.data.MoleculeDatapoint object at 0x7fbf9e803940>, <chemprop.data.data.MoleculeDatapoint object at 0x7fbf9f1af668>, <chemprop.data.data.MoleculeDatapoint object at 0x7fbf9e803a58>, <chemprop.data.data.MoleculeDatapoint object at 0x7fbf9e803a90>, <chemprop.data.data.MoleculeDatapoint object at 0x7fbf9e803ac8>, <chemprop.data.data.MoleculeDatapoint object at 0x7fbf9e803b00>, <chemprop.data.data.MoleculeDatapoint object at 0x7fbf9e803b38>, <chemprop.data.data.MoleculeDatapoint object at 0x7fbf9e803ba8>, <chemprop.data.data.MoleculeDatapoint object at 0x7fbf9e803be0>, <chemprop.data.data.MoleculeDatapoint object at 0x7fbf9e803c18>, <chemprop.data.data.MoleculeDatapoint object at 0x7fbf9e803c50>, <chemprop.data.data.MoleculeDatapoint object at 0x7fbf9e803cc0>, <chemprop.data.data.MoleculeDatapoint object at 0x7fbf9e803cf8>, <chemprop.data.data.MoleculeDatapoint object at 0x7fbf9e803d68>, <chemprop.data.data.MoleculeDatapoint object at 0x7fbf9e803da0>, <chemprop.data.data.MoleculeDatapoint object at 0x7fbf9e803dd8>, <chemprop.data.data.MoleculeDatapoint object at 0x7fbf9e803eb8>, <chemprop.data.data.MoleculeDatapoint object at 0x7fbf9e803ef0>, <chemprop.data.data.MoleculeDatapoint object at 0x7fbf9e803f60>, <chemprop.data.data.MoleculeDatapoint object at 0x7fbf9e803f98>, <chemprop.data.data.MoleculeDatapoint object at 0x7fbf9e8036d8>, <chemprop.data.data.MoleculeDatapoint object at 0x7fbf9e8037f0>, <chemprop.data.data.MoleculeDatapoint object at 0x7fbf9e803748>, <chemprop.data.data.MoleculeDatapoint object at 0x7fbf9e8037b8>, <chemprop.data.data.MoleculeDatapoint object at 0x7fbf9e8039b0>, <chemprop.data.data.MoleculeDatapoint object at 0x7fbf9e803908>, <chemprop.data.data.MoleculeDatapoint object at 0x7fbf9e803a20>, <chemprop.data.data.MoleculeDatapoint object at 0x7fbf9e803978>, <chemprop.data.data.MoleculeDatapoint object at 0x7fbf9e803b70>, <chemprop.data.data.MoleculeDatapoint object at 0x7fbf9e803e10>, <chemprop.data.data.MoleculeDatapoint object at 0x7fbf9e803e48>, <chemprop.data.data.MoleculeDatapoint object at 0x7fbf9e803208>, <chemprop.data.data.MoleculeDatapoint object at 0x7fbf9e803400>, <chemprop.data.data.MoleculeDatapoint object at 0x7fbf9e803f28>, <chemprop.data.data.MoleculeDatapoint object at 0x7fbf9e8035f8>, <chemprop.data.data.MoleculeDatapoint object at 0x7fbf9e803e80>, <chemprop.data.data.MoleculeDatapoint object at 0x7fbf9e803fd0>, <chemprop.data.data.MoleculeDatapoint object at 0x7fbf9e803048>, <chemprop.data.data.MoleculeDatapoint object at 0x7fbf9e803160>, <chemprop.data.data.MoleculeDatapoint object at 0x7fbf9e803390>, <chemprop.data.data.MoleculeDatapoint object at 0x7fbf9e8032e8>, <chemprop.data.data.MoleculeDatapoint object at 0x7fbf9e803588>, <chemprop.data.data.MoleculeDatapoint object at 0x7fbf9ebf97f0>, <chemprop.data.data.MoleculeDatapoint object at 0x7fbf9ebf9cc0>, <chemprop.data.data.MoleculeDatapoint object at 0x7fbf9ebf9ef0>, <chemprop.data.data.MoleculeDatapoint object at 0x7fbf9ebf9f28>, <chemprop.data.data.MoleculeDatapoint object at 0x7fbf9ebf9400>, <chemprop.data.data.MoleculeDatapoint object at 0x7fbf9ebf9358>, <chemprop.data.data.MoleculeDatapoint object at 0x7fbf9ebf96a0>, <chemprop.data.data.MoleculeDatapoint object at 0x7fbf9ebf95f8>, <chemprop.data.data.MoleculeDatapoint object at 0x7fbf9f2bca90>, <chemprop.data.data.MoleculeDatapoint object at 0x7fbf9f2bc9e8>, <chemprop.data.data.MoleculeDatapoint object at 0x7fbf9f2bccc0>, <chemprop.data.data.MoleculeDatapoint object at 0x7fbf9f2bcc18>, <chemprop.data.data.MoleculeDatapoint object at 0x7fbf9f2bc048>, <chemprop.data.data.MoleculeDatapoint object at 0x7fbf9f2bc320>, <chemprop.data.data.MoleculeDatapoint object at 0x7fbf9f2bc390>, <chemprop.data.data.MoleculeDatapoint object at 0x7fbf9f2bc438>, <chemprop.data.data.MoleculeDatapoint object at 0x7fbf9f2bceb8>, <chemprop.data.data.MoleculeDatapoint object at 0x7fbf9f2bc080>, <chemprop.data.data.MoleculeDatapoint object at 0x7fbf9f2bc0b8>, <chemprop.data.data.MoleculeDatapoint object at 0x7fbf9f2bc0f0>, <chemprop.data.data.MoleculeDatapoint object at 0x7fbf9f2bc128>, <chemprop.data.data.MoleculeDatapoint object at 0x7fbf9f2bc160>, <chemprop.data.data.MoleculeDatapoint object at 0x7fbf9f2bc198>, <chemprop.data.data.MoleculeDatapoint object at 0x7fbf9f2bc1d0>, <chemprop.data.data.MoleculeDatapoint object at 0x7fbf9f2bc208>, <chemprop.data.data.MoleculeDatapoint object at 0x7fbf9f2bc240>, <chemprop.data.data.MoleculeDatapoint object at 0x7fbf9f2bc278>, <chemprop.data.data.MoleculeDatapoint object at 0x7fbf9f2bc2b0>, <chemprop.data.data.MoleculeDatapoint object at 0x7fbf9f2bc2e8>, <chemprop.data.data.MoleculeDatapoint object at 0x7fbf9f2bc358>, <chemprop.data.data.MoleculeDatapoint object at 0x7fbf9f2bc3c8>, <chemprop.data.data.MoleculeDatapoint object at 0x7fbf9f2bc400>, <chemprop.data.data.MoleculeDatapoint object at 0x7fbf9f2bc470>, <chemprop.data.data.MoleculeDatapoint object at 0x7fbf9f2bc4a8>, <chemprop.data.data.MoleculeDatapoint object at 0x7fbf9f2bc4e0>, <chemprop.data.data.MoleculeDatapoint object at 0x7fbf9f2bc518>, <chemprop.data.data.MoleculeDatapoint object at 0x7fbf9f2bc550>, <chemprop.data.data.MoleculeDatapoint object at 0x7fbf9f2bc588>, <chemprop.data.data.MoleculeDatapoint object at 0x7fbf9f2bc5c0>, <chemprop.data.data.MoleculeDatapoint object at 0x7fbf9f2bc5f8>, <chemprop.data.data.MoleculeDatapoint object at 0x7fbf9f2bc630>, <chemprop.data.data.MoleculeDatapoint object at 0x7fbf9f2bc668>, <chemprop.data.data.MoleculeDatapoint object at 0x7fbf9f2bc6a0>, <chemprop.data.data.MoleculeDatapoint object at 0x7fbf9f2bc6d8>, <chemprop.data.data.MoleculeDatapoint object at 0x7fbf9f2bc710>, <chemprop.data.data.MoleculeDatapoint object at 0x7fbf9f2bc748>, <chemprop.data.data.MoleculeDatapoint object at 0x7fbf9f2bc780>, <chemprop.data.data.MoleculeDatapoint object at 0x7fbf9f2bc7b8>, <chemprop.data.data.MoleculeDatapoint object at 0x7fbf9f2bc7f0>, <chemprop.data.data.MoleculeDatapoint object at 0x7fbf9f2bc898>, <chemprop.data.data.MoleculeDatapoint object at 0x7fbf9f2bc8d0>, <chemprop.data.data.MoleculeDatapoint object at 0x7fbf9f2bc908>, <chemprop.data.data.MoleculeDatapoint object at 0x7fbf9f2bc940>, <chemprop.data.data.MoleculeDatapoint object at 0x7fbf9f2bc978>, <chemprop.data.data.MoleculeDatapoint object at 0x7fbf9f2bc9b0>, <chemprop.data.data.MoleculeDatapoint object at 0x7fbf9f2bca20>, <chemprop.data.data.MoleculeDatapoint object at 0x7fbf9f2bca58>, <chemprop.data.data.MoleculeDatapoint object at 0x7fbf9f2bcac8>, <chemprop.data.data.MoleculeDatapoint object at 0x7fbf9f2bcb00>, <chemprop.data.data.MoleculeDatapoint object at 0x7fbf9f2bcb38>, <chemprop.data.data.MoleculeDatapoint object at 0x7fbf9f2bcb70>, <chemprop.data.data.MoleculeDatapoint object at 0x7fbf9f2bcba8>, <chemprop.data.data.MoleculeDatapoint object at 0x7fbf9f2bcbe0>, <chemprop.data.data.MoleculeDatapoint object at 0x7fbf9f2bcc50>, <chemprop.data.data.MoleculeDatapoint object at 0x7fbf9f2bcc88>, <chemprop.data.data.MoleculeDatapoint object at 0x7fbf9f2bccf8>, <chemprop.data.data.MoleculeDatapoint object at 0x7fbf9f2bcd30>, <chemprop.data.data.MoleculeDatapoint object at 0x7fbf9f2bcd68>, <chemprop.data.data.MoleculeDatapoint object at 0x7fbf9f2bcda0>, <chemprop.data.data.MoleculeDatapoint object at 0x7fbf9f2bcdd8>, <chemprop.data.data.MoleculeDatapoint object at 0x7fbf9f2bce10>, <chemprop.data.data.MoleculeDatapoint object at 0x7fbf9f2bce48>, <chemprop.data.data.MoleculeDatapoint object at 0x7fbf9f2bce80>, <chemprop.data.data.MoleculeDatapoint object at 0x7fbf9f2bcef0>, <chemprop.data.data.MoleculeDatapoint object at 0x7fbf9f2bcf28>, <chemprop.data.data.MoleculeDatapoint object at 0x7fbf9f2bcf60>, <chemprop.data.data.MoleculeDatapoint object at 0x7fbf9f2bcf98>, <chemprop.data.data.MoleculeDatapoint object at 0x7fbf9f2bcfd0>, <chemprop.data.data.MoleculeDatapoint object at 0x7fbf9f2bc860>, <chemprop.data.data.MoleculeDatapoint object at 0x7fbf9ebce080>, <chemprop.data.data.MoleculeDatapoint object at 0x7fbf9ebce160>, <chemprop.data.data.MoleculeDatapoint object at 0x7fbf9ebce0b8>, <chemprop.data.data.MoleculeDatapoint object at 0x7fbf9ebce240>, <chemprop.data.data.MoleculeDatapoint object at 0x7fbf9ebce198>, <chemprop.data.data.MoleculeDatapoint object at 0x7fbf9ebce2b0>, <chemprop.data.data.MoleculeDatapoint object at 0x7fbf9ebce208>, <chemprop.data.data.MoleculeDatapoint object at 0x7fbf9ebce390>, <chemprop.data.data.MoleculeDatapoint object at 0x7fbf9ebce2e8>, <chemprop.data.data.MoleculeDatapoint object at 0x7fbf9ebce400>, <chemprop.data.data.MoleculeDatapoint object at 0x7fbf9ebce358>, <chemprop.data.data.MoleculeDatapoint object at 0x7fbf9ebce550>, <chemprop.data.data.MoleculeDatapoint object at 0x7fbf9ebce4a8>, <chemprop.data.data.MoleculeDatapoint object at 0x7fbf9ebce5c0>, <chemprop.data.data.MoleculeDatapoint object at 0x7fbf9ebce518>, <chemprop.data.data.MoleculeDatapoint object at 0x7fbf9ebce630>, <chemprop.data.data.MoleculeDatapoint object at 0x7fbf9ebce588>, <chemprop.data.data.MoleculeDatapoint object at 0x7fbf9ebce6a0>, <chemprop.data.data.MoleculeDatapoint object at 0x7fbf9ebce5f8>, <chemprop.data.data.MoleculeDatapoint object at 0x7fbf9ebce748>, <chemprop.data.data.MoleculeDatapoint object at 0x7fbf9ebcecf8>, <chemprop.data.data.MoleculeDatapoint object at 0x7fbf9ebcee10>, <chemprop.data.data.MoleculeDatapoint object at 0x7fbf9ebceeb8>, <chemprop.data.data.MoleculeDatapoint object at 0x7fbf9ebcef60>, <chemprop.data.data.MoleculeDatapoint object at 0x7fbf9ebce860>, <chemprop.data.data.MoleculeDatapoint object at 0x7fbf9ebce7b8>, <chemprop.data.data.MoleculeDatapoint object at 0x7fbf9ebce940>, <chemprop.data.data.MoleculeDatapoint object at 0x7fbf9ebce898>, <chemprop.data.data.MoleculeDatapoint object at 0x7fbf9ebce9b0>, <chemprop.data.data.MoleculeDatapoint object at 0x7fbf9ebce908>, <chemprop.data.data.MoleculeDatapoint object at 0x7fbf9ebcea20>, <chemprop.data.data.MoleculeDatapoint object at 0x7fbf9ebce978>, <chemprop.data.data.MoleculeDatapoint object at 0x7fbf9ebcea90>, <chemprop.data.data.MoleculeDatapoint object at 0x7fbf9ebce9e8>, <chemprop.data.data.MoleculeDatapoint object at 0x7fbf9ebcec50>, <chemprop.data.data.MoleculeDatapoint object at 0x7fbf9ebceba8>, <chemprop.data.data.MoleculeDatapoint object at 0x7fbf9ebcecc0>, <chemprop.data.data.MoleculeDatapoint object at 0x7fbf9ebcec18>, <chemprop.data.data.MoleculeDatapoint object at 0x7fbf9ebceda0>, <chemprop.data.data.MoleculeDatapoint object at 0x7fbf9ebced68>, <chemprop.data.data.MoleculeDatapoint object at 0x7fbf9ebcefd0>, <chemprop.data.data.MoleculeDatapoint object at 0x7fbf9ebcef28>, <chemprop.data.data.MoleculeDatapoint object at 0x7fbf9ebcef98>, <chemprop.data.data.MoleculeDatapoint object at 0x7fbf9f1cf2b0>, <chemprop.data.data.MoleculeDatapoint object at 0x7fbf9f1cf208>, <chemprop.data.data.MoleculeDatapoint object at 0x7fbf9f1cf390>, <chemprop.data.data.MoleculeDatapoint object at 0x7fbf9f1cf2e8>, <chemprop.data.data.MoleculeDatapoint object at 0x7fbf9f1cf470>, <chemprop.data.data.MoleculeDatapoint object at 0x7fbf9f1cf3c8>, <chemprop.data.data.MoleculeDatapoint object at 0x7fbf9f1cfe10>, <chemprop.data.data.MoleculeDatapoint object at 0x7fbf9f1cfd68>, <chemprop.data.data.MoleculeDatapoint object at 0x7fbf9f1cf860>, <chemprop.data.data.MoleculeDatapoint object at 0x7fbf9f1cf7b8>, <chemprop.data.data.MoleculeDatapoint object at 0x7fbf9f1cfc50>, <chemprop.data.data.MoleculeDatapoint object at 0x7fbf9f1cfba8>, <chemprop.data.data.MoleculeDatapoint object at 0x7fbf9f1cff98>, <chemprop.data.data.MoleculeDatapoint object at 0x7fbf9f1cf1d0>, <chemprop.data.data.MoleculeDatapoint object at 0x7fbf9f1cf128>, <chemprop.data.data.MoleculeDatapoint object at 0x7fbf9f1cf0f0>, <chemprop.data.data.MoleculeDatapoint object at 0x7fbf9f1cf048>, <chemprop.data.data.MoleculeDatapoint object at 0x7fbf9f1cf5f8>, <chemprop.data.data.MoleculeDatapoint object at 0x7fbf9f1cf748>, <chemprop.data.data.MoleculeDatapoint object at 0x7fbf9f1cf828>, <chemprop.data.data.MoleculeDatapoint object at 0x7fbf9f1cf978>, <chemprop.data.data.MoleculeDatapoint object at 0x7fbf9f1cfe48>, <chemprop.data.data.MoleculeDatapoint object at 0x7fbf9f1cfb70>, <chemprop.data.data.MoleculeDatapoint object at 0x7fbf9f1cfb00>, <chemprop.data.data.MoleculeDatapoint object at 0x7fbf9f1cfa58>, <chemprop.data.data.MoleculeDatapoint object at 0x7fbf9f1cfac8>, <chemprop.data.data.MoleculeDatapoint object at 0x7fbf9f1cfbe0>, <chemprop.data.data.MoleculeDatapoint object at 0x7fbf9f1cfb38>, <chemprop.data.data.MoleculeDatapoint object at 0x7fbf9f1cfcc0>, <chemprop.data.data.MoleculeDatapoint object at 0x7fbf9f1cfc18>, <chemprop.data.data.MoleculeDatapoint object at 0x7fbf9f1cfeb8>, <chemprop.data.data.MoleculeDatapoint object at 0x7fbf9f1cfef0>, <chemprop.data.data.MoleculeDatapoint object at 0x7fbf9f1cfd30>, <chemprop.data.data.MoleculeDatapoint object at 0x7fbf9f1cfda0>, <chemprop.data.data.MoleculeDatapoint object at 0x7fbf9f1cfc88>, <chemprop.data.data.MoleculeDatapoint object at 0x7fbf9f1cff60>, <chemprop.data.data.MoleculeDatapoint object at 0x7fbf9f1cffd0>, <chemprop.data.data.MoleculeDatapoint object at 0x7fbf9f1cff28>, <chemprop.data.data.MoleculeDatapoint object at 0x7fc0781a15f8>, <chemprop.data.data.MoleculeDatapoint object at 0x7fbf9f2f45c0>, <chemprop.data.data.MoleculeDatapoint object at 0x7fbf9f2f4a20>, <chemprop.data.data.MoleculeDatapoint object at 0x7fbf9f2f4e10>, <chemprop.data.data.MoleculeDatapoint object at 0x7fbf9f2f4470>, <chemprop.data.data.MoleculeDatapoint object at 0x7fbf9f2f43c8>, <chemprop.data.data.MoleculeDatapoint object at 0x7fbf9f2f4550>, <chemprop.data.data.MoleculeDatapoint object at 0x7fbf9f2f44a8>, <chemprop.data.data.MoleculeDatapoint object at 0x7fbf9f2f4630>, <chemprop.data.data.MoleculeDatapoint object at 0x7fbf9f2f4588>, <chemprop.data.data.MoleculeDatapoint object at 0x7fbf9f2f4710>, <chemprop.data.data.MoleculeDatapoint object at 0x7fbf9f2f4668>, <chemprop.data.data.MoleculeDatapoint object at 0x7fbf9f2f47f0>, <chemprop.data.data.MoleculeDatapoint object at 0x7fbf9f2f4748>, <chemprop.data.data.MoleculeDatapoint object at 0x7fbf9f2f48d0>, <chemprop.data.data.MoleculeDatapoint object at 0x7fbf9f2f4828>, <chemprop.data.data.MoleculeDatapoint object at 0x7fbf9f2f4a90>, <chemprop.data.data.MoleculeDatapoint object at 0x7fbf9f2f49e8>, <chemprop.data.data.MoleculeDatapoint object at 0x7fbf9f2f4b70>, <chemprop.data.data.MoleculeDatapoint object at 0x7fbf9f2f4ac8>, <chemprop.data.data.MoleculeDatapoint object at 0x7fbf9f2f40f0>, <chemprop.data.data.MoleculeDatapoint object at 0x7fbf9f2f4048>, <chemprop.data.data.MoleculeDatapoint object at 0x7fbf9f2f4160>, <chemprop.data.data.MoleculeDatapoint object at 0x7fbf9f2f40b8>, <chemprop.data.data.MoleculeDatapoint object at 0x7fbf9f2f4080>, <chemprop.data.data.MoleculeDatapoint object at 0x7fbf9f2f4198>, <chemprop.data.data.MoleculeDatapoint object at 0x7fbf9f2f41d0>, <chemprop.data.data.MoleculeDatapoint object at 0x7fbf9f2f4208>, <chemprop.data.data.MoleculeDatapoint object at 0x7fbf9f2f4240>, <chemprop.data.data.MoleculeDatapoint object at 0x7fbf9f2f4278>, <chemprop.data.data.MoleculeDatapoint object at 0x7fbf9f1cfcf8>, <chemprop.data.data.MoleculeDatapoint object at 0x7fbf9f2f42b0>, <chemprop.data.data.MoleculeDatapoint object at 0x7fbf9f2f42e8>, <chemprop.data.data.MoleculeDatapoint object at 0x7fbf9f2f4320>, <chemprop.data.data.MoleculeDatapoint object at 0x7fbf9f2f4358>, <chemprop.data.data.MoleculeDatapoint object at 0x7fbf9f2f4400>, <chemprop.data.data.MoleculeDatapoint object at 0x7fbf9f2f4438>, <chemprop.data.data.MoleculeDatapoint object at 0x7fbf9f2f44e0>, <chemprop.data.data.MoleculeDatapoint object at 0x7fbf9f2f4518>, <chemprop.data.data.MoleculeDatapoint object at 0x7fbf9f2f45f8>, <chemprop.data.data.MoleculeDatapoint object at 0x7fbf9f2f46a0>, <chemprop.data.data.MoleculeDatapoint object at 0x7fbf9f2f46d8>, <chemprop.data.data.MoleculeDatapoint object at 0x7fbf9f2f4780>, <chemprop.data.data.MoleculeDatapoint object at 0x7fbf9f2f47b8>, <chemprop.data.data.MoleculeDatapoint object at 0x7fbf9f2f4860>, <chemprop.data.data.MoleculeDatapoint object at 0x7fbf9f2f4898>, <chemprop.data.data.MoleculeDatapoint object at 0x7fbf9f2f4940>, <chemprop.data.data.MoleculeDatapoint object at 0x7fbf9f2f4978>, <chemprop.data.data.MoleculeDatapoint object at 0x7fbf9f2f4a58>, <chemprop.data.data.MoleculeDatapoint object at 0x7fbf9f2f4b00>, <chemprop.data.data.MoleculeDatapoint object at 0x7fbf9f2f4b38>, <chemprop.data.data.MoleculeDatapoint object at 0x7fbf9f2f4ba8>, <chemprop.data.data.MoleculeDatapoint object at 0x7fbf9f2f4be0>, <chemprop.data.data.MoleculeDatapoint object at 0x7fbf9f2f4c18>, <chemprop.data.data.MoleculeDatapoint object at 0x7fbf9f2f4c50>, <chemprop.data.data.MoleculeDatapoint object at 0x7fbf9f2f4cc0>, <chemprop.data.data.MoleculeDatapoint object at 0x7fbf9f2f4cf8>, <chemprop.data.data.MoleculeDatapoint object at 0x7fbf9f2f4d30>, <chemprop.data.data.MoleculeDatapoint object at 0x7fbf9f2f4d68>, <chemprop.data.data.MoleculeDatapoint object at 0x7fbf9f2f4da0>, <chemprop.data.data.MoleculeDatapoint object at 0x7fbf9f2f4dd8>, <chemprop.data.data.MoleculeDatapoint object at 0x7fbf9f2f4e80>, <chemprop.data.data.MoleculeDatapoint object at 0x7fbf9f2f4ef0>, <chemprop.data.data.MoleculeDatapoint object at 0x7fbf9f2f4f28>, <chemprop.data.data.MoleculeDatapoint object at 0x7fbf9f2f4f60>, <chemprop.data.data.MoleculeDatapoint object at 0x7fbf9f2f4f98>, <chemprop.data.data.MoleculeDatapoint object at 0x7fbf9f2f4fd0>, <chemprop.data.data.MoleculeDatapoint object at 0x7fbf9f2f4e48>, <chemprop.data.data.MoleculeDatapoint object at 0x7fbf9f2f4eb8>, <chemprop.data.data.MoleculeDatapoint object at 0x7fbf9f1f7550>, <chemprop.data.data.MoleculeDatapoint object at 0x7fbf9f1f74a8>, <chemprop.data.data.MoleculeDatapoint object at 0x7fbf9f1f7048>, <chemprop.data.data.MoleculeDatapoint object at 0x7fbf9f1f7400>, <chemprop.data.data.MoleculeDatapoint object at 0x7fbf9f1f7630>, <chemprop.data.data.MoleculeDatapoint object at 0x7fbf9f1f7588>, <chemprop.data.data.MoleculeDatapoint object at 0x7fbf9f1f7710>, <chemprop.data.data.MoleculeDatapoint object at 0x7fbf9f1f7668>, <chemprop.data.data.MoleculeDatapoint object at 0x7fbf9f1f77f0>, <chemprop.data.data.MoleculeDatapoint object at 0x7fbf9f1f7748>, <chemprop.data.data.MoleculeDatapoint object at 0x7fbf9f1f79b0>, <chemprop.data.data.MoleculeDatapoint object at 0x7fbf9f1f7908>, <chemprop.data.data.MoleculeDatapoint object at 0x7fbf9f1f7a90>, <chemprop.data.data.MoleculeDatapoint object at 0x7fbf9f1f79e8>, <chemprop.data.data.MoleculeDatapoint object at 0x7fbf9f1f7b00>, <chemprop.data.data.MoleculeDatapoint object at 0x7fbf9f1f7a58>, <chemprop.data.data.MoleculeDatapoint object at 0x7fbf9f1f7b70>, <chemprop.data.data.MoleculeDatapoint object at 0x7fbf9f1f7ac8>, <chemprop.data.data.MoleculeDatapoint object at 0x7fbf9f1f7470>, <chemprop.data.data.MoleculeDatapoint object at 0x7fbf9f1f73c8>, <chemprop.data.data.MoleculeDatapoint object at 0x7fbf9f1f78d0>, <chemprop.data.data.MoleculeDatapoint object at 0x7fbf9f1f7828>, <chemprop.data.data.MoleculeDatapoint object at 0x7fbf9eafaac8>, <chemprop.data.data.MoleculeDatapoint object at 0x7fbf9eafaeb8>, <chemprop.data.data.MoleculeDatapoint object at 0x7fbf9eafac50>, <chemprop.data.data.MoleculeDatapoint object at 0x7fbf9eafaba8>, <chemprop.data.data.MoleculeDatapoint object at 0x7fbf9eafae10>, <chemprop.data.data.MoleculeDatapoint object at 0x7fbf9eafa048>, <chemprop.data.data.MoleculeDatapoint object at 0x7fbf9eafad68>, <chemprop.data.data.MoleculeDatapoint object at 0x7fbf9eafa160>, <chemprop.data.data.MoleculeDatapoint object at 0x7fbf9eafa0b8>, <chemprop.data.data.MoleculeDatapoint object at 0x7fbf9eafa2b0>, <chemprop.data.data.MoleculeDatapoint object at 0x7fbf9eafa208>, <chemprop.data.data.MoleculeDatapoint object at 0x7fbf9eafa5c0>, <chemprop.data.data.MoleculeDatapoint object at 0x7fbf9eafa518>, <chemprop.data.data.MoleculeDatapoint object at 0x7fbf9eafa240>, <chemprop.data.data.MoleculeDatapoint object at 0x7fbf9eafa438>, <chemprop.data.data.MoleculeDatapoint object at 0x7fbf9eafa828>, <chemprop.data.data.MoleculeDatapoint object at 0x7fbf9eafaa20>, <chemprop.data.data.MoleculeDatapoint object at 0x7fbf9eafaa58>, <chemprop.data.data.MoleculeDatapoint object at 0x7fbf9eafacf8>, <chemprop.data.data.MoleculeDatapoint object at 0x7fbf9eafa2e8>, <chemprop.data.data.MoleculeDatapoint object at 0x7fbf9eafa0f0>, <chemprop.data.data.MoleculeDatapoint object at 0x7fbf9eafa1d0>, <chemprop.data.data.MoleculeDatapoint object at 0x7fbf9eafa128>, <chemprop.data.data.MoleculeDatapoint object at 0x7fbf9eafa390>, <chemprop.data.data.MoleculeDatapoint object at 0x7fbf9eafa470>, <chemprop.data.data.MoleculeDatapoint object at 0x7fbf9eafa3c8>, <chemprop.data.data.MoleculeDatapoint object at 0x7fbf9eafa550>, <chemprop.data.data.MoleculeDatapoint object at 0x7fbf9eafa4a8>, <chemprop.data.data.MoleculeDatapoint object at 0x7fbf9eafa630>, <chemprop.data.data.MoleculeDatapoint object at 0x7fbf9eafa588>, <chemprop.data.data.MoleculeDatapoint object at 0x7fbf9eafa710>, <chemprop.data.data.MoleculeDatapoint object at 0x7fbf9eafa668>, <chemprop.data.data.MoleculeDatapoint object at 0x7fbf9eafa080>, <chemprop.data.data.MoleculeDatapoint object at 0x7fbf9eafa278>, <chemprop.data.data.MoleculeDatapoint object at 0x7fbf9eafa320>, <chemprop.data.data.MoleculeDatapoint object at 0x7fbf9eafa358>, <chemprop.data.data.MoleculeDatapoint object at 0x7fbf9eafa400>, <chemprop.data.data.MoleculeDatapoint object at 0x7fbf9eafa4e0>, <chemprop.data.data.MoleculeDatapoint object at 0x7fbf9eafa5f8>, <chemprop.data.data.MoleculeDatapoint object at 0x7fbf9eafa6a0>, <chemprop.data.data.MoleculeDatapoint object at 0x7fbf9eafa6d8>, <chemprop.data.data.MoleculeDatapoint object at 0x7fbf9eafa748>, <chemprop.data.data.MoleculeDatapoint object at 0x7fbf9eafa780>, <chemprop.data.data.MoleculeDatapoint object at 0x7fbf9eafa7b8>, <chemprop.data.data.MoleculeDatapoint object at 0x7fbf9eafa7f0>, <chemprop.data.data.MoleculeDatapoint object at 0x7fbf9eafa860>, <chemprop.data.data.MoleculeDatapoint object at 0x7fbf9eafa898>, <chemprop.data.data.MoleculeDatapoint object at 0x7fbf9eafa8d0>, <chemprop.data.data.MoleculeDatapoint object at 0x7fbf9eafa908>, <chemprop.data.data.MoleculeDatapoint object at 0x7fbf9eafa940>, <chemprop.data.data.MoleculeDatapoint object at 0x7fbf9eafa978>, <chemprop.data.data.MoleculeDatapoint object at 0x7fbf9eafa9b0>, <chemprop.data.data.MoleculeDatapoint object at 0x7fbf9eafa9e8>, <chemprop.data.data.MoleculeDatapoint object at 0x7fbf9eafaa90>, <chemprop.data.data.MoleculeDatapoint object at 0x7fbf9eafab00>, <chemprop.data.data.MoleculeDatapoint object at 0x7fbf9eafab38>, <chemprop.data.data.MoleculeDatapoint object at 0x7fbf9eafab70>, <chemprop.data.data.MoleculeDatapoint object at 0x7fbf9eafabe0>, <chemprop.data.data.MoleculeDatapoint object at 0x7fbf9eafac18>, <chemprop.data.data.MoleculeDatapoint object at 0x7fbf9eafac88>, <chemprop.data.data.MoleculeDatapoint object at 0x7fbf9eafacc0>, <chemprop.data.data.MoleculeDatapoint object at 0x7fbf9eafad30>, <chemprop.data.data.MoleculeDatapoint object at 0x7fbf9eafada0>, <chemprop.data.data.MoleculeDatapoint object at 0x7fbf9eafae48>, <chemprop.data.data.MoleculeDatapoint object at 0x7fbf9eafae80>, <chemprop.data.data.MoleculeDatapoint object at 0x7fbf9eafaef0>, <chemprop.data.data.MoleculeDatapoint object at 0x7fbf9eafaf60>, <chemprop.data.data.MoleculeDatapoint object at 0x7fbf9eafafd0>, <chemprop.data.data.MoleculeDatapoint object at 0x7fbf9eafadd8>, <chemprop.data.data.MoleculeDatapoint object at 0x7fbf9ed05630>, <chemprop.data.data.MoleculeDatapoint object at 0x7fbf9ed057b8>, <chemprop.data.data.MoleculeDatapoint object at 0x7fbf9ed05b70>, <chemprop.data.data.MoleculeDatapoint object at 0x7fbf9ed05e10>, <chemprop.data.data.MoleculeDatapoint object at 0x7fbf9ed05400>, <chemprop.data.data.MoleculeDatapoint object at 0x7fbf9ed05588>, <chemprop.data.data.MoleculeDatapoint object at 0x7fbf9ed05828>, <chemprop.data.data.MoleculeDatapoint object at 0x7fbf9ed05c50>, <chemprop.data.data.MoleculeDatapoint object at 0x7fbf9ed05ba8>, <chemprop.data.data.MoleculeDatapoint object at 0x7fbf9ed05ac8>, <chemprop.data.data.MoleculeDatapoint object at 0x7fbf9ed05d68>, <chemprop.data.data.MoleculeDatapoint object at 0x7fbf9ed05940>, <chemprop.data.data.MoleculeDatapoint object at 0x7fbf9ed05898>, <chemprop.data.data.MoleculeDatapoint object at 0x7fbf9ed05da0>, <chemprop.data.data.MoleculeDatapoint object at 0x7fbf9ed05cf8>, <chemprop.data.data.MoleculeDatapoint object at 0x7fbf9ed05ef0>, <chemprop.data.data.MoleculeDatapoint object at 0x7fbf9ed05e48>, <chemprop.data.data.MoleculeDatapoint object at 0x7fbf9ed05e80>, <chemprop.data.data.MoleculeDatapoint object at 0x7fbf9ed05dd8>, <chemprop.data.data.MoleculeDatapoint object at 0x7fbf9ed05f98>, <chemprop.data.data.MoleculeDatapoint object at 0x7fbf9ed051d0>, <chemprop.data.data.MoleculeDatapoint object at 0x7fbf9ed05128>, <chemprop.data.data.MoleculeDatapoint object at 0x7fbf9ed05080>, <chemprop.data.data.MoleculeDatapoint object at 0x7fbf9ed050b8>, <chemprop.data.data.MoleculeDatapoint object at 0x7fbf9ed050f0>, <chemprop.data.data.MoleculeDatapoint object at 0x7fbf9ed05160>, <chemprop.data.data.MoleculeDatapoint object at 0x7fbf9ed05198>, <chemprop.data.data.MoleculeDatapoint object at 0x7fbf9ed05208>, <chemprop.data.data.MoleculeDatapoint object at 0x7fbf9ed05240>, <chemprop.data.data.MoleculeDatapoint object at 0x7fbf9ed05278>, <chemprop.data.data.MoleculeDatapoint object at 0x7fbf9ed052b0>, <chemprop.data.data.MoleculeDatapoint object at 0x7fbf9ed052e8>, <chemprop.data.data.MoleculeDatapoint object at 0x7fbf9ed05320>, <chemprop.data.data.MoleculeDatapoint object at 0x7fbf9ed05358>, <chemprop.data.data.MoleculeDatapoint object at 0x7fbf9ed05390>, <chemprop.data.data.MoleculeDatapoint object at 0x7fbf9ed053c8>, <chemprop.data.data.MoleculeDatapoint object at 0x7fbf9ed05438>, <chemprop.data.data.MoleculeDatapoint object at 0x7fbf9ed05470>, <chemprop.data.data.MoleculeDatapoint object at 0x7fbf9ed054a8>, <chemprop.data.data.MoleculeDatapoint object at 0x7fbf9ed054e0>, <chemprop.data.data.MoleculeDatapoint object at 0x7fbf9ed05518>, <chemprop.data.data.MoleculeDatapoint object at 0x7fbf9ed05550>, <chemprop.data.data.MoleculeDatapoint object at 0x7fbf9ed055c0>, <chemprop.data.data.MoleculeDatapoint object at 0x7fbf9ed055f8>, <chemprop.data.data.MoleculeDatapoint object at 0x7fbf9ed05668>, <chemprop.data.data.MoleculeDatapoint object at 0x7fbf9ed056a0>, <chemprop.data.data.MoleculeDatapoint object at 0x7fbf9ed056d8>, <chemprop.data.data.MoleculeDatapoint object at 0x7fbf9ed05710>, <chemprop.data.data.MoleculeDatapoint object at 0x7fbf9ed05748>, <chemprop.data.data.MoleculeDatapoint object at 0x7fbf9ed05780>, <chemprop.data.data.MoleculeDatapoint object at 0x7fbf9ed057f0>, <chemprop.data.data.MoleculeDatapoint object at 0x7fbf9ed05860>, <chemprop.data.data.MoleculeDatapoint object at 0x7fbf9ed058d0>, <chemprop.data.data.MoleculeDatapoint object at 0x7fbf9ed05908>, <chemprop.data.data.MoleculeDatapoint object at 0x7fbf9ed05978>, <chemprop.data.data.MoleculeDatapoint object at 0x7fbf9ed059b0>, <chemprop.data.data.MoleculeDatapoint object at 0x7fbf9ed059e8>, <chemprop.data.data.MoleculeDatapoint object at 0x7fbf9ed05a20>, <chemprop.data.data.MoleculeDatapoint object at 0x7fbf9ed05a58>, <chemprop.data.data.MoleculeDatapoint object at 0x7fbf9ed05a90>, <chemprop.data.data.MoleculeDatapoint object at 0x7fbf9ed05b00>, <chemprop.data.data.MoleculeDatapoint object at 0x7fbf9ed05b38>, <chemprop.data.data.MoleculeDatapoint object at 0x7fbf9ed05be0>, <chemprop.data.data.MoleculeDatapoint object at 0x7fbf9ed05c18>, <chemprop.data.data.MoleculeDatapoint object at 0x7fbf9ed05c88>, <chemprop.data.data.MoleculeDatapoint object at 0x7fbf9ed05cc0>, <chemprop.data.data.MoleculeDatapoint object at 0x7fbf9ed05d30>, <chemprop.data.data.MoleculeDatapoint object at 0x7fbf9ed05eb8>, <chemprop.data.data.MoleculeDatapoint object at 0x7fbf9ed05f28>, <chemprop.data.data.MoleculeDatapoint object at 0x7fbf9ed05f60>, <chemprop.data.data.MoleculeDatapoint object at 0x7fbf9ed05fd0>, <chemprop.data.data.MoleculeDatapoint object at 0x7fbf9e907080>, <chemprop.data.data.MoleculeDatapoint object at 0x7fbf9e9070f0>, <chemprop.data.data.MoleculeDatapoint object at 0x7fbf9e907048>, <chemprop.data.data.MoleculeDatapoint object at 0x7fbf9e9071d0>, <chemprop.data.data.MoleculeDatapoint object at 0x7fbf9e907128>, <chemprop.data.data.MoleculeDatapoint object at 0x7fbf9e907240>, <chemprop.data.data.MoleculeDatapoint object at 0x7fbf9e907198>, <chemprop.data.data.MoleculeDatapoint object at 0x7fbf9e9072b0>, <chemprop.data.data.MoleculeDatapoint object at 0x7fbf9e907208>, <chemprop.data.data.MoleculeDatapoint object at 0x7fbf9e907320>, <chemprop.data.data.MoleculeDatapoint object at 0x7fbf9e907278>, <chemprop.data.data.MoleculeDatapoint object at 0x7fbf9e907470>, <chemprop.data.data.MoleculeDatapoint object at 0x7fbf9e9073c8>, <chemprop.data.data.MoleculeDatapoint object at 0x7fbf9e9074e0>, <chemprop.data.data.MoleculeDatapoint object at 0x7fbf9e907438>, <chemprop.data.data.MoleculeDatapoint object at 0x7fbf9e9075c0>, <chemprop.data.data.MoleculeDatapoint object at 0x7fbf9e907518>, <chemprop.data.data.MoleculeDatapoint object at 0x7fbf9e9076a0>, <chemprop.data.data.MoleculeDatapoint object at 0x7fbf9e9075f8>, <chemprop.data.data.MoleculeDatapoint object at 0x7fbf9e907400>, <chemprop.data.data.MoleculeDatapoint object at 0x7fbf9e907f28>, <chemprop.data.data.MoleculeDatapoint object at 0x7fbf9e9077b8>, <chemprop.data.data.MoleculeDatapoint object at 0x7fbf9e907828>, <chemprop.data.data.MoleculeDatapoint object at 0x7fbf9e907358>, <chemprop.data.data.MoleculeDatapoint object at 0x7fbf9e907a20>, <chemprop.data.data.MoleculeDatapoint object at 0x7fbf9e9078d0>, <chemprop.data.data.MoleculeDatapoint object at 0x7fbf9e907eb8>, <chemprop.data.data.MoleculeDatapoint object at 0x7fbf9e907e10>, <chemprop.data.data.MoleculeDatapoint object at 0x7fbf9e9077f0>, <chemprop.data.data.MoleculeDatapoint object at 0x7fbf9e907630>, <chemprop.data.data.MoleculeDatapoint object at 0x7fbf9e907588>, <chemprop.data.data.MoleculeDatapoint object at 0x7fbf9e907780>, <chemprop.data.data.MoleculeDatapoint object at 0x7fbf9e9076d8>, <chemprop.data.data.MoleculeDatapoint object at 0x7fbf9e907940>, <chemprop.data.data.MoleculeDatapoint object at 0x7fbf9e907898>, <chemprop.data.data.MoleculeDatapoint object at 0x7fbf9e9079b0>, <chemprop.data.data.MoleculeDatapoint object at 0x7fbf9e907908>, <chemprop.data.data.MoleculeDatapoint object at 0x7fbf9e907978>, <chemprop.data.data.MoleculeDatapoint object at 0x7fbf9e907a90>, <chemprop.data.data.MoleculeDatapoint object at 0x7fbf9e9079e8>, <chemprop.data.data.MoleculeDatapoint object at 0x7fbf9e907b00>, <chemprop.data.data.MoleculeDatapoint object at 0x7fbf9e907a58>, <chemprop.data.data.MoleculeDatapoint object at 0x7fbf9e907b70>, <chemprop.data.data.MoleculeDatapoint object at 0x7fbf9e907ac8>, <chemprop.data.data.MoleculeDatapoint object at 0x7fbf9e907be0>, <chemprop.data.data.MoleculeDatapoint object at 0x7fbf9e907b38>, <chemprop.data.data.MoleculeDatapoint object at 0x7fbf9e907c50>, <chemprop.data.data.MoleculeDatapoint object at 0x7fbf9e907e80>, <chemprop.data.data.MoleculeDatapoint object at 0x7fbf9e907c88>, <chemprop.data.data.MoleculeDatapoint object at 0x7fbf9e907ba8>, <chemprop.data.data.MoleculeDatapoint object at 0x7fbf9e907c18>, <chemprop.data.data.MoleculeDatapoint object at 0x7fbf9e907cc0>, <chemprop.data.data.MoleculeDatapoint object at 0x7fbf9e907d68>, <chemprop.data.data.MoleculeDatapoint object at 0x7fbf9e907dd8>, <chemprop.data.data.MoleculeDatapoint object at 0x7fbf9e907160>, <chemprop.data.data.MoleculeDatapoint object at 0x7fbf9e9070b8>, <chemprop.data.data.MoleculeDatapoint object at 0x7fbf9e907f60>, <chemprop.data.data.MoleculeDatapoint object at 0x7fbf9e907fd0>, <chemprop.data.data.MoleculeDatapoint object at 0x7fbf9e907f98>, <chemprop.data.data.MoleculeDatapoint object at 0x7fbf9e907860>, <chemprop.data.data.MoleculeDatapoint object at 0x7fbf9e8039e8>, <chemprop.data.data.MoleculeDatapoint object at 0x7fbf9e907390>, <chemprop.data.data.MoleculeDatapoint object at 0x7fbf9e9072e8>, <chemprop.data.data.MoleculeDatapoint object at 0x7fbf9e907da0>, <chemprop.data.data.MoleculeDatapoint object at 0x7fbf9e907cf8>, <chemprop.data.data.MoleculeDatapoint object at 0x7fbf9e907550>, <chemprop.data.data.MoleculeDatapoint object at 0x7fbf9e9074a8>, <chemprop.data.data.MoleculeDatapoint object at 0x7fbf9e907710>, <chemprop.data.data.MoleculeDatapoint object at 0x7fbf9e907668>, <chemprop.data.data.MoleculeDatapoint object at 0x7fbf9e907748>, <chemprop.data.data.MoleculeDatapoint object at 0x7fbf9e907e48>, <chemprop.data.data.MoleculeDatapoint object at 0x7fbf9ed15710>, <chemprop.data.data.MoleculeDatapoint object at 0x7fbf9ed15668>, <chemprop.data.data.MoleculeDatapoint object at 0x7fbf9ed157f0>, <chemprop.data.data.MoleculeDatapoint object at 0x7fbf9ed15748>, <chemprop.data.data.MoleculeDatapoint object at 0x7fbf9e907d30>, <chemprop.data.data.MoleculeDatapoint object at 0x7fbf9ed159e8>, <chemprop.data.data.MoleculeDatapoint object at 0x7fbf9ed15080>, <chemprop.data.data.MoleculeDatapoint object at 0x7fbf9ed151d0>, <chemprop.data.data.MoleculeDatapoint object at 0x7fbf9ed15128>, <chemprop.data.data.MoleculeDatapoint object at 0x7fbf9ed152b0>, <chemprop.data.data.MoleculeDatapoint object at 0x7fbf9ed15208>, <chemprop.data.data.MoleculeDatapoint object at 0x7fbf9ed15390>, <chemprop.data.data.MoleculeDatapoint object at 0x7fbf9ed152e8>, <chemprop.data.data.MoleculeDatapoint object at 0x7fbf9ed153c8>, <chemprop.data.data.MoleculeDatapoint object at 0x7fbf9ed155f8>, <chemprop.data.data.MoleculeDatapoint object at 0x7fbf9ed157b8>, <chemprop.data.data.MoleculeDatapoint object at 0x7fbf9ed15828>, <chemprop.data.data.MoleculeDatapoint object at 0x7fbf9ed15ac8>, <chemprop.data.data.MoleculeDatapoint object at 0x7fbf9ed15e48>, <chemprop.data.data.MoleculeDatapoint object at 0x7fbf9ed156a0>, <chemprop.data.data.MoleculeDatapoint object at 0x7fbf9ed15a20>, <chemprop.data.data.MoleculeDatapoint object at 0x7fbf9ed15978>, <chemprop.data.data.MoleculeDatapoint object at 0x7fbf9ed15cc0>, <chemprop.data.data.MoleculeDatapoint object at 0x7fbf9ed15c18>, <chemprop.data.data.MoleculeDatapoint object at 0x7fbf9ed15d30>, <chemprop.data.data.MoleculeDatapoint object at 0x7fbf9ed15c88>, <chemprop.data.data.MoleculeDatapoint object at 0x7fbf9ed15f60>, <chemprop.data.data.MoleculeDatapoint object at 0x7fbf9ed15eb8>, <chemprop.data.data.MoleculeDatapoint object at 0x7fbf9ed15f98>, <chemprop.data.data.MoleculeDatapoint object at 0x7fbf9ed15e10>, <chemprop.data.data.MoleculeDatapoint object at 0x7fbf9ed15d68>, <chemprop.data.data.MoleculeDatapoint object at 0x7fbf9ed15e80>, <chemprop.data.data.MoleculeDatapoint object at 0x7fbf9ed15dd8>, <chemprop.data.data.MoleculeDatapoint object at 0x7fbf9ed15ef0>, <chemprop.data.data.MoleculeDatapoint object at 0x7fbf9ed15fd0>, <chemprop.data.data.MoleculeDatapoint object at 0x7fbf9ed15f28>, <chemprop.data.data.MoleculeDatapoint object at 0x7fbf9ed15160>, <chemprop.data.data.MoleculeDatapoint object at 0x7fbf9ed150b8>, <chemprop.data.data.MoleculeDatapoint object at 0x7fbf9ed15400>, <chemprop.data.data.MoleculeDatapoint object at 0x7fbf9ed15358>, <chemprop.data.data.MoleculeDatapoint object at 0x7fbf9ed15470>, <chemprop.data.data.MoleculeDatapoint object at 0x7fbf9ed150f0>, <chemprop.data.data.MoleculeDatapoint object at 0x7fbf9ed15198>, <chemprop.data.data.MoleculeDatapoint object at 0x7fbf9ed15240>, <chemprop.data.data.MoleculeDatapoint object at 0x7fbf9ed15278>, <chemprop.data.data.MoleculeDatapoint object at 0x7fbf9ed15320>, <chemprop.data.data.MoleculeDatapoint object at 0x7fbf9ed15438>, <chemprop.data.data.MoleculeDatapoint object at 0x7fbf9ed154a8>, <chemprop.data.data.MoleculeDatapoint object at 0x7fbf9ed154e0>, <chemprop.data.data.MoleculeDatapoint object at 0x7fbf9ed15518>, <chemprop.data.data.MoleculeDatapoint object at 0x7fbf9ed15550>, <chemprop.data.data.MoleculeDatapoint object at 0x7fbf9ed15588>, <chemprop.data.data.MoleculeDatapoint object at 0x7fbf9ed155c0>, <chemprop.data.data.MoleculeDatapoint object at 0x7fbf9ed15630>, <chemprop.data.data.MoleculeDatapoint object at 0x7fbf9ed156d8>, <chemprop.data.data.MoleculeDatapoint object at 0x7fbf9ed15780>, <chemprop.data.data.MoleculeDatapoint object at 0x7fbf9ed15860>, <chemprop.data.data.MoleculeDatapoint object at 0x7fbf9ed15898>, <chemprop.data.data.MoleculeDatapoint object at 0x7fbf9ed158d0>, <chemprop.data.data.MoleculeDatapoint object at 0x7fbf9ed15908>, <chemprop.data.data.MoleculeDatapoint object at 0x7fbf9ed15940>, <chemprop.data.data.MoleculeDatapoint object at 0x7fbf9ed159b0>, <chemprop.data.data.MoleculeDatapoint object at 0x7fbf9ed15a58>, <chemprop.data.data.MoleculeDatapoint object at 0x7fbf9ed15b00>, <chemprop.data.data.MoleculeDatapoint object at 0x7fbf9ed15b38>, <chemprop.data.data.MoleculeDatapoint object at 0x7fbf9ed15ba8>, <chemprop.data.data.MoleculeDatapoint object at 0x7fbf9ed15be0>, <chemprop.data.data.MoleculeDatapoint object at 0x7fbf9ed15c50>, <chemprop.data.data.MoleculeDatapoint object at 0x7fbf9ed15cf8>, <chemprop.data.data.MoleculeDatapoint object at 0x7fbf9ed15da0>, <chemprop.data.data.MoleculeDatapoint object at 0x7fbf9ed15b70>, <chemprop.data.data.MoleculeDatapoint object at 0x7fbf9f31aac8>, <chemprop.data.data.MoleculeDatapoint object at 0x7fbf9f31ad68>, <chemprop.data.data.MoleculeDatapoint object at 0x7fbf9f31a0f0>, <chemprop.data.data.MoleculeDatapoint object at 0x7fbf9f31a048>, <chemprop.data.data.MoleculeDatapoint object at 0x7fbf9f31a160>, <chemprop.data.data.MoleculeDatapoint object at 0x7fbf9f31a0b8>, <chemprop.data.data.MoleculeDatapoint object at 0x7fbf9f31a2b0>, <chemprop.data.data.MoleculeDatapoint object at 0x7fbf9f31a208>, <chemprop.data.data.MoleculeDatapoint object at 0x7fbf9f31a080>, <chemprop.data.data.MoleculeDatapoint object at 0x7fbf9f31a2e8>, <chemprop.data.data.MoleculeDatapoint object at 0x7fbf9f31ab00>, <chemprop.data.data.MoleculeDatapoint object at 0x7fbf9f31aa58>, <chemprop.data.data.MoleculeDatapoint object at 0x7fbf9f31a828>, <chemprop.data.data.MoleculeDatapoint object at 0x7fbf9f31ad30>, <chemprop.data.data.MoleculeDatapoint object at 0x7fbf9f31ac88>, <chemprop.data.data.MoleculeDatapoint object at 0x7fbf9f31ada0>, <chemprop.data.data.MoleculeDatapoint object at 0x7fbf9f31acf8>, <chemprop.data.data.MoleculeDatapoint object at 0x7fbf9f31ae10>, <chemprop.data.data.MoleculeDatapoint object at 0x7fbf9f31ae80>, <chemprop.data.data.MoleculeDatapoint object at 0x7fbf9f31add8>, <chemprop.data.data.MoleculeDatapoint object at 0x7fbf9f31afd0>, <chemprop.data.data.MoleculeDatapoint object at 0x7fbf9f31af28>, <chemprop.data.data.MoleculeDatapoint object at 0x7fbf9f31af98>, <chemprop.data.data.MoleculeDatapoint object at 0x7fbf9f31a320>, <chemprop.data.data.MoleculeDatapoint object at 0x7fbf9f31a278>, <chemprop.data.data.MoleculeDatapoint object at 0x7fbf9f31a4e0>, <chemprop.data.data.MoleculeDatapoint object at 0x7fbf9f31a438>, <chemprop.data.data.MoleculeDatapoint object at 0x7fbf9f31a1d0>, <chemprop.data.data.MoleculeDatapoint object at 0x7fbf9f31a128>, <chemprop.data.data.MoleculeDatapoint object at 0x7fbf9f31a240>, <chemprop.data.data.MoleculeDatapoint object at 0x7fbf9f31a198>, <chemprop.data.data.MoleculeDatapoint object at 0x7fbf9f31a358>, <chemprop.data.data.MoleculeDatapoint object at 0x7fbf9f31a390>, <chemprop.data.data.MoleculeDatapoint object at 0x7fbf9f31a3c8>, <chemprop.data.data.MoleculeDatapoint object at 0x7fbf9f31a400>, <chemprop.data.data.MoleculeDatapoint object at 0x7fbf9f31a470>, <chemprop.data.data.MoleculeDatapoint object at 0x7fbf9f31a4a8>, <chemprop.data.data.MoleculeDatapoint object at 0x7fbf9f31a518>, <chemprop.data.data.MoleculeDatapoint object at 0x7fbf9f31a550>, <chemprop.data.data.MoleculeDatapoint object at 0x7fbf9f31a5c0>, <chemprop.data.data.MoleculeDatapoint object at 0x7fbf9f31a5f8>, <chemprop.data.data.MoleculeDatapoint object at 0x7fbf9f31a630>, <chemprop.data.data.MoleculeDatapoint object at 0x7fbf9f31a668>, <chemprop.data.data.MoleculeDatapoint object at 0x7fbf9f31a6a0>, <chemprop.data.data.MoleculeDatapoint object at 0x7fbf9f31a6d8>, <chemprop.data.data.MoleculeDatapoint object at 0x7fbf9f31a710>, <chemprop.data.data.MoleculeDatapoint object at 0x7fbf9f31a748>, <chemprop.data.data.MoleculeDatapoint object at 0x7fbf9f31a780>, <chemprop.data.data.MoleculeDatapoint object at 0x7fbf9f31a7b8>, <chemprop.data.data.MoleculeDatapoint object at 0x7fbf9f31a7f0>, <chemprop.data.data.MoleculeDatapoint object at 0x7fbf9f31a860>, <chemprop.data.data.MoleculeDatapoint object at 0x7fbf9f31a898>, <chemprop.data.data.MoleculeDatapoint object at 0x7fbf9f31a8d0>, <chemprop.data.data.MoleculeDatapoint object at 0x7fbf9f31a908>, <chemprop.data.data.MoleculeDatapoint object at 0x7fbf9f31a940>, <chemprop.data.data.MoleculeDatapoint object at 0x7fbf9f31a978>, <chemprop.data.data.MoleculeDatapoint object at 0x7fbf9f31a9b0>, <chemprop.data.data.MoleculeDatapoint object at 0x7fbf9f31a9e8>, <chemprop.data.data.MoleculeDatapoint object at 0x7fbf9f31aa20>, <chemprop.data.data.MoleculeDatapoint object at 0x7fbf9f31aa90>, <chemprop.data.data.MoleculeDatapoint object at 0x7fbf9f31ab38>, <chemprop.data.data.MoleculeDatapoint object at 0x7fbf9f31ab70>, <chemprop.data.data.MoleculeDatapoint object at 0x7fbf9f31aba8>, <chemprop.data.data.MoleculeDatapoint object at 0x7fbf9f31abe0>, <chemprop.data.data.MoleculeDatapoint object at 0x7fbf9f31ac18>, <chemprop.data.data.MoleculeDatapoint object at 0x7fbf9f31ac50>, <chemprop.data.data.MoleculeDatapoint object at 0x7fbf9f31acc0>, <chemprop.data.data.MoleculeDatapoint object at 0x7fbf9f31ae48>, <chemprop.data.data.MoleculeDatapoint object at 0x7fbf9f31aeb8>, <chemprop.data.data.MoleculeDatapoint object at 0x7fbf9f31aef0>, <chemprop.data.data.MoleculeDatapoint object at 0x7fbf9f31af60>, <chemprop.data.data.MoleculeDatapoint object at 0x7fbf9eb27e10>, <chemprop.data.data.MoleculeDatapoint object at 0x7fbf9eb27860>, <chemprop.data.data.MoleculeDatapoint object at 0x7fbf9eb277b8>, <chemprop.data.data.MoleculeDatapoint object at 0x7fbf9eb278d0>, <chemprop.data.data.MoleculeDatapoint object at 0x7fbf9eb27828>, <chemprop.data.data.MoleculeDatapoint object at 0x7fbf9eb272b0>, <chemprop.data.data.MoleculeDatapoint object at 0x7fbf9eb27208>, <chemprop.data.data.MoleculeDatapoint object at 0x7fbf9eb27b00>, <chemprop.data.data.MoleculeDatapoint object at 0x7fbf9eb27a58>, <chemprop.data.data.MoleculeDatapoint object at 0x7fbf9eb27be0>, <chemprop.data.data.MoleculeDatapoint object at 0x7fbf9eb27b38>, <chemprop.data.data.MoleculeDatapoint object at 0x7fbf9eb27b70>, <chemprop.data.data.MoleculeDatapoint object at 0x7fbf9eb27f98>, <chemprop.data.data.MoleculeDatapoint object at 0x7fbf9eb27240>, <chemprop.data.data.MoleculeDatapoint object at 0x7fbf9eb272e8>, <chemprop.data.data.MoleculeDatapoint object at 0x7fbf9eb273c8>, <chemprop.data.data.MoleculeDatapoint object at 0x7fbf9eb27630>, <chemprop.data.data.MoleculeDatapoint object at 0x7fbf9eb27748>, <chemprop.data.data.MoleculeDatapoint object at 0x7fbf9eb27908>, <chemprop.data.data.MoleculeDatapoint object at 0x7fbf9eb27978>, <chemprop.data.data.MoleculeDatapoint object at 0x7fbf9eb279b0>, <chemprop.data.data.MoleculeDatapoint object at 0x7fbf9eb27a20>, <chemprop.data.data.MoleculeDatapoint object at 0x7fbf9eb27c18>, <chemprop.data.data.MoleculeDatapoint object at 0x7fbf9eb27c88>, <chemprop.data.data.MoleculeDatapoint object at 0x7fbf9eb27d68>, <chemprop.data.data.MoleculeDatapoint object at 0x7fbf9eb27e48>, <chemprop.data.data.MoleculeDatapoint object at 0x7fbf9eb27940>, <chemprop.data.data.MoleculeDatapoint object at 0x7fbf9eb27898>, <chemprop.data.data.MoleculeDatapoint object at 0x7fbf9eb27ac8>, <chemprop.data.data.MoleculeDatapoint object at 0x7fbf9eb27cc0>, <chemprop.data.data.MoleculeDatapoint object at 0x7fbf9eb27da0>, <chemprop.data.data.MoleculeDatapoint object at 0x7fbf9eb27cf8>, <chemprop.data.data.MoleculeDatapoint object at 0x7fbf9eb27e80>, <chemprop.data.data.MoleculeDatapoint object at 0x7fbf9eb27dd8>, <chemprop.data.data.MoleculeDatapoint object at 0x7fbf9eb27ef0>, <chemprop.data.data.MoleculeDatapoint object at 0x7fbf9eb27f60>, <chemprop.data.data.MoleculeDatapoint object at 0x7fbf9eb27eb8>, <chemprop.data.data.MoleculeDatapoint object at 0x7fbf9eb274e0>, <chemprop.data.data.MoleculeDatapoint object at 0x7fbf9eb27438>, <chemprop.data.data.MoleculeDatapoint object at 0x7fbf9eb27080>, <chemprop.data.data.MoleculeDatapoint object at 0x7fbf9eb270b8>, <chemprop.data.data.MoleculeDatapoint object at 0x7fbf9eb270f0>, <chemprop.data.data.MoleculeDatapoint object at 0x7fbf9eb27128>, <chemprop.data.data.MoleculeDatapoint object at 0x7fbf9eb27160>, <chemprop.data.data.MoleculeDatapoint object at 0x7fbf9eb27198>, <chemprop.data.data.MoleculeDatapoint object at 0x7fbf9eb271d0>, <chemprop.data.data.MoleculeDatapoint object at 0x7fbf9eb27278>, <chemprop.data.data.MoleculeDatapoint object at 0x7fbf9eb27320>, <chemprop.data.data.MoleculeDatapoint object at 0x7fbf9eb27358>, <chemprop.data.data.MoleculeDatapoint object at 0x7fbf9eb27390>, <chemprop.data.data.MoleculeDatapoint object at 0x7fbf9eb27400>, <chemprop.data.data.MoleculeDatapoint object at 0x7fbf9eb27518>, <chemprop.data.data.MoleculeDatapoint object at 0x7fbf9eb27550>, <chemprop.data.data.MoleculeDatapoint object at 0x7fbf9eb275c0>, <chemprop.data.data.MoleculeDatapoint object at 0x7fbf9eb275f8>, <chemprop.data.data.MoleculeDatapoint object at 0x7fbf9eb27668>, <chemprop.data.data.MoleculeDatapoint object at 0x7fbf9eb276a0>, <chemprop.data.data.MoleculeDatapoint object at 0x7fbf9eb276d8>, <chemprop.data.data.MoleculeDatapoint object at 0x7fbf9eb27710>, <chemprop.data.data.MoleculeDatapoint object at 0x7fbf9eb27780>, <chemprop.data.data.MoleculeDatapoint object at 0x7fbf9eb277f0>, <chemprop.data.data.MoleculeDatapoint object at 0x7fbf9eb279e8>, <chemprop.data.data.MoleculeDatapoint object at 0x7fbf9eb27a90>, <chemprop.data.data.MoleculeDatapoint object at 0x7fbf9eb27ba8>, <chemprop.data.data.MoleculeDatapoint object at 0x7fbf9eb27c50>, <chemprop.data.data.MoleculeDatapoint object at 0x7fbf9eb27d30>, <chemprop.data.data.MoleculeDatapoint object at 0x7fbf9eb27f28>, <chemprop.data.data.MoleculeDatapoint object at 0x7fbf9eb27fd0>, <chemprop.data.data.MoleculeDatapoint object at 0x7fbf9eba4b70>, <chemprop.data.data.MoleculeDatapoint object at 0x7fbf9eba4ac8>, <chemprop.data.data.MoleculeDatapoint object at 0x7fbf9eba4c50>, <chemprop.data.data.MoleculeDatapoint object at 0x7fbf9eba4ba8>, <chemprop.data.data.MoleculeDatapoint object at 0x7fbf9eba4cc0>, <chemprop.data.data.MoleculeDatapoint object at 0x7fbf9eba4c18>, <chemprop.data.data.MoleculeDatapoint object at 0x7fbf9eba4da0>, <chemprop.data.data.MoleculeDatapoint object at 0x7fbf9eba4cf8>, <chemprop.data.data.MoleculeDatapoint object at 0x7fbf9eba4080>, <chemprop.data.data.MoleculeDatapoint object at 0x7fbf9eba4550>, <chemprop.data.data.MoleculeDatapoint object at 0x7fbf9eba44a8>, <chemprop.data.data.MoleculeDatapoint object at 0x7fbf9eba4048>, <chemprop.data.data.MoleculeDatapoint object at 0x7fbf9eba4e10>, <chemprop.data.data.MoleculeDatapoint object at 0x7fbf9eba4ef0>, <chemprop.data.data.MoleculeDatapoint object at 0x7fbf9eba4630>, <chemprop.data.data.MoleculeDatapoint object at 0x7fbf9eba4588>, <chemprop.data.data.MoleculeDatapoint object at 0x7fbf9eba46a0>, <chemprop.data.data.MoleculeDatapoint object at 0x7fbf9eba45f8>, <chemprop.data.data.MoleculeDatapoint object at 0x7fbf9eba4780>, <chemprop.data.data.MoleculeDatapoint object at 0x7fbf9eba46d8>, <chemprop.data.data.MoleculeDatapoint object at 0x7fbf9eba4860>, <chemprop.data.data.MoleculeDatapoint object at 0x7fbf9eba47b8>, <chemprop.data.data.MoleculeDatapoint object at 0x7fbf9eba4940>, <chemprop.data.data.MoleculeDatapoint object at 0x7fbf9eba4898>, <chemprop.data.data.MoleculeDatapoint object at 0x7fbf9eba4a20>, <chemprop.data.data.MoleculeDatapoint object at 0x7fbf9eba4978>, <chemprop.data.data.MoleculeDatapoint object at 0x7fbf9eba4b00>, <chemprop.data.data.MoleculeDatapoint object at 0x7fbf9eba4a58>, <chemprop.data.data.MoleculeDatapoint object at 0x7fbf9eba4dd8>, <chemprop.data.data.MoleculeDatapoint object at 0x7fbf9eba4be0>, <chemprop.data.data.MoleculeDatapoint object at 0x7fbf9eba4b38>, <chemprop.data.data.MoleculeDatapoint object at 0x7fbf9eca8f98>, <chemprop.data.data.MoleculeDatapoint object at 0x7fbf9eca8e10>], 'args': None, 'scaler': None}\n"
     ]
    },
    {
     "name": "stdout",
     "output_type": "stream",
     "text": [
      "(Pdb) dir(data)\n",
      "['__add__', '__class__', '__delattr__', '__dict__', '__dir__', '__doc__', '__eq__', '__format__', '__ge__', '__getattribute__', '__getitem__', '__gt__', '__hash__', '__init__', '__init_subclass__', '__le__', '__len__', '__lt__', '__module__', '__ne__', '__new__', '__reduce__', '__reduce_ex__', '__repr__', '__setattr__', '__sizeof__', '__str__', '__subclasshook__', '__weakref__', 'args', 'compound_names', 'data', 'features', 'features_size', 'mols', 'normalize_features', 'num_tasks', 'scaler', 'set_targets', 'shuffle', 'smiles', 'sort', 'targets']\n",
      "(Pdb) data. features_size\n",
      "<bound method MoleculeDataset.features_size of <chemprop.data.data.MoleculeDataset object at 0x7fbf9eba4e80>>\n",
      "(Pdb) data. features_size\n",
      "<bound method MoleculeDataset.features_size of <chemprop.data.data.MoleculeDataset object at 0x7fbf9eba4e80>>\n",
      "(Pdb) data.features_size\n",
      "<bound method MoleculeDataset.features_size of <chemprop.data.data.MoleculeDataset object at 0x7fbf9eba4e80>>\n",
      "(Pdb) data.features_size()\n",
      "(Pdb) l\n",
      " 47  \t\n",
      " 48  \t            for i, feats in tqdm(enumerate(features_map), total=len(data)):\n",
      " 49  \t                features.append(feats)\n",
      " 50  \t            save_features(path=feat_path, features=features)\n",
      " 51  \t\n",
      " 52  \t        tensor_features = to_tensor(features)\n",
      " 53  \t        dataset.props.update({feature_name: tensor_features})\n",
      " 54  \t    dataset.save(dataset_path)\n",
      " 55  \t\n",
      " 56  \t    return features, dataset\n",
      " 57  \t\n",
      "(Pdb) l\n",
      " 58  \t\n",
      " 59  \tif __name__ == \"__main__\":\n",
      " 60  \t    path = \"/home/saxelrod/data/sigopt/covid_schnet/test.pth.tar\"\n",
      " 61  \t\n",
      " 62  \t    dataset = Dataset.from_file(path)\n",
      " 63  \t    feature_names = [\"rdkit_2d_normalized\", \"morgan\"]\n",
      " 64  \t    data_path = \"./test_smiles.csv\"\n",
      " 65  \t    save_path = \"./features.npz\"\n",
      " 66  \t    dataset_path = \"./new_dataset.pth.tar\"\n",
      " 67  \t\n",
      " 68  \t    tensor_features, dataset = add_features(dataset=dataset,\n",
      "(Pdb) l\n",
      " 69  \t                                            feature_names=feature_names,\n",
      " 70  \t                                            data_path=data_path,\n",
      " 71  \t                                            dataset_path=dataset_path)\n",
      " 72  \t\n",
      " 73  \t    # print(tensor_features)\n",
      "[EOF]\n",
      "(Pdb) \n",
      "[EOF]\n",
      "(Pdb) \n",
      "[EOF]\n"
     ]
    }
   ],
   "source": [
    "main_path = \"/home/saxelrod/data/sigopt/covid_schnet\"\n",
    "train = Dataset.from_file(os.path.join(main_path, \"train.pth.tar\"))\n",
    "test = Dataset.from_file(os.path.join(main_path, \"test.pth.tar\"))\n",
    "val = Dataset.from_file(os.path.join(main_path, \"val.pth.tar\"))\n",
    "\n",
    "\n",
    "# add_morgan(train, params[\"morgan_length\"])\n",
    "# add_morgan(test, params[\"morgan_length\"])\n",
    "# add_morgan(val, params[\"morgan_length\"])\n",
    "\n",
    "names = [\"train_new.pth.tar\", \"val_new.pth.tar\", \"test_new.pth.tar\"]\n",
    "full_paths = [os.path.join(main_path, name) for name in names]\n",
    "if all([os.path.isfile(path) for path in full_paths]):\n",
    "    train, val, test = [Dataset.from_file(path) for path in full_paths]\n",
    "# else:\n",
    "l\n",
    "ll\n",
    "feature_names = params[\"extra_features\"]\n",
    "feat_paths = [\"{}.npz\".format(name) for name in feature_names]\n",
    "d_sets = [train, val, test]\n",
    "for d_set, name in zip(d_sets, names):\n",
    "    data_path = \"/tmp/data_path\"\n",
    "    dataset_path = os.path.join(main_path, name)\n",
    "    add_features(dataset=d_set,\n",
    "                 data_path=data_path,\n",
    "                 feature_names=feature_names,\n",
    "                 dataset_path=dataset_path,\n",
    "                 feat_paths=feat_paths)\n",
    "\n",
    "trim_confs(train, params[\"num_confs\"])\n",
    "trim_confs(test, params[\"num_confs\"])\n",
    "trim_confs(val, params[\"num_confs\"])"
   ]
  },
  {
   "cell_type": "code",
   "execution_count": null,
   "metadata": {},
   "outputs": [],
   "source": [
    "print(len(train))\n",
    "print(len(test))\n",
    "print(len(val))"
   ]
  },
  {
   "cell_type": "code",
   "execution_count": null,
   "metadata": {},
   "outputs": [],
   "source": [
    "val.props[\"rdkit_2d_normalized\"][0]"
   ]
  },
  {
   "cell_type": "markdown",
   "metadata": {},
   "source": [
    "The `nff` code interfaces with the `graphbuilder` module through a git submodule in the repository. `graphbuilder` provides methods to create batches of graphs. In `nff`, we interface that through a custom dataloader called `\n",
    "GraphLoader`. Here, we create one loader for each one of the slices."
   ]
  },
  {
   "cell_type": "code",
   "execution_count": null,
   "metadata": {},
   "outputs": [],
   "source": [
    "train_loader = DataLoader(train, batch_size=1, collate_fn=collate_dicts)\n",
    "val_loader = DataLoader(val, batch_size=1, collate_fn=collate_dicts)\n",
    "test_loader = DataLoader(test, batch_size=1, collate_fn=collate_dicts)"
   ]
  },
  {
   "cell_type": "markdown",
   "metadata": {},
   "source": [
    "Number of positive binders in train, validation, and test sets:"
   ]
  },
  {
   "cell_type": "code",
   "execution_count": null,
   "metadata": {},
   "outputs": [],
   "source": [
    "# print(np.sum(train.props['bind']))\n",
    "# print(np.sum(val.props['bind']))\n",
    "# print(np.sum(test.props['bind']))\n",
    "\n"
   ]
  },
  {
   "cell_type": "markdown",
   "metadata": {},
   "source": [
    "## Creating a model"
   ]
  },
  {
   "cell_type": "markdown",
   "metadata": {},
   "source": [
    "`nff` is based on SchNet. It parameterizes interatomic interactions in molecules and materials through a series of convolution layers with continuous filters. Here, we are going to create a simple model using the hyperparameters given on `params`:"
   ]
  },
  {
   "cell_type": "code",
   "execution_count": null,
   "metadata": {},
   "outputs": [],
   "source": [
    "model = make_class_model(\"WeightedConformers\", params)"
   ]
  },
  {
   "cell_type": "markdown",
   "metadata": {},
   "source": [
    "## Creating a trainer"
   ]
  },
  {
   "cell_type": "markdown",
   "metadata": {},
   "source": [
    "To train our model with the data provided, we have to create a loss function. The easiest way to do that is through the `build_mse_loss` builder. Its argument `rho` is a parameter that will multiply the mean square error (MSE) of the force components before summing it with the MSE of the energy."
   ]
  },
  {
   "cell_type": "code",
   "execution_count": null,
   "metadata": {},
   "outputs": [],
   "source": []
  },
  {
   "cell_type": "code",
   "execution_count": null,
   "metadata": {},
   "outputs": [],
   "source": [
    "loss_fn = loss.build_cross_entropy_loss(loss_coef={'bind': 1.0})\n",
    "# loss_fn = loss.build_mse_loss(loss_coef={'bind': 1.0})"
   ]
  },
  {
   "cell_type": "markdown",
   "metadata": {},
   "source": [
    "We should also select an optimizer for our recently created model:"
   ]
  },
  {
   "cell_type": "code",
   "execution_count": null,
   "metadata": {},
   "outputs": [],
   "source": [
    "trainable_params = filter(lambda p: p.requires_grad, model.parameters())\n",
    "optimizer = Adam(trainable_params, lr=1e-5)"
   ]
  },
  {
   "cell_type": "markdown",
   "metadata": {},
   "source": [
    "### Metrics and hooks"
   ]
  },
  {
   "cell_type": "markdown",
   "metadata": {},
   "source": [
    "Metrics and hooks allow the customization of the training process. Instead of tweaking directly the code or having to resort to countless flags, we can create submodules (or add-ons) to monitor the progress of the training or customize it."
   ]
  },
  {
   "cell_type": "markdown",
   "metadata": {},
   "source": [
    "If we want to monitor the progress of our training, say by looking at the mean absolute error (MAE) of energies and forces, we can simply create metrics to observe them:"
   ]
  },
  {
   "cell_type": "code",
   "execution_count": null,
   "metadata": {},
   "outputs": [],
   "source": [
    "train_metrics = [\n",
    "    metrics.PrAuc('bind'),\n",
    "    metrics.RocAuc('bind'),\n",
    "\n",
    "]"
   ]
  },
  {
   "cell_type": "markdown",
   "metadata": {},
   "source": [
    "Furthermore, if we want to customize how our training procedure is done, we can use hooks which can interrupt or change the train automatically.\n",
    "\n",
    "In our case, we are adding hooks to:\n",
    "* Stop the training procedure after 100 epochs;\n",
    "* Log the training on a machine-readable CSV file under the directory `./sandbox`;\n",
    "* Print the progress on the screen with custom formatting; and\n",
    "* Setup a scheduler for the learning rate."
   ]
  },
  {
   "cell_type": "code",
   "execution_count": null,
   "metadata": {},
   "outputs": [],
   "source": [
    "train_hooks = [\n",
    "    hooks.MaxEpochHook(MAX_EPOCHS),\n",
    "    hooks.CSVHook(\n",
    "        OUTDIR,\n",
    "        metrics=train_metrics,\n",
    "    ),\n",
    "    hooks.PrintingHook(\n",
    "        OUTDIR,\n",
    "        metrics=train_metrics,\n",
    "        separator = ' | ',\n",
    "        time_strf='%M:%S'\n",
    "    ),\n",
    "    hooks.ReduceLROnPlateauHook(\n",
    "        optimizer=optimizer,\n",
    "        patience=30,\n",
    "        factor=0.5,\n",
    "        min_lr=1e-7,\n",
    "        window_length=1,\n",
    "        stop_after_min=True\n",
    "    )\n",
    "]"
   ]
  },
  {
   "cell_type": "markdown",
   "metadata": {},
   "source": [
    "### Trainer wrapper"
   ]
  },
  {
   "cell_type": "markdown",
   "metadata": {},
   "source": [
    "A `Trainer` in the `nff` package is a wrapper to train a model. It automatically creates checkpoints, as well as trains and validates a given model. It also allow further training by loading checkpoints from existing paths, making the training procedure more flexible. Its functionalities can be extended by the hooks we created above. To create a trainer, we have to execute the following command:"
   ]
  },
  {
   "cell_type": "code",
   "execution_count": null,
   "metadata": {},
   "outputs": [],
   "source": [
    "T = Trainer(\n",
    "    model_path=OUTDIR,\n",
    "    model=model,\n",
    "    loss_fn=loss_fn,\n",
    "    optimizer=optimizer,\n",
    "    train_loader=train_loader,\n",
    "    validation_loader=val_loader,\n",
    "    checkpoint_interval=1,\n",
    "    hooks=train_hooks,\n",
    "    mini_batches=3\n",
    ")"
   ]
  },
  {
   "cell_type": "markdown",
   "metadata": {},
   "source": [
    "Now we can finally train the model using the method `train` from the `Trainer`:"
   ]
  },
  {
   "cell_type": "code",
   "execution_count": null,
   "metadata": {},
   "outputs": [],
   "source": []
  },
  {
   "cell_type": "code",
   "execution_count": null,
   "metadata": {
    "scrolled": true
   },
   "outputs": [],
   "source": [
    "import pdb\n",
    "\n",
    "T.train(device=DEVICE, n_epochs=MAX_EPOCHS)\n"
   ]
  },
  {
   "cell_type": "markdown",
   "metadata": {},
   "source": [
    "Evaluate on the test set"
   ]
  },
  {
   "cell_type": "code",
   "execution_count": null,
   "metadata": {},
   "outputs": [],
   "source": [
    "from sklearn.metrics import auc"
   ]
  },
  {
   "cell_type": "code",
   "execution_count": null,
   "metadata": {},
   "outputs": [],
   "source": [
    "from sklearn.metrics import roc_auc_score, roc_curve\n",
    "\n",
    "results, targets, train_loss = evaluate(T.get_best_model(), test_loader, loss_fn, device=DEVICE)\n",
    "\n",
    "bind_res = torch.cat(results['bind']).reshape(-1)\n",
    "bind_targ = torch.cat(targets['bind']).reshape(-1)\n",
    "\n",
    "print(roc_auc_score(y_true=bind_targ, y_score=bind_res))\n",
    "\n",
    "roc = roc_curve(y_true=bind_targ, y_score=bind_res)"
   ]
  },
  {
   "cell_type": "code",
   "execution_count": null,
   "metadata": {},
   "outputs": [],
   "source": [
    "from sklearn.metrics import precision_recall_curve\n",
    "precision, recall, thresholds = precision_recall_curve(y_true=bind_targ, probas_pred=bind_res)\n",
    "pr_auc  = auc(recall, precision)\n",
    "\n",
    "print(pr_auc)\n",
    "# plt.plot(pcr[0], pcr[1])\n",
    "# plt.show()"
   ]
  },
  {
   "cell_type": "code",
   "execution_count": null,
   "metadata": {},
   "outputs": [],
   "source": [
    "plt.plot(roc[0], roc[1])\n",
    "plt.plot(roc[0], roc[0], '--')\n",
    "plt.xlabel('False positive rate')\n",
    "plt.ylabel('True positive rate')\n",
    "plt.show()\n",
    "\n"
   ]
  },
  {
   "cell_type": "code",
   "execution_count": null,
   "metadata": {},
   "outputs": [],
   "source": [
    "# def true_positives(y, yp):\n",
    "#     actual = y.detach().cpu().numpy().round().reshape(-1)\n",
    "#     pred = yp.detach().cpu().numpy().round().reshape(-1)\n",
    "\n",
    "#     all_positives = [i for i, item in enumerate(pred) if item == 1]\n",
    "#     true_positives = [i for i in all_positives if pred[i] == actual[i]]\n",
    "\n",
    "#     # number of predicted negatives\n",
    "#     num_pred = len(all_positives)\n",
    "#     num_pred_correct = len(true_positives)\n",
    "    \n",
    "#     ratio = num_pred_correct / num_pred\n",
    "\n",
    "#     return ratio\n",
    "\n",
    "# def true_negatives(y, yp):\n",
    "#     actual = y.detach().cpu().numpy().round().reshape(-1)\n",
    "#     pred = yp.detach().cpu().numpy().round().reshape(-1)\n",
    "\n",
    "#     all_negatives = [i for i, item in enumerate(pred) if item == 0]\n",
    "#     true_negatives = [i for i in all_negatives if pred[i] == actual[i]]\n",
    "\n",
    "#     # number of predicted negatives\n",
    "#     num_pred = len(all_negatives)\n",
    "#     num_pred_correct = len(true_negatives)\n",
    "    \n",
    "#     ratio = num_pred_correct / num_pred\n",
    "\n",
    "#     return ratio\n",
    "\n"
   ]
  },
  {
   "cell_type": "code",
   "execution_count": null,
   "metadata": {},
   "outputs": [],
   "source": [
    "# y = bind_targ\n",
    "# yp = bind_res\n",
    "# pos_rate = true_positives(y, yp)\n",
    "# neg_rate = true_negatives(y, yp)"
   ]
  },
  {
   "cell_type": "code",
   "execution_count": null,
   "metadata": {},
   "outputs": [],
   "source": [
    "# pos_rate"
   ]
  },
  {
   "cell_type": "code",
   "execution_count": null,
   "metadata": {},
   "outputs": [],
   "source": [
    "# neg_rate"
   ]
  },
  {
   "cell_type": "code",
   "execution_count": null,
   "metadata": {},
   "outputs": [],
   "source": []
  },
  {
   "cell_type": "code",
   "execution_count": null,
   "metadata": {},
   "outputs": [],
   "source": []
  },
  {
   "cell_type": "markdown",
   "metadata": {},
   "source": [
    "## Move model, save datasets"
   ]
  },
  {
   "cell_type": "code",
   "execution_count": null,
   "metadata": {},
   "outputs": [],
   "source": [
    "# NEW_FOLDER = \"ten_confs_four_convolutions\"\n",
    "# NEW_FOLDER = \"one_conf_four_convolutions\"\n",
    "# NEW_FOLDER = \"ten_confs_four_convs_boltz_nn\"\n",
    "\n",
    "# NEW_FOLDER = \"ten_confs_crest_four_convs_boltz_nn\"\n",
    "# NEW_FOLDER = \"ten_confs_four_convs_crest\"\n",
    "\n",
    "# NEW_FOLDER = \"ten_confs_four_convs_mmff_no_boltz_nn\"\n",
    "\n",
    "# NEW_FOLDER = \"ten_confs_four_convs_mmff_with_boltz_nn\"\n",
    "\n",
    "NEW_FOLDER = \"ten_confs_four_convs_crest_no_boltz_nn\"\n",
    "\n",
    "# NEW_FOLDER = \"fifty_confs_four_convs_crest_no_boltz_nn\"\n",
    "\n",
    "\n",
    "# NEW_FOLDER = \"one_conf_four_convs_crest_no_boltz_nn\"\n",
    "\n",
    "\n",
    "\n",
    "\n",
    "if not os.path.isdir(NEW_FOLDER):\n",
    "    os.makedirs(NEW_FOLDER)\n",
    "\n",
    "files = os.listdir(NEW_FOLDER)\n",
    "\n",
    "if not files:\n",
    "    train.save(\"{}/train.pth.tar\".format(NEW_FOLDER))\n",
    "    test.save(\"{}/test.pth.tar\".format(NEW_FOLDER))\n",
    "    val.save(\"{}/val.pth.tar\".format(NEW_FOLDER))\n",
    "\n",
    "\n",
    "    OUTDIR = './sandbox'\n",
    "    files = os.listdir(OUTDIR)\n",
    "    for file in files:\n",
    "        old_path = os.path.join(OUTDIR, file)\n",
    "        new_path = os.path.join(NEW_FOLDER, file)\n",
    "        shutil.move(old_path, new_path)\n",
    "\n",
    "    \n"
   ]
  },
  {
   "cell_type": "code",
   "execution_count": null,
   "metadata": {},
   "outputs": [],
   "source": [
    "# import json\n",
    "\n",
    "# test_spec_ids = test.props['spec_id'].numpy().tolist()\n",
    "# train_spec_ids = train.props['spec_id'].numpy().tolist()\n",
    "# val_spec_ids = val.props['spec_id'].numpy().tolist()\n",
    "\n",
    "# with open(\"test_spec_crest.json\", \"w\") as f:\n",
    "#     json.dump(test_spec_ids, f)\n",
    "    \n",
    "# with open(\"train_spec_crest.json\", \"w\") as f:\n",
    "#     json.dump(train_spec_ids, f)\n",
    "    \n",
    "# with open(\"val_spec_crest.json\", \"w\") as f:\n",
    "#     json.dump(val_spec_ids, f)"
   ]
  },
  {
   "cell_type": "code",
   "execution_count": null,
   "metadata": {},
   "outputs": [],
   "source": []
  },
  {
   "cell_type": "code",
   "execution_count": null,
   "metadata": {},
   "outputs": [],
   "source": []
  }
 ],
 "metadata": {
  "kernelspec": {
   "display_name": "Python [conda env:covid_mit]",
   "language": "python",
   "name": "covid_mit"
  },
  "language_info": {
   "codemirror_mode": {
    "name": "ipython",
    "version": 3
   },
   "file_extension": ".py",
   "mimetype": "text/x-python",
   "name": "python",
   "nbconvert_exporter": "python",
   "pygments_lexer": "ipython3",
   "version": "3.6.10"
  }
 },
 "nbformat": 4,
 "nbformat_minor": 2
}
