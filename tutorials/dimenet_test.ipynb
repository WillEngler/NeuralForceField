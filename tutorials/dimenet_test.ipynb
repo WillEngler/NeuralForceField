{
 "cells": [
  {
   "cell_type": "code",
   "execution_count": 1,
   "metadata": {},
   "outputs": [],
   "source": [
    "%load_ext autoreload\n",
    "%autoreload 2"
   ]
  },
  {
   "cell_type": "code",
   "execution_count": 2,
   "metadata": {},
   "outputs": [],
   "source": [
    "import sys\n",
    "from pathlib import Path\n",
    "\n",
    "sys.path.insert(0, \"/home/saxelrod/Repo/projects/dimenet_nff/NeuralForceField\")\n",
    "\n",
    "import os\n",
    "import shutil\n",
    "import numpy as np\n",
    "import matplotlib.pyplot as plt\n",
    "\n",
    "import torch\n",
    "from torch.optim import Adam\n",
    "from torch.utils.data import DataLoader\n",
    "\n",
    "from nff.data import Dataset, split_train_validation_test, collate_dicts, to_tensor\n",
    "from nff.train import Trainer, get_trainer, get_model, load_model, loss, hooks, metrics, evaluate"
   ]
  },
  {
   "cell_type": "code",
   "execution_count": 3,
   "metadata": {},
   "outputs": [
    {
     "data": {
      "text/plain": [
       "tensor([[ 6.0000,  0.6236,  0.3844,  0.2975],\n",
       "        [ 1.0000,  0.0567,  0.2727,  0.4777],\n",
       "        [ 4.0000,  0.8122,  0.4800,  0.3928],\n",
       "        [ 4.0000,  0.8361,  0.3374,  0.6482],\n",
       "        [ 8.0000,  0.3682,  0.9572,  0.1404],\n",
       "        [10.0000,  0.8701,  0.4736,  0.8009]])"
      ]
     },
     "execution_count": 3,
     "metadata": {},
     "output_type": "execute_result"
    }
   ],
   "source": [
    "np.random.seed(0)\n",
    "\n",
    "num_atoms = 6\n",
    "z = torch.Tensor(np.random.randint(1, 12, num_atoms))\n",
    "xyz = torch.Tensor(np.random.rand(num_atoms, 3))\n",
    "nxyz = torch.cat((z.reshape(-1, 1), xyz), dim=-1)\n",
    "nxyz"
   ]
  },
  {
   "cell_type": "code",
   "execution_count": 4,
   "metadata": {},
   "outputs": [],
   "source": [
    "props = {\"nxyz\": [nxyz], \"energy\": torch.Tensor([1.3])}\n",
    "dataset = Dataset(props)"
   ]
  },
  {
   "cell_type": "code",
   "execution_count": 5,
   "metadata": {},
   "outputs": [],
   "source": [
    "import pdb\n",
    "\n",
    "cutoff = 5.0\n",
    "dataset.generate_neighbor_list(cutoff, undirected=False)\n",
    "_ = dataset.generate_angle_list()\n"
   ]
  },
  {
   "cell_type": "code",
   "execution_count": 6,
   "metadata": {},
   "outputs": [
    {
     "data": {
      "text/plain": [
       "[tensor([[0, 1, 2],\n",
       "         [0, 1, 3],\n",
       "         [0, 1, 4],\n",
       "         [0, 1, 5],\n",
       "         [0, 2, 1],\n",
       "         [0, 2, 3],\n",
       "         [0, 2, 4],\n",
       "         [0, 2, 5],\n",
       "         [0, 3, 1],\n",
       "         [0, 3, 2],\n",
       "         [0, 3, 4],\n",
       "         [0, 3, 5],\n",
       "         [0, 4, 1],\n",
       "         [0, 4, 2],\n",
       "         [0, 4, 3],\n",
       "         [0, 4, 5],\n",
       "         [0, 5, 1],\n",
       "         [0, 5, 2],\n",
       "         [0, 5, 3],\n",
       "         [0, 5, 4],\n",
       "         [1, 0, 2],\n",
       "         [1, 0, 3],\n",
       "         [1, 0, 4],\n",
       "         [1, 0, 5],\n",
       "         [1, 2, 0],\n",
       "         [1, 2, 3],\n",
       "         [1, 2, 4],\n",
       "         [1, 2, 5],\n",
       "         [1, 3, 0],\n",
       "         [1, 3, 2],\n",
       "         [1, 3, 4],\n",
       "         [1, 3, 5],\n",
       "         [1, 4, 0],\n",
       "         [1, 4, 2],\n",
       "         [1, 4, 3],\n",
       "         [1, 4, 5],\n",
       "         [1, 5, 0],\n",
       "         [1, 5, 2],\n",
       "         [1, 5, 3],\n",
       "         [1, 5, 4],\n",
       "         [2, 0, 1],\n",
       "         [2, 0, 3],\n",
       "         [2, 0, 4],\n",
       "         [2, 0, 5],\n",
       "         [2, 1, 0],\n",
       "         [2, 1, 3],\n",
       "         [2, 1, 4],\n",
       "         [2, 1, 5],\n",
       "         [2, 3, 0],\n",
       "         [2, 3, 1],\n",
       "         [2, 3, 4],\n",
       "         [2, 3, 5],\n",
       "         [2, 4, 0],\n",
       "         [2, 4, 1],\n",
       "         [2, 4, 3],\n",
       "         [2, 4, 5],\n",
       "         [2, 5, 0],\n",
       "         [2, 5, 1],\n",
       "         [2, 5, 3],\n",
       "         [2, 5, 4],\n",
       "         [3, 0, 1],\n",
       "         [3, 0, 2],\n",
       "         [3, 0, 4],\n",
       "         [3, 0, 5],\n",
       "         [3, 1, 0],\n",
       "         [3, 1, 2],\n",
       "         [3, 1, 4],\n",
       "         [3, 1, 5],\n",
       "         [3, 2, 0],\n",
       "         [3, 2, 1],\n",
       "         [3, 2, 4],\n",
       "         [3, 2, 5],\n",
       "         [3, 4, 0],\n",
       "         [3, 4, 1],\n",
       "         [3, 4, 2],\n",
       "         [3, 4, 5],\n",
       "         [3, 5, 0],\n",
       "         [3, 5, 1],\n",
       "         [3, 5, 2],\n",
       "         [3, 5, 4],\n",
       "         [4, 0, 1],\n",
       "         [4, 0, 2],\n",
       "         [4, 0, 3],\n",
       "         [4, 0, 5],\n",
       "         [4, 1, 0],\n",
       "         [4, 1, 2],\n",
       "         [4, 1, 3],\n",
       "         [4, 1, 5],\n",
       "         [4, 2, 0],\n",
       "         [4, 2, 1],\n",
       "         [4, 2, 3],\n",
       "         [4, 2, 5],\n",
       "         [4, 3, 0],\n",
       "         [4, 3, 1],\n",
       "         [4, 3, 2],\n",
       "         [4, 3, 5],\n",
       "         [4, 5, 0],\n",
       "         [4, 5, 1],\n",
       "         [4, 5, 2],\n",
       "         [4, 5, 3],\n",
       "         [5, 0, 1],\n",
       "         [5, 0, 2],\n",
       "         [5, 0, 3],\n",
       "         [5, 0, 4],\n",
       "         [5, 1, 0],\n",
       "         [5, 1, 2],\n",
       "         [5, 1, 3],\n",
       "         [5, 1, 4],\n",
       "         [5, 2, 0],\n",
       "         [5, 2, 1],\n",
       "         [5, 2, 3],\n",
       "         [5, 2, 4],\n",
       "         [5, 3, 0],\n",
       "         [5, 3, 1],\n",
       "         [5, 3, 2],\n",
       "         [5, 3, 4],\n",
       "         [5, 4, 0],\n",
       "         [5, 4, 1],\n",
       "         [5, 4, 2],\n",
       "         [5, 4, 3]])]"
      ]
     },
     "execution_count": 6,
     "metadata": {},
     "output_type": "execute_result"
    }
   ],
   "source": [
    "dataset.props['angle_list']"
   ]
  },
  {
   "cell_type": "code",
   "execution_count": 29,
   "metadata": {},
   "outputs": [],
   "source": [
    "import pdb\n",
    "\n",
    "modelparams = {\"n_rbf\": 6,\n",
    "               \"cutoff\": 5.0,\n",
    "               \"envelope_p\": 6,\n",
    "               \"n_spher\": 6,\n",
    "               \"l_spher\": 7,\n",
    "               \"atom_embed_dim\": 128,\n",
    "               \"n_bilinear\": 8,\n",
    "               \"activation\": \"swish\",\n",
    "               \"n_convolutions\": 6,\n",
    "               \"output_keys\": [\"energy\"],\n",
    "               \"grad_keys\": [\"energy_grad\"]}\n",
    "\n",
    "try:\n",
    "    model = get_model(modelparams, model_type=\"DimeNet\")\n",
    "except Exception as e:\n",
    "    print(e)\n",
    "    pdb.post_mortem()"
   ]
  },
  {
   "cell_type": "code",
   "execution_count": 35,
   "metadata": {},
   "outputs": [],
   "source": [
    "batch = {\"nxyz\": dataset.props[\"nxyz\"][0],\n",
    "        \"energy\": dataset.props[\"energy\"],\n",
    "        \"nbr_list\": dataset.props[\"nbr_list\"][0],\n",
    "        \"angle_list\": dataset.props[\"angle_list\"][0],\n",
    "        \"num_atoms\": torch.LongTensor([len(dataset.props[\"nxyz\"][0])])}"
   ]
  },
  {
   "cell_type": "code",
   "execution_count": 37,
   "metadata": {},
   "outputs": [],
   "source": [
    "import pdb\n",
    "from nff.utils.cuda import batch_to\n",
    "\n",
    "device = 0\n",
    "model.to(device)\n",
    "batch = batch_to(batch, device)\n",
    "\n",
    "try:\n",
    "    out = model(batch)\n",
    "except Exception as e:\n",
    "    print(e)\n",
    "    pdb.post_mortem()"
   ]
  },
  {
   "cell_type": "code",
   "execution_count": 40,
   "metadata": {},
   "outputs": [
    {
     "data": {
      "text/plain": [
       "{'energy': tensor([65956.2188], device='cuda:0', grad_fn=<StackBackward>),\n",
       " 'energy_grad': tensor([[ 1.4452e+04,  7.5718e+03,  7.8126e+03],\n",
       "         [ 2.4429e+02,  3.6896e+01, -1.5352e+01],\n",
       "         [ 8.0630e+03, -2.4977e+04,  1.6034e+05],\n",
       "         [ 1.6894e+04,  9.0413e+04,  5.8000e+04],\n",
       "         [-7.8009e+01,  2.0182e+02,  1.2939e+00],\n",
       "         [-3.9575e+04, -7.3247e+04, -2.2614e+05]], device='cuda:0',\n",
       "        grad_fn=<AddBackward0>)}"
      ]
     },
     "execution_count": 40,
     "metadata": {},
     "output_type": "execute_result"
    }
   ],
   "source": [
    "model(batch)"
   ]
  },
  {
   "cell_type": "code",
   "execution_count": null,
   "metadata": {},
   "outputs": [],
   "source": []
  }
 ],
 "metadata": {
  "kernelspec": {
   "display_name": "Python [conda env:neuralff]",
   "language": "python",
   "name": "neuralff"
  },
  "language_info": {
   "codemirror_mode": {
    "name": "ipython",
    "version": 3
   },
   "file_extension": ".py",
   "mimetype": "text/x-python",
   "name": "python",
   "nbconvert_exporter": "python",
   "pygments_lexer": "ipython3",
   "version": "3.7.5"
  }
 },
 "nbformat": 4,
 "nbformat_minor": 2
}
