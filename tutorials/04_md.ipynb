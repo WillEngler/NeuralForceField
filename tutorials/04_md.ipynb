{
 "cells": [
  {
   "cell_type": "code",
   "execution_count": 1,
   "metadata": {},
   "outputs": [],
   "source": [
    "%load_ext autoreload\n",
    "%autoreload 2\n",
    "    "
   ]
  },
  {
   "cell_type": "markdown",
   "metadata": {},
   "source": [
    "# Running MD simulations using nff and ASE"
   ]
  },
  {
   "cell_type": "markdown",
   "metadata": {},
   "source": [
    "This Jupyter Notebook shows how the `nff` package interfaces with the Atomistic Simulation Environment (ASE). We assume the user went through tutorial `01_training`, so we can load the pretrained models without having to train them again."
   ]
  },
  {
   "cell_type": "markdown",
   "metadata": {},
   "source": [
    "As before, importing the dependencies:"
   ]
  },
  {
   "cell_type": "code",
   "execution_count": 2,
   "metadata": {},
   "outputs": [],
   "source": [
    "import numpy as np\n",
    "import matplotlib.pyplot as plt\n",
    "\n",
    "import torch\n",
    "from ase import Atoms\n",
    "from ase.md.verlet import VelocityVerlet\n",
    "\n",
    "from nff.md.nve import Dynamics\n",
    "from nff.data import Dataset\n",
    "from nff.train import load_model, evaluate\n",
    "import nff.utils.constants as const\n",
    "from ase import units\n",
    "from nff.io import NeuralFF, AtomsBatch"
   ]
  },
  {
   "cell_type": "markdown",
   "metadata": {},
   "source": [
    "## Loading the relevant data"
   ]
  },
  {
   "cell_type": "markdown",
   "metadata": {},
   "source": [
    "We reload the dataset and create a `GraphLoader` as we did last time:"
   ]
  },
  {
   "cell_type": "code",
   "execution_count": 3,
   "metadata": {},
   "outputs": [],
   "source": [
    "dataset = Dataset.from_file('data/dataset.pth.tar')\n"
   ]
  },
  {
   "cell_type": "markdown",
   "metadata": {},
   "source": [
    "### Creating Atoms"
   ]
  },
  {
   "cell_type": "markdown",
   "metadata": {},
   "source": [
    "As before, we can create an `Atoms` object from any element of the dataset. Let's take the first one, for simplicity:"
   ]
  },
  {
   "cell_type": "code",
   "execution_count": 4,
   "metadata": {},
   "outputs": [],
   "source": [
    "props = dataset[0].copy()\n",
    "atoms = AtomsBatch(positions=props['nxyz'][:, 1:], \n",
    "                   numbers=props['nxyz'][:, 0], \n",
    "                   props=props,\n",
    "                   )"
   ]
  },
  {
   "cell_type": "markdown",
   "metadata": {},
   "source": [
    "### Creating the ASE calculator"
   ]
  },
  {
   "cell_type": "markdown",
   "metadata": {},
   "source": [
    "Now we just have to load the ASE calculator from a pretrained model. One way of doing so is through the in-build `from_file` method. You just have to specify the folder where the model was trained and subsequently stored."
   ]
  },
  {
   "cell_type": "code",
   "execution_count": 5,
   "metadata": {},
   "outputs": [
    {
     "name": "stderr",
     "output_type": "stream",
     "text": [
      "/home/saxelrod/miniconda3/envs/htvs/lib/python3.7/site-packages/torch/serialization.py:658: SourceChangeWarning: source code of class 'nff.nn.models.schnet.SchNet' has changed. you can retrieve the original source code by accessing the object's source attribute or set `torch.nn.Module.dump_patches = True` and use the patch tool to revert the changes.\n",
      "  warnings.warn(msg, SourceChangeWarning)\n",
      "/home/saxelrod/miniconda3/envs/htvs/lib/python3.7/site-packages/torch/serialization.py:658: SourceChangeWarning: source code of class 'torch.nn.modules.sparse.Embedding' has changed. you can retrieve the original source code by accessing the object's source attribute or set `torch.nn.Module.dump_patches = True` and use the patch tool to revert the changes.\n",
      "  warnings.warn(msg, SourceChangeWarning)\n",
      "/home/saxelrod/miniconda3/envs/htvs/lib/python3.7/site-packages/torch/serialization.py:658: SourceChangeWarning: source code of class 'torch.nn.modules.container.ModuleList' has changed. you can retrieve the original source code by accessing the object's source attribute or set `torch.nn.Module.dump_patches = True` and use the patch tool to revert the changes.\n",
      "  warnings.warn(msg, SourceChangeWarning)\n",
      "/home/saxelrod/miniconda3/envs/htvs/lib/python3.7/site-packages/torch/serialization.py:658: SourceChangeWarning: source code of class 'torch.nn.modules.container.ModuleDict' has changed. you can retrieve the original source code by accessing the object's source attribute or set `torch.nn.Module.dump_patches = True` and use the patch tool to revert the changes.\n",
      "  warnings.warn(msg, SourceChangeWarning)\n",
      "/home/saxelrod/miniconda3/envs/htvs/lib/python3.7/site-packages/torch/serialization.py:658: SourceChangeWarning: source code of class 'torch.nn.modules.container.Sequential' has changed. you can retrieve the original source code by accessing the object's source attribute or set `torch.nn.Module.dump_patches = True` and use the patch tool to revert the changes.\n",
      "  warnings.warn(msg, SourceChangeWarning)\n",
      "/home/saxelrod/miniconda3/envs/htvs/lib/python3.7/site-packages/torch/serialization.py:658: SourceChangeWarning: source code of class 'nff.nn.layers.Dense' has changed. you can retrieve the original source code by accessing the object's source attribute or set `torch.nn.Module.dump_patches = True` and use the patch tool to revert the changes.\n",
      "  warnings.warn(msg, SourceChangeWarning)\n",
      "/home/saxelrod/miniconda3/envs/htvs/lib/python3.7/site-packages/torch/serialization.py:658: SourceChangeWarning: source code of class 'torch.nn.modules.dropout.Dropout' has changed. you can retrieve the original source code by accessing the object's source attribute or set `torch.nn.Module.dump_patches = True` and use the patch tool to revert the changes.\n",
      "  warnings.warn(msg, SourceChangeWarning)\n",
      "/home/saxelrod/miniconda3/envs/htvs/lib/python3.7/site-packages/torch/serialization.py:658: SourceChangeWarning: source code of class 'nff.nn.modules.schnet.NodeMultiTaskReadOut' has changed. you can retrieve the original source code by accessing the object's source attribute or set `torch.nn.Module.dump_patches = True` and use the patch tool to revert the changes.\n",
      "  warnings.warn(msg, SourceChangeWarning)\n",
      "/home/saxelrod/miniconda3/envs/htvs/lib/python3.7/site-packages/torch/serialization.py:658: SourceChangeWarning: source code of class 'torch.nn.modules.linear.Linear' has changed. you can retrieve the original source code by accessing the object's source attribute or set `torch.nn.Module.dump_patches = True` and use the patch tool to revert the changes.\n",
      "  warnings.warn(msg, SourceChangeWarning)\n"
     ]
    }
   ],
   "source": [
    "nff_ase = NeuralFF.from_file('sandbox/', device=0)"
   ]
  },
  {
   "cell_type": "markdown",
   "metadata": {},
   "source": [
    "Assigning this calculator to `atoms` is easy:"
   ]
  },
  {
   "cell_type": "code",
   "execution_count": 6,
   "metadata": {},
   "outputs": [],
   "source": [
    "atoms.set_calculator(nff_ase)"
   ]
  },
  {
   "cell_type": "markdown",
   "metadata": {},
   "source": [
    "### Configuring the dynamics for the system"
   ]
  },
  {
   "cell_type": "markdown",
   "metadata": {},
   "source": [
    "In this example, we will run an NVE dynamics simulation. We will use the default parameters there implemented to run a trajectory for an ethanol molecule. The parameters we will specify are the following:\n",
    "\n",
    "* `T_init`: initial temperature of the simulation\n",
    "* `time_step`: time step in femtoseconds\n",
    "* `thermostat`: ASE integrator to use when performing the simulation\n",
    "* `thermostat_params`: keyword arguments for ase.Integrator class, will be different case-by-case\n",
    "* `steps`: number of steps to simulate\n",
    "* `save_frequency`: how often (in steps) save the pose of the molecule in a file\n",
    "* `nbr_list_update_freq`: how often (in steps) to update the neighbor list (not yet implemented)\n",
    "* `thermo_filename`: output file for the thermodynamics log\n",
    "* `traj_filename`: output file for the ASE trajectory file\n",
    "* `skip`: number of initial frames to skip when recording the trajectory"
   ]
  },
  {
   "cell_type": "code",
   "execution_count": 7,
   "metadata": {},
   "outputs": [],
   "source": [
    "md_params = {\n",
    "    'T_init': 450,\n",
    "    'time_step': 0.5,\n",
    "#     'thermostat': NoseHoover,   # or Langevin or NPT or NVT or Thermodynamic Integration\n",
    "#     'thermostat_params': {'timestep': 0.5 * units.fs, \"temperature\": 120.0 * units.kB,  \"ttime\": 20.0}\n",
    "    'thermostat': VelocityVerlet,  \n",
    "    'thermostat_params': {'timestep': 0.5 * units.fs},\n",
    "    'steps': 200,\n",
    "    'save_frequency': 10,\n",
    "    'nbr_list_update_freq': 20,\n",
    "    'thermo_filename': 'thermo.log',\n",
    "    'traj_filename': 'atoms.traj',\n",
    "    'skip': 0\n",
    "}"
   ]
  },
  {
   "cell_type": "code",
   "execution_count": null,
   "metadata": {},
   "outputs": [],
   "source": []
  },
  {
   "cell_type": "code",
   "execution_count": 8,
   "metadata": {},
   "outputs": [
    {
     "name": "stdout",
     "output_type": "stream",
     "text": [
      "Time[ps]      Etot[eV]     Epot[eV]     Ekin[eV]    T[K]\n",
      "0.0000           0.4912      -0.1916       0.6827   586.9\n",
      "\n"
     ]
    },
    {
     "name": "stderr",
     "output_type": "stream",
     "text": [
      "/home/saxelrod/miniconda3/envs/htvs/lib/python3.7/site-packages/ase/atoms.py:921: VisibleDeprecationWarning: Use get_global_number_of_atoms() instead\n",
      "  np.VisibleDeprecationWarning)\n",
      "/home/saxelrod/Repo/projects/master/NeuralForceField/nff/nn/utils.py:120: UserWarning: This overload of nonzero is deprecated:\n",
      "\tnonzero()\n",
      "Consider using one of the following signatures instead:\n",
      "\tnonzero(*, bool as_tuple) (Triggered internally at  /opt/conda/conda-bld/pytorch_1603729138878/work/torch/csrc/utils/python_arg_parser.cpp:882.)\n",
      "  nbr_list = mask.nonzero()\n"
     ]
    },
    {
     "name": "stdout",
     "output_type": "stream",
     "text": [
      "0.0050           0.4907      -0.1218       0.6126   526.6\n",
      "\n",
      "0.0100           0.4907      -0.2675       0.7581   651.7\n",
      "\n",
      "0.0150           0.4931      -0.0414       0.5345   459.5\n",
      "\n",
      "0.0200           0.4931      -0.0746       0.5677   488.0\n",
      "\n",
      "0.0250           0.4939      -0.0384       0.5323   457.6\n",
      "\n",
      "0.0300           0.4920      -0.0283       0.5203   447.2\n",
      "\n",
      "0.0350           0.4925       0.0460       0.4465   383.8\n",
      "\n",
      "0.0400           0.4922      -0.0920       0.5842   502.1\n",
      "\n",
      "0.0450           0.4925       0.0348       0.4577   393.4\n",
      "\n",
      "0.0500           0.4930      -0.0101       0.5031   432.4\n",
      "\n",
      "0.0550           0.4935      -0.0357       0.5291   454.8\n",
      "\n",
      "0.0600           0.4918      -0.0757       0.5675   487.8\n",
      "\n",
      "0.0650           0.4905      -0.0489       0.5394   463.7\n",
      "\n",
      "0.0700           0.4919       0.0108       0.4811   413.5\n",
      "\n",
      "0.0750           0.4921      -0.0411       0.5333   458.4\n",
      "\n",
      "0.0800           0.4934       0.1537       0.3398   292.1\n",
      "\n",
      "0.0850           0.4937      -0.0264       0.5201   447.1\n",
      "\n",
      "0.0900           0.4941       0.0941       0.4000   343.8\n",
      "\n",
      "0.0950           0.4923      -0.0516       0.5440   467.6\n",
      "\n",
      "0.1000           0.4921      -0.0148       0.5069   435.7\n",
      "\n"
     ]
    }
   ],
   "source": [
    "nve = Dynamics(atoms, md_params)\n",
    "nve.run()"
   ]
  },
  {
   "cell_type": "markdown",
   "metadata": {},
   "source": [
    "### Models with directed neighbor lists"
   ]
  },
  {
   "cell_type": "markdown",
   "metadata": {},
   "source": [
    "The default assumes that you're using SchNet, which uses an undirected neighbor list to save memory. If you're using Painn, DimeNet, or any model with directional information, you will need a directed neighbor list. If you don't specify this then you will get an error. \n",
    "\n",
    "While these models automatically make any neighbor list into a directed one when called, the same is not true of periodic boundary conditions. The dataest offsets from the PBC depend on whether the dataset neighbor list is directed or not."
   ]
  },
  {
   "cell_type": "code",
   "execution_count": 9,
   "metadata": {},
   "outputs": [
    {
     "name": "stdout",
     "output_type": "stream",
     "text": [
      "Time[ps]      Etot[eV]     Epot[eV]     Ekin[eV]    T[K]\n",
      "Painn needs a directed neighbor list\n"
     ]
    }
   ],
   "source": [
    "props = dataset[0].copy()\n",
    "atoms = AtomsBatch(positions=props['nxyz'][:, 1:], \n",
    "                   numbers=props['nxyz'][:, 0], \n",
    "                   props=props,\n",
    "                   )\n",
    "nff_ase = NeuralFF.from_file('sandbox_painn/', device=0)\n",
    "atoms.set_calculator(nff_ase)\n",
    "\n",
    "try:\n",
    "    nve = Dynamics(atoms, md_params)\n",
    "    nve.run()\n",
    "except Exception as e:\n",
    "    print(e)"
   ]
  },
  {
   "cell_type": "markdown",
   "metadata": {},
   "source": [
    "If you do then you will be fine!"
   ]
  },
  {
   "cell_type": "code",
   "execution_count": 10,
   "metadata": {},
   "outputs": [
    {
     "name": "stdout",
     "output_type": "stream",
     "text": [
      "Time[ps]      Etot[eV]     Epot[eV]     Ekin[eV]    T[K]\n",
      "0.0000           0.3289      -0.1615       0.4904   421.5\n",
      "\n",
      "0.0050           0.3281      -0.0909       0.4190   360.1\n",
      "\n",
      "0.0100           0.3284      -0.2482       0.5766   495.6\n",
      "\n",
      "0.0150           0.3281      -0.0493       0.3774   324.5\n",
      "\n",
      "0.0200           0.3307       0.0222       0.3085   265.2\n",
      "\n",
      "0.0250           0.3314      -0.1050       0.4364   375.1\n",
      "\n",
      "0.0300           0.3315       0.0617       0.2698   231.9\n",
      "\n",
      "0.0350           0.3285      -0.0881       0.4166   358.1\n",
      "\n",
      "0.0400           0.3284      -0.3012       0.6296   541.2\n",
      "\n",
      "0.0450           0.3273      -0.2460       0.5734   492.9\n",
      "\n",
      "0.0500           0.3282      -0.0552       0.3834   329.6\n",
      "\n",
      "0.0550           0.3309      -0.0851       0.4160   357.6\n",
      "\n",
      "0.0600           0.3311      -0.2226       0.5536   475.9\n",
      "\n",
      "0.0650           0.3326       0.0409       0.2917   250.8\n",
      "\n",
      "0.0700           0.3326      -0.0412       0.3737   321.2\n",
      "\n",
      "0.0750           0.3304      -0.0243       0.3547   304.9\n",
      "\n",
      "0.0800           0.3276      -0.0426       0.3702   318.2\n",
      "\n",
      "0.0850           0.3297      -0.1333       0.4630   398.0\n",
      "\n",
      "0.0900           0.3270      -0.3645       0.6915   594.4\n",
      "\n",
      "0.0950           0.3276      -0.0534       0.3809   327.5\n",
      "\n",
      "0.1000           0.3288      -0.1401       0.4688   403.0\n",
      "\n"
     ]
    }
   ],
   "source": [
    "props = dataset[0].copy()\n",
    "atoms = AtomsBatch(positions=props['nxyz'][:, 1:], \n",
    "                   numbers=props['nxyz'][:, 0], \n",
    "                   props=props,\n",
    "                   directed=True\n",
    "                   )\n",
    "nff_ase = NeuralFF.from_file('sandbox_painn/', device=0)\n",
    "atoms.set_calculator(nff_ase)\n",
    "\n",
    "nve = Dynamics(atoms, md_params)\n",
    "nve.run()"
   ]
  },
  {
   "cell_type": "code",
   "execution_count": null,
   "metadata": {},
   "outputs": [],
   "source": []
  },
  {
   "cell_type": "markdown",
   "metadata": {},
   "source": [
    "The dynamics conserved the energy. The temperature varied throughout the simulation, as expected."
   ]
  },
  {
   "cell_type": "markdown",
   "metadata": {},
   "source": [
    "# Additional properties"
   ]
  },
  {
   "cell_type": "markdown",
   "metadata": {},
   "source": [
    "You can also specify the properties that you want the calculator to predict. The default is `energy` and `forces`, but you can also add `stress`.\n",
    "\n",
    "However, if you run this for ethanol you will get an error, because it doesn't have any lattice vectors:"
   ]
  },
  {
   "cell_type": "code",
   "execution_count": 11,
   "metadata": {},
   "outputs": [
    {
     "name": "stdout",
     "output_type": "stream",
     "text": [
      "Time[ps]      Etot[eV]     Epot[eV]     Ekin[eV]    T[K]\n",
      "0.0000           0.4323      -0.1401       0.5723   492.0\n",
      "\n",
      "You have 0 lattice vectors: volume not defined\n"
     ]
    }
   ],
   "source": [
    "nff_ase.properties = ['energy', 'forces', 'stress']\n",
    "atoms.set_calculator(nff_ase)\n",
    "\n",
    "try:\n",
    "    nve = Dynamics(atoms, md_params)\n",
    "    nve.run()\n",
    "except Exception as e:\n",
    "    print(e)"
   ]
  },
  {
   "cell_type": "markdown",
   "metadata": {},
   "source": [
    "If we make an artificial unit cell, it all works fine:"
   ]
  },
  {
   "cell_type": "code",
   "execution_count": 12,
   "metadata": {},
   "outputs": [
    {
     "name": "stdout",
     "output_type": "stream",
     "text": [
      "Time[ps]      Etot[eV]     Epot[eV]     Ekin[eV]    T[K]\n",
      "0.0000           0.4550      -0.1566       0.6116   525.7\n",
      "\n",
      "0.0050           0.4557       0.0643       0.3914   336.5\n",
      "\n",
      "0.0100           0.4552      -0.0342       0.4894   420.7\n",
      "\n",
      "0.0150           0.4569      -0.0333       0.4902   421.4\n",
      "\n",
      "0.0200           0.4556      -0.0448       0.5003   430.1\n",
      "\n",
      "0.0250           0.4554      -0.0607       0.5160   443.6\n",
      "\n",
      "0.0300           0.4555       0.0376       0.4179   359.2\n",
      "\n",
      "0.0350           0.4535      -0.1467       0.6002   515.9\n",
      "\n",
      "0.0400           0.4537      -0.2165       0.6702   576.1\n",
      "\n",
      "0.0450           0.4550      -0.0728       0.5278   453.7\n",
      "\n",
      "0.0500           0.4545      -0.1732       0.6277   539.5\n",
      "\n",
      "0.0550           0.4554      -0.1396       0.5949   511.4\n",
      "\n",
      "0.0600           0.4562      -0.0454       0.5016   431.2\n",
      "\n",
      "0.0650           0.4553      -0.0909       0.5462   469.5\n",
      "\n",
      "0.0700           0.4556      -0.0788       0.5344   459.3\n",
      "\n",
      "0.0750           0.4546      -0.2364       0.6910   594.0\n",
      "\n",
      "0.0800           0.4562      -0.0376       0.4938   424.5\n",
      "\n",
      "0.0850           0.4560      -0.1929       0.6489   557.8\n",
      "\n",
      "0.0900           0.4562      -0.1215       0.5777   496.6\n",
      "\n",
      "0.0950           0.4533      -0.1331       0.5864   504.1\n",
      "\n",
      "0.1000           0.4554      -0.0454       0.5008   430.5\n",
      "\n"
     ]
    }
   ],
   "source": [
    "nff_ase.properties = ['energy', 'forces', 'stress']\n",
    "atoms.set_calculator(nff_ase)\n",
    "atoms.set_cell(2 * np.identity(3))\n",
    "nve = Dynamics(atoms, md_params)\n",
    "nve.run()\n",
    "\n"
   ]
  },
  {
   "cell_type": "markdown",
   "metadata": {},
   "source": [
    "Since `stress` is an implemented property, we can get the stress on the atoms:"
   ]
  },
  {
   "cell_type": "code",
   "execution_count": 13,
   "metadata": {},
   "outputs": [
    {
     "data": {
      "text/plain": [
       "array([0.27654982, 0.19260846, 0.5454004 , 0.23866758, 0.10975268,\n",
       "       0.25836495], dtype=float32)"
      ]
     },
     "execution_count": 13,
     "metadata": {},
     "output_type": "execute_result"
    }
   ],
   "source": [
    "atoms.get_stress()"
   ]
  },
  {
   "cell_type": "markdown",
   "metadata": {},
   "source": [
    "## Visualizing the trajectory"
   ]
  },
  {
   "cell_type": "markdown",
   "metadata": {},
   "source": [
    "To visualize the trajectory in this Jupyter Notebook, you will have to install the package [nglview](https://github.com/arose/nglview)."
   ]
  },
  {
   "cell_type": "code",
   "execution_count": 14,
   "metadata": {},
   "outputs": [
    {
     "data": {
      "application/vnd.jupyter.widget-view+json": {
       "model_id": "7cdb45e797ec40c2b1ae5f5f37443ac0",
       "version_major": 2,
       "version_minor": 0
      },
      "text/plain": []
     },
     "metadata": {},
     "output_type": "display_data"
    }
   ],
   "source": [
    "import nglview as nv\n",
    "from ase.io import Trajectory"
   ]
  },
  {
   "cell_type": "markdown",
   "metadata": {},
   "source": [
    "Displaying the trajectory:"
   ]
  },
  {
   "cell_type": "code",
   "execution_count": 15,
   "metadata": {},
   "outputs": [
    {
     "data": {
      "application/vnd.jupyter.widget-view+json": {
       "model_id": "954c8befb9444ee2922739486a754c1a",
       "version_major": 2,
       "version_minor": 0
      },
      "text/plain": [
       "NGLWidget(max_frame=20)"
      ]
     },
     "metadata": {},
     "output_type": "display_data"
    }
   ],
   "source": [
    "%matplotlib notebook\n",
    "\n",
    "traj = Trajectory('atoms.traj')\n",
    "nv.show_asetraj(traj)"
   ]
  },
  {
   "cell_type": "markdown",
   "metadata": {},
   "source": [
    "Looks like the atoms are still together. Visual inspection says that the trajectory is reasonable. Yay for `nff`!"
   ]
  }
 ],
 "metadata": {
  "kernelspec": {
   "display_name": "Python [conda env:nff_new]",
   "language": "python",
   "name": "nff_new"
  },
  "language_info": {
   "codemirror_mode": {
    "name": "ipython",
    "version": 3
   },
   "file_extension": ".py",
   "mimetype": "text/x-python",
   "name": "python",
   "nbconvert_exporter": "python",
   "pygments_lexer": "ipython3",
   "version": "3.7.7"
  }
 },
 "nbformat": 4,
 "nbformat_minor": 2
}
