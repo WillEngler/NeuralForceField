{
 "cells": [
  {
   "cell_type": "code",
   "execution_count": 1,
   "metadata": {},
   "outputs": [],
   "source": [
    "%load_ext autoreload\n",
    "%autoreload 2\n",
    "    "
   ]
  },
  {
   "cell_type": "markdown",
   "metadata": {},
   "source": [
    "# Running MD simulations using nff and ASE"
   ]
  },
  {
   "cell_type": "markdown",
   "metadata": {},
   "source": [
    "This Jupyter Notebook shows how the `nff` package interfaces with the Atomistic Simulation Environment (ASE). We assume the user went through tutorial `01_training`, so we can load the pretrained models without having to train them again."
   ]
  },
  {
   "cell_type": "markdown",
   "metadata": {},
   "source": [
    "As before, importing the dependencies:"
   ]
  },
  {
   "cell_type": "code",
   "execution_count": 2,
   "metadata": {},
   "outputs": [],
   "source": [
    "import numpy as np\n",
    "import matplotlib.pyplot as plt\n",
    "\n",
    "import torch\n",
    "from ase import Atoms\n",
    "from ase.md.verlet import VelocityVerlet\n",
    "\n",
    "from nff.md.nve import Dynamics\n",
    "from nff.data import Dataset\n",
    "from nff.train import load_model, evaluate\n",
    "import nff.utils.constants as const\n",
    "from ase import units\n",
    "from nff.io import NeuralFF, AtomsBatch"
   ]
  },
  {
   "cell_type": "markdown",
   "metadata": {},
   "source": [
    "## Loading the relevant data"
   ]
  },
  {
   "cell_type": "markdown",
   "metadata": {},
   "source": [
    "We reload the dataset and create a `GraphLoader` as we did last time:"
   ]
  },
  {
   "cell_type": "code",
   "execution_count": 3,
   "metadata": {},
   "outputs": [],
   "source": [
    "dataset = Dataset.from_file('data/dataset.pth.tar')\n"
   ]
  },
  {
   "cell_type": "markdown",
   "metadata": {},
   "source": [
    "### Creating Atoms"
   ]
  },
  {
   "cell_type": "markdown",
   "metadata": {},
   "source": [
    "As before, we can create an `Atoms` object from any element of the dataset. Let's take the first one, for simplicity:"
   ]
  },
  {
   "cell_type": "code",
   "execution_count": 4,
   "metadata": {},
   "outputs": [],
   "source": [
    "props = dataset[0].copy()\n",
    "atoms = AtomsBatch(positions=props['nxyz'][:, 1:], \n",
    "                   numbers=props['nxyz'][:, 0], \n",
    "                   props=props\n",
    "                   )\n"
   ]
  },
  {
   "cell_type": "markdown",
   "metadata": {},
   "source": [
    "### Creating the ASE calculator"
   ]
  },
  {
   "cell_type": "markdown",
   "metadata": {},
   "source": [
    "Now we just have to load the ASE calculator from a pretrained model. One way of doing so is through the in-build `from_file` method. You just have to specify the folder where the model was trained and subsequently stored."
   ]
  },
  {
   "cell_type": "code",
   "execution_count": 5,
   "metadata": {},
   "outputs": [
    {
     "name": "stderr",
     "output_type": "stream",
     "text": [
      "/home/saxelrod/miniconda3/envs/htvs/lib/python3.7/site-packages/torch/serialization.py:658: SourceChangeWarning: source code of class 'nff.nn.models.schnet.SchNet' has changed. you can retrieve the original source code by accessing the object's source attribute or set `torch.nn.Module.dump_patches = True` and use the patch tool to revert the changes.\n",
      "  warnings.warn(msg, SourceChangeWarning)\n",
      "/home/saxelrod/miniconda3/envs/htvs/lib/python3.7/site-packages/torch/serialization.py:658: SourceChangeWarning: source code of class 'torch.nn.modules.sparse.Embedding' has changed. you can retrieve the original source code by accessing the object's source attribute or set `torch.nn.Module.dump_patches = True` and use the patch tool to revert the changes.\n",
      "  warnings.warn(msg, SourceChangeWarning)\n",
      "/home/saxelrod/miniconda3/envs/htvs/lib/python3.7/site-packages/torch/serialization.py:658: SourceChangeWarning: source code of class 'torch.nn.modules.container.ModuleList' has changed. you can retrieve the original source code by accessing the object's source attribute or set `torch.nn.Module.dump_patches = True` and use the patch tool to revert the changes.\n",
      "  warnings.warn(msg, SourceChangeWarning)\n",
      "/home/saxelrod/miniconda3/envs/htvs/lib/python3.7/site-packages/torch/serialization.py:658: SourceChangeWarning: source code of class 'torch.nn.modules.container.ModuleDict' has changed. you can retrieve the original source code by accessing the object's source attribute or set `torch.nn.Module.dump_patches = True` and use the patch tool to revert the changes.\n",
      "  warnings.warn(msg, SourceChangeWarning)\n",
      "/home/saxelrod/miniconda3/envs/htvs/lib/python3.7/site-packages/torch/serialization.py:658: SourceChangeWarning: source code of class 'torch.nn.modules.container.Sequential' has changed. you can retrieve the original source code by accessing the object's source attribute or set `torch.nn.Module.dump_patches = True` and use the patch tool to revert the changes.\n",
      "  warnings.warn(msg, SourceChangeWarning)\n",
      "/home/saxelrod/miniconda3/envs/htvs/lib/python3.7/site-packages/torch/serialization.py:658: SourceChangeWarning: source code of class 'nff.nn.layers.Dense' has changed. you can retrieve the original source code by accessing the object's source attribute or set `torch.nn.Module.dump_patches = True` and use the patch tool to revert the changes.\n",
      "  warnings.warn(msg, SourceChangeWarning)\n",
      "/home/saxelrod/miniconda3/envs/htvs/lib/python3.7/site-packages/torch/serialization.py:658: SourceChangeWarning: source code of class 'torch.nn.modules.dropout.Dropout' has changed. you can retrieve the original source code by accessing the object's source attribute or set `torch.nn.Module.dump_patches = True` and use the patch tool to revert the changes.\n",
      "  warnings.warn(msg, SourceChangeWarning)\n",
      "/home/saxelrod/miniconda3/envs/htvs/lib/python3.7/site-packages/torch/serialization.py:658: SourceChangeWarning: source code of class 'nff.nn.modules.schnet.NodeMultiTaskReadOut' has changed. you can retrieve the original source code by accessing the object's source attribute or set `torch.nn.Module.dump_patches = True` and use the patch tool to revert the changes.\n",
      "  warnings.warn(msg, SourceChangeWarning)\n",
      "/home/saxelrod/miniconda3/envs/htvs/lib/python3.7/site-packages/torch/serialization.py:658: SourceChangeWarning: source code of class 'torch.nn.modules.linear.Linear' has changed. you can retrieve the original source code by accessing the object's source attribute or set `torch.nn.Module.dump_patches = True` and use the patch tool to revert the changes.\n",
      "  warnings.warn(msg, SourceChangeWarning)\n"
     ]
    }
   ],
   "source": [
    "nff_ase = NeuralFF.from_file('sandbox/', device=0)"
   ]
  },
  {
   "cell_type": "markdown",
   "metadata": {},
   "source": [
    "Assigning this calculator to `atoms` is easy:"
   ]
  },
  {
   "cell_type": "code",
   "execution_count": 6,
   "metadata": {},
   "outputs": [],
   "source": [
    "atoms.set_calculator(nff_ase)"
   ]
  },
  {
   "cell_type": "markdown",
   "metadata": {},
   "source": [
    "### Configuring the dynamics for the system"
   ]
  },
  {
   "cell_type": "markdown",
   "metadata": {},
   "source": [
    "In this example, we will run an NVE dynamics simulation. We will use the default parameters there implemented to run a trajectory for an ethanol molecule. The parameters we will specify are the following:\n",
    "\n",
    "* `T_init`: initial temperature of the simulation\n",
    "* `time_step`: time step in femtoseconds\n",
    "* `thermostat`: ASE integrator to use when performing the simulation\n",
    "* `thermostat_params`: keyword arguments for ase.Integrator class, will be different case-by-case\n",
    "* `steps`: number of steps to simulate\n",
    "* `save_frequency`: how often (in steps) save the pose of the molecule in a file\n",
    "* `nbr_list_update_freq`: how often (in steps) to update the neighbor list (not yet implemented)\n",
    "* `thermo_filename`: output file for the thermodynamics log\n",
    "* `traj_filename`: output file for the ASE trajectory file\n",
    "* `skip`: number of initial frames to skip when recording the trajectory"
   ]
  },
  {
   "cell_type": "code",
   "execution_count": 7,
   "metadata": {},
   "outputs": [],
   "source": [
    "md_params = {\n",
    "    'T_init': 450,\n",
    "    'time_step': 0.5,\n",
    "#     'thermostat': NoseHoover,   # or Langevin or NPT or NVT or Thermodynamic Integration\n",
    "#     'thermostat_params': {'timestep': 0.5 * units.fs, \"temperature\": 120.0 * units.kB,  \"ttime\": 20.0}\n",
    "    'thermostat': VelocityVerlet,  \n",
    "    'thermostat_params': {'timestep': 0.5 * units.fs},\n",
    "    'steps': 200,\n",
    "    'save_frequency': 10,\n",
    "    'nbr_list_update_freq': 3,\n",
    "    'thermo_filename': 'thermo.log',\n",
    "    'traj_filename': 'atoms.traj',\n",
    "    'skip': 0\n",
    "}"
   ]
  },
  {
   "cell_type": "code",
   "execution_count": null,
   "metadata": {},
   "outputs": [],
   "source": []
  },
  {
   "cell_type": "code",
   "execution_count": 8,
   "metadata": {},
   "outputs": [
    {
     "name": "stdout",
     "output_type": "stream",
     "text": [
      "Time[ps]      Etot[eV]     Epot[eV]     Ekin[eV]    T[K]\n",
      "0.0000           0.4920      -0.1916       0.6836   587.6\n",
      "\n"
     ]
    },
    {
     "name": "stderr",
     "output_type": "stream",
     "text": [
      "/home/saxelrod/miniconda3/envs/htvs/lib/python3.7/site-packages/ase/atoms.py:921: VisibleDeprecationWarning: Use get_global_number_of_atoms() instead\n",
      "  np.VisibleDeprecationWarning)\n",
      "/home/saxelrod/Repo/projects/master/NeuralForceField/nff/nn/utils.py:121: UserWarning: This overload of nonzero is deprecated:\n",
      "\tnonzero()\n",
      "Consider using one of the following signatures instead:\n",
      "\tnonzero(*, bool as_tuple) (Triggered internally at  /opt/conda/conda-bld/pytorch_1603729138878/work/torch/csrc/utils/python_arg_parser.cpp:882.)\n",
      "  nbr_list = mask.nonzero()\n"
     ]
    },
    {
     "name": "stdout",
     "output_type": "stream",
     "text": [
      "0.0050           0.4901      -0.1788       0.6688   574.9\n",
      "\n",
      "0.0100           0.4974       0.0966       0.4008   344.5\n",
      "\n",
      "0.0150           0.4990      -0.0012       0.5002   430.0\n",
      "\n",
      "0.0200           0.4973      -0.0424       0.5397   463.9\n",
      "\n",
      "0.0250           0.4940      -0.0835       0.5776   496.5\n",
      "\n",
      "0.0300           0.4943      -0.0843       0.5786   497.4\n",
      "\n",
      "0.0350           0.4891      -0.3113       0.8004   688.0\n",
      "\n",
      "0.0400           0.4892      -0.1262       0.6153   528.9\n",
      "\n",
      "0.0450           0.4943      -0.0209       0.5153   442.9\n",
      "\n",
      "0.0500           0.4930      -0.0722       0.5653   485.9\n",
      "\n",
      "0.0550           0.4974       0.1738       0.3236   278.2\n",
      "\n",
      "0.0600           0.4982      -0.0124       0.5106   438.9\n",
      "\n",
      "0.0650           0.4964       0.0187       0.4776   410.6\n",
      "\n",
      "0.0700           0.4899      -0.1569       0.6467   555.9\n",
      "\n",
      "0.0750           0.4913      -0.1833       0.6746   579.9\n",
      "\n",
      "0.0800           0.4940      -0.1534       0.6474   556.5\n",
      "\n",
      "0.0850           0.4915      -0.1513       0.6428   552.6\n",
      "\n",
      "0.0900           0.4969       0.0823       0.4147   356.4\n",
      "\n",
      "0.0950           0.4993      -0.0996       0.5989   514.8\n",
      "\n"
     ]
    }
   ],
   "source": [
    "nve = Dynamics(atoms, md_params)\n",
    "nve.run()"
   ]
  },
  {
   "cell_type": "markdown",
   "metadata": {},
   "source": [
    "### Models with directed neighbor lists"
   ]
  },
  {
   "cell_type": "markdown",
   "metadata": {},
   "source": [
    "The default assumes that you're using SchNet, which uses an undirected neighbor list to save memory. If you're using Painn, DimeNet, or any model with directional information, you will need a directed neighbor list. If you don't specify this then you will get an error. \n",
    "\n",
    "While these models automatically make any neighbor list into a directed one when called, the same is not true of periodic boundary conditions. The dataest offsets from the PBC depend on whether the dataset neighbor list is directed or not."
   ]
  },
  {
   "cell_type": "code",
   "execution_count": 9,
   "metadata": {},
   "outputs": [
    {
     "name": "stdout",
     "output_type": "stream",
     "text": [
      "Time[ps]      Etot[eV]     Epot[eV]     Ekin[eV]    T[K]\n",
      "Painn needs a directed neighbor list\n"
     ]
    }
   ],
   "source": [
    "props = dataset[0].copy()\n",
    "atoms = AtomsBatch(positions=props['nxyz'][:, 1:], \n",
    "                   numbers=props['nxyz'][:, 0], \n",
    "                   props=props,\n",
    "                   )\n",
    "nff_ase = NeuralFF.from_file('sandbox_painn/', device=0)\n",
    "atoms.set_calculator(nff_ase)\n",
    "\n",
    "try:\n",
    "    nve = Dynamics(atoms, md_params)\n",
    "    nve.run()\n",
    "except Exception as e:\n",
    "    print(e)"
   ]
  },
  {
   "cell_type": "markdown",
   "metadata": {},
   "source": [
    "If you do then you will be fine!"
   ]
  },
  {
   "cell_type": "code",
   "execution_count": 10,
   "metadata": {},
   "outputs": [
    {
     "name": "stdout",
     "output_type": "stream",
     "text": [
      "Time[ps]      Etot[eV]     Epot[eV]     Ekin[eV]    T[K]\n",
      "0.0000           0.5966      -0.1615       0.7581   651.7\n",
      "\n",
      "0.0050           0.5971      -0.2297       0.8268   710.7\n",
      "\n",
      "0.0100           0.5993      -0.0914       0.6907   593.7\n",
      "\n",
      "0.0150           0.5980      -0.0264       0.6244   536.7\n",
      "\n",
      "0.0200           0.5991      -0.1291       0.7282   625.9\n",
      "\n",
      "0.0250           0.5994      -0.0903       0.6897   592.9\n",
      "\n",
      "0.0300           0.5984      -0.0981       0.6965   598.7\n",
      "\n",
      "0.0350           0.5987      -0.0813       0.6799   584.5\n",
      "\n",
      "0.0400           0.5984      -0.1087       0.7072   607.9\n",
      "\n",
      "0.0450           0.5979      -0.1205       0.7184   617.6\n",
      "\n",
      "0.0500           0.5986      -0.0450       0.6437   553.3\n",
      "\n",
      "0.0550           0.5981      -0.2268       0.8249   709.0\n",
      "\n",
      "0.0600           0.5962      -0.2912       0.8874   762.8\n",
      "\n",
      "0.0650           0.5986      -0.0123       0.6109   525.2\n",
      "\n",
      "0.0700           0.5975      -0.1596       0.7570   650.8\n",
      "\n",
      "0.0750           0.5988      -0.0462       0.6450   554.4\n",
      "\n",
      "0.0800           0.6005       0.0464       0.5542   476.4\n",
      "\n",
      "0.0850           0.5998      -0.0627       0.6624   569.4\n",
      "\n",
      "0.0900           0.6000      -0.1026       0.7026   603.9\n",
      "\n",
      "0.0950           0.6009      -0.0665       0.6674   573.7\n",
      "\n"
     ]
    }
   ],
   "source": [
    "props = dataset[0].copy()\n",
    "atoms = AtomsBatch(positions=props['nxyz'][:, 1:], \n",
    "                   numbers=props['nxyz'][:, 0], \n",
    "                   props=props,\n",
    "                   directed=True)\n",
    "nff_ase = NeuralFF.from_file('sandbox_painn/', device=0)\n",
    "atoms.set_calculator(nff_ase)\n",
    "\n",
    "nve = Dynamics(atoms, md_params)\n",
    "\n",
    "try:\n",
    "    nve.run()\n",
    "except Exception as e:\n",
    "    print(e)\n",
    "    import pdb\n",
    "    pdb.post_mortem()"
   ]
  },
  {
   "cell_type": "code",
   "execution_count": null,
   "metadata": {},
   "outputs": [],
   "source": []
  },
  {
   "cell_type": "markdown",
   "metadata": {},
   "source": [
    "The dynamics conserved the energy. The temperature varied throughout the simulation, as expected."
   ]
  },
  {
   "cell_type": "markdown",
   "metadata": {},
   "source": [
    "# Additional properties and options"
   ]
  },
  {
   "cell_type": "markdown",
   "metadata": {},
   "source": [
    "You can also specify the properties that you want the calculator to predict. The default is `energy` and `forces`, but you can also add `stress`.\n",
    "\n",
    "However, if you run this for ethanol you will get an error, because it doesn't have any lattice vectors:"
   ]
  },
  {
   "cell_type": "code",
   "execution_count": 11,
   "metadata": {},
   "outputs": [
    {
     "name": "stdout",
     "output_type": "stream",
     "text": [
      "Time[ps]      Etot[eV]     Epot[eV]     Ekin[eV]    T[K]      ---------------------- stress [GPa] -----------------------\n",
      "You have 0 lattice vectors: volume not defined\n"
     ]
    }
   ],
   "source": [
    "nff_ase.properties = ['energy', 'forces', 'stress']\n",
    "atoms.set_calculator(nff_ase)\n",
    "\n",
    "try:\n",
    "    nve = Dynamics(atoms, md_params)\n",
    "    nve.run()\n",
    "except Exception as e:\n",
    "    print(e)"
   ]
  },
  {
   "cell_type": "markdown",
   "metadata": {},
   "source": [
    "If we make an artificial unit cell, it all works fine:"
   ]
  },
  {
   "cell_type": "code",
   "execution_count": 12,
   "metadata": {},
   "outputs": [
    {
     "name": "stdout",
     "output_type": "stream",
     "text": [
      "Time[ps]      Etot[eV]     Epot[eV]     Ekin[eV]    T[K]      ---------------------- stress [GPa] -----------------------\n",
      "0.0000           0.4434      -0.0888       0.5322   457.5     15.528     29.909     55.015      0.639    -29.884    -28.244\n",
      "\n",
      "0.0050           0.4444       0.0253       0.4192   360.3     56.424     31.878    -36.799     34.077     -3.453    -68.015\n",
      "\n",
      "0.0100           0.4448      -0.0264       0.4712   405.1    -18.224    -11.406     -9.799    -24.066    -14.712     16.169\n",
      "\n",
      "0.0150           0.4430      -0.1227       0.5657   486.3     21.704     19.513     58.857    -24.071    -26.487     17.447\n",
      "\n",
      "0.0200           0.4414      -0.0477       0.4891   420.4    -60.570    -47.979    -37.840      3.866     32.923     49.813\n",
      "\n",
      "0.0250           0.4441      -0.0523       0.4964   426.7    -37.065     65.320     82.556     -7.451     19.073      1.422\n",
      "\n",
      "0.0300           0.4426      -0.3040       0.7466   641.8    -14.836    -13.776    -71.491     39.054     27.461    -39.897\n",
      "\n",
      "0.0350           0.4438      -0.0624       0.5062   435.1     72.381     -0.901     61.156    -26.991    -35.985    -16.102\n",
      "\n",
      "0.0400           0.4451       0.0081       0.4369   375.6     94.001    -23.254    -23.845     22.224    -26.680    -29.193\n",
      "\n",
      "0.0450           0.4455      -0.0689       0.5143   442.1     68.838      5.276     10.052    -30.960     -7.693     19.065\n",
      "\n",
      "0.0500           0.4448      -0.0674       0.5122   440.3     43.173     33.913     10.718     39.219     23.959     22.983\n",
      "\n",
      "0.0550           0.4451      -0.0368       0.4819   414.3    -57.025     10.404    -37.677    -26.165     61.479     61.922\n",
      "\n",
      "0.0600           0.4471       0.0697       0.3773   324.4    -12.393     18.327     47.389     -6.787    -52.931    -26.146\n",
      "\n",
      "0.0650           0.4458      -0.0554       0.5012   430.9    -95.038    -66.625    -17.235      9.671     -0.393    -47.909\n",
      "\n",
      "0.0700           0.4450      -0.2635       0.7084   609.0     22.343     30.058     47.140    -21.151    -42.289    -37.267\n",
      "\n",
      "0.0750           0.4428      -0.1316       0.5744   493.8      8.917    -25.617    -44.301     34.071     28.599     20.896\n",
      "\n",
      "0.0800           0.4442      -0.0817       0.5259   452.1     70.565     62.596     33.626    -35.878     28.807     46.056\n",
      "\n",
      "0.0850           0.4451      -0.1932       0.6383   548.7     62.978      7.076     22.605     16.833      5.869     31.617\n",
      "\n",
      "0.0900           0.4452      -0.0529       0.4982   428.2     -4.283     37.094      0.818     20.673    -23.215    -15.029\n",
      "\n",
      "0.0950           0.4474       0.0541       0.3933   338.1    -37.198     -4.066     26.583      0.625    -48.301    -42.607\n",
      "\n"
     ]
    }
   ],
   "source": [
    "nff_ase.properties = ['energy', 'forces', 'stress']\n",
    "atoms.set_calculator(nff_ase)\n",
    "atoms.set_cell(2 * np.identity(3))\n",
    "nve = Dynamics(atoms, md_params)\n",
    "nve.run()\n",
    "\n"
   ]
  },
  {
   "cell_type": "markdown",
   "metadata": {},
   "source": [
    "Since `stress` is an implemented property, we can get the stress on the atoms:"
   ]
  },
  {
   "cell_type": "code",
   "execution_count": 13,
   "metadata": {},
   "outputs": [
    {
     "data": {
      "text/plain": [
       "array([-0.64447266, -0.11506233, -0.39281893,  0.06315393,  0.099292  ,\n",
       "       -0.2362834 ], dtype=float32)"
      ]
     },
     "execution_count": 13,
     "metadata": {},
     "output_type": "execute_result"
    }
   ],
   "source": [
    "atoms.get_stress()"
   ]
  },
  {
   "cell_type": "markdown",
   "metadata": {},
   "source": [
    "You can additionally request larger offsets for periodic structures than the default. To do so, use `requires_large_offsets=True` when making the atoms:"
   ]
  },
  {
   "cell_type": "code",
   "execution_count": 14,
   "metadata": {},
   "outputs": [],
   "source": [
    "lattice = [[1.155363155, 0.0, 0.0], \n",
    "           [0.0, 1.155363155, 0.0], \n",
    "           [0.0, 0.0, 1.07085842]]\n",
    "\n",
    "# default of `requires_large_offsets` is False\n",
    "old_atoms = AtomsBatch(positions=props['nxyz'][:, 1:], \n",
    "                       numbers=props['nxyz'][:, 0], \n",
    "                       props=props,\n",
    "                       cell=lattice,\n",
    "                       pbc=True\n",
    "                       )\n",
    "\n",
    "new_atoms = AtomsBatch(positions=props['nxyz'][:, 1:], \n",
    "                       numbers=props['nxyz'][:, 0], \n",
    "                       props=props,\n",
    "                       requires_large_offsets=True,\n",
    "                       cell=lattice,\n",
    "                       pbc=True\n",
    "                       )"
   ]
  },
  {
   "cell_type": "code",
   "execution_count": null,
   "metadata": {},
   "outputs": [],
   "source": []
  },
  {
   "cell_type": "markdown",
   "metadata": {},
   "source": [
    "If we compare the offsets in the new and old `atoms` objects, we see that there are differences:"
   ]
  },
  {
   "cell_type": "code",
   "execution_count": 15,
   "metadata": {},
   "outputs": [
    {
     "name": "stdout",
     "output_type": "stream",
     "text": [
      "False\n",
      "tensor(indices=tensor([[ 0,  0,  1,  1,  2,  2,  3,  4,  5,  5,  5,  6,  6,  7,\n",
      "                         7,  8,  9,  9, 10, 10, 10, 11, 11, 12, 12, 13, 13, 14,\n",
      "                        15, 15, 16, 16, 16, 17, 17, 18, 18, 18, 19, 19, 19, 20,\n",
      "                        21, 22, 22, 23, 23, 24, 24, 24, 25, 25, 26, 26, 27, 27,\n",
      "                        27, 28, 28, 29, 29, 29, 30, 30, 30, 31, 31, 31, 32, 33,\n",
      "                        34, 34, 35, 35, 35],\n",
      "                       [ 0,  1,  0,  1,  1,  2,  2,  0,  0,  1,  2,  0,  1,  0,\n",
      "                         2,  0,  0,  1,  0,  1,  2,  0,  1,  1,  2,  1,  2,  0,\n",
      "                         0,  1,  0,  1,  2,  0,  1,  0,  1,  2,  0,  1,  2,  2,\n",
      "                         2,  0,  1,  0,  1,  0,  1,  2,  0,  1,  0,  2,  0,  1,\n",
      "                         2,  0,  1,  0,  1,  2,  0,  1,  2,  0,  1,  2,  0,  2,\n",
      "                         0,  1,  0,  1,  2]]),\n",
      "       values=tensor([ 1.1554,  1.1554, -1.1554,  1.1554, -1.1554,  1.0709,\n",
      "                      -1.0709,  1.1554,  1.1554,  1.1554,  1.0709,  1.1554,\n",
      "                       1.1554, -1.1554,  1.0709, -1.1554, -1.1554, -1.1554,\n",
      "                      -1.1554, -1.1554, -1.0709,  1.1554, -1.1554,  1.1554,\n",
      "                       1.0709,  1.1554, -1.0709, -1.1554,  1.1554, -1.1554,\n",
      "                       1.1554, -1.1554, -1.0709,  1.1554, -1.1554,  1.1554,\n",
      "                       1.1554,  1.0709,  1.1554,  1.1554, -1.0709,  1.0709,\n",
      "                      -1.0709,  1.1554,  1.1554,  1.1554,  1.1554,  1.1554,\n",
      "                       1.1554, -1.0709, -1.1554,  1.1554,  1.1554,  1.0709,\n",
      "                       1.1554,  1.1554,  1.0709,  1.1554,  1.1554, -1.1554,\n",
      "                       1.1554,  1.0709, -1.1554,  1.1554,  1.0709, -1.1554,\n",
      "                       1.1554, -1.0709, -1.1554, -1.0709, -1.1554, -1.1554,\n",
      "                      -1.1554, -1.1554,  1.0709]),\n",
      "       size=(36, 3), nnz=75, layout=torch.sparse_coo)\n",
      "tensor(indices=tensor([[ 0,  0,  1,  1,  2,  2,  3,  4,  5,  5,  5,  6,  6,  7,\n",
      "                         7,  8,  9,  9, 10, 10, 10, 11, 11, 12, 12, 13, 13, 14,\n",
      "                        15, 15, 16, 16, 16, 17, 17, 18, 18, 18, 19, 19, 19, 20,\n",
      "                        21, 22, 22, 23, 23, 24, 24, 24, 25, 25, 26, 26, 27, 27,\n",
      "                        27, 28, 28, 29, 29, 29, 30, 30, 30, 31, 31, 31, 32, 33,\n",
      "                        34, 34, 35, 35, 35],\n",
      "                       [ 0,  1,  0,  1,  1,  2,  2,  0,  0,  1,  2,  0,  1,  0,\n",
      "                         2,  0,  0,  1,  0,  1,  2,  0,  1,  1,  2,  1,  2,  0,\n",
      "                         0,  1,  0,  1,  2,  0,  1,  0,  1,  2,  0,  1,  2,  2,\n",
      "                         2,  0,  1,  0,  1,  0,  1,  2,  0,  1,  0,  2,  0,  1,\n",
      "                         2,  0,  1,  0,  1,  2,  0,  1,  2,  0,  1,  2,  0,  2,\n",
      "                         0,  1,  0,  1,  2]]),\n",
      "       values=tensor([ 1.1554,  1.1554, -1.1554,  1.1554, -1.1554,  1.0709,\n",
      "                      -1.0709,  2.3107,  1.1554,  1.1554,  1.0709,  1.1554,\n",
      "                       1.1554, -1.1554,  1.0709, -2.3107, -1.1554, -1.1554,\n",
      "                      -1.1554, -1.1554, -1.0709,  1.1554, -1.1554,  1.1554,\n",
      "                       1.0709,  1.1554, -1.0709, -2.3107,  1.1554, -1.1554,\n",
      "                       1.1554, -1.1554, -1.0709,  3.4661, -1.1554,  2.3107,\n",
      "                       1.1554,  1.0709,  2.3107,  1.1554, -1.0709,  1.0709,\n",
      "                      -2.1417,  2.3107,  1.1554,  1.1554,  2.3107,  1.1554,\n",
      "                       2.3107, -1.0709, -1.1554,  1.1554,  2.3107,  1.0709,\n",
      "                       1.1554,  2.3107,  2.1417,  1.1554,  2.3107, -1.1554,\n",
      "                       1.1554,  2.1417, -1.1554,  1.1554,  1.0709, -1.1554,\n",
      "                       1.1554, -1.0709, -3.4661, -2.1417, -2.3107, -1.1554,\n",
      "                      -3.4661, -1.1554,  1.0709]),\n",
      "       size=(36, 3), nnz=75, layout=torch.sparse_coo)\n"
     ]
    }
   ],
   "source": [
    "old_nbrs, old_offsets = old_atoms.update_nbr_list()\n",
    "new_nbrs, new_offsets = new_atoms.update_nbr_list()\n",
    "\n",
    "print((old_offsets.to_dense() == new_offsets.to_dense()).all().item())\n",
    "print(old_offsets)\n",
    "print(new_offsets)\n"
   ]
  },
  {
   "cell_type": "markdown",
   "metadata": {},
   "source": [
    "## Visualizing the trajectory"
   ]
  },
  {
   "cell_type": "markdown",
   "metadata": {},
   "source": [
    "To visualize the trajectory in this Jupyter Notebook, you will have to install the package [nglview](https://github.com/arose/nglview)."
   ]
  },
  {
   "cell_type": "code",
   "execution_count": 16,
   "metadata": {},
   "outputs": [
    {
     "data": {
      "application/vnd.jupyter.widget-view+json": {
       "model_id": "11053394def344c8a28321a226a92143",
       "version_major": 2,
       "version_minor": 0
      },
      "text/plain": []
     },
     "metadata": {},
     "output_type": "display_data"
    }
   ],
   "source": [
    "import nglview as nv\n",
    "from ase.io import Trajectory"
   ]
  },
  {
   "cell_type": "markdown",
   "metadata": {},
   "source": [
    "Displaying the trajectory:"
   ]
  },
  {
   "cell_type": "code",
   "execution_count": 17,
   "metadata": {},
   "outputs": [
    {
     "data": {
      "application/vnd.jupyter.widget-view+json": {
       "model_id": "2a497470a4344422b6de01342de22a51",
       "version_major": 2,
       "version_minor": 0
      },
      "text/plain": [
       "NGLWidget(max_frame=19)"
      ]
     },
     "metadata": {},
     "output_type": "display_data"
    }
   ],
   "source": [
    "%matplotlib notebook\n",
    "\n",
    "traj = Trajectory('atoms.traj')\n",
    "nv.show_asetraj(traj)"
   ]
  },
  {
   "cell_type": "markdown",
   "metadata": {},
   "source": [
    "Looks like the atoms are still together. Visual inspection says that the trajectory is reasonable. Yay for `nff`!"
   ]
  }
 ],
 "metadata": {
  "kernelspec": {
   "display_name": "Python [conda env:nff_new]",
   "language": "python",
   "name": "nff_new"
  },
  "language_info": {
   "codemirror_mode": {
    "name": "ipython",
    "version": 3
   },
   "file_extension": ".py",
   "mimetype": "text/x-python",
   "name": "python",
   "nbconvert_exporter": "python",
   "pygments_lexer": "ipython3",
   "version": "3.7.7"
  }
 },
 "nbformat": 4,
 "nbformat_minor": 2
}
