{
 "cells": [
  {
   "cell_type": "code",
   "execution_count": 1,
   "metadata": {},
   "outputs": [],
   "source": [
    "%load_ext autoreload\n",
    "%autoreload 2\n",
    "    "
   ]
  },
  {
   "cell_type": "markdown",
   "metadata": {},
   "source": [
    "# Running MD simulations using nff and ASE"
   ]
  },
  {
   "cell_type": "markdown",
   "metadata": {},
   "source": [
    "This Jupyter Notebook shows how the `nff` package interfaces with the Atomistic Simulation Environment (ASE). We assume the user went through tutorial `01_training`, so we can load the pretrained models without having to train them again."
   ]
  },
  {
   "cell_type": "markdown",
   "metadata": {},
   "source": [
    "As before, importing the dependencies:"
   ]
  },
  {
   "cell_type": "code",
   "execution_count": 2,
   "metadata": {},
   "outputs": [],
   "source": [
    "import numpy as np\n",
    "import matplotlib.pyplot as plt\n",
    "\n",
    "import torch\n",
    "from ase import Atoms\n",
    "from ase.md.verlet import VelocityVerlet\n",
    "\n",
    "from nff.md.nve import Dynamics\n",
    "from nff.data import Dataset\n",
    "from nff.train import load_model, evaluate\n",
    "import nff.utils.constants as const\n",
    "from ase import units\n",
    "from nff.io import NeuralFF, AtomsBatch"
   ]
  },
  {
   "cell_type": "markdown",
   "metadata": {},
   "source": [
    "## Loading the relevant data"
   ]
  },
  {
   "cell_type": "markdown",
   "metadata": {},
   "source": [
    "We reload the dataset and create a `GraphLoader` as we did last time:"
   ]
  },
  {
   "cell_type": "code",
   "execution_count": 3,
   "metadata": {},
   "outputs": [],
   "source": [
    "dataset = Dataset.from_file('data/dataset.pth.tar')\n"
   ]
  },
  {
   "cell_type": "markdown",
   "metadata": {},
   "source": [
    "### Creating Atoms"
   ]
  },
  {
   "cell_type": "markdown",
   "metadata": {},
   "source": [
    "As before, we can create an `Atoms` object from any element of the dataset. Let's take the first one, for simplicity:"
   ]
  },
  {
   "cell_type": "code",
   "execution_count": 4,
   "metadata": {},
   "outputs": [],
   "source": [
    "props = dataset[0].copy()\n",
    "atoms = AtomsBatch(positions=props['nxyz'][:, 1:], \n",
    "                   numbers=props['nxyz'][:, 0], \n",
    "                   props=props,\n",
    "                   )"
   ]
  },
  {
   "cell_type": "markdown",
   "metadata": {},
   "source": [
    "### Creating the ASE calculator"
   ]
  },
  {
   "cell_type": "markdown",
   "metadata": {},
   "source": [
    "Now we just have to load the ASE calculator from a pretrained model. One way of doing so is through the in-build `from_file` method. You just have to specify the folder where the model was trained and subsequently stored."
   ]
  },
  {
   "cell_type": "code",
   "execution_count": 5,
   "metadata": {},
   "outputs": [
    {
     "name": "stderr",
     "output_type": "stream",
     "text": [
      "/home/saxelrod/miniconda3/envs/htvs/lib/python3.7/site-packages/torch/serialization.py:658: SourceChangeWarning: source code of class 'nff.nn.models.schnet.SchNet' has changed. you can retrieve the original source code by accessing the object's source attribute or set `torch.nn.Module.dump_patches = True` and use the patch tool to revert the changes.\n",
      "  warnings.warn(msg, SourceChangeWarning)\n",
      "/home/saxelrod/miniconda3/envs/htvs/lib/python3.7/site-packages/torch/serialization.py:658: SourceChangeWarning: source code of class 'torch.nn.modules.sparse.Embedding' has changed. you can retrieve the original source code by accessing the object's source attribute or set `torch.nn.Module.dump_patches = True` and use the patch tool to revert the changes.\n",
      "  warnings.warn(msg, SourceChangeWarning)\n",
      "/home/saxelrod/miniconda3/envs/htvs/lib/python3.7/site-packages/torch/serialization.py:658: SourceChangeWarning: source code of class 'torch.nn.modules.container.ModuleList' has changed. you can retrieve the original source code by accessing the object's source attribute or set `torch.nn.Module.dump_patches = True` and use the patch tool to revert the changes.\n",
      "  warnings.warn(msg, SourceChangeWarning)\n",
      "/home/saxelrod/miniconda3/envs/htvs/lib/python3.7/site-packages/torch/serialization.py:658: SourceChangeWarning: source code of class 'torch.nn.modules.container.ModuleDict' has changed. you can retrieve the original source code by accessing the object's source attribute or set `torch.nn.Module.dump_patches = True` and use the patch tool to revert the changes.\n",
      "  warnings.warn(msg, SourceChangeWarning)\n",
      "/home/saxelrod/miniconda3/envs/htvs/lib/python3.7/site-packages/torch/serialization.py:658: SourceChangeWarning: source code of class 'torch.nn.modules.container.Sequential' has changed. you can retrieve the original source code by accessing the object's source attribute or set `torch.nn.Module.dump_patches = True` and use the patch tool to revert the changes.\n",
      "  warnings.warn(msg, SourceChangeWarning)\n",
      "/home/saxelrod/miniconda3/envs/htvs/lib/python3.7/site-packages/torch/serialization.py:658: SourceChangeWarning: source code of class 'nff.nn.layers.Dense' has changed. you can retrieve the original source code by accessing the object's source attribute or set `torch.nn.Module.dump_patches = True` and use the patch tool to revert the changes.\n",
      "  warnings.warn(msg, SourceChangeWarning)\n",
      "/home/saxelrod/miniconda3/envs/htvs/lib/python3.7/site-packages/torch/serialization.py:658: SourceChangeWarning: source code of class 'torch.nn.modules.dropout.Dropout' has changed. you can retrieve the original source code by accessing the object's source attribute or set `torch.nn.Module.dump_patches = True` and use the patch tool to revert the changes.\n",
      "  warnings.warn(msg, SourceChangeWarning)\n",
      "/home/saxelrod/miniconda3/envs/htvs/lib/python3.7/site-packages/torch/serialization.py:658: SourceChangeWarning: source code of class 'nff.nn.modules.schnet.NodeMultiTaskReadOut' has changed. you can retrieve the original source code by accessing the object's source attribute or set `torch.nn.Module.dump_patches = True` and use the patch tool to revert the changes.\n",
      "  warnings.warn(msg, SourceChangeWarning)\n",
      "/home/saxelrod/miniconda3/envs/htvs/lib/python3.7/site-packages/torch/serialization.py:658: SourceChangeWarning: source code of class 'torch.nn.modules.linear.Linear' has changed. you can retrieve the original source code by accessing the object's source attribute or set `torch.nn.Module.dump_patches = True` and use the patch tool to revert the changes.\n",
      "  warnings.warn(msg, SourceChangeWarning)\n"
     ]
    }
   ],
   "source": [
    "nff_ase = NeuralFF.from_file('sandbox/', device=0)"
   ]
  },
  {
   "cell_type": "markdown",
   "metadata": {},
   "source": [
    "Assigning this calculator to `atoms` is easy:"
   ]
  },
  {
   "cell_type": "code",
   "execution_count": 6,
   "metadata": {},
   "outputs": [],
   "source": [
    "atoms.set_calculator(nff_ase)"
   ]
  },
  {
   "cell_type": "markdown",
   "metadata": {},
   "source": [
    "### Configuring the dynamics for the system"
   ]
  },
  {
   "cell_type": "markdown",
   "metadata": {},
   "source": [
    "In this example, we will run an NVE dynamics simulation. We will use the default parameters there implemented to run a trajectory for an ethanol molecule. The parameters we will specify are the following:\n",
    "\n",
    "* `T_init`: initial temperature of the simulation\n",
    "* `time_step`: time step in femtoseconds\n",
    "* `thermostat`: ASE integrator to use when performing the simulation\n",
    "* `thermostat_params`: keyword arguments for ase.Integrator class, will be different case-by-case\n",
    "* `steps`: number of steps to simulate\n",
    "* `save_frequency`: how often (in steps) save the pose of the molecule in a file\n",
    "* `nbr_list_update_freq`: how often (in steps) to update the neighbor list (not yet implemented)\n",
    "* `thermo_filename`: output file for the thermodynamics log\n",
    "* `traj_filename`: output file for the ASE trajectory file\n",
    "* `skip`: number of initial frames to skip when recording the trajectory"
   ]
  },
  {
   "cell_type": "code",
   "execution_count": 7,
   "metadata": {},
   "outputs": [],
   "source": [
    "md_params = {\n",
    "    'T_init': 450,\n",
    "    'time_step': 0.5,\n",
    "#     'thermostat': NoseHoover,   # or Langevin or NPT or NVT or Thermodynamic Integration\n",
    "#     'thermostat_params': {'timestep': 0.5 * units.fs, \"temperature\": 120.0 * units.kB,  \"ttime\": 20.0}\n",
    "    'thermostat': VelocityVerlet,  \n",
    "    'thermostat_params': {'timestep': 0.5 * units.fs},\n",
    "    'steps': 200,\n",
    "    'save_frequency': 10,\n",
    "    'nbr_list_update_freq': 20,\n",
    "    'thermo_filename': 'thermo.log',\n",
    "    'traj_filename': 'atoms.traj',\n",
    "    'skip': 0\n",
    "}"
   ]
  },
  {
   "cell_type": "code",
   "execution_count": null,
   "metadata": {},
   "outputs": [],
   "source": []
  },
  {
   "cell_type": "code",
   "execution_count": 8,
   "metadata": {},
   "outputs": [
    {
     "name": "stdout",
     "output_type": "stream",
     "text": [
      "Time[ps]      Etot[eV]     Epot[eV]     Ekin[eV]    T[K]\n"
     ]
    },
    {
     "name": "stderr",
     "output_type": "stream",
     "text": [
      "/home/saxelrod/miniconda3/envs/htvs/lib/python3.7/site-packages/ase/atoms.py:921: VisibleDeprecationWarning: Use get_global_number_of_atoms() instead\n",
      "  np.VisibleDeprecationWarning)\n",
      "/home/saxelrod/Repo/projects/master/NeuralForceField/nff/nn/utils.py:120: UserWarning: This overload of nonzero is deprecated:\n",
      "\tnonzero()\n",
      "Consider using one of the following signatures instead:\n",
      "\tnonzero(*, bool as_tuple) (Triggered internally at  /opt/conda/conda-bld/pytorch_1603729138878/work/torch/csrc/utils/python_arg_parser.cpp:882.)\n",
      "  nbr_list = mask.nonzero()\n"
     ]
    },
    {
     "name": "stdout",
     "output_type": "stream",
     "text": [
      "0.0000           0.2305      -0.1916       0.4221   362.9\n",
      "\n",
      "0.0050           0.2309      -0.2553       0.4862   418.0\n",
      "\n",
      "0.0100           0.2319      -0.0995       0.3314   284.9\n",
      "\n",
      "0.0150           0.2315      -0.1573       0.3887   334.2\n",
      "\n",
      "0.0200           0.2307      -0.1688       0.3995   343.4\n",
      "\n",
      "0.0250           0.2289      -0.2360       0.4649   399.6\n",
      "\n",
      "0.0300           0.2297      -0.1202       0.3499   300.8\n",
      "\n",
      "0.0350           0.2299      -0.1688       0.3987   342.7\n",
      "\n",
      "0.0400           0.2305      -0.2976       0.5281   454.0\n",
      "\n",
      "0.0450           0.2302      -0.2489       0.4791   411.8\n",
      "\n",
      "0.0500           0.2283      -0.2310       0.4593   394.8\n",
      "\n",
      "0.0550           0.2291      -0.4280       0.6571   564.8\n",
      "\n",
      "0.0600           0.2296      -0.3177       0.5473   470.5\n",
      "\n",
      "0.0650           0.2312      -0.0647       0.2959   254.3\n",
      "\n",
      "0.0700           0.2326      -0.1137       0.3463   297.7\n",
      "\n",
      "0.0750           0.2326      -0.0597       0.2924   251.3\n",
      "\n",
      "0.0800           0.2314      -0.1302       0.3615   310.8\n",
      "\n",
      "0.0850           0.2294      -0.1906       0.4200   361.0\n",
      "\n",
      "0.0900           0.2281      -0.3148       0.5429   466.7\n",
      "\n",
      "0.0950           0.2300      -0.3264       0.5564   478.2\n",
      "\n",
      "0.1000           0.2302      -0.2121       0.4422   380.1\n",
      "\n"
     ]
    }
   ],
   "source": [
    "nve = Dynamics(atoms, md_params)\n",
    "nve.run()"
   ]
  },
  {
   "cell_type": "markdown",
   "metadata": {},
   "source": [
    "### Models with directed neighbor lists"
   ]
  },
  {
   "cell_type": "markdown",
   "metadata": {},
   "source": [
    "The default assumes that you're using SchNet, which uses an undirected neighbor list to save memory. If you're using Painn, DimeNet, or any model with directional information, you will need a directed neighbor list. If you don't specify this then you will get an error. \n",
    "\n",
    "While these models automatically make any neighbor list into a directed one when called, the same is not true of periodic boundary conditions. The dataest offsets from the PBC depend on whether the dataset neighbor list is directed or not."
   ]
  },
  {
   "cell_type": "code",
   "execution_count": 9,
   "metadata": {},
   "outputs": [
    {
     "name": "stdout",
     "output_type": "stream",
     "text": [
      "Time[ps]      Etot[eV]     Epot[eV]     Ekin[eV]    T[K]\n",
      "Painn needs a directed neighbor list\n"
     ]
    }
   ],
   "source": [
    "props = dataset[0].copy()\n",
    "atoms = AtomsBatch(positions=props['nxyz'][:, 1:], \n",
    "                   numbers=props['nxyz'][:, 0], \n",
    "                   props=props,\n",
    "                   )\n",
    "nff_ase = NeuralFF.from_file('sandbox_painn/', device=0)\n",
    "atoms.set_calculator(nff_ase)\n",
    "\n",
    "try:\n",
    "    nve = Dynamics(atoms, md_params)\n",
    "    nve.run()\n",
    "except Exception as e:\n",
    "    print(e)"
   ]
  },
  {
   "cell_type": "markdown",
   "metadata": {},
   "source": [
    "If you do then you will be fine!"
   ]
  },
  {
   "cell_type": "code",
   "execution_count": 10,
   "metadata": {},
   "outputs": [
    {
     "name": "stdout",
     "output_type": "stream",
     "text": [
      "Time[ps]      Etot[eV]     Epot[eV]     Ekin[eV]    T[K]\n",
      "0.0000           0.5639      -0.1615       0.7254   623.6\n",
      "\n",
      "0.0050           0.5644       0.0680       0.4963   426.6\n",
      "\n",
      "0.0100           0.5643       0.2595       0.3048   262.0\n",
      "\n",
      "0.0150           0.5635       0.0235       0.5400   464.2\n",
      "\n",
      "0.0200           0.5623      -0.3615       0.9238   794.1\n",
      "\n",
      "0.0250           0.5644       0.0448       0.5196   446.6\n",
      "\n",
      "0.0300           0.5638       0.0454       0.5184   445.6\n",
      "\n",
      "0.0350           0.5635      -0.1134       0.6769   581.9\n",
      "\n",
      "0.0400           0.5635      -0.1133       0.6768   581.8\n",
      "\n",
      "0.0450           0.5633       0.0204       0.5429   466.7\n",
      "\n",
      "0.0500           0.5642       0.2131       0.3510   301.8\n",
      "\n",
      "0.0550           0.5637      -0.0636       0.6274   539.3\n",
      "\n",
      "0.0600           0.5640      -0.2444       0.8084   694.9\n",
      "\n",
      "0.0650           0.5646      -0.0618       0.6264   538.4\n",
      "\n",
      "0.0700           0.5635      -0.1222       0.6857   589.4\n",
      "\n",
      "0.0750           0.5638       0.0751       0.4888   420.1\n",
      "\n",
      "0.0800           0.5623      -0.2054       0.7677   659.9\n",
      "\n",
      "0.0850           0.5640       0.0941       0.4699   403.9\n",
      "\n",
      "0.0900           0.5631      -0.0526       0.6157   529.3\n",
      "\n",
      "0.0950           0.5642       0.0676       0.4966   426.9\n",
      "\n",
      "0.1000           0.5642      -0.0772       0.6414   551.3\n",
      "\n"
     ]
    }
   ],
   "source": [
    "props = dataset[0].copy()\n",
    "atoms = AtomsBatch(positions=props['nxyz'][:, 1:], \n",
    "                   numbers=props['nxyz'][:, 0], \n",
    "                   props=props,\n",
    "                   directed=True\n",
    "                   )\n",
    "nff_ase = NeuralFF.from_file('sandbox_painn/', device=0)\n",
    "atoms.set_calculator(nff_ase)\n",
    "\n",
    "nve = Dynamics(atoms, md_params)\n",
    "nve.run()"
   ]
  },
  {
   "cell_type": "code",
   "execution_count": null,
   "metadata": {},
   "outputs": [],
   "source": []
  },
  {
   "cell_type": "markdown",
   "metadata": {},
   "source": [
    "The dynamics conserved the energy. The temperature varied throughout the simulation, as expected."
   ]
  },
  {
   "cell_type": "markdown",
   "metadata": {},
   "source": [
    "# Additional properties"
   ]
  },
  {
   "cell_type": "markdown",
   "metadata": {},
   "source": [
    "You can also specify the properties that you want the calculator to predict. The default is `energy` and `forces`, but you can also add `stress`.\n",
    "\n",
    "However, if you run this for ethanol you will get an error, because it doesn't have any lattice vectors:"
   ]
  },
  {
   "cell_type": "code",
   "execution_count": 11,
   "metadata": {},
   "outputs": [
    {
     "name": "stdout",
     "output_type": "stream",
     "text": [
      "Time[ps]      Etot[eV]     Epot[eV]     Ekin[eV]    T[K]      ---------------------- stress [GPa] -----------------------\n",
      "You have 0 lattice vectors: volume not defined\n"
     ]
    }
   ],
   "source": [
    "nff_ase.properties = ['energy', 'forces', 'stress']\n",
    "atoms.set_calculator(nff_ase)\n",
    "\n",
    "try:\n",
    "    nve = Dynamics(atoms, md_params)\n",
    "    nve.run()\n",
    "except Exception as e:\n",
    "    print(e)"
   ]
  },
  {
   "cell_type": "markdown",
   "metadata": {},
   "source": [
    "If we make an artificial unit cell, it all works fine:"
   ]
  },
  {
   "cell_type": "code",
   "execution_count": 12,
   "metadata": {},
   "outputs": [
    {
     "name": "stdout",
     "output_type": "stream",
     "text": [
      "Time[ps]      Etot[eV]     Epot[eV]     Ekin[eV]    T[K]      ---------------------- stress [GPa] -----------------------\n",
      "0.0000           0.4056      -0.0772       0.4828   415.0    -64.503    -58.462     -6.680     36.943    -12.859     34.972\n",
      "\n",
      "0.0050           0.4080      -0.1170       0.5250   451.3     -8.771     47.811     10.605    -27.834     21.692    -30.039\n",
      "\n",
      "0.0100           0.4088      -0.0918       0.5006   430.3    -29.461    -44.988    -31.074     53.025     30.802     14.489\n",
      "\n",
      "0.0150           0.4079      -0.0701       0.4780   410.8     85.145      3.028     39.714    -44.857     10.708    -34.974\n",
      "\n",
      "0.0200           0.4067      -0.0911       0.4978   427.9     39.842    -10.329     16.883     21.105    -34.536     28.233\n",
      "\n",
      "0.0250           0.4068      -0.0758       0.4826   414.9     89.950     47.283    -19.682    -28.243    -14.516    -12.615\n",
      "\n",
      "0.0300           0.4049      -0.2810       0.6859   589.6     26.034     48.356      1.975     -0.968     -5.302     34.795\n",
      "\n",
      "0.0350           0.4058      -0.1511       0.5568   478.6    -33.961    -40.195     24.214      0.217     28.640     24.755\n",
      "\n",
      "0.0400           0.4058      -0.0668       0.4725   406.2    -55.535      0.603     39.746      5.668      5.360     -7.381\n",
      "\n",
      "0.0450           0.4052      -0.0145       0.4197   360.8    -44.089    -33.998    -25.445     38.542    -19.360    -37.916\n",
      "\n",
      "0.0500           0.4062      -0.0338       0.4400   378.2     29.552     35.929     22.575     -7.596    -10.246    -45.485\n",
      "\n",
      "0.0550           0.4052      -0.1382       0.5434   467.1    -11.906     25.193    -36.221     17.665    -18.577     11.254\n",
      "\n",
      "0.0600           0.4063       0.2224       0.1839   158.1     13.505     48.802     36.588    -65.934     21.629     29.678\n",
      "\n",
      "0.0650           0.4051      -0.0624       0.4674   401.8    -15.539      2.240    -17.502     20.699      3.996     68.329\n",
      "\n",
      "0.0700           0.4052      -0.2212       0.6264   538.5     26.940     16.754     27.756     -5.059     -6.636    -16.886\n",
      "\n",
      "0.0750           0.4034      -0.1065       0.5100   438.4    -31.838     18.244     -5.328     33.103     -7.889     -4.854\n",
      "\n",
      "0.0800           0.4037      -0.0402       0.4439   381.6     18.431    -19.624      8.433     17.512      7.522    -54.205\n",
      "\n",
      "0.0850           0.4026      -0.2453       0.6479   556.9     12.509     -9.148     16.023    -15.704      2.663    -34.570\n",
      "\n",
      "0.0900           0.4028      -0.3100       0.7128   612.7     22.646    -25.552      7.218     11.763      8.096      4.438\n",
      "\n",
      "0.0950           0.4050      -0.0135       0.4184   359.7     69.510     29.884     -1.488    -31.596    -33.578      9.635\n",
      "\n",
      "0.1000           0.4050      -0.0991       0.5041   433.3     42.929     31.329      0.573     27.710    -13.446     54.129\n",
      "\n"
     ]
    }
   ],
   "source": [
    "nff_ase.properties = ['energy', 'forces', 'stress']\n",
    "atoms.set_calculator(nff_ase)\n",
    "atoms.set_cell(2 * np.identity(3))\n",
    "nve = Dynamics(atoms, md_params)\n",
    "nve.run()\n",
    "\n"
   ]
  },
  {
   "cell_type": "markdown",
   "metadata": {},
   "source": [
    "Since `stress` is an implemented property, we can get the stress on the atoms:"
   ]
  },
  {
   "cell_type": "code",
   "execution_count": 13,
   "metadata": {},
   "outputs": [
    {
     "data": {
      "text/plain": [
       "array([ 0.26794022,  0.19554217,  0.00357576,  0.17295389, -0.08392215,\n",
       "        0.3378493 ], dtype=float32)"
      ]
     },
     "execution_count": 13,
     "metadata": {},
     "output_type": "execute_result"
    }
   ],
   "source": [
    "atoms.get_stress()"
   ]
  },
  {
   "cell_type": "markdown",
   "metadata": {},
   "source": [
    "## Visualizing the trajectory"
   ]
  },
  {
   "cell_type": "markdown",
   "metadata": {},
   "source": [
    "To visualize the trajectory in this Jupyter Notebook, you will have to install the package [nglview](https://github.com/arose/nglview)."
   ]
  },
  {
   "cell_type": "code",
   "execution_count": 14,
   "metadata": {},
   "outputs": [
    {
     "data": {
      "application/vnd.jupyter.widget-view+json": {
       "model_id": "4a737d122dc64f21bcaf39a6b96b7f47",
       "version_major": 2,
       "version_minor": 0
      },
      "text/plain": []
     },
     "metadata": {},
     "output_type": "display_data"
    }
   ],
   "source": [
    "import nglview as nv\n",
    "from ase.io import Trajectory"
   ]
  },
  {
   "cell_type": "markdown",
   "metadata": {},
   "source": [
    "Displaying the trajectory:"
   ]
  },
  {
   "cell_type": "code",
   "execution_count": 15,
   "metadata": {},
   "outputs": [
    {
     "data": {
      "application/vnd.jupyter.widget-view+json": {
       "model_id": "4b425182bb874653a94a64e294e764de",
       "version_major": 2,
       "version_minor": 0
      },
      "text/plain": [
       "NGLWidget(max_frame=20)"
      ]
     },
     "metadata": {},
     "output_type": "display_data"
    }
   ],
   "source": [
    "%matplotlib notebook\n",
    "\n",
    "traj = Trajectory('atoms.traj')\n",
    "nv.show_asetraj(traj)"
   ]
  },
  {
   "cell_type": "markdown",
   "metadata": {},
   "source": [
    "Looks like the atoms are still together. Visual inspection says that the trajectory is reasonable. Yay for `nff`!"
   ]
  }
 ],
 "metadata": {
  "kernelspec": {
   "display_name": "Python [conda env:nff_new]",
   "language": "python",
   "name": "nff_new"
  },
  "language_info": {
   "codemirror_mode": {
    "name": "ipython",
    "version": 3
   },
   "file_extension": ".py",
   "mimetype": "text/x-python",
   "name": "python",
   "nbconvert_exporter": "python",
   "pygments_lexer": "ipython3",
   "version": "3.7.7"
  }
 },
 "nbformat": 4,
 "nbformat_minor": 2
}
