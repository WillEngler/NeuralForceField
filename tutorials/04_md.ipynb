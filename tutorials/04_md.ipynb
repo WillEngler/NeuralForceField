{
 "cells": [
  {
   "cell_type": "markdown",
   "metadata": {},
   "source": [
    "# Running MD simulations using nff and ASE"
   ]
  },
  {
   "cell_type": "markdown",
   "metadata": {},
   "source": [
    "This Jupyter Notebook shows how the `nff` package interfaces with the Atomistic Simulation Environment (ASE). We assume the user went through tutorial `01_training`, so we can load the pretrained models without having to train them again."
   ]
  },
  {
   "cell_type": "markdown",
   "metadata": {},
   "source": [
    "As before, importing the dependencies:"
   ]
  },
  {
   "cell_type": "code",
   "execution_count": 7,
   "metadata": {},
   "outputs": [],
   "source": [
    "import numpy as np\n",
    "import matplotlib.pyplot as plt\n",
    "\n",
    "import torch\n",
    "from ase import Atoms\n",
    "from ase.md.verlet import VelocityVerlet\n",
    "\n",
    "from nff.io import NeuralFF, AtomsBatch\n",
    "from nff.md.nve import Dynamics\n",
    "from nff.data import Dataset\n",
    "from nff.train import load_model, evaluate\n",
    "import nff.utils.constants as const"
   ]
  },
  {
   "cell_type": "markdown",
   "metadata": {},
   "source": [
    "## Loading the relevant data"
   ]
  },
  {
   "cell_type": "markdown",
   "metadata": {},
   "source": [
    "We reload the dataset and create a `GraphLoader` as we did last time:"
   ]
  },
  {
   "cell_type": "code",
   "execution_count": 3,
   "metadata": {},
   "outputs": [],
   "source": [
    "dataset = Dataset.from_file('data/dataset.pth.tar')"
   ]
  },
  {
   "cell_type": "markdown",
   "metadata": {},
   "source": [
    "### Creating Atoms"
   ]
  },
  {
   "cell_type": "markdown",
   "metadata": {},
   "source": [
    "As before, we can create an `Atoms` object from any element of the dataset. Let's take the first one, for simplicity:"
   ]
  },
  {
   "cell_type": "code",
   "execution_count": 4,
   "metadata": {},
   "outputs": [],
   "source": [
    "props = dataset[0].copy()\n",
    "atoms = AtomsBatch(positions=props['nxyz'][:, 1:], numbers=props['nxyz'][:, 0], props=props)"
   ]
  },
  {
   "cell_type": "markdown",
   "metadata": {},
   "source": [
    "### Creating the ASE calculator"
   ]
  },
  {
   "cell_type": "markdown",
   "metadata": {},
   "source": [
    "Now we just have to load the ASE calculator from a pretrained model. One way of doing so is through the in-build `from_file` method. You just have to specify the folder where the model was trained and subsequently stored."
   ]
  },
  {
   "cell_type": "code",
   "execution_count": 5,
   "metadata": {},
   "outputs": [],
   "source": [
    "nff_ase = NeuralFF.from_file('sandbox/', device=3)"
   ]
  },
  {
   "cell_type": "markdown",
   "metadata": {},
   "source": [
    "Assigning this calculator to `atoms` is easy:"
   ]
  },
  {
   "cell_type": "code",
   "execution_count": 6,
   "metadata": {},
   "outputs": [],
   "source": [
    "atoms.set_calculator(nff_ase)"
   ]
  },
  {
   "cell_type": "markdown",
   "metadata": {},
   "source": [
    "### Configuring the dynamics for the system"
   ]
  },
  {
   "cell_type": "markdown",
   "metadata": {},
   "source": [
    "In this example, we will run an NVE dynamics simulation. We will use the default parameters there implemented to run a trajectory for an ethanol molecule. The parameters we will specify are the following:\n",
    "\n",
    "* `T_init`: initial temperature of the simulation\n",
    "* `time_step`: time step in femtoseconds\n",
    "* `thermostat`: ASE integrator to use when performing the simulation\n",
    "* `steps`: number of steps to simulate\n",
    "* `save_frequency`: how often (in steps) save the pose of the molecule in a file\n",
    "* `nbr_list_update_freq`: how often (in steps) to update the neighbor list (not yet implemented)\n",
    "* `thermo_filename`: output file for the thermodynamics log\n",
    "* `traj_filename`: output file for the ASE trajectory file\n",
    "* `skip`: number of initial frames to skip when recording the trajectory"
   ]
  },
  {
   "cell_type": "code",
   "execution_count": 9,
   "metadata": {},
   "outputs": [],
   "source": [
    "md_params = {\n",
    "    'T_init': 450,\n",
    "    'time_step': 0.5,\n",
    "    'thermostat': VelocityVerlet,\n",
    "    'steps': 200,\n",
    "    'save_frequency': 10,\n",
    "    'nbr_list_update_freq': 20,\n",
    "    'thermo_filename': 'thermo.log',\n",
    "    'traj_filename': 'atoms.traj',\n",
    "    'skip': 0\n",
    "}"
   ]
  },
  {
   "cell_type": "code",
   "execution_count": 11,
   "metadata": {},
   "outputs": [
    {
     "name": "stdout",
     "output_type": "stream",
     "text": [
      "Time[ps]      Etot[eV]     Epot[eV]     Ekin[eV]    T[K]\n",
      "0.0000           0.4425      -0.1725       0.6150   528.6\n",
      "\n",
      "0.0050           0.4435      -0.0662       0.5097   438.1\n",
      "\n",
      "0.0100           0.4443      -0.0663       0.5107   439.0\n",
      "\n",
      "0.0150           0.4458       0.0551       0.3907   335.9\n",
      "\n",
      "0.0200           0.4439      -0.1963       0.6401   550.3\n",
      "\n",
      "0.0250           0.4430      -0.0675       0.5105   438.8\n",
      "\n",
      "0.0300           0.4435       0.0890       0.3545   304.7\n",
      "\n",
      "0.0350           0.4430      -0.1357       0.5787   497.4\n",
      "\n",
      "0.0400           0.4422      -0.1452       0.5874   504.9\n",
      "\n",
      "0.0450           0.4411      -0.2474       0.6885   591.9\n",
      "\n",
      "0.0500           0.4409      -0.1460       0.5869   504.5\n",
      "\n",
      "0.0550           0.4405      -0.1844       0.6249   537.2\n",
      "\n",
      "0.0600           0.4426      -0.1467       0.5893   506.6\n",
      "\n",
      "0.0650           0.4441      -0.0564       0.5005   430.2\n",
      "\n",
      "0.0700           0.4434      -0.0121       0.4554   391.5\n",
      "\n",
      "0.0750           0.4431      -0.0066       0.4497   386.6\n",
      "\n",
      "0.0800           0.4423      -0.1885       0.6308   542.2\n",
      "\n",
      "0.0850           0.4432      -0.2361       0.6793   583.9\n",
      "\n",
      "0.0900           0.4443      -0.0873       0.5316   456.9\n",
      "\n",
      "0.0950           0.4438      -0.0684       0.5122   440.3\n",
      "\n",
      "0.1000           0.4433      -0.1420       0.5852   503.1\n",
      "\n"
     ]
    }
   ],
   "source": [
    "nve = Dynamics(atoms, md_params)\n",
    "nve.run()"
   ]
  },
  {
   "cell_type": "markdown",
   "metadata": {},
   "source": [
    "The dynamics conserved the energy. The temperature varied throughout the simulation, as expected."
   ]
  },
  {
   "cell_type": "markdown",
   "metadata": {},
   "source": [
    "## Visualizing the trajectory"
   ]
  },
  {
   "cell_type": "markdown",
   "metadata": {},
   "source": [
    "To visualize the trajectory in this Jupyter Notebook, you will have to install the package [nglview](https://github.com/arose/nglview)."
   ]
  },
  {
   "cell_type": "code",
   "execution_count": 12,
   "metadata": {},
   "outputs": [
    {
     "data": {
      "application/vnd.jupyter.widget-view+json": {
       "model_id": "b2e1a36120f34d4e86c721182011ef83",
       "version_major": 2,
       "version_minor": 0
      },
      "text/plain": [
       "_ColormakerRegistry()"
      ]
     },
     "metadata": {},
     "output_type": "display_data"
    }
   ],
   "source": [
    "import nglview as nv\n",
    "from ase.io import Trajectory"
   ]
  },
  {
   "cell_type": "markdown",
   "metadata": {},
   "source": [
    "Displaying the trajectory:"
   ]
  },
  {
   "cell_type": "code",
   "execution_count": 13,
   "metadata": {},
   "outputs": [
    {
     "data": {
      "application/vnd.jupyter.widget-view+json": {
       "model_id": "705b25ea8e51439389f711b813892d44",
       "version_major": 2,
       "version_minor": 0
      },
      "text/plain": [
       "NGLWidget(max_frame=20)"
      ]
     },
     "metadata": {},
     "output_type": "display_data"
    }
   ],
   "source": [
    "%matplotlib notebook\n",
    "\n",
    "traj = Trajectory('atoms.traj')\n",
    "nv.show_asetraj(traj)"
   ]
  },
  {
   "cell_type": "markdown",
   "metadata": {},
   "source": [
    "Looks like the atoms are still together. Visual inspection says that the trajectory is reasonable. Yay for `nff`!"
   ]
  }
 ],
 "metadata": {
  "kernelspec": {
   "display_name": "Python [conda env:nff]",
   "language": "python",
   "name": "conda-env-nff-py"
  },
  "language_info": {
   "codemirror_mode": {
    "name": "ipython",
    "version": 3
   },
   "file_extension": ".py",
   "mimetype": "text/x-python",
   "name": "python",
   "nbconvert_exporter": "python",
   "pygments_lexer": "ipython3",
   "version": "3.7.3"
  }
 },
 "nbformat": 4,
 "nbformat_minor": 2
}
