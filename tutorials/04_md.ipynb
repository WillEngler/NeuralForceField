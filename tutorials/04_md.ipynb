{
 "cells": [
  {
   "cell_type": "code",
   "execution_count": 1,
   "metadata": {},
   "outputs": [],
   "source": [
    "%load_ext autoreload\n",
    "%autoreload 2\n",
    "    "
   ]
  },
  {
   "cell_type": "markdown",
   "metadata": {},
   "source": [
    "# Running MD simulations using nff and ASE"
   ]
  },
  {
   "cell_type": "markdown",
   "metadata": {},
   "source": [
    "This Jupyter Notebook shows how the `nff` package interfaces with the Atomistic Simulation Environment (ASE). We assume the user went through tutorial `01_training`, so we can load the pretrained models without having to train them again."
   ]
  },
  {
   "cell_type": "markdown",
   "metadata": {},
   "source": [
    "As before, importing the dependencies:"
   ]
  },
  {
   "cell_type": "code",
   "execution_count": 2,
   "metadata": {},
   "outputs": [],
   "source": [
    "import numpy as np\n",
    "import matplotlib.pyplot as plt\n",
    "\n",
    "import torch\n",
    "from ase import Atoms\n",
    "from ase.md.verlet import VelocityVerlet\n",
    "\n",
    "from nff.md.nve import Dynamics\n",
    "from nff.data import Dataset\n",
    "from nff.train import load_model, evaluate\n",
    "import nff.utils.constants as const\n",
    "from ase import units\n",
    "from nff.io import NeuralFF, AtomsBatch"
   ]
  },
  {
   "cell_type": "markdown",
   "metadata": {},
   "source": [
    "## Loading the relevant data"
   ]
  },
  {
   "cell_type": "markdown",
   "metadata": {},
   "source": [
    "We reload the dataset and create a `GraphLoader` as we did last time:"
   ]
  },
  {
   "cell_type": "code",
   "execution_count": 3,
   "metadata": {},
   "outputs": [],
   "source": [
    "dataset = Dataset.from_file('data/dataset.pth.tar')\n"
   ]
  },
  {
   "cell_type": "markdown",
   "metadata": {},
   "source": [
    "### Creating Atoms"
   ]
  },
  {
   "cell_type": "markdown",
   "metadata": {},
   "source": [
    "As before, we can create an `Atoms` object from any element of the dataset. Let's take the first one, for simplicity:"
   ]
  },
  {
   "cell_type": "code",
   "execution_count": 4,
   "metadata": {},
   "outputs": [],
   "source": [
    "props = dataset[0].copy()\n",
    "atoms = AtomsBatch(positions=props['nxyz'][:, 1:], \n",
    "                   numbers=props['nxyz'][:, 0], \n",
    "                   props=props,\n",
    "                   )"
   ]
  },
  {
   "cell_type": "markdown",
   "metadata": {},
   "source": [
    "### Creating the ASE calculator"
   ]
  },
  {
   "cell_type": "markdown",
   "metadata": {},
   "source": [
    "Now we just have to load the ASE calculator from a pretrained model. One way of doing so is through the in-build `from_file` method. You just have to specify the folder where the model was trained and subsequently stored."
   ]
  },
  {
   "cell_type": "code",
   "execution_count": 5,
   "metadata": {},
   "outputs": [
    {
     "name": "stderr",
     "output_type": "stream",
     "text": [
      "/home/saxelrod/miniconda3/envs/htvs/lib/python3.7/site-packages/torch/serialization.py:658: SourceChangeWarning: source code of class 'nff.nn.models.schnet.SchNet' has changed. you can retrieve the original source code by accessing the object's source attribute or set `torch.nn.Module.dump_patches = True` and use the patch tool to revert the changes.\n",
      "  warnings.warn(msg, SourceChangeWarning)\n",
      "/home/saxelrod/miniconda3/envs/htvs/lib/python3.7/site-packages/torch/serialization.py:658: SourceChangeWarning: source code of class 'torch.nn.modules.sparse.Embedding' has changed. you can retrieve the original source code by accessing the object's source attribute or set `torch.nn.Module.dump_patches = True` and use the patch tool to revert the changes.\n",
      "  warnings.warn(msg, SourceChangeWarning)\n",
      "/home/saxelrod/miniconda3/envs/htvs/lib/python3.7/site-packages/torch/serialization.py:658: SourceChangeWarning: source code of class 'torch.nn.modules.container.ModuleList' has changed. you can retrieve the original source code by accessing the object's source attribute or set `torch.nn.Module.dump_patches = True` and use the patch tool to revert the changes.\n",
      "  warnings.warn(msg, SourceChangeWarning)\n",
      "/home/saxelrod/miniconda3/envs/htvs/lib/python3.7/site-packages/torch/serialization.py:658: SourceChangeWarning: source code of class 'torch.nn.modules.container.ModuleDict' has changed. you can retrieve the original source code by accessing the object's source attribute or set `torch.nn.Module.dump_patches = True` and use the patch tool to revert the changes.\n",
      "  warnings.warn(msg, SourceChangeWarning)\n",
      "/home/saxelrod/miniconda3/envs/htvs/lib/python3.7/site-packages/torch/serialization.py:658: SourceChangeWarning: source code of class 'torch.nn.modules.container.Sequential' has changed. you can retrieve the original source code by accessing the object's source attribute or set `torch.nn.Module.dump_patches = True` and use the patch tool to revert the changes.\n",
      "  warnings.warn(msg, SourceChangeWarning)\n",
      "/home/saxelrod/miniconda3/envs/htvs/lib/python3.7/site-packages/torch/serialization.py:658: SourceChangeWarning: source code of class 'nff.nn.layers.Dense' has changed. you can retrieve the original source code by accessing the object's source attribute or set `torch.nn.Module.dump_patches = True` and use the patch tool to revert the changes.\n",
      "  warnings.warn(msg, SourceChangeWarning)\n",
      "/home/saxelrod/miniconda3/envs/htvs/lib/python3.7/site-packages/torch/serialization.py:658: SourceChangeWarning: source code of class 'torch.nn.modules.dropout.Dropout' has changed. you can retrieve the original source code by accessing the object's source attribute or set `torch.nn.Module.dump_patches = True` and use the patch tool to revert the changes.\n",
      "  warnings.warn(msg, SourceChangeWarning)\n",
      "/home/saxelrod/miniconda3/envs/htvs/lib/python3.7/site-packages/torch/serialization.py:658: SourceChangeWarning: source code of class 'nff.nn.modules.schnet.NodeMultiTaskReadOut' has changed. you can retrieve the original source code by accessing the object's source attribute or set `torch.nn.Module.dump_patches = True` and use the patch tool to revert the changes.\n",
      "  warnings.warn(msg, SourceChangeWarning)\n",
      "/home/saxelrod/miniconda3/envs/htvs/lib/python3.7/site-packages/torch/serialization.py:658: SourceChangeWarning: source code of class 'torch.nn.modules.linear.Linear' has changed. you can retrieve the original source code by accessing the object's source attribute or set `torch.nn.Module.dump_patches = True` and use the patch tool to revert the changes.\n",
      "  warnings.warn(msg, SourceChangeWarning)\n"
     ]
    }
   ],
   "source": [
    "nff_ase = NeuralFF.from_file('sandbox/', device=0)"
   ]
  },
  {
   "cell_type": "markdown",
   "metadata": {},
   "source": [
    "Assigning this calculator to `atoms` is easy:"
   ]
  },
  {
   "cell_type": "code",
   "execution_count": 6,
   "metadata": {},
   "outputs": [],
   "source": [
    "atoms.set_calculator(nff_ase)"
   ]
  },
  {
   "cell_type": "markdown",
   "metadata": {},
   "source": [
    "### Configuring the dynamics for the system"
   ]
  },
  {
   "cell_type": "markdown",
   "metadata": {},
   "source": [
    "In this example, we will run an NVE dynamics simulation. We will use the default parameters there implemented to run a trajectory for an ethanol molecule. The parameters we will specify are the following:\n",
    "\n",
    "* `T_init`: initial temperature of the simulation\n",
    "* `time_step`: time step in femtoseconds\n",
    "* `thermostat`: ASE integrator to use when performing the simulation\n",
    "* `thermostat_params`: keyword arguments for ase.Integrator class, will be different case-by-case\n",
    "* `steps`: number of steps to simulate\n",
    "* `save_frequency`: how often (in steps) save the pose of the molecule in a file\n",
    "* `nbr_list_update_freq`: how often (in steps) to update the neighbor list (not yet implemented)\n",
    "* `thermo_filename`: output file for the thermodynamics log\n",
    "* `traj_filename`: output file for the ASE trajectory file\n",
    "* `skip`: number of initial frames to skip when recording the trajectory"
   ]
  },
  {
   "cell_type": "code",
   "execution_count": 7,
   "metadata": {},
   "outputs": [],
   "source": [
    "md_params = {\n",
    "    'T_init': 450,\n",
    "    'time_step': 0.5,\n",
    "#     'thermostat': NoseHoover,   # or Langevin or NPT or NVT or Thermodynamic Integration\n",
    "#     'thermostat_params': {'timestep': 0.5 * units.fs, \"temperature\": 120.0 * units.kB,  \"ttime\": 20.0}\n",
    "    'thermostat': VelocityVerlet,  \n",
    "    'thermostat_params': {'timestep': 0.5 * units.fs},\n",
    "    'steps': 200,\n",
    "    'save_frequency': 10,\n",
    "    'nbr_list_update_freq': 20,\n",
    "    'thermo_filename': 'thermo.log',\n",
    "    'traj_filename': 'atoms.traj',\n",
    "    'skip': 0\n",
    "}"
   ]
  },
  {
   "cell_type": "code",
   "execution_count": null,
   "metadata": {},
   "outputs": [],
   "source": []
  },
  {
   "cell_type": "code",
   "execution_count": 8,
   "metadata": {},
   "outputs": [
    {
     "name": "stdout",
     "output_type": "stream",
     "text": [
      "Time[ps]      Etot[eV]     Epot[eV]     Ekin[eV]    T[K]\n"
     ]
    },
    {
     "name": "stderr",
     "output_type": "stream",
     "text": [
      "/home/saxelrod/miniconda3/envs/htvs/lib/python3.7/site-packages/ase/atoms.py:921: VisibleDeprecationWarning: Use get_global_number_of_atoms() instead\n",
      "  np.VisibleDeprecationWarning)\n",
      "/home/saxelrod/Repo/projects/master/NeuralForceField/nff/nn/utils.py:121: UserWarning: This overload of nonzero is deprecated:\n",
      "\tnonzero()\n",
      "Consider using one of the following signatures instead:\n",
      "\tnonzero(*, bool as_tuple) (Triggered internally at  /opt/conda/conda-bld/pytorch_1603729138878/work/torch/csrc/utils/python_arg_parser.cpp:882.)\n",
      "  nbr_list = mask.nonzero()\n"
     ]
    },
    {
     "name": "stdout",
     "output_type": "stream",
     "text": [
      "0.0000           0.3158      -0.1916       0.5074   436.2\n",
      "\n",
      "0.0050           0.3154      -0.0785       0.3938   338.5\n",
      "\n",
      "0.0100           0.3148      -0.1335       0.4483   385.4\n",
      "\n",
      "0.0150           0.3168       0.0045       0.3123   268.4\n",
      "\n",
      "0.0200           0.3163      -0.2513       0.5677   488.0\n",
      "\n",
      "0.0250           0.3169      -0.0423       0.3592   308.8\n",
      "\n",
      "0.0300           0.3151      -0.4316       0.7468   641.9\n",
      "\n",
      "0.0350           0.3147      -0.3032       0.6179   531.1\n",
      "\n",
      "0.0400           0.3140      -0.2451       0.5591   480.6\n",
      "\n",
      "0.0450           0.3144      -0.2008       0.5152   442.9\n",
      "\n",
      "0.0500           0.3158      -0.0040       0.3198   274.9\n",
      "\n",
      "0.0550           0.3161      -0.2534       0.5695   489.5\n",
      "\n",
      "0.0600           0.3172       0.0941       0.2231   191.8\n",
      "\n",
      "0.0650           0.3147      -0.2455       0.5602   481.5\n",
      "\n",
      "0.0700           0.3158      -0.1851       0.5009   430.6\n",
      "\n",
      "0.0750           0.3158      -0.2395       0.5554   477.4\n",
      "\n",
      "0.0800           0.3166      -0.1315       0.4481   385.2\n",
      "\n",
      "0.0850           0.3170      -0.0991       0.4162   357.7\n",
      "\n",
      "0.0900           0.3162      -0.1851       0.5013   430.9\n",
      "\n",
      "0.0950           0.3163      -0.1202       0.4365   375.2\n",
      "\n",
      "0.1000           0.3147      -0.2389       0.5536   475.9\n",
      "\n"
     ]
    }
   ],
   "source": [
    "nve = Dynamics(atoms, md_params)\n",
    "nve.run()"
   ]
  },
  {
   "cell_type": "markdown",
   "metadata": {},
   "source": [
    "### Models with directed neighbor lists"
   ]
  },
  {
   "cell_type": "markdown",
   "metadata": {},
   "source": [
    "The default assumes that you're using SchNet, which uses an undirected neighbor list to save memory. If you're using Painn, DimeNet, or any model with directional information, you will need a directed neighbor list. If you don't specify this then you will get an error. \n",
    "\n",
    "While these models automatically make any neighbor list into a directed one when called, the same is not true of periodic boundary conditions. The dataest offsets from the PBC depend on whether the dataset neighbor list is directed or not."
   ]
  },
  {
   "cell_type": "code",
   "execution_count": 9,
   "metadata": {},
   "outputs": [
    {
     "name": "stdout",
     "output_type": "stream",
     "text": [
      "Time[ps]      Etot[eV]     Epot[eV]     Ekin[eV]    T[K]\n",
      "Painn needs a directed neighbor list\n"
     ]
    }
   ],
   "source": [
    "props = dataset[0].copy()\n",
    "atoms = AtomsBatch(positions=props['nxyz'][:, 1:], \n",
    "                   numbers=props['nxyz'][:, 0], \n",
    "                   props=props,\n",
    "                   )\n",
    "nff_ase = NeuralFF.from_file('sandbox_painn/', device=0)\n",
    "atoms.set_calculator(nff_ase)\n",
    "\n",
    "try:\n",
    "    nve = Dynamics(atoms, md_params)\n",
    "    nve.run()\n",
    "except Exception as e:\n",
    "    print(e)"
   ]
  },
  {
   "cell_type": "markdown",
   "metadata": {},
   "source": [
    "If you do then you will be fine!"
   ]
  },
  {
   "cell_type": "code",
   "execution_count": 10,
   "metadata": {},
   "outputs": [
    {
     "name": "stdout",
     "output_type": "stream",
     "text": [
      "Time[ps]      Etot[eV]     Epot[eV]     Ekin[eV]    T[K]\n",
      "0.0000           0.2408      -0.1615       0.4024   345.9\n",
      "\n",
      "0.0050           0.2394      -0.2874       0.5268   452.8\n",
      "\n",
      "0.0100           0.2397      -0.1538       0.3935   338.2\n",
      "\n",
      "0.0150           0.2403      -0.1675       0.4078   350.6\n",
      "\n",
      "0.0200           0.2408      -0.3277       0.5685   488.7\n",
      "\n",
      "0.0250           0.2417      -0.1517       0.3934   338.2\n",
      "\n",
      "0.0300           0.2414      -0.1296       0.3710   318.9\n",
      "\n",
      "0.0350           0.2412      -0.1576       0.3988   342.8\n",
      "\n",
      "0.0400           0.2398      -0.2804       0.5202   447.1\n",
      "\n",
      "0.0450           0.2401      -0.0993       0.3394   291.7\n",
      "\n",
      "0.0500           0.2406      -0.2275       0.4682   402.4\n",
      "\n",
      "0.0550           0.2401      -0.3081       0.5482   471.3\n",
      "\n",
      "0.0600           0.2408      -0.1992       0.4400   378.2\n",
      "\n",
      "0.0650           0.2418      -0.1652       0.4070   349.9\n",
      "\n",
      "0.0700           0.2416       0.0180       0.2236   192.2\n",
      "\n",
      "0.0750           0.2405      -0.1214       0.3619   311.1\n",
      "\n",
      "0.0800           0.2398      -0.3537       0.5935   510.1\n",
      "\n",
      "0.0850           0.2424      -0.0840       0.3264   280.6\n",
      "\n",
      "0.0900           0.2419      -0.1756       0.4175   358.9\n",
      "\n",
      "0.0950           0.2419      -0.1949       0.4368   375.5\n",
      "\n",
      "0.1000           0.2393      -0.3457       0.5850   502.8\n",
      "\n"
     ]
    }
   ],
   "source": [
    "props = dataset[0].copy()\n",
    "atoms = AtomsBatch(positions=props['nxyz'][:, 1:], \n",
    "                   numbers=props['nxyz'][:, 0], \n",
    "                   props=props,\n",
    "                   directed=True)\n",
    "nff_ase = NeuralFF.from_file('sandbox_painn/', device=0)\n",
    "atoms.set_calculator(nff_ase)\n",
    "\n",
    "nve = Dynamics(atoms, md_params)\n",
    "nve.run()"
   ]
  },
  {
   "cell_type": "code",
   "execution_count": null,
   "metadata": {},
   "outputs": [],
   "source": []
  },
  {
   "cell_type": "markdown",
   "metadata": {},
   "source": [
    "The dynamics conserved the energy. The temperature varied throughout the simulation, as expected."
   ]
  },
  {
   "cell_type": "markdown",
   "metadata": {},
   "source": [
    "# Additional properties and options"
   ]
  },
  {
   "cell_type": "markdown",
   "metadata": {},
   "source": [
    "You can also specify the properties that you want the calculator to predict. The default is `energy` and `forces`, but you can also add `stress`.\n",
    "\n",
    "However, if you run this for ethanol you will get an error, because it doesn't have any lattice vectors:"
   ]
  },
  {
   "cell_type": "code",
   "execution_count": 11,
   "metadata": {},
   "outputs": [
    {
     "name": "stdout",
     "output_type": "stream",
     "text": [
      "Time[ps]      Etot[eV]     Epot[eV]     Ekin[eV]    T[K]      ---------------------- stress [GPa] -----------------------\n",
      "You have 0 lattice vectors: volume not defined\n"
     ]
    }
   ],
   "source": [
    "nff_ase.properties = ['energy', 'forces', 'stress']\n",
    "atoms.set_calculator(nff_ase)\n",
    "\n",
    "try:\n",
    "    nve = Dynamics(atoms, md_params)\n",
    "    nve.run()\n",
    "except Exception as e:\n",
    "    print(e)"
   ]
  },
  {
   "cell_type": "markdown",
   "metadata": {},
   "source": [
    "If we make an artificial unit cell, it all works fine:"
   ]
  },
  {
   "cell_type": "code",
   "execution_count": 12,
   "metadata": {},
   "outputs": [
    {
     "name": "stdout",
     "output_type": "stream",
     "text": [
      "Time[ps]      Etot[eV]     Epot[eV]     Ekin[eV]    T[K]      ---------------------- stress [GPa] -----------------------\n",
      "0.0000           0.4442      -0.3457       0.7898   678.9     -0.871     26.839    -23.691    -27.217    -33.388    -29.995\n",
      "\n",
      "0.0050           0.4477       0.0219       0.4258   366.1      2.117     64.619     43.543     27.383      5.637    -40.618\n",
      "\n",
      "0.0100           0.4478      -0.0412       0.4891   420.4   -106.245    -68.407    -38.358    -39.280      7.591     63.665\n",
      "\n",
      "0.0150           0.4470       0.0927       0.3543   304.5    -23.734    -34.153     39.779     35.955    -45.249    -20.279\n",
      "\n",
      "0.0200           0.4474      -0.0062       0.4536   390.0    -18.387    -23.564    -11.814    -38.303     39.612     13.974\n",
      "\n",
      "0.0250           0.4458       0.1687       0.2771   238.2    146.343     47.266     23.320     27.814     17.208    -47.881\n",
      "\n",
      "0.0300           0.4443       0.0117       0.4326   371.9     45.044     38.673     -1.273    -35.237     34.992     19.666\n",
      "\n",
      "0.0350           0.4438      -0.2103       0.6542   562.3     46.322     30.355    -12.255     32.251    -27.688    -18.491\n",
      "\n",
      "0.0400           0.4421      -0.1431       0.5852   503.1   -103.177    -27.213     54.364    -10.375    -47.600     41.090\n",
      "\n",
      "0.0450           0.4441      -0.0156       0.4597   395.1    -71.894    -21.377    -53.135     39.441      0.224     24.858\n",
      "\n",
      "0.0500           0.4434      -0.2625       0.7059   606.8     -7.501     37.861     75.990    -20.081     10.237    -25.794\n",
      "\n",
      "0.0550           0.4411      -0.1042       0.5454   468.8     42.329    -35.579    -28.955     -4.883     29.261    -34.326\n",
      "\n",
      "0.0600           0.4443       0.1520       0.2923   251.2    117.584     53.666     51.038     -4.549     -1.730    -25.338\n",
      "\n",
      "0.0650           0.4443       0.0544       0.3898   335.1     35.565     36.849    -38.815    -38.203      1.611     27.258\n",
      "\n",
      "0.0700           0.4428      -0.1481       0.5909   507.9     12.768    -23.776     48.648     23.691    -34.058     -5.939\n",
      "\n",
      "0.0750           0.4450       0.0806       0.3643   313.2    -99.151      3.204    -24.678    -41.942     22.632     44.779\n",
      "\n",
      "0.0800           0.4449       0.1276       0.3173   272.7    -60.187    -30.620      7.174     45.111     11.534    -10.259\n",
      "\n",
      "0.0850           0.4442      -0.0083       0.4525   389.0    -15.467     73.322    -13.580    -40.633      5.944      7.006\n",
      "\n",
      "0.0900           0.4445       0.0624       0.3821   328.4     71.804    -63.369      5.482     50.022    -27.410    -21.495\n",
      "\n",
      "0.0950           0.4429       0.0496       0.3933   338.1    112.336     75.238      2.830    -45.388     -1.334    -13.982\n",
      "\n",
      "0.1000           0.4424       0.0277       0.4147   356.5     27.384    -10.573    -16.779     45.523    -15.680     54.886\n",
      "\n"
     ]
    }
   ],
   "source": [
    "nff_ase.properties = ['energy', 'forces', 'stress']\n",
    "atoms.set_calculator(nff_ase)\n",
    "atoms.set_cell(2 * np.identity(3))\n",
    "nve = Dynamics(atoms, md_params)\n",
    "nve.run()\n",
    "\n"
   ]
  },
  {
   "cell_type": "markdown",
   "metadata": {},
   "source": [
    "Since `stress` is an implemented property, we can get the stress on the atoms:"
   ]
  },
  {
   "cell_type": "code",
   "execution_count": 13,
   "metadata": {},
   "outputs": [
    {
     "data": {
      "text/plain": [
       "array([ 0.17091832, -0.06599259, -0.10472327,  0.2841331 , -0.09786777,\n",
       "        0.3425693 ], dtype=float32)"
      ]
     },
     "execution_count": 13,
     "metadata": {},
     "output_type": "execute_result"
    }
   ],
   "source": [
    "atoms.get_stress()"
   ]
  },
  {
   "cell_type": "markdown",
   "metadata": {},
   "source": [
    "You can additionally request larger offsets for periodic structures than the default. To do so, use `requires_large_offsets=True` when making the atoms:"
   ]
  },
  {
   "cell_type": "code",
   "execution_count": 14,
   "metadata": {},
   "outputs": [],
   "source": [
    "lattice = [[1.155363155, 0.0, 0.0], \n",
    "           [0.0, 1.155363155, 0.0], \n",
    "           [0.0, 0.0, 1.07085842]]\n",
    "\n",
    "# default of `requires_large_offsets` is False\n",
    "old_atoms = AtomsBatch(positions=props['nxyz'][:, 1:], \n",
    "                       numbers=props['nxyz'][:, 0], \n",
    "                       props=props,\n",
    "                       cell=lattice,\n",
    "                       pbc=True\n",
    "                       )\n",
    "\n",
    "new_atoms = AtomsBatch(positions=props['nxyz'][:, 1:], \n",
    "                       numbers=props['nxyz'][:, 0], \n",
    "                       props=props,\n",
    "                       requires_large_offsets=True,\n",
    "                       cell=lattice,\n",
    "                       pbc=True\n",
    "                       )"
   ]
  },
  {
   "cell_type": "code",
   "execution_count": null,
   "metadata": {},
   "outputs": [],
   "source": []
  },
  {
   "cell_type": "markdown",
   "metadata": {},
   "source": [
    "If we compare the offsets in the new and old `atoms` objects, we see that there are differences:"
   ]
  },
  {
   "cell_type": "code",
   "execution_count": 15,
   "metadata": {},
   "outputs": [
    {
     "name": "stdout",
     "output_type": "stream",
     "text": [
      "False\n",
      "tensor(indices=tensor([[ 0,  0,  1,  1,  2,  3,  3,  4,  5,  5,  5,  6,  6,  6,\n",
      "                         7,  7,  8,  9,  9,  9, 10, 10, 11, 12, 13, 13, 14, 14,\n",
      "                        15, 15, 15, 16, 16, 17, 18, 18, 19, 19, 19, 20, 21, 22,\n",
      "                        22, 22, 23, 23, 24, 24, 24, 25, 25, 25, 26, 26, 27, 27,\n",
      "                        27, 28, 28, 29, 29, 29, 30, 30, 30, 31, 31, 31, 32, 32,\n",
      "                        33, 34, 34, 35, 35],\n",
      "                       [ 0,  1,  0,  1,  2,  1,  2,  0,  0,  1,  2,  0,  1,  2,\n",
      "                         0,  1,  0,  0,  1,  2,  0,  1,  0,  2,  1,  2,  0,  1,\n",
      "                         0,  1,  2,  0,  1,  0,  0,  2,  0,  1,  2,  1,  2,  0,\n",
      "                         1,  2,  0,  1,  0,  1,  2,  0,  1,  2,  0,  1,  0,  1,\n",
      "                         2,  0,  1,  0,  1,  2,  0,  1,  2,  0,  1,  2,  0,  1,\n",
      "                         2,  0,  2,  0,  2]]),\n",
      "       values=tensor([ 1.1554,  1.1554, -1.1554,  1.1554,  1.0709, -1.1554,\n",
      "                      -1.0709,  1.1554,  1.1554,  1.1554,  1.0709,  1.1554,\n",
      "                       1.1554, -1.0709, -1.1554,  1.1554, -1.1554, -1.1554,\n",
      "                      -1.1554,  1.0709, -1.1554, -1.1554,  1.1554,  1.0709,\n",
      "                       1.1554, -1.0709, -1.1554,  1.1554,  1.1554, -1.1554,\n",
      "                       1.0709,  1.1554, -1.1554,  1.1554,  1.1554,  1.0709,\n",
      "                       1.1554,  1.1554, -1.0709,  1.1554, -1.0709,  1.1554,\n",
      "                       1.1554, -1.0709,  1.1554,  1.1554,  1.1554,  1.1554,\n",
      "                      -1.0709, -1.1554,  1.1554, -1.0709,  1.1554,  1.1554,\n",
      "                       1.1554,  1.1554,  1.0709,  1.1554,  1.1554, -1.1554,\n",
      "                       1.1554,  1.0709, -1.1554,  1.1554,  1.0709, -1.1554,\n",
      "                       1.1554, -1.0709, -1.1554,  1.1554, -1.0709, -1.1554,\n",
      "                      -1.0709, -1.1554,  1.0709]),\n",
      "       size=(36, 3), nnz=75, layout=torch.sparse_coo)\n",
      "tensor(indices=tensor([[ 0,  0,  1,  1,  2,  3,  3,  4,  5,  5,  5,  6,  6,  6,\n",
      "                         7,  7,  8,  9,  9,  9, 10, 10, 11, 12, 13, 13, 14, 14,\n",
      "                        15, 15, 15, 16, 16, 17, 18, 18, 19, 19, 19, 20, 21, 22,\n",
      "                        22, 22, 23, 23, 24, 24, 24, 25, 25, 25, 26, 26, 27, 27,\n",
      "                        27, 28, 28, 29, 29, 29, 30, 30, 30, 31, 31, 31, 32, 32,\n",
      "                        33, 34, 34, 35, 35],\n",
      "                       [ 0,  1,  0,  1,  2,  1,  2,  0,  0,  1,  2,  0,  1,  2,\n",
      "                         0,  1,  0,  0,  1,  2,  0,  1,  0,  2,  1,  2,  0,  1,\n",
      "                         0,  1,  2,  0,  1,  0,  0,  2,  0,  1,  2,  1,  2,  0,\n",
      "                         1,  2,  0,  1,  0,  1,  2,  0,  1,  2,  0,  1,  0,  1,\n",
      "                         2,  0,  1,  0,  1,  2,  0,  1,  2,  0,  1,  2,  0,  1,\n",
      "                         2,  0,  2,  0,  2]]),\n",
      "       values=tensor([ 1.1554,  1.1554, -1.1554,  1.1554,  1.0709, -1.1554,\n",
      "                      -1.0709,  2.3107,  1.1554,  1.1554,  1.0709,  1.1554,\n",
      "                       1.1554, -1.0709, -1.1554,  1.1554, -2.3107, -1.1554,\n",
      "                      -1.1554,  1.0709, -1.1554, -1.1554,  1.1554,  1.0709,\n",
      "                       1.1554, -1.0709, -2.3107,  1.1554,  1.1554, -1.1554,\n",
      "                       1.0709,  1.1554, -1.1554,  3.4661,  2.3107,  1.0709,\n",
      "                       2.3107,  1.1554, -1.0709,  1.1554, -2.1417,  2.3107,\n",
      "                       1.1554, -1.0709,  1.1554,  1.1554,  1.1554,  2.3107,\n",
      "                      -2.1417, -1.1554,  2.3107, -1.0709,  2.3107,  1.1554,\n",
      "                       1.1554,  2.3107,  1.0709,  1.1554,  2.3107, -1.1554,\n",
      "                       2.3107,  1.0709, -1.1554,  1.1554,  1.0709, -1.1554,\n",
      "                       1.1554, -1.0709, -3.4661,  1.1554, -2.1417, -2.3107,\n",
      "                      -1.0709, -2.3107,  1.0709]),\n",
      "       size=(36, 3), nnz=75, layout=torch.sparse_coo)\n"
     ]
    }
   ],
   "source": [
    "old_nbrs, old_offsets = old_atoms.update_nbr_list()\n",
    "new_nbrs, new_offsets = new_atoms.update_nbr_list()\n",
    "\n",
    "print((old_offsets.to_dense() == new_offsets.to_dense()).all().item())\n",
    "print(old_offsets)\n",
    "print(new_offsets)\n"
   ]
  },
  {
   "cell_type": "markdown",
   "metadata": {},
   "source": [
    "## Visualizing the trajectory"
   ]
  },
  {
   "cell_type": "markdown",
   "metadata": {},
   "source": [
    "To visualize the trajectory in this Jupyter Notebook, you will have to install the package [nglview](https://github.com/arose/nglview)."
   ]
  },
  {
   "cell_type": "code",
   "execution_count": 16,
   "metadata": {},
   "outputs": [
    {
     "data": {
      "application/vnd.jupyter.widget-view+json": {
       "model_id": "24309bbd76c34fcea25c460cf88bb811",
       "version_major": 2,
       "version_minor": 0
      },
      "text/plain": []
     },
     "metadata": {},
     "output_type": "display_data"
    }
   ],
   "source": [
    "import nglview as nv\n",
    "from ase.io import Trajectory"
   ]
  },
  {
   "cell_type": "markdown",
   "metadata": {},
   "source": [
    "Displaying the trajectory:"
   ]
  },
  {
   "cell_type": "code",
   "execution_count": 17,
   "metadata": {},
   "outputs": [
    {
     "data": {
      "application/vnd.jupyter.widget-view+json": {
       "model_id": "6d64cfc48deb4f76a9862f9ec4c52740",
       "version_major": 2,
       "version_minor": 0
      },
      "text/plain": [
       "NGLWidget(max_frame=20)"
      ]
     },
     "metadata": {},
     "output_type": "display_data"
    }
   ],
   "source": [
    "%matplotlib notebook\n",
    "\n",
    "traj = Trajectory('atoms.traj')\n",
    "nv.show_asetraj(traj)"
   ]
  },
  {
   "cell_type": "markdown",
   "metadata": {},
   "source": [
    "Looks like the atoms are still together. Visual inspection says that the trajectory is reasonable. Yay for `nff`!"
   ]
  }
 ],
 "metadata": {
  "kernelspec": {
   "display_name": "Python [conda env:nff_new]",
   "language": "python",
   "name": "nff_new"
  },
  "language_info": {
   "codemirror_mode": {
    "name": "ipython",
    "version": 3
   },
   "file_extension": ".py",
   "mimetype": "text/x-python",
   "name": "python",
   "nbconvert_exporter": "python",
   "pygments_lexer": "ipython3",
   "version": "3.7.7"
  }
 },
 "nbformat": 4,
 "nbformat_minor": 2
}
