{
 "cells": [
  {
   "cell_type": "code",
   "execution_count": 5,
   "metadata": {},
   "outputs": [
    {
     "name": "stdout",
     "output_type": "stream",
     "text": [
      "The autoreload extension is already loaded. To reload it, use:\n",
      "  %reload_ext autoreload\n"
     ]
    }
   ],
   "source": [
    "%load_ext autoreload\n",
    "%autoreload 2"
   ]
  },
  {
   "cell_type": "markdown",
   "metadata": {},
   "source": [
    "# Non-adiabatic dynamics \n",
    "This tutorial shows how to run non-adiabatic dynamics with a trained model using [Tully's surface hopping](https://doi.org/10.1063/1.459170).\n",
    "\n",
    "First let's import dependencies:\n"
   ]
  },
  {
   "cell_type": "code",
   "execution_count": 6,
   "metadata": {},
   "outputs": [],
   "source": [
    "import sys\n",
    "import os\n",
    "\n",
    "# so that NFF is in your path\n",
    "sys.path.insert(0, \"..\")\n",
    "\n",
    "import json\n",
    "from nff.md.tully.io import get_results, load_json, get_atoms\n",
    "from nff.md.tully.dynamics import NeuralTully, CombinedNeuralTully\n",
    "from ase.io.trajectory import Trajectory\n",
    "import nglview as nv\n",
    "\n"
   ]
  },
  {
   "cell_type": "code",
   "execution_count": null,
   "metadata": {},
   "outputs": [],
   "source": []
  },
  {
   "cell_type": "markdown",
   "metadata": {},
   "source": [
    "Now we'll find a trained model. The trained azobenzene models can be found in `NeuralForceField/models/azo_derivatives`. The sub-folders are for diabatic and adiabatic models, trained either with the full set of geometries, or with 40 species held out. There are also three models trained with different splits and different initialization from random seeds:"
   ]
  },
  {
   "cell_type": "code",
   "execution_count": 3,
   "metadata": {},
   "outputs": [
    {
     "name": "stdout",
     "output_type": "stream",
     "text": [
      "['all_diabatic', 'holdout_diabatic', 'holdout_adiabatic']\n",
      "['seed_0', 'seed_2', 'seed_1']\n"
     ]
    }
   ],
   "source": [
    "print(os.listdir('../models/azo_derivatives'))\n",
    "print(os.listdir('../models/azo_derivatives/all_diabatic'))"
   ]
  },
  {
   "cell_type": "markdown",
   "metadata": {},
   "source": [
    "We'll use the diabatic model trained on all species, with seed 0: `../models/azo_derivatives/all_diabatic/seed_0`."
   ]
  },
  {
   "cell_type": "markdown",
   "metadata": {},
   "source": [
    "## Tully\n",
    "\n",
    "The script for Tully's surface hopping is `NeuralForceField/nff/md/tully/dynamics.py`. If you run the script and supply the path of a JSON parameter file, it will do the rest for you. Here we'll go through some parameters to give, and show a little of what goes on behind the scenes.\n",
    "\n",
    "We'll have to define `ground_params`, `tully_params`, and `all_params`. The first is for parameters in the ground state MD simulation, and the second for Tully's surface hopping. The third is for some remaining parameters, which we'll explain below.\n",
    "\n",
    "Let's define `ground_params`:"
   ]
  },
  {
   "cell_type": "code",
   "execution_count": 4,
   "metadata": {},
   "outputs": [],
   "source": [
    "ground_params = {'ttime': 50, # tau = ttime * dt is the relaxation time\n",
    "                 'logfile': 'ground.log', # log file for ground state MD\n",
    "                 'max_time': 200, # total time in fs\n",
    "                 'savefile': 'ground.trj', # output file with saved geometries\n",
    "                 'timestep': 0.5, # dt in fs\n",
    "                 'equil_time': 100, # ignore this amount of time (fs) when sampling\n",
    "                                  # geoms for NAMD\n",
    "                 'thermostat': 'nosehoover', # use the Nose Hoover thermostat\n",
    "                 'loginterval': 5, # log the energy and save geoms every 5 steps\n",
    "                 'temperature': 300, # temperature in Kelvin\n",
    "                 'maxwell_temp': 300, # initialization temperature from\n",
    "                                      # Maxwell-Boltzmann distribution\n",
    "                 'nbr_update_period': 10, # update the neighbor list every 10 steps\n",
    "                 'cutoff': 5.0, # neighbor list cutoff in Angstrom \n",
    "                 'cutoff_skin': 2.0, # extra distance added to cutoff when updating\n",
    "                                     # neighbor list, to account for atoms coming into\n",
    "                                     # the 5 A sphere between updates \n",
    "                 'model_type': 'PainnDiabat', # model class we're using\n",
    "                 'device': 1, # GPU to use. Set to \"cpu\" if you don't have a GPU\n",
    "                }"
   ]
  },
  {
   "cell_type": "markdown",
   "metadata": {},
   "source": [
    "Now let's do `tully_params`:"
   ]
  },
  {
   "cell_type": "code",
   "execution_count": 5,
   "metadata": {},
   "outputs": [],
   "source": [
    "diabat_keys = [['d_00', 'd_01', 'd_02'],\n",
    "               ['d_01', 'd_11', 'd_12'],\n",
    "               ['d_02', 'd_12', 'd_22']]\n",
    "\n",
    "tully_params = {\n",
    "                 'dt': 0.5, # dt in fs\n",
    "                 'cutoff': 5.0, # neighbor list cutoff in Angstrom \n",
    "                 'hop_eqn': 'sharc', # use the SHARC equation for computing the \n",
    "                                     # hopping probability\n",
    "                 'num_trj': 10, # number of surface hopping trajectories\n",
    "                 'max_time': 200, # maximum time in fs\n",
    "                 'batch_size': 5, # number of trajectories to batch together \n",
    "                                  # so that inference is done in parallel\n",
    "                 'num_states': 2, # number of adiabatic states\n",
    "                 'cutoff_skin': 2.0, # extra distance added to cutoff when updating\n",
    "                                     # neighbor list, to account for atoms coming into\n",
    "                                     # the 5 A sphere between updates \n",
    "                 'decoherence': {'name': 'truhlar'}, # use Truhlar's decoherence method\n",
    "                 'max_gap_hop': None, # maximum gap, above which hops cannot occur\n",
    "                 'save_period': 10, # save every 10 steps (5 fs)\n",
    "                 'initial_surf': 1, # start on the first excited adiabatic state\n",
    "                 'initial_time': 0.0, # start at t = 0\n",
    "                 'elec_substeps': 25, # 25 electronic steps for every nuclear step\n",
    "                 'reload_ground': False, # If the ground state trajectory is already\n",
    "                                        # complete from a previous run, then do not load\n",
    "                                        # it instead of re-running\n",
    "                 'diabat_propagate': True, # propagate in the diabatic basis\n",
    "                 'simple_vel_scale': True, # after a hop, simply rescale the velocity\n",
    "                                           # to conserve energy, instead of scaling in\n",
    "                                           # NACV direction\n",
    "                 'nbr_update_period': 10, # update neighbor list every 10 steps\n",
    "                 'explicit_diabat_prop': True, # propagate in diabatic basis,                                 \n",
    "                 'device': 1, # GPU to use. Set to \"cpu\" if you don't have a GPU\n",
    "                 'diabat_keys': diabat_keys # names of diabatic energies predicted\n",
    "                                # by model\n",
    "                \n",
    "    \n",
    "                \n",
    "}"
   ]
  },
  {
   "cell_type": "markdown",
   "metadata": {},
   "source": [
    "Lastly we'll define `all_params`, which has the starting coordinates and the model path:"
   ]
  },
  {
   "cell_type": "code",
   "execution_count": 6,
   "metadata": {},
   "outputs": [],
   "source": [
    "with open('data/azo_coords.json', 'r') as f:\n",
    "    coords = json.load(f)\n",
    "\n",
    "all_params = {\"coords\": coords, # starting geometry of the molecule\n",
    "              'model_path': '../models/azo_derivatives/all_diabatic/seed_0'\n",
    "             }"
   ]
  },
  {
   "cell_type": "markdown",
   "metadata": {},
   "source": [
    "When we run the script from the command line, it parses these three dictionaries from a file and makes an instance of `CombinedNeuralTully`, like this:"
   ]
  },
  {
   "cell_type": "code",
   "execution_count": 7,
   "metadata": {},
   "outputs": [
    {
     "name": "stderr",
     "output_type": "stream",
     "text": [
      "/home/saxelrod/miniconda3/envs/nff/lib/python3.7/site-packages/ase/md/md.py:48: FutureWarning: Specify the temperature in K using the 'temperature_K' argument\n",
      "  warnings.warn(FutureWarning(w))\n"
     ]
    }
   ],
   "source": [
    "atomsbatch = get_atoms(ground_params=ground_params,\n",
    "                      all_params=all_params)\n",
    "\n",
    "tully_params.update({\"model_path\": all_params['model_path']})\n",
    "\n",
    "neural_tully = CombinedNeuralTully(atoms=atomsbatch,\n",
    "                                   ground_params=ground_params,\n",
    "                                   tully_params=tully_params)\n",
    "    \n"
   ]
  },
  {
   "cell_type": "markdown",
   "metadata": {},
   "source": [
    "The first thing it does is make an `AtomsBatch` object. This is a class we made that inherits from the ASE `Atoms` object, and has othe functionalities to interface with NFF. Then an instance of `CombinedNeuralTully` is made. This object runs ground-state dynamics to generate starting frames and velocities, and then performs surface hopping. It's called \"combined\" because it combines ground- and excited-state dynamics.\n",
    "\n",
    "For an example of how you would use this script in practice, check out `data/tully_info.json`. If you run\n",
    "```bash\n",
    "conda activate nff\n",
    "python ../nff/md/tully/dynamics.py --params_file data/tully_info.json\n",
    "```\n",
    "then you should be able to peform neural Tully in one line. Note that in `tully_info.json`, the `all_params` part of the dictionary is its body, i.e. everything that doesn't have the key `ground_params` or `tully_params`.\n",
    "\n",
    "**Note**: it is very important to have PyTorch version >=1.9 installed. PyTorch is used for exponentiation of complex matrices, which the older versions could not do. Instead of raising an error, the old versions silently return garbage!"
   ]
  },
  {
   "cell_type": "code",
   "execution_count": 8,
   "metadata": {},
   "outputs": [
    {
     "name": "stderr",
     "output_type": "stream",
     "text": [
      "../nff/nn/modules/diabat.py:140: UserWarning: torch.symeig is deprecated in favor of torch.linalg.eigh and will be removed in a future PyTorch release.\n",
      "The default behavior has changed from using the upper triangular portion of the matrix by default to using the lower triangular portion.\n",
      "L, _ = torch.symeig(A, upper=upper)\n",
      "should be replaced with\n",
      "L = torch.linalg.eigvalsh(A, UPLO='U' if upper else 'L')\n",
      "and\n",
      "L, V = torch.symeig(A, eigenvectors=True)\n",
      "should be replaced with\n",
      "L, V = torch.linalg.eigh(A, UPLO='U' if upper else 'L') (Triggered internally at  /opt/conda/conda-bld/pytorch_1623448224956/work/aten/src/ATen/native/BatchLinearAlgebra.cpp:2500.)\n",
      "  ad_energies, u = torch.symeig(d_mat, True)\n"
     ]
    }
   ],
   "source": [
    "neural_tully.run()"
   ]
  },
  {
   "cell_type": "markdown",
   "metadata": {},
   "source": [
    "We can view the ground-state log file:"
   ]
  },
  {
   "cell_type": "code",
   "execution_count": 9,
   "metadata": {
    "scrolled": true
   },
   "outputs": [
    {
     "name": "stdout",
     "output_type": "stream",
     "text": [
      "Time[ps]      Etot[eV]     Epot[eV]     Ekin[eV]    T[K]\n",
      "0.0000           0.3851      -0.8128       1.1979   272.6\n",
      "0.0025           0.3884      -0.5041       0.8926   203.1\n",
      "0.0050           0.3897      -0.1993       0.5890   134.0\n",
      "0.0075           0.3952       0.0001       0.3951    89.9\n",
      "0.0100           0.3994      -0.1739       0.5734   130.5\n",
      "0.0125           0.4129      -0.1288       0.5417   123.2\n",
      "0.0150           0.4263      -0.2033       0.6295   143.2\n",
      "0.0175           0.4465      -0.1374       0.5840   132.9\n",
      "0.0200           0.4674      -0.1826       0.6500   147.9\n",
      "0.0225           0.4937      -0.0632       0.5569   126.7\n",
      "0.0250           0.5209      -0.1908       0.7117   161.9\n",
      "0.0275           0.5595      -0.2084       0.7679   174.7\n",
      "0.0300           0.6021      -0.2014       0.8035   182.8\n",
      "0.0325           0.6429       0.1109       0.5321   121.1\n",
      "0.0350           0.6745       0.1412       0.5333   121.3\n",
      "0.0375           0.7134       0.1143       0.5990   136.3\n",
      "0.0400           0.7654      -0.0323       0.7978   181.5\n",
      "0.0425           0.8283       0.0389       0.7893   179.6\n",
      "0.0450           0.8990      -0.0764       0.9754   221.9\n",
      "0.0475           0.9816       0.0101       0.9715   221.1\n",
      "0.0500           1.0680       0.0639       1.0041   228.5\n",
      "0.0525           1.1518       0.2342       0.9177   208.8\n",
      "0.0550           1.2436       0.0969       1.1467   260.9\n",
      "0.0575           1.3518       0.1259       1.2258   278.9\n",
      "0.0600           1.4693       0.1931       1.2762   290.4\n",
      "0.0625           1.5776       0.4747       1.1029   250.9\n",
      "0.0650           1.6844       0.4328       1.2517   284.8\n",
      "0.0675           1.8024       0.4597       1.3427   305.5\n",
      "0.0700           1.9354       0.4296       1.5059   342.6\n",
      "0.0725           2.0708       0.5036       1.5672   356.6\n",
      "0.0750           2.2177       0.3936       1.8241   415.1\n",
      "0.0775           2.3625       0.6910       1.6715   380.3\n",
      "0.0800           2.4904       0.9756       1.5148   344.7\n",
      "0.0825           2.6005       1.1576       1.4429   328.3\n",
      "0.0850           2.7167       0.9893       1.7274   393.1\n",
      "0.0875           2.8359       1.2419       1.5940   362.7\n",
      "0.0900           2.9428       1.4542       1.4886   338.7\n",
      "0.0925           3.0406       1.4502       1.5904   361.9\n",
      "0.0950           3.1517       1.1625       1.9891   452.6\n",
      "0.0975           3.2638       1.3699       1.8939   430.9\n",
      "0.1000           3.3642       1.4509       1.9133   435.3\n",
      "0.1025           3.4558       1.2613       2.1945   499.3\n",
      "0.1050           3.5453       0.9762       2.5691   584.6\n",
      "0.1075           3.6158       1.4432       2.1726   494.3\n",
      "0.1100           3.6588       1.8335       1.8253   415.3\n",
      "0.1125           3.6867       1.7246       1.9621   446.5\n",
      "0.1150           3.7025       1.2674       2.4350   554.1\n",
      "0.1175           3.7068       1.4164       2.2905   521.2\n",
      "0.1200           3.6870       1.4389       2.2481   511.5\n",
      "0.1225           3.6528       1.4922       2.1606   491.6\n",
      "0.1250           3.5953       1.3849       2.2103   502.9\n",
      "0.1275           3.5334       1.5437       1.9897   452.7\n",
      "0.1300           3.4531       1.3041       2.1490   489.0\n",
      "0.1325           3.3526       1.0524       2.3002   523.4\n",
      "0.1350           3.2249       0.9909       2.2340   508.3\n",
      "0.1375           3.1041       1.2854       1.8188   413.8\n",
      "0.1400           2.9913       1.3803       1.6110   366.6\n",
      "0.1425           2.8762       1.1422       1.7340   394.5\n",
      "0.1450           2.7374       0.8533       1.8841   428.7\n",
      "0.1475           2.5926       0.7699       1.8228   414.8\n",
      "0.1500           2.4475       0.8048       1.6426   373.8\n",
      "0.1525           2.3100       0.7624       1.5475   352.1\n",
      "0.1550           2.1754       0.7852       1.3902   316.3\n",
      "0.1575           2.0567       0.7433       1.3133   298.8\n",
      "0.1600           1.9343       0.5896       1.3446   306.0\n",
      "0.1625           1.8078       0.4296       1.3781   313.6\n",
      "0.1650           1.6862       0.5248       1.1614   264.3\n",
      "0.1675           1.5911       0.6341       0.9570   217.8\n",
      "0.1700           1.5082       0.6162       0.8920   203.0\n",
      "0.1725           1.4248       0.4006       1.0242   233.0\n",
      "0.1750           1.3296       0.2068       1.1229   255.5\n",
      "0.1775           1.2343       0.1009       1.1334   257.9\n",
      "0.1800           1.1418       0.0952       1.0465   238.1\n",
      "0.1825           1.0593       0.0973       0.9620   218.9\n",
      "0.1850           0.9849       0.1316       0.8533   194.2\n",
      "0.1875           0.9228       0.1385       0.7843   178.4\n",
      "0.1900           0.8658       0.1143       0.7515   171.0\n",
      "0.1925           0.8140       0.0827       0.7314   166.4\n",
      "0.1950           0.7670       0.0619       0.7051   160.4\n",
      "0.1975           0.7207      -0.0832       0.8039   182.9\n",
      "0.2000           0.6719      -0.1921       0.8640   196.6\n",
      "\n"
     ]
    }
   ],
   "source": [
    "with open('ground.log', 'r') as f:\n",
    "    ground_log = f.read()\n",
    "print(ground_log)"
   ]
  },
  {
   "cell_type": "markdown",
   "metadata": {},
   "source": [
    "We see that all energies fluctuate, as kinetic energy is being added into the system fo the thermostat. The temperature also varies, and over enough time it will average out to 300 K. \n",
    "\n",
    "To get the actual geometries, energies, and forces, we can load the trajectory file. And we can visualize it with `nglview`:\n",
    "\n"
   ]
  },
  {
   "cell_type": "code",
   "execution_count": 8,
   "metadata": {},
   "outputs": [
    {
     "data": {
      "application/vnd.jupyter.widget-view+json": {
       "model_id": "c3b01de0c3e04874b266e0d2dbe09573",
       "version_major": 2,
       "version_minor": 0
      },
      "text/plain": [
       "NGLWidget(max_frame=80)"
      ]
     },
     "metadata": {},
     "output_type": "display_data"
    }
   ],
   "source": [
    "trj = Trajectory('ground.trj')\n",
    "nv.show_asetraj(trj)"
   ]
  },
  {
   "cell_type": "markdown",
   "metadata": {},
   "source": [
    "We can also view the excited state log:"
   ]
  },
  {
   "cell_type": "code",
   "execution_count": 9,
   "metadata": {
    "scrolled": true
   },
   "outputs": [
    {
     "name": "stdout",
     "output_type": "stream",
     "text": [
      "Time [fs]         State 0         State 1             |c|       Hop prob. \n",
      "0.5                 0.0000%       100.0000%         1.0000         0.0000\n",
      "1.0                 0.0000%       100.0000%         1.0000         0.0000\n",
      "1.5                 0.0000%       100.0000%         1.0000         0.0000\n",
      "2.0                 0.0000%       100.0000%         1.0000         0.0000\n",
      "2.5                 0.0000%       100.0000%         1.0000         0.0000\n",
      "3.0                 0.0000%       100.0000%         1.0000         0.0000\n",
      "3.5                 0.0000%       100.0000%         1.0000         0.0000\n",
      "4.0                 0.0000%       100.0000%         1.0000         0.0000\n",
      "4.5                 0.0000%       100.0000%         1.0000         0.0000\n",
      "5.0                 0.0000%       100.0000%         1.0000         0.0000\n",
      "5.5                 0.0000%       100.0000%         1.0000         0.0000\n",
      "6.0                 0.0000%       100.0000%         1.0000         0.0000\n",
      "6.5                 0.0000%       100.0000%         1.0000         0.0000\n",
      "7.0                 0.0000%       100.0000%         1.0000         0.0000\n",
      "7.5                 0.0000%       100.0000%         1.0000         0.0000\n",
      "8.0                 0.0000%       100.0000%         1.0000         0.0000\n",
      "8.5                 0.0000%       100.0000%         1.0000         0.0000\n",
      "9.0                 0.0000%       100.0000%         1.0000         0.0000\n",
      "9.5                 0.0000%       100.0000%         1.0000         0.0000\n",
      "10.0                0.0000%       100.0000%         1.0000         0.0000\n",
      "10.5                0.0000%       100.0000%         1.0000         0.0000\n",
      "11.0                0.0000%       100.0000%         1.0000         0.0000\n",
      "11.5                0.0000%       100.0000%         1.0000         0.0000\n",
      "12.0                0.0000%       100.0000%         1.0000         0.0000\n",
      "12.5                0.0000%       100.0000%         1.0000         0.0000\n",
      "13.0                0.0000%       100.0000%         1.0000         0.0000\n",
      "13.5                0.0000%       100.0000%         1.0000         0.0000\n",
      "14.0                0.0000%       100.0000%         1.0000         0.0000\n",
      "14.5                0.0000%       100.0000%         1.0000         0.0000\n",
      "15.0                0.0000%       100.0000%         1.0000         0.0000\n",
      "15.5                0.0000%       100.0000%         1.0000         0.0000\n",
      "16.0                0.0000%       100.0000%         1.0000         0.0001\n",
      "16.5                0.0000%       100.0000%         1.0000         0.0002\n",
      "17.0                0.0000%       100.0000%         1.0000         0.0002\n",
      "17.5                0.0000%       100.0000%         1.0000         0.0004\n",
      "18.0                0.0000%       100.0000%         1.0000         0.0009\n",
      "18.5                0.0000%       100.0000%         1.0000         0.0017\n",
      "19.0                0.0000%       100.0000%         1.0000         0.0027\n",
      "19.5                0.0000%       100.0000%         1.0000         0.0038\n",
      "20.0                0.0000%       100.0000%         1.0000         0.0049\n",
      "20.5                0.0000%       100.0000%         1.0000         0.0057\n",
      "21.0               10.0000%        90.0000%         1.0000         0.0134\n",
      "21.5               10.0000%        90.0000%         1.0000         0.0040\n",
      "22.0               10.0000%        90.0000%         1.0000         0.0034\n",
      "22.5               10.0000%        90.0000%         1.0000         0.0033\n",
      "23.0               10.0000%        90.0000%         1.0000         0.0032\n",
      "23.5               10.0000%        90.0000%         1.0000         0.0031\n",
      "24.0               10.0000%        90.0000%         1.0000         0.0031\n",
      "24.5               10.0000%        90.0000%         1.0000         0.0031\n",
      "25.0               10.0000%        90.0000%         1.0000         0.0028\n",
      "25.5               10.0000%        90.0000%         1.0000         0.0024\n",
      "26.0               10.0000%        90.0000%         1.0000         0.0030\n",
      "26.5               20.0000%        80.0000%         1.0000         0.0118\n",
      "27.0               20.0000%        80.0000%         1.0000         0.0015\n",
      "27.5               20.0000%        80.0000%         1.0000         0.0021\n",
      "28.0               20.0000%        80.0000%         1.0000         0.0028\n",
      "28.5               20.0000%        80.0000%         1.0000         0.0033\n",
      "29.0               20.0000%        80.0000%         1.0000         0.0037\n",
      "29.5               20.0000%        80.0000%         1.0000         0.0044\n",
      "30.0               20.0000%        80.0000%         1.0000         0.0089\n",
      "30.5               30.0000%        70.0000%         1.0000         0.0232\n",
      "31.0               30.0000%        70.0000%         1.0000         0.0154\n",
      "31.5               30.0000%        70.0000%         1.0000         0.0255\n",
      "32.0               30.0000%        70.0000%         1.0000         0.0257\n",
      "32.5               30.0000%        70.0000%         1.0000         0.0208\n",
      "33.0               30.0000%        70.0000%         1.0000         0.0220\n",
      "33.5               40.0000%        60.0000%         1.0000         0.0251\n",
      "34.0               40.0000%        60.0000%         1.0000         0.0063\n",
      "34.5               40.0000%        60.0000%         1.0000         0.0043\n",
      "35.0               40.0000%        60.0000%         1.0000         0.0037\n",
      "35.5               40.0000%        60.0000%         1.0000         0.0077\n",
      "36.0               40.0000%        60.0000%         1.0000         0.0034\n",
      "36.5               40.0000%        60.0000%         1.0000         0.0025\n",
      "37.0               40.0000%        60.0000%         1.0000         0.0020\n",
      "37.5               40.0000%        60.0000%         1.0000         0.0016\n",
      "38.0               40.0000%        60.0000%         1.0000         0.0011\n",
      "38.5               40.0000%        60.0000%         1.0000         0.0008\n",
      "39.0               40.0000%        60.0000%         1.0000         0.0006\n",
      "39.5               40.0000%        60.0000%         1.0000         0.0005\n",
      "40.0               40.0000%        60.0000%         1.0000         0.0004\n",
      "40.5               40.0000%        60.0000%         1.0000         0.0003\n",
      "41.0               40.0000%        60.0000%         1.0000         0.0001\n",
      "41.5               40.0000%        60.0000%         1.0000         0.0002\n",
      "42.0               40.0000%        60.0000%         1.0000         0.0002\n",
      "42.5               40.0000%        60.0000%         1.0000         0.0003\n",
      "43.0               40.0000%        60.0000%         1.0000         0.0007\n",
      "43.5               40.0000%        60.0000%         1.0000         0.0014\n",
      "44.0               40.0000%        60.0000%         1.0000         0.0031\n",
      "44.5               40.0000%        60.0000%         1.0000         0.0066\n",
      "45.0               40.0000%        60.0000%         1.0000         0.0124\n",
      "45.5               40.0000%        60.0000%         1.0000         0.0188\n",
      "46.0               40.0000%        60.0000%         1.0000         0.0240\n",
      "46.5               40.0000%        60.0000%         1.0000         0.0346\n",
      "47.0               40.0000%        60.0000%         1.0000         0.0013\n",
      "47.5               40.0000%        60.0000%         1.0000         0.0006\n",
      "48.0               40.0000%        60.0000%         1.0000         0.0000\n",
      "48.5               40.0000%        60.0000%         1.0000         0.0000\n",
      "49.0               40.0000%        60.0000%         1.0000         0.0000\n",
      "49.5               50.0000%        50.0000%         1.0000         0.0008\n",
      "50.0               50.0000%        50.0000%         1.0000         0.0000\n",
      "50.5               50.0000%        50.0000%         1.0000         0.0001\n",
      "51.0               50.0000%        50.0000%         1.0000         0.0009\n",
      "51.5               50.0000%        50.0000%         1.0000         0.0014\n",
      "52.0               50.0000%        50.0000%         1.0000         0.0033\n",
      "52.5               50.0000%        50.0000%         1.0000         0.0062\n",
      "53.0               50.0000%        50.0000%         1.0000         0.0070\n",
      "53.5               50.0000%        50.0000%         1.0000         0.0064\n",
      "54.0               50.0000%        50.0000%         1.0000         0.0050\n",
      "54.5               50.0000%        50.0000%         1.0000         0.0031\n",
      "55.0               50.0000%        50.0000%         1.0000         0.0014\n",
      "55.5               50.0000%        50.0000%         1.0000         0.0002\n",
      "56.0               50.0000%        50.0000%         1.0000         0.0001\n",
      "56.5               50.0000%        50.0000%         1.0000         0.0000\n",
      "57.0               50.0000%        50.0000%         1.0000         0.0000\n",
      "57.5               50.0000%        50.0000%         1.0000         0.0000\n",
      "58.0               50.0000%        50.0000%         1.0000         0.0000\n",
      "58.5               50.0000%        50.0000%         1.0000         0.0000\n",
      "59.0               50.0000%        50.0000%         1.0000         0.0000\n",
      "59.5               50.0000%        50.0000%         1.0000         0.0001\n",
      "60.0               50.0000%        50.0000%         1.0000         0.0001\n",
      "60.5               50.0000%        50.0000%         1.0000         0.0003\n",
      "61.0               50.0000%        50.0000%         1.0000         0.0006\n",
      "61.5               50.0000%        50.0000%         1.0000         0.0011\n",
      "62.0               50.0000%        50.0000%         1.0000         0.0021\n",
      "62.5               50.0000%        50.0000%         1.0000         0.0035\n",
      "63.0               50.0000%        50.0000%         1.0000         0.0044\n",
      "63.5               50.0000%        50.0000%         1.0000         0.0042\n",
      "64.0               50.0000%        50.0000%         1.0000         0.0029\n",
      "64.5               50.0000%        50.0000%         1.0000         0.0014\n",
      "65.0               50.0000%        50.0000%         1.0000         0.0000\n",
      "65.5               50.0000%        50.0000%         1.0000         0.0000\n",
      "66.0               50.0000%        50.0000%         1.0000         0.0000\n",
      "66.5               60.0000%        40.0000%         1.0000         0.0185\n",
      "67.0               60.0000%        40.0000%         1.0000         0.0001\n",
      "67.5               60.0000%        40.0000%         1.0000         0.0001\n",
      "68.0               60.0000%        40.0000%         1.0000         0.0001\n",
      "68.5               60.0000%        40.0000%         1.0000         0.0015\n",
      "69.0               60.0000%        40.0000%         1.0000         0.0033\n",
      "69.5               60.0000%        40.0000%         1.0000         0.0045\n",
      "70.0               60.0000%        40.0000%         1.0000         0.0049\n",
      "70.5               60.0000%        40.0000%         1.0000         0.0050\n",
      "71.0               60.0000%        40.0000%         1.0000         0.0048\n",
      "71.5               60.0000%        40.0000%         1.0000         0.0043\n",
      "72.0               60.0000%        40.0000%         1.0000         0.0037\n",
      "72.5               60.0000%        40.0000%         1.0000         0.0037\n",
      "73.0               60.0000%        40.0000%         1.0000         0.0042\n",
      "73.5               60.0000%        40.0000%         1.0000         0.0050\n",
      "74.0               70.0000%        30.0000%         1.0000         0.0053\n",
      "74.5               70.0000%        30.0000%         1.0000         0.0033\n",
      "75.0               70.0000%        30.0000%         1.0000         0.0030\n",
      "75.5               70.0000%        30.0000%         1.0000         0.0023\n",
      "76.0               70.0000%        30.0000%         1.0000         0.0017\n",
      "76.5               70.0000%        30.0000%         1.0000         0.0011\n",
      "77.0               70.0000%        30.0000%         1.0000         0.0008\n",
      "77.5               70.0000%        30.0000%         1.0000         0.0007\n",
      "78.0               70.0000%        30.0000%         1.0000         0.0009\n",
      "78.5               70.0000%        30.0000%         1.0000         0.0010\n",
      "79.0               70.0000%        30.0000%         1.0000         0.0014\n",
      "79.5               70.0000%        30.0000%         1.0000         0.0017\n",
      "80.0               70.0000%        30.0000%         1.0000         0.0022\n",
      "80.5               70.0000%        30.0000%         1.0000         0.0025\n",
      "81.0               70.0000%        30.0000%         1.0000         0.0028\n",
      "81.5               70.0000%        30.0000%         1.0000         0.0030\n",
      "82.0               70.0000%        30.0000%         1.0000         0.0030\n",
      "82.5               70.0000%        30.0000%         1.0000         0.0030\n",
      "83.0               70.0000%        30.0000%         1.0000         0.0033\n",
      "83.5               70.0000%        30.0000%         1.0000         0.0045\n",
      "84.0               70.0000%        30.0000%         1.0000         0.0070\n",
      "84.5               70.0000%        30.0000%         1.0000         0.0102\n",
      "85.0               70.0000%        30.0000%         1.0000         0.0108\n",
      "85.5               70.0000%        30.0000%         1.0000         0.0084\n",
      "86.0               70.0000%        30.0000%         1.0000         0.0212\n",
      "86.5               80.0000%        20.0000%         1.0000         0.0566\n",
      "87.0               80.0000%        20.0000%         1.0000         0.0044\n",
      "87.5               80.0000%        20.0000%         1.0000         0.0074\n",
      "88.0               80.0000%        20.0000%         1.0000         0.0098\n",
      "88.5               80.0000%        20.0000%         1.0000         0.0095\n",
      "89.0               80.0000%        20.0000%         1.0000         0.0054\n",
      "89.5               80.0000%        20.0000%         1.0000         0.0006\n",
      "90.0               80.0000%        20.0000%         1.0000         0.0003\n",
      "90.5               80.0000%        20.0000%         1.0000         0.0329\n",
      "91.0               80.0000%        20.0000%         1.0000         0.0124\n",
      "91.5               80.0000%        20.0000%         1.0000         0.0059\n",
      "92.0               80.0000%        20.0000%         1.0000         0.0043\n",
      "92.5               80.0000%        20.0000%         1.0000         0.0084\n",
      "93.0               80.0000%        20.0000%         1.0000         0.0049\n",
      "93.5               80.0000%        20.0000%         1.0000         0.0000\n",
      "94.0               80.0000%        20.0000%         1.0000         0.0000\n",
      "94.5               80.0000%        20.0000%         1.0000         0.0000\n",
      "95.0               80.0000%        20.0000%         1.0000         0.0000\n",
      "95.5               80.0000%        20.0000%         1.0000         0.0000\n",
      "96.0               80.0000%        20.0000%         1.0000         0.0000\n",
      "96.5               80.0000%        20.0000%         1.0000         0.0000\n",
      "97.0               80.0000%        20.0000%         1.0000         0.0000\n",
      "97.5               80.0000%        20.0000%         1.0000         0.0000\n",
      "98.0               90.0000%        10.0000%         1.0000         0.0779\n",
      "98.5               90.0000%        10.0000%         1.0000         0.0000\n",
      "99.0               90.0000%        10.0000%         1.0000         0.0000\n",
      "99.5               90.0000%        10.0000%         1.0000         0.0000\n",
      "100.0              90.0000%        10.0000%         1.0000         0.0000\n",
      "100.5              90.0000%        10.0000%         1.0000         0.0000\n",
      "101.0              90.0000%        10.0000%         1.0000         0.0000\n",
      "101.5              90.0000%        10.0000%         1.0000         0.0001\n",
      "102.0              90.0000%        10.0000%         1.0000         0.0002\n",
      "102.5              90.0000%        10.0000%         1.0000         0.0003\n",
      "103.0              90.0000%        10.0000%         1.0000         0.0003\n",
      "103.5              90.0000%        10.0000%         1.0000         0.0002\n",
      "104.0              90.0000%        10.0000%         1.0000         0.0001\n",
      "104.5              90.0000%        10.0000%         1.0000         0.0001\n",
      "105.0              90.0000%        10.0000%         1.0000         0.0001\n",
      "105.5              90.0000%        10.0000%         1.0000         0.0000\n",
      "106.0              90.0000%        10.0000%         1.0000         0.0001\n",
      "106.5              90.0000%        10.0000%         1.0000         0.0003\n",
      "107.0              90.0000%        10.0000%         1.0000         0.0010\n",
      "107.5              90.0000%        10.0000%         1.0000         0.0021\n",
      "108.0              90.0000%        10.0000%         1.0000         0.0031\n",
      "108.5              90.0000%        10.0000%         1.0000         0.0036\n",
      "109.0              90.0000%        10.0000%         1.0000         0.0037\n",
      "109.5              90.0000%        10.0000%         1.0000         0.0034\n",
      "110.0              90.0000%        10.0000%         1.0000         0.0030\n",
      "110.5              90.0000%        10.0000%         1.0000         0.0026\n",
      "111.0              90.0000%        10.0000%         1.0000         0.0023\n",
      "111.5              90.0000%        10.0000%         1.0000         0.0022\n",
      "112.0              90.0000%        10.0000%         1.0000         0.0024\n",
      "112.5              90.0000%        10.0000%         1.0000         0.0031\n",
      "113.0              90.0000%        10.0000%         1.0000         0.0056\n",
      "113.5              90.0000%        10.0000%         1.0000         0.0162\n",
      "114.0              90.0000%        10.0000%         1.0000         0.0571\n",
      "114.5             100.0000%         0.0000%         1.0000         0.0678\n",
      "115.0             100.0000%         0.0000%         1.0000         0.0000\n",
      "115.5             100.0000%         0.0000%         1.0000         0.0036\n",
      "116.0             100.0000%         0.0000%         1.0000         0.0050\n",
      "116.5             100.0000%         0.0000%         1.0000         0.0061\n",
      "117.0             100.0000%         0.0000%         1.0000         0.0078\n",
      "117.5             100.0000%         0.0000%         1.0000         0.0087\n",
      "118.0             100.0000%         0.0000%         1.0000         0.0076\n",
      "118.5             100.0000%         0.0000%         1.0000         0.0051\n",
      "119.0             100.0000%         0.0000%         1.0000         0.0022\n",
      "119.5             100.0000%         0.0000%         1.0000         0.0002\n",
      "120.0             100.0000%         0.0000%         1.0000         0.0000\n",
      "120.5             100.0000%         0.0000%         1.0000         0.0004\n",
      "121.0             100.0000%         0.0000%         1.0000         0.0003\n",
      "121.5             100.0000%         0.0000%         1.0000         0.0001\n",
      "122.0             100.0000%         0.0000%         1.0000         0.0000\n",
      "122.5             100.0000%         0.0000%         1.0000         0.0000\n",
      "123.0             100.0000%         0.0000%         1.0000         0.0000\n",
      "123.5             100.0000%         0.0000%         1.0000         0.0000\n",
      "124.0             100.0000%         0.0000%         1.0000         0.0000\n",
      "124.5             100.0000%         0.0000%         1.0000         0.0000\n",
      "125.0             100.0000%         0.0000%         1.0000         0.0000\n",
      "125.5             100.0000%         0.0000%         1.0000         0.0000\n",
      "126.0             100.0000%         0.0000%         1.0000         0.0000\n",
      "126.5             100.0000%         0.0000%         1.0000         0.0000\n",
      "127.0             100.0000%         0.0000%         1.0000         0.0000\n",
      "127.5             100.0000%         0.0000%         1.0000         0.0000\n",
      "128.0             100.0000%         0.0000%         1.0000         0.0000\n",
      "128.5             100.0000%         0.0000%         1.0000         0.0000\n",
      "129.0             100.0000%         0.0000%         1.0000         0.0000\n",
      "129.5             100.0000%         0.0000%         1.0000         0.0000\n",
      "130.0             100.0000%         0.0000%         1.0000         0.0000\n",
      "130.5             100.0000%         0.0000%         1.0000         0.0000\n",
      "131.0             100.0000%         0.0000%         1.0000         0.0000\n",
      "131.5             100.0000%         0.0000%         1.0000         0.0000\n",
      "132.0             100.0000%         0.0000%         1.0000         0.0000\n",
      "132.5             100.0000%         0.0000%         1.0000         0.0000\n",
      "133.0             100.0000%         0.0000%         1.0000         0.0000\n",
      "133.5             100.0000%         0.0000%         1.0000         0.0000\n",
      "134.0             100.0000%         0.0000%         1.0000         0.0000\n",
      "134.5             100.0000%         0.0000%         1.0000         0.0000\n",
      "135.0             100.0000%         0.0000%         1.0000         0.0000\n",
      "135.5             100.0000%         0.0000%         1.0000         0.0000\n",
      "136.0             100.0000%         0.0000%         1.0000         0.0000\n",
      "136.5             100.0000%         0.0000%         1.0000         0.0000\n",
      "137.0             100.0000%         0.0000%         1.0000         0.0000\n",
      "137.5             100.0000%         0.0000%         1.0000         0.0000\n",
      "138.0             100.0000%         0.0000%         1.0000         0.0000\n",
      "138.5             100.0000%         0.0000%         1.0000         0.0000\n",
      "139.0             100.0000%         0.0000%         1.0000         0.0000\n",
      "139.5             100.0000%         0.0000%         1.0000         0.0000\n",
      "140.0             100.0000%         0.0000%         1.0000         0.0000\n",
      "140.5             100.0000%         0.0000%         1.0000         0.0000\n",
      "141.0             100.0000%         0.0000%         1.0000         0.0000\n",
      "141.5             100.0000%         0.0000%         1.0000         0.0000\n",
      "142.0             100.0000%         0.0000%         1.0000         0.0000\n",
      "142.5             100.0000%         0.0000%         1.0000         0.0000\n",
      "143.0             100.0000%         0.0000%         1.0000         0.0000\n",
      "143.5             100.0000%         0.0000%         1.0000         0.0000\n",
      "144.0             100.0000%         0.0000%         1.0000         0.0000\n",
      "144.5             100.0000%         0.0000%         1.0000         0.0000\n",
      "145.0             100.0000%         0.0000%         1.0000         0.0000\n",
      "145.5             100.0000%         0.0000%         1.0000         0.0000\n",
      "146.0             100.0000%         0.0000%         1.0000         0.0000\n",
      "146.5             100.0000%         0.0000%         1.0000         0.0000\n",
      "147.0             100.0000%         0.0000%         1.0000         0.0000\n",
      "147.5             100.0000%         0.0000%         1.0000         0.0000\n",
      "148.0             100.0000%         0.0000%         1.0000         0.0000\n",
      "148.5             100.0000%         0.0000%         1.0000         0.0000\n",
      "149.0             100.0000%         0.0000%         1.0000         0.0000\n",
      "149.5             100.0000%         0.0000%         1.0000         0.0000\n",
      "150.0             100.0000%         0.0000%         1.0000         0.0000\n",
      "150.5             100.0000%         0.0000%         1.0000         0.0000\n",
      "151.0             100.0000%         0.0000%         1.0000         0.0000\n",
      "151.5             100.0000%         0.0000%         1.0000         0.0000\n",
      "152.0             100.0000%         0.0000%         1.0000         0.0000\n",
      "152.5             100.0000%         0.0000%         1.0000         0.0000\n",
      "153.0             100.0000%         0.0000%         1.0000         0.0000\n",
      "153.5             100.0000%         0.0000%         1.0000         0.0000\n",
      "154.0             100.0000%         0.0000%         1.0000         0.0000\n",
      "154.5             100.0000%         0.0000%         1.0000         0.0000\n",
      "155.0             100.0000%         0.0000%         1.0000         0.0000\n",
      "155.5             100.0000%         0.0000%         1.0000         0.0000\n",
      "156.0             100.0000%         0.0000%         1.0000         0.0000\n",
      "156.5             100.0000%         0.0000%         1.0000         0.0000\n",
      "157.0             100.0000%         0.0000%         1.0000         0.0000\n",
      "157.5             100.0000%         0.0000%         1.0000         0.0000\n",
      "158.0             100.0000%         0.0000%         1.0000         0.0000\n",
      "158.5             100.0000%         0.0000%         1.0000         0.0000\n",
      "159.0             100.0000%         0.0000%         1.0000         0.0000\n",
      "159.5             100.0000%         0.0000%         1.0000         0.0000\n",
      "160.0             100.0000%         0.0000%         1.0000         0.0000\n",
      "160.5             100.0000%         0.0000%         1.0000         0.0000\n",
      "161.0             100.0000%         0.0000%         1.0000         0.0000\n",
      "161.5             100.0000%         0.0000%         1.0000         0.0000\n",
      "162.0             100.0000%         0.0000%         1.0000         0.0000\n",
      "162.5             100.0000%         0.0000%         1.0000         0.0000\n",
      "163.0             100.0000%         0.0000%         1.0000         0.0000\n",
      "163.5             100.0000%         0.0000%         1.0000         0.0000\n",
      "164.0             100.0000%         0.0000%         1.0000         0.0000\n",
      "164.5             100.0000%         0.0000%         1.0000         0.0000\n",
      "165.0             100.0000%         0.0000%         1.0000         0.0000\n",
      "165.5             100.0000%         0.0000%         1.0000         0.0000\n",
      "166.0             100.0000%         0.0000%         1.0000         0.0000\n",
      "166.5             100.0000%         0.0000%         1.0000         0.0000\n",
      "167.0             100.0000%         0.0000%         1.0000         0.0000\n",
      "167.5             100.0000%         0.0000%         1.0000         0.0000\n",
      "168.0             100.0000%         0.0000%         1.0000         0.0000\n",
      "168.5             100.0000%         0.0000%         1.0000         0.0000\n",
      "169.0             100.0000%         0.0000%         1.0000         0.0000\n",
      "169.5             100.0000%         0.0000%         1.0000         0.0000\n",
      "170.0             100.0000%         0.0000%         1.0000         0.0000\n",
      "170.5             100.0000%         0.0000%         1.0000         0.0000\n",
      "171.0             100.0000%         0.0000%         1.0000         0.0000\n",
      "171.5             100.0000%         0.0000%         1.0000         0.0000\n",
      "172.0             100.0000%         0.0000%         1.0000         0.0000\n",
      "172.5             100.0000%         0.0000%         1.0000         0.0000\n",
      "173.0             100.0000%         0.0000%         1.0000         0.0000\n",
      "173.5             100.0000%         0.0000%         1.0000         0.0000\n",
      "174.0             100.0000%         0.0000%         1.0000         0.0000\n",
      "174.5             100.0000%         0.0000%         1.0000         0.0000\n",
      "175.0             100.0000%         0.0000%         1.0000         0.0000\n",
      "175.5             100.0000%         0.0000%         1.0000         0.0000\n",
      "176.0             100.0000%         0.0000%         1.0000         0.0000\n",
      "176.5             100.0000%         0.0000%         1.0000         0.0000\n",
      "177.0             100.0000%         0.0000%         1.0000         0.0000\n",
      "177.5             100.0000%         0.0000%         1.0000         0.0000\n",
      "178.0             100.0000%         0.0000%         1.0000         0.0000\n",
      "178.5             100.0000%         0.0000%         1.0000         0.0000\n",
      "179.0             100.0000%         0.0000%         1.0000         0.0000\n",
      "179.5             100.0000%         0.0000%         1.0000         0.0000\n",
      "180.0             100.0000%         0.0000%         1.0000         0.0000\n",
      "180.5             100.0000%         0.0000%         1.0000         0.0000\n",
      "181.0             100.0000%         0.0000%         1.0000         0.0000\n",
      "181.5             100.0000%         0.0000%         1.0000         0.0000\n",
      "182.0             100.0000%         0.0000%         1.0000         0.0000\n",
      "182.5             100.0000%         0.0000%         1.0000         0.0000\n",
      "183.0             100.0000%         0.0000%         1.0000         0.0000\n",
      "183.5             100.0000%         0.0000%         1.0000         0.0000\n",
      "184.0             100.0000%         0.0000%         1.0000         0.0000\n",
      "184.5             100.0000%         0.0000%         1.0000         0.0000\n",
      "185.0             100.0000%         0.0000%         1.0000         0.0000\n",
      "185.5             100.0000%         0.0000%         1.0000         0.0000\n",
      "186.0             100.0000%         0.0000%         1.0000         0.0000\n",
      "186.5             100.0000%         0.0000%         1.0000         0.0000\n",
      "187.0             100.0000%         0.0000%         1.0000         0.0000\n",
      "187.5             100.0000%         0.0000%         1.0000         0.0000\n",
      "188.0             100.0000%         0.0000%         1.0000         0.0000\n",
      "188.5             100.0000%         0.0000%         1.0000         0.0000\n",
      "189.0             100.0000%         0.0000%         1.0000         0.0000\n",
      "189.5             100.0000%         0.0000%         1.0000         0.0000\n",
      "190.0             100.0000%         0.0000%         1.0000         0.0000\n",
      "190.5             100.0000%         0.0000%         1.0000         0.0000\n",
      "191.0             100.0000%         0.0000%         1.0000         0.0000\n",
      "191.5             100.0000%         0.0000%         1.0000         0.0000\n",
      "192.0             100.0000%         0.0000%         1.0000         0.0000\n",
      "192.5             100.0000%         0.0000%         1.0000         0.0000\n",
      "193.0             100.0000%         0.0000%         1.0000         0.0000\n",
      "193.5             100.0000%         0.0000%         1.0000         0.0000\n",
      "194.0             100.0000%         0.0000%         1.0000         0.0000\n",
      "194.5             100.0000%         0.0000%         1.0000         0.0000\n",
      "195.0             100.0000%         0.0000%         1.0000         0.0000\n",
      "195.5             100.0000%         0.0000%         1.0000         0.0000\n",
      "196.0             100.0000%         0.0000%         1.0000         0.0000\n",
      "196.5             100.0000%         0.0000%         1.0000         0.0000\n",
      "197.0             100.0000%         0.0000%         1.0000         0.0000\n",
      "197.5             100.0000%         0.0000%         1.0000         0.0000\n",
      "198.0             100.0000%         0.0000%         1.0000         0.0000\n",
      "198.5             100.0000%         0.0000%         1.0000         0.0000\n",
      "199.0             100.0000%         0.0000%         1.0000         0.0000\n",
      "199.5             100.0000%         0.0000%         1.0000         0.0000\n",
      "200.0             100.0000%         0.0000%         1.0000         0.0000\n",
      "Neural Tully terminated normally.\n"
     ]
    }
   ],
   "source": [
    "with open('tully.log', 'r') as f:\n",
    "    tully_log = f.read()\n",
    "print(tully_log)"
   ]
  },
  {
   "cell_type": "markdown",
   "metadata": {},
   "source": [
    "This log shows us the population in the different states at each time, the norm of the electronic coefficient vector $c$, and the maximum hopping probability of any of the trajectories. We see that all of the trajectories have returned to the ground state by 200 fs.\n",
    "\n",
    "To get the geometries, forces, etc., we can use the `NeuralTully` class method `from_pickle`:\n",
    "\n"
   ]
  },
  {
   "cell_type": "code",
   "execution_count": 10,
   "metadata": {},
   "outputs": [],
   "source": [
    "state_dicts, trjs = NeuralTully.from_pickle('tully.pickle')"
   ]
  },
  {
   "cell_type": "markdown",
   "metadata": {},
   "source": [
    "The output contains `state_dicts`, a set of dictionaries with information about each trajectory for each time step, and `trjs`, a set of ASE trajectories. We can visualize one of the trajectories:"
   ]
  },
  {
   "cell_type": "code",
   "execution_count": 20,
   "metadata": {},
   "outputs": [
    {
     "data": {
      "application/vnd.jupyter.widget-view+json": {
       "model_id": "dfab6b01201c490392cd4ef6e9a93b2e",
       "version_major": 2,
       "version_minor": 0
      },
      "text/plain": [
       "NGLWidget(max_frame=48)"
      ]
     },
     "metadata": {},
     "output_type": "display_data"
    }
   ],
   "source": [
    "trj = trjs[0]\n",
    "nv.show_asetraj(trj)"
   ]
  },
  {
   "cell_type": "markdown",
   "metadata": {},
   "source": [
    "We can also take a look at `state_dicts`:"
   ]
  },
  {
   "cell_type": "code",
   "execution_count": 12,
   "metadata": {},
   "outputs": [
    {
     "name": "stdout",
     "output_type": "stream",
     "text": [
      "49\n",
      "['nxyz', 'nacv', 'force_nacv', 'energy', 'forces', 'H_d', 'U', 't', 'vel', 'c', 'T', 'surfs']\n"
     ]
    }
   ],
   "source": [
    "print(len(state_dicts))\n",
    "print(list(state_dicts[0].keys()))\n"
   ]
  },
  {
   "cell_type": "markdown",
   "metadata": {},
   "source": [
    "We see that there is one dictionary for each saved time step (all time steps in which a hop occurs are automatically saved, even if you only asked the geoms to be saved every X steps). Each dictionary has various properties, each of shape `num_trj  x ...`, so that the first dimension divides properties by trajectory. For example:\n",
    "\n"
   ]
  },
  {
   "cell_type": "code",
   "execution_count": 24,
   "metadata": {
    "scrolled": true
   },
   "outputs": [
    {
     "name": "stdout",
     "output_type": "stream",
     "text": [
      "nxyz:  (10, 34, 4)\n",
      "energy:  (10, 2)\n",
      "forces:  (10, 2, 34, 3)\n",
      "H_d:  (10, 3, 3)\n",
      "U:  (10, 3, 3)\n",
      "vel:  (10, 34, 3)\n",
      "c:  (10, 3)\n",
      "surfs:  (10,)\n",
      "None\n",
      "None\n"
     ]
    }
   ],
   "source": [
    "state_dict = state_dicts[0]\n",
    "print('nxyz: ', state_dict['nxyz'].shape) # coordinates \n",
    "print('energy: ', state_dict['energy'].shape) # energy\n",
    "print('forces: ', state_dict['forces'].shape) # forces on each surface\n",
    "print('H_d: ', state_dict['H_d'].shape) # diabatic Hamiltonian\n",
    "print('U: ', state_dict['U'].shape) # unitary transformation from diabatic to adiabatic \n",
    "print('vel: ', state_dict['vel'].shape) # velocities\n",
    "print('c: ', state_dict['c'].shape) # c electronic wavefunction vector \n",
    "print('surfs: ', state_dict['surfs'].shape) # current surface\n",
    "\n",
    "\n",
    "print(state_dict['force_nacv']) # not computed because we did diabatic propagation\n",
    "print(state_dict['T']) # T matrix (NACV off-diagonal components of Hamiltonian)\n",
    "                       # also not computed because we did diabatic propagation"
   ]
  },
  {
   "cell_type": "code",
   "execution_count": null,
   "metadata": {},
   "outputs": [],
   "source": []
  }
 ],
 "metadata": {
  "kernelspec": {
   "display_name": "Python [conda env:nff]",
   "language": "python",
   "name": "nff"
  },
  "language_info": {
   "codemirror_mode": {
    "name": "ipython",
    "version": 3
   },
   "file_extension": ".py",
   "mimetype": "text/x-python",
   "name": "python",
   "nbconvert_exporter": "python",
   "pygments_lexer": "ipython3",
   "version": "3.7.10"
  }
 },
 "nbformat": 4,
 "nbformat_minor": 2
}
