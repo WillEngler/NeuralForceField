{
 "cells": [
  {
   "cell_type": "markdown",
   "metadata": {},
   "source": [
    "# Introduction to Neural Force Field"
   ]
  },
  {
   "cell_type": "markdown",
   "metadata": {},
   "source": [
    "This Jupyter Notebook contains an introduction to the `nff` package. Here, we will load the modules and functions from `nff` to import a dataset, create dataloaders, create a model, train it and check the test stats. We will do most of it manually to illustrate the usage of the API. However, scripts such as the one provided in the `scripts/` folder already automate most of this process."
   ]
  },
  {
   "cell_type": "markdown",
   "metadata": {},
   "source": [
    "After the `nff` package has been installed, we start by importing all dependencies for this tutorial."
   ]
  },
  {
   "cell_type": "code",
   "execution_count": 1,
   "metadata": {},
   "outputs": [],
   "source": [
    "import os\n",
    "import shutil\n",
    "import numpy as np\n",
    "import matplotlib.pyplot as plt\n",
    "\n",
    "import torch\n",
    "from torch.optim import Adam\n",
    "from torch.utils.data import DataLoader\n",
    "\n",
    "from nff.data import Dataset, split_train_validation_test, collate_dicts\n",
    "from nff.train import Trainer, get_trainer, get_model, loss, hooks, metrics, evaluate"
   ]
  },
  {
   "cell_type": "markdown",
   "metadata": {},
   "source": [
    "It might also be useful setting the GPU you want to use:"
   ]
  },
  {
   "cell_type": "code",
   "execution_count": 2,
   "metadata": {},
   "outputs": [],
   "source": [
    "DEVICE = 1\n",
    "OUTDIR = './sandbox'\n",
    "\n",
    "if os.path.exists(OUTDIR):\n",
    "    newpath = os.path.join(os.path.dirname(OUTDIR), 'backup')\n",
    "    if os.path.exists(newpath):\n",
    "        shutil.rmtree(newpath)\n",
    "        \n",
    "    shutil.move(OUTDIR, newpath)"
   ]
  },
  {
   "cell_type": "markdown",
   "metadata": {},
   "source": [
    "## Loading the relevant data"
   ]
  },
  {
   "cell_type": "markdown",
   "metadata": {},
   "source": [
    "As we usually work with the database, we can pack their information in a class `Dataset`, which is a subclass of `torch.utils.data.Dataset`. It basically wraps information on the atomic numbers, energies, forces and SMILES strings for each one of the geometries. In this example, we already have a pre-compiled `Dataset` to be used. We start by loading this file and creating three slices of the original dataset"
   ]
  },
  {
   "cell_type": "code",
   "execution_count": 3,
   "metadata": {},
   "outputs": [],
   "source": [
    "dataset = Dataset.from_file('./dataset.pth.tar')"
   ]
  },
  {
   "cell_type": "code",
   "execution_count": 4,
   "metadata": {},
   "outputs": [],
   "source": [
    "train, val, test = split_train_validation_test(dataset, val_size=0.2, test_size=0.2)"
   ]
  },
  {
   "cell_type": "markdown",
   "metadata": {},
   "source": [
    "The `nff` code interfaces with the `graphbuilder` module through a git submodule in the repository. `graphbuilder` provides methods to create batches of graphs. In `nff`, we interface that through a custom dataloader called `\n",
    "GraphLoader`. Here, we create one loader for each one of the slices."
   ]
  },
  {
   "cell_type": "code",
   "execution_count": 5,
   "metadata": {},
   "outputs": [],
   "source": [
    "train_loader = DataLoader(train, batch_size=50, collate_fn=collate_dicts)\n",
    "val_loader = DataLoader(val, batch_size=50, collate_fn=collate_dicts)\n",
    "test_loader = DataLoader(test, batch_size=50, collate_fn=collate_dicts)"
   ]
  },
  {
   "cell_type": "markdown",
   "metadata": {},
   "source": [
    "## Creating a model"
   ]
  },
  {
   "cell_type": "markdown",
   "metadata": {},
   "source": [
    "`nff` is based on SchNet. It parameterizes interatomic interactions in molecules and materials through a series of convolution layers with continuous filters. Here, we are going to create a simple model using the hyperparameters given on `params`:"
   ]
  },
  {
   "cell_type": "code",
   "execution_count": 6,
   "metadata": {},
   "outputs": [],
   "source": [
    "params = {\n",
    "    'n_atom_basis': 256,\n",
    "    'n_filters': 256,\n",
    "    'n_gaussians': 32,\n",
    "    'n_convolutions': 4,\n",
    "    'cutoff': 5.0,\n",
    "    'trainable_gauss': True\n",
    "}\n",
    "\n",
    "model = get_model(params)"
   ]
  },
  {
   "cell_type": "markdown",
   "metadata": {},
   "source": [
    "## Creating a trainer"
   ]
  },
  {
   "cell_type": "markdown",
   "metadata": {},
   "source": [
    "To train our model with the data provided, we have to create a loss function. The easiest way to do that is through the `build_mse_loss` builder. Its argument `rho` is a parameter that will multiply the mean square error (MSE) of the force components before summing it with the MSE of the energy."
   ]
  },
  {
   "cell_type": "code",
   "execution_count": 7,
   "metadata": {},
   "outputs": [],
   "source": [
    "loss_fn = loss.build_mse_loss(loss_coef={'energy': 0.01, 'energy_grad': 1})"
   ]
  },
  {
   "cell_type": "markdown",
   "metadata": {},
   "source": [
    "We should also select an optimizer for our recently created model:"
   ]
  },
  {
   "cell_type": "code",
   "execution_count": 8,
   "metadata": {},
   "outputs": [],
   "source": [
    "trainable_params = filter(lambda p: p.requires_grad, model.parameters())\n",
    "optimizer = Adam(trainable_params, lr=3e-4)"
   ]
  },
  {
   "cell_type": "markdown",
   "metadata": {},
   "source": [
    "### Metrics and hooks"
   ]
  },
  {
   "cell_type": "markdown",
   "metadata": {},
   "source": [
    "Metrics and hooks allow the customization of the training process. Instead of tweaking directly the code or having to resort to countless flags, we can create submodules (or add-ons) to monitor the progress of the training or customize it."
   ]
  },
  {
   "cell_type": "markdown",
   "metadata": {},
   "source": [
    "If we want to monitor the progress of our training, say by looking at the mean absolute error (MAE) of energies and forces, we can simply create metrics to observe them:"
   ]
  },
  {
   "cell_type": "code",
   "execution_count": 9,
   "metadata": {},
   "outputs": [],
   "source": [
    "train_metrics = [\n",
    "    metrics.MeanAbsoluteError('energy'),\n",
    "    metrics.MeanAbsoluteError('energy_grad')\n",
    "]"
   ]
  },
  {
   "cell_type": "markdown",
   "metadata": {},
   "source": [
    "Furthermore, if we want to customize how our training procedure is done, we can use hooks which can interrupt or change the train automatically.\n",
    "\n",
    "In our case, we are adding hooks to:\n",
    "* Stop the training procedure after 100 epochs;\n",
    "* Log the training on a machine-readable CSV file under the directory `./sandbox`;\n",
    "* Print the progress on the screen with custom formatting; and\n",
    "* Setup a scheduler for the learning rate."
   ]
  },
  {
   "cell_type": "code",
   "execution_count": 10,
   "metadata": {},
   "outputs": [],
   "source": [
    "train_hooks = [\n",
    "    hooks.MaxEpochHook(100),\n",
    "    hooks.CSVHook(\n",
    "        OUTDIR,\n",
    "        metrics=train_metrics,\n",
    "    ),\n",
    "    hooks.PrintingHook(\n",
    "        OUTDIR,\n",
    "        metrics=train_metrics,\n",
    "        separator = ' | ',\n",
    "        time_strf='%M:%S'\n",
    "    ),\n",
    "    hooks.ReduceLROnPlateauHook(\n",
    "        optimizer=optimizer,\n",
    "        patience=30,\n",
    "        factor=0.5,\n",
    "        min_lr=1e-7,\n",
    "        window_length=1,\n",
    "        stop_after_min=True\n",
    "    )\n",
    "]"
   ]
  },
  {
   "cell_type": "markdown",
   "metadata": {},
   "source": [
    "### Trainer wrapper"
   ]
  },
  {
   "cell_type": "markdown",
   "metadata": {},
   "source": [
    "A `Trainer` in the `nff` package is a wrapper to train a model. It automatically creates checkpoints, as well as trains and validates a given model. It also allow further training by loading checkpoints from existing paths, making the training procedure more flexible. Its functionalities can be extended by the hooks we created above. To create a trainer, we have to execute the following command:"
   ]
  },
  {
   "cell_type": "code",
   "execution_count": 11,
   "metadata": {},
   "outputs": [],
   "source": [
    "T = Trainer(\n",
    "    model_path=OUTDIR,\n",
    "    model=model,\n",
    "    loss_fn=loss_fn,\n",
    "    optimizer=optimizer,\n",
    "    train_loader=train_loader,\n",
    "    validation_loader=val_loader,\n",
    "    checkpoint_interval=1,\n",
    "    hooks=train_hooks\n",
    ")"
   ]
  },
  {
   "cell_type": "markdown",
   "metadata": {},
   "source": [
    "Now we can finally train the model using the method `train` from the `Trainer`:"
   ]
  },
  {
   "cell_type": "code",
   "execution_count": 15,
   "metadata": {
    "scrolled": false
   },
   "outputs": [
    {
     "name": "stdout",
     "output_type": "stream",
     "text": [
      " Time | Epoch | Learning rate | Train loss | Validation loss | MAE_energy | MAE_energy_grad | GPU Memory (MB)\n",
      "17:39 |    51 |     3.000e-04 |     5.4359 |          5.6561 |     1.4020 |          1.7043 |             806\n",
      "17:40 |    52 |     3.000e-04 |     5.3233 |          5.5886 |     0.8962 |          1.6962 |             806\n",
      "17:40 |    53 |     3.000e-04 |     5.3102 |          5.5090 |     0.7244 |          1.6855 |             806\n",
      "17:41 |    54 |     3.000e-04 |     5.5143 |          5.4781 |     0.8621 |          1.6888 |             806\n",
      "17:42 |    55 |     3.000e-04 |     6.4098 |          8.9653 |     1.5742 |          2.2890 |             806\n",
      "17:42 |    56 |     3.000e-04 |     6.2179 |          6.1829 |     1.5785 |          1.8158 |             806\n",
      "17:43 |    57 |     3.000e-04 |     5.8132 |          5.7418 |     1.5150 |          1.7357 |             806\n",
      "17:44 |    58 |     3.000e-04 |     5.0422 |          5.6903 |     0.9932 |          1.7579 |             806\n",
      "17:44 |    59 |     3.000e-04 |     5.2283 |          5.5854 |     1.2257 |          1.7345 |             806\n",
      "17:45 |    60 |     3.000e-04 |     5.0945 |          5.4580 |     1.2087 |          1.7090 |             806\n",
      "17:46 |    61 |     3.000e-04 |     5.0423 |          5.3025 |     1.0337 |          1.6759 |             806\n",
      "17:47 |    62 |     3.000e-04 |     4.9741 |          5.1970 |     0.8724 |          1.6562 |             806\n",
      "17:47 |    63 |     3.000e-04 |     4.9282 |          5.1362 |     0.7621 |          1.6473 |             806\n",
      "17:48 |    64 |     3.000e-04 |     4.9119 |          5.1871 |     0.6574 |          1.6615 |             806\n",
      "17:49 |    65 |     3.000e-04 |     4.9753 |          5.4163 |     0.5991 |          1.7107 |             806\n",
      "17:49 |    66 |     3.000e-04 |     5.1562 |          6.1901 |     0.5839 |          1.8572 |             806\n",
      "17:50 |    67 |     3.000e-04 |     5.6206 |          8.1125 |     0.6486 |          2.1629 |             806\n",
      "17:51 |    68 |     3.000e-04 |     6.4519 |          7.0807 |     0.7069 |          2.0126 |             806\n",
      "17:51 |    69 |     3.000e-04 |     7.0053 |          8.3010 |     1.2321 |          2.0829 |             806\n",
      "17:52 |    70 |     3.000e-04 |     5.1059 |          5.0471 |     1.2056 |          1.6438 |             806\n",
      "17:53 |    71 |     3.000e-04 |     4.2605 |          4.9290 |     1.0241 |          1.6164 |             806\n",
      "17:54 |    72 |     3.000e-04 |     4.1833 |          4.9937 |     0.9590 |          1.6262 |             806\n",
      "17:54 |    73 |     3.000e-04 |     4.0055 |          4.8261 |     1.0432 |          1.5989 |             806\n",
      "17:55 |    74 |     3.000e-04 |     3.9811 |          4.7844 |     0.9253 |          1.5894 |             806\n",
      "17:56 |    75 |     3.000e-04 |     3.9155 |          4.7414 |     0.7771 |          1.5819 |             806\n",
      "17:56 |    76 |     3.000e-04 |     3.8138 |          4.6411 |     0.7368 |          1.5626 |             806\n",
      "17:57 |    77 |     3.000e-04 |     3.7327 |          4.5425 |     0.6700 |          1.5435 |             806\n",
      "17:58 |    78 |     3.000e-04 |     3.6817 |          4.4701 |     0.6121 |          1.5307 |             806\n",
      "17:59 |    79 |     3.000e-04 |     3.6647 |          4.4273 |     0.5825 |          1.5233 |             806\n",
      "17:59 |    80 |     3.000e-04 |     3.6742 |          4.4177 |     0.5634 |          1.5221 |             806\n",
      "18:00 |    81 |     3.000e-04 |     3.7026 |          4.4469 |     0.5567 |          1.5282 |             806\n",
      "18:01 |    82 |     3.000e-04 |     3.7476 |          4.5291 |     0.5601 |          1.5438 |             806\n",
      "18:01 |    83 |     3.000e-04 |     3.8036 |          4.6923 |     0.5704 |          1.5734 |             806\n",
      "18:02 |    84 |     3.000e-04 |     3.8547 |          4.9492 |     0.5837 |          1.6190 |             806\n",
      "18:03 |    85 |     3.000e-04 |     3.8593 |          5.2083 |     0.5938 |          1.6664 |             806\n",
      "18:03 |    86 |     3.000e-04 |     3.7583 |          5.1948 |     0.5845 |          1.6673 |             806\n",
      "18:04 |    87 |     3.000e-04 |     3.5389 |          4.7507 |     0.5375 |          1.5864 |             806\n",
      "18:05 |    88 |     3.000e-04 |     3.2744 |          4.1864 |     0.4658 |          1.4715 |             806\n",
      "18:06 |    89 |     3.000e-04 |     3.0620 |          3.8321 |     0.4348 |          1.3945 |             806\n",
      "18:06 |    90 |     3.000e-04 |     2.9393 |          3.6863 |     0.4513 |          1.3653 |             806\n",
      "18:07 |    91 |     3.000e-04 |     2.8813 |          3.6337 |     0.4864 |          1.3567 |             806\n",
      "18:08 |    92 |     3.000e-04 |     2.8483 |          3.6070 |     0.5179 |          1.3526 |             806\n",
      "18:08 |    93 |     3.000e-04 |     2.8164 |          3.5814 |     0.5448 |          1.3476 |             806\n",
      "18:09 |    94 |     3.000e-04 |     2.7782 |          3.5497 |     0.5617 |          1.3413 |             806\n",
      "18:10 |    95 |     3.000e-04 |     2.7337 |          3.5130 |     0.5663 |          1.3334 |             806\n",
      "18:11 |    96 |     3.000e-04 |     2.6845 |          3.4745 |     0.5639 |          1.3249 |             806\n",
      "18:11 |    97 |     3.000e-04 |     2.6333 |          3.4359 |     0.5587 |          1.3163 |             806\n",
      "18:12 |    98 |     3.000e-04 |     2.5821 |          3.3982 |     0.5515 |          1.3076 |             806\n",
      "18:13 |    99 |     3.000e-04 |     2.5315 |          3.3620 |     0.5443 |          1.2991 |             806\n",
      "18:13 |   100 |     3.000e-04 |     2.4830 |          3.3277 |     0.5386 |          1.2911 |             806\n"
     ]
    }
   ],
   "source": [
    "T.train(device=DEVICE, n_epochs=50)"
   ]
  },
  {
   "cell_type": "markdown",
   "metadata": {},
   "source": [
    "## Evaluating the model on the test set"
   ]
  },
  {
   "cell_type": "markdown",
   "metadata": {},
   "source": [
    "Now we have a brand new model trained and validated. We can use the best model from this training to evaluate its performance on the test set. `results` contains the predictions of properties for the whole test dataset. `targets` contains the ground truth for such data. `test_loss` is the loss, calculated with the same function used during the training part"
   ]
  },
  {
   "cell_type": "code",
   "execution_count": 13,
   "metadata": {},
   "outputs": [],
   "source": [
    "results, targets, val_loss = evaluate(T.get_best_model(), test_loader, loss_fn, device=DEVICE)"
   ]
  },
  {
   "cell_type": "markdown",
   "metadata": {},
   "source": [
    "Finally, we can plot our results to observe how well is our model performing:"
   ]
  },
  {
   "cell_type": "code",
   "execution_count": 14,
   "metadata": {},
   "outputs": [
    {
     "data": {
      "image/png": "[encoded data removed]",
      "text/plain": [
       "<Figure size 864x432 with 2 Axes>"
      ]
     },
     "metadata": {
      "needs_background": "light"
     },
     "output_type": "display_data"
    }
   ],
   "source": [
    "units = {\n",
    "    'energy_grad': r'kcal/mol/$\\AA$',\n",
    "    'energy': 'kcal/mol'\n",
    "}\n",
    "\n",
    "fig, ax_fig = plt.subplots(1, 2, figsize=(12, 6))\n",
    "\n",
    "for ax, key in zip(ax_fig, units.keys()):\n",
    "    pred = torch.cat(results[key], dim=0).detach().cpu().numpy()\n",
    "    targ = torch.cat(targets[key], dim=0).detach().cpu().numpy()\n",
    "    \n",
    "    ax.scatter(pred, targ, color='#ff7f0e', alpha=0.3)\n",
    "    \n",
    "    lim_min = min(np.min(pred), np.min(targ)) * 1.1\n",
    "    lim_max = max(np.max(pred), np.max(targ)) * 1.1\n",
    "    \n",
    "    ax.set_xlim(lim_min, lim_max)\n",
    "    ax.set_ylim(lim_min, lim_max)\n",
    "    ax.set_aspect('equal')\n",
    "    \n",
    "    ax.plot((lim_min, lim_max),\n",
    "            (lim_min, lim_max),\n",
    "            color='#000000',\n",
    "            zorder=-1,\n",
    "            linewidth=0.5)\n",
    "    \n",
    "    ax.set_title(key.upper(), fontsize=14)\n",
    "    ax.set_xlabel('predicted %s (%s)' % (key, units[key]), fontsize=12)\n",
    "    ax.set_ylabel('target %s (%s)' % (key, units[key]), fontsize=12)\n",
    "\n",
    "plt.show()"
   ]
  },
  {
   "cell_type": "markdown",
   "metadata": {},
   "source": [
    "The model is performing quite well."
   ]
  }
 ],
 "metadata": {
  "kernelspec": {
   "display_name": "Python [conda env:nff]",
   "language": "python",
   "name": "conda-env-nff-py"
  },
  "language_info": {
   "codemirror_mode": {
    "name": "ipython",
    "version": 3
   },
   "file_extension": ".py",
   "mimetype": "text/x-python",
   "name": "python",
   "nbconvert_exporter": "python",
   "pygments_lexer": "ipython3",
   "version": "3.7.3"
  }
 },
 "nbformat": 4,
 "nbformat_minor": 2
}
