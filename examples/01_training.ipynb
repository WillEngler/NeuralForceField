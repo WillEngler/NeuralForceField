{
 "cells": [
  {
   "cell_type": "markdown",
   "metadata": {},
   "source": [
    "# Introduction to Neural Force Field"
   ]
  },
  {
   "cell_type": "markdown",
   "metadata": {},
   "source": [
    "This Jupyter Notebook contains an introduction to the `nff` package. Here, we will load the modules and functions from `nff` to import a dataset, create dataloaders, create a model, train it and check the test stats. We will do most of it manually to illustrate the usage of the API. However, scripts such as the one provided in the `scripts/` folder already automate most of this process."
   ]
  },
  {
   "cell_type": "markdown",
   "metadata": {},
   "source": [
    "After the `nff` package has been installed, we start by importing all dependencies for this tutorial."
   ]
  },
  {
   "cell_type": "code",
   "execution_count": 11,
   "metadata": {},
   "outputs": [],
   "source": [
    "import numpy as np\n",
    "import matplotlib.pyplot as plt\n",
    "\n",
    "import torch\n",
    "from torch.optim import Adam\n",
    "\n",
    "from nff.data import Dataset, GraphLoader, split_train_validation_test\n",
    "from nff.train import Trainer, get_trainer, get_model, loss, hooks, metrics, evaluate"
   ]
  },
  {
   "cell_type": "markdown",
   "metadata": {},
   "source": [
    "It might also be useful setting the GPU you want to use:"
   ]
  },
  {
   "cell_type": "code",
   "execution_count": 13,
   "metadata": {},
   "outputs": [],
   "source": [
    "DEVICE = 3"
   ]
  },
  {
   "cell_type": "markdown",
   "metadata": {},
   "source": [
    "## Loading the relevant data"
   ]
  },
  {
   "cell_type": "markdown",
   "metadata": {},
   "source": [
    "As we usually work with the database, we can pack their information in a class `Dataset`, which is a subclass of `torch.utils.data.Dataset`. It basically wraps information on the atomic numbers, energies, forces and SMILES strings for each one of the geometries. In this example, we already have a pre-compiled `Dataset` to be used. We start by loading this file and creating three slices of the original dataset"
   ]
  },
  {
   "cell_type": "code",
   "execution_count": 12,
   "metadata": {},
   "outputs": [],
   "source": [
    "dataset = Dataset.from_file('dataset.pth.tar')\n",
    "train, val, test = split_train_validation_test(dataset, val_size=0.2, test_size=0.2)"
   ]
  },
  {
   "cell_type": "markdown",
   "metadata": {},
   "source": [
    "The `nff` code interfaces with the `graphbuilder` module through a git submodule in the repository. `graphbuilder` provides methods to create batches of graphs. In `nff`, we interface that through a custom dataloader called `\n",
    "GraphLoader`. Here, we create one loader for each one of the slices."
   ]
  },
  {
   "cell_type": "code",
   "execution_count": 14,
   "metadata": {},
   "outputs": [
    {
     "name": "stdout",
     "output_type": "stream",
     "text": [
      "Finished Batching 13 Batches\n",
      "Finished Batching 4 Batches\n",
      "Finished Batching 4 Batches\n"
     ]
    }
   ],
   "source": [
    "train_loader = GraphLoader(train, batch_size=50, cutoff=5, device=DEVICE)\n",
    "val_loader = GraphLoader(val, batch_size=50, cutoff=5, device=DEVICE)\n",
    "test_loader = GraphLoader(test, batch_size=50, cutoff=5, device=DEVICE)"
   ]
  },
  {
   "cell_type": "markdown",
   "metadata": {},
   "source": [
    "## Creating a model"
   ]
  },
  {
   "cell_type": "markdown",
   "metadata": {},
   "source": [
    "`nff` is based on SchNet. It parameterizes interatomic interactions in molecules and materials through a series of convolution layers with continuous filters. Here, we are going to create a simple model using the hyperparameters given on `params`:"
   ]
  },
  {
   "cell_type": "code",
   "execution_count": 15,
   "metadata": {},
   "outputs": [],
   "source": [
    "params = {\n",
    "    'n_atom_basis': 256,\n",
    "    'n_filters': 256,\n",
    "    'n_gaussians': 32,\n",
    "    'n_convolutions': 10,\n",
    "    'cutoff': 5.0,\n",
    "    'trainable_gauss': True\n",
    "}\n",
    "\n",
    "model = get_model(params)"
   ]
  },
  {
   "cell_type": "markdown",
   "metadata": {},
   "source": [
    "## Creating a trainer"
   ]
  },
  {
   "cell_type": "markdown",
   "metadata": {},
   "source": [
    "To train our model with the data provided, we have to create a loss function. The easiest way to do that is through the `build_mse_loss` builder. Its argument `rho` is a parameter that will multiply the mean square error (MSE) of the force components before summing it with the MSE of the energy."
   ]
  },
  {
   "cell_type": "code",
   "execution_count": 16,
   "metadata": {},
   "outputs": [],
   "source": [
    "loss_fn = loss.build_mse_loss(rho=1)"
   ]
  },
  {
   "cell_type": "markdown",
   "metadata": {},
   "source": [
    "We should also select an optimizer for our recently created model:"
   ]
  },
  {
   "cell_type": "code",
   "execution_count": 17,
   "metadata": {},
   "outputs": [],
   "source": [
    "trainable_params = filter(lambda p: p.requires_grad, model.parameters())\n",
    "optimizer = Adam(trainable_params, lr=1e-4)"
   ]
  },
  {
   "cell_type": "markdown",
   "metadata": {},
   "source": [
    "### Metrics and hooks"
   ]
  },
  {
   "cell_type": "markdown",
   "metadata": {},
   "source": [
    "Metrics and hooks allow the customization of the training process. Instead of tweaking directly the code or having to resort to countless flags, we can create submodules (or add-ons) to monitor the progress of the training or customize it."
   ]
  },
  {
   "cell_type": "markdown",
   "metadata": {},
   "source": [
    "If we want to monitor the progress of our training, say by looking at the mean absolute error (MAE) of energies and forces, we can simply create metrics to observe them:"
   ]
  },
  {
   "cell_type": "code",
   "execution_count": 18,
   "metadata": {},
   "outputs": [],
   "source": [
    "train_metrics = [\n",
    "    metrics.MeanAbsoluteError('energy'),\n",
    "    metrics.MeanAbsoluteError('force')\n",
    "]"
   ]
  },
  {
   "cell_type": "markdown",
   "metadata": {},
   "source": [
    "Furthermore, if we want to customize how our training procedure is done, we can use hooks which can interrupt or change the train automatically.\n",
    "\n",
    "In our case, we are adding hooks to:\n",
    "* Stop the training procedure after 100 epochs;\n",
    "* Log the training on a machine-readable CSV file under the directory `./sandbox`;\n",
    "* Print the progress on the screen with custom formatting; and\n",
    "* Setup a scheduler for the learning rate."
   ]
  },
  {
   "cell_type": "code",
   "execution_count": 19,
   "metadata": {},
   "outputs": [],
   "source": [
    "train_hooks = [\n",
    "    hooks.MaxEpochHook(100),\n",
    "    hooks.CSVHook(\n",
    "        './sandbox',\n",
    "        metrics=train_metrics,\n",
    "    ),\n",
    "    hooks.PrintingHook(\n",
    "        './sandbox',\n",
    "        metrics=train_metrics,\n",
    "        separator = ' | '\n",
    "    ),\n",
    "    hooks.ReduceLROnPlateauHook(\n",
    "        optimizer=optimizer,\n",
    "        patience=30,\n",
    "        factor=0.5,\n",
    "        min_lr=1e-7,\n",
    "        window_length=1,\n",
    "        stop_after_min=True\n",
    "    )\n",
    "]"
   ]
  },
  {
   "cell_type": "markdown",
   "metadata": {},
   "source": [
    "### Trainer wrapper"
   ]
  },
  {
   "cell_type": "markdown",
   "metadata": {},
   "source": [
    "A `Trainer` in the `nff` package is a wrapper to train a model. It automatically creates checkpoints, as well as trains and validates a given model. It also allow further training by loading checkpoints from existing paths, making the training procedure more flexible. Its functionalities can be extended by the hooks we created above. To create a trainer, we have to execute the following command:"
   ]
  },
  {
   "cell_type": "code",
   "execution_count": 20,
   "metadata": {},
   "outputs": [],
   "source": [
    "T = Trainer(\n",
    "    model_path='./sandbox',\n",
    "    model=model,\n",
    "    loss_fn=loss_fn,\n",
    "    optimizer=optimizer,\n",
    "    train_loader=train_loader,\n",
    "    validation_loader=val_loader,\n",
    "    checkpoint_interval=1,\n",
    "    hooks=train_hooks\n",
    ")"
   ]
  },
  {
   "cell_type": "markdown",
   "metadata": {},
   "source": [
    "Now we can finally train the model using the method `train` from the `Trainer`:"
   ]
  },
  {
   "cell_type": "code",
   "execution_count": 21,
   "metadata": {
    "scrolled": false
   },
   "outputs": [
    {
     "name": "stdout",
     "output_type": "stream",
     "text": [
      "               Time | Epoch | Learning rate | Train loss | Validation loss | MAE_energy | MAE_force\n",
      "2019-07-19 16:40:50 |     1 |     1.000e-04 |   646.4298 |        486.9632 |     3.6549 |   15.6025\n",
      "2019-07-19 16:40:52 |     2 |     1.000e-04 |   387.6335 |        273.7761 |     2.5006 |   11.5249\n",
      "2019-07-19 16:40:53 |     3 |     1.000e-04 |   208.1518 |        156.1036 |     3.1234 |    8.7268\n",
      "2019-07-19 16:40:54 |     4 |     1.000e-04 |   131.1633 |        102.1781 |     1.9884 |    7.1998\n",
      "2019-07-19 16:40:55 |     5 |     1.000e-04 |    90.5238 |         74.5224 |     1.5561 |    6.1080\n",
      "2019-07-19 16:40:56 |     6 |     1.000e-04 |    80.9018 |         61.1520 |     1.3667 |    5.4573\n",
      "2019-07-19 16:40:58 |     7 |     1.000e-04 |    63.7559 |         53.2837 |     1.1637 |    5.0717\n",
      "2019-07-19 16:40:59 |     8 |     1.000e-04 |    54.2872 |         46.6913 |     1.1377 |    4.7369\n",
      "2019-07-19 16:41:00 |     9 |     1.000e-04 |    47.3664 |         41.2723 |     1.0690 |    4.4400\n",
      "2019-07-19 16:41:01 |    10 |     1.000e-04 |    42.2555 |         38.6690 |     1.7002 |    4.1618\n",
      "2019-07-19 16:41:03 |    11 |     1.000e-04 |    38.1733 |         34.2327 |     1.4364 |    3.9466\n",
      "2019-07-19 16:41:04 |    12 |     1.000e-04 |    38.4326 |         36.4184 |     2.5453 |    3.7953\n",
      "2019-07-19 16:41:05 |    13 |     1.000e-04 |    34.1588 |         30.2140 |     1.5360 |    3.6635\n",
      "2019-07-19 16:41:06 |    14 |     1.000e-04 |    30.3401 |         26.7695 |     1.0593 |    3.5333\n",
      "2019-07-19 16:41:07 |    15 |     1.000e-04 |    29.4474 |         29.7772 |     2.3031 |    3.4174\n",
      "2019-07-19 16:41:09 |    16 |     1.000e-04 |    27.1387 |         23.7481 |     0.8866 |    3.3411\n",
      "2019-07-19 16:41:10 |    17 |     1.000e-04 |    28.3336 |         24.7297 |     1.6175 |    3.2464\n",
      "2019-07-19 16:41:11 |    18 |     1.000e-04 |    25.9192 |         23.0957 |     1.2827 |    3.2187\n",
      "2019-07-19 16:41:12 |    19 |     1.000e-04 |    22.6091 |         20.9510 |     0.7845 |    3.1411\n",
      "2019-07-19 16:41:13 |    20 |     1.000e-04 |    22.0676 |         22.1651 |     1.6159 |    3.0507\n",
      "2019-07-19 16:41:15 |    21 |     1.000e-04 |    21.0291 |         19.3202 |     0.7926 |    3.0125\n",
      "2019-07-19 16:41:16 |    22 |     1.000e-04 |    31.7822 |         18.9470 |     0.8347 |    2.9651\n",
      "2019-07-19 16:41:17 |    23 |     1.000e-04 |    30.0560 |         24.8315 |     2.4233 |    3.0029\n",
      "2019-07-19 16:41:18 |    24 |     1.000e-04 |    21.0006 |         18.2379 |     0.8801 |    2.8887\n",
      "2019-07-19 16:41:19 |    25 |     1.000e-04 |    18.7619 |         20.0295 |     1.7110 |    2.8397\n",
      "2019-07-19 16:41:21 |    26 |     1.000e-04 |    18.1722 |         17.1338 |     0.9011 |    2.7894\n",
      "2019-07-19 16:41:22 |    27 |     1.000e-04 |    16.7859 |         16.6182 |     0.8220 |    2.7611\n",
      "2019-07-19 16:41:23 |    28 |     1.000e-04 |    16.1914 |         16.1811 |     0.8064 |    2.7266\n",
      "2019-07-19 16:41:24 |    29 |     1.000e-04 |    15.6594 |         16.1745 |     0.9618 |    2.6926\n",
      "2019-07-19 16:41:26 |    30 |     1.000e-04 |    15.2687 |         15.9174 |     0.9920 |    2.6651\n",
      "2019-07-19 16:41:27 |    31 |     1.000e-04 |    14.8683 |         15.4933 |     0.9737 |    2.6291\n",
      "2019-07-19 16:41:28 |    32 |     1.000e-04 |    14.5786 |         14.4356 |     0.6737 |    2.5848\n",
      "2019-07-19 16:41:29 |    33 |     1.000e-04 |    14.2220 |         14.0286 |     0.6232 |    2.5604\n",
      "2019-07-19 16:41:30 |    34 |     1.000e-04 |    13.5380 |         13.7500 |     0.6564 |    2.5245\n",
      "2019-07-19 16:41:32 |    35 |     1.000e-04 |    13.4795 |         13.2221 |     0.6096 |    2.4750\n",
      "2019-07-19 16:41:33 |    36 |     1.000e-04 |    14.7949 |         15.5972 |     1.7233 |    2.4348\n",
      "2019-07-19 16:41:34 |    37 |     1.000e-04 |    12.8440 |         13.1869 |     0.9059 |    2.4060\n",
      "2019-07-19 16:41:35 |    38 |     1.000e-04 |    17.5325 |         16.1363 |     1.7782 |    2.4645\n",
      "2019-07-19 16:41:36 |    39 |     1.000e-04 |    13.1401 |         12.2581 |     0.6182 |    2.3782\n",
      "2019-07-19 16:41:38 |    40 |     1.000e-04 |    11.9983 |         12.9836 |     0.9406 |    2.3973\n",
      "2019-07-19 16:41:39 |    41 |     1.000e-04 |    11.6792 |         12.0897 |     0.6529 |    2.3603\n",
      "2019-07-19 16:41:40 |    42 |     1.000e-04 |    11.2237 |         11.8718 |     0.7195 |    2.3197\n",
      "2019-07-19 16:41:41 |    43 |     1.000e-04 |    14.0883 |         11.8868 |     0.9772 |    2.2663\n",
      "2019-07-19 16:41:42 |    44 |     1.000e-04 |    12.1526 |         16.4485 |     2.2186 |    2.3159\n",
      "2019-07-19 16:41:43 |    45 |     1.000e-04 |    11.9946 |         11.1327 |     0.5701 |    2.2727\n",
      "2019-07-19 16:41:45 |    46 |     1.000e-04 |    10.4046 |         10.9086 |     0.5607 |    2.2451\n",
      "2019-07-19 16:41:46 |    47 |     1.000e-04 |    10.0467 |         10.8505 |     0.6831 |    2.2121\n",
      "2019-07-19 16:41:47 |    48 |     1.000e-04 |    13.9197 |         10.4436 |     0.6201 |    2.1810\n",
      "2019-07-19 16:41:48 |    49 |     1.000e-04 |    12.1135 |         11.6974 |     1.0709 |    2.2217\n",
      "2019-07-19 16:41:49 |    50 |     1.000e-04 |    10.2873 |         10.0901 |     0.5405 |    2.1538\n"
     ]
    }
   ],
   "source": [
    "T.train(device=DEVICE, n_epochs=50)"
   ]
  },
  {
   "cell_type": "markdown",
   "metadata": {},
   "source": [
    "## Evaluating the model on the test set"
   ]
  },
  {
   "cell_type": "markdown",
   "metadata": {},
   "source": [
    "Now we have a brand new model trained and validated. We can use the best model from this training to evaluate its performance on the test set. `results` contains the predictions of properties for the whole test dataset. `targets` contains the ground truth for such data. `test_loss` is the loss, calculated with the same function used during the training part"
   ]
  },
  {
   "cell_type": "code",
   "execution_count": 22,
   "metadata": {},
   "outputs": [],
   "source": [
    "results, targets, val_loss = evaluate(T.get_best_model(), test_loader, loss_fn, device=0)"
   ]
  },
  {
   "cell_type": "markdown",
   "metadata": {},
   "source": [
    "Finally, we can plot our results to observe how well is our model performing:"
   ]
  },
  {
   "cell_type": "code",
   "execution_count": 23,
   "metadata": {},
   "outputs": [
    {
     "data": {
      "image/png": "[encoded data removed]",
      "text/plain": [
       "<Figure size 864x432 with 2 Axes>"
      ]
     },
     "metadata": {
      "needs_background": "light"
     },
     "output_type": "display_data"
    }
   ],
   "source": [
    "units = {\n",
    "    'force': r'kcal/mol/$\\AA$',\n",
    "    'energy': 'kcal/mol'\n",
    "}\n",
    "\n",
    "fig, ax_fig = plt.subplots(1, 2, figsize=(12, 6))\n",
    "\n",
    "for ax, key in zip(ax_fig, results.keys()):\n",
    "    pred = results[key].reshape(-1).data.cpu().numpy()\n",
    "    targ = targets[key].reshape(-1).data.cpu().numpy()\n",
    "    \n",
    "    ax.scatter(pred, targ, color='#ff7f0e', alpha=0.3)\n",
    "    \n",
    "    lim_min = min(np.min(pred), np.min(targ)) * 1.1\n",
    "    lim_max = max(np.max(pred), np.max(targ)) * 1.1\n",
    "    \n",
    "    ax.set_xlim(lim_min, lim_max)\n",
    "    ax.set_ylim(lim_min, lim_max)\n",
    "    ax.set_aspect('equal')\n",
    "    \n",
    "    ax.plot((lim_min, lim_max),\n",
    "            (lim_min, lim_max),\n",
    "            color='#000000',\n",
    "            zorder=-1,\n",
    "            linewidth=0.5)\n",
    "    \n",
    "    ax.set_title(key.upper(), fontsize=14)\n",
    "    ax.set_xlabel('predicted %s (%s)' % (key, units[key]), fontsize=12)\n",
    "    ax.set_ylabel('target %s (%s)' % (key, units[key]), fontsize=12)\n",
    "\n",
    "plt.show()"
   ]
  },
  {
   "cell_type": "markdown",
   "metadata": {},
   "source": [
    "The model is performing quite well."
   ]
  }
 ],
 "metadata": {
  "kernelspec": {
   "display_name": "Python [conda env:nff]",
   "language": "python",
   "name": "conda-env-nff-py"
  },
  "language_info": {
   "codemirror_mode": {
    "name": "ipython",
    "version": 3
   },
   "file_extension": ".py",
   "mimetype": "text/x-python",
   "name": "python",
   "nbconvert_exporter": "python",
   "pygments_lexer": "ipython3",
   "version": "3.5.6"
  }
 },
 "nbformat": 4,
 "nbformat_minor": 2
}
