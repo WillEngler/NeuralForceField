{
 "cells": [
  {
   "cell_type": "markdown",
   "metadata": {},
   "source": [
    "# Introduction to Neural Force Field"
   ]
  },
  {
   "cell_type": "markdown",
   "metadata": {},
   "source": [
    "This Jupyter Notebook contains an introduction to the `nff` package. Here, we will load the modules and functions from `nff` to import a dataset, create dataloaders, create a model, train it and check the test stats. We will do most of it manually to illustrate the usage of the API. However, scripts such as the one provided in the `scripts/` folder already automate most of this process."
   ]
  },
  {
   "cell_type": "markdown",
   "metadata": {},
   "source": [
    "After the `nff` package has been installed, we start by importing all dependencies for this tutorial."
   ]
  },
  {
   "cell_type": "code",
   "execution_count": 1,
   "metadata": {},
   "outputs": [],
   "source": [
    "import os\n",
    "import shutil\n",
    "import numpy as np\n",
    "import matplotlib.pyplot as plt\n",
    "\n",
    "import torch\n",
    "from torch.optim import Adam\n",
    "from torch.utils.data import DataLoader\n",
    "\n",
    "from nff.data import Dataset, split_train_validation_test, collate_dicts\n",
    "from nff.train import Trainer, get_trainer, get_model, loss, hooks, metrics, evaluate"
   ]
  },
  {
   "cell_type": "markdown",
   "metadata": {},
   "source": [
    "It might also be useful setting the GPU you want to use:"
   ]
  },
  {
   "cell_type": "code",
   "execution_count": 2,
   "metadata": {},
   "outputs": [],
   "source": [
    "DEVICE = 1\n",
    "OUTDIR = './sandbox'\n",
    "\n",
    "if os.path.exists(OUTDIR):\n",
    "    newpath = os.path.join(os.path.dirname(OUTDIR), 'backup')\n",
    "    if os.path.exists(newpath):\n",
    "        shutil.rmtree(newpath)\n",
    "        \n",
    "    shutil.move(OUTDIR, newpath)"
   ]
  },
  {
   "cell_type": "markdown",
   "metadata": {},
   "source": [
    "## Loading the relevant data"
   ]
  },
  {
   "cell_type": "markdown",
   "metadata": {},
   "source": [
    "As we usually work with the database, we can pack their information in a class `Dataset`, which is a subclass of `torch.utils.data.Dataset`. It basically wraps information on the atomic numbers, energies, forces and SMILES strings for each one of the geometries. In this example, we already have a pre-compiled `Dataset` to be used. We start by loading this file and creating three slices of the original dataset"
   ]
  },
  {
   "cell_type": "code",
   "execution_count": 3,
   "metadata": {},
   "outputs": [],
   "source": [
    "dataset = Dataset.from_file('./dataset.pth.tar')"
   ]
  },
  {
   "cell_type": "code",
   "execution_count": 4,
   "metadata": {},
   "outputs": [],
   "source": [
    "train, val, test = split_train_validation_test(dataset, val_size=0.2, test_size=0.2)"
   ]
  },
  {
   "cell_type": "markdown",
   "metadata": {},
   "source": [
    "The `nff` code interfaces with the `graphbuilder` module through a git submodule in the repository. `graphbuilder` provides methods to create batches of graphs. In `nff`, we interface that through a custom dataloader called `\n",
    "GraphLoader`. Here, we create one loader for each one of the slices."
   ]
  },
  {
   "cell_type": "code",
   "execution_count": 5,
   "metadata": {},
   "outputs": [],
   "source": [
    "train_loader = DataLoader(train, batch_size=50, collate_fn=collate_dicts)\n",
    "val_loader = DataLoader(val, batch_size=50, collate_fn=collate_dicts)\n",
    "test_loader = DataLoader(test, batch_size=50, collate_fn=collate_dicts)"
   ]
  },
  {
   "cell_type": "markdown",
   "metadata": {},
   "source": [
    "## Creating a model"
   ]
  },
  {
   "cell_type": "markdown",
   "metadata": {},
   "source": [
    "`nff` is based on SchNet. It parameterizes interatomic interactions in molecules and materials through a series of convolution layers with continuous filters. Here, we are going to create a simple model using the hyperparameters given on `params`:"
   ]
  },
  {
   "cell_type": "code",
   "execution_count": 6,
   "metadata": {},
   "outputs": [],
   "source": [
    "params = {\n",
    "    'n_atom_basis': 256,\n",
    "    'n_filters': 256,\n",
    "    'n_gaussians': 32,\n",
    "    'n_convolutions': 4,\n",
    "    'cutoff': 5.0,\n",
    "    'trainable_gauss': True\n",
    "}\n",
    "\n",
    "model = get_model(params)"
   ]
  },
  {
   "cell_type": "markdown",
   "metadata": {},
   "source": [
    "## Creating a trainer"
   ]
  },
  {
   "cell_type": "markdown",
   "metadata": {},
   "source": [
    "To train our model with the data provided, we have to create a loss function. The easiest way to do that is through the `build_mse_loss` builder. Its argument `rho` is a parameter that will multiply the mean square error (MSE) of the force components before summing it with the MSE of the energy."
   ]
  },
  {
   "cell_type": "code",
   "execution_count": 7,
   "metadata": {},
   "outputs": [],
   "source": [
    "loss_fn = loss.build_mse_loss(loss_coef={'energy': 0.01, 'energy_grad': 1})"
   ]
  },
  {
   "cell_type": "markdown",
   "metadata": {},
   "source": [
    "We should also select an optimizer for our recently created model:"
   ]
  },
  {
   "cell_type": "code",
   "execution_count": 8,
   "metadata": {},
   "outputs": [],
   "source": [
    "trainable_params = filter(lambda p: p.requires_grad, model.parameters())\n",
    "optimizer = Adam(trainable_params, lr=3e-4)"
   ]
  },
  {
   "cell_type": "markdown",
   "metadata": {},
   "source": [
    "### Metrics and hooks"
   ]
  },
  {
   "cell_type": "markdown",
   "metadata": {},
   "source": [
    "Metrics and hooks allow the customization of the training process. Instead of tweaking directly the code or having to resort to countless flags, we can create submodules (or add-ons) to monitor the progress of the training or customize it."
   ]
  },
  {
   "cell_type": "markdown",
   "metadata": {},
   "source": [
    "If we want to monitor the progress of our training, say by looking at the mean absolute error (MAE) of energies and forces, we can simply create metrics to observe them:"
   ]
  },
  {
   "cell_type": "code",
   "execution_count": 9,
   "metadata": {},
   "outputs": [],
   "source": [
    "train_metrics = [\n",
    "    metrics.MeanAbsoluteError('energy'),\n",
    "    metrics.MeanAbsoluteError('energy_grad')\n",
    "]"
   ]
  },
  {
   "cell_type": "markdown",
   "metadata": {},
   "source": [
    "Furthermore, if we want to customize how our training procedure is done, we can use hooks which can interrupt or change the train automatically.\n",
    "\n",
    "In our case, we are adding hooks to:\n",
    "* Stop the training procedure after 100 epochs;\n",
    "* Log the training on a machine-readable CSV file under the directory `./sandbox`;\n",
    "* Print the progress on the screen with custom formatting; and\n",
    "* Setup a scheduler for the learning rate."
   ]
  },
  {
   "cell_type": "code",
   "execution_count": 10,
   "metadata": {},
   "outputs": [],
   "source": [
    "train_hooks = [\n",
    "    hooks.MaxEpochHook(100),\n",
    "    hooks.CSVHook(\n",
    "        OUTDIR,\n",
    "        metrics=train_metrics,\n",
    "    ),\n",
    "    hooks.PrintingHook(\n",
    "        OUTDIR,\n",
    "        metrics=train_metrics,\n",
    "        separator = ' | ',\n",
    "        time_strf='%M:%S'\n",
    "    ),\n",
    "    hooks.ReduceLROnPlateauHook(\n",
    "        optimizer=optimizer,\n",
    "        patience=30,\n",
    "        factor=0.5,\n",
    "        min_lr=1e-7,\n",
    "        window_length=1,\n",
    "        stop_after_min=True\n",
    "    )\n",
    "]"
   ]
  },
  {
   "cell_type": "markdown",
   "metadata": {},
   "source": [
    "### Trainer wrapper"
   ]
  },
  {
   "cell_type": "markdown",
   "metadata": {},
   "source": [
    "A `Trainer` in the `nff` package is a wrapper to train a model. It automatically creates checkpoints, as well as trains and validates a given model. It also allow further training by loading checkpoints from existing paths, making the training procedure more flexible. Its functionalities can be extended by the hooks we created above. To create a trainer, we have to execute the following command:"
   ]
  },
  {
   "cell_type": "code",
   "execution_count": 11,
   "metadata": {},
   "outputs": [],
   "source": [
    "T = Trainer(\n",
    "    model_path=OUTDIR,\n",
    "    model=model,\n",
    "    loss_fn=loss_fn,\n",
    "    optimizer=optimizer,\n",
    "    train_loader=train_loader,\n",
    "    validation_loader=val_loader,\n",
    "    checkpoint_interval=1,\n",
    "    hooks=train_hooks\n",
    ")"
   ]
  },
  {
   "cell_type": "markdown",
   "metadata": {},
   "source": [
    "Now we can finally train the model using the method `train` from the `Trainer`:"
   ]
  },
  {
   "cell_type": "code",
   "execution_count": 15,
   "metadata": {
    "scrolled": false
   },
   "outputs": [
    {
     "name": "stdout",
     "output_type": "stream",
     "text": [
      " Time | Epoch | Learning rate | Train loss | Validation loss | MAE_energy | MAE_energy_grad | GPU Memory (MB)\n",
      "39:19 |    51 |     3.000e-04 |     6.0253 |          6.6889 |     0.5805 |          1.8840 |             806\n",
      "39:20 |    52 |     3.000e-04 |     6.0669 |          6.8369 |     0.5620 |          1.9165 |             806\n",
      "39:20 |    53 |     3.000e-04 |     6.2016 |          7.3061 |     0.5823 |          2.0060 |             806\n",
      "39:21 |    54 |     3.000e-04 |     6.3077 |          7.2986 |     0.6418 |          2.0139 |             806\n",
      "39:22 |    55 |     3.000e-04 |     6.2282 |          6.1658 |     0.5268 |          1.8100 |             806\n",
      "39:22 |    56 |     3.000e-04 |     5.9793 |          6.8937 |     1.0065 |          1.9755 |             806\n",
      "39:23 |    57 |     3.000e-04 |     5.7999 |          6.6602 |     1.2338 |          1.9235 |             806\n",
      "39:24 |    58 |     3.000e-04 |     5.6758 |          6.3775 |     0.9075 |          1.8381 |             806\n",
      "39:25 |    59 |     3.000e-04 |     5.5001 |          6.2606 |     0.5936 |          1.8143 |             806\n",
      "39:25 |    60 |     3.000e-04 |     5.3208 |          6.0839 |     0.5337 |          1.7911 |             806\n",
      "39:26 |    61 |     3.000e-04 |     5.1712 |          5.9529 |     0.5727 |          1.7773 |             806\n",
      "39:27 |    62 |     3.000e-04 |     5.0745 |          5.8480 |     0.6517 |          1.7639 |             806\n",
      "39:27 |    63 |     3.000e-04 |     5.0429 |          5.7921 |     0.6879 |          1.7555 |             806\n",
      "39:28 |    64 |     3.000e-04 |     5.0876 |          5.8112 |     0.6805 |          1.7588 |             806\n",
      "39:29 |    65 |     3.000e-04 |     5.1978 |          5.9278 |     0.6757 |          1.7801 |             806\n",
      "39:29 |    66 |     3.000e-04 |     5.3145 |          6.1058 |     0.6769 |          1.8120 |             806\n",
      "39:30 |    67 |     3.000e-04 |     5.3199 |          6.1939 |     0.6462 |          1.8311 |             806\n",
      "39:31 |    68 |     3.000e-04 |     5.1015 |          5.9627 |     0.5654 |          1.7982 |             806\n",
      "39:32 |    69 |     3.000e-04 |     4.7175 |          5.4696 |     0.4886 |          1.7126 |             806\n",
      "39:32 |    70 |     3.000e-04 |     4.3625 |          5.0531 |     0.4501 |          1.6304 |             806\n",
      "39:33 |    71 |     3.000e-04 |     4.1326 |          4.8203 |     0.4379 |          1.5797 |             806\n",
      "39:34 |    72 |     3.000e-04 |     4.0184 |          4.6985 |     0.4406 |          1.5528 |             806\n",
      "39:34 |    73 |     3.000e-04 |     4.0126 |          4.6538 |     0.4564 |          1.5446 |             806\n",
      "39:35 |    74 |     3.000e-04 |     4.0953 |          4.7167 |     0.4789 |          1.5572 |             806\n",
      "39:36 |    75 |     3.000e-04 |     4.2149 |          4.8213 |     0.4892 |          1.5765 |             806\n",
      "39:36 |    76 |     3.000e-04 |     4.3432 |          4.9436 |     0.4899 |          1.5996 |             806\n",
      "39:37 |    77 |     3.000e-04 |     4.5087 |          5.2053 |     0.4762 |          1.6492 |             806\n",
      "39:38 |    78 |     3.000e-04 |     4.7997 |          5.8537 |     0.4524 |          1.7765 |             806\n",
      "39:38 |    79 |     3.000e-04 |     5.3222 |          6.9756 |     0.4823 |          1.9989 |             806\n",
      "39:39 |    80 |     3.000e-04 |     5.9677 |          5.4708 |     0.4360 |          1.7162 |             806\n",
      "39:40 |    81 |     3.000e-04 |     5.9096 |          7.5526 |     0.4436 |          2.1044 |             806\n",
      "39:41 |    82 |     3.000e-04 |     5.4390 |          6.7672 |     1.1593 |          1.8533 |             806\n",
      "39:41 |    83 |     3.000e-04 |     4.5834 |          4.9655 |     0.6929 |          1.5514 |             806\n",
      "39:42 |    84 |     3.000e-04 |     3.7408 |          4.4058 |     0.3863 |          1.4760 |             806\n",
      "39:43 |    85 |     3.000e-04 |     3.4601 |          4.0861 |     0.6692 |          1.4183 |             806\n",
      "39:43 |    86 |     3.000e-04 |     3.4098 |          4.3176 |     0.4818 |          1.4767 |             806\n",
      "39:44 |    87 |     3.000e-04 |     3.5412 |          4.6103 |     0.3929 |          1.5219 |             806\n",
      "39:45 |    88 |     3.000e-04 |     3.6719 |          4.7167 |     0.5209 |          1.5382 |             806\n",
      "39:45 |    89 |     3.000e-04 |     3.6588 |          4.6900 |     0.5701 |          1.5356 |             806\n",
      "39:46 |    90 |     3.000e-04 |     3.5591 |          4.5556 |     0.5630 |          1.5143 |             806\n",
      "39:47 |    91 |     3.000e-04 |     3.4323 |          4.3794 |     0.5512 |          1.4852 |             806\n",
      "39:47 |    92 |     3.000e-04 |     3.3236 |          4.2163 |     0.5241 |          1.4575 |             806\n",
      "39:48 |    93 |     3.000e-04 |     3.2521 |          4.0899 |     0.4844 |          1.4354 |             806\n",
      "39:49 |    94 |     3.000e-04 |     3.2246 |          3.9938 |     0.4442 |          1.4182 |             806\n",
      "39:50 |    95 |     3.000e-04 |     3.2460 |          3.9287 |     0.4104 |          1.4074 |             806\n",
      "39:50 |    96 |     3.000e-04 |     3.3176 |          3.9042 |     0.3862 |          1.4050 |             806\n",
      "39:51 |    97 |     3.000e-04 |     3.4331 |          3.9148 |     0.3813 |          1.4087 |             806\n",
      "39:52 |    98 |     3.000e-04 |     3.5938 |          3.9890 |     0.4414 |          1.4266 |             806\n",
      "39:52 |    99 |     3.000e-04 |     3.8289 |          4.3971 |     0.6523 |          1.5238 |             806\n",
      "39:53 |   100 |     3.000e-04 |     4.1548 |          5.8110 |     0.9572 |          1.8103 |             806\n"
     ]
    }
   ],
   "source": [
    "T.train(device=DEVICE, n_epochs=50)"
   ]
  },
  {
   "cell_type": "markdown",
   "metadata": {},
   "source": [
    "## Evaluating the model on the test set"
   ]
  },
  {
   "cell_type": "markdown",
   "metadata": {},
   "source": [
    "Now we have a brand new model trained and validated. We can use the best model from this training to evaluate its performance on the test set. `results` contains the predictions of properties for the whole test dataset. `targets` contains the ground truth for such data. `test_loss` is the loss, calculated with the same function used during the training part"
   ]
  },
  {
   "cell_type": "code",
   "execution_count": 16,
   "metadata": {},
   "outputs": [],
   "source": [
    "results, targets, val_loss = evaluate(T.get_best_model(), test_loader, loss_fn, device=DEVICE)"
   ]
  },
  {
   "cell_type": "markdown",
   "metadata": {},
   "source": [
    "Finally, we can plot our results to observe how well is our model performing:"
   ]
  },
  {
   "cell_type": "code",
   "execution_count": 17,
   "metadata": {},
   "outputs": [
    {
     "data": {
      "image/png": "[encoded data removed]",
      "text/plain": [
       "<Figure size 864x432 with 2 Axes>"
      ]
     },
     "metadata": {
      "needs_background": "light"
     },
     "output_type": "display_data"
    }
   ],
   "source": [
    "units = {\n",
    "    'energy_grad': r'kcal/mol/$\\AA$',\n",
    "    'energy': 'kcal/mol'\n",
    "}\n",
    "\n",
    "fig, ax_fig = plt.subplots(1, 2, figsize=(12, 6))\n",
    "\n",
    "for ax, key in zip(ax_fig, units.keys()):\n",
    "    pred = torch.cat(results[key], dim=0).detach().cpu().numpy()\n",
    "    targ = torch.cat(targets[key], dim=0).detach().cpu().numpy()\n",
    "    \n",
    "    ax.scatter(pred, targ, color='#ff7f0e', alpha=0.3)\n",
    "    \n",
    "    lim_min = min(np.min(pred), np.min(targ)) * 1.1\n",
    "    lim_max = max(np.max(pred), np.max(targ)) * 1.1\n",
    "    \n",
    "    ax.set_xlim(lim_min, lim_max)\n",
    "    ax.set_ylim(lim_min, lim_max)\n",
    "    ax.set_aspect('equal')\n",
    "    \n",
    "    ax.plot((lim_min, lim_max),\n",
    "            (lim_min, lim_max),\n",
    "            color='#000000',\n",
    "            zorder=-1,\n",
    "            linewidth=0.5)\n",
    "    \n",
    "    ax.set_title(key.upper(), fontsize=14)\n",
    "    ax.set_xlabel('predicted %s (%s)' % (key, units[key]), fontsize=12)\n",
    "    ax.set_ylabel('target %s (%s)' % (key, units[key]), fontsize=12)\n",
    "\n",
    "plt.show()"
   ]
  },
  {
   "cell_type": "markdown",
   "metadata": {},
   "source": [
    "The model is performing quite well."
   ]
  }
 ],
 "metadata": {
  "kernelspec": {
   "display_name": "Python [conda env:nff]",
   "language": "python",
   "name": "conda-env-nff-py"
  },
  "language_info": {
   "codemirror_mode": {
    "name": "ipython",
    "version": 3
   },
   "file_extension": ".py",
   "mimetype": "text/x-python",
   "name": "python",
   "nbconvert_exporter": "python",
   "pygments_lexer": "ipython3",
   "version": "3.7.3"
  }
 },
 "nbformat": 4,
 "nbformat_minor": 2
}
