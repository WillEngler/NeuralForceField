{
 "cells": [
  {
   "cell_type": "markdown",
   "metadata": {},
   "source": [
    "# Interface of Neural Force Field to ASE"
   ]
  },
  {
   "cell_type": "markdown",
   "metadata": {},
   "source": [
    "This Jupyter Notebook shows how the `nff` package interfaces with the Atomistic Simulation Environment (ASE). We assume the user went through the last tutorial, so we can load the pretrained models without having to train them again."
   ]
  },
  {
   "cell_type": "markdown",
   "metadata": {},
   "source": [
    "As before, importing the dependencies:"
   ]
  },
  {
   "cell_type": "code",
   "execution_count": 1,
   "metadata": {},
   "outputs": [],
   "source": [
    "import numpy as np\n",
    "import matplotlib.pyplot as plt\n",
    "\n",
    "import torch\n",
    "from ase import Atoms\n",
    "from torch.optim import Adam\n",
    "\n",
    "from nff.io import NeuralFF\n",
    "from nff.data import Dataset, GraphLoader\n",
    "from nff.train import load_model, evaluate\n",
    "import nff.utils.constants as const"
   ]
  },
  {
   "cell_type": "markdown",
   "metadata": {},
   "source": [
    "## Loading the relevant data"
   ]
  },
  {
   "cell_type": "markdown",
   "metadata": {},
   "source": [
    "We reload the dataset and create a `GraphLoader` as we did last time:"
   ]
  },
  {
   "cell_type": "code",
   "execution_count": 2,
   "metadata": {},
   "outputs": [
    {
     "name": "stdout",
     "output_type": "stream",
     "text": [
      "Finished Batching 20 Batches\n"
     ]
    }
   ],
   "source": [
    "dataset = Dataset.from_file('dataset.pth.tar')\n",
    "loader = GraphLoader(dataset, batch_size=50, cutoff=5, device=3)"
   ]
  },
  {
   "cell_type": "markdown",
   "metadata": {},
   "source": [
    "### Creating Atoms"
   ]
  },
  {
   "cell_type": "markdown",
   "metadata": {},
   "source": [
    "As an example, we can create an `Atoms` object from any element of the dataset. Let's take the first one, for simplicity:"
   ]
  },
  {
   "cell_type": "code",
   "execution_count": 3,
   "metadata": {},
   "outputs": [],
   "source": [
    "nxyz, energy, force, _ = dataset[0]\n",
    "atoms = Atoms(positions=nxyz[:, 1:], numbers=nxyz[:, 0])"
   ]
  },
  {
   "cell_type": "markdown",
   "metadata": {},
   "source": [
    "## Creating the ASE calculator"
   ]
  },
  {
   "cell_type": "markdown",
   "metadata": {},
   "source": [
    "Now we just have to load the ASE calculator from a pretrained model. One way of doing so is through the in-build `from_file` method. You just have to specify the folder where the model was trained and subsequently stored."
   ]
  },
  {
   "cell_type": "code",
   "execution_count": 4,
   "metadata": {},
   "outputs": [],
   "source": [
    "nff_ase = NeuralFF.from_file('sandbox/', device=3)"
   ]
  },
  {
   "cell_type": "markdown",
   "metadata": {},
   "source": [
    "Assigning this calculator to `atoms` is easy:"
   ]
  },
  {
   "cell_type": "code",
   "execution_count": 5,
   "metadata": {},
   "outputs": [],
   "source": [
    "atoms.set_calculator(nff_ase)"
   ]
  },
  {
   "cell_type": "markdown",
   "metadata": {},
   "source": [
    "## Calculating with ASE"
   ]
  },
  {
   "cell_type": "markdown",
   "metadata": {},
   "source": [
    "Now, we just have to calculate the energies of interest, such as the potential energy of the system. As ASE uses eV as units of energy, we have to convert that information from our database. Calculating is as easy as doing the following:"
   ]
  },
  {
   "cell_type": "code",
   "execution_count": 6,
   "metadata": {},
   "outputs": [
    {
     "name": "stdout",
     "output_type": "stream",
     "text": [
      "result: 0.25493 eV\n",
      "  true: 0.21799 eV\n"
     ]
    }
   ],
   "source": [
    "print('result: %.5f eV' % atoms.get_potential_energy())\n",
    "print('  true: %.5f eV' % (energy / const.EV_TO_KCAL_MOL))"
   ]
  },
  {
   "cell_type": "markdown",
   "metadata": {},
   "source": [
    "Comparing forces is as easy as running `get_forces`. For better visualization, we can plot the components of the forces and see the accuracy of our calculation:"
   ]
  },
  {
   "cell_type": "code",
   "execution_count": 7,
   "metadata": {},
   "outputs": [],
   "source": [
    "targets = force / const.EV_TO_KCAL_MOL\n",
    "results = atoms.get_forces()"
   ]
  },
  {
   "cell_type": "code",
   "execution_count": 9,
   "metadata": {},
   "outputs": [
    {
     "data": {
      "image/png": "[encoded data removed]",
      "text/plain": [
       "<Figure size 432x432 with 1 Axes>"
      ]
     },
     "metadata": {
      "needs_background": "light"
     },
     "output_type": "display_data"
    }
   ],
   "source": [
    "units = {\n",
    "    'force': r'kcal/mol/$\\AA$',\n",
    "    'energy': 'kcal/mol'\n",
    "}\n",
    "\n",
    "fig, ax = plt.subplots(1, 1, figsize=(6, 6))\n",
    "\n",
    "pred = results.reshape(-1)\n",
    "targ = targets.reshape(-1)\n",
    "\n",
    "ax.scatter(pred, targ, color='#ff7f0e', alpha=0.5)\n",
    "\n",
    "lim_min = min(np.min(pred), np.min(targ)) * 1.1\n",
    "lim_max = max(np.max(pred), np.max(targ)) * 1.1\n",
    "\n",
    "ax.set_xlim(lim_min, lim_max)\n",
    "ax.set_ylim(lim_min, lim_max)\n",
    "ax.set_aspect('equal')\n",
    "\n",
    "ax.plot((lim_min, lim_max),\n",
    "        (lim_min, lim_max),\n",
    "        color='#000000',\n",
    "        zorder=-1,\n",
    "        linewidth=0.5)\n",
    "\n",
    "ax.set_title('FORCES', fontsize=14)\n",
    "ax.set_xlabel('predicted force (eV/$\\\\AA$)', fontsize=12)\n",
    "ax.set_ylabel('target force (eV/$\\\\AA$)', fontsize=12)\n",
    "\n",
    "plt.show()"
   ]
  },
  {
   "cell_type": "markdown",
   "metadata": {},
   "source": [
    "# Visualizing trajectory"
   ]
  },
  {
   "cell_type": "code",
   "execution_count": 4,
   "metadata": {},
   "outputs": [],
   "source": [
    "import nglview as nv\n",
    "from ase.io import Trajectory"
   ]
  },
  {
   "cell_type": "code",
   "execution_count": 6,
   "metadata": {},
   "outputs": [
    {
     "data": {
      "application/vnd.jupyter.widget-view+json": {
       "model_id": "58f1b62837dd4edcb1db4ce0618b73c8",
       "version_major": 2,
       "version_minor": 0
      },
      "text/plain": [
       "NGLWidget(max_frame=5)"
      ]
     },
     "metadata": {},
     "output_type": "display_data"
    }
   ],
   "source": [
    "%matplotlib notebook\n",
    "\n",
    "traj = Trajectory('atom.traj')\n",
    "nv.show_asetraj(traj)"
   ]
  },
  {
   "cell_type": "code",
   "execution_count": 7,
   "metadata": {},
   "outputs": [
    {
     "data": {
      "application/vnd.jupyter.widget-view+json": {
       "model_id": "6bd6b66753fe4ee4bb4bd40cad8699b5",
       "version_major": 2,
       "version_minor": 0
      },
      "text/plain": [
       "NGLWidget()"
      ]
     },
     "metadata": {},
     "output_type": "display_data"
    }
   ],
   "source": [
    "view = nv.demo()\n",
    "view"
   ]
  },
  {
   "cell_type": "code",
   "execution_count": 11,
   "metadata": {},
   "outputs": [
    {
     "data": {
      "text/plain": [
       "Atoms(symbols='C2OH6', pbc=False, momenta=..., calculator=SinglePointCalculator(...))"
      ]
     },
     "execution_count": 11,
     "metadata": {},
     "output_type": "execute_result"
    }
   ],
   "source": [
    "traj[2]"
   ]
  }
 ],
 "metadata": {
  "kernelspec": {
   "display_name": "Python [conda env:nff]",
   "language": "python",
   "name": "conda-env-nff-py"
  },
  "language_info": {
   "codemirror_mode": {
    "name": "ipython",
    "version": 3
   },
   "file_extension": ".py",
   "mimetype": "text/x-python",
   "name": "python",
   "nbconvert_exporter": "python",
   "pygments_lexer": "ipython3",
   "version": "3.7.3"
  }
 },
 "nbformat": 4,
 "nbformat_minor": 2
}
