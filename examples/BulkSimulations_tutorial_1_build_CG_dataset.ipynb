{
 "cells": [
  {
   "cell_type": "code",
   "execution_count": null,
   "metadata": {},
   "outputs": [],
   "source": [
    "# Tutorial to build condense phase dataset for CG simulations "
   ]
  },
  {
   "cell_type": "code",
   "execution_count": 1,
   "metadata": {},
   "outputs": [],
   "source": [
    "import sys\n",
    "import numpy as np\n",
    "from importlib import reload\n",
    "import torch\n",
    "from torch.utils.data import DataLoader\n",
    "\n",
    "# make sure NeuralForceField is in your path, if not add it to your python paths\n",
    "# sys.path.insert(0, '/home/wwj/Repo/playgrounds/NeuralForceField/')\n",
    "\n",
    "import pickle \n",
    "from nff.io.ase import NeuralFF, AtomsBatch, BulkPhaseMaterials\n",
    "from ase import Atoms"
   ]
  },
  {
   "cell_type": "code",
   "execution_count": 34,
   "metadata": {},
   "outputs": [],
   "source": [
    "# This data has 64 ethane molecules with periodic box, each molecule has 8 atoms \n",
    "# the coarse-grained representation reduce 8 atoms to 2 psudo atoms \n",
    "N = 64\n",
    "N_atom = 8\n",
    "N_cg = 2"
   ]
  },
  {
   "cell_type": "code",
   "execution_count": 18,
   "metadata": {},
   "outputs": [],
   "source": [
    "# unwrapped coordinates \n",
    "xyz = pickle.load( open( \"data/C2_64_small_xyz.pkl\", \"rb\" )).reshape(-1, N, N_atom, 3)\n",
    "force = pickle.load(open('data/C2_64_small_force.pkl', \"rb\")).reshape(-1, N, N_atom, 3)"
   ]
  },
  {
   "cell_type": "code",
   "execution_count": 39,
   "metadata": {},
   "outputs": [],
   "source": [
    "# definte single ethane molecules \n",
    "ethane = Atoms( numbers=[6, 6, 1, 1, 1, 1, 1, 1])\n",
    "\n",
    "# define mapping operators \n",
    "CG_map = np.array([[0.0, 1.0, 0.00, 0.000, 0.000, 1.0, 1.0, 1.0],\n",
    "                    [1.0, 0.0, 1.0, 1.0, 1.0, 0.000, 0.00, 0.00]])\n",
    "\n",
    "CG_com = CG_map * ethane.get_masses() / (CG_map  *  ethane.get_masses()).sum(1)[:, None]\n",
    "\n",
    "# Generate cg coordinates and forces \n",
    "cg_xyz = np.matmul(CG_com, xyz)\n",
    "cg_force = np.matmul(CG_map, force)"
   ]
  },
  {
   "cell_type": "code",
   "execution_count": 26,
   "metadata": {},
   "outputs": [],
   "source": [
    "# it might take a while to build the dataset: "
   ]
  },
  {
   "cell_type": "code",
   "execution_count": 27,
   "metadata": {},
   "outputs": [
    {
     "name": "stdout",
     "output_type": "stream",
     "text": [
      "processing frame number 0\n",
      "processing frame number 50\n",
      "processing frame number 100\n",
      "processing frame number 150\n",
      "processing frame number 200\n",
      "processing frame number 250\n",
      "processing frame number 300\n",
      "processing frame number 350\n",
      "processing frame number 400\n",
      "processing frame number 450\n",
      "processing frame number 500\n",
      "processing frame number 550\n",
      "processing frame number 600\n",
      "processing frame number 650\n",
      "processing frame number 700\n",
      "processing frame number 750\n",
      "processing frame number 800\n",
      "processing frame number 850\n",
      "processing frame number 900\n",
      "processing frame number 950\n",
      "processing frame number 1000\n",
      "processing frame number 1050\n",
      "processing frame number 1100\n",
      "processing frame number 1150\n",
      "processing frame number 1200\n",
      "processing frame number 1250\n",
      "processing frame number 1300\n",
      "processing frame number 1350\n",
      "processing frame number 1400\n",
      "processing frame number 1450\n",
      "processing frame number 1500\n",
      "processing frame number 1550\n",
      "processing frame number 1600\n",
      "processing frame number 1650\n",
      "processing frame number 1700\n",
      "processing frame number 1750\n",
      "processing frame number 1800\n",
      "processing frame number 1850\n",
      "processing frame number 1900\n",
      "processing frame number 1950\n"
     ]
    }
   ],
   "source": [
    "Atoms_batch_list = []\n",
    "\n",
    "# define cells \n",
    "cell = [[15.9808, 0, 0],\n",
    "       [0, 16.887199, 0],\n",
    "        [0, 0,  19.932]]\n",
    "\n",
    "for i, frame in enumerate(cg_xyz):\n",
    "    \n",
    "    if i % 50 == 0:\n",
    "        print(\"processing frame number {}\".format(i))\n",
    "    \n",
    "    props = dict()\n",
    "    props[\"num_subgraphs\"] = torch.LongTensor( [N_cg] * N )\n",
    "    props[\"num_atoms\"] = torch.LongTensor([N * N_cg])\n",
    "    props[\"energy_grad\"] = -torch.Tensor( cg_force[i] )\n",
    "    \n",
    "    box = BulkPhaseMaterials(numbers=[1, 1] * N, \n",
    "                           positions=frame.reshape(N * N_cg, 3),\n",
    "                           cell=cell,\n",
    "                           pbc=True,\n",
    "                           props=props\n",
    "                            )\n",
    "\n",
    "    box.update_atoms_nbr_list(4.0)\n",
    "    box.update_system_nbr_list(5.0)\n",
    "    \n",
    "    Atoms_batch_list.append(box)"
   ]
  },
  {
   "cell_type": "code",
   "execution_count": 35,
   "metadata": {},
   "outputs": [],
   "source": [
    "# Note there are two cutoffs here, corresponding to the intramolecular and intermolecular cutoff \n",
    "\n",
    "props = {\n",
    "    'nxyz': [atomsbatch.get_nxyz() for atomsbatch in Atoms_batch_list], # atomic number and xyz \n",
    "    'energy_grad': [-force for force in cg_force[::50]], # negative forces \n",
    "    'num_subgraphs': [atomsbatch.props['num_subgraphs'] for atomsbatch in Atoms_batch_list], # number of subgraphs \n",
    "    'num_atoms': [atomsbatch.props['num_atoms'] for atomsbatch in Atoms_batch_list], # total number of atoms \n",
    "    'atoms_nbr_list': [atomsbatch.atoms_nbr_list  for atomsbatch in Atoms_batch_list], # intramolecular_nbr_list \n",
    "    'nbr_list': [atomsbatch.nbr_list for atomsbatch in Atoms_batch_list], # intermolecular_nbr_list \n",
    "    'offsets': [atomsbatch.offsets.to_dense() for atomsbatch in Atoms_batch_list], # Pytorch glitch\" torch.sparse tensor has no storage, so we need to send it back to dense tensor \n",
    "    'cell': [atomsbatch.get_cell() for atomsbatch in Atoms_batch_list] # cell dimensions \n",
    "}"
   ]
  },
  {
   "cell_type": "code",
   "execution_count": 37,
   "metadata": {},
   "outputs": [],
   "source": [
    "pickle.dump(props, open( \"./data/ethane_data.pkl\", \"wb\" ) )"
   ]
  },
  {
   "cell_type": "code",
   "execution_count": 38,
   "metadata": {},
   "outputs": [],
   "source": [
    "# reload dataset\n",
    "props = pickle.load( open( \"./ethane_data.pkl\", \"rb\" ) )"
   ]
  },
  {
   "cell_type": "code",
   "execution_count": null,
   "metadata": {},
   "outputs": [],
   "source": [
    "# You can go to another tutorial for Bulk-CG training and sampling "
   ]
  }
 ],
 "metadata": {
  "kernelspec": {
   "display_name": "Python [conda env:nff]",
   "language": "python",
   "name": "conda-env-nff-py"
  },
  "language_info": {
   "codemirror_mode": {
    "name": "ipython",
    "version": 3
   },
   "file_extension": ".py",
   "mimetype": "text/x-python",
   "name": "python",
   "nbconvert_exporter": "python",
   "pygments_lexer": "ipython3",
   "version": "3.7.3"
  }
 },
 "nbformat": 4,
 "nbformat_minor": 2
}
