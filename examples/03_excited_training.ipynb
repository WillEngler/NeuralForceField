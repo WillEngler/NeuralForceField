{
 "cells": [
  {
   "cell_type": "markdown",
   "metadata": {},
   "source": [
    "# Neural Force Field for Excited States"
   ]
  },
  {
   "cell_type": "markdown",
   "metadata": {},
   "source": [
    "This Jupyter Notebook contains an example of how to train a neural force field on two electronic states."
   ]
  },
  {
   "cell_type": "markdown",
   "metadata": {},
   "source": [
    "We first import all dependencies for this tutorial."
   ]
  },
  {
   "cell_type": "code",
   "execution_count": 1,
   "metadata": {},
   "outputs": [],
   "source": [
    "import sys\n",
    "sys.path.append(\"../..\")\n",
    "sys.path.append(\"..\")\n",
    "\n",
    "\n",
    "import os\n",
    "import shutil\n",
    "import numpy as np\n",
    "import matplotlib.pyplot as plt\n",
    "\n",
    "import torch\n",
    "from torch.optim import Adam\n",
    "from torch.utils.data import DataLoader\n",
    "\n",
    "\n",
    "from nff.data import Dataset, split_train_validation_test\n",
    "import pickle\n",
    "from nff.data.loader import collate_dicts\n",
    "\n",
    "from nff.train import Trainer, get_trainer, get_model, loss, hooks, metrics, evaluate\n"
   ]
  },
  {
   "cell_type": "markdown",
   "metadata": {},
   "source": [
    "We now set some parameters, including the output director and the GPU. We also can set the `DIABATIC` to true or false. If true, the neural network will produce three elements of the Hamiltonian and diagonalize it to give the adiabatic energies. If false, the neural network will simply produce the two adiabatic energies.\n",
    "\n",
    "We also can choose whether to sort the outputted energies or not by setting `SORTED`. The ground state should always be lower in energy than the excited state, so we might want to enforce that by having torch always sort the outputs."
   ]
  },
  {
   "cell_type": "code",
   "execution_count": 2,
   "metadata": {},
   "outputs": [],
   "source": [
    "DIABATIC = False\n",
    "SORTED = False\n",
    "\n",
    "DEVICE = 0\n",
    "OUTDIR = './sandbox'\n",
    "\n",
    "if os.path.exists(OUTDIR):\n",
    "    newpath = os.path.join(os.path.dirname(OUTDIR), 'backup')\n",
    "    if os.path.exists(newpath):\n",
    "        shutil.rmtree(newpath)\n",
    "        \n",
    "    shutil.move(OUTDIR, newpath)\n",
    "    "
   ]
  },
  {
   "cell_type": "markdown",
   "metadata": {},
   "source": [
    "## Loading the relevant data"
   ]
  },
  {
   "cell_type": "markdown",
   "metadata": {},
   "source": [
    "We can load the dataset in the regular way, from the example file `switch_demonstration.pth.tar`. This dataset contains a sample surface-hopping trajectory of the photoswitch fluoro-azobenzene. After loading the dataset we split it into training, validation and test sets."
   ]
  },
  {
   "cell_type": "code",
   "execution_count": 3,
   "metadata": {},
   "outputs": [],
   "source": [
    "dataset = Dataset.from_file(\"switch_demonstration.pth.tar\")\n",
    "train, val, test = split_train_validation_test(dataset, val_size=0.2, test_size=0.2)"
   ]
  },
  {
   "cell_type": "code",
   "execution_count": 4,
   "metadata": {},
   "outputs": [],
   "source": [
    "train_loader = DataLoader(train, batch_size=50, collate_fn=collate_dicts)\n",
    "val_loader = DataLoader(val, batch_size=50, collate_fn=collate_dicts)\n",
    "test_loader = DataLoader(test, batch_size=50, collate_fn=collate_dicts)\n"
   ]
  },
  {
   "cell_type": "markdown",
   "metadata": {},
   "source": [
    "## Creating a model"
   ]
  },
  {
   "cell_type": "markdown",
   "metadata": {},
   "source": [
    "In NeuralFF we must specify the readout dictionary. This contains information about how the convolutions get turned into outputted properties. We can also specify a function called `post_readout`. This can act on the output of `readoutdict` to generate new properties.\n",
    "\n",
    "In particular, if we set `DIABATIC` to true, then our `readoutdict` outputs diabatic energies 0 and 1, as well as a diabatic coupling lambda. Then our `post_readout` function converts these diabatic quantities to adiabatic energies. Note that we use a small non-zero value `EPS` when computing the square root function below. This is because the derivative of the square root function is undefined when its argument is zero. The `EPS` parameter keeps the argument away from zero. \n",
    "\n",
    "If we set `DIABATIC` to false, then `readoutdict` simply returns the adiabatic energies right away. If we set `SORTED` to true, then `post_readout` will sort the adiabatic energies. This ensures that the excited state always has higher energy than the ground state."
   ]
  },
  {
   "cell_type": "code",
   "execution_count": 5,
   "metadata": {},
   "outputs": [],
   "source": [
    "n_atom_basis = 256\n",
    "EPS = 1e-15\n",
    "\n",
    "\n",
    "if DIABATIC:\n",
    "    readoutdict = {\n",
    "                        \"d0\": [{'name': 'linear', 'param' : { 'in_features': n_atom_basis, \n",
    "                                                                  'out_features': int(n_atom_basis / 2)}},\n",
    "                                   {'name': 'shifted_softplus', 'param': {}},\n",
    "                                   {'name': 'linear', 'param' : { 'in_features': int(n_atom_basis / 2), \n",
    "                                                                  'out_features': 1}}],\n",
    "                        \"d1\": [{'name': 'linear', 'param' : { 'in_features': n_atom_basis, \n",
    "                                                                  'out_features': int(n_atom_basis / 2)}},\n",
    "                                   {'name': 'shifted_softplus', 'param': {}},\n",
    "                                   {'name': 'linear', 'param' : { 'in_features': int(n_atom_basis / 2), \n",
    "                                                                  'out_features': 1}}],\n",
    "        \n",
    "                        \"lambda\": [{'name': 'linear', 'param' : { 'in_features': n_atom_basis, \n",
    "                                                                  'out_features': int(n_atom_basis / 2)}},\n",
    "                                   {'name': 'shifted_softplus', 'param': {}},\n",
    "                                   {'name': 'linear', 'param' : { 'in_features': int(n_atom_basis / 2), \n",
    "                                                                  'out_features': 1}}]\n",
    "                    }\n",
    "    \n",
    "    def post_readout(predict_dict, readoutdict):\n",
    "        d0 = predict_dict[\"d0\"]\n",
    "        d1 = predict_dict[\"d1\"]\n",
    "        lam = predict_dict[\"lambda\"]\n",
    "        \n",
    "        e0 = 1.0/2.0*(d0 + d1 - torch.sqrt((d0-d1)**2 + 4*lam**2 + EPS) )\n",
    "        e1 = 1.0/2.0*(d0 + d1 + torch.sqrt((d0-d1)**2 + 4*lam**2 + EPS) )\n",
    "        dic = {\"energy_0\": e0, \"energy_1\": e1, \"energy_d_0\": d0, \"energy_d_1\": d1, \"lambda\": lam}\n",
    "        return dic\n",
    "    \n",
    "else:\n",
    "    \n",
    "    readoutdict = {\n",
    "                        \"energy_0\": [{'name': 'linear', 'param' : { 'in_features': n_atom_basis, \n",
    "                                                                  'out_features': int(n_atom_basis / 2)}},\n",
    "                                   {'name': 'shifted_softplus', 'param': {}},\n",
    "                                   {'name': 'linear', 'param' : { 'in_features': int(n_atom_basis / 2), \n",
    "                                                                  'out_features': 1}}],\n",
    "                        \"energy_1\": [{'name': 'linear', 'param' : { 'in_features': n_atom_basis, \n",
    "                                                                  'out_features': int(n_atom_basis / 2)}},\n",
    "                                   {'name': 'shifted_softplus', 'param': {}},\n",
    "                                   {'name': 'linear', 'param' : { 'in_features': int(n_atom_basis / 2), \n",
    "                                                                  'out_features': 1}}]\n",
    "                    }\n",
    "    \n",
    "\n",
    "    if SORTED:\n",
    "        def post_readout(predict_dict, readoutdict):\n",
    "            sorted_keys = sorted(list(readoutdict.keys()))\n",
    "            sorted_ens = torch.sort(torch.stack([predict_dict[key] for key in sorted_keys]))[0] \n",
    "            sorted_dic = {key: val for key, val in zip(sorted_keys, sorted_ens)}\n",
    "            return sorted_dic\n",
    "    else:\n",
    "        post_readout = None\n",
    "\n",
    "        \n",
    "\n",
    "params = {\n",
    "    'n_atom_basis': n_atom_basis,\n",
    "    'n_filters': 256,\n",
    "    'n_gaussians': 32,\n",
    "    'n_convolutions': 10,\n",
    "    'cutoff': 5.0,\n",
    "    'trainable_gauss': False, \n",
    "    'readoutdict': readoutdict,\n",
    "    'post_readout': post_readout\n",
    "}\n",
    "\n",
    "\n",
    "\n",
    "model = get_model(params)"
   ]
  },
  {
   "cell_type": "markdown",
   "metadata": {},
   "source": [
    "## Creating a trainer"
   ]
  },
  {
   "cell_type": "markdown",
   "metadata": {},
   "source": [
    "We create a trainer and select an optimizer in the usual way:"
   ]
  },
  {
   "cell_type": "code",
   "execution_count": 6,
   "metadata": {},
   "outputs": [],
   "source": [
    "rho_0 = 0.1\n",
    "rho_1 = 0.1\n",
    "\n",
    "loss_coef = {'energy_0': rho_0, 'energy_0_grad': 1, 'energy_1': rho_1, 'energy_1_grad': 1}\n",
    "loss_fn = loss.build_mse_loss(loss_coef=loss_coef)\n",
    "\n",
    "trainable_params = filter(lambda p: p.requires_grad, model.parameters())\n",
    "optimizer = Adam(trainable_params, lr=1e-4)"
   ]
  },
  {
   "cell_type": "markdown",
   "metadata": {},
   "source": [
    "### Metrics and hooks"
   ]
  },
  {
   "cell_type": "markdown",
   "metadata": {},
   "source": [
    "Metrics and hooks are set up in the same way as for one state:"
   ]
  },
  {
   "cell_type": "code",
   "execution_count": 7,
   "metadata": {},
   "outputs": [],
   "source": [
    "train_metrics = [\n",
    "    metrics.MeanAbsoluteError('energy_0'),\n",
    "    metrics.MeanAbsoluteError('energy_0_grad'),\n",
    "    metrics.MeanAbsoluteError('energy_1'),\n",
    "    metrics.MeanAbsoluteError('energy_1_grad'),\n",
    "\n",
    "]"
   ]
  },
  {
   "cell_type": "code",
   "execution_count": 8,
   "metadata": {},
   "outputs": [],
   "source": [
    "train_hooks = [\n",
    "    hooks.MaxEpochHook(1000),\n",
    "    hooks.CSVHook(\n",
    "        OUTDIR,\n",
    "        metrics=train_metrics,\n",
    "    ),\n",
    "    hooks.PrintingHook(\n",
    "        OUTDIR,\n",
    "        metrics=train_metrics,\n",
    "        separator = ' | '\n",
    "    ),\n",
    "    hooks.ReduceLROnPlateauHook(\n",
    "        optimizer=optimizer,\n",
    "        patience=30,\n",
    "        factor=0.5,\n",
    "        min_lr=1e-7,\n",
    "        window_length=1,\n",
    "        stop_after_min=True\n",
    "    )\n",
    "]"
   ]
  },
  {
   "cell_type": "markdown",
   "metadata": {},
   "source": [
    "### Trainer wrapper"
   ]
  },
  {
   "cell_type": "markdown",
   "metadata": {},
   "source": [
    "The training wrapper is the same as usual:"
   ]
  },
  {
   "cell_type": "code",
   "execution_count": 9,
   "metadata": {},
   "outputs": [],
   "source": [
    "T = Trainer(\n",
    "        model_path=OUTDIR,\n",
    "        model=model,\n",
    "        loss_fn=loss_fn,\n",
    "        optimizer=optimizer,\n",
    "        train_loader=train_loader,\n",
    "        validation_loader=val_loader,\n",
    "        checkpoint_interval=1,\n",
    "        hooks=train_hooks\n",
    "    )"
   ]
  },
  {
   "cell_type": "markdown",
   "metadata": {},
   "source": [
    "Now we can finally train the model using the method `train` from the `Trainer`:"
   ]
  },
  {
   "cell_type": "code",
   "execution_count": 10,
   "metadata": {},
   "outputs": [
    {
     "name": "stdout",
     "output_type": "stream",
     "text": [
      "               Time | Epoch | Learning rate | Train loss | Validation loss | MAE_energy_0 | MAE_energy_0_grad | MAE_energy_1 | MAE_energy_1_grad | GPU Memory (MB)\n",
      "2019-09-26 13:08:42 |     1 |     1.000e-04 | 2041809.8581 |    1313758.7012 |    2416.7950 |           74.2642 |    2416.0827 |           78.5757 |            6861\n",
      "2019-09-26 13:08:49 |     2 |     1.000e-04 | 1045982.5425 |     723341.3525 |    1704.9394 |           97.3569 |    1702.3112 |          104.0328 |            6861\n",
      "2019-09-26 13:08:56 |     3 |     1.000e-04 | 471802.2186 |     346581.4342 |    1077.8953 |          114.9610 |    1085.1594 |          118.5987 |            6861\n",
      "2019-09-26 13:09:03 |     4 |     1.000e-04 | 187336.7229 |     119221.6150 |     473.9128 |           96.3139 |     471.4496 |          101.1987 |            6861\n",
      "2019-09-26 13:09:10 |     5 |     1.000e-04 | 82413.3441 |      72545.3379 |     376.8874 |           74.4664 |     373.6751 |           76.6355 |            6861\n",
      "2019-09-26 13:09:17 |     6 |     1.000e-04 | 52689.6279 |      52732.0294 |     317.3139 |           62.6394 |     315.7034 |           63.6659 |            6861\n",
      "2019-09-26 13:09:24 |     7 |     1.000e-04 | 36956.5155 |      38066.3982 |     264.0160 |           54.5686 |     262.6802 |           55.9909 |            6861\n",
      "2019-09-26 13:09:30 |     8 |     1.000e-04 | 29564.9710 |      33757.2525 |     256.7244 |           49.5309 |     252.3688 |           50.4778 |            6861\n",
      "2019-09-26 13:09:37 |     9 |     1.000e-04 | 24211.9365 |      27160.2143 |     220.8681 |           45.7433 |     219.0368 |           46.6097 |            6861\n",
      "2019-09-26 13:09:44 |    10 |     1.000e-04 | 21054.3740 |      24468.0337 |     208.8866 |           43.8282 |     208.8229 |           44.5165 |            6861\n",
      "2019-09-26 13:09:51 |    11 |     1.000e-04 | 18933.8103 |      22984.3989 |     202.4885 |           42.7511 |     205.4695 |           43.2388 |            6861\n",
      "2019-09-26 13:09:58 |    12 |     1.000e-04 | 17421.8013 |      22253.8944 |     204.6529 |           41.7911 |     209.0699 |           42.1016 |            6861\n",
      "2019-09-26 13:10:05 |    13 |     1.000e-04 | 16318.9416 |      21139.8094 |     200.6891 |           40.7848 |     204.0446 |           40.9163 |            6861\n",
      "2019-09-26 13:10:12 |    14 |     1.000e-04 | 15221.4169 |      19569.0485 |     190.4288 |           39.7265 |     191.1357 |           39.7028 |            6861\n",
      "2019-09-26 13:10:19 |    15 |     1.000e-04 | 14086.5728 |      18206.1425 |     181.3669 |           38.7045 |     180.2358 |           38.5326 |            6861\n",
      "2019-09-26 13:10:26 |    16 |     1.000e-04 | 13077.2827 |      17219.6599 |     175.3150 |           37.7771 |     173.8290 |           37.4605 |            6861\n",
      "2019-09-26 13:10:33 |    17 |     1.000e-04 | 12267.1778 |      16444.5939 |     171.1090 |           36.9651 |     169.5048 |           36.5253 |            6861\n",
      "2019-09-26 13:10:39 |    18 |     1.000e-04 | 11619.4855 |      15774.5085 |     167.3156 |           36.2547 |     166.0103 |           35.7146 |            6861\n",
      "2019-09-26 13:10:46 |    19 |     1.000e-04 | 11067.2082 |      15201.6107 |     164.1076 |           35.6232 |     162.8411 |           35.0012 |            6861\n",
      "2019-09-26 13:10:53 |    20 |     1.000e-04 | 10571.2459 |      14719.3222 |     161.5573 |           35.0473 |     160.0814 |           34.3671 |            6861\n",
      "2019-09-26 13:11:00 |    21 |     1.000e-04 | 10136.3172 |      14298.6509 |     159.4143 |           34.5132 |     157.6631 |           33.7929 |            6861\n",
      "2019-09-26 13:11:07 |    22 |     1.000e-04 |  9753.5580 |      13919.2129 |     157.3794 |           34.0168 |     155.3980 |           33.2644 |            6861\n",
      "2019-09-26 13:11:14 |    23 |     1.000e-04 |  9406.2886 |      13563.3829 |     155.3667 |           33.5541 |     153.2355 |           32.7778 |            6861\n",
      "2019-09-26 13:11:21 |    24 |     1.000e-04 |  9087.9017 |      13215.5287 |     153.2472 |           33.1177 |     151.1460 |           32.3268 |            6861\n",
      "2019-09-26 13:11:28 |    25 |     1.000e-04 |  8790.9552 |      12864.4134 |     151.0191 |           32.7082 |     149.0543 |           31.9131 |            6861\n",
      "2019-09-26 13:11:35 |    26 |     1.000e-04 |  8511.5744 |      12506.1213 |     148.7400 |           32.3201 |     146.9916 |           31.5328 |            6861\n",
      "2019-09-26 13:11:42 |    27 |     1.000e-04 |  8245.2936 |      12135.6934 |     146.3752 |           31.9514 |     144.6693 |           31.1787 |            6861\n",
      "2019-09-26 13:11:49 |    28 |     1.000e-04 |  7992.5399 |      11754.2459 |     143.8100 |           31.5939 |     142.1482 |           30.8446 |            6861\n",
      "2019-09-26 13:11:55 |    29 |     1.000e-04 |  7751.5969 |      11366.8590 |     141.1101 |           31.2481 |     139.3169 |           30.5262 |            6861\n",
      "2019-09-26 13:12:02 |    30 |     1.000e-04 |  7521.9954 |      10982.5796 |     138.2047 |           30.9158 |     136.2961 |           30.2199 |            6861\n",
      "2019-09-26 13:12:09 |    31 |     1.000e-04 |  7305.1619 |      10609.1664 |     135.1416 |           30.5967 |     133.2039 |           29.9231 |            6861\n",
      "2019-09-26 13:12:16 |    32 |     1.000e-04 |  7101.6656 |      10253.0590 |     132.0270 |           30.2879 |     130.1795 |           29.6384 |            6861\n",
      "2019-09-26 13:12:23 |    33 |     1.000e-04 |  6910.9836 |       9917.5825 |     128.9622 |           29.9867 |     127.1524 |           29.3647 |            6861\n",
      "2019-09-26 13:12:30 |    34 |     1.000e-04 |  6732.9215 |       9607.3835 |     126.0282 |           29.6967 |     124.3292 |           29.1007 |            6861\n",
      "2019-09-26 13:12:37 |    35 |     1.000e-04 |  6566.3664 |       9324.0305 |     123.1607 |           29.4179 |     121.6628 |           28.8441 |            6861\n",
      "2019-09-26 13:12:44 |    36 |     1.000e-04 |  6409.7404 |       9067.4376 |     120.5766 |           29.1469 |     119.4881 |           28.5954 |            6861\n",
      "2019-09-26 13:12:51 |    37 |     1.000e-04 |  6262.6283 |       8837.9282 |     118.3256 |           28.8858 |     117.7066 |           28.3535 |            6861\n",
      "2019-09-26 13:12:58 |    38 |     1.000e-04 |  6125.5292 |       8634.8895 |     116.4052 |           28.6348 |     116.4800 |           28.1214 |            6861\n",
      "2019-09-26 13:13:04 |    39 |     1.000e-04 |  5999.1534 |       8455.5970 |     114.8674 |           28.3938 |     115.7327 |           27.9017 |            6861\n",
      "2019-09-26 13:13:11 |    40 |     1.000e-04 |  5881.8814 |       8290.8584 |     113.6528 |           28.1638 |     115.2272 |           27.6906 |            6861\n",
      "2019-09-26 13:13:18 |    41 |     1.000e-04 |  5768.8349 |       8128.5719 |     112.6719 |           27.9420 |     114.7442 |           27.4848 |            6861\n",
      "2019-09-26 13:13:25 |    42 |     1.000e-04 |  5654.4858 |       7962.3368 |     111.6054 |           27.7258 |     114.0434 |           27.2846 |            6861\n",
      "2019-09-26 13:13:32 |    43 |     1.000e-04 |  5536.5700 |       7798.0056 |     110.5458 |           27.5142 |     113.3086 |           27.0891 |            6861\n",
      "2019-09-26 13:13:39 |    44 |     1.000e-04 |  5418.8859 |       7651.9637 |     109.7236 |           27.3089 |     112.9681 |           26.9000 |            6861\n",
      "2019-09-26 13:13:46 |    45 |     1.000e-04 |  5310.0052 |       7541.4260 |     109.3522 |           27.1121 |     113.2745 |           26.7190 |            6861\n",
      "2019-09-26 13:13:53 |    46 |     1.000e-04 |  5218.3190 |       7471.3938 |     109.5564 |           26.9241 |     114.4980 |           26.5472 |            6861\n",
      "2019-09-26 13:14:00 |    47 |     1.000e-04 |  5145.5676 |       7423.6380 |     110.1910 |           26.7422 |     115.9838 |           26.3830 |            6861\n",
      "2019-09-26 13:14:07 |    48 |     1.000e-04 |  5082.7959 |       7355.3128 |     110.4401 |           26.5643 |     116.6921 |           26.2217 |            6861\n",
      "2019-09-26 13:14:14 |    49 |     1.000e-04 |  5012.6171 |       7223.2768 |     109.5780 |           26.3869 |     115.8639 |           26.0579 |            6861\n",
      "2019-09-26 13:14:20 |    50 |     1.000e-04 |  4919.0286 |       7018.3286 |     107.4486 |           26.2063 |     113.4047 |           25.8896 |            6861\n"
     ]
    },
    {
     "name": "stdout",
     "output_type": "stream",
     "text": [
      "2019-09-26 13:14:27 |    51 |     1.000e-04 |  4797.5872 |       6780.6255 |     104.7219 |           26.0239 |     110.1793 |           25.7173 |            6861\n",
      "2019-09-26 13:14:34 |    52 |     1.000e-04 |  4661.1077 |       6579.0294 |     102.5250 |           25.8477 |     107.7515 |           25.5509 |            6861\n",
      "2019-09-26 13:14:41 |    53 |     1.000e-04 |  4534.2287 |       6474.8083 |     101.9648 |           25.6852 |     107.5183 |           25.3978 |            6861\n",
      "2019-09-26 13:14:48 |    54 |     1.000e-04 |  4442.5132 |       6506.6315 |     103.7987 |           25.5397 |     110.0685 |           25.2614 |            6861\n",
      "2019-09-26 13:14:55 |    55 |     1.000e-04 |  4403.2332 |       6685.0076 |     108.1290 |           25.4108 |     114.9962 |           25.1444 |            6861\n",
      "2019-09-26 13:15:02 |    56 |     1.000e-04 |  4418.8545 |       6973.8286 |     113.6539 |           25.2944 |     121.1981 |           25.0420 |            6861\n",
      "2019-09-26 13:15:09 |    57 |     1.000e-04 |  4473.5180 |       7268.7579 |     118.7390 |           25.1821 |     126.7786 |           24.9461 |            6861\n",
      "2019-09-26 13:15:16 |    58 |     1.000e-04 |  4532.7338 |       7392.0741 |     121.1046 |           25.0663 |     129.3059 |           24.8450 |            6861\n",
      "2019-09-26 13:15:22 |    59 |     1.000e-04 |  4548.8965 |       7147.2299 |     118.0020 |           24.9358 |     125.8238 |           24.7237 |            6861\n",
      "2019-09-26 13:15:29 |    60 |     1.000e-04 |  4475.7626 |       6488.0879 |     108.3734 |           24.7780 |     115.0916 |           24.5697 |            6861\n",
      "2019-09-26 13:15:36 |    61 |     1.000e-04 |  4300.7871 |       5667.8099 |      95.0050 |           24.5932 |      99.4614 |           24.3835 |            6861\n",
      "2019-09-26 13:15:43 |    62 |     1.000e-04 |  4064.3373 |       5034.2225 |      84.0962 |           24.3989 |      85.2450 |           24.1879 |            6861\n",
      "2019-09-26 13:15:50 |    63 |     1.000e-04 |  3825.2720 |       4685.1081 |      78.0342 |           24.2222 |      78.4353 |           24.0116 |            6861\n",
      "2019-09-26 13:15:57 |    64 |     1.000e-04 |  3616.1923 |       4507.0838 |      74.9716 |           24.0783 |      75.0279 |           23.8712 |            6861\n",
      "2019-09-26 13:16:04 |    65 |     1.000e-04 |  3444.0488 |       4413.7035 |      73.8805 |           23.9676 |      74.0720 |           23.7665 |            6861\n",
      "2019-09-26 13:16:11 |    66 |     1.000e-04 |  3312.6601 |       4413.9312 |      74.8455 |           23.8803 |      75.4273 |           23.6862 |            6861\n",
      "2019-09-26 13:16:18 |    67 |     1.000e-04 |  3231.0798 |       4518.8082 |      78.0763 |           23.8001 |      80.0700 |           23.6138 |            6861\n",
      "2019-09-26 13:16:24 |    68 |     1.000e-04 |  3197.8605 |       4652.0402 |      81.3515 |           23.7088 |      85.1530 |           23.5330 |            6861\n",
      "2019-09-26 13:16:31 |    69 |     1.000e-04 |  3183.9894 |       4712.3550 |      83.2146 |           23.6001 |      87.6811 |           23.4358 |            6861\n",
      "2019-09-26 13:16:38 |    70 |     1.000e-04 |  3157.0709 |       4680.4226 |      83.2077 |           23.4783 |      87.8580 |           23.3243 |            6861\n",
      "2019-09-26 13:16:45 |    71 |     1.000e-04 |  3111.5606 |       4591.6835 |      81.9809 |           23.3528 |      86.6296 |           23.2064 |            6861\n",
      "2019-09-26 13:16:52 |    72 |     1.000e-04 |  3055.4538 |       4473.4712 |      80.0979 |           23.2302 |      84.6099 |           23.0887 |            6861\n",
      "2019-09-26 13:16:59 |    73 |     1.000e-04 |  2993.3473 |       4339.5378 |      77.8337 |           23.1112 |      82.0647 |           22.9733 |            6861\n",
      "2019-09-26 13:17:06 |    74 |     1.000e-04 |  2928.0776 |       4200.0377 |      75.3832 |           22.9955 |      79.2077 |           22.8595 |            6861\n",
      "2019-09-26 13:17:13 |    75 |     1.000e-04 |  2862.5114 |       4062.2738 |      72.8328 |           22.8827 |      76.2798 |           22.7484 |            6861\n",
      "2019-09-26 13:17:20 |    76 |     1.000e-04 |  2798.6828 |       3931.3631 |      70.3933 |           22.7732 |      73.4323 |           22.6410 |            6861\n",
      "2019-09-26 13:17:26 |    77 |     1.000e-04 |  2738.0993 |       3810.4741 |      68.2938 |           22.6674 |      70.7549 |           22.5373 |            6861\n",
      "2019-09-26 13:17:33 |    78 |     1.000e-04 |  2681.6376 |       3700.4880 |      66.4108 |           22.5652 |      68.2660 |           22.4366 |            6861\n",
      "2019-09-26 13:17:40 |    79 |     1.000e-04 |  2629.3827 |       3601.3917 |      64.7515 |           22.4649 |      66.0134 |           22.3393 |            6861\n",
      "2019-09-26 13:17:47 |    80 |     1.000e-04 |  2581.2213 |       3511.9489 |      63.2653 |           22.3673 |      63.9880 |           22.2454 |            6861\n",
      "2019-09-26 13:17:54 |    81 |     1.000e-04 |  2536.7105 |       3431.2378 |      61.9937 |           22.2723 |      62.1942 |           22.1545 |            6861\n",
      "2019-09-26 13:18:01 |    82 |     1.000e-04 |  2495.6354 |       3357.8583 |      60.7983 |           22.1796 |      60.5527 |           22.0654 |            6861\n",
      "2019-09-26 13:18:08 |    83 |     1.000e-04 |  2457.4857 |       3290.7525 |      59.6704 |           22.0889 |      59.0395 |           21.9773 |            6861\n",
      "2019-09-26 13:18:15 |    84 |     1.000e-04 |  2421.8455 |       3228.8824 |      58.6312 |           22.0001 |      57.6247 |           21.8901 |            6861\n",
      "2019-09-26 13:18:22 |    85 |     1.000e-04 |  2388.2542 |       3171.7665 |      57.7068 |           21.9119 |      56.3135 |           21.8034 |            6861\n",
      "2019-09-26 13:18:29 |    86 |     1.000e-04 |  2356.5996 |       3118.4476 |      56.8694 |           21.8248 |      55.0775 |           21.7174 |            6861\n",
      "2019-09-26 13:18:36 |    87 |     1.000e-04 |  2326.7822 |       3068.4572 |      56.0801 |           21.7389 |      54.0079 |           21.6322 |            6861\n",
      "2019-09-26 13:18:42 |    88 |     1.000e-04 |  2298.7102 |       3021.4512 |      55.3208 |           21.6548 |      53.0064 |           21.5489 |            6861\n",
      "2019-09-26 13:18:49 |    89 |     1.000e-04 |  2272.3662 |       2977.1803 |      54.6208 |           21.5718 |      52.0370 |           21.4666 |            6861\n",
      "2019-09-26 13:18:56 |    90 |     1.000e-04 |  2247.6875 |       2935.5920 |      53.9493 |           21.4898 |      51.1679 |           21.3854 |            6861\n",
      "2019-09-26 13:19:03 |    91 |     1.000e-04 |  2224.7656 |       2896.6538 |      53.3029 |           21.4085 |      50.4034 |           21.3056 |            6861\n",
      "2019-09-26 13:19:10 |    92 |     1.000e-04 |  2203.7748 |       2860.5141 |      52.7265 |           21.3284 |      49.7569 |           21.2267 |            6861\n",
      "2019-09-26 13:19:17 |    93 |     1.000e-04 |  2184.8206 |       2827.4229 |      52.1917 |           21.2498 |      49.1915 |           21.1494 |            6861\n",
      "2019-09-26 13:19:24 |    94 |     1.000e-04 |  2167.9622 |       2797.4835 |      51.7228 |           21.1725 |      48.7110 |           21.0737 |            6861\n",
      "2019-09-26 13:19:31 |    95 |     1.000e-04 |  2153.0448 |       2770.1964 |      51.3771 |           21.0971 |      48.3248 |           20.9993 |            6861\n",
      "2019-09-26 13:19:38 |    96 |     1.000e-04 |  2139.6428 |       2744.1652 |      51.0913 |           21.0235 |      47.9988 |           20.9268 |            6861\n",
      "2019-09-26 13:19:45 |    97 |     1.000e-04 |  2126.9979 |       2717.8905 |      50.7804 |           20.9516 |      47.6373 |           20.8557 |            6861\n",
      "2019-09-26 13:19:51 |    98 |     1.000e-04 |  2114.0814 |       2691.3521 |      50.4454 |           20.8805 |      47.2629 |           20.7854 |            6861\n",
      "2019-09-26 13:19:58 |    99 |     1.000e-04 |  2100.3034 |       2665.8847 |      50.1203 |           20.8101 |      46.8984 |           20.7158 |            6861\n",
      "2019-09-26 13:20:05 |   100 |     1.000e-04 |  2086.0828 |       2641.4346 |      49.7967 |           20.7405 |      46.5617 |           20.6469 |            6861\n"
     ]
    }
   ],
   "source": [
    "T.train(device=DEVICE, n_epochs=100)\n"
   ]
  },
  {
   "cell_type": "markdown",
   "metadata": {},
   "source": [
    "## Evaluating the model on the test set"
   ]
  },
  {
   "cell_type": "markdown",
   "metadata": {},
   "source": [
    "Now we have a brand new model trained and validated. We can use the best model from this training to evaluate its performance on the test set. `results` contains the predictions of properties for the whole test dataset. `targets` contains the ground truth for such data. `test_loss` is the loss, calculated with the same function used during the training part"
   ]
  },
  {
   "cell_type": "code",
   "execution_count": 11,
   "metadata": {},
   "outputs": [],
   "source": [
    "results, targets, val_loss = evaluate(model, test_loader, loss_fn, device=DEVICE)"
   ]
  },
  {
   "cell_type": "markdown",
   "metadata": {},
   "source": [
    "Finally, we can plot our results to observe how well is our model performing:"
   ]
  },
  {
   "cell_type": "code",
   "execution_count": 12,
   "metadata": {},
   "outputs": [
    {
     "data": {
      "image/png": "[encoded data removed]",
      "text/plain": [
       "<Figure size 864x432 with 2 Axes>"
      ]
     },
     "metadata": {
      "needs_background": "light"
     },
     "output_type": "display_data"
    },
    {
     "data": {
      "image/png": "[encoded data removed]",
      "text/plain": [
       "<Figure size 864x432 with 2 Axes>"
      ]
     },
     "metadata": {
      "needs_background": "light"
     },
     "output_type": "display_data"
    }
   ],
   "source": [
    "import pdb\n",
    "\n",
    "units = {\n",
    "    'energy_0_grad': r'kcal/mol/$\\AA$',\n",
    "    'energy_0': 'kcal/mol',\n",
    "    'energy_1_grad': r'kcal/mol/$\\AA$',\n",
    "    'energy_1': 'kcal/mol'\n",
    "}\n",
    "\n",
    "dic_keys = list(loss_coef.keys())\n",
    "\n",
    "for i in range(int(len(dic_keys)/2) ):\n",
    "    \n",
    "    fig, ax_fig = plt.subplots(1, 2, figsize=(12, 6))\n",
    "\n",
    "    for ax, key in zip(ax_fig, dic_keys[2*i:2*i+2] ):\n",
    "\n",
    "        pred = torch.cat(results[key]).reshape(-1).cpu().detach().numpy()\n",
    "        targ = torch.cat(targets[key]).reshape(-1).cpu().detach().numpy()\n",
    "\n",
    "        ax.scatter(pred, targ, color='#ff7f0e', alpha=0.3)\n",
    "\n",
    "        lim_min = min(np.min(pred), np.min(targ)) * 1.1\n",
    "        lim_max = max(np.max(pred), np.max(targ)) * 1.1\n",
    "\n",
    "        ax.set_xlim(lim_min, lim_max)\n",
    "        ax.set_ylim(lim_min, lim_max)\n",
    "        ax.set_aspect('equal')\n",
    "\n",
    "        ax.plot((lim_min, lim_max),\n",
    "                (lim_min, lim_max),\n",
    "                color='#000000',\n",
    "                zorder=-1,\n",
    "                linewidth=0.5)\n",
    "\n",
    "        ax.set_title(key.upper(), fontsize=14)\n",
    "        ax.set_xlabel('predicted %s (%s)' % (key, units[key]), fontsize=12)\n",
    "        ax.set_ylabel('target %s (%s)' % (key, units[key]), fontsize=12)\n",
    "\n",
    "    plt.show()"
   ]
  },
  {
   "cell_type": "markdown",
   "metadata": {},
   "source": [
    "The model isn't doing that well yet because we've only used 100 geometries. It would do better with more!"
   ]
  },
  {
   "cell_type": "code",
   "execution_count": null,
   "metadata": {},
   "outputs": [],
   "source": []
  }
 ],
 "metadata": {
  "kernelspec": {
   "display_name": "Python [default]",
   "language": "python",
   "name": "python3"
  },
  "language_info": {
   "codemirror_mode": {
    "name": "ipython",
    "version": 3
   },
   "file_extension": ".py",
   "mimetype": "text/x-python",
   "name": "python",
   "nbconvert_exporter": "python",
   "pygments_lexer": "ipython3",
   "version": "3.5.6"
  }
 },
 "nbformat": 4,
 "nbformat_minor": 2
}
