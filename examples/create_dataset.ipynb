{
 "cells": [
  {
   "cell_type": "markdown",
   "metadata": {},
   "source": [
    "# Creating a dataset"
   ]
  },
  {
   "cell_type": "code",
   "execution_count": null,
   "metadata": {},
   "outputs": [],
   "source": [
    "%load_ext autoreload\n",
    "%autoreload 2"
   ]
  },
  {
   "cell_type": "code",
   "execution_count": 1,
   "metadata": {},
   "outputs": [],
   "source": [
    "import sys\n",
    "import numpy as np\n",
    "from importlib import reload\n",
    "import networkx as nx\n",
    "\n",
    "import torch\n",
    "from torch.utils.data import DataLoader\n",
    "\n",
    "sys.path.append('../')"
   ]
  },
  {
   "cell_type": "code",
   "execution_count": 2,
   "metadata": {},
   "outputs": [],
   "source": [
    "import nff.data as d"
   ]
  },
  {
   "cell_type": "markdown",
   "metadata": {},
   "source": [
    "### Example data: ethanol (from Wujie)"
   ]
  },
  {
   "cell_type": "code",
   "execution_count": 3,
   "metadata": {},
   "outputs": [],
   "source": [
    "ethanol_data = np.load('ethanol_ccsd_t-train.npz')\n",
    "nxyz_data = np.dstack((np.array([ethanol_data.f.z]*1000).reshape(1000, -1, 1), np.array(ethanol_data.f.R)))\n",
    "force_data = ethanol_data.f.F\n",
    "energy_data = ethanol_data.f.E.squeeze() - ethanol_data.f.E.mean()\n",
    "smiles_data = [\"COC\"] * 1000"
   ]
  },
  {
   "cell_type": "code",
   "execution_count": 4,
   "metadata": {},
   "outputs": [],
   "source": [
    "props = {\n",
    "    'nxyz': nxyz_data,\n",
    "    'energy': energy_data,\n",
    "    'energy_grad': [-x for x in force_data],\n",
    "    'smiles': smiles_data\n",
    "}"
   ]
  },
  {
   "cell_type": "markdown",
   "metadata": {},
   "source": [
    "### data.dataset"
   ]
  },
  {
   "cell_type": "code",
   "execution_count": 5,
   "metadata": {},
   "outputs": [],
   "source": [
    "dataset = d.Dataset(props.copy(), units='kcal/mol')"
   ]
  },
  {
   "cell_type": "code",
   "execution_count": 6,
   "metadata": {},
   "outputs": [
    {
     "data": {
      "text/plain": [
       "{'nxyz': tensor([[ 6.0000e+00,  5.5206e-03,  5.9149e-01, -8.1382e-04],\n",
       "         [ 6.0000e+00, -1.2536e+00, -2.5536e-01, -2.9801e-02],\n",
       "         [ 8.0000e+00,  1.0878e+00, -3.0755e-01,  4.8230e-02],\n",
       "         [ 1.0000e+00,  6.2821e-02,  1.2838e+00, -8.4279e-01],\n",
       "         [ 1.0000e+00,  6.0567e-03,  1.2303e+00,  8.8535e-01],\n",
       "         [ 1.0000e+00, -2.2182e+00,  1.8981e-01, -5.8160e-02],\n",
       "         [ 1.0000e+00, -9.1097e-01, -1.0539e+00, -7.8160e-01],\n",
       "         [ 1.0000e+00, -1.1920e+00, -7.4248e-01,  9.2197e-01],\n",
       "         [ 1.0000e+00,  1.8488e+00, -2.8632e-02, -5.2569e-01]]),\n",
       " 'energy': tensor(-4.3701),\n",
       " 'energy_grad': tensor([[ 10.2030, -33.6563,   1.9132],\n",
       "         [-59.5878,  42.4086,  10.0746],\n",
       "         [-36.9785,   2.0060,  18.7998],\n",
       "         [ -1.8185,   5.6604,   4.6715],\n",
       "         [ -1.8685,   0.9660,  -1.9927],\n",
       "         [ 11.0286, -11.6878,  18.4956],\n",
       "         [ 38.0142, -24.5804, -16.6240],\n",
       "         [  5.8505,  15.7041, -12.9981],\n",
       "         [ 35.1569,   3.1794, -22.3399]]),\n",
       " 'smiles': 'COC',\n",
       " 'num_atoms': tensor(9)}"
      ]
     },
     "execution_count": 6,
     "metadata": {},
     "output_type": "execute_result"
    }
   ],
   "source": [
    "dataset[0]"
   ]
  },
  {
   "cell_type": "code",
   "execution_count": 7,
   "metadata": {},
   "outputs": [
    {
     "data": {
      "text/plain": [
       "1000"
      ]
     },
     "execution_count": 7,
     "metadata": {},
     "output_type": "execute_result"
    }
   ],
   "source": [
    "len(dataset)"
   ]
  },
  {
   "cell_type": "code",
   "execution_count": 8,
   "metadata": {},
   "outputs": [],
   "source": [
    "dataset.generate_neighbor_list(cutoff=5)"
   ]
  },
  {
   "cell_type": "code",
   "execution_count": 9,
   "metadata": {},
   "outputs": [
    {
     "data": {
      "text/plain": [
       "dict_keys(['nxyz', 'energy', 'energy_grad', 'smiles', 'num_atoms', 'nbr_list'])"
      ]
     },
     "execution_count": 9,
     "metadata": {},
     "output_type": "execute_result"
    }
   ],
   "source": [
    "dataset.props.keys()"
   ]
  },
  {
   "cell_type": "markdown",
   "metadata": {},
   "source": [
    "### Plotting an example graph from the neighbor list"
   ]
  },
  {
   "cell_type": "code",
   "execution_count": null,
   "metadata": {},
   "outputs": [],
   "source": [
    "%matplotlib inline\n",
    "nbr_list = dataset[0]['nbr_list'].numpy()\n",
    "G = nx.from_edgelist(nbr_list)\n",
    "nx.draw_kamada_kawai(G)"
   ]
  },
  {
   "cell_type": "markdown",
   "metadata": {},
   "source": [
    "## data.loader"
   ]
  },
  {
   "cell_type": "code",
   "execution_count": null,
   "metadata": {},
   "outputs": [],
   "source": [
    "loader = DataLoader(dataset, batch_size=5, collate_fn=d.collate_dicts)"
   ]
  },
  {
   "cell_type": "code",
   "execution_count": null,
   "metadata": {},
   "outputs": [],
   "source": [
    "len(loader)"
   ]
  },
  {
   "cell_type": "code",
   "execution_count": null,
   "metadata": {
    "scrolled": true
   },
   "outputs": [],
   "source": [
    "next(iter(loader))"
   ]
  },
  {
   "cell_type": "markdown",
   "metadata": {},
   "source": [
    "# Loading/saving dataset from file"
   ]
  },
  {
   "cell_type": "code",
   "execution_count": null,
   "metadata": {},
   "outputs": [],
   "source": [
    "dataset = d.Dataset.from_file('dataset.pth.tar')"
   ]
  },
  {
   "cell_type": "code",
   "execution_count": 10,
   "metadata": {},
   "outputs": [],
   "source": [
    "dataset.save('dataset.pth.tar')"
   ]
  },
  {
   "cell_type": "code",
   "execution_count": null,
   "metadata": {},
   "outputs": [],
   "source": []
  }
 ],
 "metadata": {
  "kernelspec": {
   "display_name": "Python [conda env:nff]",
   "language": "python",
   "name": "conda-env-nff-py"
  },
  "language_info": {
   "codemirror_mode": {
    "name": "ipython",
    "version": 3
   },
   "file_extension": ".py",
   "mimetype": "text/x-python",
   "name": "python",
   "nbconvert_exporter": "python",
   "pygments_lexer": "ipython3",
   "version": "3.7.3"
  }
 },
 "nbformat": 4,
 "nbformat_minor": 2
}
