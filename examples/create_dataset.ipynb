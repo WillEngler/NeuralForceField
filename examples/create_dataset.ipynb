{
 "cells": [
  {
   "cell_type": "markdown",
   "metadata": {},
   "source": [
    "# Creating a dataset"
   ]
  },
  {
   "cell_type": "code",
   "execution_count": 1,
   "metadata": {},
   "outputs": [],
   "source": [
    "import sys\n",
    "import numpy as np\n",
    "from importlib import reload\n",
    "import networkx as nx\n",
    "\n",
    "import torch\n",
    "from torch.utils.data import DataLoader\n",
    "\n",
    "sys.path.append('../')"
   ]
  },
  {
   "cell_type": "code",
   "execution_count": 2,
   "metadata": {},
   "outputs": [],
   "source": [
    "import nff.data as d"
   ]
  },
  {
   "cell_type": "markdown",
   "metadata": {},
   "source": [
    "### Example data: ethanol (from Wujie)"
   ]
  },
  {
   "cell_type": "code",
   "execution_count": 3,
   "metadata": {},
   "outputs": [],
   "source": [
    "ethanol_data = np.load('ethanol_ccsd_t-train.npz')\n",
    "nxyz_data = np.dstack((np.array([ethanol_data.f.z]*1000).reshape(1000, -1, 1), np.array(ethanol_data.f.R)))\n",
    "force_data = ethanol_data.f.F\n",
    "energy_data = ethanol_data.f.E.squeeze() - ethanol_data.f.E.mean()\n",
    "smiles_data = [\"COC\"] * 1000"
   ]
  },
  {
   "cell_type": "code",
   "execution_count": 4,
   "metadata": {},
   "outputs": [],
   "source": [
    "props = {\n",
    "    'nxyz': nxyz_data,\n",
    "    'energy': energy_data,\n",
    "    'energy_grad': [-x for x in force_data],\n",
    "    'smiles': smiles_data\n",
    "}"
   ]
  },
  {
   "cell_type": "markdown",
   "metadata": {},
   "source": [
    "### data.dataset"
   ]
  },
  {
   "cell_type": "code",
   "execution_count": 5,
   "metadata": {},
   "outputs": [],
   "source": [
    "dataset = d.Dataset(props.copy(), units='atomic')"
   ]
  },
  {
   "cell_type": "code",
   "execution_count": 7,
   "metadata": {},
   "outputs": [
    {
     "data": {
      "text/plain": [
       "{'nxyz': tensor([[ 6.0000e+00,  5.5206e-03,  5.9149e-01, -8.1382e-04],\n",
       "         [ 6.0000e+00, -1.2536e+00, -2.5536e-01, -2.9801e-02],\n",
       "         [ 8.0000e+00,  1.0878e+00, -3.0755e-01,  4.8230e-02],\n",
       "         [ 1.0000e+00,  6.2821e-02,  1.2838e+00, -8.4279e-01],\n",
       "         [ 1.0000e+00,  6.0567e-03,  1.2303e+00,  8.8535e-01],\n",
       "         [ 1.0000e+00, -2.2182e+00,  1.8981e-01, -5.8160e-02],\n",
       "         [ 1.0000e+00, -9.1097e-01, -1.0539e+00, -7.8160e-01],\n",
       "         [ 1.0000e+00, -1.1920e+00, -7.4248e-01,  9.2197e-01],\n",
       "         [ 1.0000e+00,  1.8488e+00, -2.8632e-02, -5.2569e-01]]),\n",
       " 'energy': tensor(-2742.2935),\n",
       " 'energy_grad': tensor([[  19.2809,  -63.6013,    3.6154],\n",
       "         [-112.6047,   80.1408,   19.0383],\n",
       "         [ -69.8792,    3.7907,   35.5264],\n",
       "         [  -3.4364,   10.6967,    8.8279],\n",
       "         [  -3.5309,    1.8254,   -3.7656],\n",
       "         [  20.8410,  -22.0867,   34.9517],\n",
       "         [  71.8365,  -46.4502,  -31.4148],\n",
       "         [  11.0559,   29.6765,  -24.5629],\n",
       "         [  66.4369,    6.0081,  -42.2163]]),\n",
       " 'smiles': 'COC',\n",
       " 'num_atoms': tensor(9.),\n",
       " 'pbc': tensor([0, 1, 2, 3, 4, 5, 6, 7, 8])}"
      ]
     },
     "execution_count": 7,
     "metadata": {},
     "output_type": "execute_result"
    }
   ],
   "source": [
    "dataset[0]"
   ]
  },
  {
   "cell_type": "code",
   "execution_count": null,
   "metadata": {},
   "outputs": [],
   "source": [
    "len(dataset)"
   ]
  },
  {
   "cell_type": "code",
   "execution_count": null,
   "metadata": {},
   "outputs": [],
   "source": [
    "dataset.generate_neighbor_list(cutoff=5)"
   ]
  },
  {
   "cell_type": "code",
   "execution_count": null,
   "metadata": {
    "scrolled": true
   },
   "outputs": [],
   "source": [
    "dataset[0]"
   ]
  },
  {
   "cell_type": "markdown",
   "metadata": {},
   "source": [
    "### Plotting an example graph from the neighbor list"
   ]
  },
  {
   "cell_type": "code",
   "execution_count": null,
   "metadata": {},
   "outputs": [],
   "source": [
    "%matplotlib inline\n",
    "nbr_list = dataset[0]['nbr_list'].numpy()\n",
    "G = nx.from_edgelist(nbr_list)\n",
    "nx.draw_kamada_kawai(G)"
   ]
  },
  {
   "cell_type": "markdown",
   "metadata": {},
   "source": [
    "## data.loader"
   ]
  },
  {
   "cell_type": "code",
   "execution_count": null,
   "metadata": {},
   "outputs": [],
   "source": [
    "loader = DataLoader(dataset, batch_size=5, collate_fn=d.collate_dicts)"
   ]
  },
  {
   "cell_type": "code",
   "execution_count": null,
   "metadata": {},
   "outputs": [],
   "source": [
    "len(loader)"
   ]
  },
  {
   "cell_type": "code",
   "execution_count": null,
   "metadata": {
    "scrolled": true
   },
   "outputs": [],
   "source": [
    "next(iter(loader))"
   ]
  },
  {
   "cell_type": "markdown",
   "metadata": {},
   "source": [
    "# Loading/saving dataset from file"
   ]
  },
  {
   "cell_type": "code",
   "execution_count": null,
   "metadata": {},
   "outputs": [],
   "source": [
    "dataset = d.Dataset.from_file('dataset.pth.tar')"
   ]
  },
  {
   "cell_type": "code",
   "execution_count": null,
   "metadata": {},
   "outputs": [],
   "source": [
    "dataset.save('dataset.pth.tar')"
   ]
  },
  {
   "cell_type": "code",
   "execution_count": null,
   "metadata": {},
   "outputs": [],
   "source": []
  }
 ],
 "metadata": {
  "kernelspec": {
   "display_name": "Python [conda env:nff]",
   "language": "python",
   "name": "conda-env-nff-py"
  },
  "language_info": {
   "codemirror_mode": {
    "name": "ipython",
    "version": 3
   },
   "file_extension": ".py",
   "mimetype": "text/x-python",
   "name": "python",
   "nbconvert_exporter": "python",
   "pygments_lexer": "ipython3",
   "version": "3.7.3"
  }
 },
 "nbformat": 4,
 "nbformat_minor": 2
}
