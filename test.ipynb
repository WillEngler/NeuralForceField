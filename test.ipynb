{
 "cells": [
  {
   "cell_type": "code",
   "execution_count": 11,
   "metadata": {},
   "outputs": [],
   "source": [
    "from projects.NeuralForceField.train import *\n",
    "import numpy as np\n",
    "\n",
    "from sklearn.utils import shuffle\n",
    "from projects.graphbuilder.graphbuilder import Graph, GraphDataset"
   ]
  },
  {
   "cell_type": "code",
   "execution_count": 45,
   "metadata": {},
   "outputs": [],
   "source": [
    "# ethanol data \n",
    "train = np.load('/home/wwj/data/ethanol_ccsd_t-train.npz')\n",
    "xyz_data = np.dstack((np.array([train.f.z]*1000).reshape(1000, -1, 1), np.array(train.f.R)))\n",
    "force_data = train.f.F\n",
    "energy_data = train.f.E.squeeze() - train.f.E.mean()"
   ]
  },
  {
   "cell_type": "code",
   "execution_count": 6,
   "metadata": {},
   "outputs": [],
   "source": [
    "# build graph dataset\n",
    "\n",
    "# shuffle data\n",
    "xyz_data, force_data, energy_data = shuffle(xyz_data, force_data, energy_data)\n",
    "mean = np.array(energy_data).mean()\n",
    "std = np.array(energy_data).std()\n",
    "\n",
    "Fr = 4 # let node features be \n",
    "Fe = 1\n",
    "dynamic_adj_mat = True\n",
    "cutoff = 5.0\n",
    "batch_size = 100\n",
    "graph_data = GraphDataset(dynamic_adj_mat=dynamic_adj_mat)\n",
    "for index in range(len(energy_data)):\n",
    "    \n",
    "    xyz = np.array(xyz_data[index])\n",
    "    force = np.array(force_data[index])\n",
    "    energy = np.array(np.array(energy_data[index]))\n",
    "    node = xyz[:, 0].reshape(-1, 1)\n",
    "    graph = Graph(N=node.shape[0], dynamic_adj_mat=dynamic_adj_mat)\n",
    "    node_force = np.hstack((node, force)) # node concatenate with force \n",
    "    graph.SetNodeLabels(r=torch.Tensor(node_force))\n",
    "    graph.SetXYZ(xyz=torch.Tensor(xyz[:, 1:4]))\n",
    "    graph.UpdateConnectivity(cutoff=cutoff)\n",
    "    graph.SetEdgeLabels()\n",
    "    graph.LabelEdgesWithDistances()\n",
    "    graph.SetGraphLabel(torch.Tensor(energy))\n",
    "    graph_data.AddGraph(graph)\n",
    "    \n",
    "# batching graph \n",
    "graph_data.CreateBatches(batch_size=batch_size)"
   ]
  },
  {
   "cell_type": "code",
   "execution_count": 7,
   "metadata": {},
   "outputs": [],
   "source": [
    "# initialize parameters\n",
    "par = dict()\n",
    "\n",
    "par[\"n_filters\"] = 256\n",
    "par[\"n_gaussians\"] = 32\n",
    "par[\"n_atom_basis\"] = 256\n",
    "par[\"optim\"] = 1e-4\n",
    "par[\"scheduler\"] = True\n",
    "par[\"train_percentage\"] = 0.8\n",
    "par[\"T\"] = 10\n",
    "par[\"batch_size\"] = 100\n",
    "par[\"cutoff\"] = 5.0 \n",
    "par[\"max_epoch\"] = 5000\n",
    "par[\"trainable_gauss\"] = True"
   ]
  },
  {
   "cell_type": "code",
   "execution_count": 8,
   "metadata": {},
   "outputs": [],
   "source": [
    "model = Model(par=par, graph_data=graph_data, device=3, job_name=\"test\", graph_batching=True, root='./log/')"
   ]
  },
  {
   "cell_type": "code",
   "execution_count": 9,
   "metadata": {},
   "outputs": [
    {
     "name": "stderr",
     "output_type": "stream",
     "text": [
      "/home/wwj/Repo/projects/NeuralForceField/train.py:127: UserWarning: invalid index of a 0-dim tensor. This will be an error in PyTorch 0.5. Use tensor.item() to convert a 0-dim tensor to a Python number\n",
      "  train_u = train_u_mae.data[0]/self.N_train\n",
      "/home/wwj/Repo/projects/NeuralForceField/train.py:128: UserWarning: invalid index of a 0-dim tensor. This will be an error in PyTorch 0.5. Use tensor.item() to convert a 0-dim tensor to a Python number\n",
      "  train_force = train_force_mae.data[0]/self.N_train\n"
     ]
    },
    {
     "name": "stdout",
     "output_type": "stream",
     "text": [
      "epoch 0  U train: 4.789  force train 18.172\n",
      "epoch 1  U train: 2.690  force train 13.784\n",
      "epoch 2  U train: 2.524  force train 10.468\n",
      "epoch 3  U train: 2.690  force train 8.697\n",
      "epoch 4  U train: 2.112  force train 7.180\n",
      "epoch 5  U train: 2.582  force train 6.347\n",
      "epoch 6  U train: 2.708  force train 5.743\n",
      "epoch 7  U train: 2.689  force train 5.275\n",
      "epoch 8  U train: 2.732  force train 4.909\n",
      "epoch 9  U train: 2.722  force train 4.611\n"
     ]
    }
   ],
   "source": [
    "model.train(10)"
   ]
  }
 ],
 "metadata": {
  "kernelspec": {
   "display_name": "Python [conda env:MLMD]",
   "language": "python",
   "name": "conda-env-MLMD-py"
  },
  "language_info": {
   "codemirror_mode": {
    "name": "ipython",
    "version": 3
   },
   "file_extension": ".py",
   "mimetype": "text/x-python",
   "name": "python",
   "nbconvert_exporter": "python",
   "pygments_lexer": "ipython3",
   "version": "3.5.6"
  }
 },
 "nbformat": 4,
 "nbformat_minor": 2
}
