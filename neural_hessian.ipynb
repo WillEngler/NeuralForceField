{
 "cells": [
  {
   "cell_type": "code",
   "execution_count": 86,
   "metadata": {},
   "outputs": [],
   "source": [
    "import math\n",
    "import torch\n",
    "from torch.autograd.gradcheck import zero_gradients\n",
    "from torch.autograd import grad\n",
    "from projects.NeuralForceField.train import *\n",
    "from projects.NeuralForceField.graphs import * \n",
    "import numpy as np\n",
    "\n",
    "def compute_jacobian(inputs, output, device):\n",
    "    \"\"\"\n",
    "    inputs: some variable inputs of dimesnion ( , N) that requires grad\n",
    "    output: has the same dimension as inputs\n",
    "    return: jacobian: dimension \n",
    "    \"\"\"\n",
    "    assert inputs.requires_grad\n",
    "\n",
    "    num_classes = output.size()[1] # if the input data is batched num_classes = output.size()[1] \n",
    "\n",
    "    jacobian = torch.zeros(num_classes, *inputs.size())\n",
    "    grad_output = torch.zeros(*output.size())\n",
    "    if inputs.is_cuda:\n",
    "        grad_output = grad_output.to(device)\n",
    "        jacobian = jacobian.to(device)\n",
    "\n",
    "    for i in range(num_classes):\n",
    "        zero_gradients(inputs)\n",
    "        grad_output.zero_()\n",
    "        grad_output[:, i] = 1\n",
    "        output.backward(grad_output, retain_graph=True)\n",
    "        jacobian[i] = inputs.grad.data\n",
    "\n",
    "    return torch.transpose(jacobian, dim0=0, dim1=1)\n",
    "\n",
    "def compute_grad(inputs, output):\n",
    "    '''\n",
    "    input:  some variable inputs of dimesnion ( , N) that requires grad\n",
    "    output: some scalar output\n",
    "    return: gradients of every input with respect to output, has the same dimension as the input\n",
    "    '''\n",
    "    assert inputs.requires_grad\n",
    "    \n",
    "    gradspred, = grad(output, inputs, grad_outputs=output.data.new(output.shape).fill_(1),\n",
    "                   create_graph=True, retain_graph=True)\n",
    "    \n",
    "    return gradspred\n",
    "\n",
    "def compute_hess(inputs, output, device):\n",
    "    '''\n",
    "    input:  some variable inputs of dimesnion ( , N) that requires grad\n",
    "    output: some scalar output\n",
    "    return: Hessian of the output with respect to inputs, it is has diemension N by N\n",
    "    '''\n",
    "    gradient = compute_grad(inputs, output)\n",
    "    print(inputs.shape)\n",
    "    print(gradient.shape)\n",
    "    hess = compute_jacobian(inputs, gradient, device=device)\n",
    "    \n",
    "    return hess"
   ]
  },
  {
   "cell_type": "code",
   "execution_count": 98,
   "metadata": {},
   "outputs": [],
   "source": [
    "# ethanol data \n",
    "train = np.load('/home/wwj/data/ethanol_ccsd_t-train.npz')\n",
    "xyz_data = np.dstack((np.array([train.f.z]*1000).reshape(1000, -1, 1), np.array(train.f.R)))\n",
    "force_data = train.f.F\n",
    "energy_data = train.f.E.squeeze()\n",
    "\n",
    "graph_data = load_graph_data(xyz_data=xyz_data, energy_data=energy_data, batch_size=2, cutoff=5.0,\n",
    "                             force_data=force_data, au_flag=False, subtract_mean_flag = True)"
   ]
  },
  {
   "cell_type": "code",
   "execution_count": 99,
   "metadata": {},
   "outputs": [],
   "source": [
    "# initialize parameters\n",
    "par = dict()\n",
    "\n",
    "par[\"n_filters\"] = 256\n",
    "par[\"n_gaussians\"] = 32\n",
    "par[\"n_atom_basis\"] = 256\n",
    "par[\"optim\"] = 1e-4\n",
    "par[\"scheduler\"] = True\n",
    "par[\"train_percentage\"] = 0.8\n",
    "par[\"T\"] = 10\n",
    "par[\"batch_size\"] = 2\n",
    "par[\"cutoff\"] = 5.0 \n",
    "par[\"max_epoch\"] = 1000\n",
    "par[\"trainable_gauss\"] = True\n",
    "par[\"rho\"] = 0.1\n",
    "par[\"eps\"] = 1e-5"
   ]
  },
  {
   "cell_type": "code",
   "execution_count": 100,
   "metadata": {},
   "outputs": [],
   "source": [
    "model = Model(par=par, graph_data=graph_data, device=3, job_name=\"test\", graph_batching=False, root='./log/')"
   ]
  },
  {
   "cell_type": "code",
   "execution_count": 114,
   "metadata": {},
   "outputs": [
    {
     "name": "stdout",
     "output_type": "stream",
     "text": [
      "torch.Size([2, 27])\n",
      "torch.Size([2, 27])\n"
     ]
    }
   ],
   "source": [
    "xyz, a, r, f, u, N = model.parse_batch(1)\n",
    "#xyz.requires_grad = True\n",
    "\n",
    "xyz_reshape = xyz.reshape(2,27)\n",
    "xyz_reshape.requires_grad = True\n",
    "xyz_input = xyz_reshape.reshape(2,9,3)\n",
    "r = r.reshape(2,9)\n",
    "\n",
    "U = model.model(r=r, xyz=xyz_input)\n",
    "#f_pred = -compute_grad(inputs=xyz_reshape, output=U)\n",
    "\n",
    "hess = compute_hess(inputs=xyz_reshape, output=U, device=3)"
   ]
  },
  {
   "cell_type": "code",
   "execution_count": 116,
   "metadata": {},
   "outputs": [
    {
     "data": {
      "text/plain": [
       "torch.Size([2, 27, 27])"
      ]
     },
     "execution_count": 116,
     "metadata": {},
     "output_type": "execute_result"
    }
   ],
   "source": []
  },
  {
   "cell_type": "code",
   "execution_count": 49,
   "metadata": {},
   "outputs": [
    {
     "data": {
      "text/plain": [
       "torch.Size([9, 3, 3])"
      ]
     },
     "execution_count": 49,
     "metadata": {},
     "output_type": "execute_result"
    }
   ],
   "source": [
    "hess.shape"
   ]
  },
  {
   "cell_type": "code",
   "execution_count": 78,
   "metadata": {},
   "outputs": [
    {
     "data": {
      "text/plain": [
       "torch.Size([9, 3])"
      ]
     },
     "execution_count": 78,
     "metadata": {},
     "output_type": "execute_result"
    }
   ],
   "source": [
    "xyz_input.shape"
   ]
  },
  {
   "cell_type": "code",
   "execution_count": 79,
   "metadata": {},
   "outputs": [
    {
     "data": {
      "text/plain": [
       "torch.Size([1, 1])"
      ]
     },
     "execution_count": 79,
     "metadata": {},
     "output_type": "execute_result"
    }
   ],
   "source": [
    "U.shape"
   ]
  },
  {
   "cell_type": "code",
   "execution_count": 95,
   "metadata": {},
   "outputs": [
    {
     "data": {
      "text/plain": [
       "torch.Size([9, 1])"
      ]
     },
     "execution_count": 95,
     "metadata": {},
     "output_type": "execute_result"
    }
   ],
   "source": [
    "r.shape"
   ]
  },
  {
   "cell_type": "code",
   "execution_count": null,
   "metadata": {},
   "outputs": [],
   "source": []
  }
 ],
 "metadata": {
  "kernelspec": {
   "display_name": "Python [conda env:MLMD]",
   "language": "python",
   "name": "conda-env-MLMD-py"
  },
  "language_info": {
   "codemirror_mode": {
    "name": "ipython",
    "version": 3
   },
   "file_extension": ".py",
   "mimetype": "text/x-python",
   "name": "python",
   "nbconvert_exporter": "python",
   "pygments_lexer": "ipython3",
   "version": "3.5.6"
  }
 },
 "nbformat": 4,
 "nbformat_minor": 2
}
