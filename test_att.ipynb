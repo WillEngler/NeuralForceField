{
 "cells": [
  {
   "cell_type": "code",
   "execution_count": 1,
   "metadata": {},
   "outputs": [],
   "source": [
    "from projects.NeuralForceField.model_att import *\n",
    "from projects.NeuralForceField.graphs import * \n",
    "import numpy as np"
   ]
  },
  {
   "cell_type": "code",
   "execution_count": 2,
   "metadata": {},
   "outputs": [],
   "source": [
    "# ethanol data \n",
    "train = np.load('/home/wwj/data/ethanol_ccsd_t-train.npz')\n",
    "xyz_data = np.dstack((np.array([train.f.z]*1000).reshape(1000, -1, 1), np.array(train.f.R)))\n",
    "force_data = train.f.F\n",
    "energy_data = train.f.E.squeeze()"
   ]
  },
  {
   "cell_type": "code",
   "execution_count": 3,
   "metadata": {},
   "outputs": [],
   "source": [
    "graph_data = load_graph_data(xyz_data=xyz_data, energy_data=energy_data, batch_size=100, cutoff=5.0,\n",
    "                             force_data=force_data, au_flag=False, subtract_mean_flag = True)"
   ]
  },
  {
   "cell_type": "code",
   "execution_count": 4,
   "metadata": {},
   "outputs": [],
   "source": [
    "# initialize parameters\n",
    "par = dict()\n",
    "\n",
    "par[\"n_filters\"] = 256\n",
    "par[\"n_gaussians\"] = 32\n",
    "par[\"n_atom_basis\"] = 256\n",
    "par[\"optim\"] = 1e-3\n",
    "par[\"scheduler\"] = True\n",
    "par[\"train_percentage\"] = 0.8\n",
    "par[\"T\"] = 10\n",
    "par[\"batch_size\"] = 100\n",
    "par[\"cutoff\"] = 5.0 \n",
    "par[\"max_epoch\"] = 1000\n",
    "par[\"trainable_gauss\"] = True\n",
    "par[\"rho\"] = 0.1\n",
    "par[\"eps\"] = 1e-5"
   ]
  },
  {
   "cell_type": "code",
   "execution_count": 5,
   "metadata": {},
   "outputs": [],
   "source": [
    "model = Model(par=par, graph_data=graph_data, device=3, job_name=\"test_att\", graph_batching=False, root='./log/')"
   ]
  },
  {
   "cell_type": "code",
   "execution_count": 6,
   "metadata": {},
   "outputs": [
    {
     "name": "stderr",
     "output_type": "stream",
     "text": [
      "/home/wwj/Repo/projects/NeuralForceField/model_att.py:320: UserWarning: invalid index of a 0-dim tensor. This will be an error in PyTorch 0.5. Use tensor.item() to convert a 0-dim tensor to a Python number\n",
      "  train_u = train_u_mae.data[0]/self.N_train\n",
      "/home/wwj/Repo/projects/NeuralForceField/model_att.py:321: UserWarning: invalid index of a 0-dim tensor. This will be an error in PyTorch 0.5. Use tensor.item() to convert a 0-dim tensor to a Python number\n",
      "  train_force = train_force_mae.data[0]/self.N_train\n"
     ]
    },
    {
     "name": "stdout",
     "output_type": "stream",
     "text": [
      "epoch 0  U train: nan  force train nan\n",
      "epoch 1  U train: nan  force train nan\n",
      "epoch 2  U train: nan  force train nan\n",
      "epoch 3  U train: nan  force train nan\n",
      "epoch 4  U train: nan  force train nan\n",
      "epoch 5  U train: nan  force train nan\n",
      "epoch 6  U train: nan  force train nan\n",
      "epoch 7  U train: nan  force train nan\n",
      "epoch 8  U train: nan  force train nan\n",
      "epoch 9  U train: nan  force train nan\n",
      "epoch 10  U train: nan  force train nan\n",
      "epoch 11  U train: nan  force train nan\n",
      "epoch 12  U train: nan  force train nan\n",
      "epoch 13  U train: nan  force train nan\n",
      "epoch 14  U train: nan  force train nan\n",
      "epoch 15  U train: nan  force train nan\n",
      "epoch 16  U train: nan  force train nan\n",
      "epoch 17  U train: nan  force train nan\n",
      "epoch 18  U train: nan  force train nan\n",
      "epoch 19  U train: nan  force train nan\n"
     ]
    }
   ],
   "source": [
    "model.train(20)"
   ]
  },
  {
   "cell_type": "code",
   "execution_count": null,
   "metadata": {},
   "outputs": [],
   "source": []
  }
 ],
 "metadata": {
  "kernelspec": {
   "display_name": "Python [conda env:MLMD]",
   "language": "python",
   "name": "conda-env-MLMD-py"
  },
  "language_info": {
   "codemirror_mode": {
    "name": "ipython",
    "version": 3
   },
   "file_extension": ".py",
   "mimetype": "text/x-python",
   "name": "python",
   "nbconvert_exporter": "python",
   "pygments_lexer": "ipython3",
   "version": "3.5.6"
  }
 },
 "nbformat": 4,
 "nbformat_minor": 2
}
