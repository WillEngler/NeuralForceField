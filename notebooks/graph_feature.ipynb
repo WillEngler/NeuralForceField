{
 "cells": [
  {
   "cell_type": "code",
   "execution_count": 109,
   "metadata": {},
   "outputs": [],
   "source": [
    "from projects.NeuralForceField.train import *\n",
    "from projects.NeuralForceField.graphs import * \n",
    "import numpy as np"
   ]
  },
  {
   "cell_type": "code",
   "execution_count": 110,
   "metadata": {},
   "outputs": [],
   "source": [
    "data = pickle.load(open('/home/wwj/data/lipoly/COC_NMS.pkl', \"rb\" ) )\n",
    "\n",
    "xyz_data = []\n",
    "force_data = []\n",
    "energy_data = []\n",
    "smiles_data = []\n",
    "\n",
    "for item in data:\n",
    "    xyz_data.append(item[0]) \n",
    "    force_data.append(item[1])\n",
    "    energy_data.append(item[2])\n",
    "    smiles_data.append(item[3])"
   ]
  },
  {
   "cell_type": "code",
   "execution_count": 111,
   "metadata": {},
   "outputs": [
    {
     "name": "stdout",
     "output_type": "stream",
     "text": [
      "Finished finalizing batch 1 of 110.\n",
      "Finished finalizing batch 2 of 110.\n",
      "Finished finalizing batch 3 of 110.\n",
      "Finished finalizing batch 4 of 110.\n",
      "Finished finalizing batch 5 of 110.\n",
      "Finished finalizing batch 6 of 110.\n",
      "Finished finalizing batch 7 of 110.\n",
      "Finished finalizing batch 8 of 110.\n",
      "Finished finalizing batch 9 of 110.\n",
      "Finished finalizing batch 10 of 110.\n",
      "Finished finalizing batch 11 of 110.\n",
      "Finished finalizing batch 12 of 110.\n",
      "Finished finalizing batch 13 of 110.\n",
      "Finished finalizing batch 14 of 110.\n",
      "Finished finalizing batch 15 of 110.\n",
      "Finished finalizing batch 16 of 110.\n",
      "Finished finalizing batch 17 of 110.\n",
      "Finished finalizing batch 18 of 110.\n",
      "Finished finalizing batch 19 of 110.\n",
      "Finished finalizing batch 20 of 110.\n",
      "Finished finalizing batch 21 of 110.\n",
      "Finished finalizing batch 22 of 110.\n",
      "Finished finalizing batch 23 of 110.\n",
      "Finished finalizing batch 24 of 110.\n",
      "Finished finalizing batch 25 of 110.\n",
      "Finished finalizing batch 26 of 110.\n",
      "Finished finalizing batch 27 of 110.\n",
      "Finished finalizing batch 28 of 110.\n",
      "Finished finalizing batch 29 of 110.\n",
      "Finished finalizing batch 30 of 110.\n",
      "Finished finalizing batch 31 of 110.\n",
      "Finished finalizing batch 32 of 110.\n",
      "Finished finalizing batch 33 of 110.\n",
      "Finished finalizing batch 34 of 110.\n",
      "Finished finalizing batch 35 of 110.\n",
      "Finished finalizing batch 36 of 110.\n",
      "Finished finalizing batch 37 of 110.\n",
      "Finished finalizing batch 38 of 110.\n",
      "Finished finalizing batch 39 of 110.\n",
      "Finished finalizing batch 40 of 110.\n",
      "Finished finalizing batch 41 of 110.\n",
      "Finished finalizing batch 42 of 110.\n",
      "Finished finalizing batch 43 of 110.\n",
      "Finished finalizing batch 44 of 110.\n",
      "Finished finalizing batch 45 of 110.\n",
      "Finished finalizing batch 46 of 110.\n",
      "Finished finalizing batch 47 of 110.\n",
      "Finished finalizing batch 48 of 110.\n",
      "Finished finalizing batch 49 of 110.\n",
      "Finished finalizing batch 50 of 110.\n",
      "Finished finalizing batch 51 of 110.\n",
      "Finished finalizing batch 52 of 110.\n",
      "Finished finalizing batch 53 of 110.\n",
      "Finished finalizing batch 54 of 110.\n",
      "Finished finalizing batch 55 of 110.\n",
      "Finished finalizing batch 56 of 110.\n",
      "Finished finalizing batch 57 of 110.\n",
      "Finished finalizing batch 58 of 110.\n",
      "Finished finalizing batch 59 of 110.\n",
      "Finished finalizing batch 60 of 110.\n",
      "Finished finalizing batch 61 of 110.\n",
      "Finished finalizing batch 62 of 110.\n",
      "Finished finalizing batch 63 of 110.\n",
      "Finished finalizing batch 64 of 110.\n",
      "Finished finalizing batch 65 of 110.\n",
      "Finished finalizing batch 66 of 110.\n",
      "Finished finalizing batch 67 of 110.\n",
      "Finished finalizing batch 68 of 110.\n",
      "Finished finalizing batch 69 of 110.\n",
      "Finished finalizing batch 70 of 110.\n",
      "Finished finalizing batch 71 of 110.\n",
      "Finished finalizing batch 72 of 110.\n",
      "Finished finalizing batch 73 of 110.\n",
      "Finished finalizing batch 74 of 110.\n",
      "Finished finalizing batch 75 of 110.\n",
      "Finished finalizing batch 76 of 110.\n",
      "Finished finalizing batch 77 of 110.\n",
      "Finished finalizing batch 78 of 110.\n",
      "Finished finalizing batch 79 of 110.\n",
      "Finished finalizing batch 80 of 110.\n",
      "Finished finalizing batch 81 of 110.\n",
      "Finished finalizing batch 82 of 110.\n",
      "Finished finalizing batch 83 of 110.\n",
      "Finished finalizing batch 84 of 110.\n",
      "Finished finalizing batch 85 of 110.\n",
      "Finished finalizing batch 86 of 110.\n",
      "Finished finalizing batch 87 of 110.\n",
      "Finished finalizing batch 88 of 110.\n",
      "Finished finalizing batch 89 of 110.\n",
      "Finished finalizing batch 90 of 110.\n",
      "Finished finalizing batch 91 of 110.\n",
      "Finished finalizing batch 92 of 110.\n",
      "Finished finalizing batch 93 of 110.\n",
      "Finished finalizing batch 94 of 110.\n",
      "Finished finalizing batch 95 of 110.\n",
      "Finished finalizing batch 96 of 110.\n",
      "Finished finalizing batch 97 of 110.\n",
      "Finished finalizing batch 98 of 110.\n",
      "Finished finalizing batch 99 of 110.\n",
      "Finished finalizing batch 100 of 110.\n",
      "Finished finalizing batch 101 of 110.\n",
      "Finished finalizing batch 102 of 110.\n",
      "Finished finalizing batch 103 of 110.\n",
      "Finished finalizing batch 104 of 110.\n",
      "Finished finalizing batch 105 of 110.\n",
      "Finished finalizing batch 106 of 110.\n",
      "Finished finalizing batch 107 of 110.\n",
      "Finished finalizing batch 108 of 110.\n",
      "Finished finalizing batch 109 of 110.\n",
      "Finished finalizing batch 110 of 110.\n"
     ]
    }
   ],
   "source": [
    "# initialize parameters\n",
    "par = dict()\n",
    "\n",
    "par[\"git_commit\"] = \"9129a434b318ab26ee890281f531f304fb499ca7\"\n",
    "par[\"model_type\"] = \"schnet\"\n",
    "par[\"n_filters\"] = 256\n",
    "par[\"n_gaussians\"] = 32\n",
    "par[\"n_atom_basis\"] = 256\n",
    "par[\"optim\"] = 1e-4\n",
    "par[\"scheduler\"] = True\n",
    "par[\"train_percentage\"] = 0.8\n",
    "par[\"T\"] = 10\n",
    "par[\"batch_size\"] = 100\n",
    "par[\"cutoff\"] = 5.0 \n",
    "par[\"max_epoch\"] = 1000\n",
    "par[\"trainable_gauss\"] = True\n",
    "par[\"rho\"] = 0.1\n",
    "par[\"eps\"] = 1e-4\n",
    "\n",
    "graph_data = load_graph_data(xyz_data=xyz_data, energy_data=energy_data, smiles_data=smiles_data,\n",
    "                             batch_size=par[\"batch_size\"], cutoff=par[\"cutoff\"], \n",
    "                             force_data=force_data, au_flag=True, subtract_mean_flag = True)"
   ]
  },
  {
   "cell_type": "code",
   "execution_count": 55,
   "metadata": {},
   "outputs": [],
   "source": [
    "# generate species by id from the first two batches \n",
    "species_dict = {}\n",
    "\n",
    "name_list = []\n",
    "r_list = []\n",
    "xyz_list = []\n",
    "\n",
    "for i in range(3):\n",
    "    batch = graph_data.batches[i]\n",
    "    \n",
    "    xyz_list += list( torch.split(batch.data[\"xyz\"], batch.data[\"N\"]) )\n",
    "    name_list += batch.data[\"name\"]\n",
    "    \n",
    "\n",
    "for index, geom in enumerate(xyz_list):\n",
    "    if name_list[index] not in species_dict:\n",
    "        species_dict[name_list[index]] = [index]\n",
    "    else:\n",
    "        species_dict[name_list[index]].append(index)"
   ]
  },
  {
   "cell_type": "code",
   "execution_count": 72,
   "metadata": {},
   "outputs": [],
   "source": [
    "def parse_species_geom(n_batch, graph_data):\n",
    "    \n",
    "    species_dict = {}\n",
    "\n",
    "    name_list = []\n",
    "    r_list = []\n",
    "    xyz_list = []\n",
    "\n",
    "    for i in range(n_batch):\n",
    "        batch = graph_data.batches[i]\n",
    "\n",
    "        xyz_list += list( torch.split(batch.data[\"xyz\"], batch.data[\"N\"]) )\n",
    "        r_list += list(torch.split(batch.data[\"r\"], batch.data[\"N\"]))\n",
    "        name_list += batch.data[\"name\"]\n",
    "\n",
    "    for index, geom in enumerate(xyz_list):\n",
    "        if name_list[index] not in species_dict:\n",
    "            species_dict[name_list[index]] = [index]\n",
    "        else:\n",
    "            species_dict[name_list[index]].append(index)\n",
    "    \n",
    "    return species_dict, r_list, xyz_list"
   ]
  },
  {
   "cell_type": "code",
   "execution_count": 73,
   "metadata": {},
   "outputs": [],
   "source": [
    "species_dict, r_list, xyz_list = parse_species_geom(3, graph_data)"
   ]
  },
  {
   "cell_type": "code",
   "execution_count": 74,
   "metadata": {},
   "outputs": [],
   "source": [
    "for species in species_dict:\n",
    "    \n",
    "    index = np.random.choice(species_dict[species])\n",
    "    \n",
    "    xyz = xyz_list[index]\n",
    "    r = r_list[index][:, 0]"
   ]
  },
  {
   "cell_type": "code",
   "execution_count": 94,
   "metadata": {},
   "outputs": [],
   "source": [
    "data = pickle.load(open('/home/wwj/data/lipoly/COCCOC.[Li+]_neural.pkl', \"rb\" ) )\n",
    "\n",
    "xyz_data = []\n",
    "force_data = []\n",
    "energy_data = []\n",
    "smiles_data = []\n",
    "\n",
    "for item in data:\n",
    "    xyz_data.append(item[0]) \n",
    "    force_data.append(item[1])\n",
    "    energy_data.append(item[2])\n",
    "    smiles_data.append(item[3])"
   ]
  },
  {
   "cell_type": "code",
   "execution_count": 95,
   "metadata": {},
   "outputs": [
    {
     "data": {
      "image/png": "[encoded data removed]",
      "text/plain": [
       "<Figure size 432x288 with 1 Axes>"
      ]
     },
     "metadata": {
      "needs_background": "light"
     },
     "output_type": "display_data"
    }
   ],
   "source": [
    "plt.hist(np.array(energy_data) * 627.509, bins = 40)\n",
    "plt.show()"
   ]
  },
  {
   "cell_type": "code",
   "execution_count": 84,
   "metadata": {},
   "outputs": [
    {
     "data": {
      "image/png": "[encoded data removed]",
      "text/plain": [
       "<Figure size 432x288 with 1 Axes>"
      ]
     },
     "metadata": {
      "needs_background": "light"
     },
     "output_type": "display_data"
    }
   ],
   "source": [
    "data = pickle.load(open('/home/wwj/data/lipoly/COCCOC.[Li+]_NMS.pkl', \"rb\" ) )\n",
    "\n",
    "xyz_data = []\n",
    "force_data = []\n",
    "energy_data = []\n",
    "smiles_data = []\n",
    "\n",
    "for item in data:\n",
    "    xyz_data.append(item[0]) \n",
    "    force_data.append(item[1])\n",
    "    energy_data.append(item[2])\n",
    "    smiles_data.append(item[3])\n",
    "    \n",
    "plt.hist(np.array(energy_data) * 627.509, bins = 40)\n",
    "plt.show()"
   ]
  },
  {
   "cell_type": "code",
   "execution_count": 90,
   "metadata": {},
   "outputs": [],
   "source": [
    "cluster_energy = []\n",
    "\n",
    "for i, xyz in enumerate(xyz_data):\n",
    "    if len(xyz) == 17:\n",
    "        cluster_energy.append(energy_data[i])"
   ]
  },
  {
   "cell_type": "code",
   "execution_count": 108,
   "metadata": {},
   "outputs": [
    {
     "data": {
      "image/png": "[encoded data removed]",
      "text/plain": [
       "<Figure size 432x288 with 1 Axes>"
      ]
     },
     "metadata": {
      "needs_background": "light"
     },
     "output_type": "display_data"
    }
   ],
   "source": [
    "plt.hist(np.array(cluster_energy) * 627.509, bins =40)\n",
    "plt.xlim(-45, 40)\n",
    "#plt.hist(np.array(energy_data) * 627.509, bins = 100)\n",
    "plt.title(\"Hessian sampled\")\n",
    "plt.xlabel(\"energy\")\n",
    "plt.show()"
   ]
  },
  {
   "cell_type": "code",
   "execution_count": 107,
   "metadata": {},
   "outputs": [
    {
     "data": {
      "image/png": "[encoded data removed]",
      "text/plain": [
       "<Figure size 432x288 with 1 Axes>"
      ]
     },
     "metadata": {
      "needs_background": "light"
     },
     "output_type": "display_data"
    }
   ],
   "source": [
    "plt.hist(np.array(energy_data) * 627.509, bins = 40)\n",
    "plt.xlim(-45, 40)\n",
    "plt.title(\"Nueral Nets sampled\")\n",
    "plt.xlabel(\"energy\")\n",
    "plt.show()"
   ]
  },
  {
   "cell_type": "code",
   "execution_count": null,
   "metadata": {},
   "outputs": [],
   "source": []
  }
 ],
 "metadata": {
  "kernelspec": {
   "display_name": "Python [conda env:MLMD]",
   "language": "python",
   "name": "conda-env-MLMD-py"
  },
  "language_info": {
   "codemirror_mode": {
    "name": "ipython",
    "version": 3
   },
   "file_extension": ".py",
   "mimetype": "text/x-python",
   "name": "python",
   "nbconvert_exporter": "python",
   "pygments_lexer": "ipython3",
   "version": "3.5.6"
  }
 },
 "nbformat": 4,
 "nbformat_minor": 2
}
