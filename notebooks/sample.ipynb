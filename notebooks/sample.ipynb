{
 "cells": [
  {
   "cell_type": "code",
   "execution_count": 1,
   "metadata": {},
   "outputs": [],
   "source": [
    "from dev.NeuralForceField.train import *\n",
    "import numpy as np\n",
    "from sklearn.utils import shuffle\n",
    "from dev.NeuralForceField.graphs import * \n",
    "import json"
   ]
  },
  {
   "cell_type": "code",
   "execution_count": 2,
   "metadata": {},
   "outputs": [],
   "source": [
    "# ethanol data \n",
    "train = np.load('/home/wwj/data/ethanol_ccsd_t-train.npz')\n",
    "xyz_data = np.dstack((np.array([train.f.z]*1000).reshape(1000, -1, 1), np.array(train.f.R)))\n",
    "force_data = train.f.F\n",
    "energy_data = train.f.E.squeeze() - train.f.E.mean()\n",
    "smiles_data = [\"COC\"] * 1000"
   ]
  },
  {
   "cell_type": "code",
   "execution_count": 3,
   "metadata": {},
   "outputs": [
    {
     "name": "stdout",
     "output_type": "stream",
     "text": [
      "Finished Batching 10 Batches\n"
     ]
    }
   ],
   "source": [
    "# initialize parameters\n",
    "par = dict()\n",
    "\n",
    "par[\"git_commit\"] = \"9129a434b318ab26ee890281f531f304fb499ca7\"\n",
    "par[\"model_type\"] = \"schnet\"\n",
    "par[\"n_filters\"] = 256\n",
    "par[\"n_gaussians\"] = 32\n",
    "par[\"n_atom_basis\"] = 256\n",
    "par[\"optim\"] = 1e-4\n",
    "par[\"scheduler\"] = True\n",
    "par[\"train_percentage\"] = 0.8\n",
    "par[\"T\"] = 10\n",
    "par[\"batch_size\"] = 100\n",
    "par[\"cutoff\"] = 5.0 \n",
    "par[\"max_epoch\"] = 1000\n",
    "par[\"trainable_gauss\"] = True\n",
    "par[\"rho\"] = 0.1\n",
    "par[\"eps\"] = 1e-1\n",
    "\n",
    "graph_data = load_graph_data(xyz_data=xyz_data, energy_data=energy_data, smiles_data=smiles_data,\n",
    "                             batch_size=par[\"batch_size\"], cutoff=par[\"cutoff\"], \n",
    "                             force_data=force_data, au_flag=False)"
   ]
  },
  {
   "cell_type": "code",
   "execution_count": 4,
   "metadata": {},
   "outputs": [
    {
     "name": "stdout",
     "output_type": "stream",
     "text": [
      "need to load a pre-trained model\n",
      "loading models from./log/test_0326//model.pt\n",
      "step 0\n",
      "Energy per atom: Epot = -8.658kcal/mol  Ekin = 23.533kcal/mol (T=877K)  Etot = 14.875kcal/mol\n",
      "step 20\n",
      "Energy per atom: Epot = -10.944kcal/mol  Ekin = 28.099kcal/mol (T=1047K)  Etot = 17.156kcal/mol\n"
     ]
    }
   ],
   "source": [
    "model = Model(par=par, device=0, job_name=\"test\", train_flag=False, root='./log/')\n",
    "model.load_model(\"./log/test_0326//model.pt\")\n",
    "\n",
    "# get species \n",
    "species = smiles_data[0]\n",
    "xyz = np.array(xyz_data[0][:, 1:4])\n",
    "r = np.array(xyz_data[0][:, 0])\n",
    "traj = NVE(species=species, xyz=xyz, r=r, model=model.model, device=0, dir_loc=\"./log/test_0314/\", steps=50)"
   ]
  },
  {
   "cell_type": "code",
   "execution_count": null,
   "metadata": {},
   "outputs": [],
   "source": []
  }
 ],
 "metadata": {
  "kernelspec": {
   "display_name": "Python [conda env:MLMD]",
   "language": "python",
   "name": "conda-env-MLMD-py"
  },
  "language_info": {
   "codemirror_mode": {
    "name": "ipython",
    "version": 3
   },
   "file_extension": ".py",
   "mimetype": "text/x-python",
   "name": "python",
   "nbconvert_exporter": "python",
   "pygments_lexer": "ipython3",
   "version": "3.5.6"
  }
 },
 "nbformat": 4,
 "nbformat_minor": 2
}
