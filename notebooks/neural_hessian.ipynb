{
 "cells": [
  {
   "cell_type": "code",
   "execution_count": 1,
   "metadata": {},
   "outputs": [],
   "source": [
    "import math\n",
    "import torch\n",
    "from torch.autograd.gradcheck import zero_gradients\n",
    "from torch.autograd import grad\n",
    "\n",
    "from projects.NeuralForceField.train import *\n",
    "from projects.NeuralForceField.graphs import * \n",
    "from projects.NeuralForceField.tensorgrad import *\n",
    "\n",
    "import numpy as np"
   ]
  },
  {
   "cell_type": "code",
   "execution_count": 2,
   "metadata": {},
   "outputs": [],
   "source": [
    "# ethanol data \n",
    "train = np.load('/home/wwj/data/ethanol_ccsd_t-train.npz')\n",
    "xyz_data = np.dstack((np.array([train.f.z]*1000).reshape(1000, -1, 1), np.array(train.f.R)))\n",
    "force_data = train.f.F\n",
    "energy_data = train.f.E.squeeze()\n",
    "\n",
    "graph_data = load_graph_data(xyz_data=xyz_data, energy_data=energy_data, batch_size=2, cutoff=5.0,\n",
    "                             force_data=force_data, au_flag=False, subtract_mean_flag = True)"
   ]
  },
  {
   "cell_type": "code",
   "execution_count": 3,
   "metadata": {},
   "outputs": [],
   "source": [
    "# initialize parameters\n",
    "par = dict()\n",
    "\n",
    "par[\"n_filters\"] = 256\n",
    "par[\"n_gaussians\"] = 32\n",
    "par[\"n_atom_basis\"] = 256\n",
    "par[\"optim\"] = 1e-4\n",
    "par[\"scheduler\"] = True\n",
    "par[\"train_percentage\"] = 0.8\n",
    "par[\"T\"] = 10\n",
    "par[\"batch_size\"] = 2\n",
    "par[\"cutoff\"] = 5.0 \n",
    "par[\"max_epoch\"] = 1000\n",
    "par[\"trainable_gauss\"] = True\n",
    "par[\"rho\"] = 0.1\n",
    "par[\"eps\"] = 1e-5"
   ]
  },
  {
   "cell_type": "code",
   "execution_count": 4,
   "metadata": {},
   "outputs": [],
   "source": [
    "model = Model(par=par, graph_data=graph_data, device=3, job_name=\"hessian_test\", graph_batching=False, root='./log/')"
   ]
  },
  {
   "cell_type": "code",
   "execution_count": 6,
   "metadata": {},
   "outputs": [],
   "source": [
    "xyz, a, r, f, u, N = model.parse_batch(1)\n",
    "xyz = xyz.reshape(-1, 9 ,3)\n",
    "r = r.reshape(-1, 9)\n",
    "\n",
    "# compute neural network hessian\n",
    "hess = Neural_hess(xyz=xyz, r=r, model=model.model, device=3)"
   ]
  },
  {
   "cell_type": "code",
   "execution_count": 7,
   "metadata": {},
   "outputs": [
    {
     "ename": "RuntimeError",
     "evalue": "invalid argument 3: A should be (non-empty) 2 dimensional at /opt/conda/conda-bld/pytorch_1535490206202/work/aten/src/THC/generic/THCTensorMathMagma.cu:246",
     "output_type": "error",
     "traceback": [
      "\u001b[0;31m---------------------------------------------------------------------------\u001b[0m",
      "\u001b[0;31mRuntimeError\u001b[0m                              Traceback (most recent call last)",
      "\u001b[0;32m<ipython-input-7-c7e87f58a1ef>\u001b[0m in \u001b[0;36m<module>\u001b[0;34m()\u001b[0m\n\u001b[0;32m----> 1\u001b[0;31m \u001b[0mtorch\u001b[0m\u001b[0;34m.\u001b[0m\u001b[0meig\u001b[0m\u001b[0;34m(\u001b[0m\u001b[0mhess\u001b[0m\u001b[0;34m)\u001b[0m\u001b[0;34m\u001b[0m\u001b[0m\n\u001b[0m",
      "\u001b[0;31mRuntimeError\u001b[0m: invalid argument 3: A should be (non-empty) 2 dimensional at /opt/conda/conda-bld/pytorch_1535490206202/work/aten/src/THC/generic/THCTensorMathMagma.cu:246"
     ]
    }
   ],
   "source": [
    "torch.eig(hess)"
   ]
  },
  {
   "cell_type": "code",
   "execution_count": 8,
   "metadata": {},
   "outputs": [
    {
     "data": {
      "text/plain": [
       "torch.Size([2, 27, 27])"
      ]
     },
     "execution_count": 8,
     "metadata": {},
     "output_type": "execute_result"
    }
   ],
   "source": [
    "hess.shape"
   ]
  },
  {
   "cell_type": "code",
   "execution_count": 10,
   "metadata": {},
   "outputs": [
    {
     "data": {
      "text/plain": [
       "(tensor([[-76.1882,   0.0000],\n",
       "         [ 57.1081,   0.0000],\n",
       "         [-54.1098,   0.0000],\n",
       "         [ 41.8741,   0.0000],\n",
       "         [-43.8381,   0.0000],\n",
       "         [ 29.2810,   0.0000],\n",
       "         [ 33.3801,   0.0000],\n",
       "         [ 32.9945,   0.0000],\n",
       "         [-28.9078,   0.0000],\n",
       "         [-25.3484,   0.0000],\n",
       "         [ 21.9584,   0.0000],\n",
       "         [-20.4256,   0.0000],\n",
       "         [ 14.0442,   0.0000],\n",
       "         [ 10.9138,   0.0000],\n",
       "         [-12.0176,   0.0000],\n",
       "         [-10.5882,   0.0000],\n",
       "         [  5.6840,   0.0000],\n",
       "         [  5.4874,   0.0000],\n",
       "         [ -2.4246,   0.0000],\n",
       "         [  2.2946,   0.0000],\n",
       "         [  1.8927,   0.0000],\n",
       "         [ -0.8512,   0.0000],\n",
       "         [  0.6206,   0.0000],\n",
       "         [  0.1933,   0.0000],\n",
       "         [ -0.0000,   0.0000],\n",
       "         [ -0.0000,  -0.0000],\n",
       "         [  0.0000,   0.0000]], device='cuda:3'), tensor([], device='cuda:3'))"
      ]
     },
     "execution_count": 10,
     "metadata": {},
     "output_type": "execute_result"
    }
   ],
   "source": [
    "torch.eig(hess[0], eigenvectors=False, out=None)"
   ]
  },
  {
   "cell_type": "code",
   "execution_count": null,
   "metadata": {},
   "outputs": [],
   "source": []
  }
 ],
 "metadata": {
  "kernelspec": {
   "display_name": "Python [conda env:MLMD]",
   "language": "python",
   "name": "conda-env-MLMD-py"
  },
  "language_info": {
   "codemirror_mode": {
    "name": "ipython",
    "version": 3
   },
   "file_extension": ".py",
   "mimetype": "text/x-python",
   "name": "python",
   "nbconvert_exporter": "python",
   "pygments_lexer": "ipython3",
   "version": "3.5.6"
  }
 },
 "nbformat": 4,
 "nbformat_minor": 2
}
