{
 "cells": [
  {
   "cell_type": "code",
   "execution_count": 1,
   "metadata": {},
   "outputs": [],
   "source": [
    "import math\n",
    "import torch\n",
    "from torch.autograd.gradcheck import zero_gradients\n",
    "from torch.autograd import grad\n",
    "\n",
    "from projects.NeuralForceField.train import *\n",
    "from projects.NeuralForceField.graphs import * \n",
    "from projects.NeuralForceField.tensorgrad import *\n",
    "\n",
    "import numpy as np"
   ]
  },
  {
   "cell_type": "code",
   "execution_count": 2,
   "metadata": {},
   "outputs": [],
   "source": [
    "# ethanol data \n",
    "train = np.load('/home/wwj/data/ethanol_ccsd_t-train.npz')\n",
    "xyz_data = np.dstack((np.array([train.f.z]*1000).reshape(1000, -1, 1), np.array(train.f.R)))\n",
    "force_data = train.f.F\n",
    "energy_data = train.f.E.squeeze()\n",
    "\n",
    "graph_data = load_graph_data(xyz_data=xyz_data, energy_data=energy_data, batch_size=2, cutoff=5.0,\n",
    "                             force_data=force_data, au_flag=False, subtract_mean_flag = True)"
   ]
  },
  {
   "cell_type": "code",
   "execution_count": 3,
   "metadata": {},
   "outputs": [],
   "source": [
    "# initialize parameters\n",
    "par = dict()\n",
    "\n",
    "par[\"n_filters\"] = 256\n",
    "par[\"n_gaussians\"] = 32\n",
    "par[\"n_atom_basis\"] = 256\n",
    "par[\"optim\"] = 1e-4\n",
    "par[\"scheduler\"] = True\n",
    "par[\"train_percentage\"] = 0.8\n",
    "par[\"T\"] = 10\n",
    "par[\"batch_size\"] = 2\n",
    "par[\"cutoff\"] = 5.0 \n",
    "par[\"max_epoch\"] = 1000\n",
    "par[\"trainable_gauss\"] = True\n",
    "par[\"rho\"] = 0.1\n",
    "par[\"eps\"] = 1e-5"
   ]
  },
  {
   "cell_type": "code",
   "execution_count": 4,
   "metadata": {},
   "outputs": [],
   "source": [
    "model = Model(par=par, graph_data=graph_data, device=3, job_name=\"hessian_test\", graph_batching=False, root='./log/')"
   ]
  },
  {
   "cell_type": "code",
   "execution_count": 5,
   "metadata": {},
   "outputs": [
    {
     "data": {
      "text/plain": [
       "tensor([[[ 30.5576,  -7.3615,  -1.7901,  ...,  11.0745,  -0.4226,   1.5851],\n",
       "         [ -7.3615,  10.0585,   2.2802,  ...,   0.2150,   2.2880,   0.0945],\n",
       "         [ -1.7901,   2.2802,  -8.6448,  ...,   1.5633,   0.1467,   2.0002],\n",
       "         ...,\n",
       "         [ 11.0745,   0.2150,   1.5633,  ..., -20.3048,   9.0847,  -8.3442],\n",
       "         [ -0.4226,   2.2880,   0.1467,  ...,   9.0847,  -3.2379,  -2.6050],\n",
       "         [  1.5851,   0.0945,   2.0002,  ...,  -8.3442,  -2.6050,  -5.4760]],\n",
       "\n",
       "        [[ 17.6158, -10.8864,   9.7178,  ...,  15.4629,   6.6377,  -8.6067],\n",
       "         [-10.8864,   7.7233,   3.4968,  ...,   6.8723,   3.0124,  -3.9666],\n",
       "         [  9.7178,   3.4968, -14.1441,  ...,  -8.7672,  -4.1231,   4.9059],\n",
       "         ...,\n",
       "         [ 15.4629,   6.8723,  -8.7672,  ...,  11.4558,  -8.5331,   2.4387],\n",
       "         [  6.6377,   3.0124,  -4.1231,  ...,  -8.5331,  -7.4124,   2.3447],\n",
       "         [ -8.6067,  -3.9666,   4.9059,  ...,   2.4387,   2.3447,  -7.7900]]],\n",
       "       device='cuda:3')"
      ]
     },
     "execution_count": 5,
     "metadata": {},
     "output_type": "execute_result"
    }
   ],
   "source": [
    "xyz, a, r, f, u, N = model.parse_batch(1)\n",
    "xyz = xyz.reshape(-1, 9 ,3)\n",
    "r = r.reshape(-1, 9)\n",
    "\n",
    "# compute neural network hessian\n",
    "Neural_hess(xyz=xyz, r=r, model=model.model, device=3)"
   ]
  },
  {
   "cell_type": "code",
   "execution_count": null,
   "metadata": {},
   "outputs": [],
   "source": []
  }
 ],
 "metadata": {
  "kernelspec": {
   "display_name": "Python [conda env:MLMD]",
   "language": "python",
   "name": "conda-env-MLMD-py"
  },
  "language_info": {
   "codemirror_mode": {
    "name": "ipython",
    "version": 3
   },
   "file_extension": ".py",
   "mimetype": "text/x-python",
   "name": "python",
   "nbconvert_exporter": "python",
   "pygments_lexer": "ipython3",
   "version": "3.5.6"
  }
 },
 "nbformat": 4,
 "nbformat_minor": 2
}
